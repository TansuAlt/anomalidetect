{
 "cells": [
  {
   "cell_type": "code",
   "execution_count": 1,
   "id": "9e1d8eb6-2e54-4c38-bb62-cd892c3c6075",
   "metadata": {},
   "outputs": [],
   "source": [
    "import os\n",
    "import numpy as np\n",
    "import matplotlib.pyplot as plt\n",
    "from PIL import Image\n",
    "import random\n",
    "from tqdm import tqdm\n",
    "import tensorflow as tf\n",
    "from tensorflow.keras.layers import Input, Conv2D, MaxPooling2D, UpSampling2D\n",
    "from tensorflow.keras.models import Model, load_model\n",
    "from tensorflow.keras.callbacks import ModelCheckpoint, EarlyStopping\n",
    "from sklearn.metrics import precision_recall_fscore_support, roc_curve, auc, confusion_matrix\n",
    "import time"
   ]
  },
  {
   "cell_type": "code",
   "execution_count": 3,
   "id": "0b702aa3-d367-4855-9c79-e6495623bd82",
   "metadata": {},
   "outputs": [
    {
     "name": "stdout",
     "output_type": "stream",
     "text": [
      "TensorFlow Sürümü: 2.18.0\n"
     ]
    }
   ],
   "source": [
    "# TensorFlow sürümünü yazdır\n",
    "print(f\"TensorFlow Sürümü: {tf.__version__}\")"
   ]
  },
  {
   "cell_type": "code",
   "execution_count": 5,
   "id": "ba758492-0483-4ffc-82c6-6e2d66a2ef62",
   "metadata": {},
   "outputs": [],
   "source": [
    "# TensorFlow hafıza yönetimi\n",
    "gpus = tf.config.experimental.list_physical_devices('GPU')\n",
    "if gpus:\n",
    "    try:\n",
    "        for gpu in gpus:\n",
    "            tf.config.experimental.set_memory_growth(gpu, True)\n",
    "    except RuntimeError as e:\n",
    "        print(e)\n"
   ]
  },
  {
   "cell_type": "code",
   "execution_count": 7,
   "id": "c87cbda6-6f90-4f6a-9668-1f4300376354",
   "metadata": {},
   "outputs": [],
   "source": [
    "# Sabit parametreler\n",
    "IMG_SIZE = 128\n",
    "BATCH_SIZE = 32\n",
    "EPOCHS = 20  # Epoch sayısını azalttık, daha hızlı eğitim için\n",
    "PATIENCE = 5  # Erken durdurma için sabır parametresi"
   ]
  },
  {
   "cell_type": "code",
   "execution_count": 9,
   "id": "ea320091-6e85-4d22-9d34-63167d5a324b",
   "metadata": {},
   "outputs": [],
   "source": [
    "# Veri seti seçimi ve yollarını güncelleme\n",
    "# MVTec veri seti yolu\n",
    "MVTEC_DIR = r\"C:\\Users\\Tansu\\OneDrive\\Masaüstü\\mvtec\"  # MVTec veri seti yolu - kendi yolunuzu belirtin\n",
    "#\"C:\\Users\\Tansu\\OneDrive\\Masaüstü\\mvtec\""
   ]
  },
  {
   "cell_type": "code",
   "execution_count": 11,
   "id": "95d01c83-70b9-46b5-a695-49a994f0d1d3",
   "metadata": {},
   "outputs": [],
   "source": [
    "# VisA veri seti yolu - kendi yolunuzu belirtin\n",
    "VISA_DIR = r\"C:\\Users\\Tansu\\OneDrive\\Masaüstü\\visa\"  # VisA veri seti yolu - kendi yolunuzu belirtin\n",
    "#\"C:\\Users\\Tansu\\OneDrive\\Masaüstü\\visa\""
   ]
  },
  {
   "cell_type": "code",
   "execution_count": 13,
   "id": "d1154483-a168-4b25-ad12-8542184f66c5",
   "metadata": {},
   "outputs": [],
   "source": [
    "# Sonuçları saklamak için dizin\n",
    "RESULTS_DIR = \"anomaly_detection_results\"\n",
    "os.makedirs(RESULTS_DIR, exist_ok=True)"
   ]
  },
  {
   "cell_type": "code",
   "execution_count": 15,
   "id": "ffddc7aa-8bcf-48fb-a611-b15e602afa6d",
   "metadata": {},
   "outputs": [],
   "source": [
    "# Veri setleri ve kategorileri\n",
    "MVTEC_CATEGORIES = [\"hazelnut\", \"screw\", \"pill\", \"toothbrush\", \"bottle\", \"cable\", \"capsule\", \"carpet\", \"grid\", \"tile\", \"wood\"]\n",
    "VISA_CATEGORIES = [\"candle\", \"capsules\", \"cashew\", \"chewinggum\", \"fryum\", \"macaroni1\", \"macaroni2\", \"pcb1\", \"pcb2\", \"pcb3\", \"pipe_fryum\"]"
   ]
  },
  {
   "cell_type": "code",
   "execution_count": 17,
   "id": "9cd51332-e121-43e9-9f12-d66acaba1bdb",
   "metadata": {},
   "outputs": [],
   "source": [
    "# Hangi veri setlerini kullanacağız\n",
    "USE_MVTEC = True  # MVTec veri setini kullan\n",
    "USE_VISA = True   # VisA veri setini kullan"
   ]
  },
  {
   "cell_type": "code",
   "execution_count": 19,
   "id": "efaf9b14-5b37-4c45-93e2-1388a0074636",
   "metadata": {},
   "outputs": [],
   "source": [
    "# Görüntüyü yükleyen yardımcı fonksiyon - PIL kullanıyor\n",
    "def load_image(file_path, target_size=(IMG_SIZE, IMG_SIZE)):\n",
    "    \"\"\"PIL kullanarak görüntüyü yükler ve numpy dizisine dönüştürür\"\"\"\n",
    "    try:\n",
    "        # Görüntüyü PIL ile yükle\n",
    "        img = Image.open(file_path)\n",
    "        # Gri tonlamaya dönüştür\n",
    "        img = img.convert('L')\n",
    "        # Yeniden boyutlandır\n",
    "        img = img.resize(target_size)\n",
    "        # Numpy dizisine dönüştür\n",
    "        img_array = np.array(img)\n",
    "        return img_array\n",
    "    except Exception as e:\n",
    "        print(f\"UYARI: Görüntü yüklenemedi '{file_path}': {e}\")\n",
    "        return None"
   ]
  },
  {
   "cell_type": "code",
   "execution_count": 21,
   "id": "4bf8f89d-5e1c-46af-8d16-d98ef81dd68d",
   "metadata": {},
   "outputs": [],
   "source": [
    "# MVTec Veri Seti için veri yükleme fonksiyonları\n",
    "def load_mvtec_data(data_dir, category, img_size=IMG_SIZE):\n",
    "    \"\"\"MVTec veri setinden belirli bir kategorideki görüntüleri yükler\"\"\"\n",
    "    train_dir = os.path.join(data_dir, category, \"train\")\n",
    "    test_dir = os.path.join(data_dir, category, \"test\")\n",
    "    \n",
    "    print(f\"Eğitim dizini: {train_dir}\")\n",
    "    print(f\"Test dizini: {test_dir}\")\n",
    "    \n",
    "    # Dizinlerin varlığını kontrol et\n",
    "    if not os.path.exists(train_dir):\n",
    "        raise FileNotFoundError(f\"Eğitim dizini bulunamadı: {train_dir}\")\n",
    "    if not os.path.exists(test_dir):\n",
    "        raise FileNotFoundError(f\"Test dizini bulunamadı: {test_dir}\")\n",
    "    \n",
    "    # Eğitim verilerini yükle (sadece normal örnekler)\n",
    "    train_good_dir = os.path.join(train_dir, \"good\")\n",
    "    \n",
    "    if not os.path.exists(train_good_dir):\n",
    "        raise FileNotFoundError(f\"Eğitim 'good' dizini bulunamadı: {train_good_dir}\")\n",
    "    \n",
    "    print(f\"Eğitim 'good' dizini: {train_good_dir}\")\n",
    "    print(f\"Eğitim 'good' dizinindeki dosya sayısı: {len(os.listdir(train_good_dir))}\")\n",
    "    \n",
    "    train_images = []\n",
    "    for img_name in tqdm(os.listdir(train_good_dir), desc=f\"{category}: Eğitim verilerini yükleme\"):\n",
    "        img_path = os.path.join(train_good_dir, img_name)\n",
    "        img = load_image(img_path)\n",
    "        if img is not None:\n",
    "            train_images.append(img)\n",
    "    \n",
    "    # Test verilerini ve etiketleri yükle\n",
    "    test_images = []\n",
    "    test_labels = []  # 0: normal, 1: anomali\n",
    "    test_paths = []  # Dosya yollarını saklamak için\n",
    "    test_types = []  # Kusur tiplerini saklamak için\n",
    "    \n",
    "    # Normal test örnekleri\n",
    "    normal_test_dir = os.path.join(test_dir, \"good\")\n",
    "    if os.path.exists(normal_test_dir):\n",
    "        print(f\"Test 'good' dizini: {normal_test_dir}\")\n",
    "        print(f\"Test 'good' dizinindeki dosya sayısı: {len(os.listdir(normal_test_dir))}\")\n",
    "        \n",
    "        for img_name in tqdm(os.listdir(normal_test_dir), desc=f\"{category}: Normal test verilerini yükleme\"):\n",
    "            img_path = os.path.join(normal_test_dir, img_name)\n",
    "            img = load_image(img_path)\n",
    "            if img is not None:\n",
    "                test_images.append(img)\n",
    "                test_labels.append(0)  # Normal örnek\n",
    "                test_paths.append(img_path)\n",
    "                test_types.append(\"good\")\n",
    "    else:\n",
    "        print(f\"UYARI: Normal test dizini bulunamadı: {normal_test_dir}\")\n",
    "    \n",
    "    # Anomali test örnekleri\n",
    "    defect_types = [d for d in os.listdir(test_dir) if os.path.isdir(os.path.join(test_dir, d)) and d != \"good\"]\n",
    "    print(f\"Tespit edilen kusur tipleri: {defect_types}\")\n",
    "    \n",
    "    for defect_type in defect_types:\n",
    "        defect_dir = os.path.join(test_dir, defect_type)\n",
    "        if os.path.isdir(defect_dir):\n",
    "            print(f\"Kusur dizini: {defect_dir}\")\n",
    "            print(f\"Kusur dizinindeki dosya sayısı: {len(os.listdir(defect_dir))}\")\n",
    "            \n",
    "            for img_name in tqdm(os.listdir(defect_dir), desc=f\"{category}: {defect_type} verilerini yükleme\"):\n",
    "                img_path = os.path.join(defect_dir, img_name)\n",
    "                img = load_image(img_path)\n",
    "                if img is not None:\n",
    "                    test_images.append(img)\n",
    "                    test_labels.append(1)  # Anomali örneği\n",
    "                    test_paths.append(img_path)\n",
    "                    test_types.append(defect_type)\n",
    "\n",
    "    # Eğer görüntü yoksa uyarı ver\n",
    "    if len(train_images) == 0:\n",
    "        print(\"UYARI: Hiçbir eğitim görüntüsü yüklenemedi!\")\n",
    "        return [], [], [], [], []\n",
    "        \n",
    "    if len(test_images) == 0:\n",
    "        print(\"UYARI: Hiçbir test görüntüsü yüklenemedi!\")\n",
    "        return np.array(train_images), [], [], [], []\n",
    "    \n",
    "    # NumPy dizilerine dönüştür\n",
    "    train_images = np.array(train_images)\n",
    "    test_images = np.array(test_images)\n",
    "    test_labels = np.array(test_labels)\n",
    "    \n",
    "    # Veri şekillerini yazdır\n",
    "    print(f\"Eğitim veriseti: {train_images.shape} - Min: {train_images.min()}, Max: {train_images.max()}\")\n",
    "    print(f\"Test veriseti: {test_images.shape} - Min: {test_images.min()}, Max: {test_images.max()}\")\n",
    "    print(f\"Test etiketleri: {test_labels.shape}\")\n",
    "    print(f\"Anomali sayısı: {np.sum(test_labels == 1)}\")\n",
    "    print(f\"Normal test örneği sayısı: {np.sum(test_labels == 0)}\")\n",
    "    \n",
    "    return train_images, test_images, test_labels, test_paths, test_types\n"
   ]
  },
  {
   "cell_type": "code",
   "execution_count": 23,
   "id": "d81a65c0-edc0-4dec-b57f-11ca50450448",
   "metadata": {},
   "outputs": [],
   "source": [
    "def load_visa_data(data_dir, category, img_size=IMG_SIZE):\n",
    "    \"\"\"\n",
    "    VisA veri setinden belirli bir kategorideki görüntüleri yükler\n",
    "    Dizin yapısı:\n",
    "    - category/\n",
    "      - data/\n",
    "        - images/\n",
    "          - normal/\n",
    "          - anomaly/\n",
    "    \"\"\"\n",
    "    # VisA veri seti için dizin yapısı\n",
    "    category_dir = os.path.join(data_dir, category)\n",
    "    images_dir = os.path.join(category_dir, \"data\", \"images\")\n",
    "    normal_dir = os.path.join(images_dir, \"normal\")\n",
    "    anomaly_dir = os.path.join(images_dir, \"anomaly\")\n",
    "    \n",
    "    print(f\"VisA kategori dizini: {category_dir}\")\n",
    "    print(f\"VisA görüntü dizini: {images_dir}\")\n",
    "    print(f\"VisA normal görüntü dizini: {normal_dir}\")\n",
    "    print(f\"VisA anomali görüntü dizini: {anomaly_dir}\")\n",
    "    \n",
    "    # Dizinlerin varlığını kontrol et\n",
    "    if not os.path.exists(category_dir):\n",
    "        raise FileNotFoundError(f\"VisA kategori dizini bulunamadı: {category_dir}\")\n",
    "    if not os.path.exists(images_dir):\n",
    "        raise FileNotFoundError(f\"VisA görüntü dizini bulunamadı: {images_dir}\")\n",
    "    if not os.path.exists(normal_dir):\n",
    "        raise FileNotFoundError(f\"VisA normal dizini bulunamadı: {normal_dir}\")\n",
    "    if not os.path.exists(anomaly_dir):\n",
    "        print(f\"UYARI: VisA anomali dizini bulunamadı: {anomaly_dir}\")\n",
    "    \n",
    "    # Normal görüntüleri yükle (eğitim için)\n",
    "    train_images = []\n",
    "    for img_name in tqdm(os.listdir(normal_dir), desc=f\"{category} (VisA): Normal görüntüleri yükleme\"):\n",
    "        if not img_name.lower().endswith(('.png', '.jpg', '.jpeg')):\n",
    "            continue\n",
    "        img_path = os.path.join(normal_dir, img_name)\n",
    "        img = load_image(img_path)\n",
    "        if img is not None:\n",
    "            train_images.append(img)\n",
    "    \n",
    "    if len(train_images) == 0:\n",
    "        print(f\"UYARI: VisA için hiçbir normal görüntü yüklenemedi!\")\n",
    "        return [], [], [], [], []\n",
    "    \n",
    "    # Normal ve anomali görüntülerini test setine ekle\n",
    "    # Tüm veriyi karıştır ve %70 eğitim, %30 test olacak şekilde ayır\n",
    "    test_images = []\n",
    "    test_labels = []\n",
    "    test_paths = []\n",
    "    test_types = []\n",
    "    \n",
    "    # Normal görüntülerin bir kısmını test setine ayır\n",
    "    np.random.shuffle(train_images)\n",
    "    test_size = int(len(train_images) * 0.3)\n",
    "    test_normal_images = train_images[-test_size:]\n",
    "    train_images = train_images[:-test_size]\n",
    "    \n",
    "    # Normal görüntüleri test setine ekle\n",
    "    for img in test_normal_images:\n",
    "        test_images.append(img)\n",
    "        test_labels.append(0)  # Normal\n",
    "        test_paths.append(\"\")\n",
    "        test_types.append(\"normal\")\n",
    "    \n",
    "    # Anomali görüntülerini yükle\n",
    "    if os.path.exists(anomaly_dir):\n",
    "        anomaly_images = []\n",
    "        for img_name in tqdm(os.listdir(anomaly_dir), desc=f\"{category} (VisA): Anomali görüntüleri yükleme\"):\n",
    "            if not img_name.lower().endswith(('.png', '.jpg', '.jpeg')):\n",
    "                continue\n",
    "            img_path = os.path.join(anomaly_dir, img_name)\n",
    "            img = load_image(img_path)\n",
    "            if img is not None:\n",
    "                test_images.append(img)\n",
    "                test_labels.append(1)  # Anomali\n",
    "                test_paths.append(img_path)\n",
    "                test_types.append(\"anomaly\")\n",
    "    else:\n",
    "        print(f\"UYARI: VisA anomali dizini bulunamadı, testler sadece normal örneklerle yapılacak.\")\n",
    "    \n",
    "    # NumPy dizilerine dönüştür\n",
    "    train_images = np.array(train_images)\n",
    "    test_images = np.array(test_images)\n",
    "    test_labels = np.array(test_labels)\n",
    "    \n",
    "    # Veri şekillerini yazdır\n",
    "    print(f\"VisA Eğitim veriseti: {train_images.shape} - Min: {train_images.min()}, Max: {train_images.max()}\")\n",
    "    print(f\"VisA Test veriseti: {test_images.shape} - Min: {test_images.min()}, Max: {test_images.max()}\")\n",
    "    print(f\"VisA Test etiketleri: {test_labels.shape}\")\n",
    "    print(f\"VisA Anomali sayısı: {np.sum(test_labels == 1)}\")\n",
    "    print(f\"VisA Normal test örneği sayısı: {np.sum(test_labels == 0)}\")\n",
    "    \n",
    "    return train_images, test_images, test_labels, test_paths, test_types\n"
   ]
  },
  {
   "cell_type": "code",
   "execution_count": 25,
   "id": "587081e5-7a21-4898-af15-45692486963d",
   "metadata": {},
   "outputs": [],
   "source": [
    "def preprocess_data(train_images, test_images):\n",
    "    \"\"\"Verileri normalleştirme ve eğitim için hazırlama\"\"\"\n",
    "    # Kanalı ekle (gri tonlamalı görüntüler)\n",
    "    train_images = np.expand_dims(train_images, axis=-1)\n",
    "    test_images = np.expand_dims(test_images, axis=-1)\n",
    "    \n",
    "    # Verileri [0,1] aralığına normalleştir\n",
    "    train_images = train_images.astype('float32') / 255.0\n",
    "    test_images = test_images.astype('float32') / 255.0\n",
    "    \n",
    "    return train_images, test_images"
   ]
  },
  {
   "cell_type": "code",
   "execution_count": 27,
   "id": "88d79183-b50b-4029-a375-fe7e5f418831",
   "metadata": {},
   "outputs": [],
   "source": [
    "def create_autoencoder(input_shape):\n",
    "    \"\"\"Autoencoder modeli oluşturma\"\"\"\n",
    "    # Model giriş boyutu\n",
    "    input_img = Input(shape=input_shape, name='input_layer')\n",
    "    \n",
    "    # Encoder\n",
    "    x = Conv2D(32, (3, 3), activation='relu', padding='same')(input_img)\n",
    "    x = MaxPooling2D((2, 2), padding='same')(x)  # 64x64\n",
    "    x = Conv2D(16, (3, 3), activation='relu', padding='same')(x)\n",
    "    x = MaxPooling2D((2, 2), padding='same')(x)  # 32x32\n",
    "    \n",
    "    # Decoder\n",
    "    x = Conv2D(16, (3, 3), activation='relu', padding='same')(x)\n",
    "    x = UpSampling2D((2, 2))(x)  # 64x64\n",
    "    x = Conv2D(32, (3, 3), activation='relu', padding='same')(x)\n",
    "    x = UpSampling2D((2, 2))(x)  # 128x128\n",
    "    decoded = Conv2D(1, (3, 3), activation='sigmoid', padding='same')(x)\n",
    "    \n",
    "    # Model oluşturma\n",
    "    autoencoder = Model(input_img, decoded)\n",
    "    autoencoder.compile(optimizer='adam', loss='mse')\n",
    "    \n",
    "    return autoencoder"
   ]
  },
  {
   "cell_type": "code",
   "execution_count": 29,
   "id": "f4869ead-28e7-4065-88a0-f6b84852dbcf",
   "metadata": {},
   "outputs": [],
   "source": [
    "def detect_anomalies(test_images, test_labels, model, threshold_percentile=95):\n",
    "    \"\"\"Test görüntülerinde anomali tespiti yapma\"\"\"\n",
    "    # Rekonstrüksiyon yapma\n",
    "    print(\"Rekonstrüksiyon başlatılıyor...\")\n",
    "    reconstructed = model.predict(test_images)\n",
    "    \n",
    "    # Rekonstrüksiyon hatası hesaplama (piksellerin karelerinin ortalaması)\n",
    "    mse = np.mean(np.square(test_images - reconstructed), axis=(1, 2, 3))\n",
    "    \n",
    "    # Eşik değeri belirleme\n",
    "    threshold = np.percentile(mse, threshold_percentile)\n",
    "    print(f\"Anomali eşik değeri ({threshold_percentile}. yüzdelik): {threshold:.6f}\")\n",
    "    \n",
    "    # Anomali tahminleri\n",
    "    predictions = (mse > threshold).astype(int)\n",
    "    \n",
    "    # Tahmin sonuçlarını değerlendirme\n",
    "    accuracy = np.mean(predictions == test_labels)\n",
    "    precision, recall, f1, _ = precision_recall_fscore_support(test_labels, predictions, average='binary')\n",
    "    \n",
    "    # ROC eğrisi\n",
    "    fpr, tpr, _ = roc_curve(test_labels, mse)\n",
    "    roc_auc = auc(fpr, tpr)\n",
    "    \n",
    "    # Sonuçları yazdırma\n",
    "    print(f\"Doğruluk (Accuracy): {accuracy:.4f}\")\n",
    "    print(f\"Hassasiyet (Precision): {precision:.4f}\")\n",
    "    print(f\"Duyarlılık (Recall): {recall:.4f}\")\n",
    "    print(f\"F1 Skoru: {f1:.4f}\")\n",
    "    print(f\"ROC AUC: {roc_auc:.4f}\")\n",
    "    \n",
    "    return reconstructed, mse, predictions, threshold, accuracy, precision, recall, f1, roc_auc"
   ]
  },
  {
   "cell_type": "code",
   "execution_count": 31,
   "id": "7fc231d3-c723-4ccc-8907-dffe838419a0",
   "metadata": {},
   "outputs": [],
   "source": [
    "def visualize_reconstruction_results(test_images, test_labels, reconstructed, mse, predictions, threshold, \n",
    "                                     test_types, category, output_dir=RESULTS_DIR, num_samples=10, dataset_type=\"mvtec\"):\n",
    "    \"\"\"\n",
    "    Autoencoder modelinin rekonstrüksiyon sonuçlarını görselleştirir\n",
    "    \"\"\"\n",
    "    # Normal ve anomali örneklerini ayrı dizinlere ayır\n",
    "    normal_indices = np.where(test_labels == 0)[0]\n",
    "    anomaly_indices = np.where(test_labels == 1)[0]\n",
    "    \n",
    "    if len(normal_indices) == 0 or len(anomaly_indices) == 0:\n",
    "        print(f\"UYARI: {category} için yeterli normal veya anomali örneği bulunamadı.\")\n",
    "        return\n",
    "    \n",
    "    # Normal ve anomali örneklerinden rastgele seç\n",
    "    np.random.shuffle(normal_indices)\n",
    "    np.random.shuffle(anomaly_indices)\n",
    "    \n",
    "    # Kaç örnek gösterileceğini belirle\n",
    "    n_normal = min(num_samples // 2, len(normal_indices))\n",
    "    n_anomaly = min(num_samples - n_normal, len(anomaly_indices))\n",
    "    \n",
    "    # Örnekleri seç\n",
    "    selected_normal = normal_indices[:n_normal]\n",
    "    selected_anomaly = anomaly_indices[:n_anomaly]\n",
    "    \n",
    "    # Tüm seçilen örnekleri birleştir\n",
    "    selected_indices = np.concatenate([selected_normal, selected_anomaly])\n",
    "    np.random.shuffle(selected_indices)\n",
    "    \n",
    "    # Görselleştirme\n",
    "    n_samples = len(selected_indices)\n",
    "    fig, axes = plt.subplots(n_samples, 3, figsize=(12, n_samples * 4))\n",
    "    fig.suptitle(f\"{category} ({dataset_type}) - Orijinal, Rekonstrüksiyon ve Fark - Eşik: {threshold:.6f}\", fontsize=16)\n",
    "    \n",
    "    # Tek örnek durumu için\n",
    "    if n_samples == 1:\n",
    "        axes = np.array([axes])\n",
    "    \n",
    "    for i, idx in enumerate(selected_indices):\n",
    "        # Orijinal görüntü\n",
    "        axes[i, 0].imshow(test_images[idx].reshape(IMG_SIZE, IMG_SIZE), cmap='gray')\n",
    "        type_label = test_types[idx] if test_types and idx < len(test_types) else \"?\"\n",
    "        axes[i, 0].set_title(f\"Orijinal - {'Anomali: ' + type_label if test_labels[idx] else 'Normal'}\")\n",
    "        axes[i, 0].axis('off')\n",
    "        \n",
    "        # Rekonstrüksiyon\n",
    "        axes[i, 1].imshow(reconstructed[idx].reshape(IMG_SIZE, IMG_SIZE), cmap='gray')\n",
    "        axes[i, 1].set_title(f\"Rekonstrüksiyon - MSE: {mse[idx]:.6f}\")\n",
    "        axes[i, 1].axis('off')\n",
    "        \n",
    "        # Fark (mutlak)\n",
    "        diff = np.abs(test_images[idx] - reconstructed[idx]).reshape(IMG_SIZE, IMG_SIZE)\n",
    "        axes[i, 2].imshow(diff, cmap='hot', vmin=0, vmax=np.max(diff) if np.max(diff) > 0 else 1)\n",
    "        \n",
    "        # Modelin tahmini doğru mu?\n",
    "        is_correct = predictions[idx] == test_labels[idx]\n",
    "        result_color = \"green\" if is_correct else \"red\"\n",
    "        \n",
    "        axes[i, 2].set_title(f\"Fark - Tahmin: {'Anomali' if predictions[idx] else 'Normal'}\", \n",
    "                             color=result_color)\n",
    "        axes[i, 2].axis('off')\n",
    "    \n",
    "    plt.tight_layout()\n",
    "    plt.subplots_adjust(top=0.95)\n",
    "    output_path = os.path.join(output_dir, f\"{category}_{dataset_type}_reconstruction_results.png\")\n",
    "    plt.savefig(output_path, dpi=150, bbox_inches='tight')\n",
    "    plt.close()\n",
    "    \n",
    "    print(f\"Rekonstrüksiyon sonuçları kaydedildi: {output_path}\")\n",
    "\n",
    "def compare_normal_vs_anomaly(test_images, test_labels, reconstructed, mse, threshold, category, output_dir=RESULTS_DIR, dataset_type=\"mvtec\"):\n",
    "    \"\"\"Normal ve anomalili görüntülerin rekonstrüksiyon hatalarını karşılaştırır\"\"\"\n",
    "    \n",
    "    # Normal ve anomali örneklerini ayır\n",
    "    normal_mse = mse[test_labels == 0]\n",
    "    anomaly_mse = mse[test_labels == 1]\n",
    "    \n",
    "    if len(normal_mse) == 0 or len(anomaly_mse) == 0:\n",
    "        print(f\"UYARI: {category} için yeterli normal veya anomali MSE değeri bulunamadı.\")\n",
    "        return\n",
    "    \n",
    "    # İstatistiksel bilgiler\n",
    "    print(f\"Normal örnekler MSE - Min: {normal_mse.min():.6f}, Max: {normal_mse.max():.6f}, Ortalama: {normal_mse.mean():.6f}\")\n",
    "    print(f\"Anomali örnekler MSE - Min: {anomaly_mse.min():.6f}, Max: {anomaly_mse.max():.6f}, Ortalama: {anomaly_mse.mean():.6f}\")\n",
    "    \n",
    "    # Histogram karşılaştırması\n",
    "    plt.figure(figsize=(12, 6))\n",
    "    plt.hist(normal_mse, bins=30, alpha=0.5, label=\"Normal\", color=\"green\")\n",
    "    plt.hist(anomaly_mse, bins=30, alpha=0.5, label=\"Anomali\", color=\"red\")\n",
    "    plt.axvline(x=threshold, color='blue', linestyle='--', label=f\"Eşik ({threshold:.6f})\")\n",
    "    plt.title(f\"{category} ({dataset_type}) - Normal ve Anomali Örneklerinin Rekonstrüksiyon Hatası Dağılımı\")\n",
    "    plt.xlabel(\"Rekonstrüksiyon Hatası (MSE)\")\n",
    "    plt.ylabel(\"Frekans\")\n",
    "    plt.legend()\n",
    "    plt.grid(True, alpha=0.3)\n",
    "    output_path = os.path.join(output_dir, f\"{category}_{dataset_type}_mse_comparison_histogram.png\")\n",
    "    plt.savefig(output_path, dpi=150, bbox_inches='tight')\n",
    "    plt.close()\n",
    "    \n",
    "    print(f\"MSE karşılaştırma histogramı kaydedildi: {output_path}\")\n",
    "\n",
    "def visualize_roc_curve(test_labels, mse, category, output_dir=RESULTS_DIR, dataset_type=\"mvtec\"):\n",
    "    \"\"\"ROC eğrisini çizer\"\"\"\n",
    "    # ROC eğrisi\n",
    "    fpr, tpr, _ = roc_curve(test_labels, mse)\n",
    "    roc_auc = auc(fpr, tpr)\n",
    "    \n",
    "    plt.figure(figsize=(10, 8))\n",
    "    plt.plot(fpr, tpr, color='blue', lw=2, label=f'ROC curve (AUC = {roc_auc:.2f})')\n",
    "    plt.plot([0, 1], [0, 1], color='gray', lw=2, linestyle='--')\n",
    "    plt.xlim([0.0, 1.0])\n",
    "    plt.ylim([0.0, 1.05])\n",
    "    plt.xlabel('False Positive Rate')\n",
    "    plt.ylabel('True Positive Rate')\n",
    "    plt.title(f'{category} ({dataset_type}) - Receiver Operating Characteristic (ROC) Curve')\n",
    "    plt.legend(loc=\"lower right\")\n",
    "    plt.grid(True, alpha=0.3)\n",
    "    output_path = os.path.join(output_dir, f\"{category}_{dataset_type}_roc_curve.png\")\n",
    "    plt.savefig(output_path, dpi=150, bbox_inches='tight')\n",
    "    plt.close()\n",
    "    \n",
    "    print(f\"ROC eğrisi kaydedildi: {output_path}\")\n",
    "\n",
    "def visualize_confusion_matrix(test_labels, predictions, category, output_dir=RESULTS_DIR, dataset_type=\"mvtec\"):\n",
    "    \"\"\"Karışıklık matrisini görselleştirir\"\"\"\n",
    "    # Karışıklık matrisi\n",
    "    cm = confusion_matrix(test_labels, predictions)\n",
    "    \n",
    "    # Normalize et\n",
    "    cm_norm = cm.astype('float') / cm.sum(axis=1)[:, np.newaxis]\n",
    "    \n",
    "    # Görselleştirme\n",
    "    plt.figure(figsize=(10, 8))\n",
    "    plt.imshow(cm, interpolation='nearest', cmap=plt.cm.Blues)\n",
    "    plt.title(f'{category} ({dataset_type}) - Karışıklık Matrisi')\n",
    "    plt.colorbar()\n",
    "    \n",
    "    # Etiketler\n",
    "    classes = ['Normal', 'Anomali']\n",
    "    tick_marks = np.arange(len(classes))\n",
    "    plt.xticks(tick_marks, classes)\n",
    "    plt.yticks(tick_marks, classes)\n",
    "    \n",
    "    # Sayıları ve yüzdeleri göster\n",
    "    thresh = cm.max() / 2.\n",
    "    for i in range(cm.shape[0]):\n",
    "        for j in range(cm.shape[1]):\n",
    "            plt.text(j, i, f\"{cm[i, j]}\\n({cm_norm[i, j]*100:.1f}%)\",\n",
    "                     horizontalalignment='center',\n",
    "                     color='white' if cm[i, j] > thresh else 'black')\n",
    "    \n",
    "    plt.tight_layout()\n",
    "    plt.ylabel('Gerçek Etiket')\n",
    "    plt.xlabel('Tahmin Edilen Etiket')\n",
    "    output_path = os.path.join(output_dir, f\"{category}_{dataset_type}_confusion_matrix.png\")\n",
    "    plt.savefig(output_path, dpi=150, bbox_inches='tight')\n",
    "    plt.close()\n",
    "    \n",
    "    print(f\"Karışıklık matrisi kaydedildi: {output_path}\")\n",
    "\n",
    "def visualize_detailed_comparison(test_images, test_labels, reconstructed, mse, predictions, threshold, \n",
    "                                 test_types, category, output_dir=RESULTS_DIR, dataset_type=\"mvtec\"):\n",
    "    \"\"\"\n",
    "    Her kusur tipi için ayrıntılı karşılaştırma yapar:\n",
    "    1. Orijinal görüntü\n",
    "    2. Rekonstrüksiyon\n",
    "    3. Fark haritası\n",
    "    4. Hata değerlerini görselleştirme\n",
    "    \"\"\"\n",
    "    # Kusur tiplerine göre gruplama\n",
    "    unique_types = set([t for t in test_types if t != \"good\" and t != \"normal\"])\n",
    "    \n",
    "    if not unique_types:\n",
    "        print(f\"UYARI: {category} için anomali tipi bulunamadı.\")\n",
    "        return\n",
    "    \n",
    "    # Ayrı bir görselleştirme penceresi oluştur\n",
    "    for defect_type in unique_types:\n",
    "        # Bu kusur tipine ait örneklerin indekslerini bul\n",
    "        indices = [i for i, t in enumerate(test_types) if t == defect_type]\n",
    "        \n",
    "        if not indices:\n",
    "            continue\n",
    "            \n",
    "        # En fazla 3 örnek göster\n",
    "        num_samples = min(3, len(indices))\n",
    "        selected_indices = np.random.choice(indices, num_samples, replace=False)\n",
    "        \n",
    "        fig, axes = plt.subplots(num_samples, 4, figsize=(16, num_samples * 4))\n",
    "        fig.suptitle(f\"{category} ({dataset_type}) - {defect_type} Kusur Tipi Analizi\", fontsize=16)\n",
    "        \n",
    "        for i, idx in enumerate(selected_indices):\n",
    "            # Tek örnek durumunda axes'i 2B hale getir\n",
    "            if num_samples == 1:\n",
    "                ax_row = axes\n",
    "            else:\n",
    "                ax_row = axes[i]\n",
    "            \n",
    "            # 1. Orijinal görüntü\n",
    "            ax_row[0].imshow(test_images[idx].reshape(IMG_SIZE, IMG_SIZE), cmap='gray')\n",
    "            ax_row[0].set_title(f\"Orijinal - {defect_type}\")\n",
    "            ax_row[0].axis('off')\n",
    "            \n",
    "            # 2. Rekonstrüksiyon\n",
    "            ax_row[1].imshow(reconstructed[idx].reshape(IMG_SIZE, IMG_SIZE), cmap='gray')\n",
    "            ax_row[1].set_title(f\"Rekonstrüksiyon\")\n",
    "            ax_row[1].axis('off')\n",
    "            \n",
    "            # 3. Fark (mutlak)\n",
    "            diff = np.abs(test_images[idx] - reconstructed[idx]).reshape(IMG_SIZE, IMG_SIZE)\n",
    "            im = ax_row[2].imshow(diff, cmap='hot', vmin=0, vmax=np.max(diff) if np.max(diff) > 0 else 1)\n",
    "            ax_row[2].set_title(f\"Fark Haritası\")\n",
    "            ax_row[2].axis('off')\n",
    "            \n",
    "            # 4. Hata değeri ve eşik\n",
    "            error_bar = np.array([0, mse[idx], threshold, threshold * 1.5])  # Hata değerleri\n",
    "            bar_colors = ['white', 'blue' if mse[idx] < threshold else 'red', 'green', 'white']\n",
    "            \n",
    "            ax_row[3].barh(['', 'MSE', 'Eşik', ''], error_bar, color=bar_colors)\n",
    "            ax_row[3].axvline(x=threshold, color='green', linestyle='--')\n",
    "            ax_row[3].set_title(f\"MSE: {mse[idx]:.6f}, Eşik: {threshold:.6f}\")\n",
    "            ax_row[3].set_xlim(0, max(threshold * 2, mse[idx] * 1.2))\n",
    "            \n",
    "            # Tahmin sonucunu göster\n",
    "            prediction_result = \"Normal\" if predictions[idx] == 0 else \"Anomali\"\n",
    "            ground_truth = \"Anomali\" if test_labels[idx] == 1 else \"Normal\"\n",
    "            is_correct = predictions[idx] == test_labels[idx]\n",
    "            result_color = \"green\" if is_correct else \"red\"\n",
    "            \n",
    "            ax_row[3].text(threshold / 2, 0, \n",
    "                          f\"Tahmin: {prediction_result} (Gerçek: {ground_truth})\", \n",
    "                          color=result_color, fontsize=10, ha='center')\n",
    "        \n",
    "        plt.tight_layout()\n",
    "        plt.subplots_adjust(top=0.9)\n",
    "        output_path = os.path.join(output_dir, f\"{category}_{dataset_type}_{defect_type}_detailed_analysis.png\")\n",
    "        plt.savefig(output_path, dpi=150, bbox_inches='tight')\n",
    "        plt.close()\n",
    "        \n",
    "        print(f\"{defect_type} kusur tipi detaylı analizi kaydedildi: {output_path}\")\n",
    "\n",
    "def visualize_all_defect_stats(test_images, test_labels, mse, predictions, threshold, test_types, category, output_dir=RESULTS_DIR, dataset_type=\"mvtec\"):\n",
    "    \"\"\"\n",
    "    Her kusur tipi için doğruluk istatistiklerini hesaplar ve görselleştirir\n",
    "    \"\"\"\n",
    "    # Kusur tiplerine göre gruplama\n",
    "    unique_types = set(test_types)\n",
    "    \n",
    "    if not unique_types:\n",
    "        print(f\"UYARI: {category} için kusur tipi bulunamadı.\")\n",
    "        return\n",
    "    \n",
    "    # Her kusur tipi için metrikler\n",
    "    type_metrics = {}\n",
    "    \n",
    "    for defect_type in unique_types:\n",
    "        # Bu tipe ait örneklerin indeksleri\n",
    "        indices = [i for i, t in enumerate(test_types) if t == defect_type]\n",
    "        \n",
    "        if not indices:\n",
    "            continue\n",
    "        \n",
    "        # Bu tipe ait gerçek etiketler ve tahminler\n",
    "        type_labels = [test_labels[i] for i in indices]\n",
    "        type_predictions = [predictions[i] for i in indices]\n",
    "        type_mse = [mse[i] for i in indices]\n",
    "        \n",
    "        # Metrikleri hesapla\n",
    "        type_accuracy = np.mean(np.array(type_predictions) == np.array(type_labels))\n",
    "        \n",
    "        # Hata istatistikleri\n",
    "        mse_min = np.min(type_mse)\n",
    "        mse_max = np.max(type_mse)\n",
    "        mse_mean = np.mean(type_mse)\n",
    "        mse_std = np.std(type_mse)\n",
    "        \n",
    "        # Eşiğe göre doğru tahmin oranı\n",
    "        if defect_type == \"good\" or defect_type == \"normal\":\n",
    "            # Normal örnekler için doğru tahmin oranı (MSE < threshold)\n",
    "            correct_ratio = np.mean(np.array(type_mse) < threshold)\n",
    "        else:\n",
    "            # Anomali örnekleri için doğru tahmin oranı (MSE > threshold)\n",
    "            correct_ratio = np.mean(np.array(type_mse) > threshold)\n",
    "        \n",
    "        type_metrics[defect_type] = {\n",
    "            'accuracy': type_accuracy,\n",
    "            'mse_min': mse_min,\n",
    "            'mse_max': mse_max,\n",
    "            'mse_mean': mse_mean,\n",
    "            'mse_std': mse_std,\n",
    "            'correct_ratio': correct_ratio,\n",
    "            'count': len(indices)\n",
    "        }\n",
    "    \n",
    "    # Metrik tablosunu görselleştir\n",
    "    fig, ax = plt.subplots(figsize=(12, len(unique_types) * 1 + 2))\n",
    "    fig.suptitle(f\"{category} ({dataset_type}) - Kusur Tiplerine Göre Performans Metrikleri\", fontsize=16)\n",
    "    \n",
    "    # Tablo verilerini hazırla\n",
    "    types = list(unique_types)\n",
    "    counts = [type_metrics[t]['count'] for t in types]\n",
    "    accuracies = [type_metrics[t]['accuracy'] * 100 for t in types]\n",
    "    correct_ratios = [type_metrics[t]['correct_ratio'] * 100 for t in types]\n",
    "    mse_means = [type_metrics[t]['mse_mean'] for t in types]\n",
    "    \n",
    "    # Tablo oluştur\n",
    "    table_data = [\n",
    "        [t, f\"{c}\", f\"{a:.1f}%\", f\"{r:.1f}%\", f\"{m:.6f}\"] \n",
    "        for t, c, a, r, m in zip(types, counts, accuracies, correct_ratios, mse_means)\n",
    "    ]\n",
    "    \n",
    "    colLabels = [\"Kusur Tipi\", \"Örnek Sayısı\", \"Doğruluk\", \"Eşik Doğruluğu\", \"Ort. MSE\"]\n",
    "    \n",
    "    ax.axis('tight')\n",
    "    ax.axis('off')\n",
    "    table = ax.table(cellText=table_data,\n",
    "                     colLabels=colLabels,\n",
    "                     loc='center',\n",
    "                     cellLoc='center')\n",
    "    \n",
    "    table.auto_set_font_size(False)\n",
    "    table.set_fontsize(10)\n",
    "    table.scale(1.2, 1.5)\n",
    "    \n",
    "    # Başlık hücreleri için stili ayarla\n",
    "    for i in range(len(colLabels)):\n",
    "        table._cells[(0, i)].set_text_props(weight='bold')\n",
    "    \n",
    "    plt.tight_layout()\n",
    "    output_path = os.path.join(output_dir, f\"{category}_{dataset_type}_defect_type_metrics.png\")\n",
    "    plt.savefig(output_path, dpi=150, bbox_inches='tight')\n",
    "    plt.close()\n",
    "    \n",
    "    print(f\"Kusur tipi metrikleri kaydedildi: {output_path}\")\n",
    "    \n",
    "    # MSE dağılımlarını kusur tipine göre görselleştir\n",
    "    plt.figure(figsize=(14, 8))\n",
    "    \n",
    "    for defect_type in unique_types:\n",
    "        # Bu tipe ait MSE değerleri\n",
    "        indices = [i for i, t in enumerate(test_types) if t == defect_type]\n",
    "        type_mse = [mse[i] for i in indices]\n",
    "        \n",
    "        plt.hist(type_mse, bins=20, alpha=0.5, label=f\"{defect_type} (n={len(indices)})\")\n",
    "    \n",
    "    plt.axvline(x=threshold, color='black', linestyle='--', label=f\"Eşik ({threshold:.6f})\")\n",
    "    plt.title(f\"{category} ({dataset_type}) - Kusur Tiplerine Göre MSE Dağılımı\")\n",
    "    plt.xlabel(\"Rekonstrüksiyon Hatası (MSE)\")\n",
    "    plt.ylabel(\"Frekans\")\n",
    "    plt.legend()\n",
    "    plt.grid(True, alpha=0.3)\n",
    "    output_path = os.path.join(output_dir, f\"{category}_{dataset_type}_defect_type_mse_distribution.png\")\n",
    "    plt.savefig(output_path, dpi=150, bbox_inches='tight')\n",
    "    plt.close()\n",
    "    \n",
    "    print(f\"Kusur tipine göre MSE dağılımı kaydedildi: {output_path}\")\n",
    "\n",
    "def visualize_all_categories_comparison(all_results, output_dir=RESULTS_DIR, output_path=None, title=None):\n",
    "    \"\"\"Tüm kategorilerin performans metriklerini karşılaştıran bir görselleştirme yapar\"\"\"\n",
    "    \n",
    "    if not all_results:\n",
    "        print(\"Karşılaştırma için yeterli sonuç yok.\")\n",
    "        return\n",
    "    \n",
    "    # Kategorileri ve metrikleri dizilere dönüştür\n",
    "    categories = [r['category'] for r in all_results]\n",
    "    dataset_types = [r.get('dataset_type', 'unknown') for r in all_results]\n",
    "    accuracy = [r['accuracy'] for r in all_results]\n",
    "    precision = [r['precision'] for r in all_results]\n",
    "    recall = [r['recall'] for r in all_results]\n",
    "    f1 = [r['f1'] for r in all_results]\n",
    "    roc_auc = [r['roc_auc'] for r in all_results]\n",
    "    \n",
    "    # Varsayılan başlık\n",
    "    if title is None:\n",
    "        title = 'Tüm Kategoriler için Performans Metrikleri Karşılaştırması'\n",
    "    \n",
    "    # Performans metriklerini görselleştir\n",
    "    plt.figure(figsize=(14, 8))\n",
    "    bar_width = 0.15\n",
    "    x = np.arange(len(categories))\n",
    "    \n",
    "    # Her metrik için bir çubuk çiz\n",
    "    plt.bar(x - 2*bar_width, accuracy, width=bar_width, label='Doğruluk', color='royalblue')\n",
    "    plt.bar(x - bar_width, precision, width=bar_width, label='Hassasiyet', color='lightcoral')\n",
    "    plt.bar(x, recall, width=bar_width, label='Duyarlılık', color='lightgreen')\n",
    "    plt.bar(x + bar_width, f1, width=bar_width, label='F1 Skoru', color='gold')\n",
    "    plt.bar(x + 2*bar_width, roc_auc, width=bar_width, label='ROC AUC', color='mediumpurple')\n",
    "    \n",
    "    plt.xlabel('Kategori')\n",
    "    plt.ylabel('Değer')\n",
    "    plt.title(title)\n",
    "    \n",
    "    # Kategori isimleri ve veri seti türü\n",
    "    category_labels = [f\"{cat}\\n({dtype.upper()})\" for cat, dtype in zip(categories, dataset_types)]\n",
    "    plt.xticks(x, category_labels, rotation=45, ha='right')\n",
    "    \n",
    "    plt.legend()\n",
    "    plt.ylim(0, 1.1)  # Metrikler 0-1 arası olduğu için\n",
    "    plt.grid(True, alpha=0.3)\n",
    "    \n",
    "    # Değerleri grafiğin üzerine yaz\n",
    "    for i in range(len(categories)):\n",
    "        plt.text(i - 2*bar_width, accuracy[i] + 0.02, f\"{accuracy[i]:.2f}\", ha='center', va='bottom', fontsize=8, rotation=90)\n",
    "        plt.text(i - bar_width, precision[i] + 0.02, f\"{precision[i]:.2f}\", ha='center', va='bottom', fontsize=8, rotation=90)\n",
    "        plt.text(i, recall[i] + 0.02, f\"{recall[i]:.2f}\", ha='center', va='bottom', fontsize=8, rotation=90)\n",
    "        plt.text(i + bar_width, f1[i] + 0.02, f\"{f1[i]:.2f}\", ha='center', va='bottom', fontsize=8, rotation=90)\n",
    "        plt.text(i + 2*bar_width, roc_auc[i] + 0.02, f\"{roc_auc[i]:.2f}\", ha='center', va='bottom', fontsize=8, rotation=90)\n",
    "    \n",
    "    plt.tight_layout()\n",
    "    \n",
    "    # Çıktı dosya yolu\n",
    "    if output_path is None:\n",
    "        output_path = os.path.join(output_dir, 'all_categories_performance_comparison.png')\n",
    "    \n",
    "    plt.savefig(output_path, dpi=150, bbox_inches='tight')\n",
    "    plt.close()\n",
    "    \n",
    "    print(f\"Performans karşılaştırması kaydedildi: {output_path}\")"
   ]
  },
  {
   "cell_type": "code",
   "execution_count": 33,
   "id": "75ed540e-402a-4c32-a050-9821f8ab73f9",
   "metadata": {},
   "outputs": [],
   "source": [
    "def visualize_samples(image_dir, title=\"Görüntü Örnekleri\", output_dir=RESULTS_DIR, rows=3, cols=4, sample_size=None):\n",
    "    \"\"\"Belirtilen dizindeki görüntülerden örnekleri görselleştirir\"\"\"\n",
    "    \n",
    "    # Dizindeki tüm görüntü dosyalarını al\n",
    "    image_files = [f for f in os.listdir(image_dir) if f.endswith(('.png', '.jpg', '.jpeg'))]\n",
    "    \n",
    "    if not image_files:\n",
    "        print(f\"UYARI: '{image_dir}' içinde görüntü dosyası bulunamadı.\")\n",
    "        return\n",
    "    \n",
    "    # Rastgele örnek seç\n",
    "    if sample_size is None:\n",
    "        sample_size = rows * cols\n",
    "    \n",
    "    # Dizinde yeterli görüntü yoksa, tümünü kullan\n",
    "    if len(image_files) < sample_size:\n",
    "        sample_size = len(image_files)\n",
    "        print(f\"UYARI: Dizinde sadece {sample_size} adet görüntü var. Tümü kullanılacak.\")\n",
    "    \n",
    "    # Görüntüleri karıştır ve belirlenen sayıda örnek seç\n",
    "    random.shuffle(image_files)\n",
    "    sampled_files = image_files[:sample_size]\n",
    "    \n",
    "    # Görselleştirme ızgarasını hazırla\n",
    "    fig, axes = plt.subplots(rows, cols, figsize=(cols*3, rows*3))\n",
    "    fig.suptitle(title, fontsize=16)\n",
    "    \n",
    "    # Izgara tek boyutlu olabilir\n",
    "    if rows == 1 and cols == 1:\n",
    "        axes = np.array([axes])\n",
    "    elif rows == 1 or cols == 1:\n",
    "        axes = axes.flatten()\n",
    "    \n",
    "    # Seçilen görüntüleri yükle ve görselleştir\n",
    "    for i, img_file in enumerate(sampled_files):\n",
    "        if i >= rows * cols:\n",
    "            break\n",
    "            \n",
    "        img_path = os.path.join(image_dir, img_file)\n",
    "        img = load_image(img_path)\n",
    "        \n",
    "        if img is not None:\n",
    "            row_idx = i // cols\n",
    "            col_idx = i % cols\n",
    "            \n",
    "            if rows == 1 or cols == 1:\n",
    "                axes[i].imshow(img, cmap='gray')\n",
    "                axes[i].set_title(img_file)\n",
    "                axes[i].axis('off')\n",
    "            else:\n",
    "                axes[row_idx, col_idx].imshow(img, cmap='gray')\n",
    "                axes[row_idx, col_idx].set_title(img_file)\n",
    "                axes[row_idx, col_idx].axis('off')\n",
    "    \n",
    "    # Boş kalan hücreleri gizle\n",
    "    for i in range(len(sampled_files), rows * cols):\n",
    "        row_idx = i // cols\n",
    "        col_idx = i % cols\n",
    "        \n",
    "        if rows == 1 or cols == 1:\n",
    "            axes[i].axis('off')\n",
    "        else:\n",
    "            axes[row_idx, col_idx].axis('off')\n",
    "    \n",
    "    plt.tight_layout()\n",
    "    plt.subplots_adjust(top=0.9)\n",
    "    \n",
    "    # Görüntüyü kaydet\n",
    "    safe_title = title.replace(\" \", \"_\").replace(\":\", \"\").replace(\"-\", \"_\")\n",
    "    output_path = os.path.join(output_dir, f\"{safe_title}.png\")\n",
    "    plt.savefig(output_path, dpi=150, bbox_inches='tight')\n",
    "    plt.close()\n",
    "    \n",
    "    print(f\"Görselleştirme kaydedildi: {output_path}\")"
   ]
  },
  {
   "cell_type": "code",
   "execution_count": 35,
   "id": "a9a9a9f4-c6d7-4a3b-8fde-3f67ee9b5bb3",
   "metadata": {},
   "outputs": [],
   "source": [
    "def visualize_defect_types_comparison(data_dir, category, output_dir=RESULTS_DIR, dataset_type=\"mvtec\"):\n",
    "    \"\"\"Farklı kusur tiplerinin örnek görüntülerini yan yana karşılaştırır\"\"\"\n",
    "    \n",
    "    test_dir = os.path.join(data_dir, category, \"test\")\n",
    "    \n",
    "    # Normal örnekler dizini (dataset_type'a göre ayarlama)\n",
    "    if dataset_type == \"mvtec\":\n",
    "        normal_dir = os.path.join(test_dir, \"good\")\n",
    "    else:  # VisA\n",
    "        normal_dir = os.path.join(test_dir, \"normal\")\n",
    "        if not os.path.exists(normal_dir):\n",
    "            normal_dir = os.path.join(test_dir, \"good\")\n",
    "    \n",
    "    if not os.path.exists(normal_dir):\n",
    "        print(f\"UYARI: '{normal_dir}' dizini bulunamadı. Normal örnekler için test dizini kullanılıyor.\")\n",
    "        normal_dir = test_dir\n",
    "    \n",
    "    # Kusur tipleri\n",
    "    if dataset_type == \"mvtec\":\n",
    "        defect_types = [d for d in os.listdir(test_dir) \n",
    "                        if os.path.isdir(os.path.join(test_dir, d)) and d != \"good\"]\n",
    "    else:  # VisA\n",
    "        # VisA'da anomali dizinleri \"anomaly\", \"defect\" vb. olabilir\n",
    "        anomaly_dirs = [\"anomaly\", \"defect\", \"defective\", \"abnormal\"]\n",
    "        defect_types = []\n",
    "        \n",
    "        for anomaly_dir_name in anomaly_dirs:\n",
    "            anomaly_dir = os.path.join(test_dir, anomaly_dir_name)\n",
    "            if os.path.exists(anomaly_dir) and os.path.isdir(anomaly_dir):\n",
    "                # Alt dizinleri kontrol et (kusur tipleri olabilir)\n",
    "                sub_dirs = [d for d in os.listdir(anomaly_dir) \n",
    "                           if os.path.isdir(os.path.join(anomaly_dir, d))]\n",
    "                if sub_dirs:\n",
    "                    # Alt dizinler var, bunlar kusur tipleri\n",
    "                    for sub_dir in sub_dirs:\n",
    "                        defect_types.append(os.path.join(anomaly_dir_name, sub_dir))\n",
    "                else:\n",
    "                    # Alt dizin yok, doğrudan anomaly dizini\n",
    "                    defect_types.append(anomaly_dir_name)\n",
    "    \n",
    "    if not defect_types:\n",
    "        print(f\"UYARI: '{category}' için kusur tipi bulunamadı.\")\n",
    "        return\n",
    "    \n",
    "    # Her kusur tipinden rasgele bir örnek seçelim\n",
    "    fig, axes = plt.subplots(1, len(defect_types) + 1, figsize=(len(defect_types) * 4 + 4, 4))\n",
    "    fig.suptitle(f\"{category} ({dataset_type}) - Kusur Tipleri Karşılaştırması\", fontsize=16)\n",
    "    \n",
    "    # Normal örnek\n",
    "    normal_images = [f for f in os.listdir(normal_dir) if f.lower().endswith(('.png', '.jpg', '.jpeg'))]\n",
    "    if normal_images:\n",
    "        normal_img_path = os.path.join(normal_dir, random.choice(normal_images))\n",
    "        normal_img = load_image(normal_img_path)\n",
    "        \n",
    "        axes[0].imshow(normal_img, cmap='gray')\n",
    "        axes[0].set_title(\"Normal (Good)\")\n",
    "        axes[0].axis('off')\n",
    "    else:\n",
    "        print(f\"UYARI: '{normal_dir}' içinde normal görüntü bulunamadı.\")\n",
    "    \n",
    "    # Her kusur tipinden bir örnek\n",
    "    for i, defect in enumerate(defect_types, 1):\n",
    "        if dataset_type == \"mvtec\":\n",
    "            defect_dir = os.path.join(test_dir, defect)\n",
    "        else:  # VisA\n",
    "            if '/' in defect:\n",
    "                parts = defect.split('/')\n",
    "                defect_dir = os.path.join(test_dir, *parts)\n",
    "            else:\n",
    "                defect_dir = os.path.join(test_dir, defect)\n",
    "        \n",
    "        defect_images = [f for f in os.listdir(defect_dir) if f.lower().endswith(('.png', '.jpg', '.jpeg'))]\n",
    "        \n",
    "        if defect_images:\n",
    "            defect_img_path = os.path.join(defect_dir, random.choice(defect_images))\n",
    "            defect_img = load_image(defect_img_path)\n",
    "            \n",
    "            if defect_img is not None:\n",
    "                axes[i].imshow(defect_img, cmap='gray')\n",
    "                axes[i].set_title(defect.split('/')[-1] if '/' in defect else defect)\n",
    "                axes[i].axis('off')\n",
    "    \n",
    "    plt.tight_layout()\n",
    "    plt.subplots_adjust(top=0.85)\n",
    "    output_path = os.path.join(output_dir, f\"{category}_{dataset_type}_defect_types_comparison.png\")\n",
    "    plt.savefig(output_path, dpi=150, bbox_inches='tight')\n",
    "    plt.close()\n",
    "    \n",
    "    print(f\"Kusur tipleri karşılaştırması kaydedildi: {output_path}\")"
   ]
  },
  {
   "cell_type": "code",
   "execution_count": 37,
   "id": "ba9c3f2d-082e-45cd-9268-0236bc54be43",
   "metadata": {},
   "outputs": [],
   "source": [
    "def visualize_normal_vs_anomaly_samples(data_dir, category, output_dir=RESULTS_DIR, dataset_type=\"mvtec\"):\n",
    "    \"\"\"\n",
    "    Normal ve anomalili görüntüleri yan yana gösterir\n",
    "    \"\"\"\n",
    "    test_dir = os.path.join(data_dir, category, \"test\")\n",
    "    \n",
    "    # Normal örnekler dizini (dataset_type'a göre ayarlama)\n",
    "    if dataset_type == \"mvtec\":\n",
    "        normal_dir = os.path.join(test_dir, \"good\")\n",
    "    else:  # VisA\n",
    "        normal_dir = os.path.join(test_dir, \"normal\")\n",
    "        if not os.path.exists(normal_dir):\n",
    "            normal_dir = os.path.join(test_dir, \"good\")\n",
    "    \n",
    "    # Klasörlerin varlığını kontrol et\n",
    "    if not os.path.exists(test_dir):\n",
    "        print(f\"UYARI: '{test_dir}' dizini bulunamadı.\")\n",
    "        return\n",
    "    \n",
    "    # Normal dizin kontrolü\n",
    "    if not os.path.exists(normal_dir):\n",
    "        print(f\"UYARI: '{normal_dir}' dizini bulunamadı. Normal dosyaları için test dizini taranacak.\")\n",
    "        \n",
    "        # Test dizinindeki normal örnekleri bulmak için dosya isimlerine bak\n",
    "        normal_files = []\n",
    "        for f in os.listdir(test_dir):\n",
    "            if f.lower().endswith(('.png', '.jpg', '.jpeg')) and (\"normal\" in f.lower() or \"good\" in f.lower()):\n",
    "                normal_files.append(os.path.join(test_dir, f))\n",
    "        \n",
    "        if not normal_files:\n",
    "            print(f\"UYARI: '{category}' için normal örnek bulunamadı.\")\n",
    "            return\n",
    "        \n",
    "        # Normal dizini olmadığı için alternatif yaklaşım kullan\n",
    "        normal_images = []\n",
    "        normal_files_short = []\n",
    "        \n",
    "        for img_path in normal_files:\n",
    "            img = load_image(img_path)\n",
    "            if img is not None:\n",
    "                normal_images.append(img)\n",
    "                normal_files_short.append(os.path.basename(img_path))\n",
    "    else:\n",
    "        # Normal örnekleri yükle\n",
    "        normal_images = []\n",
    "        normal_files_short = []\n",
    "        for img_name in os.listdir(normal_dir):\n",
    "            if not img_name.lower().endswith(('.png', '.jpg', '.jpeg')):\n",
    "                continue\n",
    "            img_path = os.path.join(normal_dir, img_name)\n",
    "            img = load_image(img_path)\n",
    "            if img is not None:\n",
    "                normal_images.append(img)\n",
    "                normal_files_short.append(img_name)\n",
    "    \n",
    "    # Kusur tipleri ve anomali örnekleri\n",
    "    if dataset_type == \"mvtec\":\n",
    "        defect_types = [d for d in os.listdir(test_dir) \n",
    "                       if os.path.isdir(os.path.join(test_dir, d)) and d != \"good\"]\n",
    "    else:  # VisA\n",
    "        # VisA'da anomali dizinleri \"anomaly\", \"defect\" vb. olabilir\n",
    "        anomaly_dirs = [\"anomaly\", \"defect\", \"defective\", \"abnormal\"]\n",
    "        defect_types = []\n",
    "        \n",
    "        for anomaly_dir_name in anomaly_dirs:\n",
    "            anomaly_dir = os.path.join(test_dir, anomaly_dir_name)\n",
    "            if os.path.exists(anomaly_dir) and os.path.isdir(anomaly_dir):\n",
    "                # Alt dizinleri kontrol et (kusur tipleri olabilir)\n",
    "                sub_dirs = [d for d in os.listdir(anomaly_dir) \n",
    "                           if os.path.isdir(os.path.join(anomaly_dir, d))]\n",
    "                if sub_dirs:\n",
    "                    # Alt dizinler var, bunlar kusur tipleri\n",
    "                    for sub_dir in sub_dirs:\n",
    "                        defect_types.append(os.path.join(anomaly_dir_name, sub_dir))\n",
    "                else:\n",
    "                    # Alt dizin yok, doğrudan anomaly dizini\n",
    "                    defect_types.append(anomaly_dir_name)\n",
    "    \n",
    "    if not defect_types:\n",
    "        print(f\"UYARI: '{category}' için kusur tipi bulunamadı.\")\n",
    "        \n",
    "        # Eğer kusur tipi yoksa, dosya isimlerine göre arama yap\n",
    "        anomaly_files = []\n",
    "        for f in os.listdir(test_dir):\n",
    "            if f.lower().endswith(('.png', '.jpg', '.jpeg')) and any(key in f.lower() for key in \n",
    "                                  [\"anomaly\", \"defect\", \"defective\", \"abnormal\"]):\n",
    "                anomaly_files.append(os.path.join(test_dir, f))\n",
    "        \n",
    "        if not anomaly_files:\n",
    "            print(f\"UYARI: '{category}' için anomali örneği bulunamadı.\")\n",
    "            return\n",
    "        \n",
    "        # Anomali örneklerini yükle\n",
    "        anomaly_images = []\n",
    "        anomaly_files_short = []\n",
    "        anomaly_types = []\n",
    "        \n",
    "        for img_path in anomaly_files:\n",
    "            img = load_image(img_path)\n",
    "            if img is not None:\n",
    "                anomaly_images.append(img)\n",
    "                anomaly_files_short.append(os.path.basename(img_path))\n",
    "                anomaly_types.append(\"anomaly\")\n",
    "    else:\n",
    "        # Anomali örneklerini yükle\n",
    "        anomaly_images = []\n",
    "        anomaly_files_short = []\n",
    "        anomaly_types = []\n",
    "        \n",
    "        for defect_type in defect_types:\n",
    "            if dataset_type == \"mvtec\":\n",
    "                defect_dir = os.path.join(test_dir, defect_type)\n",
    "            else:  # VisA\n",
    "                if '/' in defect_type:\n",
    "                    parts = defect_type.split('/')\n",
    "                    defect_dir = os.path.join(test_dir, *parts)\n",
    "                else:\n",
    "                    defect_dir = os.path.join(test_dir, defect_type)\n",
    "            \n",
    "            if not os.path.isdir(defect_dir):\n",
    "                continue\n",
    "                \n",
    "            for img_name in os.listdir(defect_dir):\n",
    "                if not img_name.lower().endswith(('.png', '.jpg', '.jpeg')):\n",
    "                    continue\n",
    "                img_path = os.path.join(defect_dir, img_name)\n",
    "                img = load_image(img_path)\n",
    "                if img is not None:\n",
    "                    anomaly_images.append(img)\n",
    "                    anomaly_files_short.append(img_name)\n",
    "                    anomaly_types.append(defect_type.split('/')[-1] if '/' in defect_type else defect_type)\n",
    "    \n",
    "    # Normal ve anomali örnek sayıları\n",
    "    num_normal = len(normal_images)\n",
    "    num_anomaly = len(anomaly_images)\n",
    "    \n",
    "    if num_normal == 0 or num_anomaly == 0:\n",
    "        print(f\"UYARI: {category} için normal veya anomali görüntüleri bulunamadı.\")\n",
    "        return\n",
    "    \n",
    "    # Görselleştirme - Normal ve Anomali örneklerini yan yana göster\n",
    "    # Her satırda bir normal ve bir anomali örneği\n",
    "    num_rows = min(5, min(num_normal, num_anomaly))  # En fazla 5 örnek göster\n",
    "    \n",
    "    fig, axes = plt.subplots(num_rows, 2, figsize=(10, num_rows * 3))\n",
    "    fig.suptitle(f\"{category} ({dataset_type}) - Normal ve Anomali Örnekleri Karşılaştırması\", fontsize=16)\n",
    "    \n",
    "    # Tek örnek durumu için\n",
    "    if num_rows == 1:\n",
    "        axes = np.array([axes])\n",
    "    \n",
    "    for i in range(num_rows):\n",
    "        # Normal örnek\n",
    "        normal_idx = i % num_normal\n",
    "        axes[i, 0].imshow(normal_images[normal_idx], cmap='gray')\n",
    "        axes[i, 0].set_title(f\"Normal: {normal_files_short[normal_idx]}\")\n",
    "        axes[i, 0].axis('off')\n",
    "        \n",
    "        # Anomali örneği\n",
    "        anomaly_idx = i % num_anomaly\n",
    "        axes[i, 1].imshow(anomaly_images[anomaly_idx], cmap='gray')\n",
    "        axes[i, 1].set_title(f\"Anomali ({anomaly_types[anomaly_idx]}): {anomaly_files_short[anomaly_idx]}\")\n",
    "        axes[i, 1].axis('off')\n",
    "    \n",
    "    plt.tight_layout()\n",
    "    plt.subplots_adjust(top=0.9)\n",
    "    output_path = os.path.join(output_dir, f\"{category}_{dataset_type}_normal_vs_anomaly_samples.png\")\n",
    "    plt.savefig(output_path, dpi=150, bbox_inches='tight')\n",
    "    plt.close()\n",
    "    \n",
    "    print(f\"Normal vs Anomali karşılaştırması kaydedildi: {output_path}\")"
   ]
  },
  {
   "cell_type": "code",
   "execution_count": 39,
   "id": "baa13999-392d-4928-997e-b978011db1ad",
   "metadata": {},
   "outputs": [],
   "source": [
    "def process_category(category, data_dir=None, output_dir=RESULTS_DIR, threshold_percentile=95, dataset_type=\"mvtec\"):\n",
    "    \"\"\"\n",
    "    Belirli bir kategori için tüm işlemleri gerçekleştirir\n",
    "    dataset_type: \"mvtec\" veya \"visa\" olabilir, veri seti tipini belirtir\n",
    "    \"\"\"\n",
    "    print(f\"\\n{'='*50}\")\n",
    "    print(f\"İşleniyor: {category} ({dataset_type.upper()} veri seti)\")\n",
    "    print(f\"{'='*50}\")\n",
    "    \n",
    "    # Veri dizini belirtilmemişse, veri setine göre varsayılan değeri kullan\n",
    "    if data_dir is None:\n",
    "        if dataset_type == \"mvtec\":\n",
    "            data_dir = MVTEC_DIR\n",
    "        elif dataset_type == \"visa\":\n",
    "            data_dir = VISA_DIR\n",
    "        else:\n",
    "            raise ValueError(f\"Geçersiz veri seti tipi: {dataset_type}\")\n",
    "    \n",
    "    category_dir = os.path.join(data_dir, category)\n",
    "    category_output_dir = os.path.join(output_dir, dataset_type, category)\n",
    "    os.makedirs(category_output_dir, exist_ok=True)\n",
    "    \n",
    "    # Veri yolu kontrolü\n",
    "    if not os.path.exists(category_dir):\n",
    "        print(f\"HATA: {category} kategorisi için veri dizini bulunamadı: {category_dir}\")\n",
    "        return None\n",
    "    \n",
    "    # Eğitim ve test verilerini yükle\n",
    "    try:\n",
    "        if dataset_type == \"mvtec\":\n",
    "            train_images, test_images, test_labels, test_paths, test_types = load_mvtec_data(data_dir, category)\n",
    "        elif dataset_type == \"visa\":\n",
    "            train_images, test_images, test_labels, test_paths, test_types = load_visa_data(data_dir, category)\n",
    "        else:\n",
    "            raise ValueError(f\"Geçersiz veri seti tipi: {dataset_type}\")\n",
    "    except Exception as e:\n",
    "        print(f\"HATA: {category} kategorisi için veri yüklenirken hata oluştu: {e}\")\n",
    "        return None\n",
    "    \n",
    "    # Veri yüklenmediyse uyarı ver ve çık\n",
    "    if len(train_images) == 0:\n",
    "        print(f\"HATA: {category} kategorisi için eğitim verisi yüklenemedi.\")\n",
    "        return None\n",
    "    \n",
    "    if len(test_images) == 0:\n",
    "        print(f\"HATA: {category} kategorisi için test verisi yüklenemedi.\")\n",
    "        return None\n",
    "    \n",
    "    # Eğitim ve test verilerini ön işle\n",
    "    train_processed, test_processed = preprocess_data(train_images, test_images)\n",
    "    \n",
    "    # Veri görselleştirme\n",
    "    try:\n",
    "        print(f\"\\n{category} ({dataset_type}) için görselleştirmeler oluşturuluyor...\")\n",
    "        \n",
    "        # Eğitim örneklerinden bazılarını görselleştir\n",
    "        if dataset_type == \"mvtec\":\n",
    "            train_normal_dir = os.path.join(data_dir, category, \"train\", \"good\")\n",
    "        else:  # VisA\n",
    "            train_normal_dir = os.path.join(data_dir, category, \"train\", \"normal\")\n",
    "            if not os.path.exists(train_normal_dir):\n",
    "                train_normal_dir = os.path.join(data_dir, category, \"train\", \"good\")\n",
    "                if not os.path.exists(train_normal_dir):\n",
    "                    train_normal_dir = os.path.join(data_dir, category, \"train\")\n",
    "        \n",
    "        if os.path.exists(train_normal_dir):\n",
    "            visualize_samples(train_normal_dir, title=f\"{category} ({dataset_type}) - Eğitim Örnekleri\", \n",
    "                              output_dir=category_output_dir)\n",
    "        \n",
    "        # Kusur tiplerini karşılaştır\n",
    "        visualize_defect_types_comparison(data_dir, category, output_dir=category_output_dir, dataset_type=dataset_type)\n",
    "        \n",
    "        # Normal ve anomali örneklerini yan yana karşılaştır\n",
    "        visualize_normal_vs_anomaly_samples(data_dir, category, output_dir=category_output_dir, dataset_type=dataset_type)\n",
    "    except Exception as e:\n",
    "        print(f\"UYARI: Veri görselleştirme sırasında hata oluştu: {e}\")\n",
    "    \n",
    "    # Modeli oluştur\n",
    "    input_shape = (IMG_SIZE, IMG_SIZE, 1)  # Gri tonlamalı görüntüler\n",
    "    model = create_autoencoder(input_shape)\n",
    "    \n",
    "    # Model yapısını yazdır\n",
    "    model.summary()\n",
    "    \n",
    "    # Eğitim\n",
    "    # Dosya uzantısını .keras olarak değiştir (TensorFlow 2.6+ ile uyumlu)\n",
    "    checkpoint_path = os.path.join(category_output_dir, f\"{category}_{dataset_type}_best_model.keras\")\n",
    "    \n",
    "    start_time = time.time()\n",
    "    \n",
    "    checkpointer = ModelCheckpoint(checkpoint_path, monitor='val_loss', verbose=1, save_best_only=True, mode='min')\n",
    "    early_stopping = EarlyStopping(monitor='val_loss', patience=PATIENCE, restore_best_weights=True)\n",
    "    \n",
    "    # Validasyon için veri setini ayırma\n",
    "    val_size = int(len(train_processed) * 0.2)\n",
    "    train_val = train_processed[:-val_size]\n",
    "    val = train_processed[-val_size:]\n",
    "    \n",
    "    history = model.fit(\n",
    "        train_val, train_val,\n",
    "        validation_data=(val, val),\n",
    "        epochs=EPOCHS,\n",
    "        batch_size=BATCH_SIZE,\n",
    "        shuffle=True,\n",
    "        callbacks=[checkpointer, early_stopping],\n",
    "        verbose=1\n",
    "    )\n",
    "    \n",
    "    training_time = time.time() - start_time\n",
    "    print(f\"Eğitim tamamlandı. Süre: {training_time:.2f} saniye\")\n",
    "    \n",
    "    # En iyi modeli yükle\n",
    "    try:\n",
    "        best_model = load_model(checkpoint_path)\n",
    "        print(f\"En iyi model yüklendi: {checkpoint_path}\")\n",
    "    except Exception as e:\n",
    "        print(f\"En iyi model yüklenemedi, hata: {e}\")\n",
    "        print(\"Mevcut modeli kullanıyoruz.\")\n",
    "        best_model = model\n",
    "    \n",
    "    # Eğitim geçmişini görselleştir\n",
    "    plt.figure(figsize=(12, 4))\n",
    "    plt.subplot(1, 2, 1)\n",
    "    plt.plot(history.history['loss'], label='Eğitim Kaybı')\n",
    "    plt.plot(history.history['val_loss'], label='Validasyon Kaybı')\n",
    "    plt.title(f'{category} ({dataset_type}) - Eğitim/Validasyon Kaybı')\n",
    "    plt.xlabel('Epoch')\n",
    "    plt.ylabel('Kayıp')\n",
    "    plt.legend()\n",
    "    plt.grid(True, alpha=0.3)\n",
    "    \n",
    "    plt.tight_layout()\n",
    "    output_path = os.path.join(category_output_dir, f\"{category}_{dataset_type}_training_history.png\")\n",
    "    plt.savefig(output_path, dpi=150, bbox_inches='tight')\n",
    "    plt.close()\n",
    "    \n",
    "    print(f\"Eğitim geçmişi grafiği kaydedildi: {output_path}\")\n",
    "    \n",
    "    # Test ve anomali tespiti\n",
    "    reconstructed, mse, predictions, threshold, accuracy, precision, recall, f1, roc_auc = detect_anomalies(\n",
    "        test_processed, test_labels, best_model, threshold_percentile)\n",
    "    \n",
    "    # Sonuçları görselleştir\n",
    "    print(f\"\\n{category} ({dataset_type}) için analiz sonuçları görselleştiriliyor...\")\n",
    "    \n",
    "    try:\n",
    "        # Rekonstrüksiyon sonuçları\n",
    "        visualize_reconstruction_results(test_processed, test_labels, reconstructed, mse, predictions, threshold, \n",
    "                                       test_types, category, output_dir=category_output_dir, dataset_type=dataset_type)\n",
    "    except Exception as e:\n",
    "        print(f\"UYARI: Rekonstrüksiyon görselleştirme hatası: {e}\")\n",
    "    \n",
    "    try:\n",
    "        # Normal vs Anomali MSE karşılaştırması\n",
    "        compare_normal_vs_anomaly(test_processed, test_labels, reconstructed, mse, threshold, category, \n",
    "                                output_dir=category_output_dir, dataset_type=dataset_type)\n",
    "    except Exception as e:\n",
    "        print(f\"UYARI: MSE karşılaştırma görselleştirme hatası: {e}\")\n",
    "    \n",
    "    try:\n",
    "        # ROC eğrisi\n",
    "        visualize_roc_curve(test_labels, mse, category, output_dir=category_output_dir, dataset_type=dataset_type)\n",
    "    except Exception as e:\n",
    "        print(f\"UYARI: ROC eğrisi görselleştirme hatası: {e}\")\n",
    "    \n",
    "    try:\n",
    "        # Karışıklık matrisi\n",
    "        visualize_confusion_matrix(test_labels, predictions, category, output_dir=category_output_dir, dataset_type=dataset_type)\n",
    "    except Exception as e:\n",
    "        print(f\"UYARI: Karışıklık matrisi görselleştirme hatası: {e}\")\n",
    "    \n",
    "    try:\n",
    "        # Detaylı kusur analizi\n",
    "        visualize_detailed_comparison(test_processed, test_labels, reconstructed, mse, predictions, threshold, \n",
    "                                     test_types, category, output_dir=category_output_dir, dataset_type=dataset_type)\n",
    "    except Exception as e:\n",
    "        print(f\"UYARI: Detaylı kusur analizi görselleştirme hatası: {e}\")\n",
    "    \n",
    "    try:\n",
    "        # Kusur tiplerine göre istatistikler\n",
    "        visualize_all_defect_stats(test_processed, test_labels, mse, predictions, threshold, \n",
    "                                  test_types, category, output_dir=category_output_dir, dataset_type=dataset_type)\n",
    "    except Exception as e:\n",
    "        print(f\"UYARI: Kusur tipi istatistikleri görselleştirme hatası: {e}\")\n",
    "    \n",
    "    # Sonuçları döndür\n",
    "    results = {\n",
    "        'category': category,\n",
    "        'dataset_type': dataset_type,  # Veri seti tipini ekle\n",
    "        'accuracy': accuracy,\n",
    "        'precision': precision,\n",
    "        'recall': recall,\n",
    "        'f1': f1,\n",
    "        'roc_auc': roc_auc,\n",
    "        'threshold': threshold,\n",
    "        'normal_count': np.sum(test_labels == 0),\n",
    "        'anomaly_count': np.sum(test_labels == 1),\n",
    "        'training_time': training_time\n",
    "    }\n",
    "    \n",
    "    # Sonuçları metin dosyasına kaydet\n",
    "    with open(os.path.join(category_output_dir, f\"{category}_{dataset_type}_results.txt\"), \"w\") as f:\n",
    "        f.write(f\"Kategori: {category} ({dataset_type})\\n\")\n",
    "        f.write(f\"Doğruluk (Accuracy): {accuracy:.4f}\\n\")\n",
    "        f.write(f\"Hassasiyet (Precision): {precision:.4f}\\n\")\n",
    "        f.write(f\"Duyarlılık (Recall): {recall:.4f}\\n\")\n",
    "        f.write(f\"F1 Skoru: {f1:.4f}\\n\")\n",
    "        f.write(f\"ROC AUC: {roc_auc:.4f}\\n\")\n",
    "        f.write(f\"Eşik Değeri: {threshold:.6f}\\n\")\n",
    "        f.write(f\"Normal Örnek Sayısı: {np.sum(test_labels == 0)}\\n\")\n",
    "        f.write(f\"Anomali Örnek Sayısı: {np.sum(test_labels == 1)}\\n\")\n",
    "        f.write(f\"Eğitim Süresi: {training_time:.2f} saniye\\n\")\n",
    "    \n",
    "    print(f\"Sonuçlar başarıyla kaydedildi: {category_output_dir}\")\n",
    "    return results"
   ]
  },
  {
   "cell_type": "code",
   "execution_count": 41,
   "id": "7cacc3c7-c61e-428f-bc32-40b57da12960",
   "metadata": {
    "scrolled": true
   },
   "outputs": [
    {
     "name": "stdout",
     "output_type": "stream",
     "text": [
      "Sonuçlar 'anomaly_detection_results' dizinine kaydedilecek.\n",
      "\n",
      "=== MVTec Veri Seti İşleniyor ===\n",
      "\n",
      "==================================================\n",
      "İşleniyor: hazelnut (MVTEC veri seti)\n",
      "==================================================\n",
      "Eğitim dizini: C:\\Users\\Tansu\\OneDrive\\Masaüstü\\mvtec\\hazelnut\\train\n",
      "Test dizini: C:\\Users\\Tansu\\OneDrive\\Masaüstü\\mvtec\\hazelnut\\test\n",
      "Eğitim 'good' dizini: C:\\Users\\Tansu\\OneDrive\\Masaüstü\\mvtec\\hazelnut\\train\\good\n",
      "Eğitim 'good' dizinindeki dosya sayısı: 391\n"
     ]
    },
    {
     "name": "stderr",
     "output_type": "stream",
     "text": [
      "hazelnut: Eğitim verilerini yükleme: 100%|██████████| 391/391 [00:12<00:00, 30.60it/s]\n"
     ]
    },
    {
     "name": "stdout",
     "output_type": "stream",
     "text": [
      "Test 'good' dizini: C:\\Users\\Tansu\\OneDrive\\Masaüstü\\mvtec\\hazelnut\\test\\good\n",
      "Test 'good' dizinindeki dosya sayısı: 40\n"
     ]
    },
    {
     "name": "stderr",
     "output_type": "stream",
     "text": [
      "hazelnut: Normal test verilerini yükleme: 100%|██████████| 40/40 [00:01<00:00, 30.46it/s]\n"
     ]
    },
    {
     "name": "stdout",
     "output_type": "stream",
     "text": [
      "Tespit edilen kusur tipleri: ['crack', 'cut', 'hole', 'print']\n",
      "Kusur dizini: C:\\Users\\Tansu\\OneDrive\\Masaüstü\\mvtec\\hazelnut\\test\\crack\n",
      "Kusur dizinindeki dosya sayısı: 18\n"
     ]
    },
    {
     "name": "stderr",
     "output_type": "stream",
     "text": [
      "hazelnut: crack verilerini yükleme: 100%|██████████| 18/18 [00:00<00:00, 29.05it/s]\n"
     ]
    },
    {
     "name": "stdout",
     "output_type": "stream",
     "text": [
      "Kusur dizini: C:\\Users\\Tansu\\OneDrive\\Masaüstü\\mvtec\\hazelnut\\test\\cut\n",
      "Kusur dizinindeki dosya sayısı: 17\n"
     ]
    },
    {
     "name": "stderr",
     "output_type": "stream",
     "text": [
      "hazelnut: cut verilerini yükleme: 100%|██████████| 17/17 [00:00<00:00, 23.44it/s]\n"
     ]
    },
    {
     "name": "stdout",
     "output_type": "stream",
     "text": [
      "Kusur dizini: C:\\Users\\Tansu\\OneDrive\\Masaüstü\\mvtec\\hazelnut\\test\\hole\n",
      "Kusur dizinindeki dosya sayısı: 18\n"
     ]
    },
    {
     "name": "stderr",
     "output_type": "stream",
     "text": [
      "hazelnut: hole verilerini yükleme: 100%|██████████| 18/18 [00:00<00:00, 27.54it/s]\n"
     ]
    },
    {
     "name": "stdout",
     "output_type": "stream",
     "text": [
      "Kusur dizini: C:\\Users\\Tansu\\OneDrive\\Masaüstü\\mvtec\\hazelnut\\test\\print\n",
      "Kusur dizinindeki dosya sayısı: 17\n"
     ]
    },
    {
     "name": "stderr",
     "output_type": "stream",
     "text": [
      "hazelnut: print verilerini yükleme: 100%|██████████| 17/17 [00:00<00:00, 29.37it/s]\n"
     ]
    },
    {
     "name": "stdout",
     "output_type": "stream",
     "text": [
      "Eğitim veriseti: (391, 128, 128) - Min: 19, Max: 229\n",
      "Test veriseti: (110, 128, 128) - Min: 19, Max: 255\n",
      "Test etiketleri: (110,)\n",
      "Anomali sayısı: 70\n",
      "Normal test örneği sayısı: 40\n",
      "\n",
      "hazelnut (mvtec) için görselleştirmeler oluşturuluyor...\n",
      "Görselleştirme kaydedildi: anomaly_detection_results\\mvtec\\hazelnut\\hazelnut_(mvtec)___Eğitim_Örnekleri.png\n",
      "Kusur tipleri karşılaştırması kaydedildi: anomaly_detection_results\\mvtec\\hazelnut\\hazelnut_mvtec_defect_types_comparison.png\n",
      "Normal vs Anomali karşılaştırması kaydedildi: anomaly_detection_results\\mvtec\\hazelnut\\hazelnut_mvtec_normal_vs_anomaly_samples.png\n"
     ]
    },
    {
     "data": {
      "text/html": [
       "<pre style=\"white-space:pre;overflow-x:auto;line-height:normal;font-family:Menlo,'DejaVu Sans Mono',consolas,'Courier New',monospace\"><span style=\"font-weight: bold\">Model: \"functional\"</span>\n",
       "</pre>\n"
      ],
      "text/plain": [
       "\u001b[1mModel: \"functional\"\u001b[0m\n"
      ]
     },
     "metadata": {},
     "output_type": "display_data"
    },
    {
     "data": {
      "text/html": [
       "<pre style=\"white-space:pre;overflow-x:auto;line-height:normal;font-family:Menlo,'DejaVu Sans Mono',consolas,'Courier New',monospace\">┏━━━━━━━━━━━━━━━━━━━━━━━━━━━━━━━━━┳━━━━━━━━━━━━━━━━━━━━━━━━┳━━━━━━━━━━━━━━━┓\n",
       "┃<span style=\"font-weight: bold\"> Layer (type)                    </span>┃<span style=\"font-weight: bold\"> Output Shape           </span>┃<span style=\"font-weight: bold\">       Param # </span>┃\n",
       "┡━━━━━━━━━━━━━━━━━━━━━━━━━━━━━━━━━╇━━━━━━━━━━━━━━━━━━━━━━━━╇━━━━━━━━━━━━━━━┩\n",
       "│ input_layer (<span style=\"color: #0087ff; text-decoration-color: #0087ff\">InputLayer</span>)        │ (<span style=\"color: #00d7ff; text-decoration-color: #00d7ff\">None</span>, <span style=\"color: #00af00; text-decoration-color: #00af00\">128</span>, <span style=\"color: #00af00; text-decoration-color: #00af00\">128</span>, <span style=\"color: #00af00; text-decoration-color: #00af00\">1</span>)    │             <span style=\"color: #00af00; text-decoration-color: #00af00\">0</span> │\n",
       "├─────────────────────────────────┼────────────────────────┼───────────────┤\n",
       "│ conv2d (<span style=\"color: #0087ff; text-decoration-color: #0087ff\">Conv2D</span>)                 │ (<span style=\"color: #00d7ff; text-decoration-color: #00d7ff\">None</span>, <span style=\"color: #00af00; text-decoration-color: #00af00\">128</span>, <span style=\"color: #00af00; text-decoration-color: #00af00\">128</span>, <span style=\"color: #00af00; text-decoration-color: #00af00\">32</span>)   │           <span style=\"color: #00af00; text-decoration-color: #00af00\">320</span> │\n",
       "├─────────────────────────────────┼────────────────────────┼───────────────┤\n",
       "│ max_pooling2d (<span style=\"color: #0087ff; text-decoration-color: #0087ff\">MaxPooling2D</span>)    │ (<span style=\"color: #00d7ff; text-decoration-color: #00d7ff\">None</span>, <span style=\"color: #00af00; text-decoration-color: #00af00\">64</span>, <span style=\"color: #00af00; text-decoration-color: #00af00\">64</span>, <span style=\"color: #00af00; text-decoration-color: #00af00\">32</span>)     │             <span style=\"color: #00af00; text-decoration-color: #00af00\">0</span> │\n",
       "├─────────────────────────────────┼────────────────────────┼───────────────┤\n",
       "│ conv2d_1 (<span style=\"color: #0087ff; text-decoration-color: #0087ff\">Conv2D</span>)               │ (<span style=\"color: #00d7ff; text-decoration-color: #00d7ff\">None</span>, <span style=\"color: #00af00; text-decoration-color: #00af00\">64</span>, <span style=\"color: #00af00; text-decoration-color: #00af00\">64</span>, <span style=\"color: #00af00; text-decoration-color: #00af00\">16</span>)     │         <span style=\"color: #00af00; text-decoration-color: #00af00\">4,624</span> │\n",
       "├─────────────────────────────────┼────────────────────────┼───────────────┤\n",
       "│ max_pooling2d_1 (<span style=\"color: #0087ff; text-decoration-color: #0087ff\">MaxPooling2D</span>)  │ (<span style=\"color: #00d7ff; text-decoration-color: #00d7ff\">None</span>, <span style=\"color: #00af00; text-decoration-color: #00af00\">32</span>, <span style=\"color: #00af00; text-decoration-color: #00af00\">32</span>, <span style=\"color: #00af00; text-decoration-color: #00af00\">16</span>)     │             <span style=\"color: #00af00; text-decoration-color: #00af00\">0</span> │\n",
       "├─────────────────────────────────┼────────────────────────┼───────────────┤\n",
       "│ conv2d_2 (<span style=\"color: #0087ff; text-decoration-color: #0087ff\">Conv2D</span>)               │ (<span style=\"color: #00d7ff; text-decoration-color: #00d7ff\">None</span>, <span style=\"color: #00af00; text-decoration-color: #00af00\">32</span>, <span style=\"color: #00af00; text-decoration-color: #00af00\">32</span>, <span style=\"color: #00af00; text-decoration-color: #00af00\">16</span>)     │         <span style=\"color: #00af00; text-decoration-color: #00af00\">2,320</span> │\n",
       "├─────────────────────────────────┼────────────────────────┼───────────────┤\n",
       "│ up_sampling2d (<span style=\"color: #0087ff; text-decoration-color: #0087ff\">UpSampling2D</span>)    │ (<span style=\"color: #00d7ff; text-decoration-color: #00d7ff\">None</span>, <span style=\"color: #00af00; text-decoration-color: #00af00\">64</span>, <span style=\"color: #00af00; text-decoration-color: #00af00\">64</span>, <span style=\"color: #00af00; text-decoration-color: #00af00\">16</span>)     │             <span style=\"color: #00af00; text-decoration-color: #00af00\">0</span> │\n",
       "├─────────────────────────────────┼────────────────────────┼───────────────┤\n",
       "│ conv2d_3 (<span style=\"color: #0087ff; text-decoration-color: #0087ff\">Conv2D</span>)               │ (<span style=\"color: #00d7ff; text-decoration-color: #00d7ff\">None</span>, <span style=\"color: #00af00; text-decoration-color: #00af00\">64</span>, <span style=\"color: #00af00; text-decoration-color: #00af00\">64</span>, <span style=\"color: #00af00; text-decoration-color: #00af00\">32</span>)     │         <span style=\"color: #00af00; text-decoration-color: #00af00\">4,640</span> │\n",
       "├─────────────────────────────────┼────────────────────────┼───────────────┤\n",
       "│ up_sampling2d_1 (<span style=\"color: #0087ff; text-decoration-color: #0087ff\">UpSampling2D</span>)  │ (<span style=\"color: #00d7ff; text-decoration-color: #00d7ff\">None</span>, <span style=\"color: #00af00; text-decoration-color: #00af00\">128</span>, <span style=\"color: #00af00; text-decoration-color: #00af00\">128</span>, <span style=\"color: #00af00; text-decoration-color: #00af00\">32</span>)   │             <span style=\"color: #00af00; text-decoration-color: #00af00\">0</span> │\n",
       "├─────────────────────────────────┼────────────────────────┼───────────────┤\n",
       "│ conv2d_4 (<span style=\"color: #0087ff; text-decoration-color: #0087ff\">Conv2D</span>)               │ (<span style=\"color: #00d7ff; text-decoration-color: #00d7ff\">None</span>, <span style=\"color: #00af00; text-decoration-color: #00af00\">128</span>, <span style=\"color: #00af00; text-decoration-color: #00af00\">128</span>, <span style=\"color: #00af00; text-decoration-color: #00af00\">1</span>)    │           <span style=\"color: #00af00; text-decoration-color: #00af00\">289</span> │\n",
       "└─────────────────────────────────┴────────────────────────┴───────────────┘\n",
       "</pre>\n"
      ],
      "text/plain": [
       "┏━━━━━━━━━━━━━━━━━━━━━━━━━━━━━━━━━┳━━━━━━━━━━━━━━━━━━━━━━━━┳━━━━━━━━━━━━━━━┓\n",
       "┃\u001b[1m \u001b[0m\u001b[1mLayer (type)                   \u001b[0m\u001b[1m \u001b[0m┃\u001b[1m \u001b[0m\u001b[1mOutput Shape          \u001b[0m\u001b[1m \u001b[0m┃\u001b[1m \u001b[0m\u001b[1m      Param #\u001b[0m\u001b[1m \u001b[0m┃\n",
       "┡━━━━━━━━━━━━━━━━━━━━━━━━━━━━━━━━━╇━━━━━━━━━━━━━━━━━━━━━━━━╇━━━━━━━━━━━━━━━┩\n",
       "│ input_layer (\u001b[38;5;33mInputLayer\u001b[0m)        │ (\u001b[38;5;45mNone\u001b[0m, \u001b[38;5;34m128\u001b[0m, \u001b[38;5;34m128\u001b[0m, \u001b[38;5;34m1\u001b[0m)    │             \u001b[38;5;34m0\u001b[0m │\n",
       "├─────────────────────────────────┼────────────────────────┼───────────────┤\n",
       "│ conv2d (\u001b[38;5;33mConv2D\u001b[0m)                 │ (\u001b[38;5;45mNone\u001b[0m, \u001b[38;5;34m128\u001b[0m, \u001b[38;5;34m128\u001b[0m, \u001b[38;5;34m32\u001b[0m)   │           \u001b[38;5;34m320\u001b[0m │\n",
       "├─────────────────────────────────┼────────────────────────┼───────────────┤\n",
       "│ max_pooling2d (\u001b[38;5;33mMaxPooling2D\u001b[0m)    │ (\u001b[38;5;45mNone\u001b[0m, \u001b[38;5;34m64\u001b[0m, \u001b[38;5;34m64\u001b[0m, \u001b[38;5;34m32\u001b[0m)     │             \u001b[38;5;34m0\u001b[0m │\n",
       "├─────────────────────────────────┼────────────────────────┼───────────────┤\n",
       "│ conv2d_1 (\u001b[38;5;33mConv2D\u001b[0m)               │ (\u001b[38;5;45mNone\u001b[0m, \u001b[38;5;34m64\u001b[0m, \u001b[38;5;34m64\u001b[0m, \u001b[38;5;34m16\u001b[0m)     │         \u001b[38;5;34m4,624\u001b[0m │\n",
       "├─────────────────────────────────┼────────────────────────┼───────────────┤\n",
       "│ max_pooling2d_1 (\u001b[38;5;33mMaxPooling2D\u001b[0m)  │ (\u001b[38;5;45mNone\u001b[0m, \u001b[38;5;34m32\u001b[0m, \u001b[38;5;34m32\u001b[0m, \u001b[38;5;34m16\u001b[0m)     │             \u001b[38;5;34m0\u001b[0m │\n",
       "├─────────────────────────────────┼────────────────────────┼───────────────┤\n",
       "│ conv2d_2 (\u001b[38;5;33mConv2D\u001b[0m)               │ (\u001b[38;5;45mNone\u001b[0m, \u001b[38;5;34m32\u001b[0m, \u001b[38;5;34m32\u001b[0m, \u001b[38;5;34m16\u001b[0m)     │         \u001b[38;5;34m2,320\u001b[0m │\n",
       "├─────────────────────────────────┼────────────────────────┼───────────────┤\n",
       "│ up_sampling2d (\u001b[38;5;33mUpSampling2D\u001b[0m)    │ (\u001b[38;5;45mNone\u001b[0m, \u001b[38;5;34m64\u001b[0m, \u001b[38;5;34m64\u001b[0m, \u001b[38;5;34m16\u001b[0m)     │             \u001b[38;5;34m0\u001b[0m │\n",
       "├─────────────────────────────────┼────────────────────────┼───────────────┤\n",
       "│ conv2d_3 (\u001b[38;5;33mConv2D\u001b[0m)               │ (\u001b[38;5;45mNone\u001b[0m, \u001b[38;5;34m64\u001b[0m, \u001b[38;5;34m64\u001b[0m, \u001b[38;5;34m32\u001b[0m)     │         \u001b[38;5;34m4,640\u001b[0m │\n",
       "├─────────────────────────────────┼────────────────────────┼───────────────┤\n",
       "│ up_sampling2d_1 (\u001b[38;5;33mUpSampling2D\u001b[0m)  │ (\u001b[38;5;45mNone\u001b[0m, \u001b[38;5;34m128\u001b[0m, \u001b[38;5;34m128\u001b[0m, \u001b[38;5;34m32\u001b[0m)   │             \u001b[38;5;34m0\u001b[0m │\n",
       "├─────────────────────────────────┼────────────────────────┼───────────────┤\n",
       "│ conv2d_4 (\u001b[38;5;33mConv2D\u001b[0m)               │ (\u001b[38;5;45mNone\u001b[0m, \u001b[38;5;34m128\u001b[0m, \u001b[38;5;34m128\u001b[0m, \u001b[38;5;34m1\u001b[0m)    │           \u001b[38;5;34m289\u001b[0m │\n",
       "└─────────────────────────────────┴────────────────────────┴───────────────┘\n"
      ]
     },
     "metadata": {},
     "output_type": "display_data"
    },
    {
     "data": {
      "text/html": [
       "<pre style=\"white-space:pre;overflow-x:auto;line-height:normal;font-family:Menlo,'DejaVu Sans Mono',consolas,'Courier New',monospace\"><span style=\"font-weight: bold\"> Total params: </span><span style=\"color: #00af00; text-decoration-color: #00af00\">12,193</span> (47.63 KB)\n",
       "</pre>\n"
      ],
      "text/plain": [
       "\u001b[1m Total params: \u001b[0m\u001b[38;5;34m12,193\u001b[0m (47.63 KB)\n"
      ]
     },
     "metadata": {},
     "output_type": "display_data"
    },
    {
     "data": {
      "text/html": [
       "<pre style=\"white-space:pre;overflow-x:auto;line-height:normal;font-family:Menlo,'DejaVu Sans Mono',consolas,'Courier New',monospace\"><span style=\"font-weight: bold\"> Trainable params: </span><span style=\"color: #00af00; text-decoration-color: #00af00\">12,193</span> (47.63 KB)\n",
       "</pre>\n"
      ],
      "text/plain": [
       "\u001b[1m Trainable params: \u001b[0m\u001b[38;5;34m12,193\u001b[0m (47.63 KB)\n"
      ]
     },
     "metadata": {},
     "output_type": "display_data"
    },
    {
     "data": {
      "text/html": [
       "<pre style=\"white-space:pre;overflow-x:auto;line-height:normal;font-family:Menlo,'DejaVu Sans Mono',consolas,'Courier New',monospace\"><span style=\"font-weight: bold\"> Non-trainable params: </span><span style=\"color: #00af00; text-decoration-color: #00af00\">0</span> (0.00 B)\n",
       "</pre>\n"
      ],
      "text/plain": [
       "\u001b[1m Non-trainable params: \u001b[0m\u001b[38;5;34m0\u001b[0m (0.00 B)\n"
      ]
     },
     "metadata": {},
     "output_type": "display_data"
    },
    {
     "name": "stdout",
     "output_type": "stream",
     "text": [
      "Epoch 1/20\n",
      "\u001b[1m10/10\u001b[0m \u001b[32m━━━━━━━━━━━━━━━━━━━━\u001b[0m\u001b[37m\u001b[0m \u001b[1m0s\u001b[0m 102ms/step - loss: 0.0950\n",
      "Epoch 1: val_loss improved from inf to 0.04417, saving model to anomaly_detection_results\\mvtec\\hazelnut\\hazelnut_mvtec_best_model.keras\n",
      "\u001b[1m10/10\u001b[0m \u001b[32m━━━━━━━━━━━━━━━━━━━━\u001b[0m\u001b[37m\u001b[0m \u001b[1m3s\u001b[0m 143ms/step - loss: 0.0941 - val_loss: 0.0442\n",
      "Epoch 2/20\n",
      "\u001b[1m10/10\u001b[0m \u001b[32m━━━━━━━━━━━━━━━━━━━━\u001b[0m\u001b[37m\u001b[0m \u001b[1m0s\u001b[0m 102ms/step - loss: 0.0402\n",
      "Epoch 2: val_loss improved from 0.04417 to 0.03388, saving model to anomaly_detection_results\\mvtec\\hazelnut\\hazelnut_mvtec_best_model.keras\n",
      "\u001b[1m10/10\u001b[0m \u001b[32m━━━━━━━━━━━━━━━━━━━━\u001b[0m\u001b[37m\u001b[0m \u001b[1m1s\u001b[0m 121ms/step - loss: 0.0398 - val_loss: 0.0339\n",
      "Epoch 3/20\n",
      "\u001b[1m10/10\u001b[0m \u001b[32m━━━━━━━━━━━━━━━━━━━━\u001b[0m\u001b[37m\u001b[0m \u001b[1m0s\u001b[0m 102ms/step - loss: 0.0350\n",
      "Epoch 3: val_loss improved from 0.03388 to 0.02866, saving model to anomaly_detection_results\\mvtec\\hazelnut\\hazelnut_mvtec_best_model.keras\n",
      "\u001b[1m10/10\u001b[0m \u001b[32m━━━━━━━━━━━━━━━━━━━━\u001b[0m\u001b[37m\u001b[0m \u001b[1m1s\u001b[0m 121ms/step - loss: 0.0350 - val_loss: 0.0287\n",
      "Epoch 4/20\n",
      "\u001b[1m10/10\u001b[0m \u001b[32m━━━━━━━━━━━━━━━━━━━━\u001b[0m\u001b[37m\u001b[0m \u001b[1m0s\u001b[0m 106ms/step - loss: 0.0298\n",
      "Epoch 4: val_loss improved from 0.02866 to 0.02148, saving model to anomaly_detection_results\\mvtec\\hazelnut\\hazelnut_mvtec_best_model.keras\n",
      "\u001b[1m10/10\u001b[0m \u001b[32m━━━━━━━━━━━━━━━━━━━━\u001b[0m\u001b[37m\u001b[0m \u001b[1m1s\u001b[0m 125ms/step - loss: 0.0296 - val_loss: 0.0215\n",
      "Epoch 5/20\n",
      "\u001b[1m10/10\u001b[0m \u001b[32m━━━━━━━━━━━━━━━━━━━━\u001b[0m\u001b[37m\u001b[0m \u001b[1m0s\u001b[0m 109ms/step - loss: 0.0242\n",
      "Epoch 5: val_loss improved from 0.02148 to 0.01601, saving model to anomaly_detection_results\\mvtec\\hazelnut\\hazelnut_mvtec_best_model.keras\n",
      "\u001b[1m10/10\u001b[0m \u001b[32m━━━━━━━━━━━━━━━━━━━━\u001b[0m\u001b[37m\u001b[0m \u001b[1m1s\u001b[0m 127ms/step - loss: 0.0240 - val_loss: 0.0160\n",
      "Epoch 6/20\n",
      "\u001b[1m10/10\u001b[0m \u001b[32m━━━━━━━━━━━━━━━━━━━━\u001b[0m\u001b[37m\u001b[0m \u001b[1m0s\u001b[0m 109ms/step - loss: 0.0173\n",
      "Epoch 6: val_loss improved from 0.01601 to 0.00769, saving model to anomaly_detection_results\\mvtec\\hazelnut\\hazelnut_mvtec_best_model.keras\n",
      "\u001b[1m10/10\u001b[0m \u001b[32m━━━━━━━━━━━━━━━━━━━━\u001b[0m\u001b[37m\u001b[0m \u001b[1m1s\u001b[0m 129ms/step - loss: 0.0171 - val_loss: 0.0077\n",
      "Epoch 7/20\n",
      "\u001b[1m10/10\u001b[0m \u001b[32m━━━━━━━━━━━━━━━━━━━━\u001b[0m\u001b[37m\u001b[0m \u001b[1m0s\u001b[0m 109ms/step - loss: 0.0071\n",
      "Epoch 7: val_loss improved from 0.00769 to 0.00212, saving model to anomaly_detection_results\\mvtec\\hazelnut\\hazelnut_mvtec_best_model.keras\n",
      "\u001b[1m10/10\u001b[0m \u001b[32m━━━━━━━━━━━━━━━━━━━━\u001b[0m\u001b[37m\u001b[0m \u001b[1m1s\u001b[0m 129ms/step - loss: 0.0070 - val_loss: 0.0021\n",
      "Epoch 8/20\n",
      "\u001b[1m10/10\u001b[0m \u001b[32m━━━━━━━━━━━━━━━━━━━━\u001b[0m\u001b[37m\u001b[0m \u001b[1m0s\u001b[0m 107ms/step - loss: 0.0023\n",
      "Epoch 8: val_loss improved from 0.00212 to 0.00187, saving model to anomaly_detection_results\\mvtec\\hazelnut\\hazelnut_mvtec_best_model.keras\n",
      "\u001b[1m10/10\u001b[0m \u001b[32m━━━━━━━━━━━━━━━━━━━━\u001b[0m\u001b[37m\u001b[0m \u001b[1m1s\u001b[0m 131ms/step - loss: 0.0023 - val_loss: 0.0019\n",
      "Epoch 9/20\n",
      "\u001b[1m10/10\u001b[0m \u001b[32m━━━━━━━━━━━━━━━━━━━━\u001b[0m\u001b[37m\u001b[0m \u001b[1m0s\u001b[0m 109ms/step - loss: 0.0019\n",
      "Epoch 9: val_loss improved from 0.00187 to 0.00132, saving model to anomaly_detection_results\\mvtec\\hazelnut\\hazelnut_mvtec_best_model.keras\n",
      "\u001b[1m10/10\u001b[0m \u001b[32m━━━━━━━━━━━━━━━━━━━━\u001b[0m\u001b[37m\u001b[0m \u001b[1m1s\u001b[0m 129ms/step - loss: 0.0019 - val_loss: 0.0013\n",
      "Epoch 10/20\n",
      "\u001b[1m10/10\u001b[0m \u001b[32m━━━━━━━━━━━━━━━━━━━━\u001b[0m\u001b[37m\u001b[0m \u001b[1m0s\u001b[0m 109ms/step - loss: 0.0015\n",
      "Epoch 10: val_loss improved from 0.00132 to 0.00106, saving model to anomaly_detection_results\\mvtec\\hazelnut\\hazelnut_mvtec_best_model.keras\n",
      "\u001b[1m10/10\u001b[0m \u001b[32m━━━━━━━━━━━━━━━━━━━━\u001b[0m\u001b[37m\u001b[0m \u001b[1m1s\u001b[0m 130ms/step - loss: 0.0015 - val_loss: 0.0011\n",
      "Epoch 11/20\n",
      "\u001b[1m10/10\u001b[0m \u001b[32m━━━━━━━━━━━━━━━━━━━━\u001b[0m\u001b[37m\u001b[0m \u001b[1m0s\u001b[0m 106ms/step - loss: 0.0012\n",
      "Epoch 11: val_loss improved from 0.00106 to 0.00090, saving model to anomaly_detection_results\\mvtec\\hazelnut\\hazelnut_mvtec_best_model.keras\n",
      "\u001b[1m10/10\u001b[0m \u001b[32m━━━━━━━━━━━━━━━━━━━━\u001b[0m\u001b[37m\u001b[0m \u001b[1m1s\u001b[0m 125ms/step - loss: 0.0012 - val_loss: 9.0326e-04\n",
      "Epoch 12/20\n",
      "\u001b[1m10/10\u001b[0m \u001b[32m━━━━━━━━━━━━━━━━━━━━\u001b[0m\u001b[37m\u001b[0m \u001b[1m0s\u001b[0m 110ms/step - loss: 0.0010\n",
      "Epoch 12: val_loss improved from 0.00090 to 0.00077, saving model to anomaly_detection_results\\mvtec\\hazelnut\\hazelnut_mvtec_best_model.keras\n",
      "\u001b[1m10/10\u001b[0m \u001b[32m━━━━━━━━━━━━━━━━━━━━\u001b[0m\u001b[37m\u001b[0m \u001b[1m1s\u001b[0m 130ms/step - loss: 0.0010 - val_loss: 7.7111e-04\n",
      "Epoch 13/20\n",
      "\u001b[1m10/10\u001b[0m \u001b[32m━━━━━━━━━━━━━━━━━━━━\u001b[0m\u001b[37m\u001b[0m \u001b[1m0s\u001b[0m 108ms/step - loss: 8.6922e-04\n",
      "Epoch 13: val_loss improved from 0.00077 to 0.00067, saving model to anomaly_detection_results\\mvtec\\hazelnut\\hazelnut_mvtec_best_model.keras\n",
      "\u001b[1m10/10\u001b[0m \u001b[32m━━━━━━━━━━━━━━━━━━━━\u001b[0m\u001b[37m\u001b[0m \u001b[1m1s\u001b[0m 127ms/step - loss: 8.6753e-04 - val_loss: 6.7090e-04\n",
      "Epoch 14/20\n",
      "\u001b[1m10/10\u001b[0m \u001b[32m━━━━━━━━━━━━━━━━━━━━\u001b[0m\u001b[37m\u001b[0m \u001b[1m0s\u001b[0m 107ms/step - loss: 7.5826e-04\n",
      "Epoch 14: val_loss improved from 0.00067 to 0.00060, saving model to anomaly_detection_results\\mvtec\\hazelnut\\hazelnut_mvtec_best_model.keras\n",
      "\u001b[1m10/10\u001b[0m \u001b[32m━━━━━━━━━━━━━━━━━━━━\u001b[0m\u001b[37m\u001b[0m \u001b[1m1s\u001b[0m 127ms/step - loss: 7.5754e-04 - val_loss: 6.0434e-04\n",
      "Epoch 15/20\n",
      "\u001b[1m10/10\u001b[0m \u001b[32m━━━━━━━━━━━━━━━━━━━━\u001b[0m\u001b[37m\u001b[0m \u001b[1m0s\u001b[0m 125ms/step - loss: 6.6706e-04\n",
      "Epoch 15: val_loss improved from 0.00060 to 0.00055, saving model to anomaly_detection_results\\mvtec\\hazelnut\\hazelnut_mvtec_best_model.keras\n",
      "\u001b[1m10/10\u001b[0m \u001b[32m━━━━━━━━━━━━━━━━━━━━\u001b[0m\u001b[37m\u001b[0m \u001b[1m1s\u001b[0m 148ms/step - loss: 6.6807e-04 - val_loss: 5.5014e-04\n",
      "Epoch 16/20\n",
      "\u001b[1m10/10\u001b[0m \u001b[32m━━━━━━━━━━━━━━━━━━━━\u001b[0m\u001b[37m\u001b[0m \u001b[1m0s\u001b[0m 113ms/step - loss: 6.3165e-04\n",
      "Epoch 16: val_loss improved from 0.00055 to 0.00049, saving model to anomaly_detection_results\\mvtec\\hazelnut\\hazelnut_mvtec_best_model.keras\n",
      "\u001b[1m10/10\u001b[0m \u001b[32m━━━━━━━━━━━━━━━━━━━━\u001b[0m\u001b[37m\u001b[0m \u001b[1m1s\u001b[0m 136ms/step - loss: 6.2997e-04 - val_loss: 4.8878e-04\n",
      "Epoch 17/20\n",
      "\u001b[1m10/10\u001b[0m \u001b[32m━━━━━━━━━━━━━━━━━━━━\u001b[0m\u001b[37m\u001b[0m \u001b[1m0s\u001b[0m 115ms/step - loss: 5.7043e-04\n",
      "Epoch 17: val_loss improved from 0.00049 to 0.00045, saving model to anomaly_detection_results\\mvtec\\hazelnut\\hazelnut_mvtec_best_model.keras\n",
      "\u001b[1m10/10\u001b[0m \u001b[32m━━━━━━━━━━━━━━━━━━━━\u001b[0m\u001b[37m\u001b[0m \u001b[1m1s\u001b[0m 142ms/step - loss: 5.7017e-04 - val_loss: 4.4811e-04\n",
      "Epoch 18/20\n",
      "\u001b[1m10/10\u001b[0m \u001b[32m━━━━━━━━━━━━━━━━━━━━\u001b[0m\u001b[37m\u001b[0m \u001b[1m0s\u001b[0m 116ms/step - loss: 5.2787e-04\n",
      "Epoch 18: val_loss improved from 0.00045 to 0.00042, saving model to anomaly_detection_results\\mvtec\\hazelnut\\hazelnut_mvtec_best_model.keras\n",
      "\u001b[1m10/10\u001b[0m \u001b[32m━━━━━━━━━━━━━━━━━━━━\u001b[0m\u001b[37m\u001b[0m \u001b[1m1s\u001b[0m 140ms/step - loss: 5.2730e-04 - val_loss: 4.1897e-04\n",
      "Epoch 19/20\n",
      "\u001b[1m10/10\u001b[0m \u001b[32m━━━━━━━━━━━━━━━━━━━━\u001b[0m\u001b[37m\u001b[0m \u001b[1m0s\u001b[0m 119ms/step - loss: 4.9532e-04\n",
      "Epoch 19: val_loss improved from 0.00042 to 0.00039, saving model to anomaly_detection_results\\mvtec\\hazelnut\\hazelnut_mvtec_best_model.keras\n",
      "\u001b[1m10/10\u001b[0m \u001b[32m━━━━━━━━━━━━━━━━━━━━\u001b[0m\u001b[37m\u001b[0m \u001b[1m1s\u001b[0m 141ms/step - loss: 4.9501e-04 - val_loss: 3.9425e-04\n",
      "Epoch 20/20\n",
      "\u001b[1m10/10\u001b[0m \u001b[32m━━━━━━━━━━━━━━━━━━━━\u001b[0m\u001b[37m\u001b[0m \u001b[1m0s\u001b[0m 115ms/step - loss: 4.8569e-04\n",
      "Epoch 20: val_loss improved from 0.00039 to 0.00038, saving model to anomaly_detection_results\\mvtec\\hazelnut\\hazelnut_mvtec_best_model.keras\n",
      "\u001b[1m10/10\u001b[0m \u001b[32m━━━━━━━━━━━━━━━━━━━━\u001b[0m\u001b[37m\u001b[0m \u001b[1m1s\u001b[0m 141ms/step - loss: 4.8422e-04 - val_loss: 3.7767e-04\n",
      "Eğitim tamamlandı. Süre: 27.75 saniye\n",
      "En iyi model yüklendi: anomaly_detection_results\\mvtec\\hazelnut\\hazelnut_mvtec_best_model.keras\n",
      "Eğitim geçmişi grafiği kaydedildi: anomaly_detection_results\\mvtec\\hazelnut\\hazelnut_mvtec_training_history.png\n",
      "Rekonstrüksiyon başlatılıyor...\n",
      "\u001b[1m4/4\u001b[0m \u001b[32m━━━━━━━━━━━━━━━━━━━━\u001b[0m\u001b[37m\u001b[0m \u001b[1m0s\u001b[0m 89ms/step\n",
      "Anomali eşik değeri (95. yüzdelik): 0.003162\n",
      "Doğruluk (Accuracy): 0.4182\n",
      "Hassasiyet (Precision): 1.0000\n",
      "Duyarlılık (Recall): 0.0857\n",
      "F1 Skoru: 0.1579\n",
      "ROC AUC: 0.8868\n",
      "\n",
      "hazelnut (mvtec) için analiz sonuçları görselleştiriliyor...\n",
      "Rekonstrüksiyon sonuçları kaydedildi: anomaly_detection_results\\mvtec\\hazelnut\\hazelnut_mvtec_reconstruction_results.png\n",
      "Normal örnekler MSE - Min: 0.000219, Max: 0.000635, Ortalama: 0.000394\n",
      "Anomali örnekler MSE - Min: 0.000307, Max: 0.004912, Ortalama: 0.001185\n",
      "MSE karşılaştırma histogramı kaydedildi: anomaly_detection_results\\mvtec\\hazelnut\\hazelnut_mvtec_mse_comparison_histogram.png\n",
      "ROC eğrisi kaydedildi: anomaly_detection_results\\mvtec\\hazelnut\\hazelnut_mvtec_roc_curve.png\n",
      "Karışıklık matrisi kaydedildi: anomaly_detection_results\\mvtec\\hazelnut\\hazelnut_mvtec_confusion_matrix.png\n",
      "hole kusur tipi detaylı analizi kaydedildi: anomaly_detection_results\\mvtec\\hazelnut\\hazelnut_mvtec_hole_detailed_analysis.png\n",
      "cut kusur tipi detaylı analizi kaydedildi: anomaly_detection_results\\mvtec\\hazelnut\\hazelnut_mvtec_cut_detailed_analysis.png\n",
      "crack kusur tipi detaylı analizi kaydedildi: anomaly_detection_results\\mvtec\\hazelnut\\hazelnut_mvtec_crack_detailed_analysis.png\n",
      "print kusur tipi detaylı analizi kaydedildi: anomaly_detection_results\\mvtec\\hazelnut\\hazelnut_mvtec_print_detailed_analysis.png\n",
      "Kusur tipi metrikleri kaydedildi: anomaly_detection_results\\mvtec\\hazelnut\\hazelnut_mvtec_defect_type_metrics.png\n",
      "Kusur tipine göre MSE dağılımı kaydedildi: anomaly_detection_results\\mvtec\\hazelnut\\hazelnut_mvtec_defect_type_mse_distribution.png\n",
      "Sonuçlar başarıyla kaydedildi: anomaly_detection_results\\mvtec\\hazelnut\n",
      "MVTec: hazelnut kategorisi başarıyla işlendi.\n",
      "\n",
      "==================================================\n",
      "İşleniyor: screw (MVTEC veri seti)\n",
      "==================================================\n",
      "Eğitim dizini: C:\\Users\\Tansu\\OneDrive\\Masaüstü\\mvtec\\screw\\train\n",
      "Test dizini: C:\\Users\\Tansu\\OneDrive\\Masaüstü\\mvtec\\screw\\test\n",
      "Eğitim 'good' dizini: C:\\Users\\Tansu\\OneDrive\\Masaüstü\\mvtec\\screw\\train\\good\n",
      "Eğitim 'good' dizinindeki dosya sayısı: 320\n"
     ]
    },
    {
     "name": "stderr",
     "output_type": "stream",
     "text": [
      "screw: Eğitim verilerini yükleme: 100%|██████████| 320/320 [00:04<00:00, 79.28it/s]\n"
     ]
    },
    {
     "name": "stdout",
     "output_type": "stream",
     "text": [
      "Test 'good' dizini: C:\\Users\\Tansu\\OneDrive\\Masaüstü\\mvtec\\screw\\test\\good\n",
      "Test 'good' dizinindeki dosya sayısı: 41\n"
     ]
    },
    {
     "name": "stderr",
     "output_type": "stream",
     "text": [
      "screw: Normal test verilerini yükleme: 100%|██████████| 41/41 [00:00<00:00, 77.63it/s]\n"
     ]
    },
    {
     "name": "stdout",
     "output_type": "stream",
     "text": [
      "Tespit edilen kusur tipleri: ['manipulated_front', 'scratch_head', 'scratch_neck', 'thread_side', 'thread_top']\n",
      "Kusur dizini: C:\\Users\\Tansu\\OneDrive\\Masaüstü\\mvtec\\screw\\test\\manipulated_front\n",
      "Kusur dizinindeki dosya sayısı: 24\n"
     ]
    },
    {
     "name": "stderr",
     "output_type": "stream",
     "text": [
      "screw: manipulated_front verilerini yükleme: 100%|██████████| 24/24 [00:00<00:00, 74.30it/s]\n"
     ]
    },
    {
     "name": "stdout",
     "output_type": "stream",
     "text": [
      "Kusur dizini: C:\\Users\\Tansu\\OneDrive\\Masaüstü\\mvtec\\screw\\test\\scratch_head\n",
      "Kusur dizinindeki dosya sayısı: 24\n"
     ]
    },
    {
     "name": "stderr",
     "output_type": "stream",
     "text": [
      "screw: scratch_head verilerini yükleme: 100%|██████████| 24/24 [00:00<00:00, 74.95it/s]\n"
     ]
    },
    {
     "name": "stdout",
     "output_type": "stream",
     "text": [
      "Kusur dizini: C:\\Users\\Tansu\\OneDrive\\Masaüstü\\mvtec\\screw\\test\\scratch_neck\n",
      "Kusur dizinindeki dosya sayısı: 25\n"
     ]
    },
    {
     "name": "stderr",
     "output_type": "stream",
     "text": [
      "screw: scratch_neck verilerini yükleme: 100%|██████████| 25/25 [00:00<00:00, 74.07it/s]\n"
     ]
    },
    {
     "name": "stdout",
     "output_type": "stream",
     "text": [
      "Kusur dizini: C:\\Users\\Tansu\\OneDrive\\Masaüstü\\mvtec\\screw\\test\\thread_side\n",
      "Kusur dizinindeki dosya sayısı: 23\n"
     ]
    },
    {
     "name": "stderr",
     "output_type": "stream",
     "text": [
      "screw: thread_side verilerini yükleme: 100%|██████████| 23/23 [00:00<00:00, 70.87it/s]\n"
     ]
    },
    {
     "name": "stdout",
     "output_type": "stream",
     "text": [
      "Kusur dizini: C:\\Users\\Tansu\\OneDrive\\Masaüstü\\mvtec\\screw\\test\\thread_top\n",
      "Kusur dizinindeki dosya sayısı: 23\n"
     ]
    },
    {
     "name": "stderr",
     "output_type": "stream",
     "text": [
      "screw: thread_top verilerini yükleme: 100%|██████████| 23/23 [00:00<00:00, 77.58it/s]\n"
     ]
    },
    {
     "name": "stdout",
     "output_type": "stream",
     "text": [
      "Eğitim veriseti: (320, 128, 128) - Min: 26, Max: 231\n",
      "Test veriseti: (160, 128, 128) - Min: 29, Max: 224\n",
      "Test etiketleri: (160,)\n",
      "Anomali sayısı: 119\n",
      "Normal test örneği sayısı: 41\n",
      "\n",
      "screw (mvtec) için görselleştirmeler oluşturuluyor...\n",
      "Görselleştirme kaydedildi: anomaly_detection_results\\mvtec\\screw\\screw_(mvtec)___Eğitim_Örnekleri.png\n",
      "Kusur tipleri karşılaştırması kaydedildi: anomaly_detection_results\\mvtec\\screw\\screw_mvtec_defect_types_comparison.png\n",
      "Normal vs Anomali karşılaştırması kaydedildi: anomaly_detection_results\\mvtec\\screw\\screw_mvtec_normal_vs_anomaly_samples.png\n"
     ]
    },
    {
     "data": {
      "text/html": [
       "<pre style=\"white-space:pre;overflow-x:auto;line-height:normal;font-family:Menlo,'DejaVu Sans Mono',consolas,'Courier New',monospace\"><span style=\"font-weight: bold\">Model: \"functional_1\"</span>\n",
       "</pre>\n"
      ],
      "text/plain": [
       "\u001b[1mModel: \"functional_1\"\u001b[0m\n"
      ]
     },
     "metadata": {},
     "output_type": "display_data"
    },
    {
     "data": {
      "text/html": [
       "<pre style=\"white-space:pre;overflow-x:auto;line-height:normal;font-family:Menlo,'DejaVu Sans Mono',consolas,'Courier New',monospace\">┏━━━━━━━━━━━━━━━━━━━━━━━━━━━━━━━━━┳━━━━━━━━━━━━━━━━━━━━━━━━┳━━━━━━━━━━━━━━━┓\n",
       "┃<span style=\"font-weight: bold\"> Layer (type)                    </span>┃<span style=\"font-weight: bold\"> Output Shape           </span>┃<span style=\"font-weight: bold\">       Param # </span>┃\n",
       "┡━━━━━━━━━━━━━━━━━━━━━━━━━━━━━━━━━╇━━━━━━━━━━━━━━━━━━━━━━━━╇━━━━━━━━━━━━━━━┩\n",
       "│ input_layer (<span style=\"color: #0087ff; text-decoration-color: #0087ff\">InputLayer</span>)        │ (<span style=\"color: #00d7ff; text-decoration-color: #00d7ff\">None</span>, <span style=\"color: #00af00; text-decoration-color: #00af00\">128</span>, <span style=\"color: #00af00; text-decoration-color: #00af00\">128</span>, <span style=\"color: #00af00; text-decoration-color: #00af00\">1</span>)    │             <span style=\"color: #00af00; text-decoration-color: #00af00\">0</span> │\n",
       "├─────────────────────────────────┼────────────────────────┼───────────────┤\n",
       "│ conv2d_5 (<span style=\"color: #0087ff; text-decoration-color: #0087ff\">Conv2D</span>)               │ (<span style=\"color: #00d7ff; text-decoration-color: #00d7ff\">None</span>, <span style=\"color: #00af00; text-decoration-color: #00af00\">128</span>, <span style=\"color: #00af00; text-decoration-color: #00af00\">128</span>, <span style=\"color: #00af00; text-decoration-color: #00af00\">32</span>)   │           <span style=\"color: #00af00; text-decoration-color: #00af00\">320</span> │\n",
       "├─────────────────────────────────┼────────────────────────┼───────────────┤\n",
       "│ max_pooling2d_2 (<span style=\"color: #0087ff; text-decoration-color: #0087ff\">MaxPooling2D</span>)  │ (<span style=\"color: #00d7ff; text-decoration-color: #00d7ff\">None</span>, <span style=\"color: #00af00; text-decoration-color: #00af00\">64</span>, <span style=\"color: #00af00; text-decoration-color: #00af00\">64</span>, <span style=\"color: #00af00; text-decoration-color: #00af00\">32</span>)     │             <span style=\"color: #00af00; text-decoration-color: #00af00\">0</span> │\n",
       "├─────────────────────────────────┼────────────────────────┼───────────────┤\n",
       "│ conv2d_6 (<span style=\"color: #0087ff; text-decoration-color: #0087ff\">Conv2D</span>)               │ (<span style=\"color: #00d7ff; text-decoration-color: #00d7ff\">None</span>, <span style=\"color: #00af00; text-decoration-color: #00af00\">64</span>, <span style=\"color: #00af00; text-decoration-color: #00af00\">64</span>, <span style=\"color: #00af00; text-decoration-color: #00af00\">16</span>)     │         <span style=\"color: #00af00; text-decoration-color: #00af00\">4,624</span> │\n",
       "├─────────────────────────────────┼────────────────────────┼───────────────┤\n",
       "│ max_pooling2d_3 (<span style=\"color: #0087ff; text-decoration-color: #0087ff\">MaxPooling2D</span>)  │ (<span style=\"color: #00d7ff; text-decoration-color: #00d7ff\">None</span>, <span style=\"color: #00af00; text-decoration-color: #00af00\">32</span>, <span style=\"color: #00af00; text-decoration-color: #00af00\">32</span>, <span style=\"color: #00af00; text-decoration-color: #00af00\">16</span>)     │             <span style=\"color: #00af00; text-decoration-color: #00af00\">0</span> │\n",
       "├─────────────────────────────────┼────────────────────────┼───────────────┤\n",
       "│ conv2d_7 (<span style=\"color: #0087ff; text-decoration-color: #0087ff\">Conv2D</span>)               │ (<span style=\"color: #00d7ff; text-decoration-color: #00d7ff\">None</span>, <span style=\"color: #00af00; text-decoration-color: #00af00\">32</span>, <span style=\"color: #00af00; text-decoration-color: #00af00\">32</span>, <span style=\"color: #00af00; text-decoration-color: #00af00\">16</span>)     │         <span style=\"color: #00af00; text-decoration-color: #00af00\">2,320</span> │\n",
       "├─────────────────────────────────┼────────────────────────┼───────────────┤\n",
       "│ up_sampling2d_2 (<span style=\"color: #0087ff; text-decoration-color: #0087ff\">UpSampling2D</span>)  │ (<span style=\"color: #00d7ff; text-decoration-color: #00d7ff\">None</span>, <span style=\"color: #00af00; text-decoration-color: #00af00\">64</span>, <span style=\"color: #00af00; text-decoration-color: #00af00\">64</span>, <span style=\"color: #00af00; text-decoration-color: #00af00\">16</span>)     │             <span style=\"color: #00af00; text-decoration-color: #00af00\">0</span> │\n",
       "├─────────────────────────────────┼────────────────────────┼───────────────┤\n",
       "│ conv2d_8 (<span style=\"color: #0087ff; text-decoration-color: #0087ff\">Conv2D</span>)               │ (<span style=\"color: #00d7ff; text-decoration-color: #00d7ff\">None</span>, <span style=\"color: #00af00; text-decoration-color: #00af00\">64</span>, <span style=\"color: #00af00; text-decoration-color: #00af00\">64</span>, <span style=\"color: #00af00; text-decoration-color: #00af00\">32</span>)     │         <span style=\"color: #00af00; text-decoration-color: #00af00\">4,640</span> │\n",
       "├─────────────────────────────────┼────────────────────────┼───────────────┤\n",
       "│ up_sampling2d_3 (<span style=\"color: #0087ff; text-decoration-color: #0087ff\">UpSampling2D</span>)  │ (<span style=\"color: #00d7ff; text-decoration-color: #00d7ff\">None</span>, <span style=\"color: #00af00; text-decoration-color: #00af00\">128</span>, <span style=\"color: #00af00; text-decoration-color: #00af00\">128</span>, <span style=\"color: #00af00; text-decoration-color: #00af00\">32</span>)   │             <span style=\"color: #00af00; text-decoration-color: #00af00\">0</span> │\n",
       "├─────────────────────────────────┼────────────────────────┼───────────────┤\n",
       "│ conv2d_9 (<span style=\"color: #0087ff; text-decoration-color: #0087ff\">Conv2D</span>)               │ (<span style=\"color: #00d7ff; text-decoration-color: #00d7ff\">None</span>, <span style=\"color: #00af00; text-decoration-color: #00af00\">128</span>, <span style=\"color: #00af00; text-decoration-color: #00af00\">128</span>, <span style=\"color: #00af00; text-decoration-color: #00af00\">1</span>)    │           <span style=\"color: #00af00; text-decoration-color: #00af00\">289</span> │\n",
       "└─────────────────────────────────┴────────────────────────┴───────────────┘\n",
       "</pre>\n"
      ],
      "text/plain": [
       "┏━━━━━━━━━━━━━━━━━━━━━━━━━━━━━━━━━┳━━━━━━━━━━━━━━━━━━━━━━━━┳━━━━━━━━━━━━━━━┓\n",
       "┃\u001b[1m \u001b[0m\u001b[1mLayer (type)                   \u001b[0m\u001b[1m \u001b[0m┃\u001b[1m \u001b[0m\u001b[1mOutput Shape          \u001b[0m\u001b[1m \u001b[0m┃\u001b[1m \u001b[0m\u001b[1m      Param #\u001b[0m\u001b[1m \u001b[0m┃\n",
       "┡━━━━━━━━━━━━━━━━━━━━━━━━━━━━━━━━━╇━━━━━━━━━━━━━━━━━━━━━━━━╇━━━━━━━━━━━━━━━┩\n",
       "│ input_layer (\u001b[38;5;33mInputLayer\u001b[0m)        │ (\u001b[38;5;45mNone\u001b[0m, \u001b[38;5;34m128\u001b[0m, \u001b[38;5;34m128\u001b[0m, \u001b[38;5;34m1\u001b[0m)    │             \u001b[38;5;34m0\u001b[0m │\n",
       "├─────────────────────────────────┼────────────────────────┼───────────────┤\n",
       "│ conv2d_5 (\u001b[38;5;33mConv2D\u001b[0m)               │ (\u001b[38;5;45mNone\u001b[0m, \u001b[38;5;34m128\u001b[0m, \u001b[38;5;34m128\u001b[0m, \u001b[38;5;34m32\u001b[0m)   │           \u001b[38;5;34m320\u001b[0m │\n",
       "├─────────────────────────────────┼────────────────────────┼───────────────┤\n",
       "│ max_pooling2d_2 (\u001b[38;5;33mMaxPooling2D\u001b[0m)  │ (\u001b[38;5;45mNone\u001b[0m, \u001b[38;5;34m64\u001b[0m, \u001b[38;5;34m64\u001b[0m, \u001b[38;5;34m32\u001b[0m)     │             \u001b[38;5;34m0\u001b[0m │\n",
       "├─────────────────────────────────┼────────────────────────┼───────────────┤\n",
       "│ conv2d_6 (\u001b[38;5;33mConv2D\u001b[0m)               │ (\u001b[38;5;45mNone\u001b[0m, \u001b[38;5;34m64\u001b[0m, \u001b[38;5;34m64\u001b[0m, \u001b[38;5;34m16\u001b[0m)     │         \u001b[38;5;34m4,624\u001b[0m │\n",
       "├─────────────────────────────────┼────────────────────────┼───────────────┤\n",
       "│ max_pooling2d_3 (\u001b[38;5;33mMaxPooling2D\u001b[0m)  │ (\u001b[38;5;45mNone\u001b[0m, \u001b[38;5;34m32\u001b[0m, \u001b[38;5;34m32\u001b[0m, \u001b[38;5;34m16\u001b[0m)     │             \u001b[38;5;34m0\u001b[0m │\n",
       "├─────────────────────────────────┼────────────────────────┼───────────────┤\n",
       "│ conv2d_7 (\u001b[38;5;33mConv2D\u001b[0m)               │ (\u001b[38;5;45mNone\u001b[0m, \u001b[38;5;34m32\u001b[0m, \u001b[38;5;34m32\u001b[0m, \u001b[38;5;34m16\u001b[0m)     │         \u001b[38;5;34m2,320\u001b[0m │\n",
       "├─────────────────────────────────┼────────────────────────┼───────────────┤\n",
       "│ up_sampling2d_2 (\u001b[38;5;33mUpSampling2D\u001b[0m)  │ (\u001b[38;5;45mNone\u001b[0m, \u001b[38;5;34m64\u001b[0m, \u001b[38;5;34m64\u001b[0m, \u001b[38;5;34m16\u001b[0m)     │             \u001b[38;5;34m0\u001b[0m │\n",
       "├─────────────────────────────────┼────────────────────────┼───────────────┤\n",
       "│ conv2d_8 (\u001b[38;5;33mConv2D\u001b[0m)               │ (\u001b[38;5;45mNone\u001b[0m, \u001b[38;5;34m64\u001b[0m, \u001b[38;5;34m64\u001b[0m, \u001b[38;5;34m32\u001b[0m)     │         \u001b[38;5;34m4,640\u001b[0m │\n",
       "├─────────────────────────────────┼────────────────────────┼───────────────┤\n",
       "│ up_sampling2d_3 (\u001b[38;5;33mUpSampling2D\u001b[0m)  │ (\u001b[38;5;45mNone\u001b[0m, \u001b[38;5;34m128\u001b[0m, \u001b[38;5;34m128\u001b[0m, \u001b[38;5;34m32\u001b[0m)   │             \u001b[38;5;34m0\u001b[0m │\n",
       "├─────────────────────────────────┼────────────────────────┼───────────────┤\n",
       "│ conv2d_9 (\u001b[38;5;33mConv2D\u001b[0m)               │ (\u001b[38;5;45mNone\u001b[0m, \u001b[38;5;34m128\u001b[0m, \u001b[38;5;34m128\u001b[0m, \u001b[38;5;34m1\u001b[0m)    │           \u001b[38;5;34m289\u001b[0m │\n",
       "└─────────────────────────────────┴────────────────────────┴───────────────┘\n"
      ]
     },
     "metadata": {},
     "output_type": "display_data"
    },
    {
     "data": {
      "text/html": [
       "<pre style=\"white-space:pre;overflow-x:auto;line-height:normal;font-family:Menlo,'DejaVu Sans Mono',consolas,'Courier New',monospace\"><span style=\"font-weight: bold\"> Total params: </span><span style=\"color: #00af00; text-decoration-color: #00af00\">12,193</span> (47.63 KB)\n",
       "</pre>\n"
      ],
      "text/plain": [
       "\u001b[1m Total params: \u001b[0m\u001b[38;5;34m12,193\u001b[0m (47.63 KB)\n"
      ]
     },
     "metadata": {},
     "output_type": "display_data"
    },
    {
     "data": {
      "text/html": [
       "<pre style=\"white-space:pre;overflow-x:auto;line-height:normal;font-family:Menlo,'DejaVu Sans Mono',consolas,'Courier New',monospace\"><span style=\"font-weight: bold\"> Trainable params: </span><span style=\"color: #00af00; text-decoration-color: #00af00\">12,193</span> (47.63 KB)\n",
       "</pre>\n"
      ],
      "text/plain": [
       "\u001b[1m Trainable params: \u001b[0m\u001b[38;5;34m12,193\u001b[0m (47.63 KB)\n"
      ]
     },
     "metadata": {},
     "output_type": "display_data"
    },
    {
     "data": {
      "text/html": [
       "<pre style=\"white-space:pre;overflow-x:auto;line-height:normal;font-family:Menlo,'DejaVu Sans Mono',consolas,'Courier New',monospace\"><span style=\"font-weight: bold\"> Non-trainable params: </span><span style=\"color: #00af00; text-decoration-color: #00af00\">0</span> (0.00 B)\n",
       "</pre>\n"
      ],
      "text/plain": [
       "\u001b[1m Non-trainable params: \u001b[0m\u001b[38;5;34m0\u001b[0m (0.00 B)\n"
      ]
     },
     "metadata": {},
     "output_type": "display_data"
    },
    {
     "name": "stdout",
     "output_type": "stream",
     "text": [
      "Epoch 1/20\n",
      "\u001b[1m8/8\u001b[0m \u001b[32m━━━━━━━━━━━━━━━━━━━━\u001b[0m\u001b[37m\u001b[0m \u001b[1m0s\u001b[0m 106ms/step - loss: 0.0386\n",
      "Epoch 1: val_loss improved from inf to 0.01976, saving model to anomaly_detection_results\\mvtec\\screw\\screw_mvtec_best_model.keras\n",
      "\u001b[1m8/8\u001b[0m \u001b[32m━━━━━━━━━━━━━━━━━━━━\u001b[0m\u001b[37m\u001b[0m \u001b[1m2s\u001b[0m 152ms/step - loss: 0.0374 - val_loss: 0.0198\n",
      "Epoch 2/20\n",
      "\u001b[1m8/8\u001b[0m \u001b[32m━━━━━━━━━━━━━━━━━━━━\u001b[0m\u001b[37m\u001b[0m \u001b[1m0s\u001b[0m 107ms/step - loss: 0.0176\n",
      "Epoch 2: val_loss improved from 0.01976 to 0.01362, saving model to anomaly_detection_results\\mvtec\\screw\\screw_mvtec_best_model.keras\n",
      "\u001b[1m8/8\u001b[0m \u001b[32m━━━━━━━━━━━━━━━━━━━━\u001b[0m\u001b[37m\u001b[0m \u001b[1m1s\u001b[0m 128ms/step - loss: 0.0174 - val_loss: 0.0136\n",
      "Epoch 3/20\n",
      "\u001b[1m8/8\u001b[0m \u001b[32m━━━━━━━━━━━━━━━━━━━━\u001b[0m\u001b[37m\u001b[0m \u001b[1m0s\u001b[0m 106ms/step - loss: 0.0146\n",
      "Epoch 3: val_loss improved from 0.01362 to 0.01234, saving model to anomaly_detection_results\\mvtec\\screw\\screw_mvtec_best_model.keras\n",
      "\u001b[1m8/8\u001b[0m \u001b[32m━━━━━━━━━━━━━━━━━━━━\u001b[0m\u001b[37m\u001b[0m \u001b[1m1s\u001b[0m 127ms/step - loss: 0.0145 - val_loss: 0.0123\n",
      "Epoch 4/20\n",
      "\u001b[1m8/8\u001b[0m \u001b[32m━━━━━━━━━━━━━━━━━━━━\u001b[0m\u001b[37m\u001b[0m \u001b[1m0s\u001b[0m 111ms/step - loss: 0.0130\n",
      "Epoch 4: val_loss improved from 0.01234 to 0.01139, saving model to anomaly_detection_results\\mvtec\\screw\\screw_mvtec_best_model.keras\n",
      "\u001b[1m8/8\u001b[0m \u001b[32m━━━━━━━━━━━━━━━━━━━━\u001b[0m\u001b[37m\u001b[0m \u001b[1m1s\u001b[0m 133ms/step - loss: 0.0130 - val_loss: 0.0114\n",
      "Epoch 5/20\n",
      "\u001b[1m8/8\u001b[0m \u001b[32m━━━━━━━━━━━━━━━━━━━━\u001b[0m\u001b[37m\u001b[0m \u001b[1m0s\u001b[0m 117ms/step - loss: 0.0121\n",
      "Epoch 5: val_loss improved from 0.01139 to 0.01084, saving model to anomaly_detection_results\\mvtec\\screw\\screw_mvtec_best_model.keras\n",
      "\u001b[1m8/8\u001b[0m \u001b[32m━━━━━━━━━━━━━━━━━━━━\u001b[0m\u001b[37m\u001b[0m \u001b[1m1s\u001b[0m 137ms/step - loss: 0.0121 - val_loss: 0.0108\n",
      "Epoch 6/20\n",
      "\u001b[1m8/8\u001b[0m \u001b[32m━━━━━━━━━━━━━━━━━━━━\u001b[0m\u001b[37m\u001b[0m \u001b[1m0s\u001b[0m 109ms/step - loss: 0.0113\n",
      "Epoch 6: val_loss improved from 0.01084 to 0.01001, saving model to anomaly_detection_results\\mvtec\\screw\\screw_mvtec_best_model.keras\n",
      "\u001b[1m8/8\u001b[0m \u001b[32m━━━━━━━━━━━━━━━━━━━━\u001b[0m\u001b[37m\u001b[0m \u001b[1m1s\u001b[0m 130ms/step - loss: 0.0113 - val_loss: 0.0100\n",
      "Epoch 7/20\n",
      "\u001b[1m8/8\u001b[0m \u001b[32m━━━━━━━━━━━━━━━━━━━━\u001b[0m\u001b[37m\u001b[0m \u001b[1m0s\u001b[0m 111ms/step - loss: 0.0105\n",
      "Epoch 7: val_loss improved from 0.01001 to 0.00912, saving model to anomaly_detection_results\\mvtec\\screw\\screw_mvtec_best_model.keras\n",
      "\u001b[1m8/8\u001b[0m \u001b[32m━━━━━━━━━━━━━━━━━━━━\u001b[0m\u001b[37m\u001b[0m \u001b[1m1s\u001b[0m 133ms/step - loss: 0.0104 - val_loss: 0.0091\n",
      "Epoch 8/20\n",
      "\u001b[1m8/8\u001b[0m \u001b[32m━━━━━━━━━━━━━━━━━━━━\u001b[0m\u001b[37m\u001b[0m \u001b[1m0s\u001b[0m 112ms/step - loss: 0.0094\n",
      "Epoch 8: val_loss improved from 0.00912 to 0.00781, saving model to anomaly_detection_results\\mvtec\\screw\\screw_mvtec_best_model.keras\n",
      "\u001b[1m8/8\u001b[0m \u001b[32m━━━━━━━━━━━━━━━━━━━━\u001b[0m\u001b[37m\u001b[0m \u001b[1m1s\u001b[0m 135ms/step - loss: 0.0093 - val_loss: 0.0078\n",
      "Epoch 9/20\n",
      "\u001b[1m8/8\u001b[0m \u001b[32m━━━━━━━━━━━━━━━━━━━━\u001b[0m\u001b[37m\u001b[0m \u001b[1m0s\u001b[0m 119ms/step - loss: 0.0079\n",
      "Epoch 9: val_loss improved from 0.00781 to 0.00570, saving model to anomaly_detection_results\\mvtec\\screw\\screw_mvtec_best_model.keras\n",
      "\u001b[1m8/8\u001b[0m \u001b[32m━━━━━━━━━━━━━━━━━━━━\u001b[0m\u001b[37m\u001b[0m \u001b[1m1s\u001b[0m 144ms/step - loss: 0.0079 - val_loss: 0.0057\n",
      "Epoch 10/20\n",
      "\u001b[1m8/8\u001b[0m \u001b[32m━━━━━━━━━━━━━━━━━━━━\u001b[0m\u001b[37m\u001b[0m \u001b[1m0s\u001b[0m 123ms/step - loss: 0.0056\n",
      "Epoch 10: val_loss improved from 0.00570 to 0.00374, saving model to anomaly_detection_results\\mvtec\\screw\\screw_mvtec_best_model.keras\n",
      "\u001b[1m8/8\u001b[0m \u001b[32m━━━━━━━━━━━━━━━━━━━━\u001b[0m\u001b[37m\u001b[0m \u001b[1m1s\u001b[0m 147ms/step - loss: 0.0055 - val_loss: 0.0037\n",
      "Epoch 11/20\n",
      "\u001b[1m8/8\u001b[0m \u001b[32m━━━━━━━━━━━━━━━━━━━━\u001b[0m\u001b[37m\u001b[0m \u001b[1m0s\u001b[0m 120ms/step - loss: 0.0037\n",
      "Epoch 11: val_loss improved from 0.00374 to 0.00326, saving model to anomaly_detection_results\\mvtec\\screw\\screw_mvtec_best_model.keras\n",
      "\u001b[1m8/8\u001b[0m \u001b[32m━━━━━━━━━━━━━━━━━━━━\u001b[0m\u001b[37m\u001b[0m \u001b[1m1s\u001b[0m 147ms/step - loss: 0.0037 - val_loss: 0.0033\n",
      "Epoch 12/20\n",
      "\u001b[1m8/8\u001b[0m \u001b[32m━━━━━━━━━━━━━━━━━━━━\u001b[0m\u001b[37m\u001b[0m \u001b[1m0s\u001b[0m 117ms/step - loss: 0.0032\n",
      "Epoch 12: val_loss improved from 0.00326 to 0.00274, saving model to anomaly_detection_results\\mvtec\\screw\\screw_mvtec_best_model.keras\n",
      "\u001b[1m8/8\u001b[0m \u001b[32m━━━━━━━━━━━━━━━━━━━━\u001b[0m\u001b[37m\u001b[0m \u001b[1m1s\u001b[0m 141ms/step - loss: 0.0032 - val_loss: 0.0027\n",
      "Epoch 13/20\n",
      "\u001b[1m8/8\u001b[0m \u001b[32m━━━━━━━━━━━━━━━━━━━━\u001b[0m\u001b[37m\u001b[0m \u001b[1m0s\u001b[0m 116ms/step - loss: 0.0028\n",
      "Epoch 13: val_loss improved from 0.00274 to 0.00243, saving model to anomaly_detection_results\\mvtec\\screw\\screw_mvtec_best_model.keras\n",
      "\u001b[1m8/8\u001b[0m \u001b[32m━━━━━━━━━━━━━━━━━━━━\u001b[0m\u001b[37m\u001b[0m \u001b[1m1s\u001b[0m 140ms/step - loss: 0.0028 - val_loss: 0.0024\n",
      "Epoch 14/20\n",
      "\u001b[1m8/8\u001b[0m \u001b[32m━━━━━━━━━━━━━━━━━━━━\u001b[0m\u001b[37m\u001b[0m \u001b[1m0s\u001b[0m 114ms/step - loss: 0.0025\n",
      "Epoch 14: val_loss improved from 0.00243 to 0.00224, saving model to anomaly_detection_results\\mvtec\\screw\\screw_mvtec_best_model.keras\n",
      "\u001b[1m8/8\u001b[0m \u001b[32m━━━━━━━━━━━━━━━━━━━━\u001b[0m\u001b[37m\u001b[0m \u001b[1m1s\u001b[0m 138ms/step - loss: 0.0025 - val_loss: 0.0022\n",
      "Epoch 15/20\n",
      "\u001b[1m8/8\u001b[0m \u001b[32m━━━━━━━━━━━━━━━━━━━━\u001b[0m\u001b[37m\u001b[0m \u001b[1m0s\u001b[0m 117ms/step - loss: 0.0023\n",
      "Epoch 15: val_loss improved from 0.00224 to 0.00207, saving model to anomaly_detection_results\\mvtec\\screw\\screw_mvtec_best_model.keras\n",
      "\u001b[1m8/8\u001b[0m \u001b[32m━━━━━━━━━━━━━━━━━━━━\u001b[0m\u001b[37m\u001b[0m \u001b[1m1s\u001b[0m 139ms/step - loss: 0.0023 - val_loss: 0.0021\n",
      "Epoch 16/20\n",
      "\u001b[1m8/8\u001b[0m \u001b[32m━━━━━━━━━━━━━━━━━━━━\u001b[0m\u001b[37m\u001b[0m \u001b[1m0s\u001b[0m 112ms/step - loss: 0.0022\n",
      "Epoch 16: val_loss improved from 0.00207 to 0.00189, saving model to anomaly_detection_results\\mvtec\\screw\\screw_mvtec_best_model.keras\n",
      "\u001b[1m8/8\u001b[0m \u001b[32m━━━━━━━━━━━━━━━━━━━━\u001b[0m\u001b[37m\u001b[0m \u001b[1m1s\u001b[0m 134ms/step - loss: 0.0022 - val_loss: 0.0019\n",
      "Epoch 17/20\n",
      "\u001b[1m8/8\u001b[0m \u001b[32m━━━━━━━━━━━━━━━━━━━━\u001b[0m\u001b[37m\u001b[0m \u001b[1m0s\u001b[0m 112ms/step - loss: 0.0020\n",
      "Epoch 17: val_loss improved from 0.00189 to 0.00168, saving model to anomaly_detection_results\\mvtec\\screw\\screw_mvtec_best_model.keras\n",
      "\u001b[1m8/8\u001b[0m \u001b[32m━━━━━━━━━━━━━━━━━━━━\u001b[0m\u001b[37m\u001b[0m \u001b[1m1s\u001b[0m 135ms/step - loss: 0.0020 - val_loss: 0.0017\n",
      "Epoch 18/20\n",
      "\u001b[1m8/8\u001b[0m \u001b[32m━━━━━━━━━━━━━━━━━━━━\u001b[0m\u001b[37m\u001b[0m \u001b[1m0s\u001b[0m 115ms/step - loss: 0.0017\n",
      "Epoch 18: val_loss improved from 0.00168 to 0.00143, saving model to anomaly_detection_results\\mvtec\\screw\\screw_mvtec_best_model.keras\n",
      "\u001b[1m8/8\u001b[0m \u001b[32m━━━━━━━━━━━━━━━━━━━━\u001b[0m\u001b[37m\u001b[0m \u001b[1m1s\u001b[0m 137ms/step - loss: 0.0017 - val_loss: 0.0014\n",
      "Epoch 19/20\n",
      "\u001b[1m8/8\u001b[0m \u001b[32m━━━━━━━━━━━━━━━━━━━━\u001b[0m\u001b[37m\u001b[0m \u001b[1m0s\u001b[0m 113ms/step - loss: 0.0015\n",
      "Epoch 19: val_loss improved from 0.00143 to 0.00125, saving model to anomaly_detection_results\\mvtec\\screw\\screw_mvtec_best_model.keras\n",
      "\u001b[1m8/8\u001b[0m \u001b[32m━━━━━━━━━━━━━━━━━━━━\u001b[0m\u001b[37m\u001b[0m \u001b[1m1s\u001b[0m 135ms/step - loss: 0.0015 - val_loss: 0.0013\n",
      "Epoch 20/20\n",
      "\u001b[1m8/8\u001b[0m \u001b[32m━━━━━━━━━━━━━━━━━━━━\u001b[0m\u001b[37m\u001b[0m \u001b[1m0s\u001b[0m 113ms/step - loss: 0.0013\n",
      "Epoch 20: val_loss improved from 0.00125 to 0.00118, saving model to anomaly_detection_results\\mvtec\\screw\\screw_mvtec_best_model.keras\n",
      "\u001b[1m8/8\u001b[0m \u001b[32m━━━━━━━━━━━━━━━━━━━━\u001b[0m\u001b[37m\u001b[0m \u001b[1m1s\u001b[0m 135ms/step - loss: 0.0013 - val_loss: 0.0012\n",
      "Eğitim tamamlandı. Süre: 22.98 saniye\n",
      "En iyi model yüklendi: anomaly_detection_results\\mvtec\\screw\\screw_mvtec_best_model.keras\n",
      "Eğitim geçmişi grafiği kaydedildi: anomaly_detection_results\\mvtec\\screw\\screw_mvtec_training_history.png\n",
      "Rekonstrüksiyon başlatılıyor...\n",
      "\u001b[1m5/5\u001b[0m \u001b[32m━━━━━━━━━━━━━━━━━━━━\u001b[0m\u001b[37m\u001b[0m \u001b[1m0s\u001b[0m 48ms/step\n",
      "Anomali eşik değeri (95. yüzdelik): 0.001510\n",
      "Doğruluk (Accuracy): 0.3063\n",
      "Hassasiyet (Precision): 1.0000\n",
      "Duyarlılık (Recall): 0.0672\n",
      "F1 Skoru: 0.1260\n",
      "ROC AUC: 0.5757\n",
      "\n",
      "screw (mvtec) için analiz sonuçları görselleştiriliyor...\n",
      "Rekonstrüksiyon sonuçları kaydedildi: anomaly_detection_results\\mvtec\\screw\\screw_mvtec_reconstruction_results.png\n",
      "Normal örnekler MSE - Min: 0.001016, Max: 0.001439, Ortalama: 0.001222\n",
      "Anomali örnekler MSE - Min: 0.000968, Max: 0.001709, Ortalama: 0.001271\n",
      "MSE karşılaştırma histogramı kaydedildi: anomaly_detection_results\\mvtec\\screw\\screw_mvtec_mse_comparison_histogram.png\n",
      "ROC eğrisi kaydedildi: anomaly_detection_results\\mvtec\\screw\\screw_mvtec_roc_curve.png\n",
      "Karışıklık matrisi kaydedildi: anomaly_detection_results\\mvtec\\screw\\screw_mvtec_confusion_matrix.png\n",
      "scratch_head kusur tipi detaylı analizi kaydedildi: anomaly_detection_results\\mvtec\\screw\\screw_mvtec_scratch_head_detailed_analysis.png\n",
      "thread_top kusur tipi detaylı analizi kaydedildi: anomaly_detection_results\\mvtec\\screw\\screw_mvtec_thread_top_detailed_analysis.png\n",
      "scratch_neck kusur tipi detaylı analizi kaydedildi: anomaly_detection_results\\mvtec\\screw\\screw_mvtec_scratch_neck_detailed_analysis.png\n",
      "thread_side kusur tipi detaylı analizi kaydedildi: anomaly_detection_results\\mvtec\\screw\\screw_mvtec_thread_side_detailed_analysis.png\n",
      "manipulated_front kusur tipi detaylı analizi kaydedildi: anomaly_detection_results\\mvtec\\screw\\screw_mvtec_manipulated_front_detailed_analysis.png\n",
      "Kusur tipi metrikleri kaydedildi: anomaly_detection_results\\mvtec\\screw\\screw_mvtec_defect_type_metrics.png\n",
      "Kusur tipine göre MSE dağılımı kaydedildi: anomaly_detection_results\\mvtec\\screw\\screw_mvtec_defect_type_mse_distribution.png\n",
      "Sonuçlar başarıyla kaydedildi: anomaly_detection_results\\mvtec\\screw\n",
      "MVTec: screw kategorisi başarıyla işlendi.\n",
      "\n",
      "==================================================\n",
      "İşleniyor: pill (MVTEC veri seti)\n",
      "==================================================\n",
      "Eğitim dizini: C:\\Users\\Tansu\\OneDrive\\Masaüstü\\mvtec\\pill\\train\n",
      "Test dizini: C:\\Users\\Tansu\\OneDrive\\Masaüstü\\mvtec\\pill\\test\n",
      "Eğitim 'good' dizini: C:\\Users\\Tansu\\OneDrive\\Masaüstü\\mvtec\\pill\\train\\good\n",
      "Eğitim 'good' dizinindeki dosya sayısı: 267\n"
     ]
    },
    {
     "name": "stderr",
     "output_type": "stream",
     "text": [
      "pill: Eğitim verilerini yükleme: 100%|██████████| 267/267 [00:05<00:00, 48.80it/s]\n"
     ]
    },
    {
     "name": "stdout",
     "output_type": "stream",
     "text": [
      "Test 'good' dizini: C:\\Users\\Tansu\\OneDrive\\Masaüstü\\mvtec\\pill\\test\\good\n",
      "Test 'good' dizinindeki dosya sayısı: 26\n"
     ]
    },
    {
     "name": "stderr",
     "output_type": "stream",
     "text": [
      "pill: Normal test verilerini yükleme: 100%|██████████| 26/26 [00:00<00:00, 48.99it/s]\n"
     ]
    },
    {
     "name": "stdout",
     "output_type": "stream",
     "text": [
      "Tespit edilen kusur tipleri: ['color', 'combined', 'contamination', 'crack', 'faulty_imprint', 'pill_type', 'scratch']\n",
      "Kusur dizini: C:\\Users\\Tansu\\OneDrive\\Masaüstü\\mvtec\\pill\\test\\color\n",
      "Kusur dizinindeki dosya sayısı: 25\n"
     ]
    },
    {
     "name": "stderr",
     "output_type": "stream",
     "text": [
      "pill: color verilerini yükleme: 100%|██████████| 25/25 [00:00<00:00, 49.50it/s]\n"
     ]
    },
    {
     "name": "stdout",
     "output_type": "stream",
     "text": [
      "Kusur dizini: C:\\Users\\Tansu\\OneDrive\\Masaüstü\\mvtec\\pill\\test\\combined\n",
      "Kusur dizinindeki dosya sayısı: 17\n"
     ]
    },
    {
     "name": "stderr",
     "output_type": "stream",
     "text": [
      "pill: combined verilerini yükleme: 100%|██████████| 17/17 [00:00<00:00, 47.81it/s]\n"
     ]
    },
    {
     "name": "stdout",
     "output_type": "stream",
     "text": [
      "Kusur dizini: C:\\Users\\Tansu\\OneDrive\\Masaüstü\\mvtec\\pill\\test\\contamination\n",
      "Kusur dizinindeki dosya sayısı: 21\n"
     ]
    },
    {
     "name": "stderr",
     "output_type": "stream",
     "text": [
      "pill: contamination verilerini yükleme: 100%|██████████| 21/21 [00:00<00:00, 49.47it/s]\n"
     ]
    },
    {
     "name": "stdout",
     "output_type": "stream",
     "text": [
      "Kusur dizini: C:\\Users\\Tansu\\OneDrive\\Masaüstü\\mvtec\\pill\\test\\crack\n",
      "Kusur dizinindeki dosya sayısı: 26\n"
     ]
    },
    {
     "name": "stderr",
     "output_type": "stream",
     "text": [
      "pill: crack verilerini yükleme: 100%|██████████| 26/26 [00:00<00:00, 46.50it/s]\n"
     ]
    },
    {
     "name": "stdout",
     "output_type": "stream",
     "text": [
      "Kusur dizini: C:\\Users\\Tansu\\OneDrive\\Masaüstü\\mvtec\\pill\\test\\faulty_imprint\n",
      "Kusur dizinindeki dosya sayısı: 19\n"
     ]
    },
    {
     "name": "stderr",
     "output_type": "stream",
     "text": [
      "pill: faulty_imprint verilerini yükleme: 100%|██████████| 19/19 [00:00<00:00, 48.72it/s]\n"
     ]
    },
    {
     "name": "stdout",
     "output_type": "stream",
     "text": [
      "Kusur dizini: C:\\Users\\Tansu\\OneDrive\\Masaüstü\\mvtec\\pill\\test\\pill_type\n",
      "Kusur dizinindeki dosya sayısı: 9\n"
     ]
    },
    {
     "name": "stderr",
     "output_type": "stream",
     "text": [
      "pill: pill_type verilerini yükleme: 100%|██████████| 9/9 [00:00<00:00, 48.13it/s]\n"
     ]
    },
    {
     "name": "stdout",
     "output_type": "stream",
     "text": [
      "Kusur dizini: C:\\Users\\Tansu\\OneDrive\\Masaüstü\\mvtec\\pill\\test\\scratch\n",
      "Kusur dizinindeki dosya sayısı: 24\n"
     ]
    },
    {
     "name": "stderr",
     "output_type": "stream",
     "text": [
      "pill: scratch verilerini yükleme: 100%|██████████| 24/24 [00:00<00:00, 47.53it/s]\n"
     ]
    },
    {
     "name": "stdout",
     "output_type": "stream",
     "text": [
      "Eğitim veriseti: (267, 128, 128) - Min: 5, Max: 234\n",
      "Test veriseti: (167, 128, 128) - Min: 5, Max: 252\n",
      "Test etiketleri: (167,)\n",
      "Anomali sayısı: 141\n",
      "Normal test örneği sayısı: 26\n",
      "\n",
      "pill (mvtec) için görselleştirmeler oluşturuluyor...\n",
      "Görselleştirme kaydedildi: anomaly_detection_results\\mvtec\\pill\\pill_(mvtec)___Eğitim_Örnekleri.png\n",
      "Kusur tipleri karşılaştırması kaydedildi: anomaly_detection_results\\mvtec\\pill\\pill_mvtec_defect_types_comparison.png\n",
      "Normal vs Anomali karşılaştırması kaydedildi: anomaly_detection_results\\mvtec\\pill\\pill_mvtec_normal_vs_anomaly_samples.png\n"
     ]
    },
    {
     "data": {
      "text/html": [
       "<pre style=\"white-space:pre;overflow-x:auto;line-height:normal;font-family:Menlo,'DejaVu Sans Mono',consolas,'Courier New',monospace\"><span style=\"font-weight: bold\">Model: \"functional_2\"</span>\n",
       "</pre>\n"
      ],
      "text/plain": [
       "\u001b[1mModel: \"functional_2\"\u001b[0m\n"
      ]
     },
     "metadata": {},
     "output_type": "display_data"
    },
    {
     "data": {
      "text/html": [
       "<pre style=\"white-space:pre;overflow-x:auto;line-height:normal;font-family:Menlo,'DejaVu Sans Mono',consolas,'Courier New',monospace\">┏━━━━━━━━━━━━━━━━━━━━━━━━━━━━━━━━━┳━━━━━━━━━━━━━━━━━━━━━━━━┳━━━━━━━━━━━━━━━┓\n",
       "┃<span style=\"font-weight: bold\"> Layer (type)                    </span>┃<span style=\"font-weight: bold\"> Output Shape           </span>┃<span style=\"font-weight: bold\">       Param # </span>┃\n",
       "┡━━━━━━━━━━━━━━━━━━━━━━━━━━━━━━━━━╇━━━━━━━━━━━━━━━━━━━━━━━━╇━━━━━━━━━━━━━━━┩\n",
       "│ input_layer (<span style=\"color: #0087ff; text-decoration-color: #0087ff\">InputLayer</span>)        │ (<span style=\"color: #00d7ff; text-decoration-color: #00d7ff\">None</span>, <span style=\"color: #00af00; text-decoration-color: #00af00\">128</span>, <span style=\"color: #00af00; text-decoration-color: #00af00\">128</span>, <span style=\"color: #00af00; text-decoration-color: #00af00\">1</span>)    │             <span style=\"color: #00af00; text-decoration-color: #00af00\">0</span> │\n",
       "├─────────────────────────────────┼────────────────────────┼───────────────┤\n",
       "│ conv2d_10 (<span style=\"color: #0087ff; text-decoration-color: #0087ff\">Conv2D</span>)              │ (<span style=\"color: #00d7ff; text-decoration-color: #00d7ff\">None</span>, <span style=\"color: #00af00; text-decoration-color: #00af00\">128</span>, <span style=\"color: #00af00; text-decoration-color: #00af00\">128</span>, <span style=\"color: #00af00; text-decoration-color: #00af00\">32</span>)   │           <span style=\"color: #00af00; text-decoration-color: #00af00\">320</span> │\n",
       "├─────────────────────────────────┼────────────────────────┼───────────────┤\n",
       "│ max_pooling2d_4 (<span style=\"color: #0087ff; text-decoration-color: #0087ff\">MaxPooling2D</span>)  │ (<span style=\"color: #00d7ff; text-decoration-color: #00d7ff\">None</span>, <span style=\"color: #00af00; text-decoration-color: #00af00\">64</span>, <span style=\"color: #00af00; text-decoration-color: #00af00\">64</span>, <span style=\"color: #00af00; text-decoration-color: #00af00\">32</span>)     │             <span style=\"color: #00af00; text-decoration-color: #00af00\">0</span> │\n",
       "├─────────────────────────────────┼────────────────────────┼───────────────┤\n",
       "│ conv2d_11 (<span style=\"color: #0087ff; text-decoration-color: #0087ff\">Conv2D</span>)              │ (<span style=\"color: #00d7ff; text-decoration-color: #00d7ff\">None</span>, <span style=\"color: #00af00; text-decoration-color: #00af00\">64</span>, <span style=\"color: #00af00; text-decoration-color: #00af00\">64</span>, <span style=\"color: #00af00; text-decoration-color: #00af00\">16</span>)     │         <span style=\"color: #00af00; text-decoration-color: #00af00\">4,624</span> │\n",
       "├─────────────────────────────────┼────────────────────────┼───────────────┤\n",
       "│ max_pooling2d_5 (<span style=\"color: #0087ff; text-decoration-color: #0087ff\">MaxPooling2D</span>)  │ (<span style=\"color: #00d7ff; text-decoration-color: #00d7ff\">None</span>, <span style=\"color: #00af00; text-decoration-color: #00af00\">32</span>, <span style=\"color: #00af00; text-decoration-color: #00af00\">32</span>, <span style=\"color: #00af00; text-decoration-color: #00af00\">16</span>)     │             <span style=\"color: #00af00; text-decoration-color: #00af00\">0</span> │\n",
       "├─────────────────────────────────┼────────────────────────┼───────────────┤\n",
       "│ conv2d_12 (<span style=\"color: #0087ff; text-decoration-color: #0087ff\">Conv2D</span>)              │ (<span style=\"color: #00d7ff; text-decoration-color: #00d7ff\">None</span>, <span style=\"color: #00af00; text-decoration-color: #00af00\">32</span>, <span style=\"color: #00af00; text-decoration-color: #00af00\">32</span>, <span style=\"color: #00af00; text-decoration-color: #00af00\">16</span>)     │         <span style=\"color: #00af00; text-decoration-color: #00af00\">2,320</span> │\n",
       "├─────────────────────────────────┼────────────────────────┼───────────────┤\n",
       "│ up_sampling2d_4 (<span style=\"color: #0087ff; text-decoration-color: #0087ff\">UpSampling2D</span>)  │ (<span style=\"color: #00d7ff; text-decoration-color: #00d7ff\">None</span>, <span style=\"color: #00af00; text-decoration-color: #00af00\">64</span>, <span style=\"color: #00af00; text-decoration-color: #00af00\">64</span>, <span style=\"color: #00af00; text-decoration-color: #00af00\">16</span>)     │             <span style=\"color: #00af00; text-decoration-color: #00af00\">0</span> │\n",
       "├─────────────────────────────────┼────────────────────────┼───────────────┤\n",
       "│ conv2d_13 (<span style=\"color: #0087ff; text-decoration-color: #0087ff\">Conv2D</span>)              │ (<span style=\"color: #00d7ff; text-decoration-color: #00d7ff\">None</span>, <span style=\"color: #00af00; text-decoration-color: #00af00\">64</span>, <span style=\"color: #00af00; text-decoration-color: #00af00\">64</span>, <span style=\"color: #00af00; text-decoration-color: #00af00\">32</span>)     │         <span style=\"color: #00af00; text-decoration-color: #00af00\">4,640</span> │\n",
       "├─────────────────────────────────┼────────────────────────┼───────────────┤\n",
       "│ up_sampling2d_5 (<span style=\"color: #0087ff; text-decoration-color: #0087ff\">UpSampling2D</span>)  │ (<span style=\"color: #00d7ff; text-decoration-color: #00d7ff\">None</span>, <span style=\"color: #00af00; text-decoration-color: #00af00\">128</span>, <span style=\"color: #00af00; text-decoration-color: #00af00\">128</span>, <span style=\"color: #00af00; text-decoration-color: #00af00\">32</span>)   │             <span style=\"color: #00af00; text-decoration-color: #00af00\">0</span> │\n",
       "├─────────────────────────────────┼────────────────────────┼───────────────┤\n",
       "│ conv2d_14 (<span style=\"color: #0087ff; text-decoration-color: #0087ff\">Conv2D</span>)              │ (<span style=\"color: #00d7ff; text-decoration-color: #00d7ff\">None</span>, <span style=\"color: #00af00; text-decoration-color: #00af00\">128</span>, <span style=\"color: #00af00; text-decoration-color: #00af00\">128</span>, <span style=\"color: #00af00; text-decoration-color: #00af00\">1</span>)    │           <span style=\"color: #00af00; text-decoration-color: #00af00\">289</span> │\n",
       "└─────────────────────────────────┴────────────────────────┴───────────────┘\n",
       "</pre>\n"
      ],
      "text/plain": [
       "┏━━━━━━━━━━━━━━━━━━━━━━━━━━━━━━━━━┳━━━━━━━━━━━━━━━━━━━━━━━━┳━━━━━━━━━━━━━━━┓\n",
       "┃\u001b[1m \u001b[0m\u001b[1mLayer (type)                   \u001b[0m\u001b[1m \u001b[0m┃\u001b[1m \u001b[0m\u001b[1mOutput Shape          \u001b[0m\u001b[1m \u001b[0m┃\u001b[1m \u001b[0m\u001b[1m      Param #\u001b[0m\u001b[1m \u001b[0m┃\n",
       "┡━━━━━━━━━━━━━━━━━━━━━━━━━━━━━━━━━╇━━━━━━━━━━━━━━━━━━━━━━━━╇━━━━━━━━━━━━━━━┩\n",
       "│ input_layer (\u001b[38;5;33mInputLayer\u001b[0m)        │ (\u001b[38;5;45mNone\u001b[0m, \u001b[38;5;34m128\u001b[0m, \u001b[38;5;34m128\u001b[0m, \u001b[38;5;34m1\u001b[0m)    │             \u001b[38;5;34m0\u001b[0m │\n",
       "├─────────────────────────────────┼────────────────────────┼───────────────┤\n",
       "│ conv2d_10 (\u001b[38;5;33mConv2D\u001b[0m)              │ (\u001b[38;5;45mNone\u001b[0m, \u001b[38;5;34m128\u001b[0m, \u001b[38;5;34m128\u001b[0m, \u001b[38;5;34m32\u001b[0m)   │           \u001b[38;5;34m320\u001b[0m │\n",
       "├─────────────────────────────────┼────────────────────────┼───────────────┤\n",
       "│ max_pooling2d_4 (\u001b[38;5;33mMaxPooling2D\u001b[0m)  │ (\u001b[38;5;45mNone\u001b[0m, \u001b[38;5;34m64\u001b[0m, \u001b[38;5;34m64\u001b[0m, \u001b[38;5;34m32\u001b[0m)     │             \u001b[38;5;34m0\u001b[0m │\n",
       "├─────────────────────────────────┼────────────────────────┼───────────────┤\n",
       "│ conv2d_11 (\u001b[38;5;33mConv2D\u001b[0m)              │ (\u001b[38;5;45mNone\u001b[0m, \u001b[38;5;34m64\u001b[0m, \u001b[38;5;34m64\u001b[0m, \u001b[38;5;34m16\u001b[0m)     │         \u001b[38;5;34m4,624\u001b[0m │\n",
       "├─────────────────────────────────┼────────────────────────┼───────────────┤\n",
       "│ max_pooling2d_5 (\u001b[38;5;33mMaxPooling2D\u001b[0m)  │ (\u001b[38;5;45mNone\u001b[0m, \u001b[38;5;34m32\u001b[0m, \u001b[38;5;34m32\u001b[0m, \u001b[38;5;34m16\u001b[0m)     │             \u001b[38;5;34m0\u001b[0m │\n",
       "├─────────────────────────────────┼────────────────────────┼───────────────┤\n",
       "│ conv2d_12 (\u001b[38;5;33mConv2D\u001b[0m)              │ (\u001b[38;5;45mNone\u001b[0m, \u001b[38;5;34m32\u001b[0m, \u001b[38;5;34m32\u001b[0m, \u001b[38;5;34m16\u001b[0m)     │         \u001b[38;5;34m2,320\u001b[0m │\n",
       "├─────────────────────────────────┼────────────────────────┼───────────────┤\n",
       "│ up_sampling2d_4 (\u001b[38;5;33mUpSampling2D\u001b[0m)  │ (\u001b[38;5;45mNone\u001b[0m, \u001b[38;5;34m64\u001b[0m, \u001b[38;5;34m64\u001b[0m, \u001b[38;5;34m16\u001b[0m)     │             \u001b[38;5;34m0\u001b[0m │\n",
       "├─────────────────────────────────┼────────────────────────┼───────────────┤\n",
       "│ conv2d_13 (\u001b[38;5;33mConv2D\u001b[0m)              │ (\u001b[38;5;45mNone\u001b[0m, \u001b[38;5;34m64\u001b[0m, \u001b[38;5;34m64\u001b[0m, \u001b[38;5;34m32\u001b[0m)     │         \u001b[38;5;34m4,640\u001b[0m │\n",
       "├─────────────────────────────────┼────────────────────────┼───────────────┤\n",
       "│ up_sampling2d_5 (\u001b[38;5;33mUpSampling2D\u001b[0m)  │ (\u001b[38;5;45mNone\u001b[0m, \u001b[38;5;34m128\u001b[0m, \u001b[38;5;34m128\u001b[0m, \u001b[38;5;34m32\u001b[0m)   │             \u001b[38;5;34m0\u001b[0m │\n",
       "├─────────────────────────────────┼────────────────────────┼───────────────┤\n",
       "│ conv2d_14 (\u001b[38;5;33mConv2D\u001b[0m)              │ (\u001b[38;5;45mNone\u001b[0m, \u001b[38;5;34m128\u001b[0m, \u001b[38;5;34m128\u001b[0m, \u001b[38;5;34m1\u001b[0m)    │           \u001b[38;5;34m289\u001b[0m │\n",
       "└─────────────────────────────────┴────────────────────────┴───────────────┘\n"
      ]
     },
     "metadata": {},
     "output_type": "display_data"
    },
    {
     "data": {
      "text/html": [
       "<pre style=\"white-space:pre;overflow-x:auto;line-height:normal;font-family:Menlo,'DejaVu Sans Mono',consolas,'Courier New',monospace\"><span style=\"font-weight: bold\"> Total params: </span><span style=\"color: #00af00; text-decoration-color: #00af00\">12,193</span> (47.63 KB)\n",
       "</pre>\n"
      ],
      "text/plain": [
       "\u001b[1m Total params: \u001b[0m\u001b[38;5;34m12,193\u001b[0m (47.63 KB)\n"
      ]
     },
     "metadata": {},
     "output_type": "display_data"
    },
    {
     "data": {
      "text/html": [
       "<pre style=\"white-space:pre;overflow-x:auto;line-height:normal;font-family:Menlo,'DejaVu Sans Mono',consolas,'Courier New',monospace\"><span style=\"font-weight: bold\"> Trainable params: </span><span style=\"color: #00af00; text-decoration-color: #00af00\">12,193</span> (47.63 KB)\n",
       "</pre>\n"
      ],
      "text/plain": [
       "\u001b[1m Trainable params: \u001b[0m\u001b[38;5;34m12,193\u001b[0m (47.63 KB)\n"
      ]
     },
     "metadata": {},
     "output_type": "display_data"
    },
    {
     "data": {
      "text/html": [
       "<pre style=\"white-space:pre;overflow-x:auto;line-height:normal;font-family:Menlo,'DejaVu Sans Mono',consolas,'Courier New',monospace\"><span style=\"font-weight: bold\"> Non-trainable params: </span><span style=\"color: #00af00; text-decoration-color: #00af00\">0</span> (0.00 B)\n",
       "</pre>\n"
      ],
      "text/plain": [
       "\u001b[1m Non-trainable params: \u001b[0m\u001b[38;5;34m0\u001b[0m (0.00 B)\n"
      ]
     },
     "metadata": {},
     "output_type": "display_data"
    },
    {
     "name": "stdout",
     "output_type": "stream",
     "text": [
      "Epoch 1/20\n",
      "\u001b[1m7/7\u001b[0m \u001b[32m━━━━━━━━━━━━━━━━━━━━\u001b[0m\u001b[37m\u001b[0m \u001b[1m0s\u001b[0m 102ms/step - loss: 0.1256\n",
      "Epoch 1: val_loss improved from inf to 0.11586, saving model to anomaly_detection_results\\mvtec\\pill\\pill_mvtec_best_model.keras\n",
      "\u001b[1m7/7\u001b[0m \u001b[32m━━━━━━━━━━━━━━━━━━━━\u001b[0m\u001b[37m\u001b[0m \u001b[1m2s\u001b[0m 157ms/step - loss: 0.1252 - val_loss: 0.1159\n",
      "Epoch 2/20\n",
      "\u001b[1m7/7\u001b[0m \u001b[32m━━━━━━━━━━━━━━━━━━━━\u001b[0m\u001b[37m\u001b[0m \u001b[1m0s\u001b[0m 100ms/step - loss: 0.1089\n",
      "Epoch 2: val_loss improved from 0.11586 to 0.08440, saving model to anomaly_detection_results\\mvtec\\pill\\pill_mvtec_best_model.keras\n",
      "\u001b[1m7/7\u001b[0m \u001b[32m━━━━━━━━━━━━━━━━━━━━\u001b[0m\u001b[37m\u001b[0m \u001b[1m1s\u001b[0m 125ms/step - loss: 0.1083 - val_loss: 0.0844\n",
      "Epoch 3/20\n",
      "\u001b[1m7/7\u001b[0m \u001b[32m━━━━━━━━━━━━━━━━━━━━\u001b[0m\u001b[37m\u001b[0m \u001b[1m0s\u001b[0m 103ms/step - loss: 0.0693\n",
      "Epoch 3: val_loss improved from 0.08440 to 0.02178, saving model to anomaly_detection_results\\mvtec\\pill\\pill_mvtec_best_model.keras\n",
      "\u001b[1m7/7\u001b[0m \u001b[32m━━━━━━━━━━━━━━━━━━━━\u001b[0m\u001b[37m\u001b[0m \u001b[1m1s\u001b[0m 127ms/step - loss: 0.0677 - val_loss: 0.0218\n",
      "Epoch 4/20\n",
      "\u001b[1m7/7\u001b[0m \u001b[32m━━━━━━━━━━━━━━━━━━━━\u001b[0m\u001b[37m\u001b[0m \u001b[1m0s\u001b[0m 110ms/step - loss: 0.0164\n",
      "Epoch 4: val_loss improved from 0.02178 to 0.01253, saving model to anomaly_detection_results\\mvtec\\pill\\pill_mvtec_best_model.keras\n",
      "\u001b[1m7/7\u001b[0m \u001b[32m━━━━━━━━━━━━━━━━━━━━\u001b[0m\u001b[37m\u001b[0m \u001b[1m1s\u001b[0m 133ms/step - loss: 0.0161 - val_loss: 0.0125\n",
      "Epoch 5/20\n",
      "\u001b[1m7/7\u001b[0m \u001b[32m━━━━━━━━━━━━━━━━━━━━\u001b[0m\u001b[37m\u001b[0m \u001b[1m0s\u001b[0m 102ms/step - loss: 0.0125\n",
      "Epoch 5: val_loss improved from 0.01253 to 0.01241, saving model to anomaly_detection_results\\mvtec\\pill\\pill_mvtec_best_model.keras\n",
      "\u001b[1m7/7\u001b[0m \u001b[32m━━━━━━━━━━━━━━━━━━━━\u001b[0m\u001b[37m\u001b[0m \u001b[1m1s\u001b[0m 126ms/step - loss: 0.0125 - val_loss: 0.0124\n",
      "Epoch 6/20\n",
      "\u001b[1m7/7\u001b[0m \u001b[32m━━━━━━━━━━━━━━━━━━━━\u001b[0m\u001b[37m\u001b[0m \u001b[1m0s\u001b[0m 102ms/step - loss: 0.0096\n",
      "Epoch 6: val_loss improved from 0.01241 to 0.00592, saving model to anomaly_detection_results\\mvtec\\pill\\pill_mvtec_best_model.keras\n",
      "\u001b[1m7/7\u001b[0m \u001b[32m━━━━━━━━━━━━━━━━━━━━\u001b[0m\u001b[37m\u001b[0m \u001b[1m1s\u001b[0m 125ms/step - loss: 0.0094 - val_loss: 0.0059\n",
      "Epoch 7/20\n",
      "\u001b[1m7/7\u001b[0m \u001b[32m━━━━━━━━━━━━━━━━━━━━\u001b[0m\u001b[37m\u001b[0m \u001b[1m0s\u001b[0m 105ms/step - loss: 0.0052\n",
      "Epoch 7: val_loss improved from 0.00592 to 0.00353, saving model to anomaly_detection_results\\mvtec\\pill\\pill_mvtec_best_model.keras\n",
      "\u001b[1m7/7\u001b[0m \u001b[32m━━━━━━━━━━━━━━━━━━━━\u001b[0m\u001b[37m\u001b[0m \u001b[1m1s\u001b[0m 128ms/step - loss: 0.0052 - val_loss: 0.0035\n",
      "Epoch 8/20\n",
      "\u001b[1m7/7\u001b[0m \u001b[32m━━━━━━━━━━━━━━━━━━━━\u001b[0m\u001b[37m\u001b[0m \u001b[1m0s\u001b[0m 103ms/step - loss: 0.0040\n",
      "Epoch 8: val_loss improved from 0.00353 to 0.00344, saving model to anomaly_detection_results\\mvtec\\pill\\pill_mvtec_best_model.keras\n",
      "\u001b[1m7/7\u001b[0m \u001b[32m━━━━━━━━━━━━━━━━━━━━\u001b[0m\u001b[37m\u001b[0m \u001b[1m1s\u001b[0m 127ms/step - loss: 0.0040 - val_loss: 0.0034\n",
      "Epoch 9/20\n",
      "\u001b[1m7/7\u001b[0m \u001b[32m━━━━━━━━━━━━━━━━━━━━\u001b[0m\u001b[37m\u001b[0m \u001b[1m0s\u001b[0m 111ms/step - loss: 0.0034\n",
      "Epoch 9: val_loss improved from 0.00344 to 0.00310, saving model to anomaly_detection_results\\mvtec\\pill\\pill_mvtec_best_model.keras\n",
      "\u001b[1m7/7\u001b[0m \u001b[32m━━━━━━━━━━━━━━━━━━━━\u001b[0m\u001b[37m\u001b[0m \u001b[1m1s\u001b[0m 135ms/step - loss: 0.0034 - val_loss: 0.0031\n",
      "Epoch 10/20\n",
      "\u001b[1m7/7\u001b[0m \u001b[32m━━━━━━━━━━━━━━━━━━━━\u001b[0m\u001b[37m\u001b[0m \u001b[1m0s\u001b[0m 105ms/step - loss: 0.0031\n",
      "Epoch 10: val_loss improved from 0.00310 to 0.00263, saving model to anomaly_detection_results\\mvtec\\pill\\pill_mvtec_best_model.keras\n",
      "\u001b[1m7/7\u001b[0m \u001b[32m━━━━━━━━━━━━━━━━━━━━\u001b[0m\u001b[37m\u001b[0m \u001b[1m1s\u001b[0m 129ms/step - loss: 0.0031 - val_loss: 0.0026\n",
      "Epoch 11/20\n",
      "\u001b[1m7/7\u001b[0m \u001b[32m━━━━━━━━━━━━━━━━━━━━\u001b[0m\u001b[37m\u001b[0m \u001b[1m0s\u001b[0m 104ms/step - loss: 0.0028\n",
      "Epoch 11: val_loss improved from 0.00263 to 0.00255, saving model to anomaly_detection_results\\mvtec\\pill\\pill_mvtec_best_model.keras\n",
      "\u001b[1m7/7\u001b[0m \u001b[32m━━━━━━━━━━━━━━━━━━━━\u001b[0m\u001b[37m\u001b[0m \u001b[1m1s\u001b[0m 128ms/step - loss: 0.0028 - val_loss: 0.0025\n",
      "Epoch 12/20\n",
      "\u001b[1m7/7\u001b[0m \u001b[32m━━━━━━━━━━━━━━━━━━━━\u001b[0m\u001b[37m\u001b[0m \u001b[1m0s\u001b[0m 107ms/step - loss: 0.0027\n",
      "Epoch 12: val_loss improved from 0.00255 to 0.00239, saving model to anomaly_detection_results\\mvtec\\pill\\pill_mvtec_best_model.keras\n",
      "\u001b[1m7/7\u001b[0m \u001b[32m━━━━━━━━━━━━━━━━━━━━\u001b[0m\u001b[37m\u001b[0m \u001b[1m1s\u001b[0m 132ms/step - loss: 0.0026 - val_loss: 0.0024\n",
      "Epoch 13/20\n",
      "\u001b[1m7/7\u001b[0m \u001b[32m━━━━━━━━━━━━━━━━━━━━\u001b[0m\u001b[37m\u001b[0m \u001b[1m0s\u001b[0m 108ms/step - loss: 0.0025\n",
      "Epoch 13: val_loss improved from 0.00239 to 0.00226, saving model to anomaly_detection_results\\mvtec\\pill\\pill_mvtec_best_model.keras\n",
      "\u001b[1m7/7\u001b[0m \u001b[32m━━━━━━━━━━━━━━━━━━━━\u001b[0m\u001b[37m\u001b[0m \u001b[1m1s\u001b[0m 133ms/step - loss: 0.0025 - val_loss: 0.0023\n",
      "Epoch 14/20\n",
      "\u001b[1m7/7\u001b[0m \u001b[32m━━━━━━━━━━━━━━━━━━━━\u001b[0m\u001b[37m\u001b[0m \u001b[1m0s\u001b[0m 108ms/step - loss: 0.0024\n",
      "Epoch 14: val_loss improved from 0.00226 to 0.00216, saving model to anomaly_detection_results\\mvtec\\pill\\pill_mvtec_best_model.keras\n",
      "\u001b[1m7/7\u001b[0m \u001b[32m━━━━━━━━━━━━━━━━━━━━\u001b[0m\u001b[37m\u001b[0m \u001b[1m1s\u001b[0m 134ms/step - loss: 0.0024 - val_loss: 0.0022\n",
      "Epoch 15/20\n",
      "\u001b[1m7/7\u001b[0m \u001b[32m━━━━━━━━━━━━━━━━━━━━\u001b[0m\u001b[37m\u001b[0m \u001b[1m0s\u001b[0m 108ms/step - loss: 0.0023\n",
      "Epoch 15: val_loss improved from 0.00216 to 0.00207, saving model to anomaly_detection_results\\mvtec\\pill\\pill_mvtec_best_model.keras\n",
      "\u001b[1m7/7\u001b[0m \u001b[32m━━━━━━━━━━━━━━━━━━━━\u001b[0m\u001b[37m\u001b[0m \u001b[1m1s\u001b[0m 134ms/step - loss: 0.0023 - val_loss: 0.0021\n",
      "Epoch 16/20\n",
      "\u001b[1m7/7\u001b[0m \u001b[32m━━━━━━━━━━━━━━━━━━━━\u001b[0m\u001b[37m\u001b[0m \u001b[1m0s\u001b[0m 109ms/step - loss: 0.0022\n",
      "Epoch 16: val_loss improved from 0.00207 to 0.00198, saving model to anomaly_detection_results\\mvtec\\pill\\pill_mvtec_best_model.keras\n",
      "\u001b[1m7/7\u001b[0m \u001b[32m━━━━━━━━━━━━━━━━━━━━\u001b[0m\u001b[37m\u001b[0m \u001b[1m1s\u001b[0m 136ms/step - loss: 0.0022 - val_loss: 0.0020\n",
      "Epoch 17/20\n",
      "\u001b[1m7/7\u001b[0m \u001b[32m━━━━━━━━━━━━━━━━━━━━\u001b[0m\u001b[37m\u001b[0m \u001b[1m0s\u001b[0m 109ms/step - loss: 0.0021\n",
      "Epoch 17: val_loss improved from 0.00198 to 0.00189, saving model to anomaly_detection_results\\mvtec\\pill\\pill_mvtec_best_model.keras\n",
      "\u001b[1m7/7\u001b[0m \u001b[32m━━━━━━━━━━━━━━━━━━━━\u001b[0m\u001b[37m\u001b[0m \u001b[1m1s\u001b[0m 135ms/step - loss: 0.0021 - val_loss: 0.0019\n",
      "Epoch 18/20\n",
      "\u001b[1m7/7\u001b[0m \u001b[32m━━━━━━━━━━━━━━━━━━━━\u001b[0m\u001b[37m\u001b[0m \u001b[1m0s\u001b[0m 115ms/step - loss: 0.0020\n",
      "Epoch 18: val_loss improved from 0.00189 to 0.00182, saving model to anomaly_detection_results\\mvtec\\pill\\pill_mvtec_best_model.keras\n",
      "\u001b[1m7/7\u001b[0m \u001b[32m━━━━━━━━━━━━━━━━━━━━\u001b[0m\u001b[37m\u001b[0m \u001b[1m1s\u001b[0m 143ms/step - loss: 0.0020 - val_loss: 0.0018\n",
      "Epoch 19/20\n",
      "\u001b[1m7/7\u001b[0m \u001b[32m━━━━━━━━━━━━━━━━━━━━\u001b[0m\u001b[37m\u001b[0m \u001b[1m0s\u001b[0m 111ms/step - loss: 0.0019\n",
      "Epoch 19: val_loss improved from 0.00182 to 0.00173, saving model to anomaly_detection_results\\mvtec\\pill\\pill_mvtec_best_model.keras\n",
      "\u001b[1m7/7\u001b[0m \u001b[32m━━━━━━━━━━━━━━━━━━━━\u001b[0m\u001b[37m\u001b[0m \u001b[1m1s\u001b[0m 142ms/step - loss: 0.0019 - val_loss: 0.0017\n",
      "Epoch 20/20\n",
      "\u001b[1m7/7\u001b[0m \u001b[32m━━━━━━━━━━━━━━━━━━━━\u001b[0m\u001b[37m\u001b[0m \u001b[1m0s\u001b[0m 112ms/step - loss: 0.0018\n",
      "Epoch 20: val_loss improved from 0.00173 to 0.00167, saving model to anomaly_detection_results\\mvtec\\pill\\pill_mvtec_best_model.keras\n",
      "\u001b[1m7/7\u001b[0m \u001b[32m━━━━━━━━━━━━━━━━━━━━\u001b[0m\u001b[37m\u001b[0m \u001b[1m1s\u001b[0m 140ms/step - loss: 0.0018 - val_loss: 0.0017\n",
      "Eğitim tamamlandı. Süre: 19.79 saniye\n",
      "En iyi model yüklendi: anomaly_detection_results\\mvtec\\pill\\pill_mvtec_best_model.keras\n",
      "Eğitim geçmişi grafiği kaydedildi: anomaly_detection_results\\mvtec\\pill\\pill_mvtec_training_history.png\n",
      "Rekonstrüksiyon başlatılıyor...\n",
      "\u001b[1m6/6\u001b[0m \u001b[32m━━━━━━━━━━━━━━━━━━━━\u001b[0m\u001b[37m\u001b[0m \u001b[1m0s\u001b[0m 61ms/step\n",
      "Anomali eşik değeri (95. yüzdelik): 0.001983\n",
      "Doğruluk (Accuracy): 0.2096\n",
      "Hassasiyet (Precision): 1.0000\n",
      "Duyarlılık (Recall): 0.0638\n",
      "F1 Skoru: 0.1200\n",
      "ROC AUC: 0.6653\n",
      "\n",
      "pill (mvtec) için analiz sonuçları görselleştiriliyor...\n",
      "Rekonstrüksiyon sonuçları kaydedildi: anomaly_detection_results\\mvtec\\pill\\pill_mvtec_reconstruction_results.png\n",
      "Normal örnekler MSE - Min: 0.001556, Max: 0.001872, Ortalama: 0.001739\n",
      "Anomali örnekler MSE - Min: 0.001559, Max: 0.007790, Ortalama: 0.001930\n",
      "MSE karşılaştırma histogramı kaydedildi: anomaly_detection_results\\mvtec\\pill\\pill_mvtec_mse_comparison_histogram.png\n",
      "ROC eğrisi kaydedildi: anomaly_detection_results\\mvtec\\pill\\pill_mvtec_roc_curve.png\n",
      "Karışıklık matrisi kaydedildi: anomaly_detection_results\\mvtec\\pill\\pill_mvtec_confusion_matrix.png\n",
      "scratch kusur tipi detaylı analizi kaydedildi: anomaly_detection_results\\mvtec\\pill\\pill_mvtec_scratch_detailed_analysis.png\n",
      "combined kusur tipi detaylı analizi kaydedildi: anomaly_detection_results\\mvtec\\pill\\pill_mvtec_combined_detailed_analysis.png\n",
      "pill_type kusur tipi detaylı analizi kaydedildi: anomaly_detection_results\\mvtec\\pill\\pill_mvtec_pill_type_detailed_analysis.png\n",
      "contamination kusur tipi detaylı analizi kaydedildi: anomaly_detection_results\\mvtec\\pill\\pill_mvtec_contamination_detailed_analysis.png\n",
      "color kusur tipi detaylı analizi kaydedildi: anomaly_detection_results\\mvtec\\pill\\pill_mvtec_color_detailed_analysis.png\n",
      "crack kusur tipi detaylı analizi kaydedildi: anomaly_detection_results\\mvtec\\pill\\pill_mvtec_crack_detailed_analysis.png\n",
      "faulty_imprint kusur tipi detaylı analizi kaydedildi: anomaly_detection_results\\mvtec\\pill\\pill_mvtec_faulty_imprint_detailed_analysis.png\n",
      "Kusur tipi metrikleri kaydedildi: anomaly_detection_results\\mvtec\\pill\\pill_mvtec_defect_type_metrics.png\n",
      "Kusur tipine göre MSE dağılımı kaydedildi: anomaly_detection_results\\mvtec\\pill\\pill_mvtec_defect_type_mse_distribution.png\n",
      "Sonuçlar başarıyla kaydedildi: anomaly_detection_results\\mvtec\\pill\n",
      "MVTec: pill kategorisi başarıyla işlendi.\n",
      "\n",
      "==================================================\n",
      "İşleniyor: toothbrush (MVTEC veri seti)\n",
      "==================================================\n",
      "Eğitim dizini: C:\\Users\\Tansu\\OneDrive\\Masaüstü\\mvtec\\toothbrush\\train\n",
      "Test dizini: C:\\Users\\Tansu\\OneDrive\\Masaüstü\\mvtec\\toothbrush\\test\n",
      "Eğitim 'good' dizini: C:\\Users\\Tansu\\OneDrive\\Masaüstü\\mvtec\\toothbrush\\train\\good\n",
      "Eğitim 'good' dizinindeki dosya sayısı: 60\n"
     ]
    },
    {
     "name": "stderr",
     "output_type": "stream",
     "text": [
      "toothbrush: Eğitim verilerini yükleme: 100%|██████████| 60/60 [00:01<00:00, 32.02it/s]\n"
     ]
    },
    {
     "name": "stdout",
     "output_type": "stream",
     "text": [
      "Test 'good' dizini: C:\\Users\\Tansu\\OneDrive\\Masaüstü\\mvtec\\toothbrush\\test\\good\n",
      "Test 'good' dizinindeki dosya sayısı: 12\n"
     ]
    },
    {
     "name": "stderr",
     "output_type": "stream",
     "text": [
      "toothbrush: Normal test verilerini yükleme: 100%|██████████| 12/12 [00:00<00:00, 30.96it/s]\n"
     ]
    },
    {
     "name": "stdout",
     "output_type": "stream",
     "text": [
      "Tespit edilen kusur tipleri: ['defective']\n",
      "Kusur dizini: C:\\Users\\Tansu\\OneDrive\\Masaüstü\\mvtec\\toothbrush\\test\\defective\n",
      "Kusur dizinindeki dosya sayısı: 30\n"
     ]
    },
    {
     "name": "stderr",
     "output_type": "stream",
     "text": [
      "toothbrush: defective verilerini yükleme: 100%|██████████| 30/30 [00:00<00:00, 30.85it/s]\n"
     ]
    },
    {
     "name": "stdout",
     "output_type": "stream",
     "text": [
      "Eğitim veriseti: (60, 128, 128) - Min: 12, Max: 228\n",
      "Test veriseti: (42, 128, 128) - Min: 6, Max: 223\n",
      "Test etiketleri: (42,)\n",
      "Anomali sayısı: 30\n",
      "Normal test örneği sayısı: 12\n",
      "\n",
      "toothbrush (mvtec) için görselleştirmeler oluşturuluyor...\n",
      "Görselleştirme kaydedildi: anomaly_detection_results\\mvtec\\toothbrush\\toothbrush_(mvtec)___Eğitim_Örnekleri.png\n",
      "Kusur tipleri karşılaştırması kaydedildi: anomaly_detection_results\\mvtec\\toothbrush\\toothbrush_mvtec_defect_types_comparison.png\n",
      "Normal vs Anomali karşılaştırması kaydedildi: anomaly_detection_results\\mvtec\\toothbrush\\toothbrush_mvtec_normal_vs_anomaly_samples.png\n"
     ]
    },
    {
     "data": {
      "text/html": [
       "<pre style=\"white-space:pre;overflow-x:auto;line-height:normal;font-family:Menlo,'DejaVu Sans Mono',consolas,'Courier New',monospace\"><span style=\"font-weight: bold\">Model: \"functional_3\"</span>\n",
       "</pre>\n"
      ],
      "text/plain": [
       "\u001b[1mModel: \"functional_3\"\u001b[0m\n"
      ]
     },
     "metadata": {},
     "output_type": "display_data"
    },
    {
     "data": {
      "text/html": [
       "<pre style=\"white-space:pre;overflow-x:auto;line-height:normal;font-family:Menlo,'DejaVu Sans Mono',consolas,'Courier New',monospace\">┏━━━━━━━━━━━━━━━━━━━━━━━━━━━━━━━━━┳━━━━━━━━━━━━━━━━━━━━━━━━┳━━━━━━━━━━━━━━━┓\n",
       "┃<span style=\"font-weight: bold\"> Layer (type)                    </span>┃<span style=\"font-weight: bold\"> Output Shape           </span>┃<span style=\"font-weight: bold\">       Param # </span>┃\n",
       "┡━━━━━━━━━━━━━━━━━━━━━━━━━━━━━━━━━╇━━━━━━━━━━━━━━━━━━━━━━━━╇━━━━━━━━━━━━━━━┩\n",
       "│ input_layer (<span style=\"color: #0087ff; text-decoration-color: #0087ff\">InputLayer</span>)        │ (<span style=\"color: #00d7ff; text-decoration-color: #00d7ff\">None</span>, <span style=\"color: #00af00; text-decoration-color: #00af00\">128</span>, <span style=\"color: #00af00; text-decoration-color: #00af00\">128</span>, <span style=\"color: #00af00; text-decoration-color: #00af00\">1</span>)    │             <span style=\"color: #00af00; text-decoration-color: #00af00\">0</span> │\n",
       "├─────────────────────────────────┼────────────────────────┼───────────────┤\n",
       "│ conv2d_15 (<span style=\"color: #0087ff; text-decoration-color: #0087ff\">Conv2D</span>)              │ (<span style=\"color: #00d7ff; text-decoration-color: #00d7ff\">None</span>, <span style=\"color: #00af00; text-decoration-color: #00af00\">128</span>, <span style=\"color: #00af00; text-decoration-color: #00af00\">128</span>, <span style=\"color: #00af00; text-decoration-color: #00af00\">32</span>)   │           <span style=\"color: #00af00; text-decoration-color: #00af00\">320</span> │\n",
       "├─────────────────────────────────┼────────────────────────┼───────────────┤\n",
       "│ max_pooling2d_6 (<span style=\"color: #0087ff; text-decoration-color: #0087ff\">MaxPooling2D</span>)  │ (<span style=\"color: #00d7ff; text-decoration-color: #00d7ff\">None</span>, <span style=\"color: #00af00; text-decoration-color: #00af00\">64</span>, <span style=\"color: #00af00; text-decoration-color: #00af00\">64</span>, <span style=\"color: #00af00; text-decoration-color: #00af00\">32</span>)     │             <span style=\"color: #00af00; text-decoration-color: #00af00\">0</span> │\n",
       "├─────────────────────────────────┼────────────────────────┼───────────────┤\n",
       "│ conv2d_16 (<span style=\"color: #0087ff; text-decoration-color: #0087ff\">Conv2D</span>)              │ (<span style=\"color: #00d7ff; text-decoration-color: #00d7ff\">None</span>, <span style=\"color: #00af00; text-decoration-color: #00af00\">64</span>, <span style=\"color: #00af00; text-decoration-color: #00af00\">64</span>, <span style=\"color: #00af00; text-decoration-color: #00af00\">16</span>)     │         <span style=\"color: #00af00; text-decoration-color: #00af00\">4,624</span> │\n",
       "├─────────────────────────────────┼────────────────────────┼───────────────┤\n",
       "│ max_pooling2d_7 (<span style=\"color: #0087ff; text-decoration-color: #0087ff\">MaxPooling2D</span>)  │ (<span style=\"color: #00d7ff; text-decoration-color: #00d7ff\">None</span>, <span style=\"color: #00af00; text-decoration-color: #00af00\">32</span>, <span style=\"color: #00af00; text-decoration-color: #00af00\">32</span>, <span style=\"color: #00af00; text-decoration-color: #00af00\">16</span>)     │             <span style=\"color: #00af00; text-decoration-color: #00af00\">0</span> │\n",
       "├─────────────────────────────────┼────────────────────────┼───────────────┤\n",
       "│ conv2d_17 (<span style=\"color: #0087ff; text-decoration-color: #0087ff\">Conv2D</span>)              │ (<span style=\"color: #00d7ff; text-decoration-color: #00d7ff\">None</span>, <span style=\"color: #00af00; text-decoration-color: #00af00\">32</span>, <span style=\"color: #00af00; text-decoration-color: #00af00\">32</span>, <span style=\"color: #00af00; text-decoration-color: #00af00\">16</span>)     │         <span style=\"color: #00af00; text-decoration-color: #00af00\">2,320</span> │\n",
       "├─────────────────────────────────┼────────────────────────┼───────────────┤\n",
       "│ up_sampling2d_6 (<span style=\"color: #0087ff; text-decoration-color: #0087ff\">UpSampling2D</span>)  │ (<span style=\"color: #00d7ff; text-decoration-color: #00d7ff\">None</span>, <span style=\"color: #00af00; text-decoration-color: #00af00\">64</span>, <span style=\"color: #00af00; text-decoration-color: #00af00\">64</span>, <span style=\"color: #00af00; text-decoration-color: #00af00\">16</span>)     │             <span style=\"color: #00af00; text-decoration-color: #00af00\">0</span> │\n",
       "├─────────────────────────────────┼────────────────────────┼───────────────┤\n",
       "│ conv2d_18 (<span style=\"color: #0087ff; text-decoration-color: #0087ff\">Conv2D</span>)              │ (<span style=\"color: #00d7ff; text-decoration-color: #00d7ff\">None</span>, <span style=\"color: #00af00; text-decoration-color: #00af00\">64</span>, <span style=\"color: #00af00; text-decoration-color: #00af00\">64</span>, <span style=\"color: #00af00; text-decoration-color: #00af00\">32</span>)     │         <span style=\"color: #00af00; text-decoration-color: #00af00\">4,640</span> │\n",
       "├─────────────────────────────────┼────────────────────────┼───────────────┤\n",
       "│ up_sampling2d_7 (<span style=\"color: #0087ff; text-decoration-color: #0087ff\">UpSampling2D</span>)  │ (<span style=\"color: #00d7ff; text-decoration-color: #00d7ff\">None</span>, <span style=\"color: #00af00; text-decoration-color: #00af00\">128</span>, <span style=\"color: #00af00; text-decoration-color: #00af00\">128</span>, <span style=\"color: #00af00; text-decoration-color: #00af00\">32</span>)   │             <span style=\"color: #00af00; text-decoration-color: #00af00\">0</span> │\n",
       "├─────────────────────────────────┼────────────────────────┼───────────────┤\n",
       "│ conv2d_19 (<span style=\"color: #0087ff; text-decoration-color: #0087ff\">Conv2D</span>)              │ (<span style=\"color: #00d7ff; text-decoration-color: #00d7ff\">None</span>, <span style=\"color: #00af00; text-decoration-color: #00af00\">128</span>, <span style=\"color: #00af00; text-decoration-color: #00af00\">128</span>, <span style=\"color: #00af00; text-decoration-color: #00af00\">1</span>)    │           <span style=\"color: #00af00; text-decoration-color: #00af00\">289</span> │\n",
       "└─────────────────────────────────┴────────────────────────┴───────────────┘\n",
       "</pre>\n"
      ],
      "text/plain": [
       "┏━━━━━━━━━━━━━━━━━━━━━━━━━━━━━━━━━┳━━━━━━━━━━━━━━━━━━━━━━━━┳━━━━━━━━━━━━━━━┓\n",
       "┃\u001b[1m \u001b[0m\u001b[1mLayer (type)                   \u001b[0m\u001b[1m \u001b[0m┃\u001b[1m \u001b[0m\u001b[1mOutput Shape          \u001b[0m\u001b[1m \u001b[0m┃\u001b[1m \u001b[0m\u001b[1m      Param #\u001b[0m\u001b[1m \u001b[0m┃\n",
       "┡━━━━━━━━━━━━━━━━━━━━━━━━━━━━━━━━━╇━━━━━━━━━━━━━━━━━━━━━━━━╇━━━━━━━━━━━━━━━┩\n",
       "│ input_layer (\u001b[38;5;33mInputLayer\u001b[0m)        │ (\u001b[38;5;45mNone\u001b[0m, \u001b[38;5;34m128\u001b[0m, \u001b[38;5;34m128\u001b[0m, \u001b[38;5;34m1\u001b[0m)    │             \u001b[38;5;34m0\u001b[0m │\n",
       "├─────────────────────────────────┼────────────────────────┼───────────────┤\n",
       "│ conv2d_15 (\u001b[38;5;33mConv2D\u001b[0m)              │ (\u001b[38;5;45mNone\u001b[0m, \u001b[38;5;34m128\u001b[0m, \u001b[38;5;34m128\u001b[0m, \u001b[38;5;34m32\u001b[0m)   │           \u001b[38;5;34m320\u001b[0m │\n",
       "├─────────────────────────────────┼────────────────────────┼───────────────┤\n",
       "│ max_pooling2d_6 (\u001b[38;5;33mMaxPooling2D\u001b[0m)  │ (\u001b[38;5;45mNone\u001b[0m, \u001b[38;5;34m64\u001b[0m, \u001b[38;5;34m64\u001b[0m, \u001b[38;5;34m32\u001b[0m)     │             \u001b[38;5;34m0\u001b[0m │\n",
       "├─────────────────────────────────┼────────────────────────┼───────────────┤\n",
       "│ conv2d_16 (\u001b[38;5;33mConv2D\u001b[0m)              │ (\u001b[38;5;45mNone\u001b[0m, \u001b[38;5;34m64\u001b[0m, \u001b[38;5;34m64\u001b[0m, \u001b[38;5;34m16\u001b[0m)     │         \u001b[38;5;34m4,624\u001b[0m │\n",
       "├─────────────────────────────────┼────────────────────────┼───────────────┤\n",
       "│ max_pooling2d_7 (\u001b[38;5;33mMaxPooling2D\u001b[0m)  │ (\u001b[38;5;45mNone\u001b[0m, \u001b[38;5;34m32\u001b[0m, \u001b[38;5;34m32\u001b[0m, \u001b[38;5;34m16\u001b[0m)     │             \u001b[38;5;34m0\u001b[0m │\n",
       "├─────────────────────────────────┼────────────────────────┼───────────────┤\n",
       "│ conv2d_17 (\u001b[38;5;33mConv2D\u001b[0m)              │ (\u001b[38;5;45mNone\u001b[0m, \u001b[38;5;34m32\u001b[0m, \u001b[38;5;34m32\u001b[0m, \u001b[38;5;34m16\u001b[0m)     │         \u001b[38;5;34m2,320\u001b[0m │\n",
       "├─────────────────────────────────┼────────────────────────┼───────────────┤\n",
       "│ up_sampling2d_6 (\u001b[38;5;33mUpSampling2D\u001b[0m)  │ (\u001b[38;5;45mNone\u001b[0m, \u001b[38;5;34m64\u001b[0m, \u001b[38;5;34m64\u001b[0m, \u001b[38;5;34m16\u001b[0m)     │             \u001b[38;5;34m0\u001b[0m │\n",
       "├─────────────────────────────────┼────────────────────────┼───────────────┤\n",
       "│ conv2d_18 (\u001b[38;5;33mConv2D\u001b[0m)              │ (\u001b[38;5;45mNone\u001b[0m, \u001b[38;5;34m64\u001b[0m, \u001b[38;5;34m64\u001b[0m, \u001b[38;5;34m32\u001b[0m)     │         \u001b[38;5;34m4,640\u001b[0m │\n",
       "├─────────────────────────────────┼────────────────────────┼───────────────┤\n",
       "│ up_sampling2d_7 (\u001b[38;5;33mUpSampling2D\u001b[0m)  │ (\u001b[38;5;45mNone\u001b[0m, \u001b[38;5;34m128\u001b[0m, \u001b[38;5;34m128\u001b[0m, \u001b[38;5;34m32\u001b[0m)   │             \u001b[38;5;34m0\u001b[0m │\n",
       "├─────────────────────────────────┼────────────────────────┼───────────────┤\n",
       "│ conv2d_19 (\u001b[38;5;33mConv2D\u001b[0m)              │ (\u001b[38;5;45mNone\u001b[0m, \u001b[38;5;34m128\u001b[0m, \u001b[38;5;34m128\u001b[0m, \u001b[38;5;34m1\u001b[0m)    │           \u001b[38;5;34m289\u001b[0m │\n",
       "└─────────────────────────────────┴────────────────────────┴───────────────┘\n"
      ]
     },
     "metadata": {},
     "output_type": "display_data"
    },
    {
     "data": {
      "text/html": [
       "<pre style=\"white-space:pre;overflow-x:auto;line-height:normal;font-family:Menlo,'DejaVu Sans Mono',consolas,'Courier New',monospace\"><span style=\"font-weight: bold\"> Total params: </span><span style=\"color: #00af00; text-decoration-color: #00af00\">12,193</span> (47.63 KB)\n",
       "</pre>\n"
      ],
      "text/plain": [
       "\u001b[1m Total params: \u001b[0m\u001b[38;5;34m12,193\u001b[0m (47.63 KB)\n"
      ]
     },
     "metadata": {},
     "output_type": "display_data"
    },
    {
     "data": {
      "text/html": [
       "<pre style=\"white-space:pre;overflow-x:auto;line-height:normal;font-family:Menlo,'DejaVu Sans Mono',consolas,'Courier New',monospace\"><span style=\"font-weight: bold\"> Trainable params: </span><span style=\"color: #00af00; text-decoration-color: #00af00\">12,193</span> (47.63 KB)\n",
       "</pre>\n"
      ],
      "text/plain": [
       "\u001b[1m Trainable params: \u001b[0m\u001b[38;5;34m12,193\u001b[0m (47.63 KB)\n"
      ]
     },
     "metadata": {},
     "output_type": "display_data"
    },
    {
     "data": {
      "text/html": [
       "<pre style=\"white-space:pre;overflow-x:auto;line-height:normal;font-family:Menlo,'DejaVu Sans Mono',consolas,'Courier New',monospace\"><span style=\"font-weight: bold\"> Non-trainable params: </span><span style=\"color: #00af00; text-decoration-color: #00af00\">0</span> (0.00 B)\n",
       "</pre>\n"
      ],
      "text/plain": [
       "\u001b[1m Non-trainable params: \u001b[0m\u001b[38;5;34m0\u001b[0m (0.00 B)\n"
      ]
     },
     "metadata": {},
     "output_type": "display_data"
    },
    {
     "name": "stdout",
     "output_type": "stream",
     "text": [
      "Epoch 1/20\n",
      "\u001b[1m2/2\u001b[0m \u001b[32m━━━━━━━━━━━━━━━━━━━━\u001b[0m\u001b[37m\u001b[0m \u001b[1m0s\u001b[0m 60ms/step - loss: 0.1430\n",
      "Epoch 1: val_loss improved from inf to 0.13111, saving model to anomaly_detection_results\\mvtec\\toothbrush\\toothbrush_mvtec_best_model.keras\n",
      "\u001b[1m2/2\u001b[0m \u001b[32m━━━━━━━━━━━━━━━━━━━━\u001b[0m\u001b[37m\u001b[0m \u001b[1m2s\u001b[0m 343ms/step - loss: 0.1429 - val_loss: 0.1311\n",
      "Epoch 2/20\n",
      "\u001b[1m2/2\u001b[0m \u001b[32m━━━━━━━━━━━━━━━━━━━━\u001b[0m\u001b[37m\u001b[0m \u001b[1m0s\u001b[0m 58ms/step - loss: 0.1389 \n",
      "Epoch 2: val_loss improved from 0.13111 to 0.12600, saving model to anomaly_detection_results\\mvtec\\toothbrush\\toothbrush_mvtec_best_model.keras\n",
      "\u001b[1m2/2\u001b[0m \u001b[32m━━━━━━━━━━━━━━━━━━━━\u001b[0m\u001b[37m\u001b[0m \u001b[1m0s\u001b[0m 147ms/step - loss: 0.1388 - val_loss: 0.1260\n",
      "Epoch 3/20\n",
      "\u001b[1m2/2\u001b[0m \u001b[32m━━━━━━━━━━━━━━━━━━━━\u001b[0m\u001b[37m\u001b[0m \u001b[1m0s\u001b[0m 58ms/step - loss: 0.1330 \n",
      "Epoch 3: val_loss improved from 0.12600 to 0.11945, saving model to anomaly_detection_results\\mvtec\\toothbrush\\toothbrush_mvtec_best_model.keras\n",
      "\u001b[1m2/2\u001b[0m \u001b[32m━━━━━━━━━━━━━━━━━━━━\u001b[0m\u001b[37m\u001b[0m \u001b[1m0s\u001b[0m 153ms/step - loss: 0.1328 - val_loss: 0.1194\n",
      "Epoch 4/20\n",
      "\u001b[1m2/2\u001b[0m \u001b[32m━━━━━━━━━━━━━━━━━━━━\u001b[0m\u001b[37m\u001b[0m \u001b[1m0s\u001b[0m 60ms/step - loss: 0.1250 \n",
      "Epoch 4: val_loss improved from 0.11945 to 0.11244, saving model to anomaly_detection_results\\mvtec\\toothbrush\\toothbrush_mvtec_best_model.keras\n",
      "\u001b[1m2/2\u001b[0m \u001b[32m━━━━━━━━━━━━━━━━━━━━\u001b[0m\u001b[37m\u001b[0m \u001b[1m0s\u001b[0m 147ms/step - loss: 0.1247 - val_loss: 0.1124\n",
      "Epoch 5/20\n",
      "\u001b[1m2/2\u001b[0m \u001b[32m━━━━━━━━━━━━━━━━━━━━\u001b[0m\u001b[37m\u001b[0m \u001b[1m0s\u001b[0m 61ms/step - loss: 0.1159 \n",
      "Epoch 5: val_loss improved from 0.11244 to 0.10593, saving model to anomaly_detection_results\\mvtec\\toothbrush\\toothbrush_mvtec_best_model.keras\n",
      "\u001b[1m2/2\u001b[0m \u001b[32m━━━━━━━━━━━━━━━━━━━━\u001b[0m\u001b[37m\u001b[0m \u001b[1m0s\u001b[0m 150ms/step - loss: 0.1157 - val_loss: 0.1059\n",
      "Epoch 6/20\n",
      "\u001b[1m2/2\u001b[0m \u001b[32m━━━━━━━━━━━━━━━━━━━━\u001b[0m\u001b[37m\u001b[0m \u001b[1m0s\u001b[0m 67ms/step - loss: 0.1065 \n",
      "Epoch 6: val_loss improved from 0.10593 to 0.09733, saving model to anomaly_detection_results\\mvtec\\toothbrush\\toothbrush_mvtec_best_model.keras\n",
      "\u001b[1m2/2\u001b[0m \u001b[32m━━━━━━━━━━━━━━━━━━━━\u001b[0m\u001b[37m\u001b[0m \u001b[1m0s\u001b[0m 164ms/step - loss: 0.1062 - val_loss: 0.0973\n",
      "Epoch 7/20\n",
      "\u001b[1m2/2\u001b[0m \u001b[32m━━━━━━━━━━━━━━━━━━━━\u001b[0m\u001b[37m\u001b[0m \u001b[1m0s\u001b[0m 61ms/step - loss: 0.0952 \n",
      "Epoch 7: val_loss improved from 0.09733 to 0.08506, saving model to anomaly_detection_results\\mvtec\\toothbrush\\toothbrush_mvtec_best_model.keras\n",
      "\u001b[1m2/2\u001b[0m \u001b[32m━━━━━━━━━━━━━━━━━━━━\u001b[0m\u001b[37m\u001b[0m \u001b[1m0s\u001b[0m 146ms/step - loss: 0.0950 - val_loss: 0.0851\n",
      "Epoch 8/20\n",
      "\u001b[1m2/2\u001b[0m \u001b[32m━━━━━━━━━━━━━━━━━━━━\u001b[0m\u001b[37m\u001b[0m \u001b[1m0s\u001b[0m 65ms/step - loss: 0.0816 \n",
      "Epoch 8: val_loss improved from 0.08506 to 0.06696, saving model to anomaly_detection_results\\mvtec\\toothbrush\\toothbrush_mvtec_best_model.keras\n",
      "\u001b[1m2/2\u001b[0m \u001b[32m━━━━━━━━━━━━━━━━━━━━\u001b[0m\u001b[37m\u001b[0m \u001b[1m0s\u001b[0m 160ms/step - loss: 0.0811 - val_loss: 0.0670\n",
      "Epoch 9/20\n",
      "\u001b[1m2/2\u001b[0m \u001b[32m━━━━━━━━━━━━━━━━━━━━\u001b[0m\u001b[37m\u001b[0m \u001b[1m0s\u001b[0m 60ms/step - loss: 0.0633 \n",
      "Epoch 9: val_loss improved from 0.06696 to 0.04481, saving model to anomaly_detection_results\\mvtec\\toothbrush\\toothbrush_mvtec_best_model.keras\n",
      "\u001b[1m2/2\u001b[0m \u001b[32m━━━━━━━━━━━━━━━━━━━━\u001b[0m\u001b[37m\u001b[0m \u001b[1m0s\u001b[0m 149ms/step - loss: 0.0627 - val_loss: 0.0448\n",
      "Epoch 10/20\n",
      "\u001b[1m2/2\u001b[0m \u001b[32m━━━━━━━━━━━━━━━━━━━━\u001b[0m\u001b[37m\u001b[0m \u001b[1m0s\u001b[0m 56ms/step - loss: 0.0432 \n",
      "Epoch 10: val_loss improved from 0.04481 to 0.02838, saving model to anomaly_detection_results\\mvtec\\toothbrush\\toothbrush_mvtec_best_model.keras\n",
      "\u001b[1m2/2\u001b[0m \u001b[32m━━━━━━━━━━━━━━━━━━━━\u001b[0m\u001b[37m\u001b[0m \u001b[1m0s\u001b[0m 146ms/step - loss: 0.0427 - val_loss: 0.0284\n",
      "Epoch 11/20\n",
      "\u001b[1m2/2\u001b[0m \u001b[32m━━━━━━━━━━━━━━━━━━━━\u001b[0m\u001b[37m\u001b[0m \u001b[1m0s\u001b[0m 58ms/step - loss: 0.0276 \n",
      "Epoch 11: val_loss improved from 0.02838 to 0.01652, saving model to anomaly_detection_results\\mvtec\\toothbrush\\toothbrush_mvtec_best_model.keras\n",
      "\u001b[1m2/2\u001b[0m \u001b[32m━━━━━━━━━━━━━━━━━━━━\u001b[0m\u001b[37m\u001b[0m \u001b[1m0s\u001b[0m 147ms/step - loss: 0.0273 - val_loss: 0.0165\n",
      "Epoch 12/20\n",
      "\u001b[1m2/2\u001b[0m \u001b[32m━━━━━━━━━━━━━━━━━━━━\u001b[0m\u001b[37m\u001b[0m \u001b[1m0s\u001b[0m 57ms/step - loss: 0.0172 \n",
      "Epoch 12: val_loss improved from 0.01652 to 0.01193, saving model to anomaly_detection_results\\mvtec\\toothbrush\\toothbrush_mvtec_best_model.keras\n",
      "\u001b[1m2/2\u001b[0m \u001b[32m━━━━━━━━━━━━━━━━━━━━\u001b[0m\u001b[37m\u001b[0m \u001b[1m0s\u001b[0m 146ms/step - loss: 0.0170 - val_loss: 0.0119\n",
      "Epoch 13/20\n",
      "\u001b[1m2/2\u001b[0m \u001b[32m━━━━━━━━━━━━━━━━━━━━\u001b[0m\u001b[37m\u001b[0m \u001b[1m0s\u001b[0m 62ms/step - loss: 0.0131 \n",
      "Epoch 13: val_loss improved from 0.01193 to 0.01093, saving model to anomaly_detection_results\\mvtec\\toothbrush\\toothbrush_mvtec_best_model.keras\n",
      "\u001b[1m2/2\u001b[0m \u001b[32m━━━━━━━━━━━━━━━━━━━━\u001b[0m\u001b[37m\u001b[0m \u001b[1m0s\u001b[0m 180ms/step - loss: 0.0130 - val_loss: 0.0109\n",
      "Epoch 14/20\n",
      "\u001b[1m2/2\u001b[0m \u001b[32m━━━━━━━━━━━━━━━━━━━━\u001b[0m\u001b[37m\u001b[0m \u001b[1m0s\u001b[0m 62ms/step - loss: 0.0122 \n",
      "Epoch 14: val_loss improved from 0.01093 to 0.01074, saving model to anomaly_detection_results\\mvtec\\toothbrush\\toothbrush_mvtec_best_model.keras\n",
      "\u001b[1m2/2\u001b[0m \u001b[32m━━━━━━━━━━━━━━━━━━━━\u001b[0m\u001b[37m\u001b[0m \u001b[1m0s\u001b[0m 152ms/step - loss: 0.0122 - val_loss: 0.0107\n",
      "Epoch 15/20\n",
      "\u001b[1m2/2\u001b[0m \u001b[32m━━━━━━━━━━━━━━━━━━━━\u001b[0m\u001b[37m\u001b[0m \u001b[1m0s\u001b[0m 56ms/step - loss: 0.0120 \n",
      "Epoch 15: val_loss improved from 0.01074 to 0.01032, saving model to anomaly_detection_results\\mvtec\\toothbrush\\toothbrush_mvtec_best_model.keras\n",
      "\u001b[1m2/2\u001b[0m \u001b[32m━━━━━━━━━━━━━━━━━━━━\u001b[0m\u001b[37m\u001b[0m \u001b[1m0s\u001b[0m 146ms/step - loss: 0.0119 - val_loss: 0.0103\n",
      "Epoch 16/20\n",
      "\u001b[1m2/2\u001b[0m \u001b[32m━━━━━━━━━━━━━━━━━━━━\u001b[0m\u001b[37m\u001b[0m \u001b[1m0s\u001b[0m 56ms/step - loss: 0.0116 \n",
      "Epoch 16: val_loss improved from 0.01032 to 0.00969, saving model to anomaly_detection_results\\mvtec\\toothbrush\\toothbrush_mvtec_best_model.keras\n",
      "\u001b[1m2/2\u001b[0m \u001b[32m━━━━━━━━━━━━━━━━━━━━\u001b[0m\u001b[37m\u001b[0m \u001b[1m0s\u001b[0m 148ms/step - loss: 0.0116 - val_loss: 0.0097\n",
      "Epoch 17/20\n",
      "\u001b[1m2/2\u001b[0m \u001b[32m━━━━━━━━━━━━━━━━━━━━\u001b[0m\u001b[37m\u001b[0m \u001b[1m0s\u001b[0m 61ms/step - loss: 0.0112 \n",
      "Epoch 17: val_loss improved from 0.00969 to 0.00899, saving model to anomaly_detection_results\\mvtec\\toothbrush\\toothbrush_mvtec_best_model.keras\n",
      "\u001b[1m2/2\u001b[0m \u001b[32m━━━━━━━━━━━━━━━━━━━━\u001b[0m\u001b[37m\u001b[0m \u001b[1m0s\u001b[0m 150ms/step - loss: 0.0111 - val_loss: 0.0090\n",
      "Epoch 18/20\n",
      "\u001b[1m2/2\u001b[0m \u001b[32m━━━━━━━━━━━━━━━━━━━━\u001b[0m\u001b[37m\u001b[0m \u001b[1m0s\u001b[0m 58ms/step - loss: 0.0108 \n",
      "Epoch 18: val_loss improved from 0.00899 to 0.00853, saving model to anomaly_detection_results\\mvtec\\toothbrush\\toothbrush_mvtec_best_model.keras\n",
      "\u001b[1m2/2\u001b[0m \u001b[32m━━━━━━━━━━━━━━━━━━━━\u001b[0m\u001b[37m\u001b[0m \u001b[1m0s\u001b[0m 148ms/step - loss: 0.0107 - val_loss: 0.0085\n",
      "Epoch 19/20\n",
      "\u001b[1m2/2\u001b[0m \u001b[32m━━━━━━━━━━━━━━━━━━━━\u001b[0m\u001b[37m\u001b[0m \u001b[1m0s\u001b[0m 58ms/step - loss: 0.0105 \n",
      "Epoch 19: val_loss improved from 0.00853 to 0.00825, saving model to anomaly_detection_results\\mvtec\\toothbrush\\toothbrush_mvtec_best_model.keras\n",
      "\u001b[1m2/2\u001b[0m \u001b[32m━━━━━━━━━━━━━━━━━━━━\u001b[0m\u001b[37m\u001b[0m \u001b[1m0s\u001b[0m 162ms/step - loss: 0.0105 - val_loss: 0.0083\n",
      "Epoch 20/20\n",
      "\u001b[1m2/2\u001b[0m \u001b[32m━━━━━━━━━━━━━━━━━━━━\u001b[0m\u001b[37m\u001b[0m \u001b[1m0s\u001b[0m 61ms/step - loss: 0.0105 \n",
      "Epoch 20: val_loss improved from 0.00825 to 0.00795, saving model to anomaly_detection_results\\mvtec\\toothbrush\\toothbrush_mvtec_best_model.keras\n",
      "\u001b[1m2/2\u001b[0m \u001b[32m━━━━━━━━━━━━━━━━━━━━\u001b[0m\u001b[37m\u001b[0m \u001b[1m0s\u001b[0m 157ms/step - loss: 0.0105 - val_loss: 0.0080\n",
      "Eğitim tamamlandı. Süre: 6.97 saniye\n",
      "En iyi model yüklendi: anomaly_detection_results\\mvtec\\toothbrush\\toothbrush_mvtec_best_model.keras\n",
      "Eğitim geçmişi grafiği kaydedildi: anomaly_detection_results\\mvtec\\toothbrush\\toothbrush_mvtec_training_history.png\n",
      "Rekonstrüksiyon başlatılıyor...\n",
      "\u001b[1m1/2\u001b[0m \u001b[32m━━━━━━━━━━\u001b[0m\u001b[37m━━━━━━━━━━\u001b[0m \u001b[1m0s\u001b[0m 158ms/stepWARNING:tensorflow:5 out of the last 13 calls to <function TensorFlowTrainer.make_predict_function.<locals>.one_step_on_data_distributed at 0x000001B489E827A0> triggered tf.function retracing. Tracing is expensive and the excessive number of tracings could be due to (1) creating @tf.function repeatedly in a loop, (2) passing tensors with different shapes, (3) passing Python objects instead of tensors. For (1), please define your @tf.function outside of the loop. For (2), @tf.function has reduce_retracing=True option that can avoid unnecessary retracing. For (3), please refer to https://www.tensorflow.org/guide/function#controlling_retracing and https://www.tensorflow.org/api_docs/python/tf/function for  more details.\n",
      "\u001b[1m2/2\u001b[0m \u001b[32m━━━━━━━━━━━━━━━━━━━━\u001b[0m\u001b[37m\u001b[0m \u001b[1m0s\u001b[0m 151ms/step\n",
      "Anomali eşik değeri (95. yüzdelik): 0.010896\n",
      "Doğruluk (Accuracy): 0.2619\n",
      "Hassasiyet (Precision): 0.3333\n",
      "Duyarlılık (Recall): 0.0333\n",
      "F1 Skoru: 0.0606\n",
      "ROC AUC: 0.3278\n",
      "\n",
      "toothbrush (mvtec) için analiz sonuçları görselleştiriliyor...\n",
      "Rekonstrüksiyon sonuçları kaydedildi: anomaly_detection_results\\mvtec\\toothbrush\\toothbrush_mvtec_reconstruction_results.png\n",
      "Normal örnekler MSE - Min: 0.007681, Max: 0.011049, Ortalama: 0.009790\n",
      "Anomali örnekler MSE - Min: 0.007038, Max: 0.011165, Ortalama: 0.009437\n",
      "MSE karşılaştırma histogramı kaydedildi: anomaly_detection_results\\mvtec\\toothbrush\\toothbrush_mvtec_mse_comparison_histogram.png\n",
      "ROC eğrisi kaydedildi: anomaly_detection_results\\mvtec\\toothbrush\\toothbrush_mvtec_roc_curve.png\n",
      "Karışıklık matrisi kaydedildi: anomaly_detection_results\\mvtec\\toothbrush\\toothbrush_mvtec_confusion_matrix.png\n",
      "defective kusur tipi detaylı analizi kaydedildi: anomaly_detection_results\\mvtec\\toothbrush\\toothbrush_mvtec_defective_detailed_analysis.png\n",
      "Kusur tipi metrikleri kaydedildi: anomaly_detection_results\\mvtec\\toothbrush\\toothbrush_mvtec_defect_type_metrics.png\n",
      "Kusur tipine göre MSE dağılımı kaydedildi: anomaly_detection_results\\mvtec\\toothbrush\\toothbrush_mvtec_defect_type_mse_distribution.png\n",
      "Sonuçlar başarıyla kaydedildi: anomaly_detection_results\\mvtec\\toothbrush\n",
      "MVTec: toothbrush kategorisi başarıyla işlendi.\n",
      "\n",
      "==================================================\n",
      "İşleniyor: bottle (MVTEC veri seti)\n",
      "==================================================\n",
      "Eğitim dizini: C:\\Users\\Tansu\\OneDrive\\Masaüstü\\mvtec\\bottle\\train\n",
      "Test dizini: C:\\Users\\Tansu\\OneDrive\\Masaüstü\\mvtec\\bottle\\test\n",
      "Eğitim 'good' dizini: C:\\Users\\Tansu\\OneDrive\\Masaüstü\\mvtec\\bottle\\train\\good\n",
      "Eğitim 'good' dizinindeki dosya sayısı: 209\n"
     ]
    },
    {
     "name": "stderr",
     "output_type": "stream",
     "text": [
      "bottle: Eğitim verilerini yükleme: 100%|██████████| 209/209 [00:03<00:00, 52.38it/s]\n"
     ]
    },
    {
     "name": "stdout",
     "output_type": "stream",
     "text": [
      "Test 'good' dizini: C:\\Users\\Tansu\\OneDrive\\Masaüstü\\mvtec\\bottle\\test\\good\n",
      "Test 'good' dizinindeki dosya sayısı: 20\n"
     ]
    },
    {
     "name": "stderr",
     "output_type": "stream",
     "text": [
      "bottle: Normal test verilerini yükleme: 100%|██████████| 20/20 [00:00<00:00, 52.50it/s]\n"
     ]
    },
    {
     "name": "stdout",
     "output_type": "stream",
     "text": [
      "Tespit edilen kusur tipleri: ['broken_large', 'broken_small', 'contamination']\n",
      "Kusur dizini: C:\\Users\\Tansu\\OneDrive\\Masaüstü\\mvtec\\bottle\\test\\broken_large\n",
      "Kusur dizinindeki dosya sayısı: 20\n"
     ]
    },
    {
     "name": "stderr",
     "output_type": "stream",
     "text": [
      "bottle: broken_large verilerini yükleme: 100%|██████████| 20/20 [00:00<00:00, 52.53it/s]\n"
     ]
    },
    {
     "name": "stdout",
     "output_type": "stream",
     "text": [
      "Kusur dizini: C:\\Users\\Tansu\\OneDrive\\Masaüstü\\mvtec\\bottle\\test\\broken_small\n",
      "Kusur dizinindeki dosya sayısı: 22\n"
     ]
    },
    {
     "name": "stderr",
     "output_type": "stream",
     "text": [
      "bottle: broken_small verilerini yükleme: 100%|██████████| 22/22 [00:00<00:00, 52.76it/s]\n"
     ]
    },
    {
     "name": "stdout",
     "output_type": "stream",
     "text": [
      "Kusur dizini: C:\\Users\\Tansu\\OneDrive\\Masaüstü\\mvtec\\bottle\\test\\contamination\n",
      "Kusur dizinindeki dosya sayısı: 21\n"
     ]
    },
    {
     "name": "stderr",
     "output_type": "stream",
     "text": [
      "bottle: contamination verilerini yükleme: 100%|██████████| 21/21 [00:00<00:00, 53.34it/s]\n"
     ]
    },
    {
     "name": "stdout",
     "output_type": "stream",
     "text": [
      "Eğitim veriseti: (209, 128, 128) - Min: 31, Max: 255\n",
      "Test veriseti: (83, 128, 128) - Min: 25, Max: 255\n",
      "Test etiketleri: (83,)\n",
      "Anomali sayısı: 63\n",
      "Normal test örneği sayısı: 20\n",
      "\n",
      "bottle (mvtec) için görselleştirmeler oluşturuluyor...\n",
      "Görselleştirme kaydedildi: anomaly_detection_results\\mvtec\\bottle\\bottle_(mvtec)___Eğitim_Örnekleri.png\n",
      "Kusur tipleri karşılaştırması kaydedildi: anomaly_detection_results\\mvtec\\bottle\\bottle_mvtec_defect_types_comparison.png\n",
      "Normal vs Anomali karşılaştırması kaydedildi: anomaly_detection_results\\mvtec\\bottle\\bottle_mvtec_normal_vs_anomaly_samples.png\n"
     ]
    },
    {
     "data": {
      "text/html": [
       "<pre style=\"white-space:pre;overflow-x:auto;line-height:normal;font-family:Menlo,'DejaVu Sans Mono',consolas,'Courier New',monospace\"><span style=\"font-weight: bold\">Model: \"functional_4\"</span>\n",
       "</pre>\n"
      ],
      "text/plain": [
       "\u001b[1mModel: \"functional_4\"\u001b[0m\n"
      ]
     },
     "metadata": {},
     "output_type": "display_data"
    },
    {
     "data": {
      "text/html": [
       "<pre style=\"white-space:pre;overflow-x:auto;line-height:normal;font-family:Menlo,'DejaVu Sans Mono',consolas,'Courier New',monospace\">┏━━━━━━━━━━━━━━━━━━━━━━━━━━━━━━━━━┳━━━━━━━━━━━━━━━━━━━━━━━━┳━━━━━━━━━━━━━━━┓\n",
       "┃<span style=\"font-weight: bold\"> Layer (type)                    </span>┃<span style=\"font-weight: bold\"> Output Shape           </span>┃<span style=\"font-weight: bold\">       Param # </span>┃\n",
       "┡━━━━━━━━━━━━━━━━━━━━━━━━━━━━━━━━━╇━━━━━━━━━━━━━━━━━━━━━━━━╇━━━━━━━━━━━━━━━┩\n",
       "│ input_layer (<span style=\"color: #0087ff; text-decoration-color: #0087ff\">InputLayer</span>)        │ (<span style=\"color: #00d7ff; text-decoration-color: #00d7ff\">None</span>, <span style=\"color: #00af00; text-decoration-color: #00af00\">128</span>, <span style=\"color: #00af00; text-decoration-color: #00af00\">128</span>, <span style=\"color: #00af00; text-decoration-color: #00af00\">1</span>)    │             <span style=\"color: #00af00; text-decoration-color: #00af00\">0</span> │\n",
       "├─────────────────────────────────┼────────────────────────┼───────────────┤\n",
       "│ conv2d_20 (<span style=\"color: #0087ff; text-decoration-color: #0087ff\">Conv2D</span>)              │ (<span style=\"color: #00d7ff; text-decoration-color: #00d7ff\">None</span>, <span style=\"color: #00af00; text-decoration-color: #00af00\">128</span>, <span style=\"color: #00af00; text-decoration-color: #00af00\">128</span>, <span style=\"color: #00af00; text-decoration-color: #00af00\">32</span>)   │           <span style=\"color: #00af00; text-decoration-color: #00af00\">320</span> │\n",
       "├─────────────────────────────────┼────────────────────────┼───────────────┤\n",
       "│ max_pooling2d_8 (<span style=\"color: #0087ff; text-decoration-color: #0087ff\">MaxPooling2D</span>)  │ (<span style=\"color: #00d7ff; text-decoration-color: #00d7ff\">None</span>, <span style=\"color: #00af00; text-decoration-color: #00af00\">64</span>, <span style=\"color: #00af00; text-decoration-color: #00af00\">64</span>, <span style=\"color: #00af00; text-decoration-color: #00af00\">32</span>)     │             <span style=\"color: #00af00; text-decoration-color: #00af00\">0</span> │\n",
       "├─────────────────────────────────┼────────────────────────┼───────────────┤\n",
       "│ conv2d_21 (<span style=\"color: #0087ff; text-decoration-color: #0087ff\">Conv2D</span>)              │ (<span style=\"color: #00d7ff; text-decoration-color: #00d7ff\">None</span>, <span style=\"color: #00af00; text-decoration-color: #00af00\">64</span>, <span style=\"color: #00af00; text-decoration-color: #00af00\">64</span>, <span style=\"color: #00af00; text-decoration-color: #00af00\">16</span>)     │         <span style=\"color: #00af00; text-decoration-color: #00af00\">4,624</span> │\n",
       "├─────────────────────────────────┼────────────────────────┼───────────────┤\n",
       "│ max_pooling2d_9 (<span style=\"color: #0087ff; text-decoration-color: #0087ff\">MaxPooling2D</span>)  │ (<span style=\"color: #00d7ff; text-decoration-color: #00d7ff\">None</span>, <span style=\"color: #00af00; text-decoration-color: #00af00\">32</span>, <span style=\"color: #00af00; text-decoration-color: #00af00\">32</span>, <span style=\"color: #00af00; text-decoration-color: #00af00\">16</span>)     │             <span style=\"color: #00af00; text-decoration-color: #00af00\">0</span> │\n",
       "├─────────────────────────────────┼────────────────────────┼───────────────┤\n",
       "│ conv2d_22 (<span style=\"color: #0087ff; text-decoration-color: #0087ff\">Conv2D</span>)              │ (<span style=\"color: #00d7ff; text-decoration-color: #00d7ff\">None</span>, <span style=\"color: #00af00; text-decoration-color: #00af00\">32</span>, <span style=\"color: #00af00; text-decoration-color: #00af00\">32</span>, <span style=\"color: #00af00; text-decoration-color: #00af00\">16</span>)     │         <span style=\"color: #00af00; text-decoration-color: #00af00\">2,320</span> │\n",
       "├─────────────────────────────────┼────────────────────────┼───────────────┤\n",
       "│ up_sampling2d_8 (<span style=\"color: #0087ff; text-decoration-color: #0087ff\">UpSampling2D</span>)  │ (<span style=\"color: #00d7ff; text-decoration-color: #00d7ff\">None</span>, <span style=\"color: #00af00; text-decoration-color: #00af00\">64</span>, <span style=\"color: #00af00; text-decoration-color: #00af00\">64</span>, <span style=\"color: #00af00; text-decoration-color: #00af00\">16</span>)     │             <span style=\"color: #00af00; text-decoration-color: #00af00\">0</span> │\n",
       "├─────────────────────────────────┼────────────────────────┼───────────────┤\n",
       "│ conv2d_23 (<span style=\"color: #0087ff; text-decoration-color: #0087ff\">Conv2D</span>)              │ (<span style=\"color: #00d7ff; text-decoration-color: #00d7ff\">None</span>, <span style=\"color: #00af00; text-decoration-color: #00af00\">64</span>, <span style=\"color: #00af00; text-decoration-color: #00af00\">64</span>, <span style=\"color: #00af00; text-decoration-color: #00af00\">32</span>)     │         <span style=\"color: #00af00; text-decoration-color: #00af00\">4,640</span> │\n",
       "├─────────────────────────────────┼────────────────────────┼───────────────┤\n",
       "│ up_sampling2d_9 (<span style=\"color: #0087ff; text-decoration-color: #0087ff\">UpSampling2D</span>)  │ (<span style=\"color: #00d7ff; text-decoration-color: #00d7ff\">None</span>, <span style=\"color: #00af00; text-decoration-color: #00af00\">128</span>, <span style=\"color: #00af00; text-decoration-color: #00af00\">128</span>, <span style=\"color: #00af00; text-decoration-color: #00af00\">32</span>)   │             <span style=\"color: #00af00; text-decoration-color: #00af00\">0</span> │\n",
       "├─────────────────────────────────┼────────────────────────┼───────────────┤\n",
       "│ conv2d_24 (<span style=\"color: #0087ff; text-decoration-color: #0087ff\">Conv2D</span>)              │ (<span style=\"color: #00d7ff; text-decoration-color: #00d7ff\">None</span>, <span style=\"color: #00af00; text-decoration-color: #00af00\">128</span>, <span style=\"color: #00af00; text-decoration-color: #00af00\">128</span>, <span style=\"color: #00af00; text-decoration-color: #00af00\">1</span>)    │           <span style=\"color: #00af00; text-decoration-color: #00af00\">289</span> │\n",
       "└─────────────────────────────────┴────────────────────────┴───────────────┘\n",
       "</pre>\n"
      ],
      "text/plain": [
       "┏━━━━━━━━━━━━━━━━━━━━━━━━━━━━━━━━━┳━━━━━━━━━━━━━━━━━━━━━━━━┳━━━━━━━━━━━━━━━┓\n",
       "┃\u001b[1m \u001b[0m\u001b[1mLayer (type)                   \u001b[0m\u001b[1m \u001b[0m┃\u001b[1m \u001b[0m\u001b[1mOutput Shape          \u001b[0m\u001b[1m \u001b[0m┃\u001b[1m \u001b[0m\u001b[1m      Param #\u001b[0m\u001b[1m \u001b[0m┃\n",
       "┡━━━━━━━━━━━━━━━━━━━━━━━━━━━━━━━━━╇━━━━━━━━━━━━━━━━━━━━━━━━╇━━━━━━━━━━━━━━━┩\n",
       "│ input_layer (\u001b[38;5;33mInputLayer\u001b[0m)        │ (\u001b[38;5;45mNone\u001b[0m, \u001b[38;5;34m128\u001b[0m, \u001b[38;5;34m128\u001b[0m, \u001b[38;5;34m1\u001b[0m)    │             \u001b[38;5;34m0\u001b[0m │\n",
       "├─────────────────────────────────┼────────────────────────┼───────────────┤\n",
       "│ conv2d_20 (\u001b[38;5;33mConv2D\u001b[0m)              │ (\u001b[38;5;45mNone\u001b[0m, \u001b[38;5;34m128\u001b[0m, \u001b[38;5;34m128\u001b[0m, \u001b[38;5;34m32\u001b[0m)   │           \u001b[38;5;34m320\u001b[0m │\n",
       "├─────────────────────────────────┼────────────────────────┼───────────────┤\n",
       "│ max_pooling2d_8 (\u001b[38;5;33mMaxPooling2D\u001b[0m)  │ (\u001b[38;5;45mNone\u001b[0m, \u001b[38;5;34m64\u001b[0m, \u001b[38;5;34m64\u001b[0m, \u001b[38;5;34m32\u001b[0m)     │             \u001b[38;5;34m0\u001b[0m │\n",
       "├─────────────────────────────────┼────────────────────────┼───────────────┤\n",
       "│ conv2d_21 (\u001b[38;5;33mConv2D\u001b[0m)              │ (\u001b[38;5;45mNone\u001b[0m, \u001b[38;5;34m64\u001b[0m, \u001b[38;5;34m64\u001b[0m, \u001b[38;5;34m16\u001b[0m)     │         \u001b[38;5;34m4,624\u001b[0m │\n",
       "├─────────────────────────────────┼────────────────────────┼───────────────┤\n",
       "│ max_pooling2d_9 (\u001b[38;5;33mMaxPooling2D\u001b[0m)  │ (\u001b[38;5;45mNone\u001b[0m, \u001b[38;5;34m32\u001b[0m, \u001b[38;5;34m32\u001b[0m, \u001b[38;5;34m16\u001b[0m)     │             \u001b[38;5;34m0\u001b[0m │\n",
       "├─────────────────────────────────┼────────────────────────┼───────────────┤\n",
       "│ conv2d_22 (\u001b[38;5;33mConv2D\u001b[0m)              │ (\u001b[38;5;45mNone\u001b[0m, \u001b[38;5;34m32\u001b[0m, \u001b[38;5;34m32\u001b[0m, \u001b[38;5;34m16\u001b[0m)     │         \u001b[38;5;34m2,320\u001b[0m │\n",
       "├─────────────────────────────────┼────────────────────────┼───────────────┤\n",
       "│ up_sampling2d_8 (\u001b[38;5;33mUpSampling2D\u001b[0m)  │ (\u001b[38;5;45mNone\u001b[0m, \u001b[38;5;34m64\u001b[0m, \u001b[38;5;34m64\u001b[0m, \u001b[38;5;34m16\u001b[0m)     │             \u001b[38;5;34m0\u001b[0m │\n",
       "├─────────────────────────────────┼────────────────────────┼───────────────┤\n",
       "│ conv2d_23 (\u001b[38;5;33mConv2D\u001b[0m)              │ (\u001b[38;5;45mNone\u001b[0m, \u001b[38;5;34m64\u001b[0m, \u001b[38;5;34m64\u001b[0m, \u001b[38;5;34m32\u001b[0m)     │         \u001b[38;5;34m4,640\u001b[0m │\n",
       "├─────────────────────────────────┼────────────────────────┼───────────────┤\n",
       "│ up_sampling2d_9 (\u001b[38;5;33mUpSampling2D\u001b[0m)  │ (\u001b[38;5;45mNone\u001b[0m, \u001b[38;5;34m128\u001b[0m, \u001b[38;5;34m128\u001b[0m, \u001b[38;5;34m32\u001b[0m)   │             \u001b[38;5;34m0\u001b[0m │\n",
       "├─────────────────────────────────┼────────────────────────┼───────────────┤\n",
       "│ conv2d_24 (\u001b[38;5;33mConv2D\u001b[0m)              │ (\u001b[38;5;45mNone\u001b[0m, \u001b[38;5;34m128\u001b[0m, \u001b[38;5;34m128\u001b[0m, \u001b[38;5;34m1\u001b[0m)    │           \u001b[38;5;34m289\u001b[0m │\n",
       "└─────────────────────────────────┴────────────────────────┴───────────────┘\n"
      ]
     },
     "metadata": {},
     "output_type": "display_data"
    },
    {
     "data": {
      "text/html": [
       "<pre style=\"white-space:pre;overflow-x:auto;line-height:normal;font-family:Menlo,'DejaVu Sans Mono',consolas,'Courier New',monospace\"><span style=\"font-weight: bold\"> Total params: </span><span style=\"color: #00af00; text-decoration-color: #00af00\">12,193</span> (47.63 KB)\n",
       "</pre>\n"
      ],
      "text/plain": [
       "\u001b[1m Total params: \u001b[0m\u001b[38;5;34m12,193\u001b[0m (47.63 KB)\n"
      ]
     },
     "metadata": {},
     "output_type": "display_data"
    },
    {
     "data": {
      "text/html": [
       "<pre style=\"white-space:pre;overflow-x:auto;line-height:normal;font-family:Menlo,'DejaVu Sans Mono',consolas,'Courier New',monospace\"><span style=\"font-weight: bold\"> Trainable params: </span><span style=\"color: #00af00; text-decoration-color: #00af00\">12,193</span> (47.63 KB)\n",
       "</pre>\n"
      ],
      "text/plain": [
       "\u001b[1m Trainable params: \u001b[0m\u001b[38;5;34m12,193\u001b[0m (47.63 KB)\n"
      ]
     },
     "metadata": {},
     "output_type": "display_data"
    },
    {
     "data": {
      "text/html": [
       "<pre style=\"white-space:pre;overflow-x:auto;line-height:normal;font-family:Menlo,'DejaVu Sans Mono',consolas,'Courier New',monospace\"><span style=\"font-weight: bold\"> Non-trainable params: </span><span style=\"color: #00af00; text-decoration-color: #00af00\">0</span> (0.00 B)\n",
       "</pre>\n"
      ],
      "text/plain": [
       "\u001b[1m Non-trainable params: \u001b[0m\u001b[38;5;34m0\u001b[0m (0.00 B)\n"
      ]
     },
     "metadata": {},
     "output_type": "display_data"
    },
    {
     "name": "stdout",
     "output_type": "stream",
     "text": [
      "Epoch 1/20\n",
      "\u001b[1m5/6\u001b[0m \u001b[32m━━━━━━━━━━━━━━━━\u001b[0m\u001b[37m━━━━\u001b[0m \u001b[1m0s\u001b[0m 108ms/step - loss: 0.1279\n",
      "Epoch 1: val_loss improved from inf to 0.10379, saving model to anomaly_detection_results\\mvtec\\bottle\\bottle_mvtec_best_model.keras\n",
      "\u001b[1m6/6\u001b[0m \u001b[32m━━━━━━━━━━━━━━━━━━━━\u001b[0m\u001b[37m\u001b[0m \u001b[1m2s\u001b[0m 160ms/step - loss: 0.1265 - val_loss: 0.1038\n",
      "Epoch 2/20\n",
      "\u001b[1m5/6\u001b[0m \u001b[32m━━━━━━━━━━━━━━━━\u001b[0m\u001b[37m━━━━\u001b[0m \u001b[1m0s\u001b[0m 109ms/step - loss: 0.1029\n",
      "Epoch 2: val_loss improved from 0.10379 to 0.09254, saving model to anomaly_detection_results\\mvtec\\bottle\\bottle_mvtec_best_model.keras\n",
      "\u001b[1m6/6\u001b[0m \u001b[32m━━━━━━━━━━━━━━━━━━━━\u001b[0m\u001b[37m\u001b[0m \u001b[1m1s\u001b[0m 119ms/step - loss: 0.1025 - val_loss: 0.0925\n",
      "Epoch 3/20\n",
      "\u001b[1m5/6\u001b[0m \u001b[32m━━━━━━━━━━━━━━━━\u001b[0m\u001b[37m━━━━\u001b[0m \u001b[1m0s\u001b[0m 111ms/step - loss: 0.0917\n",
      "Epoch 3: val_loss improved from 0.09254 to 0.07806, saving model to anomaly_detection_results\\mvtec\\bottle\\bottle_mvtec_best_model.keras\n",
      "\u001b[1m6/6\u001b[0m \u001b[32m━━━━━━━━━━━━━━━━━━━━\u001b[0m\u001b[37m\u001b[0m \u001b[1m1s\u001b[0m 120ms/step - loss: 0.0910 - val_loss: 0.0781\n",
      "Epoch 4/20\n",
      "\u001b[1m5/6\u001b[0m \u001b[32m━━━━━━━━━━━━━━━━\u001b[0m\u001b[37m━━━━\u001b[0m \u001b[1m0s\u001b[0m 114ms/step - loss: 0.0767\n",
      "Epoch 4: val_loss improved from 0.07806 to 0.06288, saving model to anomaly_detection_results\\mvtec\\bottle\\bottle_mvtec_best_model.keras\n",
      "\u001b[1m6/6\u001b[0m \u001b[32m━━━━━━━━━━━━━━━━━━━━\u001b[0m\u001b[37m\u001b[0m \u001b[1m1s\u001b[0m 124ms/step - loss: 0.0759 - val_loss: 0.0629\n",
      "Epoch 5/20\n",
      "\u001b[1m5/6\u001b[0m \u001b[32m━━━━━━━━━━━━━━━━\u001b[0m\u001b[37m━━━━\u001b[0m \u001b[1m0s\u001b[0m 110ms/step - loss: 0.0613\n",
      "Epoch 5: val_loss improved from 0.06288 to 0.04847, saving model to anomaly_detection_results\\mvtec\\bottle\\bottle_mvtec_best_model.keras\n",
      "\u001b[1m6/6\u001b[0m \u001b[32m━━━━━━━━━━━━━━━━━━━━\u001b[0m\u001b[37m\u001b[0m \u001b[1m1s\u001b[0m 122ms/step - loss: 0.0605 - val_loss: 0.0485\n",
      "Epoch 6/20\n",
      "\u001b[1m5/6\u001b[0m \u001b[32m━━━━━━━━━━━━━━━━\u001b[0m\u001b[37m━━━━\u001b[0m \u001b[1m0s\u001b[0m 109ms/step - loss: 0.0473\n",
      "Epoch 6: val_loss improved from 0.04847 to 0.03451, saving model to anomaly_detection_results\\mvtec\\bottle\\bottle_mvtec_best_model.keras\n",
      "\u001b[1m6/6\u001b[0m \u001b[32m━━━━━━━━━━━━━━━━━━━━\u001b[0m\u001b[37m\u001b[0m \u001b[1m1s\u001b[0m 120ms/step - loss: 0.0466 - val_loss: 0.0345\n",
      "Epoch 7/20\n",
      "\u001b[1m5/6\u001b[0m \u001b[32m━━━━━━━━━━━━━━━━\u001b[0m\u001b[37m━━━━\u001b[0m \u001b[1m0s\u001b[0m 112ms/step - loss: 0.0328\n",
      "Epoch 7: val_loss improved from 0.03451 to 0.01880, saving model to anomaly_detection_results\\mvtec\\bottle\\bottle_mvtec_best_model.keras\n",
      "\u001b[1m6/6\u001b[0m \u001b[32m━━━━━━━━━━━━━━━━━━━━\u001b[0m\u001b[37m\u001b[0m \u001b[1m1s\u001b[0m 123ms/step - loss: 0.0319 - val_loss: 0.0188\n",
      "Epoch 8/20\n",
      "\u001b[1m5/6\u001b[0m \u001b[32m━━━━━━━━━━━━━━━━\u001b[0m\u001b[37m━━━━\u001b[0m \u001b[1m0s\u001b[0m 110ms/step - loss: 0.0166\n",
      "Epoch 8: val_loss improved from 0.01880 to 0.01235, saving model to anomaly_detection_results\\mvtec\\bottle\\bottle_mvtec_best_model.keras\n",
      "\u001b[1m6/6\u001b[0m \u001b[32m━━━━━━━━━━━━━━━━━━━━\u001b[0m\u001b[37m\u001b[0m \u001b[1m1s\u001b[0m 121ms/step - loss: 0.0160 - val_loss: 0.0124\n",
      "Epoch 9/20\n",
      "\u001b[1m5/6\u001b[0m \u001b[32m━━━━━━━━━━━━━━━━\u001b[0m\u001b[37m━━━━\u001b[0m \u001b[1m0s\u001b[0m 115ms/step - loss: 0.0117\n",
      "Epoch 9: val_loss did not improve from 0.01235\n",
      "\u001b[1m6/6\u001b[0m \u001b[32m━━━━━━━━━━━━━━━━━━━━\u001b[0m\u001b[37m\u001b[0m \u001b[1m1s\u001b[0m 120ms/step - loss: 0.0118 - val_loss: 0.0128\n",
      "Epoch 10/20\n",
      "\u001b[1m5/6\u001b[0m \u001b[32m━━━━━━━━━━━━━━━━\u001b[0m\u001b[37m━━━━\u001b[0m \u001b[1m0s\u001b[0m 118ms/step - loss: 0.0110\n",
      "Epoch 10: val_loss improved from 0.01235 to 0.00855, saving model to anomaly_detection_results\\mvtec\\bottle\\bottle_mvtec_best_model.keras\n",
      "\u001b[1m6/6\u001b[0m \u001b[32m━━━━━━━━━━━━━━━━━━━━\u001b[0m\u001b[37m\u001b[0m \u001b[1m1s\u001b[0m 130ms/step - loss: 0.0108 - val_loss: 0.0085\n",
      "Epoch 11/20\n",
      "\u001b[1m5/6\u001b[0m \u001b[32m━━━━━━━━━━━━━━━━\u001b[0m\u001b[37m━━━━\u001b[0m \u001b[1m0s\u001b[0m 115ms/step - loss: 0.0076\n",
      "Epoch 11: val_loss improved from 0.00855 to 0.00700, saving model to anomaly_detection_results\\mvtec\\bottle\\bottle_mvtec_best_model.keras\n",
      "\u001b[1m6/6\u001b[0m \u001b[32m━━━━━━━━━━━━━━━━━━━━\u001b[0m\u001b[37m\u001b[0m \u001b[1m1s\u001b[0m 127ms/step - loss: 0.0075 - val_loss: 0.0070\n",
      "Epoch 12/20\n",
      "\u001b[1m5/6\u001b[0m \u001b[32m━━━━━━━━━━━━━━━━\u001b[0m\u001b[37m━━━━\u001b[0m \u001b[1m0s\u001b[0m 120ms/step - loss: 0.0064\n",
      "Epoch 12: val_loss improved from 0.00700 to 0.00579, saving model to anomaly_detection_results\\mvtec\\bottle\\bottle_mvtec_best_model.keras\n",
      "\u001b[1m6/6\u001b[0m \u001b[32m━━━━━━━━━━━━━━━━━━━━\u001b[0m\u001b[37m\u001b[0m \u001b[1m1s\u001b[0m 133ms/step - loss: 0.0064 - val_loss: 0.0058\n",
      "Epoch 13/20\n",
      "\u001b[1m5/6\u001b[0m \u001b[32m━━━━━━━━━━━━━━━━\u001b[0m\u001b[37m━━━━\u001b[0m \u001b[1m0s\u001b[0m 120ms/step - loss: 0.0052\n",
      "Epoch 13: val_loss improved from 0.00579 to 0.00480, saving model to anomaly_detection_results\\mvtec\\bottle\\bottle_mvtec_best_model.keras\n",
      "\u001b[1m6/6\u001b[0m \u001b[32m━━━━━━━━━━━━━━━━━━━━\u001b[0m\u001b[37m\u001b[0m \u001b[1m1s\u001b[0m 136ms/step - loss: 0.0051 - val_loss: 0.0048\n",
      "Epoch 14/20\n",
      "\u001b[1m5/6\u001b[0m \u001b[32m━━━━━━━━━━━━━━━━\u001b[0m\u001b[37m━━━━\u001b[0m \u001b[1m0s\u001b[0m 118ms/step - loss: 0.0042\n",
      "Epoch 14: val_loss improved from 0.00480 to 0.00415, saving model to anomaly_detection_results\\mvtec\\bottle\\bottle_mvtec_best_model.keras\n",
      "\u001b[1m6/6\u001b[0m \u001b[32m━━━━━━━━━━━━━━━━━━━━\u001b[0m\u001b[37m\u001b[0m \u001b[1m1s\u001b[0m 129ms/step - loss: 0.0042 - val_loss: 0.0042\n",
      "Epoch 15/20\n",
      "\u001b[1m5/6\u001b[0m \u001b[32m━━━━━━━━━━━━━━━━\u001b[0m\u001b[37m━━━━\u001b[0m \u001b[1m0s\u001b[0m 129ms/step - loss: 0.0036\n",
      "Epoch 15: val_loss improved from 0.00415 to 0.00371, saving model to anomaly_detection_results\\mvtec\\bottle\\bottle_mvtec_best_model.keras\n",
      "\u001b[1m6/6\u001b[0m \u001b[32m━━━━━━━━━━━━━━━━━━━━\u001b[0m\u001b[37m\u001b[0m \u001b[1m1s\u001b[0m 137ms/step - loss: 0.0036 - val_loss: 0.0037\n",
      "Epoch 16/20\n",
      "\u001b[1m5/6\u001b[0m \u001b[32m━━━━━━━━━━━━━━━━\u001b[0m\u001b[37m━━━━\u001b[0m \u001b[1m0s\u001b[0m 115ms/step - loss: 0.0033\n",
      "Epoch 16: val_loss improved from 0.00371 to 0.00345, saving model to anomaly_detection_results\\mvtec\\bottle\\bottle_mvtec_best_model.keras\n",
      "\u001b[1m6/6\u001b[0m \u001b[32m━━━━━━━━━━━━━━━━━━━━\u001b[0m\u001b[37m\u001b[0m \u001b[1m1s\u001b[0m 127ms/step - loss: 0.0033 - val_loss: 0.0034\n",
      "Epoch 17/20\n",
      "\u001b[1m5/6\u001b[0m \u001b[32m━━━━━━━━━━━━━━━━\u001b[0m\u001b[37m━━━━\u001b[0m \u001b[1m0s\u001b[0m 116ms/step - loss: 0.0030\n",
      "Epoch 17: val_loss improved from 0.00345 to 0.00323, saving model to anomaly_detection_results\\mvtec\\bottle\\bottle_mvtec_best_model.keras\n",
      "\u001b[1m6/6\u001b[0m \u001b[32m━━━━━━━━━━━━━━━━━━━━\u001b[0m\u001b[37m\u001b[0m \u001b[1m1s\u001b[0m 127ms/step - loss: 0.0030 - val_loss: 0.0032\n",
      "Epoch 18/20\n",
      "\u001b[1m5/6\u001b[0m \u001b[32m━━━━━━━━━━━━━━━━\u001b[0m\u001b[37m━━━━\u001b[0m \u001b[1m0s\u001b[0m 117ms/step - loss: 0.0028\n",
      "Epoch 18: val_loss improved from 0.00323 to 0.00307, saving model to anomaly_detection_results\\mvtec\\bottle\\bottle_mvtec_best_model.keras\n",
      "\u001b[1m6/6\u001b[0m \u001b[32m━━━━━━━━━━━━━━━━━━━━\u001b[0m\u001b[37m\u001b[0m \u001b[1m1s\u001b[0m 129ms/step - loss: 0.0028 - val_loss: 0.0031\n",
      "Epoch 19/20\n",
      "\u001b[1m5/6\u001b[0m \u001b[32m━━━━━━━━━━━━━━━━\u001b[0m\u001b[37m━━━━\u001b[0m \u001b[1m0s\u001b[0m 118ms/step - loss: 0.0027\n",
      "Epoch 19: val_loss improved from 0.00307 to 0.00299, saving model to anomaly_detection_results\\mvtec\\bottle\\bottle_mvtec_best_model.keras\n",
      "\u001b[1m6/6\u001b[0m \u001b[32m━━━━━━━━━━━━━━━━━━━━\u001b[0m\u001b[37m\u001b[0m \u001b[1m1s\u001b[0m 129ms/step - loss: 0.0027 - val_loss: 0.0030\n",
      "Epoch 20/20\n",
      "\u001b[1m5/6\u001b[0m \u001b[32m━━━━━━━━━━━━━━━━\u001b[0m\u001b[37m━━━━\u001b[0m \u001b[1m0s\u001b[0m 117ms/step - loss: 0.0026\n",
      "Epoch 20: val_loss improved from 0.00299 to 0.00287, saving model to anomaly_detection_results\\mvtec\\bottle\\bottle_mvtec_best_model.keras\n",
      "\u001b[1m6/6\u001b[0m \u001b[32m━━━━━━━━━━━━━━━━━━━━\u001b[0m\u001b[37m\u001b[0m \u001b[1m1s\u001b[0m 129ms/step - loss: 0.0026 - val_loss: 0.0029\n",
      "Eğitim tamamlandı. Süre: 16.96 saniye\n",
      "En iyi model yüklendi: anomaly_detection_results\\mvtec\\bottle\\bottle_mvtec_best_model.keras\n",
      "Eğitim geçmişi grafiği kaydedildi: anomaly_detection_results\\mvtec\\bottle\\bottle_mvtec_training_history.png\n",
      "Rekonstrüksiyon başlatılıyor...\n",
      "WARNING:tensorflow:6 out of the last 14 calls to <function TensorFlowTrainer.make_predict_function.<locals>.one_step_on_data_distributed at 0x000001B4A1BFBB00> triggered tf.function retracing. Tracing is expensive and the excessive number of tracings could be due to (1) creating @tf.function repeatedly in a loop, (2) passing tensors with different shapes, (3) passing Python objects instead of tensors. For (1), please define your @tf.function outside of the loop. For (2), @tf.function has reduce_retracing=True option that can avoid unnecessary retracing. For (3), please refer to https://www.tensorflow.org/guide/function#controlling_retracing and https://www.tensorflow.org/api_docs/python/tf/function for  more details.\n",
      "\u001b[1m3/3\u001b[0m \u001b[32m━━━━━━━━━━━━━━━━━━━━\u001b[0m\u001b[37m\u001b[0m \u001b[1m0s\u001b[0m 101ms/step\n",
      "Anomali eşik değeri (95. yüzdelik): 0.004313\n",
      "Doğruluk (Accuracy): 0.3012\n",
      "Hassasiyet (Precision): 1.0000\n",
      "Duyarlılık (Recall): 0.0794\n",
      "F1 Skoru: 0.1471\n",
      "ROC AUC: 0.5310\n",
      "\n",
      "bottle (mvtec) için analiz sonuçları görselleştiriliyor...\n",
      "Rekonstrüksiyon sonuçları kaydedildi: anomaly_detection_results\\mvtec\\bottle\\bottle_mvtec_reconstruction_results.png\n",
      "Normal örnekler MSE - Min: 0.002038, Max: 0.003839, Ortalama: 0.002944\n",
      "Anomali örnekler MSE - Min: 0.001954, Max: 0.005312, Ortalama: 0.003099\n",
      "MSE karşılaştırma histogramı kaydedildi: anomaly_detection_results\\mvtec\\bottle\\bottle_mvtec_mse_comparison_histogram.png\n",
      "ROC eğrisi kaydedildi: anomaly_detection_results\\mvtec\\bottle\\bottle_mvtec_roc_curve.png\n",
      "Karışıklık matrisi kaydedildi: anomaly_detection_results\\mvtec\\bottle\\bottle_mvtec_confusion_matrix.png\n",
      "broken_large kusur tipi detaylı analizi kaydedildi: anomaly_detection_results\\mvtec\\bottle\\bottle_mvtec_broken_large_detailed_analysis.png\n",
      "broken_small kusur tipi detaylı analizi kaydedildi: anomaly_detection_results\\mvtec\\bottle\\bottle_mvtec_broken_small_detailed_analysis.png\n",
      "contamination kusur tipi detaylı analizi kaydedildi: anomaly_detection_results\\mvtec\\bottle\\bottle_mvtec_contamination_detailed_analysis.png\n",
      "Kusur tipi metrikleri kaydedildi: anomaly_detection_results\\mvtec\\bottle\\bottle_mvtec_defect_type_metrics.png\n",
      "Kusur tipine göre MSE dağılımı kaydedildi: anomaly_detection_results\\mvtec\\bottle\\bottle_mvtec_defect_type_mse_distribution.png\n",
      "Sonuçlar başarıyla kaydedildi: anomaly_detection_results\\mvtec\\bottle\n",
      "MVTec: bottle kategorisi başarıyla işlendi.\n",
      "\n",
      "==================================================\n",
      "İşleniyor: cable (MVTEC veri seti)\n",
      "==================================================\n",
      "Eğitim dizini: C:\\Users\\Tansu\\OneDrive\\Masaüstü\\mvtec\\cable\\train\n",
      "Test dizini: C:\\Users\\Tansu\\OneDrive\\Masaüstü\\mvtec\\cable\\test\n",
      "Eğitim 'good' dizini: C:\\Users\\Tansu\\OneDrive\\Masaüstü\\mvtec\\cable\\train\\good\n",
      "Eğitim 'good' dizinindeki dosya sayısı: 224\n"
     ]
    },
    {
     "name": "stderr",
     "output_type": "stream",
     "text": [
      "cable: Eğitim verilerini yükleme: 100%|██████████| 224/224 [00:07<00:00, 29.71it/s]\n"
     ]
    },
    {
     "name": "stdout",
     "output_type": "stream",
     "text": [
      "Test 'good' dizini: C:\\Users\\Tansu\\OneDrive\\Masaüstü\\mvtec\\cable\\test\\good\n",
      "Test 'good' dizinindeki dosya sayısı: 58\n"
     ]
    },
    {
     "name": "stderr",
     "output_type": "stream",
     "text": [
      "cable: Normal test verilerini yükleme: 100%|██████████| 58/58 [00:01<00:00, 29.76it/s]\n"
     ]
    },
    {
     "name": "stdout",
     "output_type": "stream",
     "text": [
      "Tespit edilen kusur tipleri: ['bent_wire', 'cable_swap', 'combined', 'cut_inner_insulation', 'cut_outer_insulation', 'missing_cable', 'missing_wire', 'poke_insulation']\n",
      "Kusur dizini: C:\\Users\\Tansu\\OneDrive\\Masaüstü\\mvtec\\cable\\test\\bent_wire\n",
      "Kusur dizinindeki dosya sayısı: 13\n"
     ]
    },
    {
     "name": "stderr",
     "output_type": "stream",
     "text": [
      "cable: bent_wire verilerini yükleme: 100%|██████████| 13/13 [00:00<00:00, 30.29it/s]\n"
     ]
    },
    {
     "name": "stdout",
     "output_type": "stream",
     "text": [
      "Kusur dizini: C:\\Users\\Tansu\\OneDrive\\Masaüstü\\mvtec\\cable\\test\\cable_swap\n",
      "Kusur dizinindeki dosya sayısı: 12\n"
     ]
    },
    {
     "name": "stderr",
     "output_type": "stream",
     "text": [
      "cable: cable_swap verilerini yükleme: 100%|██████████| 12/12 [00:00<00:00, 29.75it/s]\n"
     ]
    },
    {
     "name": "stdout",
     "output_type": "stream",
     "text": [
      "Kusur dizini: C:\\Users\\Tansu\\OneDrive\\Masaüstü\\mvtec\\cable\\test\\combined\n",
      "Kusur dizinindeki dosya sayısı: 11\n"
     ]
    },
    {
     "name": "stderr",
     "output_type": "stream",
     "text": [
      "cable: combined verilerini yükleme: 100%|██████████| 11/11 [00:00<00:00, 28.40it/s]\n"
     ]
    },
    {
     "name": "stdout",
     "output_type": "stream",
     "text": [
      "Kusur dizini: C:\\Users\\Tansu\\OneDrive\\Masaüstü\\mvtec\\cable\\test\\cut_inner_insulation\n",
      "Kusur dizinindeki dosya sayısı: 14\n"
     ]
    },
    {
     "name": "stderr",
     "output_type": "stream",
     "text": [
      "cable: cut_inner_insulation verilerini yükleme: 100%|██████████| 14/14 [00:00<00:00, 26.63it/s]\n"
     ]
    },
    {
     "name": "stdout",
     "output_type": "stream",
     "text": [
      "Kusur dizini: C:\\Users\\Tansu\\OneDrive\\Masaüstü\\mvtec\\cable\\test\\cut_outer_insulation\n",
      "Kusur dizinindeki dosya sayısı: 10\n"
     ]
    },
    {
     "name": "stderr",
     "output_type": "stream",
     "text": [
      "cable: cut_outer_insulation verilerini yükleme: 100%|██████████| 10/10 [00:00<00:00, 28.47it/s]\n"
     ]
    },
    {
     "name": "stdout",
     "output_type": "stream",
     "text": [
      "Kusur dizini: C:\\Users\\Tansu\\OneDrive\\Masaüstü\\mvtec\\cable\\test\\missing_cable\n",
      "Kusur dizinindeki dosya sayısı: 12\n"
     ]
    },
    {
     "name": "stderr",
     "output_type": "stream",
     "text": [
      "cable: missing_cable verilerini yükleme: 100%|██████████| 12/12 [00:00<00:00, 29.66it/s]\n"
     ]
    },
    {
     "name": "stdout",
     "output_type": "stream",
     "text": [
      "Kusur dizini: C:\\Users\\Tansu\\OneDrive\\Masaüstü\\mvtec\\cable\\test\\missing_wire\n",
      "Kusur dizinindeki dosya sayısı: 10\n"
     ]
    },
    {
     "name": "stderr",
     "output_type": "stream",
     "text": [
      "cable: missing_wire verilerini yükleme: 100%|██████████| 10/10 [00:00<00:00, 28.24it/s]\n"
     ]
    },
    {
     "name": "stdout",
     "output_type": "stream",
     "text": [
      "Kusur dizini: C:\\Users\\Tansu\\OneDrive\\Masaüstü\\mvtec\\cable\\test\\poke_insulation\n",
      "Kusur dizinindeki dosya sayısı: 10\n"
     ]
    },
    {
     "name": "stderr",
     "output_type": "stream",
     "text": [
      "cable: poke_insulation verilerini yükleme: 100%|██████████| 10/10 [00:00<00:00, 29.82it/s]\n"
     ]
    },
    {
     "name": "stdout",
     "output_type": "stream",
     "text": [
      "Eğitim veriseti: (224, 128, 128) - Min: 0, Max: 255\n",
      "Test veriseti: (150, 128, 128) - Min: 0, Max: 255\n",
      "Test etiketleri: (150,)\n",
      "Anomali sayısı: 92\n",
      "Normal test örneği sayısı: 58\n",
      "\n",
      "cable (mvtec) için görselleştirmeler oluşturuluyor...\n",
      "Görselleştirme kaydedildi: anomaly_detection_results\\mvtec\\cable\\cable_(mvtec)___Eğitim_Örnekleri.png\n",
      "Kusur tipleri karşılaştırması kaydedildi: anomaly_detection_results\\mvtec\\cable\\cable_mvtec_defect_types_comparison.png\n",
      "Normal vs Anomali karşılaştırması kaydedildi: anomaly_detection_results\\mvtec\\cable\\cable_mvtec_normal_vs_anomaly_samples.png\n"
     ]
    },
    {
     "data": {
      "text/html": [
       "<pre style=\"white-space:pre;overflow-x:auto;line-height:normal;font-family:Menlo,'DejaVu Sans Mono',consolas,'Courier New',monospace\"><span style=\"font-weight: bold\">Model: \"functional_5\"</span>\n",
       "</pre>\n"
      ],
      "text/plain": [
       "\u001b[1mModel: \"functional_5\"\u001b[0m\n"
      ]
     },
     "metadata": {},
     "output_type": "display_data"
    },
    {
     "data": {
      "text/html": [
       "<pre style=\"white-space:pre;overflow-x:auto;line-height:normal;font-family:Menlo,'DejaVu Sans Mono',consolas,'Courier New',monospace\">┏━━━━━━━━━━━━━━━━━━━━━━━━━━━━━━━━━┳━━━━━━━━━━━━━━━━━━━━━━━━┳━━━━━━━━━━━━━━━┓\n",
       "┃<span style=\"font-weight: bold\"> Layer (type)                    </span>┃<span style=\"font-weight: bold\"> Output Shape           </span>┃<span style=\"font-weight: bold\">       Param # </span>┃\n",
       "┡━━━━━━━━━━━━━━━━━━━━━━━━━━━━━━━━━╇━━━━━━━━━━━━━━━━━━━━━━━━╇━━━━━━━━━━━━━━━┩\n",
       "│ input_layer (<span style=\"color: #0087ff; text-decoration-color: #0087ff\">InputLayer</span>)        │ (<span style=\"color: #00d7ff; text-decoration-color: #00d7ff\">None</span>, <span style=\"color: #00af00; text-decoration-color: #00af00\">128</span>, <span style=\"color: #00af00; text-decoration-color: #00af00\">128</span>, <span style=\"color: #00af00; text-decoration-color: #00af00\">1</span>)    │             <span style=\"color: #00af00; text-decoration-color: #00af00\">0</span> │\n",
       "├─────────────────────────────────┼────────────────────────┼───────────────┤\n",
       "│ conv2d_25 (<span style=\"color: #0087ff; text-decoration-color: #0087ff\">Conv2D</span>)              │ (<span style=\"color: #00d7ff; text-decoration-color: #00d7ff\">None</span>, <span style=\"color: #00af00; text-decoration-color: #00af00\">128</span>, <span style=\"color: #00af00; text-decoration-color: #00af00\">128</span>, <span style=\"color: #00af00; text-decoration-color: #00af00\">32</span>)   │           <span style=\"color: #00af00; text-decoration-color: #00af00\">320</span> │\n",
       "├─────────────────────────────────┼────────────────────────┼───────────────┤\n",
       "│ max_pooling2d_10 (<span style=\"color: #0087ff; text-decoration-color: #0087ff\">MaxPooling2D</span>) │ (<span style=\"color: #00d7ff; text-decoration-color: #00d7ff\">None</span>, <span style=\"color: #00af00; text-decoration-color: #00af00\">64</span>, <span style=\"color: #00af00; text-decoration-color: #00af00\">64</span>, <span style=\"color: #00af00; text-decoration-color: #00af00\">32</span>)     │             <span style=\"color: #00af00; text-decoration-color: #00af00\">0</span> │\n",
       "├─────────────────────────────────┼────────────────────────┼───────────────┤\n",
       "│ conv2d_26 (<span style=\"color: #0087ff; text-decoration-color: #0087ff\">Conv2D</span>)              │ (<span style=\"color: #00d7ff; text-decoration-color: #00d7ff\">None</span>, <span style=\"color: #00af00; text-decoration-color: #00af00\">64</span>, <span style=\"color: #00af00; text-decoration-color: #00af00\">64</span>, <span style=\"color: #00af00; text-decoration-color: #00af00\">16</span>)     │         <span style=\"color: #00af00; text-decoration-color: #00af00\">4,624</span> │\n",
       "├─────────────────────────────────┼────────────────────────┼───────────────┤\n",
       "│ max_pooling2d_11 (<span style=\"color: #0087ff; text-decoration-color: #0087ff\">MaxPooling2D</span>) │ (<span style=\"color: #00d7ff; text-decoration-color: #00d7ff\">None</span>, <span style=\"color: #00af00; text-decoration-color: #00af00\">32</span>, <span style=\"color: #00af00; text-decoration-color: #00af00\">32</span>, <span style=\"color: #00af00; text-decoration-color: #00af00\">16</span>)     │             <span style=\"color: #00af00; text-decoration-color: #00af00\">0</span> │\n",
       "├─────────────────────────────────┼────────────────────────┼───────────────┤\n",
       "│ conv2d_27 (<span style=\"color: #0087ff; text-decoration-color: #0087ff\">Conv2D</span>)              │ (<span style=\"color: #00d7ff; text-decoration-color: #00d7ff\">None</span>, <span style=\"color: #00af00; text-decoration-color: #00af00\">32</span>, <span style=\"color: #00af00; text-decoration-color: #00af00\">32</span>, <span style=\"color: #00af00; text-decoration-color: #00af00\">16</span>)     │         <span style=\"color: #00af00; text-decoration-color: #00af00\">2,320</span> │\n",
       "├─────────────────────────────────┼────────────────────────┼───────────────┤\n",
       "│ up_sampling2d_10 (<span style=\"color: #0087ff; text-decoration-color: #0087ff\">UpSampling2D</span>) │ (<span style=\"color: #00d7ff; text-decoration-color: #00d7ff\">None</span>, <span style=\"color: #00af00; text-decoration-color: #00af00\">64</span>, <span style=\"color: #00af00; text-decoration-color: #00af00\">64</span>, <span style=\"color: #00af00; text-decoration-color: #00af00\">16</span>)     │             <span style=\"color: #00af00; text-decoration-color: #00af00\">0</span> │\n",
       "├─────────────────────────────────┼────────────────────────┼───────────────┤\n",
       "│ conv2d_28 (<span style=\"color: #0087ff; text-decoration-color: #0087ff\">Conv2D</span>)              │ (<span style=\"color: #00d7ff; text-decoration-color: #00d7ff\">None</span>, <span style=\"color: #00af00; text-decoration-color: #00af00\">64</span>, <span style=\"color: #00af00; text-decoration-color: #00af00\">64</span>, <span style=\"color: #00af00; text-decoration-color: #00af00\">32</span>)     │         <span style=\"color: #00af00; text-decoration-color: #00af00\">4,640</span> │\n",
       "├─────────────────────────────────┼────────────────────────┼───────────────┤\n",
       "│ up_sampling2d_11 (<span style=\"color: #0087ff; text-decoration-color: #0087ff\">UpSampling2D</span>) │ (<span style=\"color: #00d7ff; text-decoration-color: #00d7ff\">None</span>, <span style=\"color: #00af00; text-decoration-color: #00af00\">128</span>, <span style=\"color: #00af00; text-decoration-color: #00af00\">128</span>, <span style=\"color: #00af00; text-decoration-color: #00af00\">32</span>)   │             <span style=\"color: #00af00; text-decoration-color: #00af00\">0</span> │\n",
       "├─────────────────────────────────┼────────────────────────┼───────────────┤\n",
       "│ conv2d_29 (<span style=\"color: #0087ff; text-decoration-color: #0087ff\">Conv2D</span>)              │ (<span style=\"color: #00d7ff; text-decoration-color: #00d7ff\">None</span>, <span style=\"color: #00af00; text-decoration-color: #00af00\">128</span>, <span style=\"color: #00af00; text-decoration-color: #00af00\">128</span>, <span style=\"color: #00af00; text-decoration-color: #00af00\">1</span>)    │           <span style=\"color: #00af00; text-decoration-color: #00af00\">289</span> │\n",
       "└─────────────────────────────────┴────────────────────────┴───────────────┘\n",
       "</pre>\n"
      ],
      "text/plain": [
       "┏━━━━━━━━━━━━━━━━━━━━━━━━━━━━━━━━━┳━━━━━━━━━━━━━━━━━━━━━━━━┳━━━━━━━━━━━━━━━┓\n",
       "┃\u001b[1m \u001b[0m\u001b[1mLayer (type)                   \u001b[0m\u001b[1m \u001b[0m┃\u001b[1m \u001b[0m\u001b[1mOutput Shape          \u001b[0m\u001b[1m \u001b[0m┃\u001b[1m \u001b[0m\u001b[1m      Param #\u001b[0m\u001b[1m \u001b[0m┃\n",
       "┡━━━━━━━━━━━━━━━━━━━━━━━━━━━━━━━━━╇━━━━━━━━━━━━━━━━━━━━━━━━╇━━━━━━━━━━━━━━━┩\n",
       "│ input_layer (\u001b[38;5;33mInputLayer\u001b[0m)        │ (\u001b[38;5;45mNone\u001b[0m, \u001b[38;5;34m128\u001b[0m, \u001b[38;5;34m128\u001b[0m, \u001b[38;5;34m1\u001b[0m)    │             \u001b[38;5;34m0\u001b[0m │\n",
       "├─────────────────────────────────┼────────────────────────┼───────────────┤\n",
       "│ conv2d_25 (\u001b[38;5;33mConv2D\u001b[0m)              │ (\u001b[38;5;45mNone\u001b[0m, \u001b[38;5;34m128\u001b[0m, \u001b[38;5;34m128\u001b[0m, \u001b[38;5;34m32\u001b[0m)   │           \u001b[38;5;34m320\u001b[0m │\n",
       "├─────────────────────────────────┼────────────────────────┼───────────────┤\n",
       "│ max_pooling2d_10 (\u001b[38;5;33mMaxPooling2D\u001b[0m) │ (\u001b[38;5;45mNone\u001b[0m, \u001b[38;5;34m64\u001b[0m, \u001b[38;5;34m64\u001b[0m, \u001b[38;5;34m32\u001b[0m)     │             \u001b[38;5;34m0\u001b[0m │\n",
       "├─────────────────────────────────┼────────────────────────┼───────────────┤\n",
       "│ conv2d_26 (\u001b[38;5;33mConv2D\u001b[0m)              │ (\u001b[38;5;45mNone\u001b[0m, \u001b[38;5;34m64\u001b[0m, \u001b[38;5;34m64\u001b[0m, \u001b[38;5;34m16\u001b[0m)     │         \u001b[38;5;34m4,624\u001b[0m │\n",
       "├─────────────────────────────────┼────────────────────────┼───────────────┤\n",
       "│ max_pooling2d_11 (\u001b[38;5;33mMaxPooling2D\u001b[0m) │ (\u001b[38;5;45mNone\u001b[0m, \u001b[38;5;34m32\u001b[0m, \u001b[38;5;34m32\u001b[0m, \u001b[38;5;34m16\u001b[0m)     │             \u001b[38;5;34m0\u001b[0m │\n",
       "├─────────────────────────────────┼────────────────────────┼───────────────┤\n",
       "│ conv2d_27 (\u001b[38;5;33mConv2D\u001b[0m)              │ (\u001b[38;5;45mNone\u001b[0m, \u001b[38;5;34m32\u001b[0m, \u001b[38;5;34m32\u001b[0m, \u001b[38;5;34m16\u001b[0m)     │         \u001b[38;5;34m2,320\u001b[0m │\n",
       "├─────────────────────────────────┼────────────────────────┼───────────────┤\n",
       "│ up_sampling2d_10 (\u001b[38;5;33mUpSampling2D\u001b[0m) │ (\u001b[38;5;45mNone\u001b[0m, \u001b[38;5;34m64\u001b[0m, \u001b[38;5;34m64\u001b[0m, \u001b[38;5;34m16\u001b[0m)     │             \u001b[38;5;34m0\u001b[0m │\n",
       "├─────────────────────────────────┼────────────────────────┼───────────────┤\n",
       "│ conv2d_28 (\u001b[38;5;33mConv2D\u001b[0m)              │ (\u001b[38;5;45mNone\u001b[0m, \u001b[38;5;34m64\u001b[0m, \u001b[38;5;34m64\u001b[0m, \u001b[38;5;34m32\u001b[0m)     │         \u001b[38;5;34m4,640\u001b[0m │\n",
       "├─────────────────────────────────┼────────────────────────┼───────────────┤\n",
       "│ up_sampling2d_11 (\u001b[38;5;33mUpSampling2D\u001b[0m) │ (\u001b[38;5;45mNone\u001b[0m, \u001b[38;5;34m128\u001b[0m, \u001b[38;5;34m128\u001b[0m, \u001b[38;5;34m32\u001b[0m)   │             \u001b[38;5;34m0\u001b[0m │\n",
       "├─────────────────────────────────┼────────────────────────┼───────────────┤\n",
       "│ conv2d_29 (\u001b[38;5;33mConv2D\u001b[0m)              │ (\u001b[38;5;45mNone\u001b[0m, \u001b[38;5;34m128\u001b[0m, \u001b[38;5;34m128\u001b[0m, \u001b[38;5;34m1\u001b[0m)    │           \u001b[38;5;34m289\u001b[0m │\n",
       "└─────────────────────────────────┴────────────────────────┴───────────────┘\n"
      ]
     },
     "metadata": {},
     "output_type": "display_data"
    },
    {
     "data": {
      "text/html": [
       "<pre style=\"white-space:pre;overflow-x:auto;line-height:normal;font-family:Menlo,'DejaVu Sans Mono',consolas,'Courier New',monospace\"><span style=\"font-weight: bold\"> Total params: </span><span style=\"color: #00af00; text-decoration-color: #00af00\">12,193</span> (47.63 KB)\n",
       "</pre>\n"
      ],
      "text/plain": [
       "\u001b[1m Total params: \u001b[0m\u001b[38;5;34m12,193\u001b[0m (47.63 KB)\n"
      ]
     },
     "metadata": {},
     "output_type": "display_data"
    },
    {
     "data": {
      "text/html": [
       "<pre style=\"white-space:pre;overflow-x:auto;line-height:normal;font-family:Menlo,'DejaVu Sans Mono',consolas,'Courier New',monospace\"><span style=\"font-weight: bold\"> Trainable params: </span><span style=\"color: #00af00; text-decoration-color: #00af00\">12,193</span> (47.63 KB)\n",
       "</pre>\n"
      ],
      "text/plain": [
       "\u001b[1m Trainable params: \u001b[0m\u001b[38;5;34m12,193\u001b[0m (47.63 KB)\n"
      ]
     },
     "metadata": {},
     "output_type": "display_data"
    },
    {
     "data": {
      "text/html": [
       "<pre style=\"white-space:pre;overflow-x:auto;line-height:normal;font-family:Menlo,'DejaVu Sans Mono',consolas,'Courier New',monospace\"><span style=\"font-weight: bold\"> Non-trainable params: </span><span style=\"color: #00af00; text-decoration-color: #00af00\">0</span> (0.00 B)\n",
       "</pre>\n"
      ],
      "text/plain": [
       "\u001b[1m Non-trainable params: \u001b[0m\u001b[38;5;34m0\u001b[0m (0.00 B)\n"
      ]
     },
     "metadata": {},
     "output_type": "display_data"
    },
    {
     "name": "stdout",
     "output_type": "stream",
     "text": [
      "Epoch 1/20\n",
      "\u001b[1m6/6\u001b[0m \u001b[32m━━━━━━━━━━━━━━━━━━━━\u001b[0m\u001b[37m\u001b[0m \u001b[1m0s\u001b[0m 103ms/step - loss: 0.0464\n",
      "Epoch 1: val_loss improved from inf to 0.04759, saving model to anomaly_detection_results\\mvtec\\cable\\cable_mvtec_best_model.keras\n",
      "\u001b[1m6/6\u001b[0m \u001b[32m━━━━━━━━━━━━━━━━━━━━\u001b[0m\u001b[37m\u001b[0m \u001b[1m2s\u001b[0m 170ms/step - loss: 0.0463 - val_loss: 0.0476\n",
      "Epoch 2/20\n",
      "\u001b[1m6/6\u001b[0m \u001b[32m━━━━━━━━━━━━━━━━━━━━\u001b[0m\u001b[37m\u001b[0m \u001b[1m0s\u001b[0m 113ms/step - loss: 0.0423\n",
      "Epoch 2: val_loss improved from 0.04759 to 0.04423, saving model to anomaly_detection_results\\mvtec\\cable\\cable_mvtec_best_model.keras\n",
      "\u001b[1m6/6\u001b[0m \u001b[32m━━━━━━━━━━━━━━━━━━━━\u001b[0m\u001b[37m\u001b[0m \u001b[1m1s\u001b[0m 140ms/step - loss: 0.0423 - val_loss: 0.0442\n",
      "Epoch 3/20\n",
      "\u001b[1m6/6\u001b[0m \u001b[32m━━━━━━━━━━━━━━━━━━━━\u001b[0m\u001b[37m\u001b[0m \u001b[1m0s\u001b[0m 104ms/step - loss: 0.0392\n",
      "Epoch 3: val_loss improved from 0.04423 to 0.03899, saving model to anomaly_detection_results\\mvtec\\cable\\cable_mvtec_best_model.keras\n",
      "\u001b[1m6/6\u001b[0m \u001b[32m━━━━━━━━━━━━━━━━━━━━\u001b[0m\u001b[37m\u001b[0m \u001b[1m1s\u001b[0m 131ms/step - loss: 0.0390 - val_loss: 0.0390\n",
      "Epoch 4/20\n",
      "\u001b[1m6/6\u001b[0m \u001b[32m━━━━━━━━━━━━━━━━━━━━\u001b[0m\u001b[37m\u001b[0m \u001b[1m0s\u001b[0m 99ms/step - loss: 0.0339 \n",
      "Epoch 4: val_loss improved from 0.03899 to 0.02949, saving model to anomaly_detection_results\\mvtec\\cable\\cable_mvtec_best_model.keras\n",
      "\u001b[1m6/6\u001b[0m \u001b[32m━━━━━━━━━━━━━━━━━━━━\u001b[0m\u001b[37m\u001b[0m \u001b[1m1s\u001b[0m 123ms/step - loss: 0.0337 - val_loss: 0.0295\n",
      "Epoch 5/20\n",
      "\u001b[1m6/6\u001b[0m \u001b[32m━━━━━━━━━━━━━━━━━━━━\u001b[0m\u001b[37m\u001b[0m \u001b[1m0s\u001b[0m 100ms/step - loss: 0.0257\n",
      "Epoch 5: val_loss improved from 0.02949 to 0.01913, saving model to anomaly_detection_results\\mvtec\\cable\\cable_mvtec_best_model.keras\n",
      "\u001b[1m6/6\u001b[0m \u001b[32m━━━━━━━━━━━━━━━━━━━━\u001b[0m\u001b[37m\u001b[0m \u001b[1m1s\u001b[0m 126ms/step - loss: 0.0254 - val_loss: 0.0191\n",
      "Epoch 6/20\n",
      "\u001b[1m6/6\u001b[0m \u001b[32m━━━━━━━━━━━━━━━━━━━━\u001b[0m\u001b[37m\u001b[0m \u001b[1m0s\u001b[0m 115ms/step - loss: 0.0169\n",
      "Epoch 6: val_loss improved from 0.01913 to 0.01035, saving model to anomaly_detection_results\\mvtec\\cable\\cable_mvtec_best_model.keras\n",
      "\u001b[1m6/6\u001b[0m \u001b[32m━━━━━━━━━━━━━━━━━━━━\u001b[0m\u001b[37m\u001b[0m \u001b[1m1s\u001b[0m 149ms/step - loss: 0.0166 - val_loss: 0.0104\n",
      "Epoch 7/20\n",
      "\u001b[1m6/6\u001b[0m \u001b[32m━━━━━━━━━━━━━━━━━━━━\u001b[0m\u001b[37m\u001b[0m \u001b[1m0s\u001b[0m 118ms/step - loss: 0.0096\n",
      "Epoch 7: val_loss did not improve from 0.01035\n",
      "\u001b[1m6/6\u001b[0m \u001b[32m━━━━━━━━━━━━━━━━━━━━\u001b[0m\u001b[37m\u001b[0m \u001b[1m1s\u001b[0m 144ms/step - loss: 0.0095 - val_loss: 0.0123\n",
      "Epoch 8/20\n",
      "\u001b[1m6/6\u001b[0m \u001b[32m━━━━━━━━━━━━━━━━━━━━\u001b[0m\u001b[37m\u001b[0m \u001b[1m0s\u001b[0m 117ms/step - loss: 0.0105\n",
      "Epoch 8: val_loss improved from 0.01035 to 0.00904, saving model to anomaly_detection_results\\mvtec\\cable\\cable_mvtec_best_model.keras\n",
      "\u001b[1m6/6\u001b[0m \u001b[32m━━━━━━━━━━━━━━━━━━━━\u001b[0m\u001b[37m\u001b[0m \u001b[1m1s\u001b[0m 154ms/step - loss: 0.0103 - val_loss: 0.0090\n",
      "Epoch 9/20\n",
      "\u001b[1m6/6\u001b[0m \u001b[32m━━━━━━━━━━━━━━━━━━━━\u001b[0m\u001b[37m\u001b[0m \u001b[1m0s\u001b[0m 116ms/step - loss: 0.0080\n",
      "Epoch 9: val_loss improved from 0.00904 to 0.00812, saving model to anomaly_detection_results\\mvtec\\cable\\cable_mvtec_best_model.keras\n",
      "\u001b[1m6/6\u001b[0m \u001b[32m━━━━━━━━━━━━━━━━━━━━\u001b[0m\u001b[37m\u001b[0m \u001b[1m1s\u001b[0m 150ms/step - loss: 0.0080 - val_loss: 0.0081\n",
      "Epoch 10/20\n",
      "\u001b[1m6/6\u001b[0m \u001b[32m━━━━━━━━━━━━━━━━━━━━\u001b[0m\u001b[37m\u001b[0m \u001b[1m0s\u001b[0m 130ms/step - loss: 0.0073\n",
      "Epoch 10: val_loss improved from 0.00812 to 0.00698, saving model to anomaly_detection_results\\mvtec\\cable\\cable_mvtec_best_model.keras\n",
      "\u001b[1m6/6\u001b[0m \u001b[32m━━━━━━━━━━━━━━━━━━━━\u001b[0m\u001b[37m\u001b[0m \u001b[1m1s\u001b[0m 165ms/step - loss: 0.0072 - val_loss: 0.0070\n",
      "Epoch 11/20\n",
      "\u001b[1m6/6\u001b[0m \u001b[32m━━━━━━━━━━━━━━━━━━━━\u001b[0m\u001b[37m\u001b[0m \u001b[1m0s\u001b[0m 118ms/step - loss: 0.0066\n",
      "Epoch 11: val_loss improved from 0.00698 to 0.00639, saving model to anomaly_detection_results\\mvtec\\cable\\cable_mvtec_best_model.keras\n",
      "\u001b[1m6/6\u001b[0m \u001b[32m━━━━━━━━━━━━━━━━━━━━\u001b[0m\u001b[37m\u001b[0m \u001b[1m1s\u001b[0m 150ms/step - loss: 0.0065 - val_loss: 0.0064\n",
      "Epoch 12/20\n",
      "\u001b[1m6/6\u001b[0m \u001b[32m━━━━━━━━━━━━━━━━━━━━\u001b[0m\u001b[37m\u001b[0m \u001b[1m0s\u001b[0m 115ms/step - loss: 0.0063\n",
      "Epoch 12: val_loss improved from 0.00639 to 0.00619, saving model to anomaly_detection_results\\mvtec\\cable\\cable_mvtec_best_model.keras\n",
      "\u001b[1m6/6\u001b[0m \u001b[32m━━━━━━━━━━━━━━━━━━━━\u001b[0m\u001b[37m\u001b[0m \u001b[1m1s\u001b[0m 154ms/step - loss: 0.0063 - val_loss: 0.0062\n",
      "Epoch 13/20\n",
      "\u001b[1m6/6\u001b[0m \u001b[32m━━━━━━━━━━━━━━━━━━━━\u001b[0m\u001b[37m\u001b[0m \u001b[1m0s\u001b[0m 124ms/step - loss: 0.0060\n",
      "Epoch 13: val_loss improved from 0.00619 to 0.00606, saving model to anomaly_detection_results\\mvtec\\cable\\cable_mvtec_best_model.keras\n",
      "\u001b[1m6/6\u001b[0m \u001b[32m━━━━━━━━━━━━━━━━━━━━\u001b[0m\u001b[37m\u001b[0m \u001b[1m1s\u001b[0m 159ms/step - loss: 0.0060 - val_loss: 0.0061\n",
      "Epoch 14/20\n",
      "\u001b[1m6/6\u001b[0m \u001b[32m━━━━━━━━━━━━━━━━━━━━\u001b[0m\u001b[37m\u001b[0m \u001b[1m0s\u001b[0m 111ms/step - loss: 0.0057\n",
      "Epoch 14: val_loss improved from 0.00606 to 0.00599, saving model to anomaly_detection_results\\mvtec\\cable\\cable_mvtec_best_model.keras\n",
      "\u001b[1m6/6\u001b[0m \u001b[32m━━━━━━━━━━━━━━━━━━━━\u001b[0m\u001b[37m\u001b[0m \u001b[1m1s\u001b[0m 141ms/step - loss: 0.0057 - val_loss: 0.0060\n",
      "Epoch 15/20\n",
      "\u001b[1m6/6\u001b[0m \u001b[32m━━━━━━━━━━━━━━━━━━━━\u001b[0m\u001b[37m\u001b[0m \u001b[1m0s\u001b[0m 113ms/step - loss: 0.0056\n",
      "Epoch 15: val_loss improved from 0.00599 to 0.00577, saving model to anomaly_detection_results\\mvtec\\cable\\cable_mvtec_best_model.keras\n",
      "\u001b[1m6/6\u001b[0m \u001b[32m━━━━━━━━━━━━━━━━━━━━\u001b[0m\u001b[37m\u001b[0m \u001b[1m1s\u001b[0m 144ms/step - loss: 0.0056 - val_loss: 0.0058\n",
      "Epoch 16/20\n",
      "\u001b[1m6/6\u001b[0m \u001b[32m━━━━━━━━━━━━━━━━━━━━\u001b[0m\u001b[37m\u001b[0m \u001b[1m0s\u001b[0m 115ms/step - loss: 0.0055\n",
      "Epoch 16: val_loss improved from 0.00577 to 0.00564, saving model to anomaly_detection_results\\mvtec\\cable\\cable_mvtec_best_model.keras\n",
      "\u001b[1m6/6\u001b[0m \u001b[32m━━━━━━━━━━━━━━━━━━━━\u001b[0m\u001b[37m\u001b[0m \u001b[1m1s\u001b[0m 145ms/step - loss: 0.0055 - val_loss: 0.0056\n",
      "Epoch 17/20\n",
      "\u001b[1m6/6\u001b[0m \u001b[32m━━━━━━━━━━━━━━━━━━━━\u001b[0m\u001b[37m\u001b[0m \u001b[1m0s\u001b[0m 121ms/step - loss: 0.0054\n",
      "Epoch 17: val_loss improved from 0.00564 to 0.00551, saving model to anomaly_detection_results\\mvtec\\cable\\cable_mvtec_best_model.keras\n",
      "\u001b[1m6/6\u001b[0m \u001b[32m━━━━━━━━━━━━━━━━━━━━\u001b[0m\u001b[37m\u001b[0m \u001b[1m1s\u001b[0m 155ms/step - loss: 0.0054 - val_loss: 0.0055\n",
      "Epoch 18/20\n",
      "\u001b[1m6/6\u001b[0m \u001b[32m━━━━━━━━━━━━━━━━━━━━\u001b[0m\u001b[37m\u001b[0m \u001b[1m0s\u001b[0m 117ms/step - loss: 0.0052\n",
      "Epoch 18: val_loss improved from 0.00551 to 0.00541, saving model to anomaly_detection_results\\mvtec\\cable\\cable_mvtec_best_model.keras\n",
      "\u001b[1m6/6\u001b[0m \u001b[32m━━━━━━━━━━━━━━━━━━━━\u001b[0m\u001b[37m\u001b[0m \u001b[1m1s\u001b[0m 148ms/step - loss: 0.0052 - val_loss: 0.0054\n",
      "Epoch 19/20\n",
      "\u001b[1m6/6\u001b[0m \u001b[32m━━━━━━━━━━━━━━━━━━━━\u001b[0m\u001b[37m\u001b[0m \u001b[1m0s\u001b[0m 114ms/step - loss: 0.0051\n",
      "Epoch 19: val_loss improved from 0.00541 to 0.00531, saving model to anomaly_detection_results\\mvtec\\cable\\cable_mvtec_best_model.keras\n",
      "\u001b[1m6/6\u001b[0m \u001b[32m━━━━━━━━━━━━━━━━━━━━\u001b[0m\u001b[37m\u001b[0m \u001b[1m1s\u001b[0m 149ms/step - loss: 0.0051 - val_loss: 0.0053\n",
      "Epoch 20/20\n",
      "\u001b[1m6/6\u001b[0m \u001b[32m━━━━━━━━━━━━━━━━━━━━\u001b[0m\u001b[37m\u001b[0m \u001b[1m0s\u001b[0m 117ms/step - loss: 0.0050\n",
      "Epoch 20: val_loss improved from 0.00531 to 0.00520, saving model to anomaly_detection_results\\mvtec\\cable\\cable_mvtec_best_model.keras\n",
      "\u001b[1m6/6\u001b[0m \u001b[32m━━━━━━━━━━━━━━━━━━━━\u001b[0m\u001b[37m\u001b[0m \u001b[1m1s\u001b[0m 148ms/step - loss: 0.0050 - val_loss: 0.0052\n",
      "Eğitim tamamlandı. Süre: 18.67 saniye\n",
      "En iyi model yüklendi: anomaly_detection_results\\mvtec\\cable\\cable_mvtec_best_model.keras\n",
      "Eğitim geçmişi grafiği kaydedildi: anomaly_detection_results\\mvtec\\cable\\cable_mvtec_training_history.png\n",
      "Rekonstrüksiyon başlatılıyor...\n",
      "\u001b[1m5/5\u001b[0m \u001b[32m━━━━━━━━━━━━━━━━━━━━\u001b[0m\u001b[37m\u001b[0m \u001b[1m0s\u001b[0m 73ms/step\n",
      "Anomali eşik değeri (95. yüzdelik): 0.006480\n",
      "Doğruluk (Accuracy): 0.4133\n",
      "Hassasiyet (Precision): 0.7500\n",
      "Duyarlılık (Recall): 0.0652\n",
      "F1 Skoru: 0.1200\n",
      "ROC AUC: 0.5455\n",
      "\n",
      "cable (mvtec) için analiz sonuçları görselleştiriliyor...\n",
      "Rekonstrüksiyon sonuçları kaydedildi: anomaly_detection_results\\mvtec\\cable\\cable_mvtec_reconstruction_results.png\n",
      "Normal örnekler MSE - Min: 0.003290, Max: 0.006636, Ortalama: 0.004653\n",
      "Anomali örnekler MSE - Min: 0.003056, Max: 0.007594, Ortalama: 0.004834\n",
      "MSE karşılaştırma histogramı kaydedildi: anomaly_detection_results\\mvtec\\cable\\cable_mvtec_mse_comparison_histogram.png\n",
      "ROC eğrisi kaydedildi: anomaly_detection_results\\mvtec\\cable\\cable_mvtec_roc_curve.png\n",
      "Karışıklık matrisi kaydedildi: anomaly_detection_results\\mvtec\\cable\\cable_mvtec_confusion_matrix.png\n",
      "missing_wire kusur tipi detaylı analizi kaydedildi: anomaly_detection_results\\mvtec\\cable\\cable_mvtec_missing_wire_detailed_analysis.png\n",
      "combined kusur tipi detaylı analizi kaydedildi: anomaly_detection_results\\mvtec\\cable\\cable_mvtec_combined_detailed_analysis.png\n",
      "cut_outer_insulation kusur tipi detaylı analizi kaydedildi: anomaly_detection_results\\mvtec\\cable\\cable_mvtec_cut_outer_insulation_detailed_analysis.png\n",
      "poke_insulation kusur tipi detaylı analizi kaydedildi: anomaly_detection_results\\mvtec\\cable\\cable_mvtec_poke_insulation_detailed_analysis.png\n",
      "cut_inner_insulation kusur tipi detaylı analizi kaydedildi: anomaly_detection_results\\mvtec\\cable\\cable_mvtec_cut_inner_insulation_detailed_analysis.png\n",
      "cable_swap kusur tipi detaylı analizi kaydedildi: anomaly_detection_results\\mvtec\\cable\\cable_mvtec_cable_swap_detailed_analysis.png\n",
      "bent_wire kusur tipi detaylı analizi kaydedildi: anomaly_detection_results\\mvtec\\cable\\cable_mvtec_bent_wire_detailed_analysis.png\n",
      "missing_cable kusur tipi detaylı analizi kaydedildi: anomaly_detection_results\\mvtec\\cable\\cable_mvtec_missing_cable_detailed_analysis.png\n",
      "Kusur tipi metrikleri kaydedildi: anomaly_detection_results\\mvtec\\cable\\cable_mvtec_defect_type_metrics.png\n",
      "Kusur tipine göre MSE dağılımı kaydedildi: anomaly_detection_results\\mvtec\\cable\\cable_mvtec_defect_type_mse_distribution.png\n",
      "Sonuçlar başarıyla kaydedildi: anomaly_detection_results\\mvtec\\cable\n",
      "MVTec: cable kategorisi başarıyla işlendi.\n",
      "\n",
      "==================================================\n",
      "İşleniyor: capsule (MVTEC veri seti)\n",
      "==================================================\n",
      "Eğitim dizini: C:\\Users\\Tansu\\OneDrive\\Masaüstü\\mvtec\\capsule\\train\n",
      "Test dizini: C:\\Users\\Tansu\\OneDrive\\Masaüstü\\mvtec\\capsule\\test\n",
      "Eğitim 'good' dizini: C:\\Users\\Tansu\\OneDrive\\Masaüstü\\mvtec\\capsule\\train\\good\n",
      "Eğitim 'good' dizinindeki dosya sayısı: 219\n"
     ]
    },
    {
     "name": "stderr",
     "output_type": "stream",
     "text": [
      "capsule: Eğitim verilerini yükleme: 100%|██████████| 219/219 [00:09<00:00, 23.69it/s]\n"
     ]
    },
    {
     "name": "stdout",
     "output_type": "stream",
     "text": [
      "Test 'good' dizini: C:\\Users\\Tansu\\OneDrive\\Masaüstü\\mvtec\\capsule\\test\\good\n",
      "Test 'good' dizinindeki dosya sayısı: 23\n"
     ]
    },
    {
     "name": "stderr",
     "output_type": "stream",
     "text": [
      "capsule: Normal test verilerini yükleme: 100%|██████████| 23/23 [00:00<00:00, 29.07it/s]\n"
     ]
    },
    {
     "name": "stdout",
     "output_type": "stream",
     "text": [
      "Tespit edilen kusur tipleri: ['crack', 'faulty_imprint', 'poke', 'scratch', 'squeeze']\n",
      "Kusur dizini: C:\\Users\\Tansu\\OneDrive\\Masaüstü\\mvtec\\capsule\\test\\crack\n",
      "Kusur dizinindeki dosya sayısı: 23\n"
     ]
    },
    {
     "name": "stderr",
     "output_type": "stream",
     "text": [
      "capsule: crack verilerini yükleme: 100%|██████████| 23/23 [00:00<00:00, 25.30it/s]\n"
     ]
    },
    {
     "name": "stdout",
     "output_type": "stream",
     "text": [
      "Kusur dizini: C:\\Users\\Tansu\\OneDrive\\Masaüstü\\mvtec\\capsule\\test\\faulty_imprint\n",
      "Kusur dizinindeki dosya sayısı: 22\n"
     ]
    },
    {
     "name": "stderr",
     "output_type": "stream",
     "text": [
      "capsule: faulty_imprint verilerini yükleme: 100%|██████████| 22/22 [00:01<00:00, 21.68it/s]\n"
     ]
    },
    {
     "name": "stdout",
     "output_type": "stream",
     "text": [
      "Kusur dizini: C:\\Users\\Tansu\\OneDrive\\Masaüstü\\mvtec\\capsule\\test\\poke\n",
      "Kusur dizinindeki dosya sayısı: 21\n"
     ]
    },
    {
     "name": "stderr",
     "output_type": "stream",
     "text": [
      "capsule: poke verilerini yükleme: 100%|██████████| 21/21 [00:00<00:00, 24.90it/s]\n"
     ]
    },
    {
     "name": "stdout",
     "output_type": "stream",
     "text": [
      "Kusur dizini: C:\\Users\\Tansu\\OneDrive\\Masaüstü\\mvtec\\capsule\\test\\scratch\n",
      "Kusur dizinindeki dosya sayısı: 23\n"
     ]
    },
    {
     "name": "stderr",
     "output_type": "stream",
     "text": [
      "capsule: scratch verilerini yükleme: 100%|██████████| 23/23 [00:00<00:00, 27.86it/s]\n"
     ]
    },
    {
     "name": "stdout",
     "output_type": "stream",
     "text": [
      "Kusur dizini: C:\\Users\\Tansu\\OneDrive\\Masaüstü\\mvtec\\capsule\\test\\squeeze\n",
      "Kusur dizinindeki dosya sayısı: 20\n"
     ]
    },
    {
     "name": "stderr",
     "output_type": "stream",
     "text": [
      "capsule: squeeze verilerini yükleme: 100%|██████████| 20/20 [00:00<00:00, 26.64it/s]\n"
     ]
    },
    {
     "name": "stdout",
     "output_type": "stream",
     "text": [
      "Eğitim veriseti: (219, 128, 128) - Min: 13, Max: 252\n",
      "Test veriseti: (132, 128, 128) - Min: 13, Max: 255\n",
      "Test etiketleri: (132,)\n",
      "Anomali sayısı: 109\n",
      "Normal test örneği sayısı: 23\n",
      "\n",
      "capsule (mvtec) için görselleştirmeler oluşturuluyor...\n",
      "Görselleştirme kaydedildi: anomaly_detection_results\\mvtec\\capsule\\capsule_(mvtec)___Eğitim_Örnekleri.png\n",
      "Kusur tipleri karşılaştırması kaydedildi: anomaly_detection_results\\mvtec\\capsule\\capsule_mvtec_defect_types_comparison.png\n",
      "Normal vs Anomali karşılaştırması kaydedildi: anomaly_detection_results\\mvtec\\capsule\\capsule_mvtec_normal_vs_anomaly_samples.png\n"
     ]
    },
    {
     "data": {
      "text/html": [
       "<pre style=\"white-space:pre;overflow-x:auto;line-height:normal;font-family:Menlo,'DejaVu Sans Mono',consolas,'Courier New',monospace\"><span style=\"font-weight: bold\">Model: \"functional_6\"</span>\n",
       "</pre>\n"
      ],
      "text/plain": [
       "\u001b[1mModel: \"functional_6\"\u001b[0m\n"
      ]
     },
     "metadata": {},
     "output_type": "display_data"
    },
    {
     "data": {
      "text/html": [
       "<pre style=\"white-space:pre;overflow-x:auto;line-height:normal;font-family:Menlo,'DejaVu Sans Mono',consolas,'Courier New',monospace\">┏━━━━━━━━━━━━━━━━━━━━━━━━━━━━━━━━━┳━━━━━━━━━━━━━━━━━━━━━━━━┳━━━━━━━━━━━━━━━┓\n",
       "┃<span style=\"font-weight: bold\"> Layer (type)                    </span>┃<span style=\"font-weight: bold\"> Output Shape           </span>┃<span style=\"font-weight: bold\">       Param # </span>┃\n",
       "┡━━━━━━━━━━━━━━━━━━━━━━━━━━━━━━━━━╇━━━━━━━━━━━━━━━━━━━━━━━━╇━━━━━━━━━━━━━━━┩\n",
       "│ input_layer (<span style=\"color: #0087ff; text-decoration-color: #0087ff\">InputLayer</span>)        │ (<span style=\"color: #00d7ff; text-decoration-color: #00d7ff\">None</span>, <span style=\"color: #00af00; text-decoration-color: #00af00\">128</span>, <span style=\"color: #00af00; text-decoration-color: #00af00\">128</span>, <span style=\"color: #00af00; text-decoration-color: #00af00\">1</span>)    │             <span style=\"color: #00af00; text-decoration-color: #00af00\">0</span> │\n",
       "├─────────────────────────────────┼────────────────────────┼───────────────┤\n",
       "│ conv2d_30 (<span style=\"color: #0087ff; text-decoration-color: #0087ff\">Conv2D</span>)              │ (<span style=\"color: #00d7ff; text-decoration-color: #00d7ff\">None</span>, <span style=\"color: #00af00; text-decoration-color: #00af00\">128</span>, <span style=\"color: #00af00; text-decoration-color: #00af00\">128</span>, <span style=\"color: #00af00; text-decoration-color: #00af00\">32</span>)   │           <span style=\"color: #00af00; text-decoration-color: #00af00\">320</span> │\n",
       "├─────────────────────────────────┼────────────────────────┼───────────────┤\n",
       "│ max_pooling2d_12 (<span style=\"color: #0087ff; text-decoration-color: #0087ff\">MaxPooling2D</span>) │ (<span style=\"color: #00d7ff; text-decoration-color: #00d7ff\">None</span>, <span style=\"color: #00af00; text-decoration-color: #00af00\">64</span>, <span style=\"color: #00af00; text-decoration-color: #00af00\">64</span>, <span style=\"color: #00af00; text-decoration-color: #00af00\">32</span>)     │             <span style=\"color: #00af00; text-decoration-color: #00af00\">0</span> │\n",
       "├─────────────────────────────────┼────────────────────────┼───────────────┤\n",
       "│ conv2d_31 (<span style=\"color: #0087ff; text-decoration-color: #0087ff\">Conv2D</span>)              │ (<span style=\"color: #00d7ff; text-decoration-color: #00d7ff\">None</span>, <span style=\"color: #00af00; text-decoration-color: #00af00\">64</span>, <span style=\"color: #00af00; text-decoration-color: #00af00\">64</span>, <span style=\"color: #00af00; text-decoration-color: #00af00\">16</span>)     │         <span style=\"color: #00af00; text-decoration-color: #00af00\">4,624</span> │\n",
       "├─────────────────────────────────┼────────────────────────┼───────────────┤\n",
       "│ max_pooling2d_13 (<span style=\"color: #0087ff; text-decoration-color: #0087ff\">MaxPooling2D</span>) │ (<span style=\"color: #00d7ff; text-decoration-color: #00d7ff\">None</span>, <span style=\"color: #00af00; text-decoration-color: #00af00\">32</span>, <span style=\"color: #00af00; text-decoration-color: #00af00\">32</span>, <span style=\"color: #00af00; text-decoration-color: #00af00\">16</span>)     │             <span style=\"color: #00af00; text-decoration-color: #00af00\">0</span> │\n",
       "├─────────────────────────────────┼────────────────────────┼───────────────┤\n",
       "│ conv2d_32 (<span style=\"color: #0087ff; text-decoration-color: #0087ff\">Conv2D</span>)              │ (<span style=\"color: #00d7ff; text-decoration-color: #00d7ff\">None</span>, <span style=\"color: #00af00; text-decoration-color: #00af00\">32</span>, <span style=\"color: #00af00; text-decoration-color: #00af00\">32</span>, <span style=\"color: #00af00; text-decoration-color: #00af00\">16</span>)     │         <span style=\"color: #00af00; text-decoration-color: #00af00\">2,320</span> │\n",
       "├─────────────────────────────────┼────────────────────────┼───────────────┤\n",
       "│ up_sampling2d_12 (<span style=\"color: #0087ff; text-decoration-color: #0087ff\">UpSampling2D</span>) │ (<span style=\"color: #00d7ff; text-decoration-color: #00d7ff\">None</span>, <span style=\"color: #00af00; text-decoration-color: #00af00\">64</span>, <span style=\"color: #00af00; text-decoration-color: #00af00\">64</span>, <span style=\"color: #00af00; text-decoration-color: #00af00\">16</span>)     │             <span style=\"color: #00af00; text-decoration-color: #00af00\">0</span> │\n",
       "├─────────────────────────────────┼────────────────────────┼───────────────┤\n",
       "│ conv2d_33 (<span style=\"color: #0087ff; text-decoration-color: #0087ff\">Conv2D</span>)              │ (<span style=\"color: #00d7ff; text-decoration-color: #00d7ff\">None</span>, <span style=\"color: #00af00; text-decoration-color: #00af00\">64</span>, <span style=\"color: #00af00; text-decoration-color: #00af00\">64</span>, <span style=\"color: #00af00; text-decoration-color: #00af00\">32</span>)     │         <span style=\"color: #00af00; text-decoration-color: #00af00\">4,640</span> │\n",
       "├─────────────────────────────────┼────────────────────────┼───────────────┤\n",
       "│ up_sampling2d_13 (<span style=\"color: #0087ff; text-decoration-color: #0087ff\">UpSampling2D</span>) │ (<span style=\"color: #00d7ff; text-decoration-color: #00d7ff\">None</span>, <span style=\"color: #00af00; text-decoration-color: #00af00\">128</span>, <span style=\"color: #00af00; text-decoration-color: #00af00\">128</span>, <span style=\"color: #00af00; text-decoration-color: #00af00\">32</span>)   │             <span style=\"color: #00af00; text-decoration-color: #00af00\">0</span> │\n",
       "├─────────────────────────────────┼────────────────────────┼───────────────┤\n",
       "│ conv2d_34 (<span style=\"color: #0087ff; text-decoration-color: #0087ff\">Conv2D</span>)              │ (<span style=\"color: #00d7ff; text-decoration-color: #00d7ff\">None</span>, <span style=\"color: #00af00; text-decoration-color: #00af00\">128</span>, <span style=\"color: #00af00; text-decoration-color: #00af00\">128</span>, <span style=\"color: #00af00; text-decoration-color: #00af00\">1</span>)    │           <span style=\"color: #00af00; text-decoration-color: #00af00\">289</span> │\n",
       "└─────────────────────────────────┴────────────────────────┴───────────────┘\n",
       "</pre>\n"
      ],
      "text/plain": [
       "┏━━━━━━━━━━━━━━━━━━━━━━━━━━━━━━━━━┳━━━━━━━━━━━━━━━━━━━━━━━━┳━━━━━━━━━━━━━━━┓\n",
       "┃\u001b[1m \u001b[0m\u001b[1mLayer (type)                   \u001b[0m\u001b[1m \u001b[0m┃\u001b[1m \u001b[0m\u001b[1mOutput Shape          \u001b[0m\u001b[1m \u001b[0m┃\u001b[1m \u001b[0m\u001b[1m      Param #\u001b[0m\u001b[1m \u001b[0m┃\n",
       "┡━━━━━━━━━━━━━━━━━━━━━━━━━━━━━━━━━╇━━━━━━━━━━━━━━━━━━━━━━━━╇━━━━━━━━━━━━━━━┩\n",
       "│ input_layer (\u001b[38;5;33mInputLayer\u001b[0m)        │ (\u001b[38;5;45mNone\u001b[0m, \u001b[38;5;34m128\u001b[0m, \u001b[38;5;34m128\u001b[0m, \u001b[38;5;34m1\u001b[0m)    │             \u001b[38;5;34m0\u001b[0m │\n",
       "├─────────────────────────────────┼────────────────────────┼───────────────┤\n",
       "│ conv2d_30 (\u001b[38;5;33mConv2D\u001b[0m)              │ (\u001b[38;5;45mNone\u001b[0m, \u001b[38;5;34m128\u001b[0m, \u001b[38;5;34m128\u001b[0m, \u001b[38;5;34m32\u001b[0m)   │           \u001b[38;5;34m320\u001b[0m │\n",
       "├─────────────────────────────────┼────────────────────────┼───────────────┤\n",
       "│ max_pooling2d_12 (\u001b[38;5;33mMaxPooling2D\u001b[0m) │ (\u001b[38;5;45mNone\u001b[0m, \u001b[38;5;34m64\u001b[0m, \u001b[38;5;34m64\u001b[0m, \u001b[38;5;34m32\u001b[0m)     │             \u001b[38;5;34m0\u001b[0m │\n",
       "├─────────────────────────────────┼────────────────────────┼───────────────┤\n",
       "│ conv2d_31 (\u001b[38;5;33mConv2D\u001b[0m)              │ (\u001b[38;5;45mNone\u001b[0m, \u001b[38;5;34m64\u001b[0m, \u001b[38;5;34m64\u001b[0m, \u001b[38;5;34m16\u001b[0m)     │         \u001b[38;5;34m4,624\u001b[0m │\n",
       "├─────────────────────────────────┼────────────────────────┼───────────────┤\n",
       "│ max_pooling2d_13 (\u001b[38;5;33mMaxPooling2D\u001b[0m) │ (\u001b[38;5;45mNone\u001b[0m, \u001b[38;5;34m32\u001b[0m, \u001b[38;5;34m32\u001b[0m, \u001b[38;5;34m16\u001b[0m)     │             \u001b[38;5;34m0\u001b[0m │\n",
       "├─────────────────────────────────┼────────────────────────┼───────────────┤\n",
       "│ conv2d_32 (\u001b[38;5;33mConv2D\u001b[0m)              │ (\u001b[38;5;45mNone\u001b[0m, \u001b[38;5;34m32\u001b[0m, \u001b[38;5;34m32\u001b[0m, \u001b[38;5;34m16\u001b[0m)     │         \u001b[38;5;34m2,320\u001b[0m │\n",
       "├─────────────────────────────────┼────────────────────────┼───────────────┤\n",
       "│ up_sampling2d_12 (\u001b[38;5;33mUpSampling2D\u001b[0m) │ (\u001b[38;5;45mNone\u001b[0m, \u001b[38;5;34m64\u001b[0m, \u001b[38;5;34m64\u001b[0m, \u001b[38;5;34m16\u001b[0m)     │             \u001b[38;5;34m0\u001b[0m │\n",
       "├─────────────────────────────────┼────────────────────────┼───────────────┤\n",
       "│ conv2d_33 (\u001b[38;5;33mConv2D\u001b[0m)              │ (\u001b[38;5;45mNone\u001b[0m, \u001b[38;5;34m64\u001b[0m, \u001b[38;5;34m64\u001b[0m, \u001b[38;5;34m32\u001b[0m)     │         \u001b[38;5;34m4,640\u001b[0m │\n",
       "├─────────────────────────────────┼────────────────────────┼───────────────┤\n",
       "│ up_sampling2d_13 (\u001b[38;5;33mUpSampling2D\u001b[0m) │ (\u001b[38;5;45mNone\u001b[0m, \u001b[38;5;34m128\u001b[0m, \u001b[38;5;34m128\u001b[0m, \u001b[38;5;34m32\u001b[0m)   │             \u001b[38;5;34m0\u001b[0m │\n",
       "├─────────────────────────────────┼────────────────────────┼───────────────┤\n",
       "│ conv2d_34 (\u001b[38;5;33mConv2D\u001b[0m)              │ (\u001b[38;5;45mNone\u001b[0m, \u001b[38;5;34m128\u001b[0m, \u001b[38;5;34m128\u001b[0m, \u001b[38;5;34m1\u001b[0m)    │           \u001b[38;5;34m289\u001b[0m │\n",
       "└─────────────────────────────────┴────────────────────────┴───────────────┘\n"
      ]
     },
     "metadata": {},
     "output_type": "display_data"
    },
    {
     "data": {
      "text/html": [
       "<pre style=\"white-space:pre;overflow-x:auto;line-height:normal;font-family:Menlo,'DejaVu Sans Mono',consolas,'Courier New',monospace\"><span style=\"font-weight: bold\"> Total params: </span><span style=\"color: #00af00; text-decoration-color: #00af00\">12,193</span> (47.63 KB)\n",
       "</pre>\n"
      ],
      "text/plain": [
       "\u001b[1m Total params: \u001b[0m\u001b[38;5;34m12,193\u001b[0m (47.63 KB)\n"
      ]
     },
     "metadata": {},
     "output_type": "display_data"
    },
    {
     "data": {
      "text/html": [
       "<pre style=\"white-space:pre;overflow-x:auto;line-height:normal;font-family:Menlo,'DejaVu Sans Mono',consolas,'Courier New',monospace\"><span style=\"font-weight: bold\"> Trainable params: </span><span style=\"color: #00af00; text-decoration-color: #00af00\">12,193</span> (47.63 KB)\n",
       "</pre>\n"
      ],
      "text/plain": [
       "\u001b[1m Trainable params: \u001b[0m\u001b[38;5;34m12,193\u001b[0m (47.63 KB)\n"
      ]
     },
     "metadata": {},
     "output_type": "display_data"
    },
    {
     "data": {
      "text/html": [
       "<pre style=\"white-space:pre;overflow-x:auto;line-height:normal;font-family:Menlo,'DejaVu Sans Mono',consolas,'Courier New',monospace\"><span style=\"font-weight: bold\"> Non-trainable params: </span><span style=\"color: #00af00; text-decoration-color: #00af00\">0</span> (0.00 B)\n",
       "</pre>\n"
      ],
      "text/plain": [
       "\u001b[1m Non-trainable params: \u001b[0m\u001b[38;5;34m0\u001b[0m (0.00 B)\n"
      ]
     },
     "metadata": {},
     "output_type": "display_data"
    },
    {
     "name": "stdout",
     "output_type": "stream",
     "text": [
      "Epoch 1/20\n",
      "\u001b[1m6/6\u001b[0m \u001b[32m━━━━━━━━━━━━━━━━━━━━\u001b[0m\u001b[37m\u001b[0m \u001b[1m0s\u001b[0m 102ms/step - loss: 0.0848\n",
      "Epoch 1: val_loss improved from inf to 0.04829, saving model to anomaly_detection_results\\mvtec\\capsule\\capsule_mvtec_best_model.keras\n",
      "\u001b[1m6/6\u001b[0m \u001b[32m━━━━━━━━━━━━━━━━━━━━\u001b[0m\u001b[37m\u001b[0m \u001b[1m2s\u001b[0m 168ms/step - loss: 0.0836 - val_loss: 0.0483\n",
      "Epoch 2/20\n",
      "\u001b[1m6/6\u001b[0m \u001b[32m━━━━━━━━━━━━━━━━━━━━\u001b[0m\u001b[37m\u001b[0m \u001b[1m0s\u001b[0m 98ms/step - loss: 0.0458 \n",
      "Epoch 2: val_loss improved from 0.04829 to 0.04755, saving model to anomaly_detection_results\\mvtec\\capsule\\capsule_mvtec_best_model.keras\n",
      "\u001b[1m6/6\u001b[0m \u001b[32m━━━━━━━━━━━━━━━━━━━━\u001b[0m\u001b[37m\u001b[0m \u001b[1m1s\u001b[0m 126ms/step - loss: 0.0457 - val_loss: 0.0476\n",
      "Epoch 3/20\n",
      "\u001b[1m6/6\u001b[0m \u001b[32m━━━━━━━━━━━━━━━━━━━━\u001b[0m\u001b[37m\u001b[0m \u001b[1m0s\u001b[0m 108ms/step - loss: 0.0443\n",
      "Epoch 3: val_loss improved from 0.04755 to 0.03957, saving model to anomaly_detection_results\\mvtec\\capsule\\capsule_mvtec_best_model.keras\n",
      "\u001b[1m6/6\u001b[0m \u001b[32m━━━━━━━━━━━━━━━━━━━━\u001b[0m\u001b[37m\u001b[0m \u001b[1m1s\u001b[0m 141ms/step - loss: 0.0440 - val_loss: 0.0396\n",
      "Epoch 4/20\n",
      "\u001b[1m6/6\u001b[0m \u001b[32m━━━━━━━━━━━━━━━━━━━━\u001b[0m\u001b[37m\u001b[0m \u001b[1m0s\u001b[0m 113ms/step - loss: 0.0395\n",
      "Epoch 4: val_loss improved from 0.03957 to 0.03600, saving model to anomaly_detection_results\\mvtec\\capsule\\capsule_mvtec_best_model.keras\n",
      "\u001b[1m6/6\u001b[0m \u001b[32m━━━━━━━━━━━━━━━━━━━━\u001b[0m\u001b[37m\u001b[0m \u001b[1m1s\u001b[0m 148ms/step - loss: 0.0395 - val_loss: 0.0360\n",
      "Epoch 5/20\n",
      "\u001b[1m6/6\u001b[0m \u001b[32m━━━━━━━━━━━━━━━━━━━━\u001b[0m\u001b[37m\u001b[0m \u001b[1m0s\u001b[0m 126ms/step - loss: 0.0350\n",
      "Epoch 5: val_loss improved from 0.03600 to 0.03180, saving model to anomaly_detection_results\\mvtec\\capsule\\capsule_mvtec_best_model.keras\n",
      "\u001b[1m6/6\u001b[0m \u001b[32m━━━━━━━━━━━━━━━━━━━━\u001b[0m\u001b[37m\u001b[0m \u001b[1m1s\u001b[0m 159ms/step - loss: 0.0349 - val_loss: 0.0318\n",
      "Epoch 6/20\n",
      "\u001b[1m6/6\u001b[0m \u001b[32m━━━━━━━━━━━━━━━━━━━━\u001b[0m\u001b[37m\u001b[0m \u001b[1m0s\u001b[0m 117ms/step - loss: 0.0302\n",
      "Epoch 6: val_loss improved from 0.03180 to 0.02588, saving model to anomaly_detection_results\\mvtec\\capsule\\capsule_mvtec_best_model.keras\n",
      "\u001b[1m6/6\u001b[0m \u001b[32m━━━━━━━━━━━━━━━━━━━━\u001b[0m\u001b[37m\u001b[0m \u001b[1m1s\u001b[0m 155ms/step - loss: 0.0301 - val_loss: 0.0259\n",
      "Epoch 7/20\n",
      "\u001b[1m6/6\u001b[0m \u001b[32m━━━━━━━━━━━━━━━━━━━━\u001b[0m\u001b[37m\u001b[0m \u001b[1m0s\u001b[0m 109ms/step - loss: 0.0243\n",
      "Epoch 7: val_loss improved from 0.02588 to 0.01972, saving model to anomaly_detection_results\\mvtec\\capsule\\capsule_mvtec_best_model.keras\n",
      "\u001b[1m6/6\u001b[0m \u001b[32m━━━━━━━━━━━━━━━━━━━━\u001b[0m\u001b[37m\u001b[0m \u001b[1m1s\u001b[0m 141ms/step - loss: 0.0241 - val_loss: 0.0197\n",
      "Epoch 8/20\n",
      "\u001b[1m6/6\u001b[0m \u001b[32m━━━━━━━━━━━━━━━━━━━━\u001b[0m\u001b[37m\u001b[0m \u001b[1m0s\u001b[0m 108ms/step - loss: 0.0179\n",
      "Epoch 8: val_loss improved from 0.01972 to 0.01235, saving model to anomaly_detection_results\\mvtec\\capsule\\capsule_mvtec_best_model.keras\n",
      "\u001b[1m6/6\u001b[0m \u001b[32m━━━━━━━━━━━━━━━━━━━━\u001b[0m\u001b[37m\u001b[0m \u001b[1m1s\u001b[0m 139ms/step - loss: 0.0177 - val_loss: 0.0124\n",
      "Epoch 9/20\n",
      "\u001b[1m6/6\u001b[0m \u001b[32m━━━━━━━━━━━━━━━━━━━━\u001b[0m\u001b[37m\u001b[0m \u001b[1m0s\u001b[0m 108ms/step - loss: 0.0106\n",
      "Epoch 9: val_loss improved from 0.01235 to 0.00706, saving model to anomaly_detection_results\\mvtec\\capsule\\capsule_mvtec_best_model.keras\n",
      "\u001b[1m6/6\u001b[0m \u001b[32m━━━━━━━━━━━━━━━━━━━━\u001b[0m\u001b[37m\u001b[0m \u001b[1m1s\u001b[0m 140ms/step - loss: 0.0104 - val_loss: 0.0071\n",
      "Epoch 10/20\n",
      "\u001b[1m6/6\u001b[0m \u001b[32m━━━━━━━━━━━━━━━━━━━━\u001b[0m\u001b[37m\u001b[0m \u001b[1m0s\u001b[0m 107ms/step - loss: 0.0071\n",
      "Epoch 10: val_loss improved from 0.00706 to 0.00609, saving model to anomaly_detection_results\\mvtec\\capsule\\capsule_mvtec_best_model.keras\n",
      "\u001b[1m6/6\u001b[0m \u001b[32m━━━━━━━━━━━━━━━━━━━━\u001b[0m\u001b[37m\u001b[0m \u001b[1m1s\u001b[0m 146ms/step - loss: 0.0072 - val_loss: 0.0061\n",
      "Epoch 11/20\n",
      "\u001b[1m6/6\u001b[0m \u001b[32m━━━━━━━━━━━━━━━━━━━━\u001b[0m\u001b[37m\u001b[0m \u001b[1m0s\u001b[0m 110ms/step - loss: 0.0062\n",
      "Epoch 11: val_loss improved from 0.00609 to 0.00400, saving model to anomaly_detection_results\\mvtec\\capsule\\capsule_mvtec_best_model.keras\n",
      "\u001b[1m6/6\u001b[0m \u001b[32m━━━━━━━━━━━━━━━━━━━━\u001b[0m\u001b[37m\u001b[0m \u001b[1m1s\u001b[0m 141ms/step - loss: 0.0062 - val_loss: 0.0040\n",
      "Epoch 12/20\n",
      "\u001b[1m6/6\u001b[0m \u001b[32m━━━━━━━━━━━━━━━━━━━━\u001b[0m\u001b[37m\u001b[0m \u001b[1m0s\u001b[0m 108ms/step - loss: 0.0036\n",
      "Epoch 12: val_loss improved from 0.00400 to 0.00296, saving model to anomaly_detection_results\\mvtec\\capsule\\capsule_mvtec_best_model.keras\n",
      "\u001b[1m6/6\u001b[0m \u001b[32m━━━━━━━━━━━━━━━━━━━━\u001b[0m\u001b[37m\u001b[0m \u001b[1m1s\u001b[0m 139ms/step - loss: 0.0036 - val_loss: 0.0030\n",
      "Epoch 13/20\n",
      "\u001b[1m6/6\u001b[0m \u001b[32m━━━━━━━━━━━━━━━━━━━━\u001b[0m\u001b[37m\u001b[0m \u001b[1m0s\u001b[0m 110ms/step - loss: 0.0029\n",
      "Epoch 13: val_loss improved from 0.00296 to 0.00203, saving model to anomaly_detection_results\\mvtec\\capsule\\capsule_mvtec_best_model.keras\n",
      "\u001b[1m6/6\u001b[0m \u001b[32m━━━━━━━━━━━━━━━━━━━━\u001b[0m\u001b[37m\u001b[0m \u001b[1m1s\u001b[0m 142ms/step - loss: 0.0029 - val_loss: 0.0020\n",
      "Epoch 14/20\n",
      "\u001b[1m6/6\u001b[0m \u001b[32m━━━━━━━━━━━━━━━━━━━━\u001b[0m\u001b[37m\u001b[0m \u001b[1m0s\u001b[0m 110ms/step - loss: 0.0020\n",
      "Epoch 14: val_loss improved from 0.00203 to 0.00177, saving model to anomaly_detection_results\\mvtec\\capsule\\capsule_mvtec_best_model.keras\n",
      "\u001b[1m6/6\u001b[0m \u001b[32m━━━━━━━━━━━━━━━━━━━━\u001b[0m\u001b[37m\u001b[0m \u001b[1m1s\u001b[0m 141ms/step - loss: 0.0020 - val_loss: 0.0018\n",
      "Epoch 15/20\n",
      "\u001b[1m6/6\u001b[0m \u001b[32m━━━━━━━━━━━━━━━━━━━━\u001b[0m\u001b[37m\u001b[0m \u001b[1m0s\u001b[0m 108ms/step - loss: 0.0017\n",
      "Epoch 15: val_loss improved from 0.00177 to 0.00144, saving model to anomaly_detection_results\\mvtec\\capsule\\capsule_mvtec_best_model.keras\n",
      "\u001b[1m6/6\u001b[0m \u001b[32m━━━━━━━━━━━━━━━━━━━━\u001b[0m\u001b[37m\u001b[0m \u001b[1m1s\u001b[0m 147ms/step - loss: 0.0017 - val_loss: 0.0014\n",
      "Epoch 16/20\n",
      "\u001b[1m6/6\u001b[0m \u001b[32m━━━━━━━━━━━━━━━━━━━━\u001b[0m\u001b[37m\u001b[0m \u001b[1m0s\u001b[0m 114ms/step - loss: 0.0014\n",
      "Epoch 16: val_loss improved from 0.00144 to 0.00126, saving model to anomaly_detection_results\\mvtec\\capsule\\capsule_mvtec_best_model.keras\n",
      "\u001b[1m6/6\u001b[0m \u001b[32m━━━━━━━━━━━━━━━━━━━━\u001b[0m\u001b[37m\u001b[0m \u001b[1m1s\u001b[0m 147ms/step - loss: 0.0014 - val_loss: 0.0013\n",
      "Epoch 17/20\n",
      "\u001b[1m6/6\u001b[0m \u001b[32m━━━━━━━━━━━━━━━━━━━━\u001b[0m\u001b[37m\u001b[0m \u001b[1m0s\u001b[0m 113ms/step - loss: 0.0013\n",
      "Epoch 17: val_loss improved from 0.00126 to 0.00113, saving model to anomaly_detection_results\\mvtec\\capsule\\capsule_mvtec_best_model.keras\n",
      "\u001b[1m6/6\u001b[0m \u001b[32m━━━━━━━━━━━━━━━━━━━━\u001b[0m\u001b[37m\u001b[0m \u001b[1m1s\u001b[0m 146ms/step - loss: 0.0013 - val_loss: 0.0011\n",
      "Epoch 18/20\n",
      "\u001b[1m6/6\u001b[0m \u001b[32m━━━━━━━━━━━━━━━━━━━━\u001b[0m\u001b[37m\u001b[0m \u001b[1m0s\u001b[0m 116ms/step - loss: 0.0012\n",
      "Epoch 18: val_loss improved from 0.00113 to 0.00106, saving model to anomaly_detection_results\\mvtec\\capsule\\capsule_mvtec_best_model.keras\n",
      "\u001b[1m6/6\u001b[0m \u001b[32m━━━━━━━━━━━━━━━━━━━━\u001b[0m\u001b[37m\u001b[0m \u001b[1m1s\u001b[0m 147ms/step - loss: 0.0012 - val_loss: 0.0011\n",
      "Epoch 19/20\n",
      "\u001b[1m6/6\u001b[0m \u001b[32m━━━━━━━━━━━━━━━━━━━━\u001b[0m\u001b[37m\u001b[0m \u001b[1m0s\u001b[0m 111ms/step - loss: 0.0011\n",
      "Epoch 19: val_loss improved from 0.00106 to 0.00099, saving model to anomaly_detection_results\\mvtec\\capsule\\capsule_mvtec_best_model.keras\n",
      "\u001b[1m6/6\u001b[0m \u001b[32m━━━━━━━━━━━━━━━━━━━━\u001b[0m\u001b[37m\u001b[0m \u001b[1m1s\u001b[0m 144ms/step - loss: 0.0011 - val_loss: 9.9157e-04\n",
      "Epoch 20/20\n",
      "\u001b[1m6/6\u001b[0m \u001b[32m━━━━━━━━━━━━━━━━━━━━\u001b[0m\u001b[37m\u001b[0m \u001b[1m0s\u001b[0m 114ms/step - loss: 9.8391e-04\n",
      "Epoch 20: val_loss improved from 0.00099 to 0.00092, saving model to anomaly_detection_results\\mvtec\\capsule\\capsule_mvtec_best_model.keras\n",
      "\u001b[1m6/6\u001b[0m \u001b[32m━━━━━━━━━━━━━━━━━━━━\u001b[0m\u001b[37m\u001b[0m \u001b[1m1s\u001b[0m 146ms/step - loss: 9.8505e-04 - val_loss: 9.2337e-04\n",
      "Eğitim tamamlandı. Süre: 18.54 saniye\n",
      "En iyi model yüklendi: anomaly_detection_results\\mvtec\\capsule\\capsule_mvtec_best_model.keras\n",
      "Eğitim geçmişi grafiği kaydedildi: anomaly_detection_results\\mvtec\\capsule\\capsule_mvtec_training_history.png\n",
      "Rekonstrüksiyon başlatılıyor...\n",
      "\u001b[1m5/5\u001b[0m \u001b[32m━━━━━━━━━━━━━━━━━━━━\u001b[0m\u001b[37m\u001b[0m \u001b[1m0s\u001b[0m 77ms/step\n",
      "Anomali eşik değeri (95. yüzdelik): 0.001094\n",
      "Doğruluk (Accuracy): 0.1970\n",
      "Hassasiyet (Precision): 0.7143\n",
      "Duyarlılık (Recall): 0.0459\n",
      "F1 Skoru: 0.0862\n",
      "ROC AUC: 0.5181\n",
      "\n",
      "capsule (mvtec) için analiz sonuçları görselleştiriliyor...\n",
      "Rekonstrüksiyon sonuçları kaydedildi: anomaly_detection_results\\mvtec\\capsule\\capsule_mvtec_reconstruction_results.png\n",
      "Normal örnekler MSE - Min: 0.000796, Max: 0.001468, Ortalama: 0.000942\n",
      "Anomali örnekler MSE - Min: 0.000783, Max: 0.001706, Ortalama: 0.000926\n",
      "MSE karşılaştırma histogramı kaydedildi: anomaly_detection_results\\mvtec\\capsule\\capsule_mvtec_mse_comparison_histogram.png\n",
      "ROC eğrisi kaydedildi: anomaly_detection_results\\mvtec\\capsule\\capsule_mvtec_roc_curve.png\n",
      "Karışıklık matrisi kaydedildi: anomaly_detection_results\\mvtec\\capsule\\capsule_mvtec_confusion_matrix.png\n",
      "poke kusur tipi detaylı analizi kaydedildi: anomaly_detection_results\\mvtec\\capsule\\capsule_mvtec_poke_detailed_analysis.png\n",
      "scratch kusur tipi detaylı analizi kaydedildi: anomaly_detection_results\\mvtec\\capsule\\capsule_mvtec_scratch_detailed_analysis.png\n",
      "crack kusur tipi detaylı analizi kaydedildi: anomaly_detection_results\\mvtec\\capsule\\capsule_mvtec_crack_detailed_analysis.png\n",
      "squeeze kusur tipi detaylı analizi kaydedildi: anomaly_detection_results\\mvtec\\capsule\\capsule_mvtec_squeeze_detailed_analysis.png\n",
      "faulty_imprint kusur tipi detaylı analizi kaydedildi: anomaly_detection_results\\mvtec\\capsule\\capsule_mvtec_faulty_imprint_detailed_analysis.png\n",
      "Kusur tipi metrikleri kaydedildi: anomaly_detection_results\\mvtec\\capsule\\capsule_mvtec_defect_type_metrics.png\n",
      "Kusur tipine göre MSE dağılımı kaydedildi: anomaly_detection_results\\mvtec\\capsule\\capsule_mvtec_defect_type_mse_distribution.png\n",
      "Sonuçlar başarıyla kaydedildi: anomaly_detection_results\\mvtec\\capsule\n",
      "MVTec: capsule kategorisi başarıyla işlendi.\n",
      "\n",
      "==================================================\n",
      "İşleniyor: carpet (MVTEC veri seti)\n",
      "==================================================\n",
      "Eğitim dizini: C:\\Users\\Tansu\\OneDrive\\Masaüstü\\mvtec\\carpet\\train\n",
      "Test dizini: C:\\Users\\Tansu\\OneDrive\\Masaüstü\\mvtec\\carpet\\test\n",
      "Eğitim 'good' dizini: C:\\Users\\Tansu\\OneDrive\\Masaüstü\\mvtec\\carpet\\train\\good\n",
      "Eğitim 'good' dizinindeki dosya sayısı: 280\n"
     ]
    },
    {
     "name": "stderr",
     "output_type": "stream",
     "text": [
      "carpet: Eğitim verilerini yükleme: 100%|██████████| 280/280 [00:09<00:00, 28.80it/s]\n"
     ]
    },
    {
     "name": "stdout",
     "output_type": "stream",
     "text": [
      "Test 'good' dizini: C:\\Users\\Tansu\\OneDrive\\Masaüstü\\mvtec\\carpet\\test\\good\n",
      "Test 'good' dizinindeki dosya sayısı: 28\n"
     ]
    },
    {
     "name": "stderr",
     "output_type": "stream",
     "text": [
      "carpet: Normal test verilerini yükleme: 100%|██████████| 28/28 [00:00<00:00, 30.27it/s]\n"
     ]
    },
    {
     "name": "stdout",
     "output_type": "stream",
     "text": [
      "Tespit edilen kusur tipleri: ['color', 'cut', 'hole', 'metal_contamination', 'thread']\n",
      "Kusur dizini: C:\\Users\\Tansu\\OneDrive\\Masaüstü\\mvtec\\carpet\\test\\color\n",
      "Kusur dizinindeki dosya sayısı: 19\n"
     ]
    },
    {
     "name": "stderr",
     "output_type": "stream",
     "text": [
      "carpet: color verilerini yükleme: 100%|██████████| 19/19 [00:00<00:00, 28.52it/s]\n"
     ]
    },
    {
     "name": "stdout",
     "output_type": "stream",
     "text": [
      "Kusur dizini: C:\\Users\\Tansu\\OneDrive\\Masaüstü\\mvtec\\carpet\\test\\cut\n",
      "Kusur dizinindeki dosya sayısı: 17\n"
     ]
    },
    {
     "name": "stderr",
     "output_type": "stream",
     "text": [
      "carpet: cut verilerini yükleme: 100%|██████████| 17/17 [00:00<00:00, 29.25it/s]\n"
     ]
    },
    {
     "name": "stdout",
     "output_type": "stream",
     "text": [
      "Kusur dizini: C:\\Users\\Tansu\\OneDrive\\Masaüstü\\mvtec\\carpet\\test\\hole\n",
      "Kusur dizinindeki dosya sayısı: 17\n"
     ]
    },
    {
     "name": "stderr",
     "output_type": "stream",
     "text": [
      "carpet: hole verilerini yükleme: 100%|██████████| 17/17 [00:00<00:00, 30.05it/s]\n"
     ]
    },
    {
     "name": "stdout",
     "output_type": "stream",
     "text": [
      "Kusur dizini: C:\\Users\\Tansu\\OneDrive\\Masaüstü\\mvtec\\carpet\\test\\metal_contamination\n",
      "Kusur dizinindeki dosya sayısı: 17\n"
     ]
    },
    {
     "name": "stderr",
     "output_type": "stream",
     "text": [
      "carpet: metal_contamination verilerini yükleme: 100%|██████████| 17/17 [00:00<00:00, 28.99it/s]\n"
     ]
    },
    {
     "name": "stdout",
     "output_type": "stream",
     "text": [
      "Kusur dizini: C:\\Users\\Tansu\\OneDrive\\Masaüstü\\mvtec\\carpet\\test\\thread\n",
      "Kusur dizinindeki dosya sayısı: 19\n"
     ]
    },
    {
     "name": "stderr",
     "output_type": "stream",
     "text": [
      "carpet: thread verilerini yükleme: 100%|██████████| 19/19 [00:00<00:00, 29.16it/s]\n"
     ]
    },
    {
     "name": "stdout",
     "output_type": "stream",
     "text": [
      "Eğitim veriseti: (280, 128, 128) - Min: 9, Max: 204\n",
      "Test veriseti: (117, 128, 128) - Min: 10, Max: 213\n",
      "Test etiketleri: (117,)\n",
      "Anomali sayısı: 89\n",
      "Normal test örneği sayısı: 28\n",
      "\n",
      "carpet (mvtec) için görselleştirmeler oluşturuluyor...\n",
      "Görselleştirme kaydedildi: anomaly_detection_results\\mvtec\\carpet\\carpet_(mvtec)___Eğitim_Örnekleri.png\n",
      "Kusur tipleri karşılaştırması kaydedildi: anomaly_detection_results\\mvtec\\carpet\\carpet_mvtec_defect_types_comparison.png\n",
      "Normal vs Anomali karşılaştırması kaydedildi: anomaly_detection_results\\mvtec\\carpet\\carpet_mvtec_normal_vs_anomaly_samples.png\n"
     ]
    },
    {
     "data": {
      "text/html": [
       "<pre style=\"white-space:pre;overflow-x:auto;line-height:normal;font-family:Menlo,'DejaVu Sans Mono',consolas,'Courier New',monospace\"><span style=\"font-weight: bold\">Model: \"functional_7\"</span>\n",
       "</pre>\n"
      ],
      "text/plain": [
       "\u001b[1mModel: \"functional_7\"\u001b[0m\n"
      ]
     },
     "metadata": {},
     "output_type": "display_data"
    },
    {
     "data": {
      "text/html": [
       "<pre style=\"white-space:pre;overflow-x:auto;line-height:normal;font-family:Menlo,'DejaVu Sans Mono',consolas,'Courier New',monospace\">┏━━━━━━━━━━━━━━━━━━━━━━━━━━━━━━━━━┳━━━━━━━━━━━━━━━━━━━━━━━━┳━━━━━━━━━━━━━━━┓\n",
       "┃<span style=\"font-weight: bold\"> Layer (type)                    </span>┃<span style=\"font-weight: bold\"> Output Shape           </span>┃<span style=\"font-weight: bold\">       Param # </span>┃\n",
       "┡━━━━━━━━━━━━━━━━━━━━━━━━━━━━━━━━━╇━━━━━━━━━━━━━━━━━━━━━━━━╇━━━━━━━━━━━━━━━┩\n",
       "│ input_layer (<span style=\"color: #0087ff; text-decoration-color: #0087ff\">InputLayer</span>)        │ (<span style=\"color: #00d7ff; text-decoration-color: #00d7ff\">None</span>, <span style=\"color: #00af00; text-decoration-color: #00af00\">128</span>, <span style=\"color: #00af00; text-decoration-color: #00af00\">128</span>, <span style=\"color: #00af00; text-decoration-color: #00af00\">1</span>)    │             <span style=\"color: #00af00; text-decoration-color: #00af00\">0</span> │\n",
       "├─────────────────────────────────┼────────────────────────┼───────────────┤\n",
       "│ conv2d_35 (<span style=\"color: #0087ff; text-decoration-color: #0087ff\">Conv2D</span>)              │ (<span style=\"color: #00d7ff; text-decoration-color: #00d7ff\">None</span>, <span style=\"color: #00af00; text-decoration-color: #00af00\">128</span>, <span style=\"color: #00af00; text-decoration-color: #00af00\">128</span>, <span style=\"color: #00af00; text-decoration-color: #00af00\">32</span>)   │           <span style=\"color: #00af00; text-decoration-color: #00af00\">320</span> │\n",
       "├─────────────────────────────────┼────────────────────────┼───────────────┤\n",
       "│ max_pooling2d_14 (<span style=\"color: #0087ff; text-decoration-color: #0087ff\">MaxPooling2D</span>) │ (<span style=\"color: #00d7ff; text-decoration-color: #00d7ff\">None</span>, <span style=\"color: #00af00; text-decoration-color: #00af00\">64</span>, <span style=\"color: #00af00; text-decoration-color: #00af00\">64</span>, <span style=\"color: #00af00; text-decoration-color: #00af00\">32</span>)     │             <span style=\"color: #00af00; text-decoration-color: #00af00\">0</span> │\n",
       "├─────────────────────────────────┼────────────────────────┼───────────────┤\n",
       "│ conv2d_36 (<span style=\"color: #0087ff; text-decoration-color: #0087ff\">Conv2D</span>)              │ (<span style=\"color: #00d7ff; text-decoration-color: #00d7ff\">None</span>, <span style=\"color: #00af00; text-decoration-color: #00af00\">64</span>, <span style=\"color: #00af00; text-decoration-color: #00af00\">64</span>, <span style=\"color: #00af00; text-decoration-color: #00af00\">16</span>)     │         <span style=\"color: #00af00; text-decoration-color: #00af00\">4,624</span> │\n",
       "├─────────────────────────────────┼────────────────────────┼───────────────┤\n",
       "│ max_pooling2d_15 (<span style=\"color: #0087ff; text-decoration-color: #0087ff\">MaxPooling2D</span>) │ (<span style=\"color: #00d7ff; text-decoration-color: #00d7ff\">None</span>, <span style=\"color: #00af00; text-decoration-color: #00af00\">32</span>, <span style=\"color: #00af00; text-decoration-color: #00af00\">32</span>, <span style=\"color: #00af00; text-decoration-color: #00af00\">16</span>)     │             <span style=\"color: #00af00; text-decoration-color: #00af00\">0</span> │\n",
       "├─────────────────────────────────┼────────────────────────┼───────────────┤\n",
       "│ conv2d_37 (<span style=\"color: #0087ff; text-decoration-color: #0087ff\">Conv2D</span>)              │ (<span style=\"color: #00d7ff; text-decoration-color: #00d7ff\">None</span>, <span style=\"color: #00af00; text-decoration-color: #00af00\">32</span>, <span style=\"color: #00af00; text-decoration-color: #00af00\">32</span>, <span style=\"color: #00af00; text-decoration-color: #00af00\">16</span>)     │         <span style=\"color: #00af00; text-decoration-color: #00af00\">2,320</span> │\n",
       "├─────────────────────────────────┼────────────────────────┼───────────────┤\n",
       "│ up_sampling2d_14 (<span style=\"color: #0087ff; text-decoration-color: #0087ff\">UpSampling2D</span>) │ (<span style=\"color: #00d7ff; text-decoration-color: #00d7ff\">None</span>, <span style=\"color: #00af00; text-decoration-color: #00af00\">64</span>, <span style=\"color: #00af00; text-decoration-color: #00af00\">64</span>, <span style=\"color: #00af00; text-decoration-color: #00af00\">16</span>)     │             <span style=\"color: #00af00; text-decoration-color: #00af00\">0</span> │\n",
       "├─────────────────────────────────┼────────────────────────┼───────────────┤\n",
       "│ conv2d_38 (<span style=\"color: #0087ff; text-decoration-color: #0087ff\">Conv2D</span>)              │ (<span style=\"color: #00d7ff; text-decoration-color: #00d7ff\">None</span>, <span style=\"color: #00af00; text-decoration-color: #00af00\">64</span>, <span style=\"color: #00af00; text-decoration-color: #00af00\">64</span>, <span style=\"color: #00af00; text-decoration-color: #00af00\">32</span>)     │         <span style=\"color: #00af00; text-decoration-color: #00af00\">4,640</span> │\n",
       "├─────────────────────────────────┼────────────────────────┼───────────────┤\n",
       "│ up_sampling2d_15 (<span style=\"color: #0087ff; text-decoration-color: #0087ff\">UpSampling2D</span>) │ (<span style=\"color: #00d7ff; text-decoration-color: #00d7ff\">None</span>, <span style=\"color: #00af00; text-decoration-color: #00af00\">128</span>, <span style=\"color: #00af00; text-decoration-color: #00af00\">128</span>, <span style=\"color: #00af00; text-decoration-color: #00af00\">32</span>)   │             <span style=\"color: #00af00; text-decoration-color: #00af00\">0</span> │\n",
       "├─────────────────────────────────┼────────────────────────┼───────────────┤\n",
       "│ conv2d_39 (<span style=\"color: #0087ff; text-decoration-color: #0087ff\">Conv2D</span>)              │ (<span style=\"color: #00d7ff; text-decoration-color: #00d7ff\">None</span>, <span style=\"color: #00af00; text-decoration-color: #00af00\">128</span>, <span style=\"color: #00af00; text-decoration-color: #00af00\">128</span>, <span style=\"color: #00af00; text-decoration-color: #00af00\">1</span>)    │           <span style=\"color: #00af00; text-decoration-color: #00af00\">289</span> │\n",
       "└─────────────────────────────────┴────────────────────────┴───────────────┘\n",
       "</pre>\n"
      ],
      "text/plain": [
       "┏━━━━━━━━━━━━━━━━━━━━━━━━━━━━━━━━━┳━━━━━━━━━━━━━━━━━━━━━━━━┳━━━━━━━━━━━━━━━┓\n",
       "┃\u001b[1m \u001b[0m\u001b[1mLayer (type)                   \u001b[0m\u001b[1m \u001b[0m┃\u001b[1m \u001b[0m\u001b[1mOutput Shape          \u001b[0m\u001b[1m \u001b[0m┃\u001b[1m \u001b[0m\u001b[1m      Param #\u001b[0m\u001b[1m \u001b[0m┃\n",
       "┡━━━━━━━━━━━━━━━━━━━━━━━━━━━━━━━━━╇━━━━━━━━━━━━━━━━━━━━━━━━╇━━━━━━━━━━━━━━━┩\n",
       "│ input_layer (\u001b[38;5;33mInputLayer\u001b[0m)        │ (\u001b[38;5;45mNone\u001b[0m, \u001b[38;5;34m128\u001b[0m, \u001b[38;5;34m128\u001b[0m, \u001b[38;5;34m1\u001b[0m)    │             \u001b[38;5;34m0\u001b[0m │\n",
       "├─────────────────────────────────┼────────────────────────┼───────────────┤\n",
       "│ conv2d_35 (\u001b[38;5;33mConv2D\u001b[0m)              │ (\u001b[38;5;45mNone\u001b[0m, \u001b[38;5;34m128\u001b[0m, \u001b[38;5;34m128\u001b[0m, \u001b[38;5;34m32\u001b[0m)   │           \u001b[38;5;34m320\u001b[0m │\n",
       "├─────────────────────────────────┼────────────────────────┼───────────────┤\n",
       "│ max_pooling2d_14 (\u001b[38;5;33mMaxPooling2D\u001b[0m) │ (\u001b[38;5;45mNone\u001b[0m, \u001b[38;5;34m64\u001b[0m, \u001b[38;5;34m64\u001b[0m, \u001b[38;5;34m32\u001b[0m)     │             \u001b[38;5;34m0\u001b[0m │\n",
       "├─────────────────────────────────┼────────────────────────┼───────────────┤\n",
       "│ conv2d_36 (\u001b[38;5;33mConv2D\u001b[0m)              │ (\u001b[38;5;45mNone\u001b[0m, \u001b[38;5;34m64\u001b[0m, \u001b[38;5;34m64\u001b[0m, \u001b[38;5;34m16\u001b[0m)     │         \u001b[38;5;34m4,624\u001b[0m │\n",
       "├─────────────────────────────────┼────────────────────────┼───────────────┤\n",
       "│ max_pooling2d_15 (\u001b[38;5;33mMaxPooling2D\u001b[0m) │ (\u001b[38;5;45mNone\u001b[0m, \u001b[38;5;34m32\u001b[0m, \u001b[38;5;34m32\u001b[0m, \u001b[38;5;34m16\u001b[0m)     │             \u001b[38;5;34m0\u001b[0m │\n",
       "├─────────────────────────────────┼────────────────────────┼───────────────┤\n",
       "│ conv2d_37 (\u001b[38;5;33mConv2D\u001b[0m)              │ (\u001b[38;5;45mNone\u001b[0m, \u001b[38;5;34m32\u001b[0m, \u001b[38;5;34m32\u001b[0m, \u001b[38;5;34m16\u001b[0m)     │         \u001b[38;5;34m2,320\u001b[0m │\n",
       "├─────────────────────────────────┼────────────────────────┼───────────────┤\n",
       "│ up_sampling2d_14 (\u001b[38;5;33mUpSampling2D\u001b[0m) │ (\u001b[38;5;45mNone\u001b[0m, \u001b[38;5;34m64\u001b[0m, \u001b[38;5;34m64\u001b[0m, \u001b[38;5;34m16\u001b[0m)     │             \u001b[38;5;34m0\u001b[0m │\n",
       "├─────────────────────────────────┼────────────────────────┼───────────────┤\n",
       "│ conv2d_38 (\u001b[38;5;33mConv2D\u001b[0m)              │ (\u001b[38;5;45mNone\u001b[0m, \u001b[38;5;34m64\u001b[0m, \u001b[38;5;34m64\u001b[0m, \u001b[38;5;34m32\u001b[0m)     │         \u001b[38;5;34m4,640\u001b[0m │\n",
       "├─────────────────────────────────┼────────────────────────┼───────────────┤\n",
       "│ up_sampling2d_15 (\u001b[38;5;33mUpSampling2D\u001b[0m) │ (\u001b[38;5;45mNone\u001b[0m, \u001b[38;5;34m128\u001b[0m, \u001b[38;5;34m128\u001b[0m, \u001b[38;5;34m32\u001b[0m)   │             \u001b[38;5;34m0\u001b[0m │\n",
       "├─────────────────────────────────┼────────────────────────┼───────────────┤\n",
       "│ conv2d_39 (\u001b[38;5;33mConv2D\u001b[0m)              │ (\u001b[38;5;45mNone\u001b[0m, \u001b[38;5;34m128\u001b[0m, \u001b[38;5;34m128\u001b[0m, \u001b[38;5;34m1\u001b[0m)    │           \u001b[38;5;34m289\u001b[0m │\n",
       "└─────────────────────────────────┴────────────────────────┴───────────────┘\n"
      ]
     },
     "metadata": {},
     "output_type": "display_data"
    },
    {
     "data": {
      "text/html": [
       "<pre style=\"white-space:pre;overflow-x:auto;line-height:normal;font-family:Menlo,'DejaVu Sans Mono',consolas,'Courier New',monospace\"><span style=\"font-weight: bold\"> Total params: </span><span style=\"color: #00af00; text-decoration-color: #00af00\">12,193</span> (47.63 KB)\n",
       "</pre>\n"
      ],
      "text/plain": [
       "\u001b[1m Total params: \u001b[0m\u001b[38;5;34m12,193\u001b[0m (47.63 KB)\n"
      ]
     },
     "metadata": {},
     "output_type": "display_data"
    },
    {
     "data": {
      "text/html": [
       "<pre style=\"white-space:pre;overflow-x:auto;line-height:normal;font-family:Menlo,'DejaVu Sans Mono',consolas,'Courier New',monospace\"><span style=\"font-weight: bold\"> Trainable params: </span><span style=\"color: #00af00; text-decoration-color: #00af00\">12,193</span> (47.63 KB)\n",
       "</pre>\n"
      ],
      "text/plain": [
       "\u001b[1m Trainable params: \u001b[0m\u001b[38;5;34m12,193\u001b[0m (47.63 KB)\n"
      ]
     },
     "metadata": {},
     "output_type": "display_data"
    },
    {
     "data": {
      "text/html": [
       "<pre style=\"white-space:pre;overflow-x:auto;line-height:normal;font-family:Menlo,'DejaVu Sans Mono',consolas,'Courier New',monospace\"><span style=\"font-weight: bold\"> Non-trainable params: </span><span style=\"color: #00af00; text-decoration-color: #00af00\">0</span> (0.00 B)\n",
       "</pre>\n"
      ],
      "text/plain": [
       "\u001b[1m Non-trainable params: \u001b[0m\u001b[38;5;34m0\u001b[0m (0.00 B)\n"
      ]
     },
     "metadata": {},
     "output_type": "display_data"
    },
    {
     "name": "stdout",
     "output_type": "stream",
     "text": [
      "Epoch 1/20\n",
      "\u001b[1m7/7\u001b[0m \u001b[32m━━━━━━━━━━━━━━━━━━━━\u001b[0m\u001b[37m\u001b[0m \u001b[1m0s\u001b[0m 107ms/step - loss: 0.0265\n",
      "Epoch 1: val_loss improved from inf to 0.01196, saving model to anomaly_detection_results\\mvtec\\carpet\\carpet_mvtec_best_model.keras\n",
      "\u001b[1m7/7\u001b[0m \u001b[32m━━━━━━━━━━━━━━━━━━━━\u001b[0m\u001b[37m\u001b[0m \u001b[1m2s\u001b[0m 176ms/step - loss: 0.0260 - val_loss: 0.0120\n",
      "Epoch 2/20\n",
      "\u001b[1m7/7\u001b[0m \u001b[32m━━━━━━━━━━━━━━━━━━━━\u001b[0m\u001b[37m\u001b[0m \u001b[1m0s\u001b[0m 124ms/step - loss: 0.0120\n",
      "Epoch 2: val_loss improved from 0.01196 to 0.01192, saving model to anomaly_detection_results\\mvtec\\carpet\\carpet_mvtec_best_model.keras\n",
      "\u001b[1m7/7\u001b[0m \u001b[32m━━━━━━━━━━━━━━━━━━━━\u001b[0m\u001b[37m\u001b[0m \u001b[1m1s\u001b[0m 165ms/step - loss: 0.0121 - val_loss: 0.0119\n",
      "Epoch 3/20\n",
      "\u001b[1m7/7\u001b[0m \u001b[32m━━━━━━━━━━━━━━━━━━━━\u001b[0m\u001b[37m\u001b[0m \u001b[1m0s\u001b[0m 127ms/step - loss: 0.0112\n",
      "Epoch 3: val_loss did not improve from 0.01192\n",
      "\u001b[1m7/7\u001b[0m \u001b[32m━━━━━━━━━━━━━━━━━━━━\u001b[0m\u001b[37m\u001b[0m \u001b[1m1s\u001b[0m 152ms/step - loss: 0.0112 - val_loss: 0.0119\n",
      "Epoch 4/20\n",
      "\u001b[1m7/7\u001b[0m \u001b[32m━━━━━━━━━━━━━━━━━━━━\u001b[0m\u001b[37m\u001b[0m \u001b[1m0s\u001b[0m 128ms/step - loss: 0.0113\n",
      "Epoch 4: val_loss improved from 0.01192 to 0.01135, saving model to anomaly_detection_results\\mvtec\\carpet\\carpet_mvtec_best_model.keras\n",
      "\u001b[1m7/7\u001b[0m \u001b[32m━━━━━━━━━━━━━━━━━━━━\u001b[0m\u001b[37m\u001b[0m \u001b[1m1s\u001b[0m 159ms/step - loss: 0.0113 - val_loss: 0.0114\n",
      "Epoch 5/20\n",
      "\u001b[1m7/7\u001b[0m \u001b[32m━━━━━━━━━━━━━━━━━━━━\u001b[0m\u001b[37m\u001b[0m \u001b[1m0s\u001b[0m 130ms/step - loss: 0.0107\n",
      "Epoch 5: val_loss improved from 0.01135 to 0.01105, saving model to anomaly_detection_results\\mvtec\\carpet\\carpet_mvtec_best_model.keras\n",
      "\u001b[1m7/7\u001b[0m \u001b[32m━━━━━━━━━━━━━━━━━━━━\u001b[0m\u001b[37m\u001b[0m \u001b[1m1s\u001b[0m 165ms/step - loss: 0.0107 - val_loss: 0.0111\n",
      "Epoch 6/20\n",
      "\u001b[1m7/7\u001b[0m \u001b[32m━━━━━━━━━━━━━━━━━━━━\u001b[0m\u001b[37m\u001b[0m \u001b[1m0s\u001b[0m 130ms/step - loss: 0.0107\n",
      "Epoch 6: val_loss improved from 0.01105 to 0.01085, saving model to anomaly_detection_results\\mvtec\\carpet\\carpet_mvtec_best_model.keras\n",
      "\u001b[1m7/7\u001b[0m \u001b[32m━━━━━━━━━━━━━━━━━━━━\u001b[0m\u001b[37m\u001b[0m \u001b[1m1s\u001b[0m 163ms/step - loss: 0.0107 - val_loss: 0.0109\n",
      "Epoch 7/20\n",
      "\u001b[1m7/7\u001b[0m \u001b[32m━━━━━━━━━━━━━━━━━━━━\u001b[0m\u001b[37m\u001b[0m \u001b[1m0s\u001b[0m 126ms/step - loss: 0.0105\n",
      "Epoch 7: val_loss improved from 0.01085 to 0.01079, saving model to anomaly_detection_results\\mvtec\\carpet\\carpet_mvtec_best_model.keras\n",
      "\u001b[1m7/7\u001b[0m \u001b[32m━━━━━━━━━━━━━━━━━━━━\u001b[0m\u001b[37m\u001b[0m \u001b[1m1s\u001b[0m 157ms/step - loss: 0.0105 - val_loss: 0.0108\n",
      "Epoch 8/20\n",
      "\u001b[1m7/7\u001b[0m \u001b[32m━━━━━━━━━━━━━━━━━━━━\u001b[0m\u001b[37m\u001b[0m \u001b[1m0s\u001b[0m 123ms/step - loss: 0.0104\n",
      "Epoch 8: val_loss improved from 0.01079 to 0.01070, saving model to anomaly_detection_results\\mvtec\\carpet\\carpet_mvtec_best_model.keras\n",
      "\u001b[1m7/7\u001b[0m \u001b[32m━━━━━━━━━━━━━━━━━━━━\u001b[0m\u001b[37m\u001b[0m \u001b[1m1s\u001b[0m 152ms/step - loss: 0.0104 - val_loss: 0.0107\n",
      "Epoch 9/20\n",
      "\u001b[1m7/7\u001b[0m \u001b[32m━━━━━━━━━━━━━━━━━━━━\u001b[0m\u001b[37m\u001b[0m \u001b[1m0s\u001b[0m 121ms/step - loss: 0.0103\n",
      "Epoch 9: val_loss improved from 0.01070 to 0.01061, saving model to anomaly_detection_results\\mvtec\\carpet\\carpet_mvtec_best_model.keras\n",
      "\u001b[1m7/7\u001b[0m \u001b[32m━━━━━━━━━━━━━━━━━━━━\u001b[0m\u001b[37m\u001b[0m \u001b[1m1s\u001b[0m 150ms/step - loss: 0.0103 - val_loss: 0.0106\n",
      "Epoch 10/20\n",
      "\u001b[1m7/7\u001b[0m \u001b[32m━━━━━━━━━━━━━━━━━━━━\u001b[0m\u001b[37m\u001b[0m \u001b[1m0s\u001b[0m 128ms/step - loss: 0.0102\n",
      "Epoch 10: val_loss improved from 0.01061 to 0.01057, saving model to anomaly_detection_results\\mvtec\\carpet\\carpet_mvtec_best_model.keras\n",
      "\u001b[1m7/7\u001b[0m \u001b[32m━━━━━━━━━━━━━━━━━━━━\u001b[0m\u001b[37m\u001b[0m \u001b[1m1s\u001b[0m 157ms/step - loss: 0.0102 - val_loss: 0.0106\n",
      "Epoch 11/20\n",
      "\u001b[1m7/7\u001b[0m \u001b[32m━━━━━━━━━━━━━━━━━━━━\u001b[0m\u001b[37m\u001b[0m \u001b[1m0s\u001b[0m 128ms/step - loss: 0.0103\n",
      "Epoch 11: val_loss improved from 0.01057 to 0.01041, saving model to anomaly_detection_results\\mvtec\\carpet\\carpet_mvtec_best_model.keras\n",
      "\u001b[1m7/7\u001b[0m \u001b[32m━━━━━━━━━━━━━━━━━━━━\u001b[0m\u001b[37m\u001b[0m \u001b[1m1s\u001b[0m 158ms/step - loss: 0.0103 - val_loss: 0.0104\n",
      "Epoch 12/20\n",
      "\u001b[1m7/7\u001b[0m \u001b[32m━━━━━━━━━━━━━━━━━━━━\u001b[0m\u001b[37m\u001b[0m \u001b[1m0s\u001b[0m 121ms/step - loss: 0.0101\n",
      "Epoch 12: val_loss improved from 0.01041 to 0.01034, saving model to anomaly_detection_results\\mvtec\\carpet\\carpet_mvtec_best_model.keras\n",
      "\u001b[1m7/7\u001b[0m \u001b[32m━━━━━━━━━━━━━━━━━━━━\u001b[0m\u001b[37m\u001b[0m \u001b[1m1s\u001b[0m 150ms/step - loss: 0.0101 - val_loss: 0.0103\n",
      "Epoch 13/20\n",
      "\u001b[1m7/7\u001b[0m \u001b[32m━━━━━━━━━━━━━━━━━━━━\u001b[0m\u001b[37m\u001b[0m \u001b[1m0s\u001b[0m 120ms/step - loss: 0.0101\n",
      "Epoch 13: val_loss improved from 0.01034 to 0.01028, saving model to anomaly_detection_results\\mvtec\\carpet\\carpet_mvtec_best_model.keras\n",
      "\u001b[1m7/7\u001b[0m \u001b[32m━━━━━━━━━━━━━━━━━━━━\u001b[0m\u001b[37m\u001b[0m \u001b[1m1s\u001b[0m 149ms/step - loss: 0.0101 - val_loss: 0.0103\n",
      "Epoch 14/20\n",
      "\u001b[1m7/7\u001b[0m \u001b[32m━━━━━━━━━━━━━━━━━━━━\u001b[0m\u001b[37m\u001b[0m \u001b[1m0s\u001b[0m 122ms/step - loss: 0.0100\n",
      "Epoch 14: val_loss improved from 0.01028 to 0.01021, saving model to anomaly_detection_results\\mvtec\\carpet\\carpet_mvtec_best_model.keras\n",
      "\u001b[1m7/7\u001b[0m \u001b[32m━━━━━━━━━━━━━━━━━━━━\u001b[0m\u001b[37m\u001b[0m \u001b[1m1s\u001b[0m 151ms/step - loss: 0.0100 - val_loss: 0.0102\n",
      "Epoch 15/20\n",
      "\u001b[1m7/7\u001b[0m \u001b[32m━━━━━━━━━━━━━━━━━━━━\u001b[0m\u001b[37m\u001b[0m \u001b[1m0s\u001b[0m 123ms/step - loss: 0.0100\n",
      "Epoch 15: val_loss improved from 0.01021 to 0.01009, saving model to anomaly_detection_results\\mvtec\\carpet\\carpet_mvtec_best_model.keras\n",
      "\u001b[1m7/7\u001b[0m \u001b[32m━━━━━━━━━━━━━━━━━━━━\u001b[0m\u001b[37m\u001b[0m \u001b[1m1s\u001b[0m 153ms/step - loss: 0.0100 - val_loss: 0.0101\n",
      "Epoch 16/20\n",
      "\u001b[1m7/7\u001b[0m \u001b[32m━━━━━━━━━━━━━━━━━━━━\u001b[0m\u001b[37m\u001b[0m \u001b[1m0s\u001b[0m 130ms/step - loss: 0.0099\n",
      "Epoch 16: val_loss improved from 0.01009 to 0.01008, saving model to anomaly_detection_results\\mvtec\\carpet\\carpet_mvtec_best_model.keras\n",
      "\u001b[1m7/7\u001b[0m \u001b[32m━━━━━━━━━━━━━━━━━━━━\u001b[0m\u001b[37m\u001b[0m \u001b[1m1s\u001b[0m 161ms/step - loss: 0.0099 - val_loss: 0.0101\n",
      "Epoch 17/20\n",
      "\u001b[1m7/7\u001b[0m \u001b[32m━━━━━━━━━━━━━━━━━━━━\u001b[0m\u001b[37m\u001b[0m \u001b[1m0s\u001b[0m 129ms/step - loss: 0.0098\n",
      "Epoch 17: val_loss improved from 0.01008 to 0.00995, saving model to anomaly_detection_results\\mvtec\\carpet\\carpet_mvtec_best_model.keras\n",
      "\u001b[1m7/7\u001b[0m \u001b[32m━━━━━━━━━━━━━━━━━━━━\u001b[0m\u001b[37m\u001b[0m \u001b[1m1s\u001b[0m 162ms/step - loss: 0.0098 - val_loss: 0.0100\n",
      "Epoch 18/20\n",
      "\u001b[1m7/7\u001b[0m \u001b[32m━━━━━━━━━━━━━━━━━━━━\u001b[0m\u001b[37m\u001b[0m \u001b[1m0s\u001b[0m 129ms/step - loss: 0.0097\n",
      "Epoch 18: val_loss improved from 0.00995 to 0.00991, saving model to anomaly_detection_results\\mvtec\\carpet\\carpet_mvtec_best_model.keras\n",
      "\u001b[1m7/7\u001b[0m \u001b[32m━━━━━━━━━━━━━━━━━━━━\u001b[0m\u001b[37m\u001b[0m \u001b[1m1s\u001b[0m 161ms/step - loss: 0.0097 - val_loss: 0.0099\n",
      "Epoch 19/20\n",
      "\u001b[1m7/7\u001b[0m \u001b[32m━━━━━━━━━━━━━━━━━━━━\u001b[0m\u001b[37m\u001b[0m \u001b[1m0s\u001b[0m 128ms/step - loss: 0.0095\n",
      "Epoch 19: val_loss improved from 0.00991 to 0.00986, saving model to anomaly_detection_results\\mvtec\\carpet\\carpet_mvtec_best_model.keras\n",
      "\u001b[1m7/7\u001b[0m \u001b[32m━━━━━━━━━━━━━━━━━━━━\u001b[0m\u001b[37m\u001b[0m \u001b[1m1s\u001b[0m 158ms/step - loss: 0.0096 - val_loss: 0.0099\n",
      "Epoch 20/20\n",
      "\u001b[1m7/7\u001b[0m \u001b[32m━━━━━━━━━━━━━━━━━━━━\u001b[0m\u001b[37m\u001b[0m \u001b[1m0s\u001b[0m 127ms/step - loss: 0.0096\n",
      "Epoch 20: val_loss improved from 0.00986 to 0.00978, saving model to anomaly_detection_results\\mvtec\\carpet\\carpet_mvtec_best_model.keras\n",
      "\u001b[1m7/7\u001b[0m \u001b[32m━━━━━━━━━━━━━━━━━━━━\u001b[0m\u001b[37m\u001b[0m \u001b[1m1s\u001b[0m 159ms/step - loss: 0.0096 - val_loss: 0.0098\n",
      "Eğitim tamamlandı. Süre: 22.96 saniye\n",
      "En iyi model yüklendi: anomaly_detection_results\\mvtec\\carpet\\carpet_mvtec_best_model.keras\n",
      "Eğitim geçmişi grafiği kaydedildi: anomaly_detection_results\\mvtec\\carpet\\carpet_mvtec_training_history.png\n",
      "Rekonstrüksiyon başlatılıyor...\n",
      "\u001b[1m4/4\u001b[0m \u001b[32m━━━━━━━━━━━━━━━━━━━━\u001b[0m\u001b[37m\u001b[0m \u001b[1m0s\u001b[0m 107ms/step\n",
      "Anomali eşik değeri (95. yüzdelik): 0.010449\n",
      "Doğruluk (Accuracy): 0.2564\n",
      "Hassasiyet (Precision): 0.6667\n",
      "Duyarlılık (Recall): 0.0449\n",
      "F1 Skoru: 0.0842\n",
      "ROC AUC: 0.3652\n",
      "\n",
      "carpet (mvtec) için analiz sonuçları görselleştiriliyor...\n",
      "Rekonstrüksiyon sonuçları kaydedildi: anomaly_detection_results\\mvtec\\carpet\\carpet_mvtec_reconstruction_results.png\n",
      "Normal örnekler MSE - Min: 0.008851, Max: 0.010913, Ortalama: 0.009711\n",
      "Anomali örnekler MSE - Min: 0.008034, Max: 0.010499, Ortalama: 0.009437\n",
      "MSE karşılaştırma histogramı kaydedildi: anomaly_detection_results\\mvtec\\carpet\\carpet_mvtec_mse_comparison_histogram.png\n",
      "ROC eğrisi kaydedildi: anomaly_detection_results\\mvtec\\carpet\\carpet_mvtec_roc_curve.png\n",
      "Karışıklık matrisi kaydedildi: anomaly_detection_results\\mvtec\\carpet\\carpet_mvtec_confusion_matrix.png\n",
      "color kusur tipi detaylı analizi kaydedildi: anomaly_detection_results\\mvtec\\carpet\\carpet_mvtec_color_detailed_analysis.png\n",
      "thread kusur tipi detaylı analizi kaydedildi: anomaly_detection_results\\mvtec\\carpet\\carpet_mvtec_thread_detailed_analysis.png\n",
      "metal_contamination kusur tipi detaylı analizi kaydedildi: anomaly_detection_results\\mvtec\\carpet\\carpet_mvtec_metal_contamination_detailed_analysis.png\n",
      "hole kusur tipi detaylı analizi kaydedildi: anomaly_detection_results\\mvtec\\carpet\\carpet_mvtec_hole_detailed_analysis.png\n",
      "cut kusur tipi detaylı analizi kaydedildi: anomaly_detection_results\\mvtec\\carpet\\carpet_mvtec_cut_detailed_analysis.png\n",
      "Kusur tipi metrikleri kaydedildi: anomaly_detection_results\\mvtec\\carpet\\carpet_mvtec_defect_type_metrics.png\n",
      "Kusur tipine göre MSE dağılımı kaydedildi: anomaly_detection_results\\mvtec\\carpet\\carpet_mvtec_defect_type_mse_distribution.png\n",
      "Sonuçlar başarıyla kaydedildi: anomaly_detection_results\\mvtec\\carpet\n",
      "MVTec: carpet kategorisi başarıyla işlendi.\n",
      "\n",
      "==================================================\n",
      "İşleniyor: grid (MVTEC veri seti)\n",
      "==================================================\n",
      "Eğitim dizini: C:\\Users\\Tansu\\OneDrive\\Masaüstü\\mvtec\\grid\\train\n",
      "Test dizini: C:\\Users\\Tansu\\OneDrive\\Masaüstü\\mvtec\\grid\\test\n",
      "Eğitim 'good' dizini: C:\\Users\\Tansu\\OneDrive\\Masaüstü\\mvtec\\grid\\train\\good\n",
      "Eğitim 'good' dizinindeki dosya sayısı: 264\n"
     ]
    },
    {
     "name": "stderr",
     "output_type": "stream",
     "text": [
      "grid: Eğitim verilerini yükleme: 100%|██████████| 264/264 [00:03<00:00, 71.20it/s]\n"
     ]
    },
    {
     "name": "stdout",
     "output_type": "stream",
     "text": [
      "Test 'good' dizini: C:\\Users\\Tansu\\OneDrive\\Masaüstü\\mvtec\\grid\\test\\good\n",
      "Test 'good' dizinindeki dosya sayısı: 21\n"
     ]
    },
    {
     "name": "stderr",
     "output_type": "stream",
     "text": [
      "grid: Normal test verilerini yükleme: 100%|██████████| 21/21 [00:00<00:00, 55.60it/s]\n"
     ]
    },
    {
     "name": "stdout",
     "output_type": "stream",
     "text": [
      "Tespit edilen kusur tipleri: ['bent', 'broken', 'glue', 'metal_contamination', 'thread']\n",
      "Kusur dizini: C:\\Users\\Tansu\\OneDrive\\Masaüstü\\mvtec\\grid\\test\\bent\n",
      "Kusur dizinindeki dosya sayısı: 12\n"
     ]
    },
    {
     "name": "stderr",
     "output_type": "stream",
     "text": [
      "grid: bent verilerini yükleme: 100%|██████████| 12/12 [00:00<00:00, 62.61it/s]\n"
     ]
    },
    {
     "name": "stdout",
     "output_type": "stream",
     "text": [
      "Kusur dizini: C:\\Users\\Tansu\\OneDrive\\Masaüstü\\mvtec\\grid\\test\\broken\n",
      "Kusur dizinindeki dosya sayısı: 12\n"
     ]
    },
    {
     "name": "stderr",
     "output_type": "stream",
     "text": [
      "grid: broken verilerini yükleme: 100%|██████████| 12/12 [00:00<00:00, 62.82it/s]\n"
     ]
    },
    {
     "name": "stdout",
     "output_type": "stream",
     "text": [
      "Kusur dizini: C:\\Users\\Tansu\\OneDrive\\Masaüstü\\mvtec\\grid\\test\\glue\n",
      "Kusur dizinindeki dosya sayısı: 11\n"
     ]
    },
    {
     "name": "stderr",
     "output_type": "stream",
     "text": [
      "grid: glue verilerini yükleme: 100%|██████████| 11/11 [00:00<00:00, 66.88it/s]\n"
     ]
    },
    {
     "name": "stdout",
     "output_type": "stream",
     "text": [
      "Kusur dizini: C:\\Users\\Tansu\\OneDrive\\Masaüstü\\mvtec\\grid\\test\\metal_contamination\n",
      "Kusur dizinindeki dosya sayısı: 11\n"
     ]
    },
    {
     "name": "stderr",
     "output_type": "stream",
     "text": [
      "grid: metal_contamination verilerini yükleme: 100%|██████████| 11/11 [00:00<00:00, 62.92it/s]\n"
     ]
    },
    {
     "name": "stdout",
     "output_type": "stream",
     "text": [
      "Kusur dizini: C:\\Users\\Tansu\\OneDrive\\Masaüstü\\mvtec\\grid\\test\\thread\n",
      "Kusur dizinindeki dosya sayısı: 11\n"
     ]
    },
    {
     "name": "stderr",
     "output_type": "stream",
     "text": [
      "grid: thread verilerini yükleme: 100%|██████████| 11/11 [00:00<00:00, 53.78it/s]\n"
     ]
    },
    {
     "name": "stdout",
     "output_type": "stream",
     "text": [
      "Eğitim veriseti: (264, 128, 128) - Min: 32, Max: 238\n",
      "Test veriseti: (78, 128, 128) - Min: 20, Max: 227\n",
      "Test etiketleri: (78,)\n",
      "Anomali sayısı: 57\n",
      "Normal test örneği sayısı: 21\n",
      "\n",
      "grid (mvtec) için görselleştirmeler oluşturuluyor...\n",
      "Görselleştirme kaydedildi: anomaly_detection_results\\mvtec\\grid\\grid_(mvtec)___Eğitim_Örnekleri.png\n",
      "Kusur tipleri karşılaştırması kaydedildi: anomaly_detection_results\\mvtec\\grid\\grid_mvtec_defect_types_comparison.png\n",
      "Normal vs Anomali karşılaştırması kaydedildi: anomaly_detection_results\\mvtec\\grid\\grid_mvtec_normal_vs_anomaly_samples.png\n"
     ]
    },
    {
     "data": {
      "text/html": [
       "<pre style=\"white-space:pre;overflow-x:auto;line-height:normal;font-family:Menlo,'DejaVu Sans Mono',consolas,'Courier New',monospace\"><span style=\"font-weight: bold\">Model: \"functional_8\"</span>\n",
       "</pre>\n"
      ],
      "text/plain": [
       "\u001b[1mModel: \"functional_8\"\u001b[0m\n"
      ]
     },
     "metadata": {},
     "output_type": "display_data"
    },
    {
     "data": {
      "text/html": [
       "<pre style=\"white-space:pre;overflow-x:auto;line-height:normal;font-family:Menlo,'DejaVu Sans Mono',consolas,'Courier New',monospace\">┏━━━━━━━━━━━━━━━━━━━━━━━━━━━━━━━━━┳━━━━━━━━━━━━━━━━━━━━━━━━┳━━━━━━━━━━━━━━━┓\n",
       "┃<span style=\"font-weight: bold\"> Layer (type)                    </span>┃<span style=\"font-weight: bold\"> Output Shape           </span>┃<span style=\"font-weight: bold\">       Param # </span>┃\n",
       "┡━━━━━━━━━━━━━━━━━━━━━━━━━━━━━━━━━╇━━━━━━━━━━━━━━━━━━━━━━━━╇━━━━━━━━━━━━━━━┩\n",
       "│ input_layer (<span style=\"color: #0087ff; text-decoration-color: #0087ff\">InputLayer</span>)        │ (<span style=\"color: #00d7ff; text-decoration-color: #00d7ff\">None</span>, <span style=\"color: #00af00; text-decoration-color: #00af00\">128</span>, <span style=\"color: #00af00; text-decoration-color: #00af00\">128</span>, <span style=\"color: #00af00; text-decoration-color: #00af00\">1</span>)    │             <span style=\"color: #00af00; text-decoration-color: #00af00\">0</span> │\n",
       "├─────────────────────────────────┼────────────────────────┼───────────────┤\n",
       "│ conv2d_40 (<span style=\"color: #0087ff; text-decoration-color: #0087ff\">Conv2D</span>)              │ (<span style=\"color: #00d7ff; text-decoration-color: #00d7ff\">None</span>, <span style=\"color: #00af00; text-decoration-color: #00af00\">128</span>, <span style=\"color: #00af00; text-decoration-color: #00af00\">128</span>, <span style=\"color: #00af00; text-decoration-color: #00af00\">32</span>)   │           <span style=\"color: #00af00; text-decoration-color: #00af00\">320</span> │\n",
       "├─────────────────────────────────┼────────────────────────┼───────────────┤\n",
       "│ max_pooling2d_16 (<span style=\"color: #0087ff; text-decoration-color: #0087ff\">MaxPooling2D</span>) │ (<span style=\"color: #00d7ff; text-decoration-color: #00d7ff\">None</span>, <span style=\"color: #00af00; text-decoration-color: #00af00\">64</span>, <span style=\"color: #00af00; text-decoration-color: #00af00\">64</span>, <span style=\"color: #00af00; text-decoration-color: #00af00\">32</span>)     │             <span style=\"color: #00af00; text-decoration-color: #00af00\">0</span> │\n",
       "├─────────────────────────────────┼────────────────────────┼───────────────┤\n",
       "│ conv2d_41 (<span style=\"color: #0087ff; text-decoration-color: #0087ff\">Conv2D</span>)              │ (<span style=\"color: #00d7ff; text-decoration-color: #00d7ff\">None</span>, <span style=\"color: #00af00; text-decoration-color: #00af00\">64</span>, <span style=\"color: #00af00; text-decoration-color: #00af00\">64</span>, <span style=\"color: #00af00; text-decoration-color: #00af00\">16</span>)     │         <span style=\"color: #00af00; text-decoration-color: #00af00\">4,624</span> │\n",
       "├─────────────────────────────────┼────────────────────────┼───────────────┤\n",
       "│ max_pooling2d_17 (<span style=\"color: #0087ff; text-decoration-color: #0087ff\">MaxPooling2D</span>) │ (<span style=\"color: #00d7ff; text-decoration-color: #00d7ff\">None</span>, <span style=\"color: #00af00; text-decoration-color: #00af00\">32</span>, <span style=\"color: #00af00; text-decoration-color: #00af00\">32</span>, <span style=\"color: #00af00; text-decoration-color: #00af00\">16</span>)     │             <span style=\"color: #00af00; text-decoration-color: #00af00\">0</span> │\n",
       "├─────────────────────────────────┼────────────────────────┼───────────────┤\n",
       "│ conv2d_42 (<span style=\"color: #0087ff; text-decoration-color: #0087ff\">Conv2D</span>)              │ (<span style=\"color: #00d7ff; text-decoration-color: #00d7ff\">None</span>, <span style=\"color: #00af00; text-decoration-color: #00af00\">32</span>, <span style=\"color: #00af00; text-decoration-color: #00af00\">32</span>, <span style=\"color: #00af00; text-decoration-color: #00af00\">16</span>)     │         <span style=\"color: #00af00; text-decoration-color: #00af00\">2,320</span> │\n",
       "├─────────────────────────────────┼────────────────────────┼───────────────┤\n",
       "│ up_sampling2d_16 (<span style=\"color: #0087ff; text-decoration-color: #0087ff\">UpSampling2D</span>) │ (<span style=\"color: #00d7ff; text-decoration-color: #00d7ff\">None</span>, <span style=\"color: #00af00; text-decoration-color: #00af00\">64</span>, <span style=\"color: #00af00; text-decoration-color: #00af00\">64</span>, <span style=\"color: #00af00; text-decoration-color: #00af00\">16</span>)     │             <span style=\"color: #00af00; text-decoration-color: #00af00\">0</span> │\n",
       "├─────────────────────────────────┼────────────────────────┼───────────────┤\n",
       "│ conv2d_43 (<span style=\"color: #0087ff; text-decoration-color: #0087ff\">Conv2D</span>)              │ (<span style=\"color: #00d7ff; text-decoration-color: #00d7ff\">None</span>, <span style=\"color: #00af00; text-decoration-color: #00af00\">64</span>, <span style=\"color: #00af00; text-decoration-color: #00af00\">64</span>, <span style=\"color: #00af00; text-decoration-color: #00af00\">32</span>)     │         <span style=\"color: #00af00; text-decoration-color: #00af00\">4,640</span> │\n",
       "├─────────────────────────────────┼────────────────────────┼───────────────┤\n",
       "│ up_sampling2d_17 (<span style=\"color: #0087ff; text-decoration-color: #0087ff\">UpSampling2D</span>) │ (<span style=\"color: #00d7ff; text-decoration-color: #00d7ff\">None</span>, <span style=\"color: #00af00; text-decoration-color: #00af00\">128</span>, <span style=\"color: #00af00; text-decoration-color: #00af00\">128</span>, <span style=\"color: #00af00; text-decoration-color: #00af00\">32</span>)   │             <span style=\"color: #00af00; text-decoration-color: #00af00\">0</span> │\n",
       "├─────────────────────────────────┼────────────────────────┼───────────────┤\n",
       "│ conv2d_44 (<span style=\"color: #0087ff; text-decoration-color: #0087ff\">Conv2D</span>)              │ (<span style=\"color: #00d7ff; text-decoration-color: #00d7ff\">None</span>, <span style=\"color: #00af00; text-decoration-color: #00af00\">128</span>, <span style=\"color: #00af00; text-decoration-color: #00af00\">128</span>, <span style=\"color: #00af00; text-decoration-color: #00af00\">1</span>)    │           <span style=\"color: #00af00; text-decoration-color: #00af00\">289</span> │\n",
       "└─────────────────────────────────┴────────────────────────┴───────────────┘\n",
       "</pre>\n"
      ],
      "text/plain": [
       "┏━━━━━━━━━━━━━━━━━━━━━━━━━━━━━━━━━┳━━━━━━━━━━━━━━━━━━━━━━━━┳━━━━━━━━━━━━━━━┓\n",
       "┃\u001b[1m \u001b[0m\u001b[1mLayer (type)                   \u001b[0m\u001b[1m \u001b[0m┃\u001b[1m \u001b[0m\u001b[1mOutput Shape          \u001b[0m\u001b[1m \u001b[0m┃\u001b[1m \u001b[0m\u001b[1m      Param #\u001b[0m\u001b[1m \u001b[0m┃\n",
       "┡━━━━━━━━━━━━━━━━━━━━━━━━━━━━━━━━━╇━━━━━━━━━━━━━━━━━━━━━━━━╇━━━━━━━━━━━━━━━┩\n",
       "│ input_layer (\u001b[38;5;33mInputLayer\u001b[0m)        │ (\u001b[38;5;45mNone\u001b[0m, \u001b[38;5;34m128\u001b[0m, \u001b[38;5;34m128\u001b[0m, \u001b[38;5;34m1\u001b[0m)    │             \u001b[38;5;34m0\u001b[0m │\n",
       "├─────────────────────────────────┼────────────────────────┼───────────────┤\n",
       "│ conv2d_40 (\u001b[38;5;33mConv2D\u001b[0m)              │ (\u001b[38;5;45mNone\u001b[0m, \u001b[38;5;34m128\u001b[0m, \u001b[38;5;34m128\u001b[0m, \u001b[38;5;34m32\u001b[0m)   │           \u001b[38;5;34m320\u001b[0m │\n",
       "├─────────────────────────────────┼────────────────────────┼───────────────┤\n",
       "│ max_pooling2d_16 (\u001b[38;5;33mMaxPooling2D\u001b[0m) │ (\u001b[38;5;45mNone\u001b[0m, \u001b[38;5;34m64\u001b[0m, \u001b[38;5;34m64\u001b[0m, \u001b[38;5;34m32\u001b[0m)     │             \u001b[38;5;34m0\u001b[0m │\n",
       "├─────────────────────────────────┼────────────────────────┼───────────────┤\n",
       "│ conv2d_41 (\u001b[38;5;33mConv2D\u001b[0m)              │ (\u001b[38;5;45mNone\u001b[0m, \u001b[38;5;34m64\u001b[0m, \u001b[38;5;34m64\u001b[0m, \u001b[38;5;34m16\u001b[0m)     │         \u001b[38;5;34m4,624\u001b[0m │\n",
       "├─────────────────────────────────┼────────────────────────┼───────────────┤\n",
       "│ max_pooling2d_17 (\u001b[38;5;33mMaxPooling2D\u001b[0m) │ (\u001b[38;5;45mNone\u001b[0m, \u001b[38;5;34m32\u001b[0m, \u001b[38;5;34m32\u001b[0m, \u001b[38;5;34m16\u001b[0m)     │             \u001b[38;5;34m0\u001b[0m │\n",
       "├─────────────────────────────────┼────────────────────────┼───────────────┤\n",
       "│ conv2d_42 (\u001b[38;5;33mConv2D\u001b[0m)              │ (\u001b[38;5;45mNone\u001b[0m, \u001b[38;5;34m32\u001b[0m, \u001b[38;5;34m32\u001b[0m, \u001b[38;5;34m16\u001b[0m)     │         \u001b[38;5;34m2,320\u001b[0m │\n",
       "├─────────────────────────────────┼────────────────────────┼───────────────┤\n",
       "│ up_sampling2d_16 (\u001b[38;5;33mUpSampling2D\u001b[0m) │ (\u001b[38;5;45mNone\u001b[0m, \u001b[38;5;34m64\u001b[0m, \u001b[38;5;34m64\u001b[0m, \u001b[38;5;34m16\u001b[0m)     │             \u001b[38;5;34m0\u001b[0m │\n",
       "├─────────────────────────────────┼────────────────────────┼───────────────┤\n",
       "│ conv2d_43 (\u001b[38;5;33mConv2D\u001b[0m)              │ (\u001b[38;5;45mNone\u001b[0m, \u001b[38;5;34m64\u001b[0m, \u001b[38;5;34m64\u001b[0m, \u001b[38;5;34m32\u001b[0m)     │         \u001b[38;5;34m4,640\u001b[0m │\n",
       "├─────────────────────────────────┼────────────────────────┼───────────────┤\n",
       "│ up_sampling2d_17 (\u001b[38;5;33mUpSampling2D\u001b[0m) │ (\u001b[38;5;45mNone\u001b[0m, \u001b[38;5;34m128\u001b[0m, \u001b[38;5;34m128\u001b[0m, \u001b[38;5;34m32\u001b[0m)   │             \u001b[38;5;34m0\u001b[0m │\n",
       "├─────────────────────────────────┼────────────────────────┼───────────────┤\n",
       "│ conv2d_44 (\u001b[38;5;33mConv2D\u001b[0m)              │ (\u001b[38;5;45mNone\u001b[0m, \u001b[38;5;34m128\u001b[0m, \u001b[38;5;34m128\u001b[0m, \u001b[38;5;34m1\u001b[0m)    │           \u001b[38;5;34m289\u001b[0m │\n",
       "└─────────────────────────────────┴────────────────────────┴───────────────┘\n"
      ]
     },
     "metadata": {},
     "output_type": "display_data"
    },
    {
     "data": {
      "text/html": [
       "<pre style=\"white-space:pre;overflow-x:auto;line-height:normal;font-family:Menlo,'DejaVu Sans Mono',consolas,'Courier New',monospace\"><span style=\"font-weight: bold\"> Total params: </span><span style=\"color: #00af00; text-decoration-color: #00af00\">12,193</span> (47.63 KB)\n",
       "</pre>\n"
      ],
      "text/plain": [
       "\u001b[1m Total params: \u001b[0m\u001b[38;5;34m12,193\u001b[0m (47.63 KB)\n"
      ]
     },
     "metadata": {},
     "output_type": "display_data"
    },
    {
     "data": {
      "text/html": [
       "<pre style=\"white-space:pre;overflow-x:auto;line-height:normal;font-family:Menlo,'DejaVu Sans Mono',consolas,'Courier New',monospace\"><span style=\"font-weight: bold\"> Trainable params: </span><span style=\"color: #00af00; text-decoration-color: #00af00\">12,193</span> (47.63 KB)\n",
       "</pre>\n"
      ],
      "text/plain": [
       "\u001b[1m Trainable params: \u001b[0m\u001b[38;5;34m12,193\u001b[0m (47.63 KB)\n"
      ]
     },
     "metadata": {},
     "output_type": "display_data"
    },
    {
     "data": {
      "text/html": [
       "<pre style=\"white-space:pre;overflow-x:auto;line-height:normal;font-family:Menlo,'DejaVu Sans Mono',consolas,'Courier New',monospace\"><span style=\"font-weight: bold\"> Non-trainable params: </span><span style=\"color: #00af00; text-decoration-color: #00af00\">0</span> (0.00 B)\n",
       "</pre>\n"
      ],
      "text/plain": [
       "\u001b[1m Non-trainable params: \u001b[0m\u001b[38;5;34m0\u001b[0m (0.00 B)\n"
      ]
     },
     "metadata": {},
     "output_type": "display_data"
    },
    {
     "name": "stdout",
     "output_type": "stream",
     "text": [
      "Epoch 1/20\n",
      "\u001b[1m7/7\u001b[0m \u001b[32m━━━━━━━━━━━━━━━━━━━━\u001b[0m\u001b[37m\u001b[0m \u001b[1m0s\u001b[0m 112ms/step - loss: 0.0265\n",
      "Epoch 1: val_loss improved from inf to 0.03163, saving model to anomaly_detection_results\\mvtec\\grid\\grid_mvtec_best_model.keras\n",
      "\u001b[1m7/7\u001b[0m \u001b[32m━━━━━━━━━━━━━━━━━━━━\u001b[0m\u001b[37m\u001b[0m \u001b[1m2s\u001b[0m 179ms/step - loss: 0.0263 - val_loss: 0.0316\n",
      "Epoch 2/20\n",
      "\u001b[1m7/7\u001b[0m \u001b[32m━━━━━━━━━━━━━━━━━━━━\u001b[0m\u001b[37m\u001b[0m \u001b[1m0s\u001b[0m 113ms/step - loss: 0.0235\n",
      "Epoch 2: val_loss improved from 0.03163 to 0.02791, saving model to anomaly_detection_results\\mvtec\\grid\\grid_mvtec_best_model.keras\n",
      "\u001b[1m7/7\u001b[0m \u001b[32m━━━━━━━━━━━━━━━━━━━━\u001b[0m\u001b[37m\u001b[0m \u001b[1m1s\u001b[0m 142ms/step - loss: 0.0235 - val_loss: 0.0279\n",
      "Epoch 3/20\n",
      "\u001b[1m7/7\u001b[0m \u001b[32m━━━━━━━━━━━━━━━━━━━━\u001b[0m\u001b[37m\u001b[0m \u001b[1m0s\u001b[0m 126ms/step - loss: 0.0239\n",
      "Epoch 3: val_loss improved from 0.02791 to 0.02776, saving model to anomaly_detection_results\\mvtec\\grid\\grid_mvtec_best_model.keras\n",
      "\u001b[1m7/7\u001b[0m \u001b[32m━━━━━━━━━━━━━━━━━━━━\u001b[0m\u001b[37m\u001b[0m \u001b[1m1s\u001b[0m 155ms/step - loss: 0.0238 - val_loss: 0.0278\n",
      "Epoch 4/20\n",
      "\u001b[1m7/7\u001b[0m \u001b[32m━━━━━━━━━━━━━━━━━━━━\u001b[0m\u001b[37m\u001b[0m \u001b[1m0s\u001b[0m 115ms/step - loss: 0.0222\n",
      "Epoch 4: val_loss improved from 0.02776 to 0.02607, saving model to anomaly_detection_results\\mvtec\\grid\\grid_mvtec_best_model.keras\n",
      "\u001b[1m7/7\u001b[0m \u001b[32m━━━━━━━━━━━━━━━━━━━━\u001b[0m\u001b[37m\u001b[0m \u001b[1m1s\u001b[0m 144ms/step - loss: 0.0222 - val_loss: 0.0261\n",
      "Epoch 5/20\n",
      "\u001b[1m7/7\u001b[0m \u001b[32m━━━━━━━━━━━━━━━━━━━━\u001b[0m\u001b[37m\u001b[0m \u001b[1m0s\u001b[0m 117ms/step - loss: 0.0210\n",
      "Epoch 5: val_loss improved from 0.02607 to 0.02267, saving model to anomaly_detection_results\\mvtec\\grid\\grid_mvtec_best_model.keras\n",
      "\u001b[1m7/7\u001b[0m \u001b[32m━━━━━━━━━━━━━━━━━━━━\u001b[0m\u001b[37m\u001b[0m \u001b[1m1s\u001b[0m 147ms/step - loss: 0.0209 - val_loss: 0.0227\n",
      "Epoch 6/20\n",
      "\u001b[1m7/7\u001b[0m \u001b[32m━━━━━━━━━━━━━━━━━━━━\u001b[0m\u001b[37m\u001b[0m \u001b[1m0s\u001b[0m 116ms/step - loss: 0.0172\n",
      "Epoch 6: val_loss improved from 0.02267 to 0.01510, saving model to anomaly_detection_results\\mvtec\\grid\\grid_mvtec_best_model.keras\n",
      "\u001b[1m7/7\u001b[0m \u001b[32m━━━━━━━━━━━━━━━━━━━━\u001b[0m\u001b[37m\u001b[0m \u001b[1m1s\u001b[0m 145ms/step - loss: 0.0171 - val_loss: 0.0151\n",
      "Epoch 7/20\n",
      "\u001b[1m7/7\u001b[0m \u001b[32m━━━━━━━━━━━━━━━━━━━━\u001b[0m\u001b[37m\u001b[0m \u001b[1m0s\u001b[0m 118ms/step - loss: 0.0122\n",
      "Epoch 7: val_loss did not improve from 0.01510\n",
      "\u001b[1m7/7\u001b[0m \u001b[32m━━━━━━━━━━━━━━━━━━━━\u001b[0m\u001b[37m\u001b[0m \u001b[1m1s\u001b[0m 142ms/step - loss: 0.0121 - val_loss: 0.0158\n",
      "Epoch 8/20\n",
      "\u001b[1m7/7\u001b[0m \u001b[32m━━━━━━━━━━━━━━━━━━━━\u001b[0m\u001b[37m\u001b[0m \u001b[1m0s\u001b[0m 115ms/step - loss: 0.0105\n",
      "Epoch 8: val_loss improved from 0.01510 to 0.01094, saving model to anomaly_detection_results\\mvtec\\grid\\grid_mvtec_best_model.keras\n",
      "\u001b[1m7/7\u001b[0m \u001b[32m━━━━━━━━━━━━━━━━━━━━\u001b[0m\u001b[37m\u001b[0m \u001b[1m1s\u001b[0m 144ms/step - loss: 0.0104 - val_loss: 0.0109\n",
      "Epoch 9/20\n",
      "\u001b[1m7/7\u001b[0m \u001b[32m━━━━━━━━━━━━━━━━━━━━\u001b[0m\u001b[37m\u001b[0m \u001b[1m0s\u001b[0m 119ms/step - loss: 0.0090\n",
      "Epoch 9: val_loss improved from 0.01094 to 0.00916, saving model to anomaly_detection_results\\mvtec\\grid\\grid_mvtec_best_model.keras\n",
      "\u001b[1m7/7\u001b[0m \u001b[32m━━━━━━━━━━━━━━━━━━━━\u001b[0m\u001b[37m\u001b[0m \u001b[1m1s\u001b[0m 151ms/step - loss: 0.0090 - val_loss: 0.0092\n",
      "Epoch 10/20\n",
      "\u001b[1m7/7\u001b[0m \u001b[32m━━━━━━━━━━━━━━━━━━━━\u001b[0m\u001b[37m\u001b[0m \u001b[1m0s\u001b[0m 121ms/step - loss: 0.0082\n",
      "Epoch 10: val_loss did not improve from 0.00916\n",
      "\u001b[1m7/7\u001b[0m \u001b[32m━━━━━━━━━━━━━━━━━━━━\u001b[0m\u001b[37m\u001b[0m \u001b[1m1s\u001b[0m 144ms/step - loss: 0.0081 - val_loss: 0.0095\n",
      "Epoch 11/20\n",
      "\u001b[1m7/7\u001b[0m \u001b[32m━━━━━━━━━━━━━━━━━━━━\u001b[0m\u001b[37m\u001b[0m \u001b[1m0s\u001b[0m 127ms/step - loss: 0.0076\n",
      "Epoch 11: val_loss improved from 0.00916 to 0.00822, saving model to anomaly_detection_results\\mvtec\\grid\\grid_mvtec_best_model.keras\n",
      "\u001b[1m7/7\u001b[0m \u001b[32m━━━━━━━━━━━━━━━━━━━━\u001b[0m\u001b[37m\u001b[0m \u001b[1m1s\u001b[0m 159ms/step - loss: 0.0076 - val_loss: 0.0082\n",
      "Epoch 12/20\n",
      "\u001b[1m7/7\u001b[0m \u001b[32m━━━━━━━━━━━━━━━━━━━━\u001b[0m\u001b[37m\u001b[0m \u001b[1m0s\u001b[0m 124ms/step - loss: 0.0070\n",
      "Epoch 12: val_loss did not improve from 0.00822\n",
      "\u001b[1m7/7\u001b[0m \u001b[32m━━━━━━━━━━━━━━━━━━━━\u001b[0m\u001b[37m\u001b[0m \u001b[1m1s\u001b[0m 153ms/step - loss: 0.0070 - val_loss: 0.0093\n",
      "Epoch 13/20\n",
      "\u001b[1m7/7\u001b[0m \u001b[32m━━━━━━━━━━━━━━━━━━━━\u001b[0m\u001b[37m\u001b[0m \u001b[1m0s\u001b[0m 123ms/step - loss: 0.0070\n",
      "Epoch 13: val_loss improved from 0.00822 to 0.00779, saving model to anomaly_detection_results\\mvtec\\grid\\grid_mvtec_best_model.keras\n",
      "\u001b[1m7/7\u001b[0m \u001b[32m━━━━━━━━━━━━━━━━━━━━\u001b[0m\u001b[37m\u001b[0m \u001b[1m1s\u001b[0m 164ms/step - loss: 0.0070 - val_loss: 0.0078\n",
      "Epoch 14/20\n",
      "\u001b[1m7/7\u001b[0m \u001b[32m━━━━━━━━━━━━━━━━━━━━\u001b[0m\u001b[37m\u001b[0m \u001b[1m0s\u001b[0m 122ms/step - loss: 0.0067\n",
      "Epoch 14: val_loss improved from 0.00779 to 0.00736, saving model to anomaly_detection_results\\mvtec\\grid\\grid_mvtec_best_model.keras\n",
      "\u001b[1m7/7\u001b[0m \u001b[32m━━━━━━━━━━━━━━━━━━━━\u001b[0m\u001b[37m\u001b[0m \u001b[1m1s\u001b[0m 152ms/step - loss: 0.0067 - val_loss: 0.0074\n",
      "Epoch 15/20\n",
      "\u001b[1m7/7\u001b[0m \u001b[32m━━━━━━━━━━━━━━━━━━━━\u001b[0m\u001b[37m\u001b[0m \u001b[1m0s\u001b[0m 126ms/step - loss: 0.0064\n",
      "Epoch 15: val_loss did not improve from 0.00736\n",
      "\u001b[1m7/7\u001b[0m \u001b[32m━━━━━━━━━━━━━━━━━━━━\u001b[0m\u001b[37m\u001b[0m \u001b[1m1s\u001b[0m 151ms/step - loss: 0.0064 - val_loss: 0.0075\n",
      "Epoch 16/20\n",
      "\u001b[1m7/7\u001b[0m \u001b[32m━━━━━━━━━━━━━━━━━━━━\u001b[0m\u001b[37m\u001b[0m \u001b[1m0s\u001b[0m 122ms/step - loss: 0.0062\n",
      "Epoch 16: val_loss improved from 0.00736 to 0.00705, saving model to anomaly_detection_results\\mvtec\\grid\\grid_mvtec_best_model.keras\n",
      "\u001b[1m7/7\u001b[0m \u001b[32m━━━━━━━━━━━━━━━━━━━━\u001b[0m\u001b[37m\u001b[0m \u001b[1m1s\u001b[0m 153ms/step - loss: 0.0062 - val_loss: 0.0070\n",
      "Epoch 17/20\n",
      "\u001b[1m7/7\u001b[0m \u001b[32m━━━━━━━━━━━━━━━━━━━━\u001b[0m\u001b[37m\u001b[0m \u001b[1m0s\u001b[0m 125ms/step - loss: 0.0059\n",
      "Epoch 17: val_loss did not improve from 0.00705\n",
      "\u001b[1m7/7\u001b[0m \u001b[32m━━━━━━━━━━━━━━━━━━━━\u001b[0m\u001b[37m\u001b[0m \u001b[1m1s\u001b[0m 154ms/step - loss: 0.0059 - val_loss: 0.0072\n",
      "Epoch 18/20\n",
      "\u001b[1m7/7\u001b[0m \u001b[32m━━━━━━━━━━━━━━━━━━━━\u001b[0m\u001b[37m\u001b[0m \u001b[1m0s\u001b[0m 129ms/step - loss: 0.0060\n",
      "Epoch 18: val_loss improved from 0.00705 to 0.00682, saving model to anomaly_detection_results\\mvtec\\grid\\grid_mvtec_best_model.keras\n",
      "\u001b[1m7/7\u001b[0m \u001b[32m━━━━━━━━━━━━━━━━━━━━\u001b[0m\u001b[37m\u001b[0m \u001b[1m1s\u001b[0m 162ms/step - loss: 0.0060 - val_loss: 0.0068\n",
      "Epoch 19/20\n",
      "\u001b[1m7/7\u001b[0m \u001b[32m━━━━━━━━━━━━━━━━━━━━\u001b[0m\u001b[37m\u001b[0m \u001b[1m0s\u001b[0m 127ms/step - loss: 0.0057\n",
      "Epoch 19: val_loss did not improve from 0.00682\n",
      "\u001b[1m7/7\u001b[0m \u001b[32m━━━━━━━━━━━━━━━━━━━━\u001b[0m\u001b[37m\u001b[0m \u001b[1m1s\u001b[0m 154ms/step - loss: 0.0057 - val_loss: 0.0068\n",
      "Epoch 20/20\n",
      "\u001b[1m7/7\u001b[0m \u001b[32m━━━━━━━━━━━━━━━━━━━━\u001b[0m\u001b[37m\u001b[0m \u001b[1m0s\u001b[0m 134ms/step - loss: 0.0058\n",
      "Epoch 20: val_loss improved from 0.00682 to 0.00663, saving model to anomaly_detection_results\\mvtec\\grid\\grid_mvtec_best_model.keras\n",
      "\u001b[1m7/7\u001b[0m \u001b[32m━━━━━━━━━━━━━━━━━━━━\u001b[0m\u001b[37m\u001b[0m \u001b[1m1s\u001b[0m 170ms/step - loss: 0.0058 - val_loss: 0.0066\n",
      "Eğitim tamamlandı. Süre: 22.52 saniye\n",
      "En iyi model yüklendi: anomaly_detection_results\\mvtec\\grid\\grid_mvtec_best_model.keras\n",
      "Eğitim geçmişi grafiği kaydedildi: anomaly_detection_results\\mvtec\\grid\\grid_mvtec_training_history.png\n",
      "Rekonstrüksiyon başlatılıyor...\n",
      "\u001b[1m3/3\u001b[0m \u001b[32m━━━━━━━━━━━━━━━━━━━━\u001b[0m\u001b[37m\u001b[0m \u001b[1m0s\u001b[0m 100ms/step\n",
      "Anomali eşik değeri (95. yüzdelik): 0.008181\n",
      "Doğruluk (Accuracy): 0.3205\n",
      "Hassasiyet (Precision): 1.0000\n",
      "Duyarlılık (Recall): 0.0702\n",
      "F1 Skoru: 0.1311\n",
      "ROC AUC: 0.7519\n",
      "\n",
      "grid (mvtec) için analiz sonuçları görselleştiriliyor...\n",
      "Rekonstrüksiyon sonuçları kaydedildi: anomaly_detection_results\\mvtec\\grid\\grid_mvtec_reconstruction_results.png\n",
      "Normal örnekler MSE - Min: 0.002786, Max: 0.006879, Ortalama: 0.004482\n",
      "Anomali örnekler MSE - Min: 0.003146, Max: 0.009502, Ortalama: 0.005839\n",
      "MSE karşılaştırma histogramı kaydedildi: anomaly_detection_results\\mvtec\\grid\\grid_mvtec_mse_comparison_histogram.png\n",
      "ROC eğrisi kaydedildi: anomaly_detection_results\\mvtec\\grid\\grid_mvtec_roc_curve.png\n",
      "Karışıklık matrisi kaydedildi: anomaly_detection_results\\mvtec\\grid\\grid_mvtec_confusion_matrix.png\n",
      "bent kusur tipi detaylı analizi kaydedildi: anomaly_detection_results\\mvtec\\grid\\grid_mvtec_bent_detailed_analysis.png\n",
      "glue kusur tipi detaylı analizi kaydedildi: anomaly_detection_results\\mvtec\\grid\\grid_mvtec_glue_detailed_analysis.png\n",
      "thread kusur tipi detaylı analizi kaydedildi: anomaly_detection_results\\mvtec\\grid\\grid_mvtec_thread_detailed_analysis.png\n",
      "metal_contamination kusur tipi detaylı analizi kaydedildi: anomaly_detection_results\\mvtec\\grid\\grid_mvtec_metal_contamination_detailed_analysis.png\n",
      "broken kusur tipi detaylı analizi kaydedildi: anomaly_detection_results\\mvtec\\grid\\grid_mvtec_broken_detailed_analysis.png\n",
      "Kusur tipi metrikleri kaydedildi: anomaly_detection_results\\mvtec\\grid\\grid_mvtec_defect_type_metrics.png\n",
      "Kusur tipine göre MSE dağılımı kaydedildi: anomaly_detection_results\\mvtec\\grid\\grid_mvtec_defect_type_mse_distribution.png\n",
      "Sonuçlar başarıyla kaydedildi: anomaly_detection_results\\mvtec\\grid\n",
      "MVTec: grid kategorisi başarıyla işlendi.\n",
      "\n",
      "==================================================\n",
      "İşleniyor: tile (MVTEC veri seti)\n",
      "==================================================\n",
      "Eğitim dizini: C:\\Users\\Tansu\\OneDrive\\Masaüstü\\mvtec\\tile\\train\n",
      "Test dizini: C:\\Users\\Tansu\\OneDrive\\Masaüstü\\mvtec\\tile\\test\n",
      "Eğitim 'good' dizini: C:\\Users\\Tansu\\OneDrive\\Masaüstü\\mvtec\\tile\\train\\good\n",
      "Eğitim 'good' dizinindeki dosya sayısı: 230\n"
     ]
    },
    {
     "name": "stderr",
     "output_type": "stream",
     "text": [
      "tile: Eğitim verilerini yükleme: 100%|██████████| 230/230 [00:06<00:00, 37.47it/s]\n"
     ]
    },
    {
     "name": "stdout",
     "output_type": "stream",
     "text": [
      "Test 'good' dizini: C:\\Users\\Tansu\\OneDrive\\Masaüstü\\mvtec\\tile\\test\\good\n",
      "Test 'good' dizinindeki dosya sayısı: 33\n"
     ]
    },
    {
     "name": "stderr",
     "output_type": "stream",
     "text": [
      "tile: Normal test verilerini yükleme: 100%|██████████| 33/33 [00:00<00:00, 36.31it/s]\n"
     ]
    },
    {
     "name": "stdout",
     "output_type": "stream",
     "text": [
      "Tespit edilen kusur tipleri: ['crack', 'glue_strip', 'gray_stroke', 'oil', 'rough']\n",
      "Kusur dizini: C:\\Users\\Tansu\\OneDrive\\Masaüstü\\mvtec\\tile\\test\\crack\n",
      "Kusur dizinindeki dosya sayısı: 17\n"
     ]
    },
    {
     "name": "stderr",
     "output_type": "stream",
     "text": [
      "tile: crack verilerini yükleme: 100%|██████████| 17/17 [00:00<00:00, 37.13it/s]\n"
     ]
    },
    {
     "name": "stdout",
     "output_type": "stream",
     "text": [
      "Kusur dizini: C:\\Users\\Tansu\\OneDrive\\Masaüstü\\mvtec\\tile\\test\\glue_strip\n",
      "Kusur dizinindeki dosya sayısı: 18\n"
     ]
    },
    {
     "name": "stderr",
     "output_type": "stream",
     "text": [
      "tile: glue_strip verilerini yükleme: 100%|██████████| 18/18 [00:00<00:00, 34.71it/s]\n"
     ]
    },
    {
     "name": "stdout",
     "output_type": "stream",
     "text": [
      "Kusur dizini: C:\\Users\\Tansu\\OneDrive\\Masaüstü\\mvtec\\tile\\test\\gray_stroke\n",
      "Kusur dizinindeki dosya sayısı: 16\n"
     ]
    },
    {
     "name": "stderr",
     "output_type": "stream",
     "text": [
      "tile: gray_stroke verilerini yükleme: 100%|██████████| 16/16 [00:00<00:00, 38.06it/s]\n"
     ]
    },
    {
     "name": "stdout",
     "output_type": "stream",
     "text": [
      "Kusur dizini: C:\\Users\\Tansu\\OneDrive\\Masaüstü\\mvtec\\tile\\test\\oil\n",
      "Kusur dizinindeki dosya sayısı: 18\n"
     ]
    },
    {
     "name": "stderr",
     "output_type": "stream",
     "text": [
      "tile: oil verilerini yükleme: 100%|██████████| 18/18 [00:00<00:00, 40.50it/s]\n"
     ]
    },
    {
     "name": "stdout",
     "output_type": "stream",
     "text": [
      "Kusur dizini: C:\\Users\\Tansu\\OneDrive\\Masaüstü\\mvtec\\tile\\test\\rough\n",
      "Kusur dizinindeki dosya sayısı: 15\n"
     ]
    },
    {
     "name": "stderr",
     "output_type": "stream",
     "text": [
      "tile: rough verilerini yükleme: 100%|██████████| 15/15 [00:00<00:00, 39.87it/s]\n"
     ]
    },
    {
     "name": "stdout",
     "output_type": "stream",
     "text": [
      "Eğitim veriseti: (230, 128, 128) - Min: 43, Max: 254\n",
      "Test veriseti: (117, 128, 128) - Min: 9, Max: 255\n",
      "Test etiketleri: (117,)\n",
      "Anomali sayısı: 84\n",
      "Normal test örneği sayısı: 33\n",
      "\n",
      "tile (mvtec) için görselleştirmeler oluşturuluyor...\n",
      "Görselleştirme kaydedildi: anomaly_detection_results\\mvtec\\tile\\tile_(mvtec)___Eğitim_Örnekleri.png\n",
      "Kusur tipleri karşılaştırması kaydedildi: anomaly_detection_results\\mvtec\\tile\\tile_mvtec_defect_types_comparison.png\n",
      "Normal vs Anomali karşılaştırması kaydedildi: anomaly_detection_results\\mvtec\\tile\\tile_mvtec_normal_vs_anomaly_samples.png\n"
     ]
    },
    {
     "data": {
      "text/html": [
       "<pre style=\"white-space:pre;overflow-x:auto;line-height:normal;font-family:Menlo,'DejaVu Sans Mono',consolas,'Courier New',monospace\"><span style=\"font-weight: bold\">Model: \"functional_9\"</span>\n",
       "</pre>\n"
      ],
      "text/plain": [
       "\u001b[1mModel: \"functional_9\"\u001b[0m\n"
      ]
     },
     "metadata": {},
     "output_type": "display_data"
    },
    {
     "data": {
      "text/html": [
       "<pre style=\"white-space:pre;overflow-x:auto;line-height:normal;font-family:Menlo,'DejaVu Sans Mono',consolas,'Courier New',monospace\">┏━━━━━━━━━━━━━━━━━━━━━━━━━━━━━━━━━┳━━━━━━━━━━━━━━━━━━━━━━━━┳━━━━━━━━━━━━━━━┓\n",
       "┃<span style=\"font-weight: bold\"> Layer (type)                    </span>┃<span style=\"font-weight: bold\"> Output Shape           </span>┃<span style=\"font-weight: bold\">       Param # </span>┃\n",
       "┡━━━━━━━━━━━━━━━━━━━━━━━━━━━━━━━━━╇━━━━━━━━━━━━━━━━━━━━━━━━╇━━━━━━━━━━━━━━━┩\n",
       "│ input_layer (<span style=\"color: #0087ff; text-decoration-color: #0087ff\">InputLayer</span>)        │ (<span style=\"color: #00d7ff; text-decoration-color: #00d7ff\">None</span>, <span style=\"color: #00af00; text-decoration-color: #00af00\">128</span>, <span style=\"color: #00af00; text-decoration-color: #00af00\">128</span>, <span style=\"color: #00af00; text-decoration-color: #00af00\">1</span>)    │             <span style=\"color: #00af00; text-decoration-color: #00af00\">0</span> │\n",
       "├─────────────────────────────────┼────────────────────────┼───────────────┤\n",
       "│ conv2d_45 (<span style=\"color: #0087ff; text-decoration-color: #0087ff\">Conv2D</span>)              │ (<span style=\"color: #00d7ff; text-decoration-color: #00d7ff\">None</span>, <span style=\"color: #00af00; text-decoration-color: #00af00\">128</span>, <span style=\"color: #00af00; text-decoration-color: #00af00\">128</span>, <span style=\"color: #00af00; text-decoration-color: #00af00\">32</span>)   │           <span style=\"color: #00af00; text-decoration-color: #00af00\">320</span> │\n",
       "├─────────────────────────────────┼────────────────────────┼───────────────┤\n",
       "│ max_pooling2d_18 (<span style=\"color: #0087ff; text-decoration-color: #0087ff\">MaxPooling2D</span>) │ (<span style=\"color: #00d7ff; text-decoration-color: #00d7ff\">None</span>, <span style=\"color: #00af00; text-decoration-color: #00af00\">64</span>, <span style=\"color: #00af00; text-decoration-color: #00af00\">64</span>, <span style=\"color: #00af00; text-decoration-color: #00af00\">32</span>)     │             <span style=\"color: #00af00; text-decoration-color: #00af00\">0</span> │\n",
       "├─────────────────────────────────┼────────────────────────┼───────────────┤\n",
       "│ conv2d_46 (<span style=\"color: #0087ff; text-decoration-color: #0087ff\">Conv2D</span>)              │ (<span style=\"color: #00d7ff; text-decoration-color: #00d7ff\">None</span>, <span style=\"color: #00af00; text-decoration-color: #00af00\">64</span>, <span style=\"color: #00af00; text-decoration-color: #00af00\">64</span>, <span style=\"color: #00af00; text-decoration-color: #00af00\">16</span>)     │         <span style=\"color: #00af00; text-decoration-color: #00af00\">4,624</span> │\n",
       "├─────────────────────────────────┼────────────────────────┼───────────────┤\n",
       "│ max_pooling2d_19 (<span style=\"color: #0087ff; text-decoration-color: #0087ff\">MaxPooling2D</span>) │ (<span style=\"color: #00d7ff; text-decoration-color: #00d7ff\">None</span>, <span style=\"color: #00af00; text-decoration-color: #00af00\">32</span>, <span style=\"color: #00af00; text-decoration-color: #00af00\">32</span>, <span style=\"color: #00af00; text-decoration-color: #00af00\">16</span>)     │             <span style=\"color: #00af00; text-decoration-color: #00af00\">0</span> │\n",
       "├─────────────────────────────────┼────────────────────────┼───────────────┤\n",
       "│ conv2d_47 (<span style=\"color: #0087ff; text-decoration-color: #0087ff\">Conv2D</span>)              │ (<span style=\"color: #00d7ff; text-decoration-color: #00d7ff\">None</span>, <span style=\"color: #00af00; text-decoration-color: #00af00\">32</span>, <span style=\"color: #00af00; text-decoration-color: #00af00\">32</span>, <span style=\"color: #00af00; text-decoration-color: #00af00\">16</span>)     │         <span style=\"color: #00af00; text-decoration-color: #00af00\">2,320</span> │\n",
       "├─────────────────────────────────┼────────────────────────┼───────────────┤\n",
       "│ up_sampling2d_18 (<span style=\"color: #0087ff; text-decoration-color: #0087ff\">UpSampling2D</span>) │ (<span style=\"color: #00d7ff; text-decoration-color: #00d7ff\">None</span>, <span style=\"color: #00af00; text-decoration-color: #00af00\">64</span>, <span style=\"color: #00af00; text-decoration-color: #00af00\">64</span>, <span style=\"color: #00af00; text-decoration-color: #00af00\">16</span>)     │             <span style=\"color: #00af00; text-decoration-color: #00af00\">0</span> │\n",
       "├─────────────────────────────────┼────────────────────────┼───────────────┤\n",
       "│ conv2d_48 (<span style=\"color: #0087ff; text-decoration-color: #0087ff\">Conv2D</span>)              │ (<span style=\"color: #00d7ff; text-decoration-color: #00d7ff\">None</span>, <span style=\"color: #00af00; text-decoration-color: #00af00\">64</span>, <span style=\"color: #00af00; text-decoration-color: #00af00\">64</span>, <span style=\"color: #00af00; text-decoration-color: #00af00\">32</span>)     │         <span style=\"color: #00af00; text-decoration-color: #00af00\">4,640</span> │\n",
       "├─────────────────────────────────┼────────────────────────┼───────────────┤\n",
       "│ up_sampling2d_19 (<span style=\"color: #0087ff; text-decoration-color: #0087ff\">UpSampling2D</span>) │ (<span style=\"color: #00d7ff; text-decoration-color: #00d7ff\">None</span>, <span style=\"color: #00af00; text-decoration-color: #00af00\">128</span>, <span style=\"color: #00af00; text-decoration-color: #00af00\">128</span>, <span style=\"color: #00af00; text-decoration-color: #00af00\">32</span>)   │             <span style=\"color: #00af00; text-decoration-color: #00af00\">0</span> │\n",
       "├─────────────────────────────────┼────────────────────────┼───────────────┤\n",
       "│ conv2d_49 (<span style=\"color: #0087ff; text-decoration-color: #0087ff\">Conv2D</span>)              │ (<span style=\"color: #00d7ff; text-decoration-color: #00d7ff\">None</span>, <span style=\"color: #00af00; text-decoration-color: #00af00\">128</span>, <span style=\"color: #00af00; text-decoration-color: #00af00\">128</span>, <span style=\"color: #00af00; text-decoration-color: #00af00\">1</span>)    │           <span style=\"color: #00af00; text-decoration-color: #00af00\">289</span> │\n",
       "└─────────────────────────────────┴────────────────────────┴───────────────┘\n",
       "</pre>\n"
      ],
      "text/plain": [
       "┏━━━━━━━━━━━━━━━━━━━━━━━━━━━━━━━━━┳━━━━━━━━━━━━━━━━━━━━━━━━┳━━━━━━━━━━━━━━━┓\n",
       "┃\u001b[1m \u001b[0m\u001b[1mLayer (type)                   \u001b[0m\u001b[1m \u001b[0m┃\u001b[1m \u001b[0m\u001b[1mOutput Shape          \u001b[0m\u001b[1m \u001b[0m┃\u001b[1m \u001b[0m\u001b[1m      Param #\u001b[0m\u001b[1m \u001b[0m┃\n",
       "┡━━━━━━━━━━━━━━━━━━━━━━━━━━━━━━━━━╇━━━━━━━━━━━━━━━━━━━━━━━━╇━━━━━━━━━━━━━━━┩\n",
       "│ input_layer (\u001b[38;5;33mInputLayer\u001b[0m)        │ (\u001b[38;5;45mNone\u001b[0m, \u001b[38;5;34m128\u001b[0m, \u001b[38;5;34m128\u001b[0m, \u001b[38;5;34m1\u001b[0m)    │             \u001b[38;5;34m0\u001b[0m │\n",
       "├─────────────────────────────────┼────────────────────────┼───────────────┤\n",
       "│ conv2d_45 (\u001b[38;5;33mConv2D\u001b[0m)              │ (\u001b[38;5;45mNone\u001b[0m, \u001b[38;5;34m128\u001b[0m, \u001b[38;5;34m128\u001b[0m, \u001b[38;5;34m32\u001b[0m)   │           \u001b[38;5;34m320\u001b[0m │\n",
       "├─────────────────────────────────┼────────────────────────┼───────────────┤\n",
       "│ max_pooling2d_18 (\u001b[38;5;33mMaxPooling2D\u001b[0m) │ (\u001b[38;5;45mNone\u001b[0m, \u001b[38;5;34m64\u001b[0m, \u001b[38;5;34m64\u001b[0m, \u001b[38;5;34m32\u001b[0m)     │             \u001b[38;5;34m0\u001b[0m │\n",
       "├─────────────────────────────────┼────────────────────────┼───────────────┤\n",
       "│ conv2d_46 (\u001b[38;5;33mConv2D\u001b[0m)              │ (\u001b[38;5;45mNone\u001b[0m, \u001b[38;5;34m64\u001b[0m, \u001b[38;5;34m64\u001b[0m, \u001b[38;5;34m16\u001b[0m)     │         \u001b[38;5;34m4,624\u001b[0m │\n",
       "├─────────────────────────────────┼────────────────────────┼───────────────┤\n",
       "│ max_pooling2d_19 (\u001b[38;5;33mMaxPooling2D\u001b[0m) │ (\u001b[38;5;45mNone\u001b[0m, \u001b[38;5;34m32\u001b[0m, \u001b[38;5;34m32\u001b[0m, \u001b[38;5;34m16\u001b[0m)     │             \u001b[38;5;34m0\u001b[0m │\n",
       "├─────────────────────────────────┼────────────────────────┼───────────────┤\n",
       "│ conv2d_47 (\u001b[38;5;33mConv2D\u001b[0m)              │ (\u001b[38;5;45mNone\u001b[0m, \u001b[38;5;34m32\u001b[0m, \u001b[38;5;34m32\u001b[0m, \u001b[38;5;34m16\u001b[0m)     │         \u001b[38;5;34m2,320\u001b[0m │\n",
       "├─────────────────────────────────┼────────────────────────┼───────────────┤\n",
       "│ up_sampling2d_18 (\u001b[38;5;33mUpSampling2D\u001b[0m) │ (\u001b[38;5;45mNone\u001b[0m, \u001b[38;5;34m64\u001b[0m, \u001b[38;5;34m64\u001b[0m, \u001b[38;5;34m16\u001b[0m)     │             \u001b[38;5;34m0\u001b[0m │\n",
       "├─────────────────────────────────┼────────────────────────┼───────────────┤\n",
       "│ conv2d_48 (\u001b[38;5;33mConv2D\u001b[0m)              │ (\u001b[38;5;45mNone\u001b[0m, \u001b[38;5;34m64\u001b[0m, \u001b[38;5;34m64\u001b[0m, \u001b[38;5;34m32\u001b[0m)     │         \u001b[38;5;34m4,640\u001b[0m │\n",
       "├─────────────────────────────────┼────────────────────────┼───────────────┤\n",
       "│ up_sampling2d_19 (\u001b[38;5;33mUpSampling2D\u001b[0m) │ (\u001b[38;5;45mNone\u001b[0m, \u001b[38;5;34m128\u001b[0m, \u001b[38;5;34m128\u001b[0m, \u001b[38;5;34m32\u001b[0m)   │             \u001b[38;5;34m0\u001b[0m │\n",
       "├─────────────────────────────────┼────────────────────────┼───────────────┤\n",
       "│ conv2d_49 (\u001b[38;5;33mConv2D\u001b[0m)              │ (\u001b[38;5;45mNone\u001b[0m, \u001b[38;5;34m128\u001b[0m, \u001b[38;5;34m128\u001b[0m, \u001b[38;5;34m1\u001b[0m)    │           \u001b[38;5;34m289\u001b[0m │\n",
       "└─────────────────────────────────┴────────────────────────┴───────────────┘\n"
      ]
     },
     "metadata": {},
     "output_type": "display_data"
    },
    {
     "data": {
      "text/html": [
       "<pre style=\"white-space:pre;overflow-x:auto;line-height:normal;font-family:Menlo,'DejaVu Sans Mono',consolas,'Courier New',monospace\"><span style=\"font-weight: bold\"> Total params: </span><span style=\"color: #00af00; text-decoration-color: #00af00\">12,193</span> (47.63 KB)\n",
       "</pre>\n"
      ],
      "text/plain": [
       "\u001b[1m Total params: \u001b[0m\u001b[38;5;34m12,193\u001b[0m (47.63 KB)\n"
      ]
     },
     "metadata": {},
     "output_type": "display_data"
    },
    {
     "data": {
      "text/html": [
       "<pre style=\"white-space:pre;overflow-x:auto;line-height:normal;font-family:Menlo,'DejaVu Sans Mono',consolas,'Courier New',monospace\"><span style=\"font-weight: bold\"> Trainable params: </span><span style=\"color: #00af00; text-decoration-color: #00af00\">12,193</span> (47.63 KB)\n",
       "</pre>\n"
      ],
      "text/plain": [
       "\u001b[1m Trainable params: \u001b[0m\u001b[38;5;34m12,193\u001b[0m (47.63 KB)\n"
      ]
     },
     "metadata": {},
     "output_type": "display_data"
    },
    {
     "data": {
      "text/html": [
       "<pre style=\"white-space:pre;overflow-x:auto;line-height:normal;font-family:Menlo,'DejaVu Sans Mono',consolas,'Courier New',monospace\"><span style=\"font-weight: bold\"> Non-trainable params: </span><span style=\"color: #00af00; text-decoration-color: #00af00\">0</span> (0.00 B)\n",
       "</pre>\n"
      ],
      "text/plain": [
       "\u001b[1m Non-trainable params: \u001b[0m\u001b[38;5;34m0\u001b[0m (0.00 B)\n"
      ]
     },
     "metadata": {},
     "output_type": "display_data"
    },
    {
     "name": "stdout",
     "output_type": "stream",
     "text": [
      "Epoch 1/20\n",
      "\u001b[1m6/6\u001b[0m \u001b[32m━━━━━━━━━━━━━━━━━━━━\u001b[0m\u001b[37m\u001b[0m \u001b[1m0s\u001b[0m 115ms/step - loss: 0.0160\n",
      "Epoch 1: val_loss improved from inf to 0.01609, saving model to anomaly_detection_results\\mvtec\\tile\\tile_mvtec_best_model.keras\n",
      "\u001b[1m6/6\u001b[0m \u001b[32m━━━━━━━━━━━━━━━━━━━━\u001b[0m\u001b[37m\u001b[0m \u001b[1m2s\u001b[0m 193ms/step - loss: 0.0160 - val_loss: 0.0161\n",
      "Epoch 2/20\n",
      "\u001b[1m6/6\u001b[0m \u001b[32m━━━━━━━━━━━━━━━━━━━━\u001b[0m\u001b[37m\u001b[0m \u001b[1m0s\u001b[0m 118ms/step - loss: 0.0153\n",
      "Epoch 2: val_loss improved from 0.01609 to 0.01587, saving model to anomaly_detection_results\\mvtec\\tile\\tile_mvtec_best_model.keras\n",
      "\u001b[1m6/6\u001b[0m \u001b[32m━━━━━━━━━━━━━━━━━━━━\u001b[0m\u001b[37m\u001b[0m \u001b[1m1s\u001b[0m 151ms/step - loss: 0.0153 - val_loss: 0.0159\n",
      "Epoch 3/20\n",
      "\u001b[1m6/6\u001b[0m \u001b[32m━━━━━━━━━━━━━━━━━━━━\u001b[0m\u001b[37m\u001b[0m \u001b[1m0s\u001b[0m 117ms/step - loss: 0.0149\n",
      "Epoch 3: val_loss improved from 0.01587 to 0.01527, saving model to anomaly_detection_results\\mvtec\\tile\\tile_mvtec_best_model.keras\n",
      "\u001b[1m6/6\u001b[0m \u001b[32m━━━━━━━━━━━━━━━━━━━━\u001b[0m\u001b[37m\u001b[0m \u001b[1m1s\u001b[0m 151ms/step - loss: 0.0149 - val_loss: 0.0153\n",
      "Epoch 4/20\n",
      "\u001b[1m6/6\u001b[0m \u001b[32m━━━━━━━━━━━━━━━━━━━━\u001b[0m\u001b[37m\u001b[0m \u001b[1m0s\u001b[0m 119ms/step - loss: 0.0144\n",
      "Epoch 4: val_loss improved from 0.01527 to 0.01454, saving model to anomaly_detection_results\\mvtec\\tile\\tile_mvtec_best_model.keras\n",
      "\u001b[1m6/6\u001b[0m \u001b[32m━━━━━━━━━━━━━━━━━━━━\u001b[0m\u001b[37m\u001b[0m \u001b[1m1s\u001b[0m 152ms/step - loss: 0.0143 - val_loss: 0.0145\n",
      "Epoch 5/20\n",
      "\u001b[1m6/6\u001b[0m \u001b[32m━━━━━━━━━━━━━━━━━━━━\u001b[0m\u001b[37m\u001b[0m \u001b[1m0s\u001b[0m 122ms/step - loss: 0.0133\n",
      "Epoch 5: val_loss improved from 0.01454 to 0.01293, saving model to anomaly_detection_results\\mvtec\\tile\\tile_mvtec_best_model.keras\n",
      "\u001b[1m6/6\u001b[0m \u001b[32m━━━━━━━━━━━━━━━━━━━━\u001b[0m\u001b[37m\u001b[0m \u001b[1m1s\u001b[0m 157ms/step - loss: 0.0133 - val_loss: 0.0129\n",
      "Epoch 6/20\n",
      "\u001b[1m6/6\u001b[0m \u001b[32m━━━━━━━━━━━━━━━━━━━━\u001b[0m\u001b[37m\u001b[0m \u001b[1m0s\u001b[0m 118ms/step - loss: 0.0116\n",
      "Epoch 6: val_loss improved from 0.01293 to 0.01149, saving model to anomaly_detection_results\\mvtec\\tile\\tile_mvtec_best_model.keras\n",
      "\u001b[1m6/6\u001b[0m \u001b[32m━━━━━━━━━━━━━━━━━━━━\u001b[0m\u001b[37m\u001b[0m \u001b[1m1s\u001b[0m 152ms/step - loss: 0.0116 - val_loss: 0.0115\n",
      "Epoch 7/20\n",
      "\u001b[1m6/6\u001b[0m \u001b[32m━━━━━━━━━━━━━━━━━━━━\u001b[0m\u001b[37m\u001b[0m \u001b[1m0s\u001b[0m 122ms/step - loss: 0.0106\n",
      "Epoch 7: val_loss improved from 0.01149 to 0.01013, saving model to anomaly_detection_results\\mvtec\\tile\\tile_mvtec_best_model.keras\n",
      "\u001b[1m6/6\u001b[0m \u001b[32m━━━━━━━━━━━━━━━━━━━━\u001b[0m\u001b[37m\u001b[0m \u001b[1m1s\u001b[0m 157ms/step - loss: 0.0105 - val_loss: 0.0101\n",
      "Epoch 8/20\n",
      "\u001b[1m6/6\u001b[0m \u001b[32m━━━━━━━━━━━━━━━━━━━━\u001b[0m\u001b[37m\u001b[0m \u001b[1m0s\u001b[0m 118ms/step - loss: 0.0092\n",
      "Epoch 8: val_loss improved from 0.01013 to 0.00895, saving model to anomaly_detection_results\\mvtec\\tile\\tile_mvtec_best_model.keras\n",
      "\u001b[1m6/6\u001b[0m \u001b[32m━━━━━━━━━━━━━━━━━━━━\u001b[0m\u001b[37m\u001b[0m \u001b[1m1s\u001b[0m 152ms/step - loss: 0.0092 - val_loss: 0.0090\n",
      "Epoch 9/20\n",
      "\u001b[1m6/6\u001b[0m \u001b[32m━━━━━━━━━━━━━━━━━━━━\u001b[0m\u001b[37m\u001b[0m \u001b[1m0s\u001b[0m 120ms/step - loss: 0.0084\n",
      "Epoch 9: val_loss did not improve from 0.00895\n",
      "\u001b[1m6/6\u001b[0m \u001b[32m━━━━━━━━━━━━━━━━━━━━\u001b[0m\u001b[37m\u001b[0m \u001b[1m1s\u001b[0m 146ms/step - loss: 0.0084 - val_loss: 0.0097\n",
      "Epoch 10/20\n",
      "\u001b[1m6/6\u001b[0m \u001b[32m━━━━━━━━━━━━━━━━━━━━\u001b[0m\u001b[37m\u001b[0m \u001b[1m0s\u001b[0m 120ms/step - loss: 0.0087\n",
      "Epoch 10: val_loss improved from 0.00895 to 0.00854, saving model to anomaly_detection_results\\mvtec\\tile\\tile_mvtec_best_model.keras\n",
      "\u001b[1m6/6\u001b[0m \u001b[32m━━━━━━━━━━━━━━━━━━━━\u001b[0m\u001b[37m\u001b[0m \u001b[1m1s\u001b[0m 154ms/step - loss: 0.0087 - val_loss: 0.0085\n",
      "Epoch 11/20\n",
      "\u001b[1m6/6\u001b[0m \u001b[32m━━━━━━━━━━━━━━━━━━━━\u001b[0m\u001b[37m\u001b[0m \u001b[1m0s\u001b[0m 127ms/step - loss: 0.0081\n",
      "Epoch 11: val_loss improved from 0.00854 to 0.00816, saving model to anomaly_detection_results\\mvtec\\tile\\tile_mvtec_best_model.keras\n",
      "\u001b[1m6/6\u001b[0m \u001b[32m━━━━━━━━━━━━━━━━━━━━\u001b[0m\u001b[37m\u001b[0m \u001b[1m1s\u001b[0m 166ms/step - loss: 0.0081 - val_loss: 0.0082\n",
      "Epoch 12/20\n",
      "\u001b[1m6/6\u001b[0m \u001b[32m━━━━━━━━━━━━━━━━━━━━\u001b[0m\u001b[37m\u001b[0m \u001b[1m0s\u001b[0m 129ms/step - loss: 0.0077\n",
      "Epoch 12: val_loss did not improve from 0.00816\n",
      "\u001b[1m6/6\u001b[0m \u001b[32m━━━━━━━━━━━━━━━━━━━━\u001b[0m\u001b[37m\u001b[0m \u001b[1m1s\u001b[0m 156ms/step - loss: 0.0077 - val_loss: 0.0083\n",
      "Epoch 13/20\n",
      "\u001b[1m6/6\u001b[0m \u001b[32m━━━━━━━━━━━━━━━━━━━━\u001b[0m\u001b[37m\u001b[0m \u001b[1m0s\u001b[0m 126ms/step - loss: 0.0077\n",
      "Epoch 13: val_loss improved from 0.00816 to 0.00770, saving model to anomaly_detection_results\\mvtec\\tile\\tile_mvtec_best_model.keras\n",
      "\u001b[1m6/6\u001b[0m \u001b[32m━━━━━━━━━━━━━━━━━━━━\u001b[0m\u001b[37m\u001b[0m \u001b[1m1s\u001b[0m 165ms/step - loss: 0.0076 - val_loss: 0.0077\n",
      "Epoch 14/20\n",
      "\u001b[1m6/6\u001b[0m \u001b[32m━━━━━━━━━━━━━━━━━━━━\u001b[0m\u001b[37m\u001b[0m \u001b[1m0s\u001b[0m 125ms/step - loss: 0.0073\n",
      "Epoch 14: val_loss improved from 0.00770 to 0.00749, saving model to anomaly_detection_results\\mvtec\\tile\\tile_mvtec_best_model.keras\n",
      "\u001b[1m6/6\u001b[0m \u001b[32m━━━━━━━━━━━━━━━━━━━━\u001b[0m\u001b[37m\u001b[0m \u001b[1m1s\u001b[0m 161ms/step - loss: 0.0073 - val_loss: 0.0075\n",
      "Epoch 15/20\n",
      "\u001b[1m6/6\u001b[0m \u001b[32m━━━━━━━━━━━━━━━━━━━━\u001b[0m\u001b[37m\u001b[0m \u001b[1m0s\u001b[0m 134ms/step - loss: 0.0072\n",
      "Epoch 15: val_loss improved from 0.00749 to 0.00728, saving model to anomaly_detection_results\\mvtec\\tile\\tile_mvtec_best_model.keras\n",
      "\u001b[1m6/6\u001b[0m \u001b[32m━━━━━━━━━━━━━━━━━━━━\u001b[0m\u001b[37m\u001b[0m \u001b[1m1s\u001b[0m 169ms/step - loss: 0.0072 - val_loss: 0.0073\n",
      "Epoch 16/20\n",
      "\u001b[1m6/6\u001b[0m \u001b[32m━━━━━━━━━━━━━━━━━━━━\u001b[0m\u001b[37m\u001b[0m \u001b[1m0s\u001b[0m 126ms/step - loss: 0.0069\n",
      "Epoch 16: val_loss improved from 0.00728 to 0.00724, saving model to anomaly_detection_results\\mvtec\\tile\\tile_mvtec_best_model.keras\n",
      "\u001b[1m6/6\u001b[0m \u001b[32m━━━━━━━━━━━━━━━━━━━━\u001b[0m\u001b[37m\u001b[0m \u001b[1m1s\u001b[0m 161ms/step - loss: 0.0070 - val_loss: 0.0072\n",
      "Epoch 17/20\n",
      "\u001b[1m6/6\u001b[0m \u001b[32m━━━━━━━━━━━━━━━━━━━━\u001b[0m\u001b[37m\u001b[0m \u001b[1m0s\u001b[0m 124ms/step - loss: 0.0069\n",
      "Epoch 17: val_loss improved from 0.00724 to 0.00696, saving model to anomaly_detection_results\\mvtec\\tile\\tile_mvtec_best_model.keras\n",
      "\u001b[1m6/6\u001b[0m \u001b[32m━━━━━━━━━━━━━━━━━━━━\u001b[0m\u001b[37m\u001b[0m \u001b[1m1s\u001b[0m 161ms/step - loss: 0.0069 - val_loss: 0.0070\n",
      "Epoch 18/20\n",
      "\u001b[1m6/6\u001b[0m \u001b[32m━━━━━━━━━━━━━━━━━━━━\u001b[0m\u001b[37m\u001b[0m \u001b[1m0s\u001b[0m 126ms/step - loss: 0.0067\n",
      "Epoch 18: val_loss did not improve from 0.00696\n",
      "\u001b[1m6/6\u001b[0m \u001b[32m━━━━━━━━━━━━━━━━━━━━\u001b[0m\u001b[37m\u001b[0m \u001b[1m1s\u001b[0m 152ms/step - loss: 0.0067 - val_loss: 0.0070\n",
      "Epoch 19/20\n",
      "\u001b[1m6/6\u001b[0m \u001b[32m━━━━━━━━━━━━━━━━━━━━\u001b[0m\u001b[37m\u001b[0m \u001b[1m0s\u001b[0m 121ms/step - loss: 0.0066\n",
      "Epoch 19: val_loss improved from 0.00696 to 0.00670, saving model to anomaly_detection_results\\mvtec\\tile\\tile_mvtec_best_model.keras\n",
      "\u001b[1m6/6\u001b[0m \u001b[32m━━━━━━━━━━━━━━━━━━━━\u001b[0m\u001b[37m\u001b[0m \u001b[1m1s\u001b[0m 155ms/step - loss: 0.0065 - val_loss: 0.0067\n",
      "Epoch 20/20\n",
      "\u001b[1m6/6\u001b[0m \u001b[32m━━━━━━━━━━━━━━━━━━━━\u001b[0m\u001b[37m\u001b[0m \u001b[1m0s\u001b[0m 118ms/step - loss: 0.0063\n",
      "Epoch 20: val_loss improved from 0.00670 to 0.00655, saving model to anomaly_detection_results\\mvtec\\tile\\tile_mvtec_best_model.keras\n",
      "\u001b[1m6/6\u001b[0m \u001b[32m━━━━━━━━━━━━━━━━━━━━\u001b[0m\u001b[37m\u001b[0m \u001b[1m1s\u001b[0m 152ms/step - loss: 0.0063 - val_loss: 0.0066\n",
      "Eğitim tamamlandı. Süre: 20.04 saniye\n",
      "En iyi model yüklendi: anomaly_detection_results\\mvtec\\tile\\tile_mvtec_best_model.keras\n",
      "Eğitim geçmişi grafiği kaydedildi: anomaly_detection_results\\mvtec\\tile\\tile_mvtec_training_history.png\n",
      "Rekonstrüksiyon başlatılıyor...\n",
      "\u001b[1m4/4\u001b[0m \u001b[32m━━━━━━━━━━━━━━━━━━━━\u001b[0m\u001b[37m\u001b[0m \u001b[1m0s\u001b[0m 85ms/step\n",
      "Anomali eşik değeri (95. yüzdelik): 0.006878\n",
      "Doğruluk (Accuracy): 0.3333\n",
      "Hassasiyet (Precision): 1.0000\n",
      "Duyarlılık (Recall): 0.0714\n",
      "F1 Skoru: 0.1333\n",
      "ROC AUC: 0.5079\n",
      "\n",
      "tile (mvtec) için analiz sonuçları görselleştiriliyor...\n",
      "Rekonstrüksiyon sonuçları kaydedildi: anomaly_detection_results\\mvtec\\tile\\tile_mvtec_reconstruction_results.png\n",
      "Normal örnekler MSE - Min: 0.005174, Max: 0.006819, Ortalama: 0.005693\n",
      "Anomali örnekler MSE - Min: 0.004694, Max: 0.007337, Ortalama: 0.005747\n",
      "MSE karşılaştırma histogramı kaydedildi: anomaly_detection_results\\mvtec\\tile\\tile_mvtec_mse_comparison_histogram.png\n",
      "ROC eğrisi kaydedildi: anomaly_detection_results\\mvtec\\tile\\tile_mvtec_roc_curve.png\n",
      "Karışıklık matrisi kaydedildi: anomaly_detection_results\\mvtec\\tile\\tile_mvtec_confusion_matrix.png\n",
      "oil kusur tipi detaylı analizi kaydedildi: anomaly_detection_results\\mvtec\\tile\\tile_mvtec_oil_detailed_analysis.png\n",
      "glue_strip kusur tipi detaylı analizi kaydedildi: anomaly_detection_results\\mvtec\\tile\\tile_mvtec_glue_strip_detailed_analysis.png\n",
      "rough kusur tipi detaylı analizi kaydedildi: anomaly_detection_results\\mvtec\\tile\\tile_mvtec_rough_detailed_analysis.png\n",
      "crack kusur tipi detaylı analizi kaydedildi: anomaly_detection_results\\mvtec\\tile\\tile_mvtec_crack_detailed_analysis.png\n",
      "gray_stroke kusur tipi detaylı analizi kaydedildi: anomaly_detection_results\\mvtec\\tile\\tile_mvtec_gray_stroke_detailed_analysis.png\n",
      "Kusur tipi metrikleri kaydedildi: anomaly_detection_results\\mvtec\\tile\\tile_mvtec_defect_type_metrics.png\n",
      "Kusur tipine göre MSE dağılımı kaydedildi: anomaly_detection_results\\mvtec\\tile\\tile_mvtec_defect_type_mse_distribution.png\n",
      "Sonuçlar başarıyla kaydedildi: anomaly_detection_results\\mvtec\\tile\n",
      "MVTec: tile kategorisi başarıyla işlendi.\n",
      "\n",
      "==================================================\n",
      "İşleniyor: wood (MVTEC veri seti)\n",
      "==================================================\n",
      "Eğitim dizini: C:\\Users\\Tansu\\OneDrive\\Masaüstü\\mvtec\\wood\\train\n",
      "Test dizini: C:\\Users\\Tansu\\OneDrive\\Masaüstü\\mvtec\\wood\\test\n",
      "Eğitim 'good' dizini: C:\\Users\\Tansu\\OneDrive\\Masaüstü\\mvtec\\wood\\train\\good\n",
      "Eğitim 'good' dizinindeki dosya sayısı: 247\n"
     ]
    },
    {
     "name": "stderr",
     "output_type": "stream",
     "text": [
      "wood: Eğitim verilerini yükleme: 100%|██████████| 247/247 [00:09<00:00, 26.42it/s]\n"
     ]
    },
    {
     "name": "stdout",
     "output_type": "stream",
     "text": [
      "Test 'good' dizini: C:\\Users\\Tansu\\OneDrive\\Masaüstü\\mvtec\\wood\\test\\good\n",
      "Test 'good' dizinindeki dosya sayısı: 19\n"
     ]
    },
    {
     "name": "stderr",
     "output_type": "stream",
     "text": [
      "wood: Normal test verilerini yükleme: 100%|██████████| 19/19 [00:00<00:00, 26.71it/s]\n"
     ]
    },
    {
     "name": "stdout",
     "output_type": "stream",
     "text": [
      "Tespit edilen kusur tipleri: ['color', 'combined', 'hole', 'liquid', 'scratch']\n",
      "Kusur dizini: C:\\Users\\Tansu\\OneDrive\\Masaüstü\\mvtec\\wood\\test\\color\n",
      "Kusur dizinindeki dosya sayısı: 8\n"
     ]
    },
    {
     "name": "stderr",
     "output_type": "stream",
     "text": [
      "wood: color verilerini yükleme: 100%|██████████| 8/8 [00:00<00:00, 26.68it/s]\n"
     ]
    },
    {
     "name": "stdout",
     "output_type": "stream",
     "text": [
      "Kusur dizini: C:\\Users\\Tansu\\OneDrive\\Masaüstü\\mvtec\\wood\\test\\combined\n",
      "Kusur dizinindeki dosya sayısı: 11\n"
     ]
    },
    {
     "name": "stderr",
     "output_type": "stream",
     "text": [
      "wood: combined verilerini yükleme: 100%|██████████| 11/11 [00:00<00:00, 26.97it/s]\n"
     ]
    },
    {
     "name": "stdout",
     "output_type": "stream",
     "text": [
      "Kusur dizini: C:\\Users\\Tansu\\OneDrive\\Masaüstü\\mvtec\\wood\\test\\hole\n",
      "Kusur dizinindeki dosya sayısı: 10\n"
     ]
    },
    {
     "name": "stderr",
     "output_type": "stream",
     "text": [
      "wood: hole verilerini yükleme: 100%|██████████| 10/10 [00:00<00:00, 27.78it/s]\n"
     ]
    },
    {
     "name": "stdout",
     "output_type": "stream",
     "text": [
      "Kusur dizini: C:\\Users\\Tansu\\OneDrive\\Masaüstü\\mvtec\\wood\\test\\liquid\n",
      "Kusur dizinindeki dosya sayısı: 10\n"
     ]
    },
    {
     "name": "stderr",
     "output_type": "stream",
     "text": [
      "wood: liquid verilerini yükleme: 100%|██████████| 10/10 [00:00<00:00, 27.86it/s]\n"
     ]
    },
    {
     "name": "stdout",
     "output_type": "stream",
     "text": [
      "Kusur dizini: C:\\Users\\Tansu\\OneDrive\\Masaüstü\\mvtec\\wood\\test\\scratch\n",
      "Kusur dizinindeki dosya sayısı: 21\n"
     ]
    },
    {
     "name": "stderr",
     "output_type": "stream",
     "text": [
      "wood: scratch verilerini yükleme: 100%|██████████| 21/21 [00:00<00:00, 27.15it/s]\n"
     ]
    },
    {
     "name": "stdout",
     "output_type": "stream",
     "text": [
      "Eğitim veriseti: (247, 128, 128) - Min: 58, Max: 205\n",
      "Test veriseti: (79, 128, 128) - Min: 10, Max: 244\n",
      "Test etiketleri: (79,)\n",
      "Anomali sayısı: 60\n",
      "Normal test örneği sayısı: 19\n",
      "\n",
      "wood (mvtec) için görselleştirmeler oluşturuluyor...\n",
      "Görselleştirme kaydedildi: anomaly_detection_results\\mvtec\\wood\\wood_(mvtec)___Eğitim_Örnekleri.png\n",
      "Kusur tipleri karşılaştırması kaydedildi: anomaly_detection_results\\mvtec\\wood\\wood_mvtec_defect_types_comparison.png\n",
      "Normal vs Anomali karşılaştırması kaydedildi: anomaly_detection_results\\mvtec\\wood\\wood_mvtec_normal_vs_anomaly_samples.png\n"
     ]
    },
    {
     "data": {
      "text/html": [
       "<pre style=\"white-space:pre;overflow-x:auto;line-height:normal;font-family:Menlo,'DejaVu Sans Mono',consolas,'Courier New',monospace\"><span style=\"font-weight: bold\">Model: \"functional_10\"</span>\n",
       "</pre>\n"
      ],
      "text/plain": [
       "\u001b[1mModel: \"functional_10\"\u001b[0m\n"
      ]
     },
     "metadata": {},
     "output_type": "display_data"
    },
    {
     "data": {
      "text/html": [
       "<pre style=\"white-space:pre;overflow-x:auto;line-height:normal;font-family:Menlo,'DejaVu Sans Mono',consolas,'Courier New',monospace\">┏━━━━━━━━━━━━━━━━━━━━━━━━━━━━━━━━━┳━━━━━━━━━━━━━━━━━━━━━━━━┳━━━━━━━━━━━━━━━┓\n",
       "┃<span style=\"font-weight: bold\"> Layer (type)                    </span>┃<span style=\"font-weight: bold\"> Output Shape           </span>┃<span style=\"font-weight: bold\">       Param # </span>┃\n",
       "┡━━━━━━━━━━━━━━━━━━━━━━━━━━━━━━━━━╇━━━━━━━━━━━━━━━━━━━━━━━━╇━━━━━━━━━━━━━━━┩\n",
       "│ input_layer (<span style=\"color: #0087ff; text-decoration-color: #0087ff\">InputLayer</span>)        │ (<span style=\"color: #00d7ff; text-decoration-color: #00d7ff\">None</span>, <span style=\"color: #00af00; text-decoration-color: #00af00\">128</span>, <span style=\"color: #00af00; text-decoration-color: #00af00\">128</span>, <span style=\"color: #00af00; text-decoration-color: #00af00\">1</span>)    │             <span style=\"color: #00af00; text-decoration-color: #00af00\">0</span> │\n",
       "├─────────────────────────────────┼────────────────────────┼───────────────┤\n",
       "│ conv2d_50 (<span style=\"color: #0087ff; text-decoration-color: #0087ff\">Conv2D</span>)              │ (<span style=\"color: #00d7ff; text-decoration-color: #00d7ff\">None</span>, <span style=\"color: #00af00; text-decoration-color: #00af00\">128</span>, <span style=\"color: #00af00; text-decoration-color: #00af00\">128</span>, <span style=\"color: #00af00; text-decoration-color: #00af00\">32</span>)   │           <span style=\"color: #00af00; text-decoration-color: #00af00\">320</span> │\n",
       "├─────────────────────────────────┼────────────────────────┼───────────────┤\n",
       "│ max_pooling2d_20 (<span style=\"color: #0087ff; text-decoration-color: #0087ff\">MaxPooling2D</span>) │ (<span style=\"color: #00d7ff; text-decoration-color: #00d7ff\">None</span>, <span style=\"color: #00af00; text-decoration-color: #00af00\">64</span>, <span style=\"color: #00af00; text-decoration-color: #00af00\">64</span>, <span style=\"color: #00af00; text-decoration-color: #00af00\">32</span>)     │             <span style=\"color: #00af00; text-decoration-color: #00af00\">0</span> │\n",
       "├─────────────────────────────────┼────────────────────────┼───────────────┤\n",
       "│ conv2d_51 (<span style=\"color: #0087ff; text-decoration-color: #0087ff\">Conv2D</span>)              │ (<span style=\"color: #00d7ff; text-decoration-color: #00d7ff\">None</span>, <span style=\"color: #00af00; text-decoration-color: #00af00\">64</span>, <span style=\"color: #00af00; text-decoration-color: #00af00\">64</span>, <span style=\"color: #00af00; text-decoration-color: #00af00\">16</span>)     │         <span style=\"color: #00af00; text-decoration-color: #00af00\">4,624</span> │\n",
       "├─────────────────────────────────┼────────────────────────┼───────────────┤\n",
       "│ max_pooling2d_21 (<span style=\"color: #0087ff; text-decoration-color: #0087ff\">MaxPooling2D</span>) │ (<span style=\"color: #00d7ff; text-decoration-color: #00d7ff\">None</span>, <span style=\"color: #00af00; text-decoration-color: #00af00\">32</span>, <span style=\"color: #00af00; text-decoration-color: #00af00\">32</span>, <span style=\"color: #00af00; text-decoration-color: #00af00\">16</span>)     │             <span style=\"color: #00af00; text-decoration-color: #00af00\">0</span> │\n",
       "├─────────────────────────────────┼────────────────────────┼───────────────┤\n",
       "│ conv2d_52 (<span style=\"color: #0087ff; text-decoration-color: #0087ff\">Conv2D</span>)              │ (<span style=\"color: #00d7ff; text-decoration-color: #00d7ff\">None</span>, <span style=\"color: #00af00; text-decoration-color: #00af00\">32</span>, <span style=\"color: #00af00; text-decoration-color: #00af00\">32</span>, <span style=\"color: #00af00; text-decoration-color: #00af00\">16</span>)     │         <span style=\"color: #00af00; text-decoration-color: #00af00\">2,320</span> │\n",
       "├─────────────────────────────────┼────────────────────────┼───────────────┤\n",
       "│ up_sampling2d_20 (<span style=\"color: #0087ff; text-decoration-color: #0087ff\">UpSampling2D</span>) │ (<span style=\"color: #00d7ff; text-decoration-color: #00d7ff\">None</span>, <span style=\"color: #00af00; text-decoration-color: #00af00\">64</span>, <span style=\"color: #00af00; text-decoration-color: #00af00\">64</span>, <span style=\"color: #00af00; text-decoration-color: #00af00\">16</span>)     │             <span style=\"color: #00af00; text-decoration-color: #00af00\">0</span> │\n",
       "├─────────────────────────────────┼────────────────────────┼───────────────┤\n",
       "│ conv2d_53 (<span style=\"color: #0087ff; text-decoration-color: #0087ff\">Conv2D</span>)              │ (<span style=\"color: #00d7ff; text-decoration-color: #00d7ff\">None</span>, <span style=\"color: #00af00; text-decoration-color: #00af00\">64</span>, <span style=\"color: #00af00; text-decoration-color: #00af00\">64</span>, <span style=\"color: #00af00; text-decoration-color: #00af00\">32</span>)     │         <span style=\"color: #00af00; text-decoration-color: #00af00\">4,640</span> │\n",
       "├─────────────────────────────────┼────────────────────────┼───────────────┤\n",
       "│ up_sampling2d_21 (<span style=\"color: #0087ff; text-decoration-color: #0087ff\">UpSampling2D</span>) │ (<span style=\"color: #00d7ff; text-decoration-color: #00d7ff\">None</span>, <span style=\"color: #00af00; text-decoration-color: #00af00\">128</span>, <span style=\"color: #00af00; text-decoration-color: #00af00\">128</span>, <span style=\"color: #00af00; text-decoration-color: #00af00\">32</span>)   │             <span style=\"color: #00af00; text-decoration-color: #00af00\">0</span> │\n",
       "├─────────────────────────────────┼────────────────────────┼───────────────┤\n",
       "│ conv2d_54 (<span style=\"color: #0087ff; text-decoration-color: #0087ff\">Conv2D</span>)              │ (<span style=\"color: #00d7ff; text-decoration-color: #00d7ff\">None</span>, <span style=\"color: #00af00; text-decoration-color: #00af00\">128</span>, <span style=\"color: #00af00; text-decoration-color: #00af00\">128</span>, <span style=\"color: #00af00; text-decoration-color: #00af00\">1</span>)    │           <span style=\"color: #00af00; text-decoration-color: #00af00\">289</span> │\n",
       "└─────────────────────────────────┴────────────────────────┴───────────────┘\n",
       "</pre>\n"
      ],
      "text/plain": [
       "┏━━━━━━━━━━━━━━━━━━━━━━━━━━━━━━━━━┳━━━━━━━━━━━━━━━━━━━━━━━━┳━━━━━━━━━━━━━━━┓\n",
       "┃\u001b[1m \u001b[0m\u001b[1mLayer (type)                   \u001b[0m\u001b[1m \u001b[0m┃\u001b[1m \u001b[0m\u001b[1mOutput Shape          \u001b[0m\u001b[1m \u001b[0m┃\u001b[1m \u001b[0m\u001b[1m      Param #\u001b[0m\u001b[1m \u001b[0m┃\n",
       "┡━━━━━━━━━━━━━━━━━━━━━━━━━━━━━━━━━╇━━━━━━━━━━━━━━━━━━━━━━━━╇━━━━━━━━━━━━━━━┩\n",
       "│ input_layer (\u001b[38;5;33mInputLayer\u001b[0m)        │ (\u001b[38;5;45mNone\u001b[0m, \u001b[38;5;34m128\u001b[0m, \u001b[38;5;34m128\u001b[0m, \u001b[38;5;34m1\u001b[0m)    │             \u001b[38;5;34m0\u001b[0m │\n",
       "├─────────────────────────────────┼────────────────────────┼───────────────┤\n",
       "│ conv2d_50 (\u001b[38;5;33mConv2D\u001b[0m)              │ (\u001b[38;5;45mNone\u001b[0m, \u001b[38;5;34m128\u001b[0m, \u001b[38;5;34m128\u001b[0m, \u001b[38;5;34m32\u001b[0m)   │           \u001b[38;5;34m320\u001b[0m │\n",
       "├─────────────────────────────────┼────────────────────────┼───────────────┤\n",
       "│ max_pooling2d_20 (\u001b[38;5;33mMaxPooling2D\u001b[0m) │ (\u001b[38;5;45mNone\u001b[0m, \u001b[38;5;34m64\u001b[0m, \u001b[38;5;34m64\u001b[0m, \u001b[38;5;34m32\u001b[0m)     │             \u001b[38;5;34m0\u001b[0m │\n",
       "├─────────────────────────────────┼────────────────────────┼───────────────┤\n",
       "│ conv2d_51 (\u001b[38;5;33mConv2D\u001b[0m)              │ (\u001b[38;5;45mNone\u001b[0m, \u001b[38;5;34m64\u001b[0m, \u001b[38;5;34m64\u001b[0m, \u001b[38;5;34m16\u001b[0m)     │         \u001b[38;5;34m4,624\u001b[0m │\n",
       "├─────────────────────────────────┼────────────────────────┼───────────────┤\n",
       "│ max_pooling2d_21 (\u001b[38;5;33mMaxPooling2D\u001b[0m) │ (\u001b[38;5;45mNone\u001b[0m, \u001b[38;5;34m32\u001b[0m, \u001b[38;5;34m32\u001b[0m, \u001b[38;5;34m16\u001b[0m)     │             \u001b[38;5;34m0\u001b[0m │\n",
       "├─────────────────────────────────┼────────────────────────┼───────────────┤\n",
       "│ conv2d_52 (\u001b[38;5;33mConv2D\u001b[0m)              │ (\u001b[38;5;45mNone\u001b[0m, \u001b[38;5;34m32\u001b[0m, \u001b[38;5;34m32\u001b[0m, \u001b[38;5;34m16\u001b[0m)     │         \u001b[38;5;34m2,320\u001b[0m │\n",
       "├─────────────────────────────────┼────────────────────────┼───────────────┤\n",
       "│ up_sampling2d_20 (\u001b[38;5;33mUpSampling2D\u001b[0m) │ (\u001b[38;5;45mNone\u001b[0m, \u001b[38;5;34m64\u001b[0m, \u001b[38;5;34m64\u001b[0m, \u001b[38;5;34m16\u001b[0m)     │             \u001b[38;5;34m0\u001b[0m │\n",
       "├─────────────────────────────────┼────────────────────────┼───────────────┤\n",
       "│ conv2d_53 (\u001b[38;5;33mConv2D\u001b[0m)              │ (\u001b[38;5;45mNone\u001b[0m, \u001b[38;5;34m64\u001b[0m, \u001b[38;5;34m64\u001b[0m, \u001b[38;5;34m32\u001b[0m)     │         \u001b[38;5;34m4,640\u001b[0m │\n",
       "├─────────────────────────────────┼────────────────────────┼───────────────┤\n",
       "│ up_sampling2d_21 (\u001b[38;5;33mUpSampling2D\u001b[0m) │ (\u001b[38;5;45mNone\u001b[0m, \u001b[38;5;34m128\u001b[0m, \u001b[38;5;34m128\u001b[0m, \u001b[38;5;34m32\u001b[0m)   │             \u001b[38;5;34m0\u001b[0m │\n",
       "├─────────────────────────────────┼────────────────────────┼───────────────┤\n",
       "│ conv2d_54 (\u001b[38;5;33mConv2D\u001b[0m)              │ (\u001b[38;5;45mNone\u001b[0m, \u001b[38;5;34m128\u001b[0m, \u001b[38;5;34m128\u001b[0m, \u001b[38;5;34m1\u001b[0m)    │           \u001b[38;5;34m289\u001b[0m │\n",
       "└─────────────────────────────────┴────────────────────────┴───────────────┘\n"
      ]
     },
     "metadata": {},
     "output_type": "display_data"
    },
    {
     "data": {
      "text/html": [
       "<pre style=\"white-space:pre;overflow-x:auto;line-height:normal;font-family:Menlo,'DejaVu Sans Mono',consolas,'Courier New',monospace\"><span style=\"font-weight: bold\"> Total params: </span><span style=\"color: #00af00; text-decoration-color: #00af00\">12,193</span> (47.63 KB)\n",
       "</pre>\n"
      ],
      "text/plain": [
       "\u001b[1m Total params: \u001b[0m\u001b[38;5;34m12,193\u001b[0m (47.63 KB)\n"
      ]
     },
     "metadata": {},
     "output_type": "display_data"
    },
    {
     "data": {
      "text/html": [
       "<pre style=\"white-space:pre;overflow-x:auto;line-height:normal;font-family:Menlo,'DejaVu Sans Mono',consolas,'Courier New',monospace\"><span style=\"font-weight: bold\"> Trainable params: </span><span style=\"color: #00af00; text-decoration-color: #00af00\">12,193</span> (47.63 KB)\n",
       "</pre>\n"
      ],
      "text/plain": [
       "\u001b[1m Trainable params: \u001b[0m\u001b[38;5;34m12,193\u001b[0m (47.63 KB)\n"
      ]
     },
     "metadata": {},
     "output_type": "display_data"
    },
    {
     "data": {
      "text/html": [
       "<pre style=\"white-space:pre;overflow-x:auto;line-height:normal;font-family:Menlo,'DejaVu Sans Mono',consolas,'Courier New',monospace\"><span style=\"font-weight: bold\"> Non-trainable params: </span><span style=\"color: #00af00; text-decoration-color: #00af00\">0</span> (0.00 B)\n",
       "</pre>\n"
      ],
      "text/plain": [
       "\u001b[1m Non-trainable params: \u001b[0m\u001b[38;5;34m0\u001b[0m (0.00 B)\n"
      ]
     },
     "metadata": {},
     "output_type": "display_data"
    },
    {
     "name": "stdout",
     "output_type": "stream",
     "text": [
      "Epoch 1/20\n",
      "\u001b[1m6/7\u001b[0m \u001b[32m━━━━━━━━━━━━━━━━━\u001b[0m\u001b[37m━━━\u001b[0m \u001b[1m0s\u001b[0m 123ms/step - loss: 0.0037\n",
      "Epoch 1: val_loss improved from inf to 0.00398, saving model to anomaly_detection_results\\mvtec\\wood\\wood_mvtec_best_model.keras\n",
      "\u001b[1m7/7\u001b[0m \u001b[32m━━━━━━━━━━━━━━━━━━━━\u001b[0m\u001b[37m\u001b[0m \u001b[1m2s\u001b[0m 175ms/step - loss: 0.0037 - val_loss: 0.0040\n",
      "Epoch 2/20\n",
      "\u001b[1m6/7\u001b[0m \u001b[32m━━━━━━━━━━━━━━━━━\u001b[0m\u001b[37m━━━\u001b[0m \u001b[1m0s\u001b[0m 121ms/step - loss: 0.0033\n",
      "Epoch 2: val_loss improved from 0.00398 to 0.00388, saving model to anomaly_detection_results\\mvtec\\wood\\wood_mvtec_best_model.keras\n",
      "\u001b[1m7/7\u001b[0m \u001b[32m━━━━━━━━━━━━━━━━━━━━\u001b[0m\u001b[37m\u001b[0m \u001b[1m1s\u001b[0m 133ms/step - loss: 0.0033 - val_loss: 0.0039\n",
      "Epoch 3/20\n",
      "\u001b[1m6/7\u001b[0m \u001b[32m━━━━━━━━━━━━━━━━━\u001b[0m\u001b[37m━━━\u001b[0m \u001b[1m0s\u001b[0m 123ms/step - loss: 0.0034\n",
      "Epoch 3: val_loss did not improve from 0.00388\n",
      "\u001b[1m7/7\u001b[0m \u001b[32m━━━━━━━━━━━━━━━━━━━━\u001b[0m\u001b[37m\u001b[0m \u001b[1m1s\u001b[0m 130ms/step - loss: 0.0034 - val_loss: 0.0040\n",
      "Epoch 4/20\n",
      "\u001b[1m6/7\u001b[0m \u001b[32m━━━━━━━━━━━━━━━━━\u001b[0m\u001b[37m━━━\u001b[0m \u001b[1m0s\u001b[0m 127ms/step - loss: 0.0034\n",
      "Epoch 4: val_loss improved from 0.00388 to 0.00383, saving model to anomaly_detection_results\\mvtec\\wood\\wood_mvtec_best_model.keras\n",
      "\u001b[1m7/7\u001b[0m \u001b[32m━━━━━━━━━━━━━━━━━━━━\u001b[0m\u001b[37m\u001b[0m \u001b[1m1s\u001b[0m 139ms/step - loss: 0.0034 - val_loss: 0.0038\n",
      "Epoch 5/20\n",
      "\u001b[1m6/7\u001b[0m \u001b[32m━━━━━━━━━━━━━━━━━\u001b[0m\u001b[37m━━━\u001b[0m \u001b[1m0s\u001b[0m 130ms/step - loss: 0.0034\n",
      "Epoch 5: val_loss did not improve from 0.00383\n",
      "\u001b[1m7/7\u001b[0m \u001b[32m━━━━━━━━━━━━━━━━━━━━\u001b[0m\u001b[37m\u001b[0m \u001b[1m1s\u001b[0m 136ms/step - loss: 0.0034 - val_loss: 0.0039\n",
      "Epoch 6/20\n",
      "\u001b[1m6/7\u001b[0m \u001b[32m━━━━━━━━━━━━━━━━━\u001b[0m\u001b[37m━━━\u001b[0m \u001b[1m0s\u001b[0m 124ms/step - loss: 0.0033\n",
      "Epoch 6: val_loss improved from 0.00383 to 0.00368, saving model to anomaly_detection_results\\mvtec\\wood\\wood_mvtec_best_model.keras\n",
      "\u001b[1m7/7\u001b[0m \u001b[32m━━━━━━━━━━━━━━━━━━━━\u001b[0m\u001b[37m\u001b[0m \u001b[1m1s\u001b[0m 136ms/step - loss: 0.0033 - val_loss: 0.0037\n",
      "Epoch 7/20\n",
      "\u001b[1m6/7\u001b[0m \u001b[32m━━━━━━━━━━━━━━━━━\u001b[0m\u001b[37m━━━\u001b[0m \u001b[1m0s\u001b[0m 125ms/step - loss: 0.0032\n",
      "Epoch 7: val_loss did not improve from 0.00368\n",
      "\u001b[1m7/7\u001b[0m \u001b[32m━━━━━━━━━━━━━━━━━━━━\u001b[0m\u001b[37m\u001b[0m \u001b[1m1s\u001b[0m 130ms/step - loss: 0.0032 - val_loss: 0.0038\n",
      "Epoch 8/20\n",
      "\u001b[1m6/7\u001b[0m \u001b[32m━━━━━━━━━━━━━━━━━\u001b[0m\u001b[37m━━━\u001b[0m \u001b[1m0s\u001b[0m 128ms/step - loss: 0.0031\n",
      "Epoch 8: val_loss improved from 0.00368 to 0.00350, saving model to anomaly_detection_results\\mvtec\\wood\\wood_mvtec_best_model.keras\n",
      "\u001b[1m7/7\u001b[0m \u001b[32m━━━━━━━━━━━━━━━━━━━━\u001b[0m\u001b[37m\u001b[0m \u001b[1m1s\u001b[0m 140ms/step - loss: 0.0031 - val_loss: 0.0035\n",
      "Epoch 9/20\n",
      "\u001b[1m7/7\u001b[0m \u001b[32m━━━━━━━━━━━━━━━━━━━━\u001b[0m\u001b[37m\u001b[0m \u001b[1m0s\u001b[0m 115ms/step - loss: 0.0030\n",
      "Epoch 9: val_loss improved from 0.00350 to 0.00323, saving model to anomaly_detection_results\\mvtec\\wood\\wood_mvtec_best_model.keras\n",
      "\u001b[1m7/7\u001b[0m \u001b[32m━━━━━━━━━━━━━━━━━━━━\u001b[0m\u001b[37m\u001b[0m \u001b[1m1s\u001b[0m 146ms/step - loss: 0.0030 - val_loss: 0.0032\n",
      "Epoch 10/20\n",
      "\u001b[1m6/7\u001b[0m \u001b[32m━━━━━━━━━━━━━━━━━\u001b[0m\u001b[37m━━━\u001b[0m \u001b[1m0s\u001b[0m 131ms/step - loss: 0.0029\n",
      "Epoch 10: val_loss improved from 0.00323 to 0.00302, saving model to anomaly_detection_results\\mvtec\\wood\\wood_mvtec_best_model.keras\n",
      "\u001b[1m7/7\u001b[0m \u001b[32m━━━━━━━━━━━━━━━━━━━━\u001b[0m\u001b[37m\u001b[0m \u001b[1m1s\u001b[0m 147ms/step - loss: 0.0029 - val_loss: 0.0030\n",
      "Epoch 11/20\n",
      "\u001b[1m6/7\u001b[0m \u001b[32m━━━━━━━━━━━━━━━━━\u001b[0m\u001b[37m━━━\u001b[0m \u001b[1m0s\u001b[0m 131ms/step - loss: 0.0028\n",
      "Epoch 11: val_loss improved from 0.00302 to 0.00265, saving model to anomaly_detection_results\\mvtec\\wood\\wood_mvtec_best_model.keras\n",
      "\u001b[1m7/7\u001b[0m \u001b[32m━━━━━━━━━━━━━━━━━━━━\u001b[0m\u001b[37m\u001b[0m \u001b[1m1s\u001b[0m 145ms/step - loss: 0.0027 - val_loss: 0.0026\n",
      "Epoch 12/20\n",
      "\u001b[1m6/7\u001b[0m \u001b[32m━━━━━━━━━━━━━━━━━\u001b[0m\u001b[37m━━━\u001b[0m \u001b[1m0s\u001b[0m 137ms/step - loss: 0.0024\n",
      "Epoch 12: val_loss did not improve from 0.00265\n",
      "\u001b[1m7/7\u001b[0m \u001b[32m━━━━━━━━━━━━━━━━━━━━\u001b[0m\u001b[37m\u001b[0m \u001b[1m1s\u001b[0m 143ms/step - loss: 0.0024 - val_loss: 0.0027\n",
      "Epoch 13/20\n",
      "\u001b[1m6/7\u001b[0m \u001b[32m━━━━━━━━━━━━━━━━━\u001b[0m\u001b[37m━━━\u001b[0m \u001b[1m0s\u001b[0m 132ms/step - loss: 0.0021\n",
      "Epoch 13: val_loss improved from 0.00265 to 0.00194, saving model to anomaly_detection_results\\mvtec\\wood\\wood_mvtec_best_model.keras\n",
      "\u001b[1m7/7\u001b[0m \u001b[32m━━━━━━━━━━━━━━━━━━━━\u001b[0m\u001b[37m\u001b[0m \u001b[1m1s\u001b[0m 147ms/step - loss: 0.0021 - val_loss: 0.0019\n",
      "Epoch 14/20\n",
      "\u001b[1m6/7\u001b[0m \u001b[32m━━━━━━━━━━━━━━━━━\u001b[0m\u001b[37m━━━\u001b[0m \u001b[1m0s\u001b[0m 143ms/step - loss: 0.0018\n",
      "Epoch 14: val_loss improved from 0.00194 to 0.00174, saving model to anomaly_detection_results\\mvtec\\wood\\wood_mvtec_best_model.keras\n",
      "\u001b[1m7/7\u001b[0m \u001b[32m━━━━━━━━━━━━━━━━━━━━\u001b[0m\u001b[37m\u001b[0m \u001b[1m1s\u001b[0m 154ms/step - loss: 0.0018 - val_loss: 0.0017\n",
      "Epoch 15/20\n",
      "\u001b[1m6/7\u001b[0m \u001b[32m━━━━━━━━━━━━━━━━━\u001b[0m\u001b[37m━━━\u001b[0m \u001b[1m0s\u001b[0m 134ms/step - loss: 0.0015\n",
      "Epoch 15: val_loss improved from 0.00174 to 0.00152, saving model to anomaly_detection_results\\mvtec\\wood\\wood_mvtec_best_model.keras\n",
      "\u001b[1m7/7\u001b[0m \u001b[32m━━━━━━━━━━━━━━━━━━━━\u001b[0m\u001b[37m\u001b[0m \u001b[1m1s\u001b[0m 146ms/step - loss: 0.0015 - val_loss: 0.0015\n",
      "Epoch 16/20\n",
      "\u001b[1m6/7\u001b[0m \u001b[32m━━━━━━━━━━━━━━━━━\u001b[0m\u001b[37m━━━\u001b[0m \u001b[1m0s\u001b[0m 136ms/step - loss: 0.0013\n",
      "Epoch 16: val_loss did not improve from 0.00152\n",
      "\u001b[1m7/7\u001b[0m \u001b[32m━━━━━━━━━━━━━━━━━━━━\u001b[0m\u001b[37m\u001b[0m \u001b[1m1s\u001b[0m 148ms/step - loss: 0.0013 - val_loss: 0.0015\n",
      "Epoch 17/20\n",
      "\u001b[1m6/7\u001b[0m \u001b[32m━━━━━━━━━━━━━━━━━\u001b[0m\u001b[37m━━━\u001b[0m \u001b[1m0s\u001b[0m 136ms/step - loss: 0.0012\n",
      "Epoch 17: val_loss improved from 0.00152 to 0.00137, saving model to anomaly_detection_results\\mvtec\\wood\\wood_mvtec_best_model.keras\n",
      "\u001b[1m7/7\u001b[0m \u001b[32m━━━━━━━━━━━━━━━━━━━━\u001b[0m\u001b[37m\u001b[0m \u001b[1m1s\u001b[0m 154ms/step - loss: 0.0012 - val_loss: 0.0014\n",
      "Epoch 18/20\n",
      "\u001b[1m6/7\u001b[0m \u001b[32m━━━━━━━━━━━━━━━━━\u001b[0m\u001b[37m━━━\u001b[0m \u001b[1m0s\u001b[0m 128ms/step - loss: 0.0012\n",
      "Epoch 18: val_loss improved from 0.00137 to 0.00132, saving model to anomaly_detection_results\\mvtec\\wood\\wood_mvtec_best_model.keras\n",
      "\u001b[1m7/7\u001b[0m \u001b[32m━━━━━━━━━━━━━━━━━━━━\u001b[0m\u001b[37m\u001b[0m \u001b[1m1s\u001b[0m 141ms/step - loss: 0.0012 - val_loss: 0.0013\n",
      "Epoch 19/20\n",
      "\u001b[1m6/7\u001b[0m \u001b[32m━━━━━━━━━━━━━━━━━\u001b[0m\u001b[37m━━━\u001b[0m \u001b[1m0s\u001b[0m 138ms/step - loss: 0.0012\n",
      "Epoch 19: val_loss improved from 0.00132 to 0.00128, saving model to anomaly_detection_results\\mvtec\\wood\\wood_mvtec_best_model.keras\n",
      "\u001b[1m7/7\u001b[0m \u001b[32m━━━━━━━━━━━━━━━━━━━━\u001b[0m\u001b[37m\u001b[0m \u001b[1m1s\u001b[0m 149ms/step - loss: 0.0012 - val_loss: 0.0013\n",
      "Epoch 20/20\n",
      "\u001b[1m6/7\u001b[0m \u001b[32m━━━━━━━━━━━━━━━━━\u001b[0m\u001b[37m━━━\u001b[0m \u001b[1m0s\u001b[0m 126ms/step - loss: 0.0011\n",
      "Epoch 20: val_loss improved from 0.00128 to 0.00126, saving model to anomaly_detection_results\\mvtec\\wood\\wood_mvtec_best_model.keras\n",
      "\u001b[1m7/7\u001b[0m \u001b[32m━━━━━━━━━━━━━━━━━━━━\u001b[0m\u001b[37m\u001b[0m \u001b[1m1s\u001b[0m 136ms/step - loss: 0.0011 - val_loss: 0.0013\n",
      "Eğitim tamamlandı. Süre: 21.44 saniye\n",
      "En iyi model yüklendi: anomaly_detection_results\\mvtec\\wood\\wood_mvtec_best_model.keras\n",
      "Eğitim geçmişi grafiği kaydedildi: anomaly_detection_results\\mvtec\\wood\\wood_mvtec_training_history.png\n",
      "Rekonstrüksiyon başlatılıyor...\n",
      "\u001b[1m3/3\u001b[0m \u001b[32m━━━━━━━━━━━━━━━━━━━━\u001b[0m\u001b[37m\u001b[0m \u001b[1m0s\u001b[0m 100ms/step\n",
      "Anomali eşik değeri (95. yüzdelik): 0.002707\n",
      "Doğruluk (Accuracy): 0.2911\n",
      "Hassasiyet (Precision): 1.0000\n",
      "Duyarlılık (Recall): 0.0667\n",
      "F1 Skoru: 0.1250\n",
      "ROC AUC: 0.8728\n",
      "\n",
      "wood (mvtec) için analiz sonuçları görselleştiriliyor...\n",
      "Rekonstrüksiyon sonuçları kaydedildi: anomaly_detection_results\\mvtec\\wood\\wood_mvtec_reconstruction_results.png\n",
      "Normal örnekler MSE - Min: 0.000537, Max: 0.001197, Ortalama: 0.000867\n",
      "Anomali örnekler MSE - Min: 0.000575, Max: 0.003225, Ortalama: 0.001488\n",
      "MSE karşılaştırma histogramı kaydedildi: anomaly_detection_results\\mvtec\\wood\\wood_mvtec_mse_comparison_histogram.png\n",
      "ROC eğrisi kaydedildi: anomaly_detection_results\\mvtec\\wood\\wood_mvtec_roc_curve.png\n",
      "Karışıklık matrisi kaydedildi: anomaly_detection_results\\mvtec\\wood\\wood_mvtec_confusion_matrix.png\n",
      "liquid kusur tipi detaylı analizi kaydedildi: anomaly_detection_results\\mvtec\\wood\\wood_mvtec_liquid_detailed_analysis.png\n",
      "scratch kusur tipi detaylı analizi kaydedildi: anomaly_detection_results\\mvtec\\wood\\wood_mvtec_scratch_detailed_analysis.png\n",
      "combined kusur tipi detaylı analizi kaydedildi: anomaly_detection_results\\mvtec\\wood\\wood_mvtec_combined_detailed_analysis.png\n",
      "color kusur tipi detaylı analizi kaydedildi: anomaly_detection_results\\mvtec\\wood\\wood_mvtec_color_detailed_analysis.png\n",
      "hole kusur tipi detaylı analizi kaydedildi: anomaly_detection_results\\mvtec\\wood\\wood_mvtec_hole_detailed_analysis.png\n",
      "Kusur tipi metrikleri kaydedildi: anomaly_detection_results\\mvtec\\wood\\wood_mvtec_defect_type_metrics.png\n",
      "Kusur tipine göre MSE dağılımı kaydedildi: anomaly_detection_results\\mvtec\\wood\\wood_mvtec_defect_type_mse_distribution.png\n",
      "Sonuçlar başarıyla kaydedildi: anomaly_detection_results\\mvtec\\wood\n",
      "MVTec: wood kategorisi başarıyla işlendi.\n",
      "\n",
      "=== VisA Veri Seti İşleniyor ===\n",
      "\n",
      "==================================================\n",
      "İşleniyor: candle (VISA veri seti)\n",
      "==================================================\n",
      "VisA kategori dizini: C:\\Users\\Tansu\\OneDrive\\Masaüstü\\visa\\candle\n",
      "VisA görüntü dizini: C:\\Users\\Tansu\\OneDrive\\Masaüstü\\visa\\candle\\data\\images\n",
      "VisA normal görüntü dizini: C:\\Users\\Tansu\\OneDrive\\Masaüstü\\visa\\candle\\data\\images\\normal\n",
      "VisA anomali görüntü dizini: C:\\Users\\Tansu\\OneDrive\\Masaüstü\\visa\\candle\\data\\images\\anomaly\n"
     ]
    },
    {
     "name": "stderr",
     "output_type": "stream",
     "text": [
      "candle (VisA): Normal görüntüleri yükleme: 100%|██████████| 1000/1000 [00:21<00:00, 46.06it/s]\n",
      "candle (VisA): Anomali görüntüleri yükleme: 100%|██████████| 100/100 [00:02<00:00, 46.52it/s]\n"
     ]
    },
    {
     "name": "stdout",
     "output_type": "stream",
     "text": [
      "VisA Eğitim veriseti: (700, 128, 128) - Min: 4, Max: 238\n",
      "VisA Test veriseti: (400, 128, 128) - Min: 4, Max: 232\n",
      "VisA Test etiketleri: (400,)\n",
      "VisA Anomali sayısı: 100\n",
      "VisA Normal test örneği sayısı: 300\n",
      "\n",
      "candle (visa) için görselleştirmeler oluşturuluyor...\n",
      "UYARI: 'C:\\Users\\Tansu\\OneDrive\\Masaüstü\\visa\\candle\\test\\good' dizini bulunamadı. Normal örnekler için test dizini kullanılıyor.\n",
      "UYARI: 'candle' için kusur tipi bulunamadı.\n",
      "UYARI: 'C:\\Users\\Tansu\\OneDrive\\Masaüstü\\visa\\candle\\test' dizini bulunamadı.\n"
     ]
    },
    {
     "data": {
      "text/html": [
       "<pre style=\"white-space:pre;overflow-x:auto;line-height:normal;font-family:Menlo,'DejaVu Sans Mono',consolas,'Courier New',monospace\"><span style=\"font-weight: bold\">Model: \"functional_11\"</span>\n",
       "</pre>\n"
      ],
      "text/plain": [
       "\u001b[1mModel: \"functional_11\"\u001b[0m\n"
      ]
     },
     "metadata": {},
     "output_type": "display_data"
    },
    {
     "data": {
      "text/html": [
       "<pre style=\"white-space:pre;overflow-x:auto;line-height:normal;font-family:Menlo,'DejaVu Sans Mono',consolas,'Courier New',monospace\">┏━━━━━━━━━━━━━━━━━━━━━━━━━━━━━━━━━┳━━━━━━━━━━━━━━━━━━━━━━━━┳━━━━━━━━━━━━━━━┓\n",
       "┃<span style=\"font-weight: bold\"> Layer (type)                    </span>┃<span style=\"font-weight: bold\"> Output Shape           </span>┃<span style=\"font-weight: bold\">       Param # </span>┃\n",
       "┡━━━━━━━━━━━━━━━━━━━━━━━━━━━━━━━━━╇━━━━━━━━━━━━━━━━━━━━━━━━╇━━━━━━━━━━━━━━━┩\n",
       "│ input_layer (<span style=\"color: #0087ff; text-decoration-color: #0087ff\">InputLayer</span>)        │ (<span style=\"color: #00d7ff; text-decoration-color: #00d7ff\">None</span>, <span style=\"color: #00af00; text-decoration-color: #00af00\">128</span>, <span style=\"color: #00af00; text-decoration-color: #00af00\">128</span>, <span style=\"color: #00af00; text-decoration-color: #00af00\">1</span>)    │             <span style=\"color: #00af00; text-decoration-color: #00af00\">0</span> │\n",
       "├─────────────────────────────────┼────────────────────────┼───────────────┤\n",
       "│ conv2d_55 (<span style=\"color: #0087ff; text-decoration-color: #0087ff\">Conv2D</span>)              │ (<span style=\"color: #00d7ff; text-decoration-color: #00d7ff\">None</span>, <span style=\"color: #00af00; text-decoration-color: #00af00\">128</span>, <span style=\"color: #00af00; text-decoration-color: #00af00\">128</span>, <span style=\"color: #00af00; text-decoration-color: #00af00\">32</span>)   │           <span style=\"color: #00af00; text-decoration-color: #00af00\">320</span> │\n",
       "├─────────────────────────────────┼────────────────────────┼───────────────┤\n",
       "│ max_pooling2d_22 (<span style=\"color: #0087ff; text-decoration-color: #0087ff\">MaxPooling2D</span>) │ (<span style=\"color: #00d7ff; text-decoration-color: #00d7ff\">None</span>, <span style=\"color: #00af00; text-decoration-color: #00af00\">64</span>, <span style=\"color: #00af00; text-decoration-color: #00af00\">64</span>, <span style=\"color: #00af00; text-decoration-color: #00af00\">32</span>)     │             <span style=\"color: #00af00; text-decoration-color: #00af00\">0</span> │\n",
       "├─────────────────────────────────┼────────────────────────┼───────────────┤\n",
       "│ conv2d_56 (<span style=\"color: #0087ff; text-decoration-color: #0087ff\">Conv2D</span>)              │ (<span style=\"color: #00d7ff; text-decoration-color: #00d7ff\">None</span>, <span style=\"color: #00af00; text-decoration-color: #00af00\">64</span>, <span style=\"color: #00af00; text-decoration-color: #00af00\">64</span>, <span style=\"color: #00af00; text-decoration-color: #00af00\">16</span>)     │         <span style=\"color: #00af00; text-decoration-color: #00af00\">4,624</span> │\n",
       "├─────────────────────────────────┼────────────────────────┼───────────────┤\n",
       "│ max_pooling2d_23 (<span style=\"color: #0087ff; text-decoration-color: #0087ff\">MaxPooling2D</span>) │ (<span style=\"color: #00d7ff; text-decoration-color: #00d7ff\">None</span>, <span style=\"color: #00af00; text-decoration-color: #00af00\">32</span>, <span style=\"color: #00af00; text-decoration-color: #00af00\">32</span>, <span style=\"color: #00af00; text-decoration-color: #00af00\">16</span>)     │             <span style=\"color: #00af00; text-decoration-color: #00af00\">0</span> │\n",
       "├─────────────────────────────────┼────────────────────────┼───────────────┤\n",
       "│ conv2d_57 (<span style=\"color: #0087ff; text-decoration-color: #0087ff\">Conv2D</span>)              │ (<span style=\"color: #00d7ff; text-decoration-color: #00d7ff\">None</span>, <span style=\"color: #00af00; text-decoration-color: #00af00\">32</span>, <span style=\"color: #00af00; text-decoration-color: #00af00\">32</span>, <span style=\"color: #00af00; text-decoration-color: #00af00\">16</span>)     │         <span style=\"color: #00af00; text-decoration-color: #00af00\">2,320</span> │\n",
       "├─────────────────────────────────┼────────────────────────┼───────────────┤\n",
       "│ up_sampling2d_22 (<span style=\"color: #0087ff; text-decoration-color: #0087ff\">UpSampling2D</span>) │ (<span style=\"color: #00d7ff; text-decoration-color: #00d7ff\">None</span>, <span style=\"color: #00af00; text-decoration-color: #00af00\">64</span>, <span style=\"color: #00af00; text-decoration-color: #00af00\">64</span>, <span style=\"color: #00af00; text-decoration-color: #00af00\">16</span>)     │             <span style=\"color: #00af00; text-decoration-color: #00af00\">0</span> │\n",
       "├─────────────────────────────────┼────────────────────────┼───────────────┤\n",
       "│ conv2d_58 (<span style=\"color: #0087ff; text-decoration-color: #0087ff\">Conv2D</span>)              │ (<span style=\"color: #00d7ff; text-decoration-color: #00d7ff\">None</span>, <span style=\"color: #00af00; text-decoration-color: #00af00\">64</span>, <span style=\"color: #00af00; text-decoration-color: #00af00\">64</span>, <span style=\"color: #00af00; text-decoration-color: #00af00\">32</span>)     │         <span style=\"color: #00af00; text-decoration-color: #00af00\">4,640</span> │\n",
       "├─────────────────────────────────┼────────────────────────┼───────────────┤\n",
       "│ up_sampling2d_23 (<span style=\"color: #0087ff; text-decoration-color: #0087ff\">UpSampling2D</span>) │ (<span style=\"color: #00d7ff; text-decoration-color: #00d7ff\">None</span>, <span style=\"color: #00af00; text-decoration-color: #00af00\">128</span>, <span style=\"color: #00af00; text-decoration-color: #00af00\">128</span>, <span style=\"color: #00af00; text-decoration-color: #00af00\">32</span>)   │             <span style=\"color: #00af00; text-decoration-color: #00af00\">0</span> │\n",
       "├─────────────────────────────────┼────────────────────────┼───────────────┤\n",
       "│ conv2d_59 (<span style=\"color: #0087ff; text-decoration-color: #0087ff\">Conv2D</span>)              │ (<span style=\"color: #00d7ff; text-decoration-color: #00d7ff\">None</span>, <span style=\"color: #00af00; text-decoration-color: #00af00\">128</span>, <span style=\"color: #00af00; text-decoration-color: #00af00\">128</span>, <span style=\"color: #00af00; text-decoration-color: #00af00\">1</span>)    │           <span style=\"color: #00af00; text-decoration-color: #00af00\">289</span> │\n",
       "└─────────────────────────────────┴────────────────────────┴───────────────┘\n",
       "</pre>\n"
      ],
      "text/plain": [
       "┏━━━━━━━━━━━━━━━━━━━━━━━━━━━━━━━━━┳━━━━━━━━━━━━━━━━━━━━━━━━┳━━━━━━━━━━━━━━━┓\n",
       "┃\u001b[1m \u001b[0m\u001b[1mLayer (type)                   \u001b[0m\u001b[1m \u001b[0m┃\u001b[1m \u001b[0m\u001b[1mOutput Shape          \u001b[0m\u001b[1m \u001b[0m┃\u001b[1m \u001b[0m\u001b[1m      Param #\u001b[0m\u001b[1m \u001b[0m┃\n",
       "┡━━━━━━━━━━━━━━━━━━━━━━━━━━━━━━━━━╇━━━━━━━━━━━━━━━━━━━━━━━━╇━━━━━━━━━━━━━━━┩\n",
       "│ input_layer (\u001b[38;5;33mInputLayer\u001b[0m)        │ (\u001b[38;5;45mNone\u001b[0m, \u001b[38;5;34m128\u001b[0m, \u001b[38;5;34m128\u001b[0m, \u001b[38;5;34m1\u001b[0m)    │             \u001b[38;5;34m0\u001b[0m │\n",
       "├─────────────────────────────────┼────────────────────────┼───────────────┤\n",
       "│ conv2d_55 (\u001b[38;5;33mConv2D\u001b[0m)              │ (\u001b[38;5;45mNone\u001b[0m, \u001b[38;5;34m128\u001b[0m, \u001b[38;5;34m128\u001b[0m, \u001b[38;5;34m32\u001b[0m)   │           \u001b[38;5;34m320\u001b[0m │\n",
       "├─────────────────────────────────┼────────────────────────┼───────────────┤\n",
       "│ max_pooling2d_22 (\u001b[38;5;33mMaxPooling2D\u001b[0m) │ (\u001b[38;5;45mNone\u001b[0m, \u001b[38;5;34m64\u001b[0m, \u001b[38;5;34m64\u001b[0m, \u001b[38;5;34m32\u001b[0m)     │             \u001b[38;5;34m0\u001b[0m │\n",
       "├─────────────────────────────────┼────────────────────────┼───────────────┤\n",
       "│ conv2d_56 (\u001b[38;5;33mConv2D\u001b[0m)              │ (\u001b[38;5;45mNone\u001b[0m, \u001b[38;5;34m64\u001b[0m, \u001b[38;5;34m64\u001b[0m, \u001b[38;5;34m16\u001b[0m)     │         \u001b[38;5;34m4,624\u001b[0m │\n",
       "├─────────────────────────────────┼────────────────────────┼───────────────┤\n",
       "│ max_pooling2d_23 (\u001b[38;5;33mMaxPooling2D\u001b[0m) │ (\u001b[38;5;45mNone\u001b[0m, \u001b[38;5;34m32\u001b[0m, \u001b[38;5;34m32\u001b[0m, \u001b[38;5;34m16\u001b[0m)     │             \u001b[38;5;34m0\u001b[0m │\n",
       "├─────────────────────────────────┼────────────────────────┼───────────────┤\n",
       "│ conv2d_57 (\u001b[38;5;33mConv2D\u001b[0m)              │ (\u001b[38;5;45mNone\u001b[0m, \u001b[38;5;34m32\u001b[0m, \u001b[38;5;34m32\u001b[0m, \u001b[38;5;34m16\u001b[0m)     │         \u001b[38;5;34m2,320\u001b[0m │\n",
       "├─────────────────────────────────┼────────────────────────┼───────────────┤\n",
       "│ up_sampling2d_22 (\u001b[38;5;33mUpSampling2D\u001b[0m) │ (\u001b[38;5;45mNone\u001b[0m, \u001b[38;5;34m64\u001b[0m, \u001b[38;5;34m64\u001b[0m, \u001b[38;5;34m16\u001b[0m)     │             \u001b[38;5;34m0\u001b[0m │\n",
       "├─────────────────────────────────┼────────────────────────┼───────────────┤\n",
       "│ conv2d_58 (\u001b[38;5;33mConv2D\u001b[0m)              │ (\u001b[38;5;45mNone\u001b[0m, \u001b[38;5;34m64\u001b[0m, \u001b[38;5;34m64\u001b[0m, \u001b[38;5;34m32\u001b[0m)     │         \u001b[38;5;34m4,640\u001b[0m │\n",
       "├─────────────────────────────────┼────────────────────────┼───────────────┤\n",
       "│ up_sampling2d_23 (\u001b[38;5;33mUpSampling2D\u001b[0m) │ (\u001b[38;5;45mNone\u001b[0m, \u001b[38;5;34m128\u001b[0m, \u001b[38;5;34m128\u001b[0m, \u001b[38;5;34m32\u001b[0m)   │             \u001b[38;5;34m0\u001b[0m │\n",
       "├─────────────────────────────────┼────────────────────────┼───────────────┤\n",
       "│ conv2d_59 (\u001b[38;5;33mConv2D\u001b[0m)              │ (\u001b[38;5;45mNone\u001b[0m, \u001b[38;5;34m128\u001b[0m, \u001b[38;5;34m128\u001b[0m, \u001b[38;5;34m1\u001b[0m)    │           \u001b[38;5;34m289\u001b[0m │\n",
       "└─────────────────────────────────┴────────────────────────┴───────────────┘\n"
      ]
     },
     "metadata": {},
     "output_type": "display_data"
    },
    {
     "data": {
      "text/html": [
       "<pre style=\"white-space:pre;overflow-x:auto;line-height:normal;font-family:Menlo,'DejaVu Sans Mono',consolas,'Courier New',monospace\"><span style=\"font-weight: bold\"> Total params: </span><span style=\"color: #00af00; text-decoration-color: #00af00\">12,193</span> (47.63 KB)\n",
       "</pre>\n"
      ],
      "text/plain": [
       "\u001b[1m Total params: \u001b[0m\u001b[38;5;34m12,193\u001b[0m (47.63 KB)\n"
      ]
     },
     "metadata": {},
     "output_type": "display_data"
    },
    {
     "data": {
      "text/html": [
       "<pre style=\"white-space:pre;overflow-x:auto;line-height:normal;font-family:Menlo,'DejaVu Sans Mono',consolas,'Courier New',monospace\"><span style=\"font-weight: bold\"> Trainable params: </span><span style=\"color: #00af00; text-decoration-color: #00af00\">12,193</span> (47.63 KB)\n",
       "</pre>\n"
      ],
      "text/plain": [
       "\u001b[1m Trainable params: \u001b[0m\u001b[38;5;34m12,193\u001b[0m (47.63 KB)\n"
      ]
     },
     "metadata": {},
     "output_type": "display_data"
    },
    {
     "data": {
      "text/html": [
       "<pre style=\"white-space:pre;overflow-x:auto;line-height:normal;font-family:Menlo,'DejaVu Sans Mono',consolas,'Courier New',monospace\"><span style=\"font-weight: bold\"> Non-trainable params: </span><span style=\"color: #00af00; text-decoration-color: #00af00\">0</span> (0.00 B)\n",
       "</pre>\n"
      ],
      "text/plain": [
       "\u001b[1m Non-trainable params: \u001b[0m\u001b[38;5;34m0\u001b[0m (0.00 B)\n"
      ]
     },
     "metadata": {},
     "output_type": "display_data"
    },
    {
     "name": "stdout",
     "output_type": "stream",
     "text": [
      "Epoch 1/20\n",
      "\u001b[1m18/18\u001b[0m \u001b[32m━━━━━━━━━━━━━━━━━━━━\u001b[0m\u001b[37m\u001b[0m \u001b[1m0s\u001b[0m 124ms/step - loss: 0.1162\n",
      "Epoch 1: val_loss improved from inf to 0.03973, saving model to anomaly_detection_results\\visa\\candle\\candle_visa_best_model.keras\n",
      "\u001b[1m18/18\u001b[0m \u001b[32m━━━━━━━━━━━━━━━━━━━━\u001b[0m\u001b[37m\u001b[0m \u001b[1m4s\u001b[0m 156ms/step - loss: 0.1153 - val_loss: 0.0397\n",
      "Epoch 2/20\n",
      "\u001b[1m18/18\u001b[0m \u001b[32m━━━━━━━━━━━━━━━━━━━━\u001b[0m\u001b[37m\u001b[0m \u001b[1m0s\u001b[0m 132ms/step - loss: 0.0213\n",
      "Epoch 2: val_loss improved from 0.03973 to 0.01103, saving model to anomaly_detection_results\\visa\\candle\\candle_visa_best_model.keras\n",
      "\u001b[1m18/18\u001b[0m \u001b[32m━━━━━━━━━━━━━━━━━━━━\u001b[0m\u001b[37m\u001b[0m \u001b[1m3s\u001b[0m 151ms/step - loss: 0.0210 - val_loss: 0.0110\n",
      "Epoch 3/20\n",
      "\u001b[1m18/18\u001b[0m \u001b[32m━━━━━━━━━━━━━━━━━━━━\u001b[0m\u001b[37m\u001b[0m \u001b[1m0s\u001b[0m 129ms/step - loss: 0.0108\n",
      "Epoch 3: val_loss did not improve from 0.01103\n",
      "\u001b[1m18/18\u001b[0m \u001b[32m━━━━━━━━━━━━━━━━━━━━\u001b[0m\u001b[37m\u001b[0m \u001b[1m3s\u001b[0m 147ms/step - loss: 0.0108 - val_loss: 0.0124\n",
      "Epoch 4/20\n",
      "\u001b[1m18/18\u001b[0m \u001b[32m━━━━━━━━━━━━━━━━━━━━\u001b[0m\u001b[37m\u001b[0m \u001b[1m0s\u001b[0m 140ms/step - loss: 0.0095\n",
      "Epoch 4: val_loss improved from 0.01103 to 0.00560, saving model to anomaly_detection_results\\visa\\candle\\candle_visa_best_model.keras\n",
      "\u001b[1m18/18\u001b[0m \u001b[32m━━━━━━━━━━━━━━━━━━━━\u001b[0m\u001b[37m\u001b[0m \u001b[1m3s\u001b[0m 162ms/step - loss: 0.0095 - val_loss: 0.0056\n",
      "Epoch 5/20\n",
      "\u001b[1m18/18\u001b[0m \u001b[32m━━━━━━━━━━━━━━━━━━━━\u001b[0m\u001b[37m\u001b[0m \u001b[1m0s\u001b[0m 130ms/step - loss: 0.0057\n",
      "Epoch 5: val_loss improved from 0.00560 to 0.00497, saving model to anomaly_detection_results\\visa\\candle\\candle_visa_best_model.keras\n",
      "\u001b[1m18/18\u001b[0m \u001b[32m━━━━━━━━━━━━━━━━━━━━\u001b[0m\u001b[37m\u001b[0m \u001b[1m3s\u001b[0m 148ms/step - loss: 0.0057 - val_loss: 0.0050\n",
      "Epoch 6/20\n",
      "\u001b[1m18/18\u001b[0m \u001b[32m━━━━━━━━━━━━━━━━━━━━\u001b[0m\u001b[37m\u001b[0m \u001b[1m0s\u001b[0m 122ms/step - loss: 0.0049\n",
      "Epoch 6: val_loss improved from 0.00497 to 0.00428, saving model to anomaly_detection_results\\visa\\candle\\candle_visa_best_model.keras\n",
      "\u001b[1m18/18\u001b[0m \u001b[32m━━━━━━━━━━━━━━━━━━━━\u001b[0m\u001b[37m\u001b[0m \u001b[1m3s\u001b[0m 141ms/step - loss: 0.0049 - val_loss: 0.0043\n",
      "Epoch 7/20\n",
      "\u001b[1m18/18\u001b[0m \u001b[32m━━━━━━━━━━━━━━━━━━━━\u001b[0m\u001b[37m\u001b[0m \u001b[1m0s\u001b[0m 126ms/step - loss: 0.0041\n",
      "Epoch 7: val_loss improved from 0.00428 to 0.00362, saving model to anomaly_detection_results\\visa\\candle\\candle_visa_best_model.keras\n",
      "\u001b[1m18/18\u001b[0m \u001b[32m━━━━━━━━━━━━━━━━━━━━\u001b[0m\u001b[37m\u001b[0m \u001b[1m3s\u001b[0m 144ms/step - loss: 0.0041 - val_loss: 0.0036\n",
      "Epoch 8/20\n",
      "\u001b[1m18/18\u001b[0m \u001b[32m━━━━━━━━━━━━━━━━━━━━\u001b[0m\u001b[37m\u001b[0m \u001b[1m0s\u001b[0m 133ms/step - loss: 0.0035\n",
      "Epoch 8: val_loss improved from 0.00362 to 0.00317, saving model to anomaly_detection_results\\visa\\candle\\candle_visa_best_model.keras\n",
      "\u001b[1m18/18\u001b[0m \u001b[32m━━━━━━━━━━━━━━━━━━━━\u001b[0m\u001b[37m\u001b[0m \u001b[1m3s\u001b[0m 153ms/step - loss: 0.0035 - val_loss: 0.0032\n",
      "Epoch 9/20\n",
      "\u001b[1m18/18\u001b[0m \u001b[32m━━━━━━━━━━━━━━━━━━━━\u001b[0m\u001b[37m\u001b[0m \u001b[1m0s\u001b[0m 134ms/step - loss: 0.0031\n",
      "Epoch 9: val_loss improved from 0.00317 to 0.00291, saving model to anomaly_detection_results\\visa\\candle\\candle_visa_best_model.keras\n",
      "\u001b[1m18/18\u001b[0m \u001b[32m━━━━━━━━━━━━━━━━━━━━\u001b[0m\u001b[37m\u001b[0m \u001b[1m3s\u001b[0m 156ms/step - loss: 0.0031 - val_loss: 0.0029\n",
      "Epoch 10/20\n",
      "\u001b[1m18/18\u001b[0m \u001b[32m━━━━━━━━━━━━━━━━━━━━\u001b[0m\u001b[37m\u001b[0m \u001b[1m0s\u001b[0m 136ms/step - loss: 0.0029\n",
      "Epoch 10: val_loss improved from 0.00291 to 0.00273, saving model to anomaly_detection_results\\visa\\candle\\candle_visa_best_model.keras\n",
      "\u001b[1m18/18\u001b[0m \u001b[32m━━━━━━━━━━━━━━━━━━━━\u001b[0m\u001b[37m\u001b[0m \u001b[1m3s\u001b[0m 159ms/step - loss: 0.0029 - val_loss: 0.0027\n",
      "Epoch 11/20\n",
      "\u001b[1m18/18\u001b[0m \u001b[32m━━━━━━━━━━━━━━━━━━━━\u001b[0m\u001b[37m\u001b[0m \u001b[1m0s\u001b[0m 130ms/step - loss: 0.0027\n",
      "Epoch 11: val_loss improved from 0.00273 to 0.00258, saving model to anomaly_detection_results\\visa\\candle\\candle_visa_best_model.keras\n",
      "\u001b[1m18/18\u001b[0m \u001b[32m━━━━━━━━━━━━━━━━━━━━\u001b[0m\u001b[37m\u001b[0m \u001b[1m3s\u001b[0m 150ms/step - loss: 0.0027 - val_loss: 0.0026\n",
      "Epoch 12/20\n",
      "\u001b[1m18/18\u001b[0m \u001b[32m━━━━━━━━━━━━━━━━━━━━\u001b[0m\u001b[37m\u001b[0m \u001b[1m0s\u001b[0m 132ms/step - loss: 0.0026\n",
      "Epoch 12: val_loss improved from 0.00258 to 0.00246, saving model to anomaly_detection_results\\visa\\candle\\candle_visa_best_model.keras\n",
      "\u001b[1m18/18\u001b[0m \u001b[32m━━━━━━━━━━━━━━━━━━━━\u001b[0m\u001b[37m\u001b[0m \u001b[1m3s\u001b[0m 153ms/step - loss: 0.0026 - val_loss: 0.0025\n",
      "Epoch 13/20\n",
      "\u001b[1m18/18\u001b[0m \u001b[32m━━━━━━━━━━━━━━━━━━━━\u001b[0m\u001b[37m\u001b[0m \u001b[1m0s\u001b[0m 135ms/step - loss: 0.0024\n",
      "Epoch 13: val_loss improved from 0.00246 to 0.00236, saving model to anomaly_detection_results\\visa\\candle\\candle_visa_best_model.keras\n",
      "\u001b[1m18/18\u001b[0m \u001b[32m━━━━━━━━━━━━━━━━━━━━\u001b[0m\u001b[37m\u001b[0m \u001b[1m3s\u001b[0m 156ms/step - loss: 0.0024 - val_loss: 0.0024\n",
      "Epoch 14/20\n",
      "\u001b[1m18/18\u001b[0m \u001b[32m━━━━━━━━━━━━━━━━━━━━\u001b[0m\u001b[37m\u001b[0m \u001b[1m0s\u001b[0m 144ms/step - loss: 0.0023\n",
      "Epoch 14: val_loss improved from 0.00236 to 0.00226, saving model to anomaly_detection_results\\visa\\candle\\candle_visa_best_model.keras\n",
      "\u001b[1m18/18\u001b[0m \u001b[32m━━━━━━━━━━━━━━━━━━━━\u001b[0m\u001b[37m\u001b[0m \u001b[1m3s\u001b[0m 165ms/step - loss: 0.0023 - val_loss: 0.0023\n",
      "Epoch 15/20\n",
      "\u001b[1m18/18\u001b[0m \u001b[32m━━━━━━━━━━━━━━━━━━━━\u001b[0m\u001b[37m\u001b[0m \u001b[1m0s\u001b[0m 141ms/step - loss: 0.0022\n",
      "Epoch 15: val_loss improved from 0.00226 to 0.00216, saving model to anomaly_detection_results\\visa\\candle\\candle_visa_best_model.keras\n",
      "\u001b[1m18/18\u001b[0m \u001b[32m━━━━━━━━━━━━━━━━━━━━\u001b[0m\u001b[37m\u001b[0m \u001b[1m3s\u001b[0m 164ms/step - loss: 0.0022 - val_loss: 0.0022\n",
      "Epoch 16/20\n",
      "\u001b[1m18/18\u001b[0m \u001b[32m━━━━━━━━━━━━━━━━━━━━\u001b[0m\u001b[37m\u001b[0m \u001b[1m0s\u001b[0m 133ms/step - loss: 0.0021\n",
      "Epoch 16: val_loss improved from 0.00216 to 0.00205, saving model to anomaly_detection_results\\visa\\candle\\candle_visa_best_model.keras\n",
      "\u001b[1m18/18\u001b[0m \u001b[32m━━━━━━━━━━━━━━━━━━━━\u001b[0m\u001b[37m\u001b[0m \u001b[1m3s\u001b[0m 154ms/step - loss: 0.0021 - val_loss: 0.0021\n",
      "Epoch 17/20\n",
      "\u001b[1m18/18\u001b[0m \u001b[32m━━━━━━━━━━━━━━━━━━━━\u001b[0m\u001b[37m\u001b[0m \u001b[1m0s\u001b[0m 143ms/step - loss: 0.0020\n",
      "Epoch 17: val_loss improved from 0.00205 to 0.00196, saving model to anomaly_detection_results\\visa\\candle\\candle_visa_best_model.keras\n",
      "\u001b[1m18/18\u001b[0m \u001b[32m━━━━━━━━━━━━━━━━━━━━\u001b[0m\u001b[37m\u001b[0m \u001b[1m3s\u001b[0m 164ms/step - loss: 0.0020 - val_loss: 0.0020\n",
      "Epoch 18/20\n",
      "\u001b[1m18/18\u001b[0m \u001b[32m━━━━━━━━━━━━━━━━━━━━\u001b[0m\u001b[37m\u001b[0m \u001b[1m0s\u001b[0m 134ms/step - loss: 0.0019\n",
      "Epoch 18: val_loss improved from 0.00196 to 0.00188, saving model to anomaly_detection_results\\visa\\candle\\candle_visa_best_model.keras\n",
      "\u001b[1m18/18\u001b[0m \u001b[32m━━━━━━━━━━━━━━━━━━━━\u001b[0m\u001b[37m\u001b[0m \u001b[1m3s\u001b[0m 155ms/step - loss: 0.0019 - val_loss: 0.0019\n",
      "Epoch 19/20\n",
      "\u001b[1m18/18\u001b[0m \u001b[32m━━━━━━━━━━━━━━━━━━━━\u001b[0m\u001b[37m\u001b[0m \u001b[1m0s\u001b[0m 137ms/step - loss: 0.0019\n",
      "Epoch 19: val_loss improved from 0.00188 to 0.00181, saving model to anomaly_detection_results\\visa\\candle\\candle_visa_best_model.keras\n",
      "\u001b[1m18/18\u001b[0m \u001b[32m━━━━━━━━━━━━━━━━━━━━\u001b[0m\u001b[37m\u001b[0m \u001b[1m3s\u001b[0m 159ms/step - loss: 0.0019 - val_loss: 0.0018\n",
      "Epoch 20/20\n",
      "\u001b[1m18/18\u001b[0m \u001b[32m━━━━━━━━━━━━━━━━━━━━\u001b[0m\u001b[37m\u001b[0m \u001b[1m0s\u001b[0m 138ms/step - loss: 0.0018\n",
      "Epoch 20: val_loss improved from 0.00181 to 0.00174, saving model to anomaly_detection_results\\visa\\candle\\candle_visa_best_model.keras\n",
      "\u001b[1m18/18\u001b[0m \u001b[32m━━━━━━━━━━━━━━━━━━━━\u001b[0m\u001b[37m\u001b[0m \u001b[1m3s\u001b[0m 159ms/step - loss: 0.0018 - val_loss: 0.0017\n",
      "Eğitim tamamlandı. Süre: 57.13 saniye\n",
      "En iyi model yüklendi: anomaly_detection_results\\visa\\candle\\candle_visa_best_model.keras\n",
      "Eğitim geçmişi grafiği kaydedildi: anomaly_detection_results\\visa\\candle\\candle_visa_training_history.png\n",
      "Rekonstrüksiyon başlatılıyor...\n",
      "\u001b[1m13/13\u001b[0m \u001b[32m━━━━━━━━━━━━━━━━━━━━\u001b[0m\u001b[37m\u001b[0m \u001b[1m1s\u001b[0m 67ms/step\n",
      "Anomali eşik değeri (95. yüzdelik): 0.001828\n",
      "Doğruluk (Accuracy): 0.7400\n",
      "Hassasiyet (Precision): 0.4000\n",
      "Duyarlılık (Recall): 0.0800\n",
      "F1 Skoru: 0.1333\n",
      "ROC AUC: 0.5030\n",
      "\n",
      "candle (visa) için analiz sonuçları görselleştiriliyor...\n",
      "Rekonstrüksiyon sonuçları kaydedildi: anomaly_detection_results\\visa\\candle\\candle_visa_reconstruction_results.png\n",
      "Normal örnekler MSE - Min: 0.001593, Max: 0.001934, Ortalama: 0.001740\n",
      "Anomali örnekler MSE - Min: 0.001630, Max: 0.001997, Ortalama: 0.001742\n",
      "MSE karşılaştırma histogramı kaydedildi: anomaly_detection_results\\visa\\candle\\candle_visa_mse_comparison_histogram.png\n",
      "ROC eğrisi kaydedildi: anomaly_detection_results\\visa\\candle\\candle_visa_roc_curve.png\n",
      "Karışıklık matrisi kaydedildi: anomaly_detection_results\\visa\\candle\\candle_visa_confusion_matrix.png\n",
      "anomaly kusur tipi detaylı analizi kaydedildi: anomaly_detection_results\\visa\\candle\\candle_visa_anomaly_detailed_analysis.png\n",
      "Kusur tipi metrikleri kaydedildi: anomaly_detection_results\\visa\\candle\\candle_visa_defect_type_metrics.png\n",
      "Kusur tipine göre MSE dağılımı kaydedildi: anomaly_detection_results\\visa\\candle\\candle_visa_defect_type_mse_distribution.png\n",
      "Sonuçlar başarıyla kaydedildi: anomaly_detection_results\\visa\\candle\n",
      "VisA: candle kategorisi başarıyla işlendi.\n",
      "\n",
      "==================================================\n",
      "İşleniyor: capsules (VISA veri seti)\n",
      "==================================================\n",
      "VisA kategori dizini: C:\\Users\\Tansu\\OneDrive\\Masaüstü\\visa\\capsules\n",
      "VisA görüntü dizini: C:\\Users\\Tansu\\OneDrive\\Masaüstü\\visa\\capsules\\data\\images\n",
      "VisA normal görüntü dizini: C:\\Users\\Tansu\\OneDrive\\Masaüstü\\visa\\capsules\\data\\images\\normal\n",
      "VisA anomali görüntü dizini: C:\\Users\\Tansu\\OneDrive\\Masaüstü\\visa\\capsules\\data\\images\\anomaly\n"
     ]
    },
    {
     "name": "stderr",
     "output_type": "stream",
     "text": [
      "capsules (VisA): Normal görüntüleri yükleme: 100%|██████████| 602/602 [00:15<00:00, 38.35it/s]\n",
      "capsules (VisA): Anomali görüntüleri yükleme: 100%|██████████| 100/100 [00:02<00:00, 37.44it/s]\n"
     ]
    },
    {
     "name": "stdout",
     "output_type": "stream",
     "text": [
      "VisA Eğitim veriseti: (422, 128, 128) - Min: 18, Max: 255\n",
      "VisA Test veriseti: (280, 128, 128) - Min: 18, Max: 255\n",
      "VisA Test etiketleri: (280,)\n",
      "VisA Anomali sayısı: 100\n",
      "VisA Normal test örneği sayısı: 180\n",
      "\n",
      "capsules (visa) için görselleştirmeler oluşturuluyor...\n",
      "UYARI: 'C:\\Users\\Tansu\\OneDrive\\Masaüstü\\visa\\capsules\\test\\good' dizini bulunamadı. Normal örnekler için test dizini kullanılıyor.\n",
      "UYARI: 'capsules' için kusur tipi bulunamadı.\n",
      "UYARI: 'C:\\Users\\Tansu\\OneDrive\\Masaüstü\\visa\\capsules\\test' dizini bulunamadı.\n"
     ]
    },
    {
     "data": {
      "text/html": [
       "<pre style=\"white-space:pre;overflow-x:auto;line-height:normal;font-family:Menlo,'DejaVu Sans Mono',consolas,'Courier New',monospace\"><span style=\"font-weight: bold\">Model: \"functional_12\"</span>\n",
       "</pre>\n"
      ],
      "text/plain": [
       "\u001b[1mModel: \"functional_12\"\u001b[0m\n"
      ]
     },
     "metadata": {},
     "output_type": "display_data"
    },
    {
     "data": {
      "text/html": [
       "<pre style=\"white-space:pre;overflow-x:auto;line-height:normal;font-family:Menlo,'DejaVu Sans Mono',consolas,'Courier New',monospace\">┏━━━━━━━━━━━━━━━━━━━━━━━━━━━━━━━━━┳━━━━━━━━━━━━━━━━━━━━━━━━┳━━━━━━━━━━━━━━━┓\n",
       "┃<span style=\"font-weight: bold\"> Layer (type)                    </span>┃<span style=\"font-weight: bold\"> Output Shape           </span>┃<span style=\"font-weight: bold\">       Param # </span>┃\n",
       "┡━━━━━━━━━━━━━━━━━━━━━━━━━━━━━━━━━╇━━━━━━━━━━━━━━━━━━━━━━━━╇━━━━━━━━━━━━━━━┩\n",
       "│ input_layer (<span style=\"color: #0087ff; text-decoration-color: #0087ff\">InputLayer</span>)        │ (<span style=\"color: #00d7ff; text-decoration-color: #00d7ff\">None</span>, <span style=\"color: #00af00; text-decoration-color: #00af00\">128</span>, <span style=\"color: #00af00; text-decoration-color: #00af00\">128</span>, <span style=\"color: #00af00; text-decoration-color: #00af00\">1</span>)    │             <span style=\"color: #00af00; text-decoration-color: #00af00\">0</span> │\n",
       "├─────────────────────────────────┼────────────────────────┼───────────────┤\n",
       "│ conv2d_60 (<span style=\"color: #0087ff; text-decoration-color: #0087ff\">Conv2D</span>)              │ (<span style=\"color: #00d7ff; text-decoration-color: #00d7ff\">None</span>, <span style=\"color: #00af00; text-decoration-color: #00af00\">128</span>, <span style=\"color: #00af00; text-decoration-color: #00af00\">128</span>, <span style=\"color: #00af00; text-decoration-color: #00af00\">32</span>)   │           <span style=\"color: #00af00; text-decoration-color: #00af00\">320</span> │\n",
       "├─────────────────────────────────┼────────────────────────┼───────────────┤\n",
       "│ max_pooling2d_24 (<span style=\"color: #0087ff; text-decoration-color: #0087ff\">MaxPooling2D</span>) │ (<span style=\"color: #00d7ff; text-decoration-color: #00d7ff\">None</span>, <span style=\"color: #00af00; text-decoration-color: #00af00\">64</span>, <span style=\"color: #00af00; text-decoration-color: #00af00\">64</span>, <span style=\"color: #00af00; text-decoration-color: #00af00\">32</span>)     │             <span style=\"color: #00af00; text-decoration-color: #00af00\">0</span> │\n",
       "├─────────────────────────────────┼────────────────────────┼───────────────┤\n",
       "│ conv2d_61 (<span style=\"color: #0087ff; text-decoration-color: #0087ff\">Conv2D</span>)              │ (<span style=\"color: #00d7ff; text-decoration-color: #00d7ff\">None</span>, <span style=\"color: #00af00; text-decoration-color: #00af00\">64</span>, <span style=\"color: #00af00; text-decoration-color: #00af00\">64</span>, <span style=\"color: #00af00; text-decoration-color: #00af00\">16</span>)     │         <span style=\"color: #00af00; text-decoration-color: #00af00\">4,624</span> │\n",
       "├─────────────────────────────────┼────────────────────────┼───────────────┤\n",
       "│ max_pooling2d_25 (<span style=\"color: #0087ff; text-decoration-color: #0087ff\">MaxPooling2D</span>) │ (<span style=\"color: #00d7ff; text-decoration-color: #00d7ff\">None</span>, <span style=\"color: #00af00; text-decoration-color: #00af00\">32</span>, <span style=\"color: #00af00; text-decoration-color: #00af00\">32</span>, <span style=\"color: #00af00; text-decoration-color: #00af00\">16</span>)     │             <span style=\"color: #00af00; text-decoration-color: #00af00\">0</span> │\n",
       "├─────────────────────────────────┼────────────────────────┼───────────────┤\n",
       "│ conv2d_62 (<span style=\"color: #0087ff; text-decoration-color: #0087ff\">Conv2D</span>)              │ (<span style=\"color: #00d7ff; text-decoration-color: #00d7ff\">None</span>, <span style=\"color: #00af00; text-decoration-color: #00af00\">32</span>, <span style=\"color: #00af00; text-decoration-color: #00af00\">32</span>, <span style=\"color: #00af00; text-decoration-color: #00af00\">16</span>)     │         <span style=\"color: #00af00; text-decoration-color: #00af00\">2,320</span> │\n",
       "├─────────────────────────────────┼────────────────────────┼───────────────┤\n",
       "│ up_sampling2d_24 (<span style=\"color: #0087ff; text-decoration-color: #0087ff\">UpSampling2D</span>) │ (<span style=\"color: #00d7ff; text-decoration-color: #00d7ff\">None</span>, <span style=\"color: #00af00; text-decoration-color: #00af00\">64</span>, <span style=\"color: #00af00; text-decoration-color: #00af00\">64</span>, <span style=\"color: #00af00; text-decoration-color: #00af00\">16</span>)     │             <span style=\"color: #00af00; text-decoration-color: #00af00\">0</span> │\n",
       "├─────────────────────────────────┼────────────────────────┼───────────────┤\n",
       "│ conv2d_63 (<span style=\"color: #0087ff; text-decoration-color: #0087ff\">Conv2D</span>)              │ (<span style=\"color: #00d7ff; text-decoration-color: #00d7ff\">None</span>, <span style=\"color: #00af00; text-decoration-color: #00af00\">64</span>, <span style=\"color: #00af00; text-decoration-color: #00af00\">64</span>, <span style=\"color: #00af00; text-decoration-color: #00af00\">32</span>)     │         <span style=\"color: #00af00; text-decoration-color: #00af00\">4,640</span> │\n",
       "├─────────────────────────────────┼────────────────────────┼───────────────┤\n",
       "│ up_sampling2d_25 (<span style=\"color: #0087ff; text-decoration-color: #0087ff\">UpSampling2D</span>) │ (<span style=\"color: #00d7ff; text-decoration-color: #00d7ff\">None</span>, <span style=\"color: #00af00; text-decoration-color: #00af00\">128</span>, <span style=\"color: #00af00; text-decoration-color: #00af00\">128</span>, <span style=\"color: #00af00; text-decoration-color: #00af00\">32</span>)   │             <span style=\"color: #00af00; text-decoration-color: #00af00\">0</span> │\n",
       "├─────────────────────────────────┼────────────────────────┼───────────────┤\n",
       "│ conv2d_64 (<span style=\"color: #0087ff; text-decoration-color: #0087ff\">Conv2D</span>)              │ (<span style=\"color: #00d7ff; text-decoration-color: #00d7ff\">None</span>, <span style=\"color: #00af00; text-decoration-color: #00af00\">128</span>, <span style=\"color: #00af00; text-decoration-color: #00af00\">128</span>, <span style=\"color: #00af00; text-decoration-color: #00af00\">1</span>)    │           <span style=\"color: #00af00; text-decoration-color: #00af00\">289</span> │\n",
       "└─────────────────────────────────┴────────────────────────┴───────────────┘\n",
       "</pre>\n"
      ],
      "text/plain": [
       "┏━━━━━━━━━━━━━━━━━━━━━━━━━━━━━━━━━┳━━━━━━━━━━━━━━━━━━━━━━━━┳━━━━━━━━━━━━━━━┓\n",
       "┃\u001b[1m \u001b[0m\u001b[1mLayer (type)                   \u001b[0m\u001b[1m \u001b[0m┃\u001b[1m \u001b[0m\u001b[1mOutput Shape          \u001b[0m\u001b[1m \u001b[0m┃\u001b[1m \u001b[0m\u001b[1m      Param #\u001b[0m\u001b[1m \u001b[0m┃\n",
       "┡━━━━━━━━━━━━━━━━━━━━━━━━━━━━━━━━━╇━━━━━━━━━━━━━━━━━━━━━━━━╇━━━━━━━━━━━━━━━┩\n",
       "│ input_layer (\u001b[38;5;33mInputLayer\u001b[0m)        │ (\u001b[38;5;45mNone\u001b[0m, \u001b[38;5;34m128\u001b[0m, \u001b[38;5;34m128\u001b[0m, \u001b[38;5;34m1\u001b[0m)    │             \u001b[38;5;34m0\u001b[0m │\n",
       "├─────────────────────────────────┼────────────────────────┼───────────────┤\n",
       "│ conv2d_60 (\u001b[38;5;33mConv2D\u001b[0m)              │ (\u001b[38;5;45mNone\u001b[0m, \u001b[38;5;34m128\u001b[0m, \u001b[38;5;34m128\u001b[0m, \u001b[38;5;34m32\u001b[0m)   │           \u001b[38;5;34m320\u001b[0m │\n",
       "├─────────────────────────────────┼────────────────────────┼───────────────┤\n",
       "│ max_pooling2d_24 (\u001b[38;5;33mMaxPooling2D\u001b[0m) │ (\u001b[38;5;45mNone\u001b[0m, \u001b[38;5;34m64\u001b[0m, \u001b[38;5;34m64\u001b[0m, \u001b[38;5;34m32\u001b[0m)     │             \u001b[38;5;34m0\u001b[0m │\n",
       "├─────────────────────────────────┼────────────────────────┼───────────────┤\n",
       "│ conv2d_61 (\u001b[38;5;33mConv2D\u001b[0m)              │ (\u001b[38;5;45mNone\u001b[0m, \u001b[38;5;34m64\u001b[0m, \u001b[38;5;34m64\u001b[0m, \u001b[38;5;34m16\u001b[0m)     │         \u001b[38;5;34m4,624\u001b[0m │\n",
       "├─────────────────────────────────┼────────────────────────┼───────────────┤\n",
       "│ max_pooling2d_25 (\u001b[38;5;33mMaxPooling2D\u001b[0m) │ (\u001b[38;5;45mNone\u001b[0m, \u001b[38;5;34m32\u001b[0m, \u001b[38;5;34m32\u001b[0m, \u001b[38;5;34m16\u001b[0m)     │             \u001b[38;5;34m0\u001b[0m │\n",
       "├─────────────────────────────────┼────────────────────────┼───────────────┤\n",
       "│ conv2d_62 (\u001b[38;5;33mConv2D\u001b[0m)              │ (\u001b[38;5;45mNone\u001b[0m, \u001b[38;5;34m32\u001b[0m, \u001b[38;5;34m32\u001b[0m, \u001b[38;5;34m16\u001b[0m)     │         \u001b[38;5;34m2,320\u001b[0m │\n",
       "├─────────────────────────────────┼────────────────────────┼───────────────┤\n",
       "│ up_sampling2d_24 (\u001b[38;5;33mUpSampling2D\u001b[0m) │ (\u001b[38;5;45mNone\u001b[0m, \u001b[38;5;34m64\u001b[0m, \u001b[38;5;34m64\u001b[0m, \u001b[38;5;34m16\u001b[0m)     │             \u001b[38;5;34m0\u001b[0m │\n",
       "├─────────────────────────────────┼────────────────────────┼───────────────┤\n",
       "│ conv2d_63 (\u001b[38;5;33mConv2D\u001b[0m)              │ (\u001b[38;5;45mNone\u001b[0m, \u001b[38;5;34m64\u001b[0m, \u001b[38;5;34m64\u001b[0m, \u001b[38;5;34m32\u001b[0m)     │         \u001b[38;5;34m4,640\u001b[0m │\n",
       "├─────────────────────────────────┼────────────────────────┼───────────────┤\n",
       "│ up_sampling2d_25 (\u001b[38;5;33mUpSampling2D\u001b[0m) │ (\u001b[38;5;45mNone\u001b[0m, \u001b[38;5;34m128\u001b[0m, \u001b[38;5;34m128\u001b[0m, \u001b[38;5;34m32\u001b[0m)   │             \u001b[38;5;34m0\u001b[0m │\n",
       "├─────────────────────────────────┼────────────────────────┼───────────────┤\n",
       "│ conv2d_64 (\u001b[38;5;33mConv2D\u001b[0m)              │ (\u001b[38;5;45mNone\u001b[0m, \u001b[38;5;34m128\u001b[0m, \u001b[38;5;34m128\u001b[0m, \u001b[38;5;34m1\u001b[0m)    │           \u001b[38;5;34m289\u001b[0m │\n",
       "└─────────────────────────────────┴────────────────────────┴───────────────┘\n"
      ]
     },
     "metadata": {},
     "output_type": "display_data"
    },
    {
     "data": {
      "text/html": [
       "<pre style=\"white-space:pre;overflow-x:auto;line-height:normal;font-family:Menlo,'DejaVu Sans Mono',consolas,'Courier New',monospace\"><span style=\"font-weight: bold\"> Total params: </span><span style=\"color: #00af00; text-decoration-color: #00af00\">12,193</span> (47.63 KB)\n",
       "</pre>\n"
      ],
      "text/plain": [
       "\u001b[1m Total params: \u001b[0m\u001b[38;5;34m12,193\u001b[0m (47.63 KB)\n"
      ]
     },
     "metadata": {},
     "output_type": "display_data"
    },
    {
     "data": {
      "text/html": [
       "<pre style=\"white-space:pre;overflow-x:auto;line-height:normal;font-family:Menlo,'DejaVu Sans Mono',consolas,'Courier New',monospace\"><span style=\"font-weight: bold\"> Trainable params: </span><span style=\"color: #00af00; text-decoration-color: #00af00\">12,193</span> (47.63 KB)\n",
       "</pre>\n"
      ],
      "text/plain": [
       "\u001b[1m Trainable params: \u001b[0m\u001b[38;5;34m12,193\u001b[0m (47.63 KB)\n"
      ]
     },
     "metadata": {},
     "output_type": "display_data"
    },
    {
     "data": {
      "text/html": [
       "<pre style=\"white-space:pre;overflow-x:auto;line-height:normal;font-family:Menlo,'DejaVu Sans Mono',consolas,'Courier New',monospace\"><span style=\"font-weight: bold\"> Non-trainable params: </span><span style=\"color: #00af00; text-decoration-color: #00af00\">0</span> (0.00 B)\n",
       "</pre>\n"
      ],
      "text/plain": [
       "\u001b[1m Non-trainable params: \u001b[0m\u001b[38;5;34m0\u001b[0m (0.00 B)\n"
      ]
     },
     "metadata": {},
     "output_type": "display_data"
    },
    {
     "name": "stdout",
     "output_type": "stream",
     "text": [
      "Epoch 1/20\n",
      "\u001b[1m11/11\u001b[0m \u001b[32m━━━━━━━━━━━━━━━━━━━━\u001b[0m\u001b[37m\u001b[0m \u001b[1m0s\u001b[0m 127ms/step - loss: 0.0177\n",
      "Epoch 1: val_loss improved from inf to 0.01628, saving model to anomaly_detection_results\\visa\\capsules\\capsules_visa_best_model.keras\n",
      "\u001b[1m11/11\u001b[0m \u001b[32m━━━━━━━━━━━━━━━━━━━━\u001b[0m\u001b[37m\u001b[0m \u001b[1m3s\u001b[0m 176ms/step - loss: 0.0177 - val_loss: 0.0163\n",
      "Epoch 2/20\n",
      "\u001b[1m11/11\u001b[0m \u001b[32m━━━━━━━━━━━━━━━━━━━━\u001b[0m\u001b[37m\u001b[0m \u001b[1m0s\u001b[0m 127ms/step - loss: 0.0150\n",
      "Epoch 2: val_loss improved from 0.01628 to 0.01024, saving model to anomaly_detection_results\\visa\\capsules\\capsules_visa_best_model.keras\n",
      "\u001b[1m11/11\u001b[0m \u001b[32m━━━━━━━━━━━━━━━━━━━━\u001b[0m\u001b[37m\u001b[0m \u001b[1m2s\u001b[0m 153ms/step - loss: 0.0149 - val_loss: 0.0102\n",
      "Epoch 3/20\n",
      "\u001b[1m11/11\u001b[0m \u001b[32m━━━━━━━━━━━━━━━━━━━━\u001b[0m\u001b[37m\u001b[0m \u001b[1m0s\u001b[0m 129ms/step - loss: 0.0090\n",
      "Epoch 3: val_loss improved from 0.01024 to 0.00761, saving model to anomaly_detection_results\\visa\\capsules\\capsules_visa_best_model.keras\n",
      "\u001b[1m11/11\u001b[0m \u001b[32m━━━━━━━━━━━━━━━━━━━━\u001b[0m\u001b[37m\u001b[0m \u001b[1m2s\u001b[0m 153ms/step - loss: 0.0090 - val_loss: 0.0076\n",
      "Epoch 4/20\n",
      "\u001b[1m11/11\u001b[0m \u001b[32m━━━━━━━━━━━━━━━━━━━━\u001b[0m\u001b[37m\u001b[0m \u001b[1m0s\u001b[0m 132ms/step - loss: 0.0072\n",
      "Epoch 4: val_loss improved from 0.00761 to 0.00637, saving model to anomaly_detection_results\\visa\\capsules\\capsules_visa_best_model.keras\n",
      "\u001b[1m11/11\u001b[0m \u001b[32m━━━━━━━━━━━━━━━━━━━━\u001b[0m\u001b[37m\u001b[0m \u001b[1m2s\u001b[0m 156ms/step - loss: 0.0071 - val_loss: 0.0064\n",
      "Epoch 5/20\n",
      "\u001b[1m11/11\u001b[0m \u001b[32m━━━━━━━━━━━━━━━━━━━━\u001b[0m\u001b[37m\u001b[0m \u001b[1m0s\u001b[0m 130ms/step - loss: 0.0061\n",
      "Epoch 5: val_loss improved from 0.00637 to 0.00566, saving model to anomaly_detection_results\\visa\\capsules\\capsules_visa_best_model.keras\n",
      "\u001b[1m11/11\u001b[0m \u001b[32m━━━━━━━━━━━━━━━━━━━━\u001b[0m\u001b[37m\u001b[0m \u001b[1m2s\u001b[0m 156ms/step - loss: 0.0061 - val_loss: 0.0057\n",
      "Epoch 6/20\n",
      "\u001b[1m11/11\u001b[0m \u001b[32m━━━━━━━━━━━━━━━━━━━━\u001b[0m\u001b[37m\u001b[0m \u001b[1m0s\u001b[0m 122ms/step - loss: 0.0055\n",
      "Epoch 6: val_loss improved from 0.00566 to 0.00525, saving model to anomaly_detection_results\\visa\\capsules\\capsules_visa_best_model.keras\n",
      "\u001b[1m11/11\u001b[0m \u001b[32m━━━━━━━━━━━━━━━━━━━━\u001b[0m\u001b[37m\u001b[0m \u001b[1m2s\u001b[0m 145ms/step - loss: 0.0055 - val_loss: 0.0052\n",
      "Epoch 7/20\n",
      "\u001b[1m11/11\u001b[0m \u001b[32m━━━━━━━━━━━━━━━━━━━━\u001b[0m\u001b[37m\u001b[0m \u001b[1m0s\u001b[0m 121ms/step - loss: 0.0051\n",
      "Epoch 7: val_loss improved from 0.00525 to 0.00480, saving model to anomaly_detection_results\\visa\\capsules\\capsules_visa_best_model.keras\n",
      "\u001b[1m11/11\u001b[0m \u001b[32m━━━━━━━━━━━━━━━━━━━━\u001b[0m\u001b[37m\u001b[0m \u001b[1m2s\u001b[0m 144ms/step - loss: 0.0051 - val_loss: 0.0048\n",
      "Epoch 8/20\n",
      "\u001b[1m11/11\u001b[0m \u001b[32m━━━━━━━━━━━━━━━━━━━━\u001b[0m\u001b[37m\u001b[0m \u001b[1m0s\u001b[0m 130ms/step - loss: 0.0047\n",
      "Epoch 8: val_loss improved from 0.00480 to 0.00454, saving model to anomaly_detection_results\\visa\\capsules\\capsules_visa_best_model.keras\n",
      "\u001b[1m11/11\u001b[0m \u001b[32m━━━━━━━━━━━━━━━━━━━━\u001b[0m\u001b[37m\u001b[0m \u001b[1m2s\u001b[0m 152ms/step - loss: 0.0047 - val_loss: 0.0045\n",
      "Epoch 9/20\n",
      "\u001b[1m11/11\u001b[0m \u001b[32m━━━━━━━━━━━━━━━━━━━━\u001b[0m\u001b[37m\u001b[0m \u001b[1m0s\u001b[0m 126ms/step - loss: 0.0045\n",
      "Epoch 9: val_loss improved from 0.00454 to 0.00434, saving model to anomaly_detection_results\\visa\\capsules\\capsules_visa_best_model.keras\n",
      "\u001b[1m11/11\u001b[0m \u001b[32m━━━━━━━━━━━━━━━━━━━━\u001b[0m\u001b[37m\u001b[0m \u001b[1m2s\u001b[0m 149ms/step - loss: 0.0045 - val_loss: 0.0043\n",
      "Epoch 10/20\n",
      "\u001b[1m11/11\u001b[0m \u001b[32m━━━━━━━━━━━━━━━━━━━━\u001b[0m\u001b[37m\u001b[0m \u001b[1m0s\u001b[0m 124ms/step - loss: 0.0043\n",
      "Epoch 10: val_loss did not improve from 0.00434\n",
      "\u001b[1m11/11\u001b[0m \u001b[32m━━━━━━━━━━━━━━━━━━━━\u001b[0m\u001b[37m\u001b[0m \u001b[1m2s\u001b[0m 143ms/step - loss: 0.0043 - val_loss: 0.0044\n",
      "Epoch 11/20\n",
      "\u001b[1m11/11\u001b[0m \u001b[32m━━━━━━━━━━━━━━━━━━━━\u001b[0m\u001b[37m\u001b[0m \u001b[1m0s\u001b[0m 123ms/step - loss: 0.0043\n",
      "Epoch 11: val_loss improved from 0.00434 to 0.00408, saving model to anomaly_detection_results\\visa\\capsules\\capsules_visa_best_model.keras\n",
      "\u001b[1m11/11\u001b[0m \u001b[32m━━━━━━━━━━━━━━━━━━━━\u001b[0m\u001b[37m\u001b[0m \u001b[1m2s\u001b[0m 148ms/step - loss: 0.0042 - val_loss: 0.0041\n",
      "Epoch 12/20\n",
      "\u001b[1m11/11\u001b[0m \u001b[32m━━━━━━━━━━━━━━━━━━━━\u001b[0m\u001b[37m\u001b[0m \u001b[1m0s\u001b[0m 141ms/step - loss: 0.0040\n",
      "Epoch 12: val_loss improved from 0.00408 to 0.00396, saving model to anomaly_detection_results\\visa\\capsules\\capsules_visa_best_model.keras\n",
      "\u001b[1m11/11\u001b[0m \u001b[32m━━━━━━━━━━━━━━━━━━━━\u001b[0m\u001b[37m\u001b[0m \u001b[1m2s\u001b[0m 178ms/step - loss: 0.0040 - val_loss: 0.0040\n",
      "Epoch 13/20\n",
      "\u001b[1m11/11\u001b[0m \u001b[32m━━━━━━━━━━━━━━━━━━━━\u001b[0m\u001b[37m\u001b[0m \u001b[1m0s\u001b[0m 139ms/step - loss: 0.0039\n",
      "Epoch 13: val_loss improved from 0.00396 to 0.00381, saving model to anomaly_detection_results\\visa\\capsules\\capsules_visa_best_model.keras\n",
      "\u001b[1m11/11\u001b[0m \u001b[32m━━━━━━━━━━━━━━━━━━━━\u001b[0m\u001b[37m\u001b[0m \u001b[1m2s\u001b[0m 166ms/step - loss: 0.0039 - val_loss: 0.0038\n",
      "Epoch 14/20\n",
      "\u001b[1m11/11\u001b[0m \u001b[32m━━━━━━━━━━━━━━━━━━━━\u001b[0m\u001b[37m\u001b[0m \u001b[1m0s\u001b[0m 137ms/step - loss: 0.0038\n",
      "Epoch 14: val_loss did not improve from 0.00381\n",
      "\u001b[1m11/11\u001b[0m \u001b[32m━━━━━━━━━━━━━━━━━━━━\u001b[0m\u001b[37m\u001b[0m \u001b[1m2s\u001b[0m 161ms/step - loss: 0.0038 - val_loss: 0.0041\n",
      "Epoch 15/20\n",
      "\u001b[1m11/11\u001b[0m \u001b[32m━━━━━━━━━━━━━━━━━━━━\u001b[0m\u001b[37m\u001b[0m \u001b[1m0s\u001b[0m 136ms/step - loss: 0.0039\n",
      "Epoch 15: val_loss improved from 0.00381 to 0.00363, saving model to anomaly_detection_results\\visa\\capsules\\capsules_visa_best_model.keras\n",
      "\u001b[1m11/11\u001b[0m \u001b[32m━━━━━━━━━━━━━━━━━━━━\u001b[0m\u001b[37m\u001b[0m \u001b[1m2s\u001b[0m 163ms/step - loss: 0.0039 - val_loss: 0.0036\n",
      "Epoch 16/20\n",
      "\u001b[1m11/11\u001b[0m \u001b[32m━━━━━━━━━━━━━━━━━━━━\u001b[0m\u001b[37m\u001b[0m \u001b[1m0s\u001b[0m 125ms/step - loss: 0.0036\n",
      "Epoch 16: val_loss improved from 0.00363 to 0.00359, saving model to anomaly_detection_results\\visa\\capsules\\capsules_visa_best_model.keras\n",
      "\u001b[1m11/11\u001b[0m \u001b[32m━━━━━━━━━━━━━━━━━━━━\u001b[0m\u001b[37m\u001b[0m \u001b[1m2s\u001b[0m 154ms/step - loss: 0.0036 - val_loss: 0.0036\n",
      "Epoch 17/20\n",
      "\u001b[1m11/11\u001b[0m \u001b[32m━━━━━━━━━━━━━━━━━━━━\u001b[0m\u001b[37m\u001b[0m \u001b[1m0s\u001b[0m 127ms/step - loss: 0.0035\n",
      "Epoch 17: val_loss improved from 0.00359 to 0.00347, saving model to anomaly_detection_results\\visa\\capsules\\capsules_visa_best_model.keras\n",
      "\u001b[1m11/11\u001b[0m \u001b[32m━━━━━━━━━━━━━━━━━━━━\u001b[0m\u001b[37m\u001b[0m \u001b[1m2s\u001b[0m 150ms/step - loss: 0.0035 - val_loss: 0.0035\n",
      "Epoch 18/20\n",
      "\u001b[1m11/11\u001b[0m \u001b[32m━━━━━━━━━━━━━━━━━━━━\u001b[0m\u001b[37m\u001b[0m \u001b[1m0s\u001b[0m 124ms/step - loss: 0.0034\n",
      "Epoch 18: val_loss improved from 0.00347 to 0.00340, saving model to anomaly_detection_results\\visa\\capsules\\capsules_visa_best_model.keras\n",
      "\u001b[1m11/11\u001b[0m \u001b[32m━━━━━━━━━━━━━━━━━━━━\u001b[0m\u001b[37m\u001b[0m \u001b[1m2s\u001b[0m 147ms/step - loss: 0.0034 - val_loss: 0.0034\n",
      "Epoch 19/20\n",
      "\u001b[1m11/11\u001b[0m \u001b[32m━━━━━━━━━━━━━━━━━━━━\u001b[0m\u001b[37m\u001b[0m \u001b[1m0s\u001b[0m 124ms/step - loss: 0.0034\n",
      "Epoch 19: val_loss improved from 0.00340 to 0.00336, saving model to anomaly_detection_results\\visa\\capsules\\capsules_visa_best_model.keras\n",
      "\u001b[1m11/11\u001b[0m \u001b[32m━━━━━━━━━━━━━━━━━━━━\u001b[0m\u001b[37m\u001b[0m \u001b[1m2s\u001b[0m 147ms/step - loss: 0.0034 - val_loss: 0.0034\n",
      "Epoch 20/20\n",
      "\u001b[1m11/11\u001b[0m \u001b[32m━━━━━━━━━━━━━━━━━━━━\u001b[0m\u001b[37m\u001b[0m \u001b[1m0s\u001b[0m 126ms/step - loss: 0.0034\n",
      "Epoch 20: val_loss improved from 0.00336 to 0.00332, saving model to anomaly_detection_results\\visa\\capsules\\capsules_visa_best_model.keras\n",
      "\u001b[1m11/11\u001b[0m \u001b[32m━━━━━━━━━━━━━━━━━━━━\u001b[0m\u001b[37m\u001b[0m \u001b[1m2s\u001b[0m 153ms/step - loss: 0.0034 - val_loss: 0.0033\n",
      "Eğitim tamamlandı. Süre: 35.39 saniye\n",
      "En iyi model yüklendi: anomaly_detection_results\\visa\\capsules\\capsules_visa_best_model.keras\n",
      "Eğitim geçmişi grafiği kaydedildi: anomaly_detection_results\\visa\\capsules\\capsules_visa_training_history.png\n",
      "Rekonstrüksiyon başlatılıyor...\n",
      "\u001b[1m9/9\u001b[0m \u001b[32m━━━━━━━━━━━━━━━━━━━━\u001b[0m\u001b[37m\u001b[0m \u001b[1m1s\u001b[0m 91ms/step\n",
      "Anomali eşik değeri (95. yüzdelik): 0.004267\n",
      "Doğruluk (Accuracy): 0.6929\n",
      "Hassasiyet (Precision): 1.0000\n",
      "Duyarlılık (Recall): 0.1400\n",
      "F1 Skoru: 0.2456\n",
      "ROC AUC: 0.8765\n",
      "\n",
      "capsules (visa) için analiz sonuçları görselleştiriliyor...\n",
      "Rekonstrüksiyon sonuçları kaydedildi: anomaly_detection_results\\visa\\capsules\\capsules_visa_reconstruction_results.png\n",
      "Normal örnekler MSE - Min: 0.002680, Max: 0.004149, Ortalama: 0.003313\n",
      "Anomali örnekler MSE - Min: 0.003161, Max: 0.005037, Ortalama: 0.003847\n",
      "MSE karşılaştırma histogramı kaydedildi: anomaly_detection_results\\visa\\capsules\\capsules_visa_mse_comparison_histogram.png\n",
      "ROC eğrisi kaydedildi: anomaly_detection_results\\visa\\capsules\\capsules_visa_roc_curve.png\n",
      "Karışıklık matrisi kaydedildi: anomaly_detection_results\\visa\\capsules\\capsules_visa_confusion_matrix.png\n",
      "anomaly kusur tipi detaylı analizi kaydedildi: anomaly_detection_results\\visa\\capsules\\capsules_visa_anomaly_detailed_analysis.png\n",
      "Kusur tipi metrikleri kaydedildi: anomaly_detection_results\\visa\\capsules\\capsules_visa_defect_type_metrics.png\n",
      "Kusur tipine göre MSE dağılımı kaydedildi: anomaly_detection_results\\visa\\capsules\\capsules_visa_defect_type_mse_distribution.png\n",
      "Sonuçlar başarıyla kaydedildi: anomaly_detection_results\\visa\\capsules\n",
      "VisA: capsules kategorisi başarıyla işlendi.\n",
      "\n",
      "==================================================\n",
      "İşleniyor: cashew (VISA veri seti)\n",
      "==================================================\n",
      "VisA kategori dizini: C:\\Users\\Tansu\\OneDrive\\Masaüstü\\visa\\cashew\n",
      "VisA görüntü dizini: C:\\Users\\Tansu\\OneDrive\\Masaüstü\\visa\\cashew\\data\\images\n",
      "VisA normal görüntü dizini: C:\\Users\\Tansu\\OneDrive\\Masaüstü\\visa\\cashew\\data\\images\\normal\n",
      "VisA anomali görüntü dizini: C:\\Users\\Tansu\\OneDrive\\Masaüstü\\visa\\cashew\\data\\images\\anomaly\n"
     ]
    },
    {
     "name": "stderr",
     "output_type": "stream",
     "text": [
      "cashew (VisA): Normal görüntüleri yükleme: 100%|██████████| 500/500 [00:12<00:00, 39.93it/s]\n",
      "cashew (VisA): Anomali görüntüleri yükleme: 100%|██████████| 100/100 [00:02<00:00, 38.76it/s]\n"
     ]
    },
    {
     "name": "stdout",
     "output_type": "stream",
     "text": [
      "VisA Eğitim veriseti: (350, 128, 128) - Min: 1, Max: 238\n",
      "VisA Test veriseti: (250, 128, 128) - Min: 0, Max: 244\n",
      "VisA Test etiketleri: (250,)\n",
      "VisA Anomali sayısı: 100\n",
      "VisA Normal test örneği sayısı: 150\n",
      "\n",
      "cashew (visa) için görselleştirmeler oluşturuluyor...\n",
      "UYARI: 'C:\\Users\\Tansu\\OneDrive\\Masaüstü\\visa\\cashew\\test\\good' dizini bulunamadı. Normal örnekler için test dizini kullanılıyor.\n",
      "UYARI: 'cashew' için kusur tipi bulunamadı.\n",
      "UYARI: 'C:\\Users\\Tansu\\OneDrive\\Masaüstü\\visa\\cashew\\test' dizini bulunamadı.\n"
     ]
    },
    {
     "data": {
      "text/html": [
       "<pre style=\"white-space:pre;overflow-x:auto;line-height:normal;font-family:Menlo,'DejaVu Sans Mono',consolas,'Courier New',monospace\"><span style=\"font-weight: bold\">Model: \"functional_13\"</span>\n",
       "</pre>\n"
      ],
      "text/plain": [
       "\u001b[1mModel: \"functional_13\"\u001b[0m\n"
      ]
     },
     "metadata": {},
     "output_type": "display_data"
    },
    {
     "data": {
      "text/html": [
       "<pre style=\"white-space:pre;overflow-x:auto;line-height:normal;font-family:Menlo,'DejaVu Sans Mono',consolas,'Courier New',monospace\">┏━━━━━━━━━━━━━━━━━━━━━━━━━━━━━━━━━┳━━━━━━━━━━━━━━━━━━━━━━━━┳━━━━━━━━━━━━━━━┓\n",
       "┃<span style=\"font-weight: bold\"> Layer (type)                    </span>┃<span style=\"font-weight: bold\"> Output Shape           </span>┃<span style=\"font-weight: bold\">       Param # </span>┃\n",
       "┡━━━━━━━━━━━━━━━━━━━━━━━━━━━━━━━━━╇━━━━━━━━━━━━━━━━━━━━━━━━╇━━━━━━━━━━━━━━━┩\n",
       "│ input_layer (<span style=\"color: #0087ff; text-decoration-color: #0087ff\">InputLayer</span>)        │ (<span style=\"color: #00d7ff; text-decoration-color: #00d7ff\">None</span>, <span style=\"color: #00af00; text-decoration-color: #00af00\">128</span>, <span style=\"color: #00af00; text-decoration-color: #00af00\">128</span>, <span style=\"color: #00af00; text-decoration-color: #00af00\">1</span>)    │             <span style=\"color: #00af00; text-decoration-color: #00af00\">0</span> │\n",
       "├─────────────────────────────────┼────────────────────────┼───────────────┤\n",
       "│ conv2d_65 (<span style=\"color: #0087ff; text-decoration-color: #0087ff\">Conv2D</span>)              │ (<span style=\"color: #00d7ff; text-decoration-color: #00d7ff\">None</span>, <span style=\"color: #00af00; text-decoration-color: #00af00\">128</span>, <span style=\"color: #00af00; text-decoration-color: #00af00\">128</span>, <span style=\"color: #00af00; text-decoration-color: #00af00\">32</span>)   │           <span style=\"color: #00af00; text-decoration-color: #00af00\">320</span> │\n",
       "├─────────────────────────────────┼────────────────────────┼───────────────┤\n",
       "│ max_pooling2d_26 (<span style=\"color: #0087ff; text-decoration-color: #0087ff\">MaxPooling2D</span>) │ (<span style=\"color: #00d7ff; text-decoration-color: #00d7ff\">None</span>, <span style=\"color: #00af00; text-decoration-color: #00af00\">64</span>, <span style=\"color: #00af00; text-decoration-color: #00af00\">64</span>, <span style=\"color: #00af00; text-decoration-color: #00af00\">32</span>)     │             <span style=\"color: #00af00; text-decoration-color: #00af00\">0</span> │\n",
       "├─────────────────────────────────┼────────────────────────┼───────────────┤\n",
       "│ conv2d_66 (<span style=\"color: #0087ff; text-decoration-color: #0087ff\">Conv2D</span>)              │ (<span style=\"color: #00d7ff; text-decoration-color: #00d7ff\">None</span>, <span style=\"color: #00af00; text-decoration-color: #00af00\">64</span>, <span style=\"color: #00af00; text-decoration-color: #00af00\">64</span>, <span style=\"color: #00af00; text-decoration-color: #00af00\">16</span>)     │         <span style=\"color: #00af00; text-decoration-color: #00af00\">4,624</span> │\n",
       "├─────────────────────────────────┼────────────────────────┼───────────────┤\n",
       "│ max_pooling2d_27 (<span style=\"color: #0087ff; text-decoration-color: #0087ff\">MaxPooling2D</span>) │ (<span style=\"color: #00d7ff; text-decoration-color: #00d7ff\">None</span>, <span style=\"color: #00af00; text-decoration-color: #00af00\">32</span>, <span style=\"color: #00af00; text-decoration-color: #00af00\">32</span>, <span style=\"color: #00af00; text-decoration-color: #00af00\">16</span>)     │             <span style=\"color: #00af00; text-decoration-color: #00af00\">0</span> │\n",
       "├─────────────────────────────────┼────────────────────────┼───────────────┤\n",
       "│ conv2d_67 (<span style=\"color: #0087ff; text-decoration-color: #0087ff\">Conv2D</span>)              │ (<span style=\"color: #00d7ff; text-decoration-color: #00d7ff\">None</span>, <span style=\"color: #00af00; text-decoration-color: #00af00\">32</span>, <span style=\"color: #00af00; text-decoration-color: #00af00\">32</span>, <span style=\"color: #00af00; text-decoration-color: #00af00\">16</span>)     │         <span style=\"color: #00af00; text-decoration-color: #00af00\">2,320</span> │\n",
       "├─────────────────────────────────┼────────────────────────┼───────────────┤\n",
       "│ up_sampling2d_26 (<span style=\"color: #0087ff; text-decoration-color: #0087ff\">UpSampling2D</span>) │ (<span style=\"color: #00d7ff; text-decoration-color: #00d7ff\">None</span>, <span style=\"color: #00af00; text-decoration-color: #00af00\">64</span>, <span style=\"color: #00af00; text-decoration-color: #00af00\">64</span>, <span style=\"color: #00af00; text-decoration-color: #00af00\">16</span>)     │             <span style=\"color: #00af00; text-decoration-color: #00af00\">0</span> │\n",
       "├─────────────────────────────────┼────────────────────────┼───────────────┤\n",
       "│ conv2d_68 (<span style=\"color: #0087ff; text-decoration-color: #0087ff\">Conv2D</span>)              │ (<span style=\"color: #00d7ff; text-decoration-color: #00d7ff\">None</span>, <span style=\"color: #00af00; text-decoration-color: #00af00\">64</span>, <span style=\"color: #00af00; text-decoration-color: #00af00\">64</span>, <span style=\"color: #00af00; text-decoration-color: #00af00\">32</span>)     │         <span style=\"color: #00af00; text-decoration-color: #00af00\">4,640</span> │\n",
       "├─────────────────────────────────┼────────────────────────┼───────────────┤\n",
       "│ up_sampling2d_27 (<span style=\"color: #0087ff; text-decoration-color: #0087ff\">UpSampling2D</span>) │ (<span style=\"color: #00d7ff; text-decoration-color: #00d7ff\">None</span>, <span style=\"color: #00af00; text-decoration-color: #00af00\">128</span>, <span style=\"color: #00af00; text-decoration-color: #00af00\">128</span>, <span style=\"color: #00af00; text-decoration-color: #00af00\">32</span>)   │             <span style=\"color: #00af00; text-decoration-color: #00af00\">0</span> │\n",
       "├─────────────────────────────────┼────────────────────────┼───────────────┤\n",
       "│ conv2d_69 (<span style=\"color: #0087ff; text-decoration-color: #0087ff\">Conv2D</span>)              │ (<span style=\"color: #00d7ff; text-decoration-color: #00d7ff\">None</span>, <span style=\"color: #00af00; text-decoration-color: #00af00\">128</span>, <span style=\"color: #00af00; text-decoration-color: #00af00\">128</span>, <span style=\"color: #00af00; text-decoration-color: #00af00\">1</span>)    │           <span style=\"color: #00af00; text-decoration-color: #00af00\">289</span> │\n",
       "└─────────────────────────────────┴────────────────────────┴───────────────┘\n",
       "</pre>\n"
      ],
      "text/plain": [
       "┏━━━━━━━━━━━━━━━━━━━━━━━━━━━━━━━━━┳━━━━━━━━━━━━━━━━━━━━━━━━┳━━━━━━━━━━━━━━━┓\n",
       "┃\u001b[1m \u001b[0m\u001b[1mLayer (type)                   \u001b[0m\u001b[1m \u001b[0m┃\u001b[1m \u001b[0m\u001b[1mOutput Shape          \u001b[0m\u001b[1m \u001b[0m┃\u001b[1m \u001b[0m\u001b[1m      Param #\u001b[0m\u001b[1m \u001b[0m┃\n",
       "┡━━━━━━━━━━━━━━━━━━━━━━━━━━━━━━━━━╇━━━━━━━━━━━━━━━━━━━━━━━━╇━━━━━━━━━━━━━━━┩\n",
       "│ input_layer (\u001b[38;5;33mInputLayer\u001b[0m)        │ (\u001b[38;5;45mNone\u001b[0m, \u001b[38;5;34m128\u001b[0m, \u001b[38;5;34m128\u001b[0m, \u001b[38;5;34m1\u001b[0m)    │             \u001b[38;5;34m0\u001b[0m │\n",
       "├─────────────────────────────────┼────────────────────────┼───────────────┤\n",
       "│ conv2d_65 (\u001b[38;5;33mConv2D\u001b[0m)              │ (\u001b[38;5;45mNone\u001b[0m, \u001b[38;5;34m128\u001b[0m, \u001b[38;5;34m128\u001b[0m, \u001b[38;5;34m32\u001b[0m)   │           \u001b[38;5;34m320\u001b[0m │\n",
       "├─────────────────────────────────┼────────────────────────┼───────────────┤\n",
       "│ max_pooling2d_26 (\u001b[38;5;33mMaxPooling2D\u001b[0m) │ (\u001b[38;5;45mNone\u001b[0m, \u001b[38;5;34m64\u001b[0m, \u001b[38;5;34m64\u001b[0m, \u001b[38;5;34m32\u001b[0m)     │             \u001b[38;5;34m0\u001b[0m │\n",
       "├─────────────────────────────────┼────────────────────────┼───────────────┤\n",
       "│ conv2d_66 (\u001b[38;5;33mConv2D\u001b[0m)              │ (\u001b[38;5;45mNone\u001b[0m, \u001b[38;5;34m64\u001b[0m, \u001b[38;5;34m64\u001b[0m, \u001b[38;5;34m16\u001b[0m)     │         \u001b[38;5;34m4,624\u001b[0m │\n",
       "├─────────────────────────────────┼────────────────────────┼───────────────┤\n",
       "│ max_pooling2d_27 (\u001b[38;5;33mMaxPooling2D\u001b[0m) │ (\u001b[38;5;45mNone\u001b[0m, \u001b[38;5;34m32\u001b[0m, \u001b[38;5;34m32\u001b[0m, \u001b[38;5;34m16\u001b[0m)     │             \u001b[38;5;34m0\u001b[0m │\n",
       "├─────────────────────────────────┼────────────────────────┼───────────────┤\n",
       "│ conv2d_67 (\u001b[38;5;33mConv2D\u001b[0m)              │ (\u001b[38;5;45mNone\u001b[0m, \u001b[38;5;34m32\u001b[0m, \u001b[38;5;34m32\u001b[0m, \u001b[38;5;34m16\u001b[0m)     │         \u001b[38;5;34m2,320\u001b[0m │\n",
       "├─────────────────────────────────┼────────────────────────┼───────────────┤\n",
       "│ up_sampling2d_26 (\u001b[38;5;33mUpSampling2D\u001b[0m) │ (\u001b[38;5;45mNone\u001b[0m, \u001b[38;5;34m64\u001b[0m, \u001b[38;5;34m64\u001b[0m, \u001b[38;5;34m16\u001b[0m)     │             \u001b[38;5;34m0\u001b[0m │\n",
       "├─────────────────────────────────┼────────────────────────┼───────────────┤\n",
       "│ conv2d_68 (\u001b[38;5;33mConv2D\u001b[0m)              │ (\u001b[38;5;45mNone\u001b[0m, \u001b[38;5;34m64\u001b[0m, \u001b[38;5;34m64\u001b[0m, \u001b[38;5;34m32\u001b[0m)     │         \u001b[38;5;34m4,640\u001b[0m │\n",
       "├─────────────────────────────────┼────────────────────────┼───────────────┤\n",
       "│ up_sampling2d_27 (\u001b[38;5;33mUpSampling2D\u001b[0m) │ (\u001b[38;5;45mNone\u001b[0m, \u001b[38;5;34m128\u001b[0m, \u001b[38;5;34m128\u001b[0m, \u001b[38;5;34m32\u001b[0m)   │             \u001b[38;5;34m0\u001b[0m │\n",
       "├─────────────────────────────────┼────────────────────────┼───────────────┤\n",
       "│ conv2d_69 (\u001b[38;5;33mConv2D\u001b[0m)              │ (\u001b[38;5;45mNone\u001b[0m, \u001b[38;5;34m128\u001b[0m, \u001b[38;5;34m128\u001b[0m, \u001b[38;5;34m1\u001b[0m)    │           \u001b[38;5;34m289\u001b[0m │\n",
       "└─────────────────────────────────┴────────────────────────┴───────────────┘\n"
      ]
     },
     "metadata": {},
     "output_type": "display_data"
    },
    {
     "data": {
      "text/html": [
       "<pre style=\"white-space:pre;overflow-x:auto;line-height:normal;font-family:Menlo,'DejaVu Sans Mono',consolas,'Courier New',monospace\"><span style=\"font-weight: bold\"> Total params: </span><span style=\"color: #00af00; text-decoration-color: #00af00\">12,193</span> (47.63 KB)\n",
       "</pre>\n"
      ],
      "text/plain": [
       "\u001b[1m Total params: \u001b[0m\u001b[38;5;34m12,193\u001b[0m (47.63 KB)\n"
      ]
     },
     "metadata": {},
     "output_type": "display_data"
    },
    {
     "data": {
      "text/html": [
       "<pre style=\"white-space:pre;overflow-x:auto;line-height:normal;font-family:Menlo,'DejaVu Sans Mono',consolas,'Courier New',monospace\"><span style=\"font-weight: bold\"> Trainable params: </span><span style=\"color: #00af00; text-decoration-color: #00af00\">12,193</span> (47.63 KB)\n",
       "</pre>\n"
      ],
      "text/plain": [
       "\u001b[1m Trainable params: \u001b[0m\u001b[38;5;34m12,193\u001b[0m (47.63 KB)\n"
      ]
     },
     "metadata": {},
     "output_type": "display_data"
    },
    {
     "data": {
      "text/html": [
       "<pre style=\"white-space:pre;overflow-x:auto;line-height:normal;font-family:Menlo,'DejaVu Sans Mono',consolas,'Courier New',monospace\"><span style=\"font-weight: bold\"> Non-trainable params: </span><span style=\"color: #00af00; text-decoration-color: #00af00\">0</span> (0.00 B)\n",
       "</pre>\n"
      ],
      "text/plain": [
       "\u001b[1m Non-trainable params: \u001b[0m\u001b[38;5;34m0\u001b[0m (0.00 B)\n"
      ]
     },
     "metadata": {},
     "output_type": "display_data"
    },
    {
     "name": "stdout",
     "output_type": "stream",
     "text": [
      "Epoch 1/20\n",
      "\u001b[1m9/9\u001b[0m \u001b[32m━━━━━━━━━━━━━━━━━━━━\u001b[0m\u001b[37m\u001b[0m \u001b[1m0s\u001b[0m 118ms/step - loss: 0.1189\n",
      "Epoch 1: val_loss improved from inf to 0.09311, saving model to anomaly_detection_results\\visa\\cashew\\cashew_visa_best_model.keras\n",
      "\u001b[1m9/9\u001b[0m \u001b[32m━━━━━━━━━━━━━━━━━━━━\u001b[0m\u001b[37m\u001b[0m \u001b[1m3s\u001b[0m 174ms/step - loss: 0.1183 - val_loss: 0.0931\n",
      "Epoch 2/20\n",
      "\u001b[1m9/9\u001b[0m \u001b[32m━━━━━━━━━━━━━━━━━━━━\u001b[0m\u001b[37m\u001b[0m \u001b[1m0s\u001b[0m 120ms/step - loss: 0.0852\n",
      "Epoch 2: val_loss improved from 0.09311 to 0.07093, saving model to anomaly_detection_results\\visa\\cashew\\cashew_visa_best_model.keras\n",
      "\u001b[1m9/9\u001b[0m \u001b[32m━━━━━━━━━━━━━━━━━━━━\u001b[0m\u001b[37m\u001b[0m \u001b[1m1s\u001b[0m 146ms/step - loss: 0.0846 - val_loss: 0.0709\n",
      "Epoch 3/20\n",
      "\u001b[1m9/9\u001b[0m \u001b[32m━━━━━━━━━━━━━━━━━━━━\u001b[0m\u001b[37m\u001b[0m \u001b[1m0s\u001b[0m 123ms/step - loss: 0.0703\n",
      "Epoch 3: val_loss improved from 0.07093 to 0.06402, saving model to anomaly_detection_results\\visa\\cashew\\cashew_visa_best_model.keras\n",
      "\u001b[1m9/9\u001b[0m \u001b[32m━━━━━━━━━━━━━━━━━━━━\u001b[0m\u001b[37m\u001b[0m \u001b[1m1s\u001b[0m 148ms/step - loss: 0.0703 - val_loss: 0.0640\n",
      "Epoch 4/20\n",
      "\u001b[1m9/9\u001b[0m \u001b[32m━━━━━━━━━━━━━━━━━━━━\u001b[0m\u001b[37m\u001b[0m \u001b[1m0s\u001b[0m 122ms/step - loss: 0.0568\n",
      "Epoch 4: val_loss improved from 0.06402 to 0.03846, saving model to anomaly_detection_results\\visa\\cashew\\cashew_visa_best_model.keras\n",
      "\u001b[1m9/9\u001b[0m \u001b[32m━━━━━━━━━━━━━━━━━━━━\u001b[0m\u001b[37m\u001b[0m \u001b[1m1s\u001b[0m 147ms/step - loss: 0.0563 - val_loss: 0.0385\n",
      "Epoch 5/20\n",
      "\u001b[1m9/9\u001b[0m \u001b[32m━━━━━━━━━━━━━━━━━━━━\u001b[0m\u001b[37m\u001b[0m \u001b[1m0s\u001b[0m 125ms/step - loss: 0.0319\n",
      "Epoch 5: val_loss improved from 0.03846 to 0.02098, saving model to anomaly_detection_results\\visa\\cashew\\cashew_visa_best_model.keras\n",
      "\u001b[1m9/9\u001b[0m \u001b[32m━━━━━━━━━━━━━━━━━━━━\u001b[0m\u001b[37m\u001b[0m \u001b[1m1s\u001b[0m 151ms/step - loss: 0.0315 - val_loss: 0.0210\n",
      "Epoch 6/20\n",
      "\u001b[1m9/9\u001b[0m \u001b[32m━━━━━━━━━━━━━━━━━━━━\u001b[0m\u001b[37m\u001b[0m \u001b[1m0s\u001b[0m 120ms/step - loss: 0.0192\n",
      "Epoch 6: val_loss improved from 0.02098 to 0.01682, saving model to anomaly_detection_results\\visa\\cashew\\cashew_visa_best_model.keras\n",
      "\u001b[1m9/9\u001b[0m \u001b[32m━━━━━━━━━━━━━━━━━━━━\u001b[0m\u001b[37m\u001b[0m \u001b[1m1s\u001b[0m 145ms/step - loss: 0.0191 - val_loss: 0.0168\n",
      "Epoch 7/20\n",
      "\u001b[1m9/9\u001b[0m \u001b[32m━━━━━━━━━━━━━━━━━━━━\u001b[0m\u001b[37m\u001b[0m \u001b[1m0s\u001b[0m 122ms/step - loss: 0.0154\n",
      "Epoch 7: val_loss improved from 0.01682 to 0.01232, saving model to anomaly_detection_results\\visa\\cashew\\cashew_visa_best_model.keras\n",
      "\u001b[1m9/9\u001b[0m \u001b[32m━━━━━━━━━━━━━━━━━━━━\u001b[0m\u001b[37m\u001b[0m \u001b[1m1s\u001b[0m 148ms/step - loss: 0.0153 - val_loss: 0.0123\n",
      "Epoch 8/20\n",
      "\u001b[1m9/9\u001b[0m \u001b[32m━━━━━━━━━━━━━━━━━━━━\u001b[0m\u001b[37m\u001b[0m \u001b[1m0s\u001b[0m 129ms/step - loss: 0.0115\n",
      "Epoch 8: val_loss improved from 0.01232 to 0.00888, saving model to anomaly_detection_results\\visa\\cashew\\cashew_visa_best_model.keras\n",
      "\u001b[1m9/9\u001b[0m \u001b[32m━━━━━━━━━━━━━━━━━━━━\u001b[0m\u001b[37m\u001b[0m \u001b[1m1s\u001b[0m 165ms/step - loss: 0.0114 - val_loss: 0.0089\n",
      "Epoch 9/20\n",
      "\u001b[1m9/9\u001b[0m \u001b[32m━━━━━━━━━━━━━━━━━━━━\u001b[0m\u001b[37m\u001b[0m \u001b[1m0s\u001b[0m 128ms/step - loss: 0.0079\n",
      "Epoch 9: val_loss improved from 0.00888 to 0.00513, saving model to anomaly_detection_results\\visa\\cashew\\cashew_visa_best_model.keras\n",
      "\u001b[1m9/9\u001b[0m \u001b[32m━━━━━━━━━━━━━━━━━━━━\u001b[0m\u001b[37m\u001b[0m \u001b[1m1s\u001b[0m 157ms/step - loss: 0.0079 - val_loss: 0.0051\n",
      "Epoch 10/20\n",
      "\u001b[1m9/9\u001b[0m \u001b[32m━━━━━━━━━━━━━━━━━━━━\u001b[0m\u001b[37m\u001b[0m \u001b[1m0s\u001b[0m 129ms/step - loss: 0.0048\n",
      "Epoch 10: val_loss improved from 0.00513 to 0.00358, saving model to anomaly_detection_results\\visa\\cashew\\cashew_visa_best_model.keras\n",
      "\u001b[1m9/9\u001b[0m \u001b[32m━━━━━━━━━━━━━━━━━━━━\u001b[0m\u001b[37m\u001b[0m \u001b[1m1s\u001b[0m 158ms/step - loss: 0.0047 - val_loss: 0.0036\n",
      "Epoch 11/20\n",
      "\u001b[1m9/9\u001b[0m \u001b[32m━━━━━━━━━━━━━━━━━━━━\u001b[0m\u001b[37m\u001b[0m \u001b[1m0s\u001b[0m 132ms/step - loss: 0.0035\n",
      "Epoch 11: val_loss improved from 0.00358 to 0.00331, saving model to anomaly_detection_results\\visa\\cashew\\cashew_visa_best_model.keras\n",
      "\u001b[1m9/9\u001b[0m \u001b[32m━━━━━━━━━━━━━━━━━━━━\u001b[0m\u001b[37m\u001b[0m \u001b[1m1s\u001b[0m 160ms/step - loss: 0.0035 - val_loss: 0.0033\n",
      "Epoch 12/20\n",
      "\u001b[1m9/9\u001b[0m \u001b[32m━━━━━━━━━━━━━━━━━━━━\u001b[0m\u001b[37m\u001b[0m \u001b[1m0s\u001b[0m 128ms/step - loss: 0.0032\n",
      "Epoch 12: val_loss improved from 0.00331 to 0.00295, saving model to anomaly_detection_results\\visa\\cashew\\cashew_visa_best_model.keras\n",
      "\u001b[1m9/9\u001b[0m \u001b[32m━━━━━━━━━━━━━━━━━━━━\u001b[0m\u001b[37m\u001b[0m \u001b[1m1s\u001b[0m 155ms/step - loss: 0.0032 - val_loss: 0.0029\n",
      "Epoch 13/20\n",
      "\u001b[1m9/9\u001b[0m \u001b[32m━━━━━━━━━━━━━━━━━━━━\u001b[0m\u001b[37m\u001b[0m \u001b[1m0s\u001b[0m 124ms/step - loss: 0.0029\n",
      "Epoch 13: val_loss improved from 0.00295 to 0.00269, saving model to anomaly_detection_results\\visa\\cashew\\cashew_visa_best_model.keras\n",
      "\u001b[1m9/9\u001b[0m \u001b[32m━━━━━━━━━━━━━━━━━━━━\u001b[0m\u001b[37m\u001b[0m \u001b[1m1s\u001b[0m 150ms/step - loss: 0.0029 - val_loss: 0.0027\n",
      "Epoch 14/20\n",
      "\u001b[1m9/9\u001b[0m \u001b[32m━━━━━━━━━━━━━━━━━━━━\u001b[0m\u001b[37m\u001b[0m \u001b[1m0s\u001b[0m 123ms/step - loss: 0.0026\n",
      "Epoch 14: val_loss improved from 0.00269 to 0.00244, saving model to anomaly_detection_results\\visa\\cashew\\cashew_visa_best_model.keras\n",
      "\u001b[1m9/9\u001b[0m \u001b[32m━━━━━━━━━━━━━━━━━━━━\u001b[0m\u001b[37m\u001b[0m \u001b[1m1s\u001b[0m 153ms/step - loss: 0.0026 - val_loss: 0.0024\n",
      "Epoch 15/20\n",
      "\u001b[1m9/9\u001b[0m \u001b[32m━━━━━━━━━━━━━━━━━━━━\u001b[0m\u001b[37m\u001b[0m \u001b[1m0s\u001b[0m 123ms/step - loss: 0.0024\n",
      "Epoch 15: val_loss improved from 0.00244 to 0.00225, saving model to anomaly_detection_results\\visa\\cashew\\cashew_visa_best_model.keras\n",
      "\u001b[1m9/9\u001b[0m \u001b[32m━━━━━━━━━━━━━━━━━━━━\u001b[0m\u001b[37m\u001b[0m \u001b[1m1s\u001b[0m 148ms/step - loss: 0.0024 - val_loss: 0.0023\n",
      "Epoch 16/20\n",
      "\u001b[1m9/9\u001b[0m \u001b[32m━━━━━━━━━━━━━━━━━━━━\u001b[0m\u001b[37m\u001b[0m \u001b[1m0s\u001b[0m 121ms/step - loss: 0.0022\n",
      "Epoch 16: val_loss improved from 0.00225 to 0.00213, saving model to anomaly_detection_results\\visa\\cashew\\cashew_visa_best_model.keras\n",
      "\u001b[1m9/9\u001b[0m \u001b[32m━━━━━━━━━━━━━━━━━━━━\u001b[0m\u001b[37m\u001b[0m \u001b[1m1s\u001b[0m 146ms/step - loss: 0.0022 - val_loss: 0.0021\n",
      "Epoch 17/20\n",
      "\u001b[1m9/9\u001b[0m \u001b[32m━━━━━━━━━━━━━━━━━━━━\u001b[0m\u001b[37m\u001b[0m \u001b[1m0s\u001b[0m 130ms/step - loss: 0.0021\n",
      "Epoch 17: val_loss improved from 0.00213 to 0.00205, saving model to anomaly_detection_results\\visa\\cashew\\cashew_visa_best_model.keras\n",
      "\u001b[1m9/9\u001b[0m \u001b[32m━━━━━━━━━━━━━━━━━━━━\u001b[0m\u001b[37m\u001b[0m \u001b[1m1s\u001b[0m 157ms/step - loss: 0.0021 - val_loss: 0.0020\n",
      "Epoch 18/20\n",
      "\u001b[1m9/9\u001b[0m \u001b[32m━━━━━━━━━━━━━━━━━━━━\u001b[0m\u001b[37m\u001b[0m \u001b[1m0s\u001b[0m 121ms/step - loss: 0.0020\n",
      "Epoch 18: val_loss improved from 0.00205 to 0.00198, saving model to anomaly_detection_results\\visa\\cashew\\cashew_visa_best_model.keras\n",
      "\u001b[1m9/9\u001b[0m \u001b[32m━━━━━━━━━━━━━━━━━━━━\u001b[0m\u001b[37m\u001b[0m \u001b[1m1s\u001b[0m 146ms/step - loss: 0.0020 - val_loss: 0.0020\n",
      "Epoch 19/20\n",
      "\u001b[1m9/9\u001b[0m \u001b[32m━━━━━━━━━━━━━━━━━━━━\u001b[0m\u001b[37m\u001b[0m \u001b[1m0s\u001b[0m 125ms/step - loss: 0.0020\n",
      "Epoch 19: val_loss improved from 0.00198 to 0.00194, saving model to anomaly_detection_results\\visa\\cashew\\cashew_visa_best_model.keras\n",
      "\u001b[1m9/9\u001b[0m \u001b[32m━━━━━━━━━━━━━━━━━━━━\u001b[0m\u001b[37m\u001b[0m \u001b[1m1s\u001b[0m 153ms/step - loss: 0.0020 - val_loss: 0.0019\n",
      "Epoch 20/20\n",
      "\u001b[1m9/9\u001b[0m \u001b[32m━━━━━━━━━━━━━━━━━━━━\u001b[0m\u001b[37m\u001b[0m \u001b[1m0s\u001b[0m 127ms/step - loss: 0.0019\n",
      "Epoch 20: val_loss improved from 0.00194 to 0.00191, saving model to anomaly_detection_results\\visa\\cashew\\cashew_visa_best_model.keras\n",
      "\u001b[1m9/9\u001b[0m \u001b[32m━━━━━━━━━━━━━━━━━━━━\u001b[0m\u001b[37m\u001b[0m \u001b[1m1s\u001b[0m 155ms/step - loss: 0.0019 - val_loss: 0.0019\n",
      "Eğitim tamamlandı. Süre: 28.70 saniye\n",
      "En iyi model yüklendi: anomaly_detection_results\\visa\\cashew\\cashew_visa_best_model.keras\n",
      "Eğitim geçmişi grafiği kaydedildi: anomaly_detection_results\\visa\\cashew\\cashew_visa_training_history.png\n",
      "Rekonstrüksiyon başlatılıyor...\n",
      "\u001b[1m8/8\u001b[0m \u001b[32m━━━━━━━━━━━━━━━━━━━━\u001b[0m\u001b[37m\u001b[0m \u001b[1m1s\u001b[0m 74ms/step\n",
      "Anomali eşik değeri (95. yüzdelik): 0.003129\n",
      "Doğruluk (Accuracy): 0.6520\n",
      "Hassasiyet (Precision): 1.0000\n",
      "Duyarlılık (Recall): 0.1300\n",
      "F1 Skoru: 0.2301\n",
      "ROC AUC: 0.9664\n",
      "\n",
      "cashew (visa) için analiz sonuçları görselleştiriliyor...\n",
      "Rekonstrüksiyon sonuçları kaydedildi: anomaly_detection_results\\visa\\cashew\\cashew_visa_reconstruction_results.png\n",
      "Normal örnekler MSE - Min: 0.001603, Max: 0.003110, Ortalama: 0.001898\n",
      "Anomali örnekler MSE - Min: 0.002073, Max: 0.003811, Ortalama: 0.002738\n",
      "MSE karşılaştırma histogramı kaydedildi: anomaly_detection_results\\visa\\cashew\\cashew_visa_mse_comparison_histogram.png\n",
      "ROC eğrisi kaydedildi: anomaly_detection_results\\visa\\cashew\\cashew_visa_roc_curve.png\n",
      "Karışıklık matrisi kaydedildi: anomaly_detection_results\\visa\\cashew\\cashew_visa_confusion_matrix.png\n",
      "anomaly kusur tipi detaylı analizi kaydedildi: anomaly_detection_results\\visa\\cashew\\cashew_visa_anomaly_detailed_analysis.png\n",
      "Kusur tipi metrikleri kaydedildi: anomaly_detection_results\\visa\\cashew\\cashew_visa_defect_type_metrics.png\n",
      "Kusur tipine göre MSE dağılımı kaydedildi: anomaly_detection_results\\visa\\cashew\\cashew_visa_defect_type_mse_distribution.png\n",
      "Sonuçlar başarıyla kaydedildi: anomaly_detection_results\\visa\\cashew\n",
      "VisA: cashew kategorisi başarıyla işlendi.\n",
      "\n",
      "==================================================\n",
      "İşleniyor: chewinggum (VISA veri seti)\n",
      "==================================================\n",
      "VisA kategori dizini: C:\\Users\\Tansu\\OneDrive\\Masaüstü\\visa\\chewinggum\n",
      "VisA görüntü dizini: C:\\Users\\Tansu\\OneDrive\\Masaüstü\\visa\\chewinggum\\data\\images\n",
      "VisA normal görüntü dizini: C:\\Users\\Tansu\\OneDrive\\Masaüstü\\visa\\chewinggum\\data\\images\\normal\n",
      "VisA anomali görüntü dizini: C:\\Users\\Tansu\\OneDrive\\Masaüstü\\visa\\chewinggum\\data\\images\\anomaly\n"
     ]
    },
    {
     "name": "stderr",
     "output_type": "stream",
     "text": [
      "chewinggum (VisA): Normal görüntüleri yükleme: 100%|██████████| 503/503 [00:11<00:00, 44.97it/s]\n",
      "chewinggum (VisA): Anomali görüntüleri yükleme: 100%|██████████| 100/100 [00:02<00:00, 43.54it/s]\n"
     ]
    },
    {
     "name": "stdout",
     "output_type": "stream",
     "text": [
      "VisA Eğitim veriseti: (353, 128, 128) - Min: 2, Max: 255\n",
      "VisA Test veriseti: (250, 128, 128) - Min: 2, Max: 255\n",
      "VisA Test etiketleri: (250,)\n",
      "VisA Anomali sayısı: 100\n",
      "VisA Normal test örneği sayısı: 150\n",
      "\n",
      "chewinggum (visa) için görselleştirmeler oluşturuluyor...\n",
      "UYARI: 'C:\\Users\\Tansu\\OneDrive\\Masaüstü\\visa\\chewinggum\\test\\good' dizini bulunamadı. Normal örnekler için test dizini kullanılıyor.\n",
      "UYARI: 'chewinggum' için kusur tipi bulunamadı.\n",
      "UYARI: 'C:\\Users\\Tansu\\OneDrive\\Masaüstü\\visa\\chewinggum\\test' dizini bulunamadı.\n"
     ]
    },
    {
     "data": {
      "text/html": [
       "<pre style=\"white-space:pre;overflow-x:auto;line-height:normal;font-family:Menlo,'DejaVu Sans Mono',consolas,'Courier New',monospace\"><span style=\"font-weight: bold\">Model: \"functional_14\"</span>\n",
       "</pre>\n"
      ],
      "text/plain": [
       "\u001b[1mModel: \"functional_14\"\u001b[0m\n"
      ]
     },
     "metadata": {},
     "output_type": "display_data"
    },
    {
     "data": {
      "text/html": [
       "<pre style=\"white-space:pre;overflow-x:auto;line-height:normal;font-family:Menlo,'DejaVu Sans Mono',consolas,'Courier New',monospace\">┏━━━━━━━━━━━━━━━━━━━━━━━━━━━━━━━━━┳━━━━━━━━━━━━━━━━━━━━━━━━┳━━━━━━━━━━━━━━━┓\n",
       "┃<span style=\"font-weight: bold\"> Layer (type)                    </span>┃<span style=\"font-weight: bold\"> Output Shape           </span>┃<span style=\"font-weight: bold\">       Param # </span>┃\n",
       "┡━━━━━━━━━━━━━━━━━━━━━━━━━━━━━━━━━╇━━━━━━━━━━━━━━━━━━━━━━━━╇━━━━━━━━━━━━━━━┩\n",
       "│ input_layer (<span style=\"color: #0087ff; text-decoration-color: #0087ff\">InputLayer</span>)        │ (<span style=\"color: #00d7ff; text-decoration-color: #00d7ff\">None</span>, <span style=\"color: #00af00; text-decoration-color: #00af00\">128</span>, <span style=\"color: #00af00; text-decoration-color: #00af00\">128</span>, <span style=\"color: #00af00; text-decoration-color: #00af00\">1</span>)    │             <span style=\"color: #00af00; text-decoration-color: #00af00\">0</span> │\n",
       "├─────────────────────────────────┼────────────────────────┼───────────────┤\n",
       "│ conv2d_70 (<span style=\"color: #0087ff; text-decoration-color: #0087ff\">Conv2D</span>)              │ (<span style=\"color: #00d7ff; text-decoration-color: #00d7ff\">None</span>, <span style=\"color: #00af00; text-decoration-color: #00af00\">128</span>, <span style=\"color: #00af00; text-decoration-color: #00af00\">128</span>, <span style=\"color: #00af00; text-decoration-color: #00af00\">32</span>)   │           <span style=\"color: #00af00; text-decoration-color: #00af00\">320</span> │\n",
       "├─────────────────────────────────┼────────────────────────┼───────────────┤\n",
       "│ max_pooling2d_28 (<span style=\"color: #0087ff; text-decoration-color: #0087ff\">MaxPooling2D</span>) │ (<span style=\"color: #00d7ff; text-decoration-color: #00d7ff\">None</span>, <span style=\"color: #00af00; text-decoration-color: #00af00\">64</span>, <span style=\"color: #00af00; text-decoration-color: #00af00\">64</span>, <span style=\"color: #00af00; text-decoration-color: #00af00\">32</span>)     │             <span style=\"color: #00af00; text-decoration-color: #00af00\">0</span> │\n",
       "├─────────────────────────────────┼────────────────────────┼───────────────┤\n",
       "│ conv2d_71 (<span style=\"color: #0087ff; text-decoration-color: #0087ff\">Conv2D</span>)              │ (<span style=\"color: #00d7ff; text-decoration-color: #00d7ff\">None</span>, <span style=\"color: #00af00; text-decoration-color: #00af00\">64</span>, <span style=\"color: #00af00; text-decoration-color: #00af00\">64</span>, <span style=\"color: #00af00; text-decoration-color: #00af00\">16</span>)     │         <span style=\"color: #00af00; text-decoration-color: #00af00\">4,624</span> │\n",
       "├─────────────────────────────────┼────────────────────────┼───────────────┤\n",
       "│ max_pooling2d_29 (<span style=\"color: #0087ff; text-decoration-color: #0087ff\">MaxPooling2D</span>) │ (<span style=\"color: #00d7ff; text-decoration-color: #00d7ff\">None</span>, <span style=\"color: #00af00; text-decoration-color: #00af00\">32</span>, <span style=\"color: #00af00; text-decoration-color: #00af00\">32</span>, <span style=\"color: #00af00; text-decoration-color: #00af00\">16</span>)     │             <span style=\"color: #00af00; text-decoration-color: #00af00\">0</span> │\n",
       "├─────────────────────────────────┼────────────────────────┼───────────────┤\n",
       "│ conv2d_72 (<span style=\"color: #0087ff; text-decoration-color: #0087ff\">Conv2D</span>)              │ (<span style=\"color: #00d7ff; text-decoration-color: #00d7ff\">None</span>, <span style=\"color: #00af00; text-decoration-color: #00af00\">32</span>, <span style=\"color: #00af00; text-decoration-color: #00af00\">32</span>, <span style=\"color: #00af00; text-decoration-color: #00af00\">16</span>)     │         <span style=\"color: #00af00; text-decoration-color: #00af00\">2,320</span> │\n",
       "├─────────────────────────────────┼────────────────────────┼───────────────┤\n",
       "│ up_sampling2d_28 (<span style=\"color: #0087ff; text-decoration-color: #0087ff\">UpSampling2D</span>) │ (<span style=\"color: #00d7ff; text-decoration-color: #00d7ff\">None</span>, <span style=\"color: #00af00; text-decoration-color: #00af00\">64</span>, <span style=\"color: #00af00; text-decoration-color: #00af00\">64</span>, <span style=\"color: #00af00; text-decoration-color: #00af00\">16</span>)     │             <span style=\"color: #00af00; text-decoration-color: #00af00\">0</span> │\n",
       "├─────────────────────────────────┼────────────────────────┼───────────────┤\n",
       "│ conv2d_73 (<span style=\"color: #0087ff; text-decoration-color: #0087ff\">Conv2D</span>)              │ (<span style=\"color: #00d7ff; text-decoration-color: #00d7ff\">None</span>, <span style=\"color: #00af00; text-decoration-color: #00af00\">64</span>, <span style=\"color: #00af00; text-decoration-color: #00af00\">64</span>, <span style=\"color: #00af00; text-decoration-color: #00af00\">32</span>)     │         <span style=\"color: #00af00; text-decoration-color: #00af00\">4,640</span> │\n",
       "├─────────────────────────────────┼────────────────────────┼───────────────┤\n",
       "│ up_sampling2d_29 (<span style=\"color: #0087ff; text-decoration-color: #0087ff\">UpSampling2D</span>) │ (<span style=\"color: #00d7ff; text-decoration-color: #00d7ff\">None</span>, <span style=\"color: #00af00; text-decoration-color: #00af00\">128</span>, <span style=\"color: #00af00; text-decoration-color: #00af00\">128</span>, <span style=\"color: #00af00; text-decoration-color: #00af00\">32</span>)   │             <span style=\"color: #00af00; text-decoration-color: #00af00\">0</span> │\n",
       "├─────────────────────────────────┼────────────────────────┼───────────────┤\n",
       "│ conv2d_74 (<span style=\"color: #0087ff; text-decoration-color: #0087ff\">Conv2D</span>)              │ (<span style=\"color: #00d7ff; text-decoration-color: #00d7ff\">None</span>, <span style=\"color: #00af00; text-decoration-color: #00af00\">128</span>, <span style=\"color: #00af00; text-decoration-color: #00af00\">128</span>, <span style=\"color: #00af00; text-decoration-color: #00af00\">1</span>)    │           <span style=\"color: #00af00; text-decoration-color: #00af00\">289</span> │\n",
       "└─────────────────────────────────┴────────────────────────┴───────────────┘\n",
       "</pre>\n"
      ],
      "text/plain": [
       "┏━━━━━━━━━━━━━━━━━━━━━━━━━━━━━━━━━┳━━━━━━━━━━━━━━━━━━━━━━━━┳━━━━━━━━━━━━━━━┓\n",
       "┃\u001b[1m \u001b[0m\u001b[1mLayer (type)                   \u001b[0m\u001b[1m \u001b[0m┃\u001b[1m \u001b[0m\u001b[1mOutput Shape          \u001b[0m\u001b[1m \u001b[0m┃\u001b[1m \u001b[0m\u001b[1m      Param #\u001b[0m\u001b[1m \u001b[0m┃\n",
       "┡━━━━━━━━━━━━━━━━━━━━━━━━━━━━━━━━━╇━━━━━━━━━━━━━━━━━━━━━━━━╇━━━━━━━━━━━━━━━┩\n",
       "│ input_layer (\u001b[38;5;33mInputLayer\u001b[0m)        │ (\u001b[38;5;45mNone\u001b[0m, \u001b[38;5;34m128\u001b[0m, \u001b[38;5;34m128\u001b[0m, \u001b[38;5;34m1\u001b[0m)    │             \u001b[38;5;34m0\u001b[0m │\n",
       "├─────────────────────────────────┼────────────────────────┼───────────────┤\n",
       "│ conv2d_70 (\u001b[38;5;33mConv2D\u001b[0m)              │ (\u001b[38;5;45mNone\u001b[0m, \u001b[38;5;34m128\u001b[0m, \u001b[38;5;34m128\u001b[0m, \u001b[38;5;34m32\u001b[0m)   │           \u001b[38;5;34m320\u001b[0m │\n",
       "├─────────────────────────────────┼────────────────────────┼───────────────┤\n",
       "│ max_pooling2d_28 (\u001b[38;5;33mMaxPooling2D\u001b[0m) │ (\u001b[38;5;45mNone\u001b[0m, \u001b[38;5;34m64\u001b[0m, \u001b[38;5;34m64\u001b[0m, \u001b[38;5;34m32\u001b[0m)     │             \u001b[38;5;34m0\u001b[0m │\n",
       "├─────────────────────────────────┼────────────────────────┼───────────────┤\n",
       "│ conv2d_71 (\u001b[38;5;33mConv2D\u001b[0m)              │ (\u001b[38;5;45mNone\u001b[0m, \u001b[38;5;34m64\u001b[0m, \u001b[38;5;34m64\u001b[0m, \u001b[38;5;34m16\u001b[0m)     │         \u001b[38;5;34m4,624\u001b[0m │\n",
       "├─────────────────────────────────┼────────────────────────┼───────────────┤\n",
       "│ max_pooling2d_29 (\u001b[38;5;33mMaxPooling2D\u001b[0m) │ (\u001b[38;5;45mNone\u001b[0m, \u001b[38;5;34m32\u001b[0m, \u001b[38;5;34m32\u001b[0m, \u001b[38;5;34m16\u001b[0m)     │             \u001b[38;5;34m0\u001b[0m │\n",
       "├─────────────────────────────────┼────────────────────────┼───────────────┤\n",
       "│ conv2d_72 (\u001b[38;5;33mConv2D\u001b[0m)              │ (\u001b[38;5;45mNone\u001b[0m, \u001b[38;5;34m32\u001b[0m, \u001b[38;5;34m32\u001b[0m, \u001b[38;5;34m16\u001b[0m)     │         \u001b[38;5;34m2,320\u001b[0m │\n",
       "├─────────────────────────────────┼────────────────────────┼───────────────┤\n",
       "│ up_sampling2d_28 (\u001b[38;5;33mUpSampling2D\u001b[0m) │ (\u001b[38;5;45mNone\u001b[0m, \u001b[38;5;34m64\u001b[0m, \u001b[38;5;34m64\u001b[0m, \u001b[38;5;34m16\u001b[0m)     │             \u001b[38;5;34m0\u001b[0m │\n",
       "├─────────────────────────────────┼────────────────────────┼───────────────┤\n",
       "│ conv2d_73 (\u001b[38;5;33mConv2D\u001b[0m)              │ (\u001b[38;5;45mNone\u001b[0m, \u001b[38;5;34m64\u001b[0m, \u001b[38;5;34m64\u001b[0m, \u001b[38;5;34m32\u001b[0m)     │         \u001b[38;5;34m4,640\u001b[0m │\n",
       "├─────────────────────────────────┼────────────────────────┼───────────────┤\n",
       "│ up_sampling2d_29 (\u001b[38;5;33mUpSampling2D\u001b[0m) │ (\u001b[38;5;45mNone\u001b[0m, \u001b[38;5;34m128\u001b[0m, \u001b[38;5;34m128\u001b[0m, \u001b[38;5;34m32\u001b[0m)   │             \u001b[38;5;34m0\u001b[0m │\n",
       "├─────────────────────────────────┼────────────────────────┼───────────────┤\n",
       "│ conv2d_74 (\u001b[38;5;33mConv2D\u001b[0m)              │ (\u001b[38;5;45mNone\u001b[0m, \u001b[38;5;34m128\u001b[0m, \u001b[38;5;34m128\u001b[0m, \u001b[38;5;34m1\u001b[0m)    │           \u001b[38;5;34m289\u001b[0m │\n",
       "└─────────────────────────────────┴────────────────────────┴───────────────┘\n"
      ]
     },
     "metadata": {},
     "output_type": "display_data"
    },
    {
     "data": {
      "text/html": [
       "<pre style=\"white-space:pre;overflow-x:auto;line-height:normal;font-family:Menlo,'DejaVu Sans Mono',consolas,'Courier New',monospace\"><span style=\"font-weight: bold\"> Total params: </span><span style=\"color: #00af00; text-decoration-color: #00af00\">12,193</span> (47.63 KB)\n",
       "</pre>\n"
      ],
      "text/plain": [
       "\u001b[1m Total params: \u001b[0m\u001b[38;5;34m12,193\u001b[0m (47.63 KB)\n"
      ]
     },
     "metadata": {},
     "output_type": "display_data"
    },
    {
     "data": {
      "text/html": [
       "<pre style=\"white-space:pre;overflow-x:auto;line-height:normal;font-family:Menlo,'DejaVu Sans Mono',consolas,'Courier New',monospace\"><span style=\"font-weight: bold\"> Trainable params: </span><span style=\"color: #00af00; text-decoration-color: #00af00\">12,193</span> (47.63 KB)\n",
       "</pre>\n"
      ],
      "text/plain": [
       "\u001b[1m Trainable params: \u001b[0m\u001b[38;5;34m12,193\u001b[0m (47.63 KB)\n"
      ]
     },
     "metadata": {},
     "output_type": "display_data"
    },
    {
     "data": {
      "text/html": [
       "<pre style=\"white-space:pre;overflow-x:auto;line-height:normal;font-family:Menlo,'DejaVu Sans Mono',consolas,'Courier New',monospace\"><span style=\"font-weight: bold\"> Non-trainable params: </span><span style=\"color: #00af00; text-decoration-color: #00af00\">0</span> (0.00 B)\n",
       "</pre>\n"
      ],
      "text/plain": [
       "\u001b[1m Non-trainable params: \u001b[0m\u001b[38;5;34m0\u001b[0m (0.00 B)\n"
      ]
     },
     "metadata": {},
     "output_type": "display_data"
    },
    {
     "name": "stdout",
     "output_type": "stream",
     "text": [
      "Epoch 1/20\n",
      "\u001b[1m9/9\u001b[0m \u001b[32m━━━━━━━━━━━━━━━━━━━━\u001b[0m\u001b[37m\u001b[0m \u001b[1m0s\u001b[0m 120ms/step - loss: 0.1351\n",
      "Epoch 1: val_loss improved from inf to 0.09758, saving model to anomaly_detection_results\\visa\\chewinggum\\chewinggum_visa_best_model.keras\n",
      "\u001b[1m9/9\u001b[0m \u001b[32m━━━━━━━━━━━━━━━━━━━━\u001b[0m\u001b[37m\u001b[0m \u001b[1m3s\u001b[0m 175ms/step - loss: 0.1344 - val_loss: 0.0976\n",
      "Epoch 2/20\n",
      "\u001b[1m9/9\u001b[0m \u001b[32m━━━━━━━━━━━━━━━━━━━━\u001b[0m\u001b[37m\u001b[0m \u001b[1m0s\u001b[0m 122ms/step - loss: 0.0737\n",
      "Epoch 2: val_loss improved from 0.09758 to 0.00888, saving model to anomaly_detection_results\\visa\\chewinggum\\chewinggum_visa_best_model.keras\n",
      "\u001b[1m9/9\u001b[0m \u001b[32m━━━━━━━━━━━━━━━━━━━━\u001b[0m\u001b[37m\u001b[0m \u001b[1m1s\u001b[0m 148ms/step - loss: 0.0715 - val_loss: 0.0089\n",
      "Epoch 3/20\n",
      "\u001b[1m9/9\u001b[0m \u001b[32m━━━━━━━━━━━━━━━━━━━━\u001b[0m\u001b[37m\u001b[0m \u001b[1m0s\u001b[0m 125ms/step - loss: 0.0100\n",
      "Epoch 3: val_loss did not improve from 0.00888\n",
      "\u001b[1m9/9\u001b[0m \u001b[32m━━━━━━━━━━━━━━━━━━━━\u001b[0m\u001b[37m\u001b[0m \u001b[1m1s\u001b[0m 146ms/step - loss: 0.0102 - val_loss: 0.0143\n",
      "Epoch 4/20\n",
      "\u001b[1m9/9\u001b[0m \u001b[32m━━━━━━━━━━━━━━━━━━━━\u001b[0m\u001b[37m\u001b[0m \u001b[1m0s\u001b[0m 124ms/step - loss: 0.0135\n",
      "Epoch 4: val_loss improved from 0.00888 to 0.00815, saving model to anomaly_detection_results\\visa\\chewinggum\\chewinggum_visa_best_model.keras\n",
      "\u001b[1m9/9\u001b[0m \u001b[32m━━━━━━━━━━━━━━━━━━━━\u001b[0m\u001b[37m\u001b[0m \u001b[1m1s\u001b[0m 150ms/step - loss: 0.0134 - val_loss: 0.0081\n",
      "Epoch 5/20\n",
      "\u001b[1m9/9\u001b[0m \u001b[32m━━━━━━━━━━━━━━━━━━━━\u001b[0m\u001b[37m\u001b[0m \u001b[1m0s\u001b[0m 125ms/step - loss: 0.0074\n",
      "Epoch 5: val_loss improved from 0.00815 to 0.00673, saving model to anomaly_detection_results\\visa\\chewinggum\\chewinggum_visa_best_model.keras\n",
      "\u001b[1m9/9\u001b[0m \u001b[32m━━━━━━━━━━━━━━━━━━━━\u001b[0m\u001b[37m\u001b[0m \u001b[1m1s\u001b[0m 151ms/step - loss: 0.0074 - val_loss: 0.0067\n",
      "Epoch 6/20\n",
      "\u001b[1m9/9\u001b[0m \u001b[32m━━━━━━━━━━━━━━━━━━━━\u001b[0m\u001b[37m\u001b[0m \u001b[1m0s\u001b[0m 123ms/step - loss: 0.0061\n",
      "Epoch 6: val_loss improved from 0.00673 to 0.00524, saving model to anomaly_detection_results\\visa\\chewinggum\\chewinggum_visa_best_model.keras\n",
      "\u001b[1m9/9\u001b[0m \u001b[32m━━━━━━━━━━━━━━━━━━━━\u001b[0m\u001b[37m\u001b[0m \u001b[1m1s\u001b[0m 148ms/step - loss: 0.0061 - val_loss: 0.0052\n",
      "Epoch 7/20\n",
      "\u001b[1m9/9\u001b[0m \u001b[32m━━━━━━━━━━━━━━━━━━━━\u001b[0m\u001b[37m\u001b[0m \u001b[1m0s\u001b[0m 130ms/step - loss: 0.0050\n",
      "Epoch 7: val_loss improved from 0.00524 to 0.00434, saving model to anomaly_detection_results\\visa\\chewinggum\\chewinggum_visa_best_model.keras\n",
      "\u001b[1m9/9\u001b[0m \u001b[32m━━━━━━━━━━━━━━━━━━━━\u001b[0m\u001b[37m\u001b[0m \u001b[1m1s\u001b[0m 156ms/step - loss: 0.0050 - val_loss: 0.0043\n",
      "Epoch 8/20\n",
      "\u001b[1m9/9\u001b[0m \u001b[32m━━━━━━━━━━━━━━━━━━━━\u001b[0m\u001b[37m\u001b[0m \u001b[1m0s\u001b[0m 128ms/step - loss: 0.0042\n",
      "Epoch 8: val_loss improved from 0.00434 to 0.00374, saving model to anomaly_detection_results\\visa\\chewinggum\\chewinggum_visa_best_model.keras\n",
      "\u001b[1m9/9\u001b[0m \u001b[32m━━━━━━━━━━━━━━━━━━━━\u001b[0m\u001b[37m\u001b[0m \u001b[1m1s\u001b[0m 156ms/step - loss: 0.0042 - val_loss: 0.0037\n",
      "Epoch 9/20\n",
      "\u001b[1m9/9\u001b[0m \u001b[32m━━━━━━━━━━━━━━━━━━━━\u001b[0m\u001b[37m\u001b[0m \u001b[1m0s\u001b[0m 129ms/step - loss: 0.0037\n",
      "Epoch 9: val_loss improved from 0.00374 to 0.00334, saving model to anomaly_detection_results\\visa\\chewinggum\\chewinggum_visa_best_model.keras\n",
      "\u001b[1m9/9\u001b[0m \u001b[32m━━━━━━━━━━━━━━━━━━━━\u001b[0m\u001b[37m\u001b[0m \u001b[1m1s\u001b[0m 158ms/step - loss: 0.0037 - val_loss: 0.0033\n",
      "Epoch 10/20\n",
      "\u001b[1m9/9\u001b[0m \u001b[32m━━━━━━━━━━━━━━━━━━━━\u001b[0m\u001b[37m\u001b[0m \u001b[1m0s\u001b[0m 129ms/step - loss: 0.0033\n",
      "Epoch 10: val_loss improved from 0.00334 to 0.00311, saving model to anomaly_detection_results\\visa\\chewinggum\\chewinggum_visa_best_model.keras\n",
      "\u001b[1m9/9\u001b[0m \u001b[32m━━━━━━━━━━━━━━━━━━━━\u001b[0m\u001b[37m\u001b[0m \u001b[1m1s\u001b[0m 157ms/step - loss: 0.0033 - val_loss: 0.0031\n",
      "Epoch 11/20\n",
      "\u001b[1m9/9\u001b[0m \u001b[32m━━━━━━━━━━━━━━━━━━━━\u001b[0m\u001b[37m\u001b[0m \u001b[1m0s\u001b[0m 129ms/step - loss: 0.0031\n",
      "Epoch 11: val_loss improved from 0.00311 to 0.00291, saving model to anomaly_detection_results\\visa\\chewinggum\\chewinggum_visa_best_model.keras\n",
      "\u001b[1m9/9\u001b[0m \u001b[32m━━━━━━━━━━━━━━━━━━━━\u001b[0m\u001b[37m\u001b[0m \u001b[1m1s\u001b[0m 157ms/step - loss: 0.0031 - val_loss: 0.0029\n",
      "Epoch 12/20\n",
      "\u001b[1m9/9\u001b[0m \u001b[32m━━━━━━━━━━━━━━━━━━━━\u001b[0m\u001b[37m\u001b[0m \u001b[1m0s\u001b[0m 127ms/step - loss: 0.0029\n",
      "Epoch 12: val_loss improved from 0.00291 to 0.00279, saving model to anomaly_detection_results\\visa\\chewinggum\\chewinggum_visa_best_model.keras\n",
      "\u001b[1m9/9\u001b[0m \u001b[32m━━━━━━━━━━━━━━━━━━━━\u001b[0m\u001b[37m\u001b[0m \u001b[1m1s\u001b[0m 155ms/step - loss: 0.0029 - val_loss: 0.0028\n",
      "Epoch 13/20\n",
      "\u001b[1m9/9\u001b[0m \u001b[32m━━━━━━━━━━━━━━━━━━━━\u001b[0m\u001b[37m\u001b[0m \u001b[1m0s\u001b[0m 132ms/step - loss: 0.0028\n",
      "Epoch 13: val_loss improved from 0.00279 to 0.00268, saving model to anomaly_detection_results\\visa\\chewinggum\\chewinggum_visa_best_model.keras\n",
      "\u001b[1m9/9\u001b[0m \u001b[32m━━━━━━━━━━━━━━━━━━━━\u001b[0m\u001b[37m\u001b[0m \u001b[1m1s\u001b[0m 158ms/step - loss: 0.0028 - val_loss: 0.0027\n",
      "Epoch 14/20\n",
      "\u001b[1m9/9\u001b[0m \u001b[32m━━━━━━━━━━━━━━━━━━━━\u001b[0m\u001b[37m\u001b[0m \u001b[1m0s\u001b[0m 122ms/step - loss: 0.0027\n",
      "Epoch 14: val_loss improved from 0.00268 to 0.00265, saving model to anomaly_detection_results\\visa\\chewinggum\\chewinggum_visa_best_model.keras\n",
      "\u001b[1m9/9\u001b[0m \u001b[32m━━━━━━━━━━━━━━━━━━━━\u001b[0m\u001b[37m\u001b[0m \u001b[1m1s\u001b[0m 148ms/step - loss: 0.0027 - val_loss: 0.0027\n",
      "Epoch 15/20\n",
      "\u001b[1m9/9\u001b[0m \u001b[32m━━━━━━━━━━━━━━━━━━━━\u001b[0m\u001b[37m\u001b[0m \u001b[1m0s\u001b[0m 122ms/step - loss: 0.0027\n",
      "Epoch 15: val_loss improved from 0.00265 to 0.00257, saving model to anomaly_detection_results\\visa\\chewinggum\\chewinggum_visa_best_model.keras\n",
      "\u001b[1m9/9\u001b[0m \u001b[32m━━━━━━━━━━━━━━━━━━━━\u001b[0m\u001b[37m\u001b[0m \u001b[1m1s\u001b[0m 150ms/step - loss: 0.0027 - val_loss: 0.0026\n",
      "Epoch 16/20\n",
      "\u001b[1m9/9\u001b[0m \u001b[32m━━━━━━━━━━━━━━━━━━━━\u001b[0m\u001b[37m\u001b[0m \u001b[1m0s\u001b[0m 129ms/step - loss: 0.0026\n",
      "Epoch 16: val_loss improved from 0.00257 to 0.00256, saving model to anomaly_detection_results\\visa\\chewinggum\\chewinggum_visa_best_model.keras\n",
      "\u001b[1m9/9\u001b[0m \u001b[32m━━━━━━━━━━━━━━━━━━━━\u001b[0m\u001b[37m\u001b[0m \u001b[1m1s\u001b[0m 154ms/step - loss: 0.0026 - val_loss: 0.0026\n",
      "Epoch 17/20\n",
      "\u001b[1m9/9\u001b[0m \u001b[32m━━━━━━━━━━━━━━━━━━━━\u001b[0m\u001b[37m\u001b[0m \u001b[1m0s\u001b[0m 138ms/step - loss: 0.0026\n",
      "Epoch 17: val_loss improved from 0.00256 to 0.00253, saving model to anomaly_detection_results\\visa\\chewinggum\\chewinggum_visa_best_model.keras\n",
      "\u001b[1m9/9\u001b[0m \u001b[32m━━━━━━━━━━━━━━━━━━━━\u001b[0m\u001b[37m\u001b[0m \u001b[1m1s\u001b[0m 165ms/step - loss: 0.0026 - val_loss: 0.0025\n",
      "Epoch 18/20\n",
      "\u001b[1m9/9\u001b[0m \u001b[32m━━━━━━━━━━━━━━━━━━━━\u001b[0m\u001b[37m\u001b[0m \u001b[1m0s\u001b[0m 131ms/step - loss: 0.0026\n",
      "Epoch 18: val_loss did not improve from 0.00253\n",
      "\u001b[1m9/9\u001b[0m \u001b[32m━━━━━━━━━━━━━━━━━━━━\u001b[0m\u001b[37m\u001b[0m \u001b[1m1s\u001b[0m 152ms/step - loss: 0.0026 - val_loss: 0.0026\n",
      "Epoch 19/20\n",
      "\u001b[1m9/9\u001b[0m \u001b[32m━━━━━━━━━━━━━━━━━━━━\u001b[0m\u001b[37m\u001b[0m \u001b[1m0s\u001b[0m 134ms/step - loss: 0.0025\n",
      "Epoch 19: val_loss improved from 0.00253 to 0.00246, saving model to anomaly_detection_results\\visa\\chewinggum\\chewinggum_visa_best_model.keras\n",
      "\u001b[1m9/9\u001b[0m \u001b[32m━━━━━━━━━━━━━━━━━━━━\u001b[0m\u001b[37m\u001b[0m \u001b[1m1s\u001b[0m 163ms/step - loss: 0.0025 - val_loss: 0.0025\n",
      "Epoch 20/20\n",
      "\u001b[1m9/9\u001b[0m \u001b[32m━━━━━━━━━━━━━━━━━━━━\u001b[0m\u001b[37m\u001b[0m \u001b[1m0s\u001b[0m 139ms/step - loss: 0.0024\n",
      "Epoch 20: val_loss improved from 0.00246 to 0.00243, saving model to anomaly_detection_results\\visa\\chewinggum\\chewinggum_visa_best_model.keras\n",
      "\u001b[1m9/9\u001b[0m \u001b[32m━━━━━━━━━━━━━━━━━━━━\u001b[0m\u001b[37m\u001b[0m \u001b[1m2s\u001b[0m 171ms/step - loss: 0.0025 - val_loss: 0.0024\n",
      "Eğitim tamamlandı. Süre: 29.19 saniye\n",
      "En iyi model yüklendi: anomaly_detection_results\\visa\\chewinggum\\chewinggum_visa_best_model.keras\n",
      "Eğitim geçmişi grafiği kaydedildi: anomaly_detection_results\\visa\\chewinggum\\chewinggum_visa_training_history.png\n",
      "Rekonstrüksiyon başlatılıyor...\n",
      "\u001b[1m8/8\u001b[0m \u001b[32m━━━━━━━━━━━━━━━━━━━━\u001b[0m\u001b[37m\u001b[0m \u001b[1m1s\u001b[0m 81ms/step\n",
      "Anomali eşik değeri (95. yüzdelik): 0.002955\n",
      "Doğruluk (Accuracy): 0.6200\n",
      "Hassasiyet (Precision): 0.6923\n",
      "Duyarlılık (Recall): 0.0900\n",
      "F1 Skoru: 0.1593\n",
      "ROC AUC: 0.7303\n",
      "\n",
      "chewinggum (visa) için analiz sonuçları görselleştiriliyor...\n",
      "Rekonstrüksiyon sonuçları kaydedildi: anomaly_detection_results\\visa\\chewinggum\\chewinggum_visa_reconstruction_results.png\n",
      "Normal örnekler MSE - Min: 0.002039, Max: 0.003370, Ortalama: 0.002426\n",
      "Anomali örnekler MSE - Min: 0.002212, Max: 0.006034, Ortalama: 0.002735\n",
      "MSE karşılaştırma histogramı kaydedildi: anomaly_detection_results\\visa\\chewinggum\\chewinggum_visa_mse_comparison_histogram.png\n",
      "ROC eğrisi kaydedildi: anomaly_detection_results\\visa\\chewinggum\\chewinggum_visa_roc_curve.png\n",
      "Karışıklık matrisi kaydedildi: anomaly_detection_results\\visa\\chewinggum\\chewinggum_visa_confusion_matrix.png\n",
      "anomaly kusur tipi detaylı analizi kaydedildi: anomaly_detection_results\\visa\\chewinggum\\chewinggum_visa_anomaly_detailed_analysis.png\n",
      "Kusur tipi metrikleri kaydedildi: anomaly_detection_results\\visa\\chewinggum\\chewinggum_visa_defect_type_metrics.png\n",
      "Kusur tipine göre MSE dağılımı kaydedildi: anomaly_detection_results\\visa\\chewinggum\\chewinggum_visa_defect_type_mse_distribution.png\n",
      "Sonuçlar başarıyla kaydedildi: anomaly_detection_results\\visa\\chewinggum\n",
      "VisA: chewinggum kategorisi başarıyla işlendi.\n",
      "\n",
      "==================================================\n",
      "İşleniyor: fryum (VISA veri seti)\n",
      "==================================================\n",
      "VisA kategori dizini: C:\\Users\\Tansu\\OneDrive\\Masaüstü\\visa\\fryum\n",
      "VisA görüntü dizini: C:\\Users\\Tansu\\OneDrive\\Masaüstü\\visa\\fryum\\data\\images\n",
      "VisA normal görüntü dizini: C:\\Users\\Tansu\\OneDrive\\Masaüstü\\visa\\fryum\\data\\images\\normal\n",
      "VisA anomali görüntü dizini: C:\\Users\\Tansu\\OneDrive\\Masaüstü\\visa\\fryum\\data\\images\\anomaly\n"
     ]
    },
    {
     "name": "stderr",
     "output_type": "stream",
     "text": [
      "fryum (VisA): Normal görüntüleri yükleme: 100%|██████████| 500/500 [00:13<00:00, 36.67it/s]\n",
      "fryum (VisA): Anomali görüntüleri yükleme: 100%|██████████| 100/100 [00:02<00:00, 39.66it/s]"
     ]
    },
    {
     "name": "stdout",
     "output_type": "stream",
     "text": [
      "VisA Eğitim veriseti: (350, 128, 128) - Min: 31, Max: 255\n",
      "VisA Test veriseti: (250, 128, 128) - Min: 23, Max: 255\n",
      "VisA Test etiketleri: (250,)\n",
      "VisA Anomali sayısı: 100\n",
      "VisA Normal test örneği sayısı: 150\n",
      "\n",
      "fryum (visa) için görselleştirmeler oluşturuluyor...\n",
      "UYARI: 'C:\\Users\\Tansu\\OneDrive\\Masaüstü\\visa\\fryum\\test\\good' dizini bulunamadı. Normal örnekler için test dizini kullanılıyor.\n",
      "UYARI: 'fryum' için kusur tipi bulunamadı.\n",
      "UYARI: 'C:\\Users\\Tansu\\OneDrive\\Masaüstü\\visa\\fryum\\test' dizini bulunamadı.\n"
     ]
    },
    {
     "name": "stderr",
     "output_type": "stream",
     "text": [
      "\n"
     ]
    },
    {
     "data": {
      "text/html": [
       "<pre style=\"white-space:pre;overflow-x:auto;line-height:normal;font-family:Menlo,'DejaVu Sans Mono',consolas,'Courier New',monospace\"><span style=\"font-weight: bold\">Model: \"functional_15\"</span>\n",
       "</pre>\n"
      ],
      "text/plain": [
       "\u001b[1mModel: \"functional_15\"\u001b[0m\n"
      ]
     },
     "metadata": {},
     "output_type": "display_data"
    },
    {
     "data": {
      "text/html": [
       "<pre style=\"white-space:pre;overflow-x:auto;line-height:normal;font-family:Menlo,'DejaVu Sans Mono',consolas,'Courier New',monospace\">┏━━━━━━━━━━━━━━━━━━━━━━━━━━━━━━━━━┳━━━━━━━━━━━━━━━━━━━━━━━━┳━━━━━━━━━━━━━━━┓\n",
       "┃<span style=\"font-weight: bold\"> Layer (type)                    </span>┃<span style=\"font-weight: bold\"> Output Shape           </span>┃<span style=\"font-weight: bold\">       Param # </span>┃\n",
       "┡━━━━━━━━━━━━━━━━━━━━━━━━━━━━━━━━━╇━━━━━━━━━━━━━━━━━━━━━━━━╇━━━━━━━━━━━━━━━┩\n",
       "│ input_layer (<span style=\"color: #0087ff; text-decoration-color: #0087ff\">InputLayer</span>)        │ (<span style=\"color: #00d7ff; text-decoration-color: #00d7ff\">None</span>, <span style=\"color: #00af00; text-decoration-color: #00af00\">128</span>, <span style=\"color: #00af00; text-decoration-color: #00af00\">128</span>, <span style=\"color: #00af00; text-decoration-color: #00af00\">1</span>)    │             <span style=\"color: #00af00; text-decoration-color: #00af00\">0</span> │\n",
       "├─────────────────────────────────┼────────────────────────┼───────────────┤\n",
       "│ conv2d_75 (<span style=\"color: #0087ff; text-decoration-color: #0087ff\">Conv2D</span>)              │ (<span style=\"color: #00d7ff; text-decoration-color: #00d7ff\">None</span>, <span style=\"color: #00af00; text-decoration-color: #00af00\">128</span>, <span style=\"color: #00af00; text-decoration-color: #00af00\">128</span>, <span style=\"color: #00af00; text-decoration-color: #00af00\">32</span>)   │           <span style=\"color: #00af00; text-decoration-color: #00af00\">320</span> │\n",
       "├─────────────────────────────────┼────────────────────────┼───────────────┤\n",
       "│ max_pooling2d_30 (<span style=\"color: #0087ff; text-decoration-color: #0087ff\">MaxPooling2D</span>) │ (<span style=\"color: #00d7ff; text-decoration-color: #00d7ff\">None</span>, <span style=\"color: #00af00; text-decoration-color: #00af00\">64</span>, <span style=\"color: #00af00; text-decoration-color: #00af00\">64</span>, <span style=\"color: #00af00; text-decoration-color: #00af00\">32</span>)     │             <span style=\"color: #00af00; text-decoration-color: #00af00\">0</span> │\n",
       "├─────────────────────────────────┼────────────────────────┼───────────────┤\n",
       "│ conv2d_76 (<span style=\"color: #0087ff; text-decoration-color: #0087ff\">Conv2D</span>)              │ (<span style=\"color: #00d7ff; text-decoration-color: #00d7ff\">None</span>, <span style=\"color: #00af00; text-decoration-color: #00af00\">64</span>, <span style=\"color: #00af00; text-decoration-color: #00af00\">64</span>, <span style=\"color: #00af00; text-decoration-color: #00af00\">16</span>)     │         <span style=\"color: #00af00; text-decoration-color: #00af00\">4,624</span> │\n",
       "├─────────────────────────────────┼────────────────────────┼───────────────┤\n",
       "│ max_pooling2d_31 (<span style=\"color: #0087ff; text-decoration-color: #0087ff\">MaxPooling2D</span>) │ (<span style=\"color: #00d7ff; text-decoration-color: #00d7ff\">None</span>, <span style=\"color: #00af00; text-decoration-color: #00af00\">32</span>, <span style=\"color: #00af00; text-decoration-color: #00af00\">32</span>, <span style=\"color: #00af00; text-decoration-color: #00af00\">16</span>)     │             <span style=\"color: #00af00; text-decoration-color: #00af00\">0</span> │\n",
       "├─────────────────────────────────┼────────────────────────┼───────────────┤\n",
       "│ conv2d_77 (<span style=\"color: #0087ff; text-decoration-color: #0087ff\">Conv2D</span>)              │ (<span style=\"color: #00d7ff; text-decoration-color: #00d7ff\">None</span>, <span style=\"color: #00af00; text-decoration-color: #00af00\">32</span>, <span style=\"color: #00af00; text-decoration-color: #00af00\">32</span>, <span style=\"color: #00af00; text-decoration-color: #00af00\">16</span>)     │         <span style=\"color: #00af00; text-decoration-color: #00af00\">2,320</span> │\n",
       "├─────────────────────────────────┼────────────────────────┼───────────────┤\n",
       "│ up_sampling2d_30 (<span style=\"color: #0087ff; text-decoration-color: #0087ff\">UpSampling2D</span>) │ (<span style=\"color: #00d7ff; text-decoration-color: #00d7ff\">None</span>, <span style=\"color: #00af00; text-decoration-color: #00af00\">64</span>, <span style=\"color: #00af00; text-decoration-color: #00af00\">64</span>, <span style=\"color: #00af00; text-decoration-color: #00af00\">16</span>)     │             <span style=\"color: #00af00; text-decoration-color: #00af00\">0</span> │\n",
       "├─────────────────────────────────┼────────────────────────┼───────────────┤\n",
       "│ conv2d_78 (<span style=\"color: #0087ff; text-decoration-color: #0087ff\">Conv2D</span>)              │ (<span style=\"color: #00d7ff; text-decoration-color: #00d7ff\">None</span>, <span style=\"color: #00af00; text-decoration-color: #00af00\">64</span>, <span style=\"color: #00af00; text-decoration-color: #00af00\">64</span>, <span style=\"color: #00af00; text-decoration-color: #00af00\">32</span>)     │         <span style=\"color: #00af00; text-decoration-color: #00af00\">4,640</span> │\n",
       "├─────────────────────────────────┼────────────────────────┼───────────────┤\n",
       "│ up_sampling2d_31 (<span style=\"color: #0087ff; text-decoration-color: #0087ff\">UpSampling2D</span>) │ (<span style=\"color: #00d7ff; text-decoration-color: #00d7ff\">None</span>, <span style=\"color: #00af00; text-decoration-color: #00af00\">128</span>, <span style=\"color: #00af00; text-decoration-color: #00af00\">128</span>, <span style=\"color: #00af00; text-decoration-color: #00af00\">32</span>)   │             <span style=\"color: #00af00; text-decoration-color: #00af00\">0</span> │\n",
       "├─────────────────────────────────┼────────────────────────┼───────────────┤\n",
       "│ conv2d_79 (<span style=\"color: #0087ff; text-decoration-color: #0087ff\">Conv2D</span>)              │ (<span style=\"color: #00d7ff; text-decoration-color: #00d7ff\">None</span>, <span style=\"color: #00af00; text-decoration-color: #00af00\">128</span>, <span style=\"color: #00af00; text-decoration-color: #00af00\">128</span>, <span style=\"color: #00af00; text-decoration-color: #00af00\">1</span>)    │           <span style=\"color: #00af00; text-decoration-color: #00af00\">289</span> │\n",
       "└─────────────────────────────────┴────────────────────────┴───────────────┘\n",
       "</pre>\n"
      ],
      "text/plain": [
       "┏━━━━━━━━━━━━━━━━━━━━━━━━━━━━━━━━━┳━━━━━━━━━━━━━━━━━━━━━━━━┳━━━━━━━━━━━━━━━┓\n",
       "┃\u001b[1m \u001b[0m\u001b[1mLayer (type)                   \u001b[0m\u001b[1m \u001b[0m┃\u001b[1m \u001b[0m\u001b[1mOutput Shape          \u001b[0m\u001b[1m \u001b[0m┃\u001b[1m \u001b[0m\u001b[1m      Param #\u001b[0m\u001b[1m \u001b[0m┃\n",
       "┡━━━━━━━━━━━━━━━━━━━━━━━━━━━━━━━━━╇━━━━━━━━━━━━━━━━━━━━━━━━╇━━━━━━━━━━━━━━━┩\n",
       "│ input_layer (\u001b[38;5;33mInputLayer\u001b[0m)        │ (\u001b[38;5;45mNone\u001b[0m, \u001b[38;5;34m128\u001b[0m, \u001b[38;5;34m128\u001b[0m, \u001b[38;5;34m1\u001b[0m)    │             \u001b[38;5;34m0\u001b[0m │\n",
       "├─────────────────────────────────┼────────────────────────┼───────────────┤\n",
       "│ conv2d_75 (\u001b[38;5;33mConv2D\u001b[0m)              │ (\u001b[38;5;45mNone\u001b[0m, \u001b[38;5;34m128\u001b[0m, \u001b[38;5;34m128\u001b[0m, \u001b[38;5;34m32\u001b[0m)   │           \u001b[38;5;34m320\u001b[0m │\n",
       "├─────────────────────────────────┼────────────────────────┼───────────────┤\n",
       "│ max_pooling2d_30 (\u001b[38;5;33mMaxPooling2D\u001b[0m) │ (\u001b[38;5;45mNone\u001b[0m, \u001b[38;5;34m64\u001b[0m, \u001b[38;5;34m64\u001b[0m, \u001b[38;5;34m32\u001b[0m)     │             \u001b[38;5;34m0\u001b[0m │\n",
       "├─────────────────────────────────┼────────────────────────┼───────────────┤\n",
       "│ conv2d_76 (\u001b[38;5;33mConv2D\u001b[0m)              │ (\u001b[38;5;45mNone\u001b[0m, \u001b[38;5;34m64\u001b[0m, \u001b[38;5;34m64\u001b[0m, \u001b[38;5;34m16\u001b[0m)     │         \u001b[38;5;34m4,624\u001b[0m │\n",
       "├─────────────────────────────────┼────────────────────────┼───────────────┤\n",
       "│ max_pooling2d_31 (\u001b[38;5;33mMaxPooling2D\u001b[0m) │ (\u001b[38;5;45mNone\u001b[0m, \u001b[38;5;34m32\u001b[0m, \u001b[38;5;34m32\u001b[0m, \u001b[38;5;34m16\u001b[0m)     │             \u001b[38;5;34m0\u001b[0m │\n",
       "├─────────────────────────────────┼────────────────────────┼───────────────┤\n",
       "│ conv2d_77 (\u001b[38;5;33mConv2D\u001b[0m)              │ (\u001b[38;5;45mNone\u001b[0m, \u001b[38;5;34m32\u001b[0m, \u001b[38;5;34m32\u001b[0m, \u001b[38;5;34m16\u001b[0m)     │         \u001b[38;5;34m2,320\u001b[0m │\n",
       "├─────────────────────────────────┼────────────────────────┼───────────────┤\n",
       "│ up_sampling2d_30 (\u001b[38;5;33mUpSampling2D\u001b[0m) │ (\u001b[38;5;45mNone\u001b[0m, \u001b[38;5;34m64\u001b[0m, \u001b[38;5;34m64\u001b[0m, \u001b[38;5;34m16\u001b[0m)     │             \u001b[38;5;34m0\u001b[0m │\n",
       "├─────────────────────────────────┼────────────────────────┼───────────────┤\n",
       "│ conv2d_78 (\u001b[38;5;33mConv2D\u001b[0m)              │ (\u001b[38;5;45mNone\u001b[0m, \u001b[38;5;34m64\u001b[0m, \u001b[38;5;34m64\u001b[0m, \u001b[38;5;34m32\u001b[0m)     │         \u001b[38;5;34m4,640\u001b[0m │\n",
       "├─────────────────────────────────┼────────────────────────┼───────────────┤\n",
       "│ up_sampling2d_31 (\u001b[38;5;33mUpSampling2D\u001b[0m) │ (\u001b[38;5;45mNone\u001b[0m, \u001b[38;5;34m128\u001b[0m, \u001b[38;5;34m128\u001b[0m, \u001b[38;5;34m32\u001b[0m)   │             \u001b[38;5;34m0\u001b[0m │\n",
       "├─────────────────────────────────┼────────────────────────┼───────────────┤\n",
       "│ conv2d_79 (\u001b[38;5;33mConv2D\u001b[0m)              │ (\u001b[38;5;45mNone\u001b[0m, \u001b[38;5;34m128\u001b[0m, \u001b[38;5;34m128\u001b[0m, \u001b[38;5;34m1\u001b[0m)    │           \u001b[38;5;34m289\u001b[0m │\n",
       "└─────────────────────────────────┴────────────────────────┴───────────────┘\n"
      ]
     },
     "metadata": {},
     "output_type": "display_data"
    },
    {
     "data": {
      "text/html": [
       "<pre style=\"white-space:pre;overflow-x:auto;line-height:normal;font-family:Menlo,'DejaVu Sans Mono',consolas,'Courier New',monospace\"><span style=\"font-weight: bold\"> Total params: </span><span style=\"color: #00af00; text-decoration-color: #00af00\">12,193</span> (47.63 KB)\n",
       "</pre>\n"
      ],
      "text/plain": [
       "\u001b[1m Total params: \u001b[0m\u001b[38;5;34m12,193\u001b[0m (47.63 KB)\n"
      ]
     },
     "metadata": {},
     "output_type": "display_data"
    },
    {
     "data": {
      "text/html": [
       "<pre style=\"white-space:pre;overflow-x:auto;line-height:normal;font-family:Menlo,'DejaVu Sans Mono',consolas,'Courier New',monospace\"><span style=\"font-weight: bold\"> Trainable params: </span><span style=\"color: #00af00; text-decoration-color: #00af00\">12,193</span> (47.63 KB)\n",
       "</pre>\n"
      ],
      "text/plain": [
       "\u001b[1m Trainable params: \u001b[0m\u001b[38;5;34m12,193\u001b[0m (47.63 KB)\n"
      ]
     },
     "metadata": {},
     "output_type": "display_data"
    },
    {
     "data": {
      "text/html": [
       "<pre style=\"white-space:pre;overflow-x:auto;line-height:normal;font-family:Menlo,'DejaVu Sans Mono',consolas,'Courier New',monospace\"><span style=\"font-weight: bold\"> Non-trainable params: </span><span style=\"color: #00af00; text-decoration-color: #00af00\">0</span> (0.00 B)\n",
       "</pre>\n"
      ],
      "text/plain": [
       "\u001b[1m Non-trainable params: \u001b[0m\u001b[38;5;34m0\u001b[0m (0.00 B)\n"
      ]
     },
     "metadata": {},
     "output_type": "display_data"
    },
    {
     "name": "stdout",
     "output_type": "stream",
     "text": [
      "Epoch 1/20\n",
      "\u001b[1m9/9\u001b[0m \u001b[32m━━━━━━━━━━━━━━━━━━━━\u001b[0m\u001b[37m\u001b[0m \u001b[1m0s\u001b[0m 131ms/step - loss: 0.0248\n",
      "Epoch 1: val_loss improved from inf to 0.02168, saving model to anomaly_detection_results\\visa\\fryum\\fryum_visa_best_model.keras\n",
      "\u001b[1m9/9\u001b[0m \u001b[32m━━━━━━━━━━━━━━━━━━━━\u001b[0m\u001b[37m\u001b[0m \u001b[1m3s\u001b[0m 207ms/step - loss: 0.0247 - val_loss: 0.0217\n",
      "Epoch 2/20\n",
      "\u001b[1m9/9\u001b[0m \u001b[32m━━━━━━━━━━━━━━━━━━━━\u001b[0m\u001b[37m\u001b[0m \u001b[1m0s\u001b[0m 136ms/step - loss: 0.0195\n",
      "Epoch 2: val_loss improved from 0.02168 to 0.01093, saving model to anomaly_detection_results\\visa\\fryum\\fryum_visa_best_model.keras\n",
      "\u001b[1m9/9\u001b[0m \u001b[32m━━━━━━━━━━━━━━━━━━━━\u001b[0m\u001b[37m\u001b[0m \u001b[1m1s\u001b[0m 164ms/step - loss: 0.0192 - val_loss: 0.0109\n",
      "Epoch 3/20\n",
      "\u001b[1m9/9\u001b[0m \u001b[32m━━━━━━━━━━━━━━━━━━━━\u001b[0m\u001b[37m\u001b[0m \u001b[1m0s\u001b[0m 135ms/step - loss: 0.0090\n",
      "Epoch 3: val_loss improved from 0.01093 to 0.00644, saving model to anomaly_detection_results\\visa\\fryum\\fryum_visa_best_model.keras\n",
      "\u001b[1m9/9\u001b[0m \u001b[32m━━━━━━━━━━━━━━━━━━━━\u001b[0m\u001b[37m\u001b[0m \u001b[1m2s\u001b[0m 168ms/step - loss: 0.0089 - val_loss: 0.0064\n",
      "Epoch 4/20\n",
      "\u001b[1m9/9\u001b[0m \u001b[32m━━━━━━━━━━━━━━━━━━━━\u001b[0m\u001b[37m\u001b[0m \u001b[1m0s\u001b[0m 144ms/step - loss: 0.0060\n",
      "Epoch 4: val_loss improved from 0.00644 to 0.00494, saving model to anomaly_detection_results\\visa\\fryum\\fryum_visa_best_model.keras\n",
      "\u001b[1m9/9\u001b[0m \u001b[32m━━━━━━━━━━━━━━━━━━━━\u001b[0m\u001b[37m\u001b[0m \u001b[1m2s\u001b[0m 173ms/step - loss: 0.0060 - val_loss: 0.0049\n",
      "Epoch 5/20\n",
      "\u001b[1m9/9\u001b[0m \u001b[32m━━━━━━━━━━━━━━━━━━━━\u001b[0m\u001b[37m\u001b[0m \u001b[1m0s\u001b[0m 168ms/step - loss: 0.0046\n",
      "Epoch 5: val_loss improved from 0.00494 to 0.00384, saving model to anomaly_detection_results\\visa\\fryum\\fryum_visa_best_model.keras\n",
      "\u001b[1m9/9\u001b[0m \u001b[32m━━━━━━━━━━━━━━━━━━━━\u001b[0m\u001b[37m\u001b[0m \u001b[1m2s\u001b[0m 205ms/step - loss: 0.0046 - val_loss: 0.0038\n",
      "Epoch 6/20\n",
      "\u001b[1m9/9\u001b[0m \u001b[32m━━━━━━━━━━━━━━━━━━━━\u001b[0m\u001b[37m\u001b[0m \u001b[1m0s\u001b[0m 146ms/step - loss: 0.0037\n",
      "Epoch 6: val_loss improved from 0.00384 to 0.00336, saving model to anomaly_detection_results\\visa\\fryum\\fryum_visa_best_model.keras\n",
      "\u001b[1m9/9\u001b[0m \u001b[32m━━━━━━━━━━━━━━━━━━━━\u001b[0m\u001b[37m\u001b[0m \u001b[1m2s\u001b[0m 181ms/step - loss: 0.0037 - val_loss: 0.0034\n",
      "Epoch 7/20\n",
      "\u001b[1m9/9\u001b[0m \u001b[32m━━━━━━━━━━━━━━━━━━━━\u001b[0m\u001b[37m\u001b[0m \u001b[1m0s\u001b[0m 155ms/step - loss: 0.0033\n",
      "Epoch 7: val_loss improved from 0.00336 to 0.00305, saving model to anomaly_detection_results\\visa\\fryum\\fryum_visa_best_model.keras\n",
      "\u001b[1m9/9\u001b[0m \u001b[32m━━━━━━━━━━━━━━━━━━━━\u001b[0m\u001b[37m\u001b[0m \u001b[1m2s\u001b[0m 192ms/step - loss: 0.0033 - val_loss: 0.0031\n",
      "Epoch 8/20\n",
      "\u001b[1m9/9\u001b[0m \u001b[32m━━━━━━━━━━━━━━━━━━━━\u001b[0m\u001b[37m\u001b[0m \u001b[1m0s\u001b[0m 153ms/step - loss: 0.0030\n",
      "Epoch 8: val_loss improved from 0.00305 to 0.00279, saving model to anomaly_detection_results\\visa\\fryum\\fryum_visa_best_model.keras\n",
      "\u001b[1m9/9\u001b[0m \u001b[32m━━━━━━━━━━━━━━━━━━━━\u001b[0m\u001b[37m\u001b[0m \u001b[1m2s\u001b[0m 190ms/step - loss: 0.0030 - val_loss: 0.0028\n",
      "Epoch 9/20\n",
      "\u001b[1m9/9\u001b[0m \u001b[32m━━━━━━━━━━━━━━━━━━━━\u001b[0m\u001b[37m\u001b[0m \u001b[1m0s\u001b[0m 162ms/step - loss: 0.0028\n",
      "Epoch 9: val_loss improved from 0.00279 to 0.00279, saving model to anomaly_detection_results\\visa\\fryum\\fryum_visa_best_model.keras\n",
      "\u001b[1m9/9\u001b[0m \u001b[32m━━━━━━━━━━━━━━━━━━━━\u001b[0m\u001b[37m\u001b[0m \u001b[1m2s\u001b[0m 197ms/step - loss: 0.0028 - val_loss: 0.0028\n",
      "Epoch 10/20\n",
      "\u001b[1m9/9\u001b[0m \u001b[32m━━━━━━━━━━━━━━━━━━━━\u001b[0m\u001b[37m\u001b[0m \u001b[1m0s\u001b[0m 148ms/step - loss: 0.0027\n",
      "Epoch 10: val_loss improved from 0.00279 to 0.00249, saving model to anomaly_detection_results\\visa\\fryum\\fryum_visa_best_model.keras\n",
      "\u001b[1m9/9\u001b[0m \u001b[32m━━━━━━━━━━━━━━━━━━━━\u001b[0m\u001b[37m\u001b[0m \u001b[1m2s\u001b[0m 177ms/step - loss: 0.0027 - val_loss: 0.0025\n",
      "Epoch 11/20\n",
      "\u001b[1m9/9\u001b[0m \u001b[32m━━━━━━━━━━━━━━━━━━━━\u001b[0m\u001b[37m\u001b[0m \u001b[1m0s\u001b[0m 128ms/step - loss: 0.0025\n",
      "Epoch 11: val_loss improved from 0.00249 to 0.00240, saving model to anomaly_detection_results\\visa\\fryum\\fryum_visa_best_model.keras\n",
      "\u001b[1m9/9\u001b[0m \u001b[32m━━━━━━━━━━━━━━━━━━━━\u001b[0m\u001b[37m\u001b[0m \u001b[1m1s\u001b[0m 159ms/step - loss: 0.0025 - val_loss: 0.0024\n",
      "Epoch 12/20\n",
      "\u001b[1m9/9\u001b[0m \u001b[32m━━━━━━━━━━━━━━━━━━━━\u001b[0m\u001b[37m\u001b[0m \u001b[1m0s\u001b[0m 125ms/step - loss: 0.0024\n",
      "Epoch 12: val_loss improved from 0.00240 to 0.00228, saving model to anomaly_detection_results\\visa\\fryum\\fryum_visa_best_model.keras\n",
      "\u001b[1m9/9\u001b[0m \u001b[32m━━━━━━━━━━━━━━━━━━━━\u001b[0m\u001b[37m\u001b[0m \u001b[1m1s\u001b[0m 150ms/step - loss: 0.0024 - val_loss: 0.0023\n",
      "Epoch 13/20\n",
      "\u001b[1m9/9\u001b[0m \u001b[32m━━━━━━━━━━━━━━━━━━━━\u001b[0m\u001b[37m\u001b[0m \u001b[1m0s\u001b[0m 122ms/step - loss: 0.0023\n",
      "Epoch 13: val_loss improved from 0.00228 to 0.00222, saving model to anomaly_detection_results\\visa\\fryum\\fryum_visa_best_model.keras\n",
      "\u001b[1m9/9\u001b[0m \u001b[32m━━━━━━━━━━━━━━━━━━━━\u001b[0m\u001b[37m\u001b[0m \u001b[1m1s\u001b[0m 148ms/step - loss: 0.0023 - val_loss: 0.0022\n",
      "Epoch 14/20\n",
      "\u001b[1m9/9\u001b[0m \u001b[32m━━━━━━━━━━━━━━━━━━━━\u001b[0m\u001b[37m\u001b[0m \u001b[1m0s\u001b[0m 126ms/step - loss: 0.0022\n",
      "Epoch 14: val_loss improved from 0.00222 to 0.00216, saving model to anomaly_detection_results\\visa\\fryum\\fryum_visa_best_model.keras\n",
      "\u001b[1m9/9\u001b[0m \u001b[32m━━━━━━━━━━━━━━━━━━━━\u001b[0m\u001b[37m\u001b[0m \u001b[1m1s\u001b[0m 163ms/step - loss: 0.0022 - val_loss: 0.0022\n",
      "Epoch 15/20\n",
      "\u001b[1m9/9\u001b[0m \u001b[32m━━━━━━━━━━━━━━━━━━━━\u001b[0m\u001b[37m\u001b[0m \u001b[1m0s\u001b[0m 129ms/step - loss: 0.0021\n",
      "Epoch 15: val_loss improved from 0.00216 to 0.00207, saving model to anomaly_detection_results\\visa\\fryum\\fryum_visa_best_model.keras\n",
      "\u001b[1m9/9\u001b[0m \u001b[32m━━━━━━━━━━━━━━━━━━━━\u001b[0m\u001b[37m\u001b[0m \u001b[1m1s\u001b[0m 160ms/step - loss: 0.0021 - val_loss: 0.0021\n",
      "Epoch 16/20\n",
      "\u001b[1m9/9\u001b[0m \u001b[32m━━━━━━━━━━━━━━━━━━━━\u001b[0m\u001b[37m\u001b[0m \u001b[1m0s\u001b[0m 129ms/step - loss: 0.0021\n",
      "Epoch 16: val_loss improved from 0.00207 to 0.00200, saving model to anomaly_detection_results\\visa\\fryum\\fryum_visa_best_model.keras\n",
      "\u001b[1m9/9\u001b[0m \u001b[32m━━━━━━━━━━━━━━━━━━━━\u001b[0m\u001b[37m\u001b[0m \u001b[1m1s\u001b[0m 156ms/step - loss: 0.0021 - val_loss: 0.0020\n",
      "Epoch 17/20\n",
      "\u001b[1m9/9\u001b[0m \u001b[32m━━━━━━━━━━━━━━━━━━━━\u001b[0m\u001b[37m\u001b[0m \u001b[1m0s\u001b[0m 127ms/step - loss: 0.0020\n",
      "Epoch 17: val_loss improved from 0.00200 to 0.00193, saving model to anomaly_detection_results\\visa\\fryum\\fryum_visa_best_model.keras\n",
      "\u001b[1m9/9\u001b[0m \u001b[32m━━━━━━━━━━━━━━━━━━━━\u001b[0m\u001b[37m\u001b[0m \u001b[1m1s\u001b[0m 154ms/step - loss: 0.0020 - val_loss: 0.0019\n",
      "Epoch 18/20\n",
      "\u001b[1m9/9\u001b[0m \u001b[32m━━━━━━━━━━━━━━━━━━━━\u001b[0m\u001b[37m\u001b[0m \u001b[1m0s\u001b[0m 128ms/step - loss: 0.0020\n",
      "Epoch 18: val_loss did not improve from 0.00193\n",
      "\u001b[1m9/9\u001b[0m \u001b[32m━━━━━━━━━━━━━━━━━━━━\u001b[0m\u001b[37m\u001b[0m \u001b[1m1s\u001b[0m 150ms/step - loss: 0.0020 - val_loss: 0.0020\n",
      "Epoch 19/20\n",
      "\u001b[1m9/9\u001b[0m \u001b[32m━━━━━━━━━━━━━━━━━━━━\u001b[0m\u001b[37m\u001b[0m \u001b[1m0s\u001b[0m 128ms/step - loss: 0.0021\n",
      "Epoch 19: val_loss did not improve from 0.00193\n",
      "\u001b[1m9/9\u001b[0m \u001b[32m━━━━━━━━━━━━━━━━━━━━\u001b[0m\u001b[37m\u001b[0m \u001b[1m1s\u001b[0m 150ms/step - loss: 0.0021 - val_loss: 0.0021\n",
      "Epoch 20/20\n",
      "\u001b[1m9/9\u001b[0m \u001b[32m━━━━━━━━━━━━━━━━━━━━\u001b[0m\u001b[37m\u001b[0m \u001b[1m0s\u001b[0m 135ms/step - loss: 0.0020\n",
      "Epoch 20: val_loss improved from 0.00193 to 0.00193, saving model to anomaly_detection_results\\visa\\fryum\\fryum_visa_best_model.keras\n",
      "\u001b[1m9/9\u001b[0m \u001b[32m━━━━━━━━━━━━━━━━━━━━\u001b[0m\u001b[37m\u001b[0m \u001b[1m1s\u001b[0m 161ms/step - loss: 0.0020 - val_loss: 0.0019\n",
      "Eğitim tamamlandı. Süre: 32.11 saniye\n",
      "En iyi model yüklendi: anomaly_detection_results\\visa\\fryum\\fryum_visa_best_model.keras\n",
      "Eğitim geçmişi grafiği kaydedildi: anomaly_detection_results\\visa\\fryum\\fryum_visa_training_history.png\n",
      "Rekonstrüksiyon başlatılıyor...\n",
      "\u001b[1m8/8\u001b[0m \u001b[32m━━━━━━━━━━━━━━━━━━━━\u001b[0m\u001b[37m\u001b[0m \u001b[1m1s\u001b[0m 66ms/step\n",
      "Anomali eşik değeri (95. yüzdelik): 0.002622\n",
      "Doğruluk (Accuracy): 0.6520\n",
      "Hassasiyet (Precision): 1.0000\n",
      "Duyarlılık (Recall): 0.1300\n",
      "F1 Skoru: 0.2301\n",
      "ROC AUC: 0.8757\n",
      "\n",
      "fryum (visa) için analiz sonuçları görselleştiriliyor...\n",
      "Rekonstrüksiyon sonuçları kaydedildi: anomaly_detection_results\\visa\\fryum\\fryum_visa_reconstruction_results.png\n",
      "Normal örnekler MSE - Min: 0.001711, Max: 0.002498, Ortalama: 0.001965\n",
      "Anomali örnekler MSE - Min: 0.001865, Max: 0.004642, Ortalama: 0.002321\n",
      "MSE karşılaştırma histogramı kaydedildi: anomaly_detection_results\\visa\\fryum\\fryum_visa_mse_comparison_histogram.png\n",
      "ROC eğrisi kaydedildi: anomaly_detection_results\\visa\\fryum\\fryum_visa_roc_curve.png\n",
      "Karışıklık matrisi kaydedildi: anomaly_detection_results\\visa\\fryum\\fryum_visa_confusion_matrix.png\n",
      "anomaly kusur tipi detaylı analizi kaydedildi: anomaly_detection_results\\visa\\fryum\\fryum_visa_anomaly_detailed_analysis.png\n",
      "Kusur tipi metrikleri kaydedildi: anomaly_detection_results\\visa\\fryum\\fryum_visa_defect_type_metrics.png\n",
      "Kusur tipine göre MSE dağılımı kaydedildi: anomaly_detection_results\\visa\\fryum\\fryum_visa_defect_type_mse_distribution.png\n",
      "Sonuçlar başarıyla kaydedildi: anomaly_detection_results\\visa\\fryum\n",
      "VisA: fryum kategorisi başarıyla işlendi.\n",
      "\n",
      "==================================================\n",
      "İşleniyor: macaroni1 (VISA veri seti)\n",
      "==================================================\n",
      "VisA kategori dizini: C:\\Users\\Tansu\\OneDrive\\Masaüstü\\visa\\macaroni1\n",
      "VisA görüntü dizini: C:\\Users\\Tansu\\OneDrive\\Masaüstü\\visa\\macaroni1\\data\\images\n",
      "VisA normal görüntü dizini: C:\\Users\\Tansu\\OneDrive\\Masaüstü\\visa\\macaroni1\\data\\images\\normal\n",
      "VisA anomali görüntü dizini: C:\\Users\\Tansu\\OneDrive\\Masaüstü\\visa\\macaroni1\\data\\images\\anomaly\n"
     ]
    },
    {
     "name": "stderr",
     "output_type": "stream",
     "text": [
      "macaroni1 (VisA): Normal görüntüleri yükleme: 100%|██████████| 1000/1000 [00:22<00:00, 45.08it/s]\n",
      "macaroni1 (VisA): Anomali görüntüleri yükleme: 100%|██████████| 100/100 [00:02<00:00, 45.22it/s]"
     ]
    },
    {
     "name": "stdout",
     "output_type": "stream",
     "text": [
      "VisA Eğitim veriseti: (700, 128, 128) - Min: 14, Max: 209\n",
      "VisA Test veriseti: (400, 128, 128) - Min: 21, Max: 213\n",
      "VisA Test etiketleri: (400,)\n",
      "VisA Anomali sayısı: 100\n",
      "VisA Normal test örneği sayısı: 300\n",
      "\n",
      "macaroni1 (visa) için görselleştirmeler oluşturuluyor...\n",
      "UYARI: 'C:\\Users\\Tansu\\OneDrive\\Masaüstü\\visa\\macaroni1\\test\\good' dizini bulunamadı. Normal örnekler için test dizini kullanılıyor.\n",
      "UYARI: 'macaroni1' için kusur tipi bulunamadı.\n",
      "UYARI: 'C:\\Users\\Tansu\\OneDrive\\Masaüstü\\visa\\macaroni1\\test' dizini bulunamadı.\n"
     ]
    },
    {
     "name": "stderr",
     "output_type": "stream",
     "text": [
      "\n"
     ]
    },
    {
     "data": {
      "text/html": [
       "<pre style=\"white-space:pre;overflow-x:auto;line-height:normal;font-family:Menlo,'DejaVu Sans Mono',consolas,'Courier New',monospace\"><span style=\"font-weight: bold\">Model: \"functional_16\"</span>\n",
       "</pre>\n"
      ],
      "text/plain": [
       "\u001b[1mModel: \"functional_16\"\u001b[0m\n"
      ]
     },
     "metadata": {},
     "output_type": "display_data"
    },
    {
     "data": {
      "text/html": [
       "<pre style=\"white-space:pre;overflow-x:auto;line-height:normal;font-family:Menlo,'DejaVu Sans Mono',consolas,'Courier New',monospace\">┏━━━━━━━━━━━━━━━━━━━━━━━━━━━━━━━━━┳━━━━━━━━━━━━━━━━━━━━━━━━┳━━━━━━━━━━━━━━━┓\n",
       "┃<span style=\"font-weight: bold\"> Layer (type)                    </span>┃<span style=\"font-weight: bold\"> Output Shape           </span>┃<span style=\"font-weight: bold\">       Param # </span>┃\n",
       "┡━━━━━━━━━━━━━━━━━━━━━━━━━━━━━━━━━╇━━━━━━━━━━━━━━━━━━━━━━━━╇━━━━━━━━━━━━━━━┩\n",
       "│ input_layer (<span style=\"color: #0087ff; text-decoration-color: #0087ff\">InputLayer</span>)        │ (<span style=\"color: #00d7ff; text-decoration-color: #00d7ff\">None</span>, <span style=\"color: #00af00; text-decoration-color: #00af00\">128</span>, <span style=\"color: #00af00; text-decoration-color: #00af00\">128</span>, <span style=\"color: #00af00; text-decoration-color: #00af00\">1</span>)    │             <span style=\"color: #00af00; text-decoration-color: #00af00\">0</span> │\n",
       "├─────────────────────────────────┼────────────────────────┼───────────────┤\n",
       "│ conv2d_80 (<span style=\"color: #0087ff; text-decoration-color: #0087ff\">Conv2D</span>)              │ (<span style=\"color: #00d7ff; text-decoration-color: #00d7ff\">None</span>, <span style=\"color: #00af00; text-decoration-color: #00af00\">128</span>, <span style=\"color: #00af00; text-decoration-color: #00af00\">128</span>, <span style=\"color: #00af00; text-decoration-color: #00af00\">32</span>)   │           <span style=\"color: #00af00; text-decoration-color: #00af00\">320</span> │\n",
       "├─────────────────────────────────┼────────────────────────┼───────────────┤\n",
       "│ max_pooling2d_32 (<span style=\"color: #0087ff; text-decoration-color: #0087ff\">MaxPooling2D</span>) │ (<span style=\"color: #00d7ff; text-decoration-color: #00d7ff\">None</span>, <span style=\"color: #00af00; text-decoration-color: #00af00\">64</span>, <span style=\"color: #00af00; text-decoration-color: #00af00\">64</span>, <span style=\"color: #00af00; text-decoration-color: #00af00\">32</span>)     │             <span style=\"color: #00af00; text-decoration-color: #00af00\">0</span> │\n",
       "├─────────────────────────────────┼────────────────────────┼───────────────┤\n",
       "│ conv2d_81 (<span style=\"color: #0087ff; text-decoration-color: #0087ff\">Conv2D</span>)              │ (<span style=\"color: #00d7ff; text-decoration-color: #00d7ff\">None</span>, <span style=\"color: #00af00; text-decoration-color: #00af00\">64</span>, <span style=\"color: #00af00; text-decoration-color: #00af00\">64</span>, <span style=\"color: #00af00; text-decoration-color: #00af00\">16</span>)     │         <span style=\"color: #00af00; text-decoration-color: #00af00\">4,624</span> │\n",
       "├─────────────────────────────────┼────────────────────────┼───────────────┤\n",
       "│ max_pooling2d_33 (<span style=\"color: #0087ff; text-decoration-color: #0087ff\">MaxPooling2D</span>) │ (<span style=\"color: #00d7ff; text-decoration-color: #00d7ff\">None</span>, <span style=\"color: #00af00; text-decoration-color: #00af00\">32</span>, <span style=\"color: #00af00; text-decoration-color: #00af00\">32</span>, <span style=\"color: #00af00; text-decoration-color: #00af00\">16</span>)     │             <span style=\"color: #00af00; text-decoration-color: #00af00\">0</span> │\n",
       "├─────────────────────────────────┼────────────────────────┼───────────────┤\n",
       "│ conv2d_82 (<span style=\"color: #0087ff; text-decoration-color: #0087ff\">Conv2D</span>)              │ (<span style=\"color: #00d7ff; text-decoration-color: #00d7ff\">None</span>, <span style=\"color: #00af00; text-decoration-color: #00af00\">32</span>, <span style=\"color: #00af00; text-decoration-color: #00af00\">32</span>, <span style=\"color: #00af00; text-decoration-color: #00af00\">16</span>)     │         <span style=\"color: #00af00; text-decoration-color: #00af00\">2,320</span> │\n",
       "├─────────────────────────────────┼────────────────────────┼───────────────┤\n",
       "│ up_sampling2d_32 (<span style=\"color: #0087ff; text-decoration-color: #0087ff\">UpSampling2D</span>) │ (<span style=\"color: #00d7ff; text-decoration-color: #00d7ff\">None</span>, <span style=\"color: #00af00; text-decoration-color: #00af00\">64</span>, <span style=\"color: #00af00; text-decoration-color: #00af00\">64</span>, <span style=\"color: #00af00; text-decoration-color: #00af00\">16</span>)     │             <span style=\"color: #00af00; text-decoration-color: #00af00\">0</span> │\n",
       "├─────────────────────────────────┼────────────────────────┼───────────────┤\n",
       "│ conv2d_83 (<span style=\"color: #0087ff; text-decoration-color: #0087ff\">Conv2D</span>)              │ (<span style=\"color: #00d7ff; text-decoration-color: #00d7ff\">None</span>, <span style=\"color: #00af00; text-decoration-color: #00af00\">64</span>, <span style=\"color: #00af00; text-decoration-color: #00af00\">64</span>, <span style=\"color: #00af00; text-decoration-color: #00af00\">32</span>)     │         <span style=\"color: #00af00; text-decoration-color: #00af00\">4,640</span> │\n",
       "├─────────────────────────────────┼────────────────────────┼───────────────┤\n",
       "│ up_sampling2d_33 (<span style=\"color: #0087ff; text-decoration-color: #0087ff\">UpSampling2D</span>) │ (<span style=\"color: #00d7ff; text-decoration-color: #00d7ff\">None</span>, <span style=\"color: #00af00; text-decoration-color: #00af00\">128</span>, <span style=\"color: #00af00; text-decoration-color: #00af00\">128</span>, <span style=\"color: #00af00; text-decoration-color: #00af00\">32</span>)   │             <span style=\"color: #00af00; text-decoration-color: #00af00\">0</span> │\n",
       "├─────────────────────────────────┼────────────────────────┼───────────────┤\n",
       "│ conv2d_84 (<span style=\"color: #0087ff; text-decoration-color: #0087ff\">Conv2D</span>)              │ (<span style=\"color: #00d7ff; text-decoration-color: #00d7ff\">None</span>, <span style=\"color: #00af00; text-decoration-color: #00af00\">128</span>, <span style=\"color: #00af00; text-decoration-color: #00af00\">128</span>, <span style=\"color: #00af00; text-decoration-color: #00af00\">1</span>)    │           <span style=\"color: #00af00; text-decoration-color: #00af00\">289</span> │\n",
       "└─────────────────────────────────┴────────────────────────┴───────────────┘\n",
       "</pre>\n"
      ],
      "text/plain": [
       "┏━━━━━━━━━━━━━━━━━━━━━━━━━━━━━━━━━┳━━━━━━━━━━━━━━━━━━━━━━━━┳━━━━━━━━━━━━━━━┓\n",
       "┃\u001b[1m \u001b[0m\u001b[1mLayer (type)                   \u001b[0m\u001b[1m \u001b[0m┃\u001b[1m \u001b[0m\u001b[1mOutput Shape          \u001b[0m\u001b[1m \u001b[0m┃\u001b[1m \u001b[0m\u001b[1m      Param #\u001b[0m\u001b[1m \u001b[0m┃\n",
       "┡━━━━━━━━━━━━━━━━━━━━━━━━━━━━━━━━━╇━━━━━━━━━━━━━━━━━━━━━━━━╇━━━━━━━━━━━━━━━┩\n",
       "│ input_layer (\u001b[38;5;33mInputLayer\u001b[0m)        │ (\u001b[38;5;45mNone\u001b[0m, \u001b[38;5;34m128\u001b[0m, \u001b[38;5;34m128\u001b[0m, \u001b[38;5;34m1\u001b[0m)    │             \u001b[38;5;34m0\u001b[0m │\n",
       "├─────────────────────────────────┼────────────────────────┼───────────────┤\n",
       "│ conv2d_80 (\u001b[38;5;33mConv2D\u001b[0m)              │ (\u001b[38;5;45mNone\u001b[0m, \u001b[38;5;34m128\u001b[0m, \u001b[38;5;34m128\u001b[0m, \u001b[38;5;34m32\u001b[0m)   │           \u001b[38;5;34m320\u001b[0m │\n",
       "├─────────────────────────────────┼────────────────────────┼───────────────┤\n",
       "│ max_pooling2d_32 (\u001b[38;5;33mMaxPooling2D\u001b[0m) │ (\u001b[38;5;45mNone\u001b[0m, \u001b[38;5;34m64\u001b[0m, \u001b[38;5;34m64\u001b[0m, \u001b[38;5;34m32\u001b[0m)     │             \u001b[38;5;34m0\u001b[0m │\n",
       "├─────────────────────────────────┼────────────────────────┼───────────────┤\n",
       "│ conv2d_81 (\u001b[38;5;33mConv2D\u001b[0m)              │ (\u001b[38;5;45mNone\u001b[0m, \u001b[38;5;34m64\u001b[0m, \u001b[38;5;34m64\u001b[0m, \u001b[38;5;34m16\u001b[0m)     │         \u001b[38;5;34m4,624\u001b[0m │\n",
       "├─────────────────────────────────┼────────────────────────┼───────────────┤\n",
       "│ max_pooling2d_33 (\u001b[38;5;33mMaxPooling2D\u001b[0m) │ (\u001b[38;5;45mNone\u001b[0m, \u001b[38;5;34m32\u001b[0m, \u001b[38;5;34m32\u001b[0m, \u001b[38;5;34m16\u001b[0m)     │             \u001b[38;5;34m0\u001b[0m │\n",
       "├─────────────────────────────────┼────────────────────────┼───────────────┤\n",
       "│ conv2d_82 (\u001b[38;5;33mConv2D\u001b[0m)              │ (\u001b[38;5;45mNone\u001b[0m, \u001b[38;5;34m32\u001b[0m, \u001b[38;5;34m32\u001b[0m, \u001b[38;5;34m16\u001b[0m)     │         \u001b[38;5;34m2,320\u001b[0m │\n",
       "├─────────────────────────────────┼────────────────────────┼───────────────┤\n",
       "│ up_sampling2d_32 (\u001b[38;5;33mUpSampling2D\u001b[0m) │ (\u001b[38;5;45mNone\u001b[0m, \u001b[38;5;34m64\u001b[0m, \u001b[38;5;34m64\u001b[0m, \u001b[38;5;34m16\u001b[0m)     │             \u001b[38;5;34m0\u001b[0m │\n",
       "├─────────────────────────────────┼────────────────────────┼───────────────┤\n",
       "│ conv2d_83 (\u001b[38;5;33mConv2D\u001b[0m)              │ (\u001b[38;5;45mNone\u001b[0m, \u001b[38;5;34m64\u001b[0m, \u001b[38;5;34m64\u001b[0m, \u001b[38;5;34m32\u001b[0m)     │         \u001b[38;5;34m4,640\u001b[0m │\n",
       "├─────────────────────────────────┼────────────────────────┼───────────────┤\n",
       "│ up_sampling2d_33 (\u001b[38;5;33mUpSampling2D\u001b[0m) │ (\u001b[38;5;45mNone\u001b[0m, \u001b[38;5;34m128\u001b[0m, \u001b[38;5;34m128\u001b[0m, \u001b[38;5;34m32\u001b[0m)   │             \u001b[38;5;34m0\u001b[0m │\n",
       "├─────────────────────────────────┼────────────────────────┼───────────────┤\n",
       "│ conv2d_84 (\u001b[38;5;33mConv2D\u001b[0m)              │ (\u001b[38;5;45mNone\u001b[0m, \u001b[38;5;34m128\u001b[0m, \u001b[38;5;34m128\u001b[0m, \u001b[38;5;34m1\u001b[0m)    │           \u001b[38;5;34m289\u001b[0m │\n",
       "└─────────────────────────────────┴────────────────────────┴───────────────┘\n"
      ]
     },
     "metadata": {},
     "output_type": "display_data"
    },
    {
     "data": {
      "text/html": [
       "<pre style=\"white-space:pre;overflow-x:auto;line-height:normal;font-family:Menlo,'DejaVu Sans Mono',consolas,'Courier New',monospace\"><span style=\"font-weight: bold\"> Total params: </span><span style=\"color: #00af00; text-decoration-color: #00af00\">12,193</span> (47.63 KB)\n",
       "</pre>\n"
      ],
      "text/plain": [
       "\u001b[1m Total params: \u001b[0m\u001b[38;5;34m12,193\u001b[0m (47.63 KB)\n"
      ]
     },
     "metadata": {},
     "output_type": "display_data"
    },
    {
     "data": {
      "text/html": [
       "<pre style=\"white-space:pre;overflow-x:auto;line-height:normal;font-family:Menlo,'DejaVu Sans Mono',consolas,'Courier New',monospace\"><span style=\"font-weight: bold\"> Trainable params: </span><span style=\"color: #00af00; text-decoration-color: #00af00\">12,193</span> (47.63 KB)\n",
       "</pre>\n"
      ],
      "text/plain": [
       "\u001b[1m Trainable params: \u001b[0m\u001b[38;5;34m12,193\u001b[0m (47.63 KB)\n"
      ]
     },
     "metadata": {},
     "output_type": "display_data"
    },
    {
     "data": {
      "text/html": [
       "<pre style=\"white-space:pre;overflow-x:auto;line-height:normal;font-family:Menlo,'DejaVu Sans Mono',consolas,'Courier New',monospace\"><span style=\"font-weight: bold\"> Non-trainable params: </span><span style=\"color: #00af00; text-decoration-color: #00af00\">0</span> (0.00 B)\n",
       "</pre>\n"
      ],
      "text/plain": [
       "\u001b[1m Non-trainable params: \u001b[0m\u001b[38;5;34m0\u001b[0m (0.00 B)\n"
      ]
     },
     "metadata": {},
     "output_type": "display_data"
    },
    {
     "name": "stdout",
     "output_type": "stream",
     "text": [
      "Epoch 1/20\n",
      "\u001b[1m18/18\u001b[0m \u001b[32m━━━━━━━━━━━━━━━━━━━━\u001b[0m\u001b[37m\u001b[0m \u001b[1m0s\u001b[0m 120ms/step - loss: 0.0555\n",
      "Epoch 1: val_loss improved from inf to 0.03513, saving model to anomaly_detection_results\\visa\\macaroni1\\macaroni1_visa_best_model.keras\n",
      "\u001b[1m18/18\u001b[0m \u001b[32m━━━━━━━━━━━━━━━━━━━━\u001b[0m\u001b[37m\u001b[0m \u001b[1m4s\u001b[0m 152ms/step - loss: 0.0551 - val_loss: 0.0351\n",
      "Epoch 2/20\n",
      "\u001b[1m18/18\u001b[0m \u001b[32m━━━━━━━━━━━━━━━━━━━━\u001b[0m\u001b[37m\u001b[0m \u001b[1m0s\u001b[0m 122ms/step - loss: 0.0328\n",
      "Epoch 2: val_loss improved from 0.03513 to 0.02210, saving model to anomaly_detection_results\\visa\\macaroni1\\macaroni1_visa_best_model.keras\n",
      "\u001b[1m18/18\u001b[0m \u001b[32m━━━━━━━━━━━━━━━━━━━━\u001b[0m\u001b[37m\u001b[0m \u001b[1m3s\u001b[0m 140ms/step - loss: 0.0327 - val_loss: 0.0221\n",
      "Epoch 3/20\n",
      "\u001b[1m18/18\u001b[0m \u001b[32m━━━━━━━━━━━━━━━━━━━━\u001b[0m\u001b[37m\u001b[0m \u001b[1m0s\u001b[0m 125ms/step - loss: 0.0175\n",
      "Epoch 3: val_loss improved from 0.02210 to 0.00886, saving model to anomaly_detection_results\\visa\\macaroni1\\macaroni1_visa_best_model.keras\n",
      "\u001b[1m18/18\u001b[0m \u001b[32m━━━━━━━━━━━━━━━━━━━━\u001b[0m\u001b[37m\u001b[0m \u001b[1m3s\u001b[0m 144ms/step - loss: 0.0173 - val_loss: 0.0089\n",
      "Epoch 4/20\n",
      "\u001b[1m18/18\u001b[0m \u001b[32m━━━━━━━━━━━━━━━━━━━━\u001b[0m\u001b[37m\u001b[0m \u001b[1m0s\u001b[0m 125ms/step - loss: 0.0076\n",
      "Epoch 4: val_loss improved from 0.00886 to 0.00382, saving model to anomaly_detection_results\\visa\\macaroni1\\macaroni1_visa_best_model.keras\n",
      "\u001b[1m18/18\u001b[0m \u001b[32m━━━━━━━━━━━━━━━━━━━━\u001b[0m\u001b[37m\u001b[0m \u001b[1m3s\u001b[0m 147ms/step - loss: 0.0075 - val_loss: 0.0038\n",
      "Epoch 5/20\n",
      "\u001b[1m18/18\u001b[0m \u001b[32m━━━━━━━━━━━━━━━━━━━━\u001b[0m\u001b[37m\u001b[0m \u001b[1m0s\u001b[0m 131ms/step - loss: 0.0029\n",
      "Epoch 5: val_loss improved from 0.00382 to 0.00175, saving model to anomaly_detection_results\\visa\\macaroni1\\macaroni1_visa_best_model.keras\n",
      "\u001b[1m18/18\u001b[0m \u001b[32m━━━━━━━━━━━━━━━━━━━━\u001b[0m\u001b[37m\u001b[0m \u001b[1m3s\u001b[0m 150ms/step - loss: 0.0029 - val_loss: 0.0018\n",
      "Epoch 6/20\n",
      "\u001b[1m18/18\u001b[0m \u001b[32m━━━━━━━━━━━━━━━━━━━━\u001b[0m\u001b[37m\u001b[0m \u001b[1m0s\u001b[0m 142ms/step - loss: 0.0016\n",
      "Epoch 6: val_loss improved from 0.00175 to 0.00142, saving model to anomaly_detection_results\\visa\\macaroni1\\macaroni1_visa_best_model.keras\n",
      "\u001b[1m18/18\u001b[0m \u001b[32m━━━━━━━━━━━━━━━━━━━━\u001b[0m\u001b[37m\u001b[0m \u001b[1m3s\u001b[0m 164ms/step - loss: 0.0016 - val_loss: 0.0014\n",
      "Epoch 7/20\n",
      "\u001b[1m18/18\u001b[0m \u001b[32m━━━━━━━━━━━━━━━━━━━━\u001b[0m\u001b[37m\u001b[0m \u001b[1m0s\u001b[0m 136ms/step - loss: 0.0014\n",
      "Epoch 7: val_loss improved from 0.00142 to 0.00126, saving model to anomaly_detection_results\\visa\\macaroni1\\macaroni1_visa_best_model.keras\n",
      "\u001b[1m18/18\u001b[0m \u001b[32m━━━━━━━━━━━━━━━━━━━━\u001b[0m\u001b[37m\u001b[0m \u001b[1m3s\u001b[0m 159ms/step - loss: 0.0014 - val_loss: 0.0013\n",
      "Epoch 8/20\n",
      "\u001b[1m18/18\u001b[0m \u001b[32m━━━━━━━━━━━━━━━━━━━━\u001b[0m\u001b[37m\u001b[0m \u001b[1m0s\u001b[0m 134ms/step - loss: 0.0012\n",
      "Epoch 8: val_loss improved from 0.00126 to 0.00113, saving model to anomaly_detection_results\\visa\\macaroni1\\macaroni1_visa_best_model.keras\n",
      "\u001b[1m18/18\u001b[0m \u001b[32m━━━━━━━━━━━━━━━━━━━━\u001b[0m\u001b[37m\u001b[0m \u001b[1m3s\u001b[0m 152ms/step - loss: 0.0012 - val_loss: 0.0011\n",
      "Epoch 9/20\n",
      "\u001b[1m18/18\u001b[0m \u001b[32m━━━━━━━━━━━━━━━━━━━━\u001b[0m\u001b[37m\u001b[0m \u001b[1m0s\u001b[0m 130ms/step - loss: 0.0011\n",
      "Epoch 9: val_loss improved from 0.00113 to 0.00102, saving model to anomaly_detection_results\\visa\\macaroni1\\macaroni1_visa_best_model.keras\n",
      "\u001b[1m18/18\u001b[0m \u001b[32m━━━━━━━━━━━━━━━━━━━━\u001b[0m\u001b[37m\u001b[0m \u001b[1m3s\u001b[0m 151ms/step - loss: 0.0011 - val_loss: 0.0010\n",
      "Epoch 10/20\n",
      "\u001b[1m18/18\u001b[0m \u001b[32m━━━━━━━━━━━━━━━━━━━━\u001b[0m\u001b[37m\u001b[0m \u001b[1m0s\u001b[0m 128ms/step - loss: 9.9423e-04\n",
      "Epoch 10: val_loss improved from 0.00102 to 0.00093, saving model to anomaly_detection_results\\visa\\macaroni1\\macaroni1_visa_best_model.keras\n",
      "\u001b[1m18/18\u001b[0m \u001b[32m━━━━━━━━━━━━━━━━━━━━\u001b[0m\u001b[37m\u001b[0m \u001b[1m3s\u001b[0m 148ms/step - loss: 9.9333e-04 - val_loss: 9.3209e-04\n",
      "Epoch 11/20\n",
      "\u001b[1m18/18\u001b[0m \u001b[32m━━━━━━━━━━━━━━━━━━━━\u001b[0m\u001b[37m\u001b[0m \u001b[1m0s\u001b[0m 130ms/step - loss: 9.1426e-04\n",
      "Epoch 11: val_loss improved from 0.00093 to 0.00088, saving model to anomaly_detection_results\\visa\\macaroni1\\macaroni1_visa_best_model.keras\n",
      "\u001b[1m18/18\u001b[0m \u001b[32m━━━━━━━━━━━━━━━━━━━━\u001b[0m\u001b[37m\u001b[0m \u001b[1m3s\u001b[0m 149ms/step - loss: 9.1336e-04 - val_loss: 8.7653e-04\n",
      "Epoch 12/20\n",
      "\u001b[1m18/18\u001b[0m \u001b[32m━━━━━━━━━━━━━━━━━━━━\u001b[0m\u001b[37m\u001b[0m \u001b[1m0s\u001b[0m 133ms/step - loss: 8.4989e-04\n",
      "Epoch 12: val_loss improved from 0.00088 to 0.00083, saving model to anomaly_detection_results\\visa\\macaroni1\\macaroni1_visa_best_model.keras\n",
      "\u001b[1m18/18\u001b[0m \u001b[32m━━━━━━━━━━━━━━━━━━━━\u001b[0m\u001b[37m\u001b[0m \u001b[1m3s\u001b[0m 152ms/step - loss: 8.4943e-04 - val_loss: 8.2568e-04\n",
      "Epoch 13/20\n",
      "\u001b[1m18/18\u001b[0m \u001b[32m━━━━━━━━━━━━━━━━━━━━\u001b[0m\u001b[37m\u001b[0m \u001b[1m0s\u001b[0m 129ms/step - loss: 8.0237e-04\n",
      "Epoch 13: val_loss improved from 0.00083 to 0.00080, saving model to anomaly_detection_results\\visa\\macaroni1\\macaroni1_visa_best_model.keras\n",
      "\u001b[1m18/18\u001b[0m \u001b[32m━━━━━━━━━━━━━━━━━━━━\u001b[0m\u001b[37m\u001b[0m \u001b[1m3s\u001b[0m 147ms/step - loss: 8.0165e-04 - val_loss: 8.0125e-04\n",
      "Epoch 14/20\n",
      "\u001b[1m18/18\u001b[0m \u001b[32m━━━━━━━━━━━━━━━━━━━━\u001b[0m\u001b[37m\u001b[0m \u001b[1m0s\u001b[0m 123ms/step - loss: 7.7114e-04\n",
      "Epoch 14: val_loss improved from 0.00080 to 0.00074, saving model to anomaly_detection_results\\visa\\macaroni1\\macaroni1_visa_best_model.keras\n",
      "\u001b[1m18/18\u001b[0m \u001b[32m━━━━━━━━━━━━━━━━━━━━\u001b[0m\u001b[37m\u001b[0m \u001b[1m3s\u001b[0m 141ms/step - loss: 7.7051e-04 - val_loss: 7.4179e-04\n",
      "Epoch 15/20\n",
      "\u001b[1m18/18\u001b[0m \u001b[32m━━━━━━━━━━━━━━━━━━━━\u001b[0m\u001b[37m\u001b[0m \u001b[1m0s\u001b[0m 130ms/step - loss: 7.2830e-04\n",
      "Epoch 15: val_loss improved from 0.00074 to 0.00072, saving model to anomaly_detection_results\\visa\\macaroni1\\macaroni1_visa_best_model.keras\n",
      "\u001b[1m18/18\u001b[0m \u001b[32m━━━━━━━━━━━━━━━━━━━━\u001b[0m\u001b[37m\u001b[0m \u001b[1m3s\u001b[0m 149ms/step - loss: 7.2812e-04 - val_loss: 7.1646e-04\n",
      "Epoch 16/20\n",
      "\u001b[1m18/18\u001b[0m \u001b[32m━━━━━━━━━━━━━━━━━━━━\u001b[0m\u001b[37m\u001b[0m \u001b[1m0s\u001b[0m 128ms/step - loss: 7.0868e-04\n",
      "Epoch 16: val_loss improved from 0.00072 to 0.00069, saving model to anomaly_detection_results\\visa\\macaroni1\\macaroni1_visa_best_model.keras\n",
      "\u001b[1m18/18\u001b[0m \u001b[32m━━━━━━━━━━━━━━━━━━━━\u001b[0m\u001b[37m\u001b[0m \u001b[1m3s\u001b[0m 148ms/step - loss: 7.0846e-04 - val_loss: 6.8984e-04\n",
      "Epoch 17/20\n",
      "\u001b[1m18/18\u001b[0m \u001b[32m━━━━━━━━━━━━━━━━━━━━\u001b[0m\u001b[37m\u001b[0m \u001b[1m0s\u001b[0m 130ms/step - loss: 6.9325e-04\n",
      "Epoch 17: val_loss improved from 0.00069 to 0.00068, saving model to anomaly_detection_results\\visa\\macaroni1\\macaroni1_visa_best_model.keras\n",
      "\u001b[1m18/18\u001b[0m \u001b[32m━━━━━━━━━━━━━━━━━━━━\u001b[0m\u001b[37m\u001b[0m \u001b[1m3s\u001b[0m 150ms/step - loss: 6.9302e-04 - val_loss: 6.8025e-04\n",
      "Epoch 18/20\n",
      "\u001b[1m18/18\u001b[0m \u001b[32m━━━━━━━━━━━━━━━━━━━━\u001b[0m\u001b[37m\u001b[0m \u001b[1m0s\u001b[0m 130ms/step - loss: 6.6367e-04\n",
      "Epoch 18: val_loss improved from 0.00068 to 0.00066, saving model to anomaly_detection_results\\visa\\macaroni1\\macaroni1_visa_best_model.keras\n",
      "\u001b[1m18/18\u001b[0m \u001b[32m━━━━━━━━━━━━━━━━━━━━\u001b[0m\u001b[37m\u001b[0m \u001b[1m3s\u001b[0m 150ms/step - loss: 6.6348e-04 - val_loss: 6.5991e-04\n",
      "Epoch 19/20\n",
      "\u001b[1m18/18\u001b[0m \u001b[32m━━━━━━━━━━━━━━━━━━━━\u001b[0m\u001b[37m\u001b[0m \u001b[1m0s\u001b[0m 130ms/step - loss: 6.4449e-04\n",
      "Epoch 19: val_loss improved from 0.00066 to 0.00064, saving model to anomaly_detection_results\\visa\\macaroni1\\macaroni1_visa_best_model.keras\n",
      "\u001b[1m18/18\u001b[0m \u001b[32m━━━━━━━━━━━━━━━━━━━━\u001b[0m\u001b[37m\u001b[0m \u001b[1m3s\u001b[0m 149ms/step - loss: 6.4435e-04 - val_loss: 6.3884e-04\n",
      "Epoch 20/20\n",
      "\u001b[1m18/18\u001b[0m \u001b[32m━━━━━━━━━━━━━━━━━━━━\u001b[0m\u001b[37m\u001b[0m \u001b[1m0s\u001b[0m 125ms/step - loss: 6.2797e-04\n",
      "Epoch 20: val_loss improved from 0.00064 to 0.00062, saving model to anomaly_detection_results\\visa\\macaroni1\\macaroni1_visa_best_model.keras\n",
      "\u001b[1m18/18\u001b[0m \u001b[32m━━━━━━━━━━━━━━━━━━━━\u001b[0m\u001b[37m\u001b[0m \u001b[1m3s\u001b[0m 144ms/step - loss: 6.2802e-04 - val_loss: 6.2370e-04\n",
      "Eğitim tamamlandı. Süre: 55.01 saniye\n",
      "En iyi model yüklendi: anomaly_detection_results\\visa\\macaroni1\\macaroni1_visa_best_model.keras\n",
      "Eğitim geçmişi grafiği kaydedildi: anomaly_detection_results\\visa\\macaroni1\\macaroni1_visa_training_history.png\n",
      "Rekonstrüksiyon başlatılıyor...\n",
      "\u001b[1m13/13\u001b[0m \u001b[32m━━━━━━━━━━━━━━━━━━━━\u001b[0m\u001b[37m\u001b[0m \u001b[1m1s\u001b[0m 61ms/step\n",
      "Anomali eşik değeri (95. yüzdelik): 0.000762\n",
      "Doğruluk (Accuracy): 0.7800\n",
      "Hassasiyet (Precision): 0.8000\n",
      "Duyarlılık (Recall): 0.1600\n",
      "F1 Skoru: 0.2667\n",
      "ROC AUC: 0.8494\n",
      "\n",
      "macaroni1 (visa) için analiz sonuçları görselleştiriliyor...\n",
      "Rekonstrüksiyon sonuçları kaydedildi: anomaly_detection_results\\visa\\macaroni1\\macaroni1_visa_reconstruction_results.png\n",
      "Normal örnekler MSE - Min: 0.000508, Max: 0.000844, Ortalama: 0.000620\n",
      "Anomali örnekler MSE - Min: 0.000578, Max: 0.000826, Ortalama: 0.000703\n",
      "MSE karşılaştırma histogramı kaydedildi: anomaly_detection_results\\visa\\macaroni1\\macaroni1_visa_mse_comparison_histogram.png\n",
      "ROC eğrisi kaydedildi: anomaly_detection_results\\visa\\macaroni1\\macaroni1_visa_roc_curve.png\n",
      "Karışıklık matrisi kaydedildi: anomaly_detection_results\\visa\\macaroni1\\macaroni1_visa_confusion_matrix.png\n",
      "anomaly kusur tipi detaylı analizi kaydedildi: anomaly_detection_results\\visa\\macaroni1\\macaroni1_visa_anomaly_detailed_analysis.png\n",
      "Kusur tipi metrikleri kaydedildi: anomaly_detection_results\\visa\\macaroni1\\macaroni1_visa_defect_type_metrics.png\n",
      "Kusur tipine göre MSE dağılımı kaydedildi: anomaly_detection_results\\visa\\macaroni1\\macaroni1_visa_defect_type_mse_distribution.png\n",
      "Sonuçlar başarıyla kaydedildi: anomaly_detection_results\\visa\\macaroni1\n",
      "VisA: macaroni1 kategorisi başarıyla işlendi.\n",
      "\n",
      "==================================================\n",
      "İşleniyor: macaroni2 (VISA veri seti)\n",
      "==================================================\n",
      "VisA kategori dizini: C:\\Users\\Tansu\\OneDrive\\Masaüstü\\visa\\macaroni2\n",
      "VisA görüntü dizini: C:\\Users\\Tansu\\OneDrive\\Masaüstü\\visa\\macaroni2\\data\\images\n",
      "VisA normal görüntü dizini: C:\\Users\\Tansu\\OneDrive\\Masaüstü\\visa\\macaroni2\\data\\images\\normal\n",
      "VisA anomali görüntü dizini: C:\\Users\\Tansu\\OneDrive\\Masaüstü\\visa\\macaroni2\\data\\images\\anomaly\n"
     ]
    },
    {
     "name": "stderr",
     "output_type": "stream",
     "text": [
      "macaroni2 (VisA): Normal görüntüleri yükleme: 100%|██████████| 1000/1000 [00:21<00:00, 45.60it/s]\n",
      "macaroni2 (VisA): Anomali görüntüleri yükleme: 100%|██████████| 100/100 [00:02<00:00, 47.07it/s]"
     ]
    },
    {
     "name": "stdout",
     "output_type": "stream",
     "text": [
      "VisA Eğitim veriseti: (700, 128, 128) - Min: 9, Max: 239\n",
      "VisA Test veriseti: (400, 128, 128) - Min: 10, Max: 255\n",
      "VisA Test etiketleri: (400,)\n",
      "VisA Anomali sayısı: 100\n",
      "VisA Normal test örneği sayısı: 300\n",
      "\n",
      "macaroni2 (visa) için görselleştirmeler oluşturuluyor...\n",
      "UYARI: 'C:\\Users\\Tansu\\OneDrive\\Masaüstü\\visa\\macaroni2\\test\\good' dizini bulunamadı. Normal örnekler için test dizini kullanılıyor.\n",
      "UYARI: 'macaroni2' için kusur tipi bulunamadı.\n",
      "UYARI: 'C:\\Users\\Tansu\\OneDrive\\Masaüstü\\visa\\macaroni2\\test' dizini bulunamadı.\n"
     ]
    },
    {
     "name": "stderr",
     "output_type": "stream",
     "text": [
      "\n"
     ]
    },
    {
     "data": {
      "text/html": [
       "<pre style=\"white-space:pre;overflow-x:auto;line-height:normal;font-family:Menlo,'DejaVu Sans Mono',consolas,'Courier New',monospace\"><span style=\"font-weight: bold\">Model: \"functional_17\"</span>\n",
       "</pre>\n"
      ],
      "text/plain": [
       "\u001b[1mModel: \"functional_17\"\u001b[0m\n"
      ]
     },
     "metadata": {},
     "output_type": "display_data"
    },
    {
     "data": {
      "text/html": [
       "<pre style=\"white-space:pre;overflow-x:auto;line-height:normal;font-family:Menlo,'DejaVu Sans Mono',consolas,'Courier New',monospace\">┏━━━━━━━━━━━━━━━━━━━━━━━━━━━━━━━━━┳━━━━━━━━━━━━━━━━━━━━━━━━┳━━━━━━━━━━━━━━━┓\n",
       "┃<span style=\"font-weight: bold\"> Layer (type)                    </span>┃<span style=\"font-weight: bold\"> Output Shape           </span>┃<span style=\"font-weight: bold\">       Param # </span>┃\n",
       "┡━━━━━━━━━━━━━━━━━━━━━━━━━━━━━━━━━╇━━━━━━━━━━━━━━━━━━━━━━━━╇━━━━━━━━━━━━━━━┩\n",
       "│ input_layer (<span style=\"color: #0087ff; text-decoration-color: #0087ff\">InputLayer</span>)        │ (<span style=\"color: #00d7ff; text-decoration-color: #00d7ff\">None</span>, <span style=\"color: #00af00; text-decoration-color: #00af00\">128</span>, <span style=\"color: #00af00; text-decoration-color: #00af00\">128</span>, <span style=\"color: #00af00; text-decoration-color: #00af00\">1</span>)    │             <span style=\"color: #00af00; text-decoration-color: #00af00\">0</span> │\n",
       "├─────────────────────────────────┼────────────────────────┼───────────────┤\n",
       "│ conv2d_85 (<span style=\"color: #0087ff; text-decoration-color: #0087ff\">Conv2D</span>)              │ (<span style=\"color: #00d7ff; text-decoration-color: #00d7ff\">None</span>, <span style=\"color: #00af00; text-decoration-color: #00af00\">128</span>, <span style=\"color: #00af00; text-decoration-color: #00af00\">128</span>, <span style=\"color: #00af00; text-decoration-color: #00af00\">32</span>)   │           <span style=\"color: #00af00; text-decoration-color: #00af00\">320</span> │\n",
       "├─────────────────────────────────┼────────────────────────┼───────────────┤\n",
       "│ max_pooling2d_34 (<span style=\"color: #0087ff; text-decoration-color: #0087ff\">MaxPooling2D</span>) │ (<span style=\"color: #00d7ff; text-decoration-color: #00d7ff\">None</span>, <span style=\"color: #00af00; text-decoration-color: #00af00\">64</span>, <span style=\"color: #00af00; text-decoration-color: #00af00\">64</span>, <span style=\"color: #00af00; text-decoration-color: #00af00\">32</span>)     │             <span style=\"color: #00af00; text-decoration-color: #00af00\">0</span> │\n",
       "├─────────────────────────────────┼────────────────────────┼───────────────┤\n",
       "│ conv2d_86 (<span style=\"color: #0087ff; text-decoration-color: #0087ff\">Conv2D</span>)              │ (<span style=\"color: #00d7ff; text-decoration-color: #00d7ff\">None</span>, <span style=\"color: #00af00; text-decoration-color: #00af00\">64</span>, <span style=\"color: #00af00; text-decoration-color: #00af00\">64</span>, <span style=\"color: #00af00; text-decoration-color: #00af00\">16</span>)     │         <span style=\"color: #00af00; text-decoration-color: #00af00\">4,624</span> │\n",
       "├─────────────────────────────────┼────────────────────────┼───────────────┤\n",
       "│ max_pooling2d_35 (<span style=\"color: #0087ff; text-decoration-color: #0087ff\">MaxPooling2D</span>) │ (<span style=\"color: #00d7ff; text-decoration-color: #00d7ff\">None</span>, <span style=\"color: #00af00; text-decoration-color: #00af00\">32</span>, <span style=\"color: #00af00; text-decoration-color: #00af00\">32</span>, <span style=\"color: #00af00; text-decoration-color: #00af00\">16</span>)     │             <span style=\"color: #00af00; text-decoration-color: #00af00\">0</span> │\n",
       "├─────────────────────────────────┼────────────────────────┼───────────────┤\n",
       "│ conv2d_87 (<span style=\"color: #0087ff; text-decoration-color: #0087ff\">Conv2D</span>)              │ (<span style=\"color: #00d7ff; text-decoration-color: #00d7ff\">None</span>, <span style=\"color: #00af00; text-decoration-color: #00af00\">32</span>, <span style=\"color: #00af00; text-decoration-color: #00af00\">32</span>, <span style=\"color: #00af00; text-decoration-color: #00af00\">16</span>)     │         <span style=\"color: #00af00; text-decoration-color: #00af00\">2,320</span> │\n",
       "├─────────────────────────────────┼────────────────────────┼───────────────┤\n",
       "│ up_sampling2d_34 (<span style=\"color: #0087ff; text-decoration-color: #0087ff\">UpSampling2D</span>) │ (<span style=\"color: #00d7ff; text-decoration-color: #00d7ff\">None</span>, <span style=\"color: #00af00; text-decoration-color: #00af00\">64</span>, <span style=\"color: #00af00; text-decoration-color: #00af00\">64</span>, <span style=\"color: #00af00; text-decoration-color: #00af00\">16</span>)     │             <span style=\"color: #00af00; text-decoration-color: #00af00\">0</span> │\n",
       "├─────────────────────────────────┼────────────────────────┼───────────────┤\n",
       "│ conv2d_88 (<span style=\"color: #0087ff; text-decoration-color: #0087ff\">Conv2D</span>)              │ (<span style=\"color: #00d7ff; text-decoration-color: #00d7ff\">None</span>, <span style=\"color: #00af00; text-decoration-color: #00af00\">64</span>, <span style=\"color: #00af00; text-decoration-color: #00af00\">64</span>, <span style=\"color: #00af00; text-decoration-color: #00af00\">32</span>)     │         <span style=\"color: #00af00; text-decoration-color: #00af00\">4,640</span> │\n",
       "├─────────────────────────────────┼────────────────────────┼───────────────┤\n",
       "│ up_sampling2d_35 (<span style=\"color: #0087ff; text-decoration-color: #0087ff\">UpSampling2D</span>) │ (<span style=\"color: #00d7ff; text-decoration-color: #00d7ff\">None</span>, <span style=\"color: #00af00; text-decoration-color: #00af00\">128</span>, <span style=\"color: #00af00; text-decoration-color: #00af00\">128</span>, <span style=\"color: #00af00; text-decoration-color: #00af00\">32</span>)   │             <span style=\"color: #00af00; text-decoration-color: #00af00\">0</span> │\n",
       "├─────────────────────────────────┼────────────────────────┼───────────────┤\n",
       "│ conv2d_89 (<span style=\"color: #0087ff; text-decoration-color: #0087ff\">Conv2D</span>)              │ (<span style=\"color: #00d7ff; text-decoration-color: #00d7ff\">None</span>, <span style=\"color: #00af00; text-decoration-color: #00af00\">128</span>, <span style=\"color: #00af00; text-decoration-color: #00af00\">128</span>, <span style=\"color: #00af00; text-decoration-color: #00af00\">1</span>)    │           <span style=\"color: #00af00; text-decoration-color: #00af00\">289</span> │\n",
       "└─────────────────────────────────┴────────────────────────┴───────────────┘\n",
       "</pre>\n"
      ],
      "text/plain": [
       "┏━━━━━━━━━━━━━━━━━━━━━━━━━━━━━━━━━┳━━━━━━━━━━━━━━━━━━━━━━━━┳━━━━━━━━━━━━━━━┓\n",
       "┃\u001b[1m \u001b[0m\u001b[1mLayer (type)                   \u001b[0m\u001b[1m \u001b[0m┃\u001b[1m \u001b[0m\u001b[1mOutput Shape          \u001b[0m\u001b[1m \u001b[0m┃\u001b[1m \u001b[0m\u001b[1m      Param #\u001b[0m\u001b[1m \u001b[0m┃\n",
       "┡━━━━━━━━━━━━━━━━━━━━━━━━━━━━━━━━━╇━━━━━━━━━━━━━━━━━━━━━━━━╇━━━━━━━━━━━━━━━┩\n",
       "│ input_layer (\u001b[38;5;33mInputLayer\u001b[0m)        │ (\u001b[38;5;45mNone\u001b[0m, \u001b[38;5;34m128\u001b[0m, \u001b[38;5;34m128\u001b[0m, \u001b[38;5;34m1\u001b[0m)    │             \u001b[38;5;34m0\u001b[0m │\n",
       "├─────────────────────────────────┼────────────────────────┼───────────────┤\n",
       "│ conv2d_85 (\u001b[38;5;33mConv2D\u001b[0m)              │ (\u001b[38;5;45mNone\u001b[0m, \u001b[38;5;34m128\u001b[0m, \u001b[38;5;34m128\u001b[0m, \u001b[38;5;34m32\u001b[0m)   │           \u001b[38;5;34m320\u001b[0m │\n",
       "├─────────────────────────────────┼────────────────────────┼───────────────┤\n",
       "│ max_pooling2d_34 (\u001b[38;5;33mMaxPooling2D\u001b[0m) │ (\u001b[38;5;45mNone\u001b[0m, \u001b[38;5;34m64\u001b[0m, \u001b[38;5;34m64\u001b[0m, \u001b[38;5;34m32\u001b[0m)     │             \u001b[38;5;34m0\u001b[0m │\n",
       "├─────────────────────────────────┼────────────────────────┼───────────────┤\n",
       "│ conv2d_86 (\u001b[38;5;33mConv2D\u001b[0m)              │ (\u001b[38;5;45mNone\u001b[0m, \u001b[38;5;34m64\u001b[0m, \u001b[38;5;34m64\u001b[0m, \u001b[38;5;34m16\u001b[0m)     │         \u001b[38;5;34m4,624\u001b[0m │\n",
       "├─────────────────────────────────┼────────────────────────┼───────────────┤\n",
       "│ max_pooling2d_35 (\u001b[38;5;33mMaxPooling2D\u001b[0m) │ (\u001b[38;5;45mNone\u001b[0m, \u001b[38;5;34m32\u001b[0m, \u001b[38;5;34m32\u001b[0m, \u001b[38;5;34m16\u001b[0m)     │             \u001b[38;5;34m0\u001b[0m │\n",
       "├─────────────────────────────────┼────────────────────────┼───────────────┤\n",
       "│ conv2d_87 (\u001b[38;5;33mConv2D\u001b[0m)              │ (\u001b[38;5;45mNone\u001b[0m, \u001b[38;5;34m32\u001b[0m, \u001b[38;5;34m32\u001b[0m, \u001b[38;5;34m16\u001b[0m)     │         \u001b[38;5;34m2,320\u001b[0m │\n",
       "├─────────────────────────────────┼────────────────────────┼───────────────┤\n",
       "│ up_sampling2d_34 (\u001b[38;5;33mUpSampling2D\u001b[0m) │ (\u001b[38;5;45mNone\u001b[0m, \u001b[38;5;34m64\u001b[0m, \u001b[38;5;34m64\u001b[0m, \u001b[38;5;34m16\u001b[0m)     │             \u001b[38;5;34m0\u001b[0m │\n",
       "├─────────────────────────────────┼────────────────────────┼───────────────┤\n",
       "│ conv2d_88 (\u001b[38;5;33mConv2D\u001b[0m)              │ (\u001b[38;5;45mNone\u001b[0m, \u001b[38;5;34m64\u001b[0m, \u001b[38;5;34m64\u001b[0m, \u001b[38;5;34m32\u001b[0m)     │         \u001b[38;5;34m4,640\u001b[0m │\n",
       "├─────────────────────────────────┼────────────────────────┼───────────────┤\n",
       "│ up_sampling2d_35 (\u001b[38;5;33mUpSampling2D\u001b[0m) │ (\u001b[38;5;45mNone\u001b[0m, \u001b[38;5;34m128\u001b[0m, \u001b[38;5;34m128\u001b[0m, \u001b[38;5;34m32\u001b[0m)   │             \u001b[38;5;34m0\u001b[0m │\n",
       "├─────────────────────────────────┼────────────────────────┼───────────────┤\n",
       "│ conv2d_89 (\u001b[38;5;33mConv2D\u001b[0m)              │ (\u001b[38;5;45mNone\u001b[0m, \u001b[38;5;34m128\u001b[0m, \u001b[38;5;34m128\u001b[0m, \u001b[38;5;34m1\u001b[0m)    │           \u001b[38;5;34m289\u001b[0m │\n",
       "└─────────────────────────────────┴────────────────────────┴───────────────┘\n"
      ]
     },
     "metadata": {},
     "output_type": "display_data"
    },
    {
     "data": {
      "text/html": [
       "<pre style=\"white-space:pre;overflow-x:auto;line-height:normal;font-family:Menlo,'DejaVu Sans Mono',consolas,'Courier New',monospace\"><span style=\"font-weight: bold\"> Total params: </span><span style=\"color: #00af00; text-decoration-color: #00af00\">12,193</span> (47.63 KB)\n",
       "</pre>\n"
      ],
      "text/plain": [
       "\u001b[1m Total params: \u001b[0m\u001b[38;5;34m12,193\u001b[0m (47.63 KB)\n"
      ]
     },
     "metadata": {},
     "output_type": "display_data"
    },
    {
     "data": {
      "text/html": [
       "<pre style=\"white-space:pre;overflow-x:auto;line-height:normal;font-family:Menlo,'DejaVu Sans Mono',consolas,'Courier New',monospace\"><span style=\"font-weight: bold\"> Trainable params: </span><span style=\"color: #00af00; text-decoration-color: #00af00\">12,193</span> (47.63 KB)\n",
       "</pre>\n"
      ],
      "text/plain": [
       "\u001b[1m Trainable params: \u001b[0m\u001b[38;5;34m12,193\u001b[0m (47.63 KB)\n"
      ]
     },
     "metadata": {},
     "output_type": "display_data"
    },
    {
     "data": {
      "text/html": [
       "<pre style=\"white-space:pre;overflow-x:auto;line-height:normal;font-family:Menlo,'DejaVu Sans Mono',consolas,'Courier New',monospace\"><span style=\"font-weight: bold\"> Non-trainable params: </span><span style=\"color: #00af00; text-decoration-color: #00af00\">0</span> (0.00 B)\n",
       "</pre>\n"
      ],
      "text/plain": [
       "\u001b[1m Non-trainable params: \u001b[0m\u001b[38;5;34m0\u001b[0m (0.00 B)\n"
      ]
     },
     "metadata": {},
     "output_type": "display_data"
    },
    {
     "name": "stdout",
     "output_type": "stream",
     "text": [
      "Epoch 1/20\n",
      "\u001b[1m18/18\u001b[0m \u001b[32m━━━━━━━━━━━━━━━━━━━━\u001b[0m\u001b[37m\u001b[0m \u001b[1m0s\u001b[0m 121ms/step - loss: 0.0343\n",
      "Epoch 1: val_loss improved from inf to 0.02596, saving model to anomaly_detection_results\\visa\\macaroni2\\macaroni2_visa_best_model.keras\n",
      "\u001b[1m18/18\u001b[0m \u001b[32m━━━━━━━━━━━━━━━━━━━━\u001b[0m\u001b[37m\u001b[0m \u001b[1m4s\u001b[0m 153ms/step - loss: 0.0341 - val_loss: 0.0260\n",
      "Epoch 2/20\n",
      "\u001b[1m18/18\u001b[0m \u001b[32m━━━━━━━━━━━━━━━━━━━━\u001b[0m\u001b[37m\u001b[0m \u001b[1m0s\u001b[0m 126ms/step - loss: 0.0222\n",
      "Epoch 2: val_loss improved from 0.02596 to 0.00769, saving model to anomaly_detection_results\\visa\\macaroni2\\macaroni2_visa_best_model.keras\n",
      "\u001b[1m18/18\u001b[0m \u001b[32m━━━━━━━━━━━━━━━━━━━━\u001b[0m\u001b[37m\u001b[0m \u001b[1m3s\u001b[0m 147ms/step - loss: 0.0220 - val_loss: 0.0077\n",
      "Epoch 3/20\n",
      "\u001b[1m18/18\u001b[0m \u001b[32m━━━━━━━━━━━━━━━━━━━━\u001b[0m\u001b[37m\u001b[0m \u001b[1m0s\u001b[0m 133ms/step - loss: 0.0058\n",
      "Epoch 3: val_loss improved from 0.00769 to 0.00303, saving model to anomaly_detection_results\\visa\\macaroni2\\macaroni2_visa_best_model.keras\n",
      "\u001b[1m18/18\u001b[0m \u001b[32m━━━━━━━━━━━━━━━━━━━━\u001b[0m\u001b[37m\u001b[0m \u001b[1m3s\u001b[0m 153ms/step - loss: 0.0057 - val_loss: 0.0030\n",
      "Epoch 4/20\n",
      "\u001b[1m18/18\u001b[0m \u001b[32m━━━━━━━━━━━━━━━━━━━━\u001b[0m\u001b[37m\u001b[0m \u001b[1m0s\u001b[0m 129ms/step - loss: 0.0029\n",
      "Epoch 4: val_loss improved from 0.00303 to 0.00231, saving model to anomaly_detection_results\\visa\\macaroni2\\macaroni2_visa_best_model.keras\n",
      "\u001b[1m18/18\u001b[0m \u001b[32m━━━━━━━━━━━━━━━━━━━━\u001b[0m\u001b[37m\u001b[0m \u001b[1m3s\u001b[0m 149ms/step - loss: 0.0029 - val_loss: 0.0023\n",
      "Epoch 5/20\n",
      "\u001b[1m18/18\u001b[0m \u001b[32m━━━━━━━━━━━━━━━━━━━━\u001b[0m\u001b[37m\u001b[0m \u001b[1m0s\u001b[0m 129ms/step - loss: 0.0022\n",
      "Epoch 5: val_loss improved from 0.00231 to 0.00199, saving model to anomaly_detection_results\\visa\\macaroni2\\macaroni2_visa_best_model.keras\n",
      "\u001b[1m18/18\u001b[0m \u001b[32m━━━━━━━━━━━━━━━━━━━━\u001b[0m\u001b[37m\u001b[0m \u001b[1m3s\u001b[0m 148ms/step - loss: 0.0022 - val_loss: 0.0020\n",
      "Epoch 6/20\n",
      "\u001b[1m18/18\u001b[0m \u001b[32m━━━━━━━━━━━━━━━━━━━━\u001b[0m\u001b[37m\u001b[0m \u001b[1m0s\u001b[0m 127ms/step - loss: 0.0019\n",
      "Epoch 6: val_loss improved from 0.00199 to 0.00182, saving model to anomaly_detection_results\\visa\\macaroni2\\macaroni2_visa_best_model.keras\n",
      "\u001b[1m18/18\u001b[0m \u001b[32m━━━━━━━━━━━━━━━━━━━━\u001b[0m\u001b[37m\u001b[0m \u001b[1m3s\u001b[0m 146ms/step - loss: 0.0019 - val_loss: 0.0018\n",
      "Epoch 7/20\n",
      "\u001b[1m18/18\u001b[0m \u001b[32m━━━━━━━━━━━━━━━━━━━━\u001b[0m\u001b[37m\u001b[0m \u001b[1m0s\u001b[0m 127ms/step - loss: 0.0018\n",
      "Epoch 7: val_loss improved from 0.00182 to 0.00164, saving model to anomaly_detection_results\\visa\\macaroni2\\macaroni2_visa_best_model.keras\n",
      "\u001b[1m18/18\u001b[0m \u001b[32m━━━━━━━━━━━━━━━━━━━━\u001b[0m\u001b[37m\u001b[0m \u001b[1m3s\u001b[0m 145ms/step - loss: 0.0018 - val_loss: 0.0016\n",
      "Epoch 8/20\n",
      "\u001b[1m18/18\u001b[0m \u001b[32m━━━━━━━━━━━━━━━━━━━━\u001b[0m\u001b[37m\u001b[0m \u001b[1m0s\u001b[0m 124ms/step - loss: 0.0016\n",
      "Epoch 8: val_loss improved from 0.00164 to 0.00151, saving model to anomaly_detection_results\\visa\\macaroni2\\macaroni2_visa_best_model.keras\n",
      "\u001b[1m18/18\u001b[0m \u001b[32m━━━━━━━━━━━━━━━━━━━━\u001b[0m\u001b[37m\u001b[0m \u001b[1m3s\u001b[0m 143ms/step - loss: 0.0016 - val_loss: 0.0015\n",
      "Epoch 9/20\n",
      "\u001b[1m18/18\u001b[0m \u001b[32m━━━━━━━━━━━━━━━━━━━━\u001b[0m\u001b[37m\u001b[0m \u001b[1m0s\u001b[0m 127ms/step - loss: 0.0015\n",
      "Epoch 9: val_loss improved from 0.00151 to 0.00137, saving model to anomaly_detection_results\\visa\\macaroni2\\macaroni2_visa_best_model.keras\n",
      "\u001b[1m18/18\u001b[0m \u001b[32m━━━━━━━━━━━━━━━━━━━━\u001b[0m\u001b[37m\u001b[0m \u001b[1m3s\u001b[0m 148ms/step - loss: 0.0015 - val_loss: 0.0014\n",
      "Epoch 10/20\n",
      "\u001b[1m18/18\u001b[0m \u001b[32m━━━━━━━━━━━━━━━━━━━━\u001b[0m\u001b[37m\u001b[0m \u001b[1m0s\u001b[0m 132ms/step - loss: 0.0014\n",
      "Epoch 10: val_loss improved from 0.00137 to 0.00131, saving model to anomaly_detection_results\\visa\\macaroni2\\macaroni2_visa_best_model.keras\n",
      "\u001b[1m18/18\u001b[0m \u001b[32m━━━━━━━━━━━━━━━━━━━━\u001b[0m\u001b[37m\u001b[0m \u001b[1m3s\u001b[0m 152ms/step - loss: 0.0014 - val_loss: 0.0013\n",
      "Epoch 11/20\n",
      "\u001b[1m18/18\u001b[0m \u001b[32m━━━━━━━━━━━━━━━━━━━━\u001b[0m\u001b[37m\u001b[0m \u001b[1m0s\u001b[0m 134ms/step - loss: 0.0013\n",
      "Epoch 11: val_loss improved from 0.00131 to 0.00123, saving model to anomaly_detection_results\\visa\\macaroni2\\macaroni2_visa_best_model.keras\n",
      "\u001b[1m18/18\u001b[0m \u001b[32m━━━━━━━━━━━━━━━━━━━━\u001b[0m\u001b[37m\u001b[0m \u001b[1m3s\u001b[0m 152ms/step - loss: 0.0013 - val_loss: 0.0012\n",
      "Epoch 12/20\n",
      "\u001b[1m18/18\u001b[0m \u001b[32m━━━━━━━━━━━━━━━━━━━━\u001b[0m\u001b[37m\u001b[0m \u001b[1m0s\u001b[0m 124ms/step - loss: 0.0012\n",
      "Epoch 12: val_loss improved from 0.00123 to 0.00116, saving model to anomaly_detection_results\\visa\\macaroni2\\macaroni2_visa_best_model.keras\n",
      "\u001b[1m18/18\u001b[0m \u001b[32m━━━━━━━━━━━━━━━━━━━━\u001b[0m\u001b[37m\u001b[0m \u001b[1m3s\u001b[0m 142ms/step - loss: 0.0012 - val_loss: 0.0012\n",
      "Epoch 13/20\n",
      "\u001b[1m18/18\u001b[0m \u001b[32m━━━━━━━━━━━━━━━━━━━━\u001b[0m\u001b[37m\u001b[0m \u001b[1m0s\u001b[0m 124ms/step - loss: 0.0012\n",
      "Epoch 13: val_loss improved from 0.00116 to 0.00114, saving model to anomaly_detection_results\\visa\\macaroni2\\macaroni2_visa_best_model.keras\n",
      "\u001b[1m18/18\u001b[0m \u001b[32m━━━━━━━━━━━━━━━━━━━━\u001b[0m\u001b[37m\u001b[0m \u001b[1m3s\u001b[0m 143ms/step - loss: 0.0012 - val_loss: 0.0011\n",
      "Epoch 14/20\n",
      "\u001b[1m18/18\u001b[0m \u001b[32m━━━━━━━━━━━━━━━━━━━━\u001b[0m\u001b[37m\u001b[0m \u001b[1m0s\u001b[0m 125ms/step - loss: 0.0011\n",
      "Epoch 14: val_loss improved from 0.00114 to 0.00109, saving model to anomaly_detection_results\\visa\\macaroni2\\macaroni2_visa_best_model.keras\n",
      "\u001b[1m18/18\u001b[0m \u001b[32m━━━━━━━━━━━━━━━━━━━━\u001b[0m\u001b[37m\u001b[0m \u001b[1m3s\u001b[0m 147ms/step - loss: 0.0011 - val_loss: 0.0011\n",
      "Epoch 15/20\n",
      "\u001b[1m18/18\u001b[0m \u001b[32m━━━━━━━━━━━━━━━━━━━━\u001b[0m\u001b[37m\u001b[0m \u001b[1m0s\u001b[0m 129ms/step - loss: 0.0011\n",
      "Epoch 15: val_loss improved from 0.00109 to 0.00105, saving model to anomaly_detection_results\\visa\\macaroni2\\macaroni2_visa_best_model.keras\n",
      "\u001b[1m18/18\u001b[0m \u001b[32m━━━━━━━━━━━━━━━━━━━━\u001b[0m\u001b[37m\u001b[0m \u001b[1m3s\u001b[0m 149ms/step - loss: 0.0011 - val_loss: 0.0011\n",
      "Epoch 16/20\n",
      "\u001b[1m18/18\u001b[0m \u001b[32m━━━━━━━━━━━━━━━━━━━━\u001b[0m\u001b[37m\u001b[0m \u001b[1m0s\u001b[0m 129ms/step - loss: 0.0010\n",
      "Epoch 16: val_loss improved from 0.00105 to 0.00100, saving model to anomaly_detection_results\\visa\\macaroni2\\macaroni2_visa_best_model.keras\n",
      "\u001b[1m18/18\u001b[0m \u001b[32m━━━━━━━━━━━━━━━━━━━━\u001b[0m\u001b[37m\u001b[0m \u001b[1m3s\u001b[0m 149ms/step - loss: 0.0010 - val_loss: 9.9523e-04\n",
      "Epoch 17/20\n",
      "\u001b[1m18/18\u001b[0m \u001b[32m━━━━━━━━━━━━━━━━━━━━\u001b[0m\u001b[37m\u001b[0m \u001b[1m0s\u001b[0m 135ms/step - loss: 9.9457e-04\n",
      "Epoch 17: val_loss did not improve from 0.00100\n",
      "\u001b[1m18/18\u001b[0m \u001b[32m━━━━━━━━━━━━━━━━━━━━\u001b[0m\u001b[37m\u001b[0m \u001b[1m3s\u001b[0m 151ms/step - loss: 9.9420e-04 - val_loss: 0.0010\n",
      "Epoch 18/20\n",
      "\u001b[1m18/18\u001b[0m \u001b[32m━━━━━━━━━━━━━━━━━━━━\u001b[0m\u001b[37m\u001b[0m \u001b[1m0s\u001b[0m 139ms/step - loss: 0.0010\n",
      "Epoch 18: val_loss improved from 0.00100 to 0.00096, saving model to anomaly_detection_results\\visa\\macaroni2\\macaroni2_visa_best_model.keras\n",
      "\u001b[1m18/18\u001b[0m \u001b[32m━━━━━━━━━━━━━━━━━━━━\u001b[0m\u001b[37m\u001b[0m \u001b[1m3s\u001b[0m 157ms/step - loss: 0.0010 - val_loss: 9.6429e-04\n",
      "Epoch 19/20\n",
      "\u001b[1m18/18\u001b[0m \u001b[32m━━━━━━━━━━━━━━━━━━━━\u001b[0m\u001b[37m\u001b[0m \u001b[1m0s\u001b[0m 131ms/step - loss: 9.5909e-04\n",
      "Epoch 19: val_loss improved from 0.00096 to 0.00093, saving model to anomaly_detection_results\\visa\\macaroni2\\macaroni2_visa_best_model.keras\n",
      "\u001b[1m18/18\u001b[0m \u001b[32m━━━━━━━━━━━━━━━━━━━━\u001b[0m\u001b[37m\u001b[0m \u001b[1m3s\u001b[0m 164ms/step - loss: 9.5849e-04 - val_loss: 9.2929e-04\n",
      "Epoch 20/20\n",
      "\u001b[1m18/18\u001b[0m \u001b[32m━━━━━━━━━━━━━━━━━━━━\u001b[0m\u001b[37m\u001b[0m \u001b[1m0s\u001b[0m 148ms/step - loss: 9.2740e-04\n",
      "Epoch 20: val_loss improved from 0.00093 to 0.00091, saving model to anomaly_detection_results\\visa\\macaroni2\\macaroni2_visa_best_model.keras\n",
      "\u001b[1m18/18\u001b[0m \u001b[32m━━━━━━━━━━━━━━━━━━━━\u001b[0m\u001b[37m\u001b[0m \u001b[1m3s\u001b[0m 178ms/step - loss: 9.2715e-04 - val_loss: 9.1470e-04\n",
      "Eğitim tamamlandı. Süre: 55.49 saniye\n",
      "En iyi model yüklendi: anomaly_detection_results\\visa\\macaroni2\\macaroni2_visa_best_model.keras\n",
      "Eğitim geçmişi grafiği kaydedildi: anomaly_detection_results\\visa\\macaroni2\\macaroni2_visa_training_history.png\n",
      "Rekonstrüksiyon başlatılıyor...\n",
      "\u001b[1m13/13\u001b[0m \u001b[32m━━━━━━━━━━━━━━━━━━━━\u001b[0m\u001b[37m\u001b[0m \u001b[1m1s\u001b[0m 77ms/step\n",
      "Anomali eşik değeri (95. yüzdelik): 0.000997\n",
      "Doğruluk (Accuracy): 0.7100\n",
      "Hassasiyet (Precision): 0.1000\n",
      "Duyarlılık (Recall): 0.0200\n",
      "F1 Skoru: 0.0333\n",
      "ROC AUC: 0.4863\n",
      "\n",
      "macaroni2 (visa) için analiz sonuçları görselleştiriliyor...\n",
      "Rekonstrüksiyon sonuçları kaydedildi: anomaly_detection_results\\visa\\macaroni2\\macaroni2_visa_reconstruction_results.png\n",
      "Normal örnekler MSE - Min: 0.000783, Max: 0.001081, Ortalama: 0.000911\n",
      "Anomali örnekler MSE - Min: 0.000812, Max: 0.001005, Ortalama: 0.000906\n",
      "MSE karşılaştırma histogramı kaydedildi: anomaly_detection_results\\visa\\macaroni2\\macaroni2_visa_mse_comparison_histogram.png\n",
      "ROC eğrisi kaydedildi: anomaly_detection_results\\visa\\macaroni2\\macaroni2_visa_roc_curve.png\n",
      "Karışıklık matrisi kaydedildi: anomaly_detection_results\\visa\\macaroni2\\macaroni2_visa_confusion_matrix.png\n",
      "anomaly kusur tipi detaylı analizi kaydedildi: anomaly_detection_results\\visa\\macaroni2\\macaroni2_visa_anomaly_detailed_analysis.png\n",
      "Kusur tipi metrikleri kaydedildi: anomaly_detection_results\\visa\\macaroni2\\macaroni2_visa_defect_type_metrics.png\n",
      "Kusur tipine göre MSE dağılımı kaydedildi: anomaly_detection_results\\visa\\macaroni2\\macaroni2_visa_defect_type_mse_distribution.png\n",
      "Sonuçlar başarıyla kaydedildi: anomaly_detection_results\\visa\\macaroni2\n",
      "VisA: macaroni2 kategorisi başarıyla işlendi.\n",
      "\n",
      "==================================================\n",
      "İşleniyor: pcb1 (VISA veri seti)\n",
      "==================================================\n",
      "VisA kategori dizini: C:\\Users\\Tansu\\OneDrive\\Masaüstü\\visa\\pcb1\n",
      "VisA görüntü dizini: C:\\Users\\Tansu\\OneDrive\\Masaüstü\\visa\\pcb1\\data\\images\n",
      "VisA normal görüntü dizini: C:\\Users\\Tansu\\OneDrive\\Masaüstü\\visa\\pcb1\\data\\images\\normal\n",
      "VisA anomali görüntü dizini: C:\\Users\\Tansu\\OneDrive\\Masaüstü\\visa\\pcb1\\data\\images\\anomaly\n"
     ]
    },
    {
     "name": "stderr",
     "output_type": "stream",
     "text": [
      "pcb1 (VisA): Normal görüntüleri yükleme: 100%|██████████| 1004/1004 [00:32<00:00, 30.56it/s]\n",
      "pcb1 (VisA): Anomali görüntüleri yükleme: 100%|██████████| 100/100 [00:02<00:00, 38.62it/s]"
     ]
    },
    {
     "name": "stdout",
     "output_type": "stream",
     "text": [
      "VisA Eğitim veriseti: (703, 128, 128) - Min: 21, Max: 255\n",
      "VisA Test veriseti: (401, 128, 128) - Min: 17, Max: 255\n",
      "VisA Test etiketleri: (401,)\n",
      "VisA Anomali sayısı: 100\n",
      "VisA Normal test örneği sayısı: 301\n",
      "\n",
      "pcb1 (visa) için görselleştirmeler oluşturuluyor...\n",
      "UYARI: 'C:\\Users\\Tansu\\OneDrive\\Masaüstü\\visa\\pcb1\\test\\good' dizini bulunamadı. Normal örnekler için test dizini kullanılıyor.\n",
      "UYARI: 'pcb1' için kusur tipi bulunamadı.\n",
      "UYARI: 'C:\\Users\\Tansu\\OneDrive\\Masaüstü\\visa\\pcb1\\test' dizini bulunamadı.\n"
     ]
    },
    {
     "name": "stderr",
     "output_type": "stream",
     "text": [
      "\n"
     ]
    },
    {
     "data": {
      "text/html": [
       "<pre style=\"white-space:pre;overflow-x:auto;line-height:normal;font-family:Menlo,'DejaVu Sans Mono',consolas,'Courier New',monospace\"><span style=\"font-weight: bold\">Model: \"functional_18\"</span>\n",
       "</pre>\n"
      ],
      "text/plain": [
       "\u001b[1mModel: \"functional_18\"\u001b[0m\n"
      ]
     },
     "metadata": {},
     "output_type": "display_data"
    },
    {
     "data": {
      "text/html": [
       "<pre style=\"white-space:pre;overflow-x:auto;line-height:normal;font-family:Menlo,'DejaVu Sans Mono',consolas,'Courier New',monospace\">┏━━━━━━━━━━━━━━━━━━━━━━━━━━━━━━━━━┳━━━━━━━━━━━━━━━━━━━━━━━━┳━━━━━━━━━━━━━━━┓\n",
       "┃<span style=\"font-weight: bold\"> Layer (type)                    </span>┃<span style=\"font-weight: bold\"> Output Shape           </span>┃<span style=\"font-weight: bold\">       Param # </span>┃\n",
       "┡━━━━━━━━━━━━━━━━━━━━━━━━━━━━━━━━━╇━━━━━━━━━━━━━━━━━━━━━━━━╇━━━━━━━━━━━━━━━┩\n",
       "│ input_layer (<span style=\"color: #0087ff; text-decoration-color: #0087ff\">InputLayer</span>)        │ (<span style=\"color: #00d7ff; text-decoration-color: #00d7ff\">None</span>, <span style=\"color: #00af00; text-decoration-color: #00af00\">128</span>, <span style=\"color: #00af00; text-decoration-color: #00af00\">128</span>, <span style=\"color: #00af00; text-decoration-color: #00af00\">1</span>)    │             <span style=\"color: #00af00; text-decoration-color: #00af00\">0</span> │\n",
       "├─────────────────────────────────┼────────────────────────┼───────────────┤\n",
       "│ conv2d_90 (<span style=\"color: #0087ff; text-decoration-color: #0087ff\">Conv2D</span>)              │ (<span style=\"color: #00d7ff; text-decoration-color: #00d7ff\">None</span>, <span style=\"color: #00af00; text-decoration-color: #00af00\">128</span>, <span style=\"color: #00af00; text-decoration-color: #00af00\">128</span>, <span style=\"color: #00af00; text-decoration-color: #00af00\">32</span>)   │           <span style=\"color: #00af00; text-decoration-color: #00af00\">320</span> │\n",
       "├─────────────────────────────────┼────────────────────────┼───────────────┤\n",
       "│ max_pooling2d_36 (<span style=\"color: #0087ff; text-decoration-color: #0087ff\">MaxPooling2D</span>) │ (<span style=\"color: #00d7ff; text-decoration-color: #00d7ff\">None</span>, <span style=\"color: #00af00; text-decoration-color: #00af00\">64</span>, <span style=\"color: #00af00; text-decoration-color: #00af00\">64</span>, <span style=\"color: #00af00; text-decoration-color: #00af00\">32</span>)     │             <span style=\"color: #00af00; text-decoration-color: #00af00\">0</span> │\n",
       "├─────────────────────────────────┼────────────────────────┼───────────────┤\n",
       "│ conv2d_91 (<span style=\"color: #0087ff; text-decoration-color: #0087ff\">Conv2D</span>)              │ (<span style=\"color: #00d7ff; text-decoration-color: #00d7ff\">None</span>, <span style=\"color: #00af00; text-decoration-color: #00af00\">64</span>, <span style=\"color: #00af00; text-decoration-color: #00af00\">64</span>, <span style=\"color: #00af00; text-decoration-color: #00af00\">16</span>)     │         <span style=\"color: #00af00; text-decoration-color: #00af00\">4,624</span> │\n",
       "├─────────────────────────────────┼────────────────────────┼───────────────┤\n",
       "│ max_pooling2d_37 (<span style=\"color: #0087ff; text-decoration-color: #0087ff\">MaxPooling2D</span>) │ (<span style=\"color: #00d7ff; text-decoration-color: #00d7ff\">None</span>, <span style=\"color: #00af00; text-decoration-color: #00af00\">32</span>, <span style=\"color: #00af00; text-decoration-color: #00af00\">32</span>, <span style=\"color: #00af00; text-decoration-color: #00af00\">16</span>)     │             <span style=\"color: #00af00; text-decoration-color: #00af00\">0</span> │\n",
       "├─────────────────────────────────┼────────────────────────┼───────────────┤\n",
       "│ conv2d_92 (<span style=\"color: #0087ff; text-decoration-color: #0087ff\">Conv2D</span>)              │ (<span style=\"color: #00d7ff; text-decoration-color: #00d7ff\">None</span>, <span style=\"color: #00af00; text-decoration-color: #00af00\">32</span>, <span style=\"color: #00af00; text-decoration-color: #00af00\">32</span>, <span style=\"color: #00af00; text-decoration-color: #00af00\">16</span>)     │         <span style=\"color: #00af00; text-decoration-color: #00af00\">2,320</span> │\n",
       "├─────────────────────────────────┼────────────────────────┼───────────────┤\n",
       "│ up_sampling2d_36 (<span style=\"color: #0087ff; text-decoration-color: #0087ff\">UpSampling2D</span>) │ (<span style=\"color: #00d7ff; text-decoration-color: #00d7ff\">None</span>, <span style=\"color: #00af00; text-decoration-color: #00af00\">64</span>, <span style=\"color: #00af00; text-decoration-color: #00af00\">64</span>, <span style=\"color: #00af00; text-decoration-color: #00af00\">16</span>)     │             <span style=\"color: #00af00; text-decoration-color: #00af00\">0</span> │\n",
       "├─────────────────────────────────┼────────────────────────┼───────────────┤\n",
       "│ conv2d_93 (<span style=\"color: #0087ff; text-decoration-color: #0087ff\">Conv2D</span>)              │ (<span style=\"color: #00d7ff; text-decoration-color: #00d7ff\">None</span>, <span style=\"color: #00af00; text-decoration-color: #00af00\">64</span>, <span style=\"color: #00af00; text-decoration-color: #00af00\">64</span>, <span style=\"color: #00af00; text-decoration-color: #00af00\">32</span>)     │         <span style=\"color: #00af00; text-decoration-color: #00af00\">4,640</span> │\n",
       "├─────────────────────────────────┼────────────────────────┼───────────────┤\n",
       "│ up_sampling2d_37 (<span style=\"color: #0087ff; text-decoration-color: #0087ff\">UpSampling2D</span>) │ (<span style=\"color: #00d7ff; text-decoration-color: #00d7ff\">None</span>, <span style=\"color: #00af00; text-decoration-color: #00af00\">128</span>, <span style=\"color: #00af00; text-decoration-color: #00af00\">128</span>, <span style=\"color: #00af00; text-decoration-color: #00af00\">32</span>)   │             <span style=\"color: #00af00; text-decoration-color: #00af00\">0</span> │\n",
       "├─────────────────────────────────┼────────────────────────┼───────────────┤\n",
       "│ conv2d_94 (<span style=\"color: #0087ff; text-decoration-color: #0087ff\">Conv2D</span>)              │ (<span style=\"color: #00d7ff; text-decoration-color: #00d7ff\">None</span>, <span style=\"color: #00af00; text-decoration-color: #00af00\">128</span>, <span style=\"color: #00af00; text-decoration-color: #00af00\">128</span>, <span style=\"color: #00af00; text-decoration-color: #00af00\">1</span>)    │           <span style=\"color: #00af00; text-decoration-color: #00af00\">289</span> │\n",
       "└─────────────────────────────────┴────────────────────────┴───────────────┘\n",
       "</pre>\n"
      ],
      "text/plain": [
       "┏━━━━━━━━━━━━━━━━━━━━━━━━━━━━━━━━━┳━━━━━━━━━━━━━━━━━━━━━━━━┳━━━━━━━━━━━━━━━┓\n",
       "┃\u001b[1m \u001b[0m\u001b[1mLayer (type)                   \u001b[0m\u001b[1m \u001b[0m┃\u001b[1m \u001b[0m\u001b[1mOutput Shape          \u001b[0m\u001b[1m \u001b[0m┃\u001b[1m \u001b[0m\u001b[1m      Param #\u001b[0m\u001b[1m \u001b[0m┃\n",
       "┡━━━━━━━━━━━━━━━━━━━━━━━━━━━━━━━━━╇━━━━━━━━━━━━━━━━━━━━━━━━╇━━━━━━━━━━━━━━━┩\n",
       "│ input_layer (\u001b[38;5;33mInputLayer\u001b[0m)        │ (\u001b[38;5;45mNone\u001b[0m, \u001b[38;5;34m128\u001b[0m, \u001b[38;5;34m128\u001b[0m, \u001b[38;5;34m1\u001b[0m)    │             \u001b[38;5;34m0\u001b[0m │\n",
       "├─────────────────────────────────┼────────────────────────┼───────────────┤\n",
       "│ conv2d_90 (\u001b[38;5;33mConv2D\u001b[0m)              │ (\u001b[38;5;45mNone\u001b[0m, \u001b[38;5;34m128\u001b[0m, \u001b[38;5;34m128\u001b[0m, \u001b[38;5;34m32\u001b[0m)   │           \u001b[38;5;34m320\u001b[0m │\n",
       "├─────────────────────────────────┼────────────────────────┼───────────────┤\n",
       "│ max_pooling2d_36 (\u001b[38;5;33mMaxPooling2D\u001b[0m) │ (\u001b[38;5;45mNone\u001b[0m, \u001b[38;5;34m64\u001b[0m, \u001b[38;5;34m64\u001b[0m, \u001b[38;5;34m32\u001b[0m)     │             \u001b[38;5;34m0\u001b[0m │\n",
       "├─────────────────────────────────┼────────────────────────┼───────────────┤\n",
       "│ conv2d_91 (\u001b[38;5;33mConv2D\u001b[0m)              │ (\u001b[38;5;45mNone\u001b[0m, \u001b[38;5;34m64\u001b[0m, \u001b[38;5;34m64\u001b[0m, \u001b[38;5;34m16\u001b[0m)     │         \u001b[38;5;34m4,624\u001b[0m │\n",
       "├─────────────────────────────────┼────────────────────────┼───────────────┤\n",
       "│ max_pooling2d_37 (\u001b[38;5;33mMaxPooling2D\u001b[0m) │ (\u001b[38;5;45mNone\u001b[0m, \u001b[38;5;34m32\u001b[0m, \u001b[38;5;34m32\u001b[0m, \u001b[38;5;34m16\u001b[0m)     │             \u001b[38;5;34m0\u001b[0m │\n",
       "├─────────────────────────────────┼────────────────────────┼───────────────┤\n",
       "│ conv2d_92 (\u001b[38;5;33mConv2D\u001b[0m)              │ (\u001b[38;5;45mNone\u001b[0m, \u001b[38;5;34m32\u001b[0m, \u001b[38;5;34m32\u001b[0m, \u001b[38;5;34m16\u001b[0m)     │         \u001b[38;5;34m2,320\u001b[0m │\n",
       "├─────────────────────────────────┼────────────────────────┼───────────────┤\n",
       "│ up_sampling2d_36 (\u001b[38;5;33mUpSampling2D\u001b[0m) │ (\u001b[38;5;45mNone\u001b[0m, \u001b[38;5;34m64\u001b[0m, \u001b[38;5;34m64\u001b[0m, \u001b[38;5;34m16\u001b[0m)     │             \u001b[38;5;34m0\u001b[0m │\n",
       "├─────────────────────────────────┼────────────────────────┼───────────────┤\n",
       "│ conv2d_93 (\u001b[38;5;33mConv2D\u001b[0m)              │ (\u001b[38;5;45mNone\u001b[0m, \u001b[38;5;34m64\u001b[0m, \u001b[38;5;34m64\u001b[0m, \u001b[38;5;34m32\u001b[0m)     │         \u001b[38;5;34m4,640\u001b[0m │\n",
       "├─────────────────────────────────┼────────────────────────┼───────────────┤\n",
       "│ up_sampling2d_37 (\u001b[38;5;33mUpSampling2D\u001b[0m) │ (\u001b[38;5;45mNone\u001b[0m, \u001b[38;5;34m128\u001b[0m, \u001b[38;5;34m128\u001b[0m, \u001b[38;5;34m32\u001b[0m)   │             \u001b[38;5;34m0\u001b[0m │\n",
       "├─────────────────────────────────┼────────────────────────┼───────────────┤\n",
       "│ conv2d_94 (\u001b[38;5;33mConv2D\u001b[0m)              │ (\u001b[38;5;45mNone\u001b[0m, \u001b[38;5;34m128\u001b[0m, \u001b[38;5;34m128\u001b[0m, \u001b[38;5;34m1\u001b[0m)    │           \u001b[38;5;34m289\u001b[0m │\n",
       "└─────────────────────────────────┴────────────────────────┴───────────────┘\n"
      ]
     },
     "metadata": {},
     "output_type": "display_data"
    },
    {
     "data": {
      "text/html": [
       "<pre style=\"white-space:pre;overflow-x:auto;line-height:normal;font-family:Menlo,'DejaVu Sans Mono',consolas,'Courier New',monospace\"><span style=\"font-weight: bold\"> Total params: </span><span style=\"color: #00af00; text-decoration-color: #00af00\">12,193</span> (47.63 KB)\n",
       "</pre>\n"
      ],
      "text/plain": [
       "\u001b[1m Total params: \u001b[0m\u001b[38;5;34m12,193\u001b[0m (47.63 KB)\n"
      ]
     },
     "metadata": {},
     "output_type": "display_data"
    },
    {
     "data": {
      "text/html": [
       "<pre style=\"white-space:pre;overflow-x:auto;line-height:normal;font-family:Menlo,'DejaVu Sans Mono',consolas,'Courier New',monospace\"><span style=\"font-weight: bold\"> Trainable params: </span><span style=\"color: #00af00; text-decoration-color: #00af00\">12,193</span> (47.63 KB)\n",
       "</pre>\n"
      ],
      "text/plain": [
       "\u001b[1m Trainable params: \u001b[0m\u001b[38;5;34m12,193\u001b[0m (47.63 KB)\n"
      ]
     },
     "metadata": {},
     "output_type": "display_data"
    },
    {
     "data": {
      "text/html": [
       "<pre style=\"white-space:pre;overflow-x:auto;line-height:normal;font-family:Menlo,'DejaVu Sans Mono',consolas,'Courier New',monospace\"><span style=\"font-weight: bold\"> Non-trainable params: </span><span style=\"color: #00af00; text-decoration-color: #00af00\">0</span> (0.00 B)\n",
       "</pre>\n"
      ],
      "text/plain": [
       "\u001b[1m Non-trainable params: \u001b[0m\u001b[38;5;34m0\u001b[0m (0.00 B)\n"
      ]
     },
     "metadata": {},
     "output_type": "display_data"
    },
    {
     "name": "stdout",
     "output_type": "stream",
     "text": [
      "Epoch 1/20\n",
      "\u001b[1m18/18\u001b[0m \u001b[32m━━━━━━━━━━━━━━━━━━━━\u001b[0m\u001b[37m\u001b[0m \u001b[1m0s\u001b[0m 124ms/step - loss: 0.0235\n",
      "Epoch 1: val_loss improved from inf to 0.01982, saving model to anomaly_detection_results\\visa\\pcb1\\pcb1_visa_best_model.keras\n",
      "\u001b[1m18/18\u001b[0m \u001b[32m━━━━━━━━━━━━━━━━━━━━\u001b[0m\u001b[37m\u001b[0m \u001b[1m4s\u001b[0m 159ms/step - loss: 0.0234 - val_loss: 0.0198\n",
      "Epoch 2/20\n",
      "\u001b[1m18/18\u001b[0m \u001b[32m━━━━━━━━━━━━━━━━━━━━\u001b[0m\u001b[37m\u001b[0m \u001b[1m0s\u001b[0m 129ms/step - loss: 0.0170\n",
      "Epoch 2: val_loss improved from 0.01982 to 0.00983, saving model to anomaly_detection_results\\visa\\pcb1\\pcb1_visa_best_model.keras\n",
      "\u001b[1m18/18\u001b[0m \u001b[32m━━━━━━━━━━━━━━━━━━━━\u001b[0m\u001b[37m\u001b[0m \u001b[1m3s\u001b[0m 149ms/step - loss: 0.0168 - val_loss: 0.0098\n",
      "Epoch 3/20\n",
      "\u001b[1m18/18\u001b[0m \u001b[32m━━━━━━━━━━━━━━━━━━━━\u001b[0m\u001b[37m\u001b[0m \u001b[1m0s\u001b[0m 134ms/step - loss: 0.0091\n",
      "Epoch 3: val_loss improved from 0.00983 to 0.00785, saving model to anomaly_detection_results\\visa\\pcb1\\pcb1_visa_best_model.keras\n",
      "\u001b[1m18/18\u001b[0m \u001b[32m━━━━━━━━━━━━━━━━━━━━\u001b[0m\u001b[37m\u001b[0m \u001b[1m3s\u001b[0m 154ms/step - loss: 0.0090 - val_loss: 0.0078\n",
      "Epoch 4/20\n",
      "\u001b[1m18/18\u001b[0m \u001b[32m━━━━━━━━━━━━━━━━━━━━\u001b[0m\u001b[37m\u001b[0m \u001b[1m0s\u001b[0m 126ms/step - loss: 0.0077\n",
      "Epoch 4: val_loss improved from 0.00785 to 0.00711, saving model to anomaly_detection_results\\visa\\pcb1\\pcb1_visa_best_model.keras\n",
      "\u001b[1m18/18\u001b[0m \u001b[32m━━━━━━━━━━━━━━━━━━━━\u001b[0m\u001b[37m\u001b[0m \u001b[1m3s\u001b[0m 144ms/step - loss: 0.0077 - val_loss: 0.0071\n",
      "Epoch 5/20\n",
      "\u001b[1m18/18\u001b[0m \u001b[32m━━━━━━━━━━━━━━━━━━━━\u001b[0m\u001b[37m\u001b[0m \u001b[1m0s\u001b[0m 124ms/step - loss: 0.0070\n",
      "Epoch 5: val_loss improved from 0.00711 to 0.00654, saving model to anomaly_detection_results\\visa\\pcb1\\pcb1_visa_best_model.keras\n",
      "\u001b[1m18/18\u001b[0m \u001b[32m━━━━━━━━━━━━━━━━━━━━\u001b[0m\u001b[37m\u001b[0m \u001b[1m3s\u001b[0m 142ms/step - loss: 0.0070 - val_loss: 0.0065\n",
      "Epoch 6/20\n",
      "\u001b[1m18/18\u001b[0m \u001b[32m━━━━━━━━━━━━━━━━━━━━\u001b[0m\u001b[37m\u001b[0m \u001b[1m0s\u001b[0m 127ms/step - loss: 0.0064\n",
      "Epoch 6: val_loss improved from 0.00654 to 0.00604, saving model to anomaly_detection_results\\visa\\pcb1\\pcb1_visa_best_model.keras\n",
      "\u001b[1m18/18\u001b[0m \u001b[32m━━━━━━━━━━━━━━━━━━━━\u001b[0m\u001b[37m\u001b[0m \u001b[1m3s\u001b[0m 145ms/step - loss: 0.0064 - val_loss: 0.0060\n",
      "Epoch 7/20\n",
      "\u001b[1m18/18\u001b[0m \u001b[32m━━━━━━━━━━━━━━━━━━━━\u001b[0m\u001b[37m\u001b[0m \u001b[1m0s\u001b[0m 128ms/step - loss: 0.0059\n",
      "Epoch 7: val_loss improved from 0.00604 to 0.00566, saving model to anomaly_detection_results\\visa\\pcb1\\pcb1_visa_best_model.keras\n",
      "\u001b[1m18/18\u001b[0m \u001b[32m━━━━━━━━━━━━━━━━━━━━\u001b[0m\u001b[37m\u001b[0m \u001b[1m3s\u001b[0m 147ms/step - loss: 0.0059 - val_loss: 0.0057\n",
      "Epoch 8/20\n",
      "\u001b[1m18/18\u001b[0m \u001b[32m━━━━━━━━━━━━━━━━━━━━\u001b[0m\u001b[37m\u001b[0m \u001b[1m0s\u001b[0m 130ms/step - loss: 0.0056\n",
      "Epoch 8: val_loss improved from 0.00566 to 0.00533, saving model to anomaly_detection_results\\visa\\pcb1\\pcb1_visa_best_model.keras\n",
      "\u001b[1m18/18\u001b[0m \u001b[32m━━━━━━━━━━━━━━━━━━━━\u001b[0m\u001b[37m\u001b[0m \u001b[1m3s\u001b[0m 150ms/step - loss: 0.0056 - val_loss: 0.0053\n",
      "Epoch 9/20\n",
      "\u001b[1m18/18\u001b[0m \u001b[32m━━━━━━━━━━━━━━━━━━━━\u001b[0m\u001b[37m\u001b[0m \u001b[1m0s\u001b[0m 128ms/step - loss: 0.0053\n",
      "Epoch 9: val_loss improved from 0.00533 to 0.00508, saving model to anomaly_detection_results\\visa\\pcb1\\pcb1_visa_best_model.keras\n",
      "\u001b[1m18/18\u001b[0m \u001b[32m━━━━━━━━━━━━━━━━━━━━\u001b[0m\u001b[37m\u001b[0m \u001b[1m3s\u001b[0m 147ms/step - loss: 0.0053 - val_loss: 0.0051\n",
      "Epoch 10/20\n",
      "\u001b[1m18/18\u001b[0m \u001b[32m━━━━━━━━━━━━━━━━━━━━\u001b[0m\u001b[37m\u001b[0m \u001b[1m0s\u001b[0m 129ms/step - loss: 0.0050\n",
      "Epoch 10: val_loss improved from 0.00508 to 0.00487, saving model to anomaly_detection_results\\visa\\pcb1\\pcb1_visa_best_model.keras\n",
      "\u001b[1m18/18\u001b[0m \u001b[32m━━━━━━━━━━━━━━━━━━━━\u001b[0m\u001b[37m\u001b[0m \u001b[1m3s\u001b[0m 148ms/step - loss: 0.0050 - val_loss: 0.0049\n",
      "Epoch 11/20\n",
      "\u001b[1m18/18\u001b[0m \u001b[32m━━━━━━━━━━━━━━━━━━━━\u001b[0m\u001b[37m\u001b[0m \u001b[1m0s\u001b[0m 128ms/step - loss: 0.0048\n",
      "Epoch 11: val_loss improved from 0.00487 to 0.00462, saving model to anomaly_detection_results\\visa\\pcb1\\pcb1_visa_best_model.keras\n",
      "\u001b[1m18/18\u001b[0m \u001b[32m━━━━━━━━━━━━━━━━━━━━\u001b[0m\u001b[37m\u001b[0m \u001b[1m3s\u001b[0m 146ms/step - loss: 0.0048 - val_loss: 0.0046\n",
      "Epoch 12/20\n",
      "\u001b[1m18/18\u001b[0m \u001b[32m━━━━━━━━━━━━━━━━━━━━\u001b[0m\u001b[37m\u001b[0m \u001b[1m0s\u001b[0m 125ms/step - loss: 0.0046\n",
      "Epoch 12: val_loss did not improve from 0.00462\n",
      "\u001b[1m18/18\u001b[0m \u001b[32m━━━━━━━━━━━━━━━━━━━━\u001b[0m\u001b[37m\u001b[0m \u001b[1m3s\u001b[0m 143ms/step - loss: 0.0046 - val_loss: 0.0048\n",
      "Epoch 13/20\n",
      "\u001b[1m18/18\u001b[0m \u001b[32m━━━━━━━━━━━━━━━━━━━━\u001b[0m\u001b[37m\u001b[0m \u001b[1m0s\u001b[0m 126ms/step - loss: 0.0046\n",
      "Epoch 13: val_loss improved from 0.00462 to 0.00431, saving model to anomaly_detection_results\\visa\\pcb1\\pcb1_visa_best_model.keras\n",
      "\u001b[1m18/18\u001b[0m \u001b[32m━━━━━━━━━━━━━━━━━━━━\u001b[0m\u001b[37m\u001b[0m \u001b[1m3s\u001b[0m 147ms/step - loss: 0.0045 - val_loss: 0.0043\n",
      "Epoch 14/20\n",
      "\u001b[1m18/18\u001b[0m \u001b[32m━━━━━━━━━━━━━━━━━━━━\u001b[0m\u001b[37m\u001b[0m \u001b[1m0s\u001b[0m 132ms/step - loss: 0.0043\n",
      "Epoch 14: val_loss improved from 0.00431 to 0.00413, saving model to anomaly_detection_results\\visa\\pcb1\\pcb1_visa_best_model.keras\n",
      "\u001b[1m18/18\u001b[0m \u001b[32m━━━━━━━━━━━━━━━━━━━━\u001b[0m\u001b[37m\u001b[0m \u001b[1m3s\u001b[0m 152ms/step - loss: 0.0043 - val_loss: 0.0041\n",
      "Epoch 15/20\n",
      "\u001b[1m18/18\u001b[0m \u001b[32m━━━━━━━━━━━━━━━━━━━━\u001b[0m\u001b[37m\u001b[0m \u001b[1m0s\u001b[0m 130ms/step - loss: 0.0041\n",
      "Epoch 15: val_loss improved from 0.00413 to 0.00399, saving model to anomaly_detection_results\\visa\\pcb1\\pcb1_visa_best_model.keras\n",
      "\u001b[1m18/18\u001b[0m \u001b[32m━━━━━━━━━━━━━━━━━━━━\u001b[0m\u001b[37m\u001b[0m \u001b[1m3s\u001b[0m 151ms/step - loss: 0.0041 - val_loss: 0.0040\n",
      "Epoch 16/20\n",
      "\u001b[1m18/18\u001b[0m \u001b[32m━━━━━━━━━━━━━━━━━━━━\u001b[0m\u001b[37m\u001b[0m \u001b[1m0s\u001b[0m 130ms/step - loss: 0.0040\n",
      "Epoch 16: val_loss improved from 0.00399 to 0.00386, saving model to anomaly_detection_results\\visa\\pcb1\\pcb1_visa_best_model.keras\n",
      "\u001b[1m18/18\u001b[0m \u001b[32m━━━━━━━━━━━━━━━━━━━━\u001b[0m\u001b[37m\u001b[0m \u001b[1m3s\u001b[0m 149ms/step - loss: 0.0040 - val_loss: 0.0039\n",
      "Epoch 17/20\n",
      "\u001b[1m18/18\u001b[0m \u001b[32m━━━━━━━━━━━━━━━━━━━━\u001b[0m\u001b[37m\u001b[0m \u001b[1m0s\u001b[0m 125ms/step - loss: 0.0038\n",
      "Epoch 17: val_loss did not improve from 0.00386\n",
      "\u001b[1m18/18\u001b[0m \u001b[32m━━━━━━━━━━━━━━━━━━━━\u001b[0m\u001b[37m\u001b[0m \u001b[1m3s\u001b[0m 141ms/step - loss: 0.0038 - val_loss: 0.0041\n",
      "Epoch 18/20\n",
      "\u001b[1m18/18\u001b[0m \u001b[32m━━━━━━━━━━━━━━━━━━━━\u001b[0m\u001b[37m\u001b[0m \u001b[1m0s\u001b[0m 128ms/step - loss: 0.0039\n",
      "Epoch 18: val_loss improved from 0.00386 to 0.00366, saving model to anomaly_detection_results\\visa\\pcb1\\pcb1_visa_best_model.keras\n",
      "\u001b[1m18/18\u001b[0m \u001b[32m━━━━━━━━━━━━━━━━━━━━\u001b[0m\u001b[37m\u001b[0m \u001b[1m3s\u001b[0m 147ms/step - loss: 0.0039 - val_loss: 0.0037\n",
      "Epoch 19/20\n",
      "\u001b[1m18/18\u001b[0m \u001b[32m━━━━━━━━━━━━━━━━━━━━\u001b[0m\u001b[37m\u001b[0m \u001b[1m0s\u001b[0m 132ms/step - loss: 0.0037\n",
      "Epoch 19: val_loss improved from 0.00366 to 0.00359, saving model to anomaly_detection_results\\visa\\pcb1\\pcb1_visa_best_model.keras\n",
      "\u001b[1m18/18\u001b[0m \u001b[32m━━━━━━━━━━━━━━━━━━━━\u001b[0m\u001b[37m\u001b[0m \u001b[1m3s\u001b[0m 151ms/step - loss: 0.0037 - val_loss: 0.0036\n",
      "Epoch 20/20\n",
      "\u001b[1m18/18\u001b[0m \u001b[32m━━━━━━━━━━━━━━━━━━━━\u001b[0m\u001b[37m\u001b[0m \u001b[1m0s\u001b[0m 129ms/step - loss: 0.0036\n",
      "Epoch 20: val_loss improved from 0.00359 to 0.00350, saving model to anomaly_detection_results\\visa\\pcb1\\pcb1_visa_best_model.keras\n",
      "\u001b[1m18/18\u001b[0m \u001b[32m━━━━━━━━━━━━━━━━━━━━\u001b[0m\u001b[37m\u001b[0m \u001b[1m3s\u001b[0m 149ms/step - loss: 0.0036 - val_loss: 0.0035\n",
      "Eğitim tamamlandı. Süre: 54.68 saniye\n",
      "En iyi model yüklendi: anomaly_detection_results\\visa\\pcb1\\pcb1_visa_best_model.keras\n",
      "Eğitim geçmişi grafiği kaydedildi: anomaly_detection_results\\visa\\pcb1\\pcb1_visa_training_history.png\n",
      "Rekonstrüksiyon başlatılıyor...\n",
      "\u001b[1m13/13\u001b[0m \u001b[32m━━━━━━━━━━━━━━━━━━━━\u001b[0m\u001b[37m\u001b[0m \u001b[1m1s\u001b[0m 67ms/step\n",
      "Anomali eşik değeri (95. yüzdelik): 0.003872\n",
      "Doğruluk (Accuracy): 0.7656\n",
      "Hassasiyet (Precision): 0.6500\n",
      "Duyarlılık (Recall): 0.1300\n",
      "F1 Skoru: 0.2167\n",
      "ROC AUC: 0.6294\n",
      "\n",
      "pcb1 (visa) için analiz sonuçları görselleştiriliyor...\n",
      "Rekonstrüksiyon sonuçları kaydedildi: anomaly_detection_results\\visa\\pcb1\\pcb1_visa_reconstruction_results.png\n",
      "Normal örnekler MSE - Min: 0.002720, Max: 0.003996, Ortalama: 0.003508\n",
      "Anomali örnekler MSE - Min: 0.002847, Max: 0.004711, Ortalama: 0.003607\n",
      "MSE karşılaştırma histogramı kaydedildi: anomaly_detection_results\\visa\\pcb1\\pcb1_visa_mse_comparison_histogram.png\n",
      "ROC eğrisi kaydedildi: anomaly_detection_results\\visa\\pcb1\\pcb1_visa_roc_curve.png\n",
      "Karışıklık matrisi kaydedildi: anomaly_detection_results\\visa\\pcb1\\pcb1_visa_confusion_matrix.png\n",
      "anomaly kusur tipi detaylı analizi kaydedildi: anomaly_detection_results\\visa\\pcb1\\pcb1_visa_anomaly_detailed_analysis.png\n",
      "Kusur tipi metrikleri kaydedildi: anomaly_detection_results\\visa\\pcb1\\pcb1_visa_defect_type_metrics.png\n",
      "Kusur tipine göre MSE dağılımı kaydedildi: anomaly_detection_results\\visa\\pcb1\\pcb1_visa_defect_type_mse_distribution.png\n",
      "Sonuçlar başarıyla kaydedildi: anomaly_detection_results\\visa\\pcb1\n",
      "VisA: pcb1 kategorisi başarıyla işlendi.\n",
      "\n",
      "==================================================\n",
      "İşleniyor: pcb2 (VISA veri seti)\n",
      "==================================================\n",
      "VisA kategori dizini: C:\\Users\\Tansu\\OneDrive\\Masaüstü\\visa\\pcb2\n",
      "VisA görüntü dizini: C:\\Users\\Tansu\\OneDrive\\Masaüstü\\visa\\pcb2\\data\\images\n",
      "VisA normal görüntü dizini: C:\\Users\\Tansu\\OneDrive\\Masaüstü\\visa\\pcb2\\data\\images\\normal\n",
      "VisA anomali görüntü dizini: C:\\Users\\Tansu\\OneDrive\\Masaüstü\\visa\\pcb2\\data\\images\\anomaly\n"
     ]
    },
    {
     "name": "stderr",
     "output_type": "stream",
     "text": [
      "pcb2 (VisA): Normal görüntüleri yükleme: 100%|██████████| 1001/1001 [00:29<00:00, 33.47it/s]\n",
      "pcb2 (VisA): Anomali görüntüleri yükleme: 100%|██████████| 100/100 [00:02<00:00, 42.20it/s]"
     ]
    },
    {
     "name": "stdout",
     "output_type": "stream",
     "text": [
      "VisA Eğitim veriseti: (701, 128, 128) - Min: 22, Max: 255\n",
      "VisA Test veriseti: (400, 128, 128) - Min: 0, Max: 255\n",
      "VisA Test etiketleri: (400,)\n",
      "VisA Anomali sayısı: 100\n",
      "VisA Normal test örneği sayısı: 300\n",
      "\n",
      "pcb2 (visa) için görselleştirmeler oluşturuluyor...\n",
      "UYARI: 'C:\\Users\\Tansu\\OneDrive\\Masaüstü\\visa\\pcb2\\test\\good' dizini bulunamadı. Normal örnekler için test dizini kullanılıyor.\n",
      "UYARI: 'pcb2' için kusur tipi bulunamadı.\n",
      "UYARI: 'C:\\Users\\Tansu\\OneDrive\\Masaüstü\\visa\\pcb2\\test' dizini bulunamadı.\n"
     ]
    },
    {
     "name": "stderr",
     "output_type": "stream",
     "text": [
      "\n"
     ]
    },
    {
     "data": {
      "text/html": [
       "<pre style=\"white-space:pre;overflow-x:auto;line-height:normal;font-family:Menlo,'DejaVu Sans Mono',consolas,'Courier New',monospace\"><span style=\"font-weight: bold\">Model: \"functional_19\"</span>\n",
       "</pre>\n"
      ],
      "text/plain": [
       "\u001b[1mModel: \"functional_19\"\u001b[0m\n"
      ]
     },
     "metadata": {},
     "output_type": "display_data"
    },
    {
     "data": {
      "text/html": [
       "<pre style=\"white-space:pre;overflow-x:auto;line-height:normal;font-family:Menlo,'DejaVu Sans Mono',consolas,'Courier New',monospace\">┏━━━━━━━━━━━━━━━━━━━━━━━━━━━━━━━━━┳━━━━━━━━━━━━━━━━━━━━━━━━┳━━━━━━━━━━━━━━━┓\n",
       "┃<span style=\"font-weight: bold\"> Layer (type)                    </span>┃<span style=\"font-weight: bold\"> Output Shape           </span>┃<span style=\"font-weight: bold\">       Param # </span>┃\n",
       "┡━━━━━━━━━━━━━━━━━━━━━━━━━━━━━━━━━╇━━━━━━━━━━━━━━━━━━━━━━━━╇━━━━━━━━━━━━━━━┩\n",
       "│ input_layer (<span style=\"color: #0087ff; text-decoration-color: #0087ff\">InputLayer</span>)        │ (<span style=\"color: #00d7ff; text-decoration-color: #00d7ff\">None</span>, <span style=\"color: #00af00; text-decoration-color: #00af00\">128</span>, <span style=\"color: #00af00; text-decoration-color: #00af00\">128</span>, <span style=\"color: #00af00; text-decoration-color: #00af00\">1</span>)    │             <span style=\"color: #00af00; text-decoration-color: #00af00\">0</span> │\n",
       "├─────────────────────────────────┼────────────────────────┼───────────────┤\n",
       "│ conv2d_95 (<span style=\"color: #0087ff; text-decoration-color: #0087ff\">Conv2D</span>)              │ (<span style=\"color: #00d7ff; text-decoration-color: #00d7ff\">None</span>, <span style=\"color: #00af00; text-decoration-color: #00af00\">128</span>, <span style=\"color: #00af00; text-decoration-color: #00af00\">128</span>, <span style=\"color: #00af00; text-decoration-color: #00af00\">32</span>)   │           <span style=\"color: #00af00; text-decoration-color: #00af00\">320</span> │\n",
       "├─────────────────────────────────┼────────────────────────┼───────────────┤\n",
       "│ max_pooling2d_38 (<span style=\"color: #0087ff; text-decoration-color: #0087ff\">MaxPooling2D</span>) │ (<span style=\"color: #00d7ff; text-decoration-color: #00d7ff\">None</span>, <span style=\"color: #00af00; text-decoration-color: #00af00\">64</span>, <span style=\"color: #00af00; text-decoration-color: #00af00\">64</span>, <span style=\"color: #00af00; text-decoration-color: #00af00\">32</span>)     │             <span style=\"color: #00af00; text-decoration-color: #00af00\">0</span> │\n",
       "├─────────────────────────────────┼────────────────────────┼───────────────┤\n",
       "│ conv2d_96 (<span style=\"color: #0087ff; text-decoration-color: #0087ff\">Conv2D</span>)              │ (<span style=\"color: #00d7ff; text-decoration-color: #00d7ff\">None</span>, <span style=\"color: #00af00; text-decoration-color: #00af00\">64</span>, <span style=\"color: #00af00; text-decoration-color: #00af00\">64</span>, <span style=\"color: #00af00; text-decoration-color: #00af00\">16</span>)     │         <span style=\"color: #00af00; text-decoration-color: #00af00\">4,624</span> │\n",
       "├─────────────────────────────────┼────────────────────────┼───────────────┤\n",
       "│ max_pooling2d_39 (<span style=\"color: #0087ff; text-decoration-color: #0087ff\">MaxPooling2D</span>) │ (<span style=\"color: #00d7ff; text-decoration-color: #00d7ff\">None</span>, <span style=\"color: #00af00; text-decoration-color: #00af00\">32</span>, <span style=\"color: #00af00; text-decoration-color: #00af00\">32</span>, <span style=\"color: #00af00; text-decoration-color: #00af00\">16</span>)     │             <span style=\"color: #00af00; text-decoration-color: #00af00\">0</span> │\n",
       "├─────────────────────────────────┼────────────────────────┼───────────────┤\n",
       "│ conv2d_97 (<span style=\"color: #0087ff; text-decoration-color: #0087ff\">Conv2D</span>)              │ (<span style=\"color: #00d7ff; text-decoration-color: #00d7ff\">None</span>, <span style=\"color: #00af00; text-decoration-color: #00af00\">32</span>, <span style=\"color: #00af00; text-decoration-color: #00af00\">32</span>, <span style=\"color: #00af00; text-decoration-color: #00af00\">16</span>)     │         <span style=\"color: #00af00; text-decoration-color: #00af00\">2,320</span> │\n",
       "├─────────────────────────────────┼────────────────────────┼───────────────┤\n",
       "│ up_sampling2d_38 (<span style=\"color: #0087ff; text-decoration-color: #0087ff\">UpSampling2D</span>) │ (<span style=\"color: #00d7ff; text-decoration-color: #00d7ff\">None</span>, <span style=\"color: #00af00; text-decoration-color: #00af00\">64</span>, <span style=\"color: #00af00; text-decoration-color: #00af00\">64</span>, <span style=\"color: #00af00; text-decoration-color: #00af00\">16</span>)     │             <span style=\"color: #00af00; text-decoration-color: #00af00\">0</span> │\n",
       "├─────────────────────────────────┼────────────────────────┼───────────────┤\n",
       "│ conv2d_98 (<span style=\"color: #0087ff; text-decoration-color: #0087ff\">Conv2D</span>)              │ (<span style=\"color: #00d7ff; text-decoration-color: #00d7ff\">None</span>, <span style=\"color: #00af00; text-decoration-color: #00af00\">64</span>, <span style=\"color: #00af00; text-decoration-color: #00af00\">64</span>, <span style=\"color: #00af00; text-decoration-color: #00af00\">32</span>)     │         <span style=\"color: #00af00; text-decoration-color: #00af00\">4,640</span> │\n",
       "├─────────────────────────────────┼────────────────────────┼───────────────┤\n",
       "│ up_sampling2d_39 (<span style=\"color: #0087ff; text-decoration-color: #0087ff\">UpSampling2D</span>) │ (<span style=\"color: #00d7ff; text-decoration-color: #00d7ff\">None</span>, <span style=\"color: #00af00; text-decoration-color: #00af00\">128</span>, <span style=\"color: #00af00; text-decoration-color: #00af00\">128</span>, <span style=\"color: #00af00; text-decoration-color: #00af00\">32</span>)   │             <span style=\"color: #00af00; text-decoration-color: #00af00\">0</span> │\n",
       "├─────────────────────────────────┼────────────────────────┼───────────────┤\n",
       "│ conv2d_99 (<span style=\"color: #0087ff; text-decoration-color: #0087ff\">Conv2D</span>)              │ (<span style=\"color: #00d7ff; text-decoration-color: #00d7ff\">None</span>, <span style=\"color: #00af00; text-decoration-color: #00af00\">128</span>, <span style=\"color: #00af00; text-decoration-color: #00af00\">128</span>, <span style=\"color: #00af00; text-decoration-color: #00af00\">1</span>)    │           <span style=\"color: #00af00; text-decoration-color: #00af00\">289</span> │\n",
       "└─────────────────────────────────┴────────────────────────┴───────────────┘\n",
       "</pre>\n"
      ],
      "text/plain": [
       "┏━━━━━━━━━━━━━━━━━━━━━━━━━━━━━━━━━┳━━━━━━━━━━━━━━━━━━━━━━━━┳━━━━━━━━━━━━━━━┓\n",
       "┃\u001b[1m \u001b[0m\u001b[1mLayer (type)                   \u001b[0m\u001b[1m \u001b[0m┃\u001b[1m \u001b[0m\u001b[1mOutput Shape          \u001b[0m\u001b[1m \u001b[0m┃\u001b[1m \u001b[0m\u001b[1m      Param #\u001b[0m\u001b[1m \u001b[0m┃\n",
       "┡━━━━━━━━━━━━━━━━━━━━━━━━━━━━━━━━━╇━━━━━━━━━━━━━━━━━━━━━━━━╇━━━━━━━━━━━━━━━┩\n",
       "│ input_layer (\u001b[38;5;33mInputLayer\u001b[0m)        │ (\u001b[38;5;45mNone\u001b[0m, \u001b[38;5;34m128\u001b[0m, \u001b[38;5;34m128\u001b[0m, \u001b[38;5;34m1\u001b[0m)    │             \u001b[38;5;34m0\u001b[0m │\n",
       "├─────────────────────────────────┼────────────────────────┼───────────────┤\n",
       "│ conv2d_95 (\u001b[38;5;33mConv2D\u001b[0m)              │ (\u001b[38;5;45mNone\u001b[0m, \u001b[38;5;34m128\u001b[0m, \u001b[38;5;34m128\u001b[0m, \u001b[38;5;34m32\u001b[0m)   │           \u001b[38;5;34m320\u001b[0m │\n",
       "├─────────────────────────────────┼────────────────────────┼───────────────┤\n",
       "│ max_pooling2d_38 (\u001b[38;5;33mMaxPooling2D\u001b[0m) │ (\u001b[38;5;45mNone\u001b[0m, \u001b[38;5;34m64\u001b[0m, \u001b[38;5;34m64\u001b[0m, \u001b[38;5;34m32\u001b[0m)     │             \u001b[38;5;34m0\u001b[0m │\n",
       "├─────────────────────────────────┼────────────────────────┼───────────────┤\n",
       "│ conv2d_96 (\u001b[38;5;33mConv2D\u001b[0m)              │ (\u001b[38;5;45mNone\u001b[0m, \u001b[38;5;34m64\u001b[0m, \u001b[38;5;34m64\u001b[0m, \u001b[38;5;34m16\u001b[0m)     │         \u001b[38;5;34m4,624\u001b[0m │\n",
       "├─────────────────────────────────┼────────────────────────┼───────────────┤\n",
       "│ max_pooling2d_39 (\u001b[38;5;33mMaxPooling2D\u001b[0m) │ (\u001b[38;5;45mNone\u001b[0m, \u001b[38;5;34m32\u001b[0m, \u001b[38;5;34m32\u001b[0m, \u001b[38;5;34m16\u001b[0m)     │             \u001b[38;5;34m0\u001b[0m │\n",
       "├─────────────────────────────────┼────────────────────────┼───────────────┤\n",
       "│ conv2d_97 (\u001b[38;5;33mConv2D\u001b[0m)              │ (\u001b[38;5;45mNone\u001b[0m, \u001b[38;5;34m32\u001b[0m, \u001b[38;5;34m32\u001b[0m, \u001b[38;5;34m16\u001b[0m)     │         \u001b[38;5;34m2,320\u001b[0m │\n",
       "├─────────────────────────────────┼────────────────────────┼───────────────┤\n",
       "│ up_sampling2d_38 (\u001b[38;5;33mUpSampling2D\u001b[0m) │ (\u001b[38;5;45mNone\u001b[0m, \u001b[38;5;34m64\u001b[0m, \u001b[38;5;34m64\u001b[0m, \u001b[38;5;34m16\u001b[0m)     │             \u001b[38;5;34m0\u001b[0m │\n",
       "├─────────────────────────────────┼────────────────────────┼───────────────┤\n",
       "│ conv2d_98 (\u001b[38;5;33mConv2D\u001b[0m)              │ (\u001b[38;5;45mNone\u001b[0m, \u001b[38;5;34m64\u001b[0m, \u001b[38;5;34m64\u001b[0m, \u001b[38;5;34m32\u001b[0m)     │         \u001b[38;5;34m4,640\u001b[0m │\n",
       "├─────────────────────────────────┼────────────────────────┼───────────────┤\n",
       "│ up_sampling2d_39 (\u001b[38;5;33mUpSampling2D\u001b[0m) │ (\u001b[38;5;45mNone\u001b[0m, \u001b[38;5;34m128\u001b[0m, \u001b[38;5;34m128\u001b[0m, \u001b[38;5;34m32\u001b[0m)   │             \u001b[38;5;34m0\u001b[0m │\n",
       "├─────────────────────────────────┼────────────────────────┼───────────────┤\n",
       "│ conv2d_99 (\u001b[38;5;33mConv2D\u001b[0m)              │ (\u001b[38;5;45mNone\u001b[0m, \u001b[38;5;34m128\u001b[0m, \u001b[38;5;34m128\u001b[0m, \u001b[38;5;34m1\u001b[0m)    │           \u001b[38;5;34m289\u001b[0m │\n",
       "└─────────────────────────────────┴────────────────────────┴───────────────┘\n"
      ]
     },
     "metadata": {},
     "output_type": "display_data"
    },
    {
     "data": {
      "text/html": [
       "<pre style=\"white-space:pre;overflow-x:auto;line-height:normal;font-family:Menlo,'DejaVu Sans Mono',consolas,'Courier New',monospace\"><span style=\"font-weight: bold\"> Total params: </span><span style=\"color: #00af00; text-decoration-color: #00af00\">12,193</span> (47.63 KB)\n",
       "</pre>\n"
      ],
      "text/plain": [
       "\u001b[1m Total params: \u001b[0m\u001b[38;5;34m12,193\u001b[0m (47.63 KB)\n"
      ]
     },
     "metadata": {},
     "output_type": "display_data"
    },
    {
     "data": {
      "text/html": [
       "<pre style=\"white-space:pre;overflow-x:auto;line-height:normal;font-family:Menlo,'DejaVu Sans Mono',consolas,'Courier New',monospace\"><span style=\"font-weight: bold\"> Trainable params: </span><span style=\"color: #00af00; text-decoration-color: #00af00\">12,193</span> (47.63 KB)\n",
       "</pre>\n"
      ],
      "text/plain": [
       "\u001b[1m Trainable params: \u001b[0m\u001b[38;5;34m12,193\u001b[0m (47.63 KB)\n"
      ]
     },
     "metadata": {},
     "output_type": "display_data"
    },
    {
     "data": {
      "text/html": [
       "<pre style=\"white-space:pre;overflow-x:auto;line-height:normal;font-family:Menlo,'DejaVu Sans Mono',consolas,'Courier New',monospace\"><span style=\"font-weight: bold\"> Non-trainable params: </span><span style=\"color: #00af00; text-decoration-color: #00af00\">0</span> (0.00 B)\n",
       "</pre>\n"
      ],
      "text/plain": [
       "\u001b[1m Non-trainable params: \u001b[0m\u001b[38;5;34m0\u001b[0m (0.00 B)\n"
      ]
     },
     "metadata": {},
     "output_type": "display_data"
    },
    {
     "name": "stdout",
     "output_type": "stream",
     "text": [
      "Epoch 1/20\n",
      "\u001b[1m18/18\u001b[0m \u001b[32m━━━━━━━━━━━━━━━━━━━━\u001b[0m\u001b[37m\u001b[0m \u001b[1m0s\u001b[0m 123ms/step - loss: 0.0391\n",
      "Epoch 1: val_loss improved from inf to 0.02621, saving model to anomaly_detection_results\\visa\\pcb2\\pcb2_visa_best_model.keras\n",
      "\u001b[1m18/18\u001b[0m \u001b[32m━━━━━━━━━━━━━━━━━━━━\u001b[0m\u001b[37m\u001b[0m \u001b[1m4s\u001b[0m 154ms/step - loss: 0.0389 - val_loss: 0.0262\n",
      "Epoch 2/20\n",
      "\u001b[1m18/18\u001b[0m \u001b[32m━━━━━━━━━━━━━━━━━━━━\u001b[0m\u001b[37m\u001b[0m \u001b[1m0s\u001b[0m 127ms/step - loss: 0.0242\n",
      "Epoch 2: val_loss improved from 0.02621 to 0.01643, saving model to anomaly_detection_results\\visa\\pcb2\\pcb2_visa_best_model.keras\n",
      "\u001b[1m18/18\u001b[0m \u001b[32m━━━━━━━━━━━━━━━━━━━━\u001b[0m\u001b[37m\u001b[0m \u001b[1m3s\u001b[0m 147ms/step - loss: 0.0241 - val_loss: 0.0164\n",
      "Epoch 3/20\n",
      "\u001b[1m18/18\u001b[0m \u001b[32m━━━━━━━━━━━━━━━━━━━━\u001b[0m\u001b[37m\u001b[0m \u001b[1m0s\u001b[0m 128ms/step - loss: 0.0139\n",
      "Epoch 3: val_loss improved from 0.01643 to 0.01063, saving model to anomaly_detection_results\\visa\\pcb2\\pcb2_visa_best_model.keras\n",
      "\u001b[1m18/18\u001b[0m \u001b[32m━━━━━━━━━━━━━━━━━━━━\u001b[0m\u001b[37m\u001b[0m \u001b[1m3s\u001b[0m 149ms/step - loss: 0.0138 - val_loss: 0.0106\n",
      "Epoch 4/20\n",
      "\u001b[1m18/18\u001b[0m \u001b[32m━━━━━━━━━━━━━━━━━━━━\u001b[0m\u001b[37m\u001b[0m \u001b[1m0s\u001b[0m 128ms/step - loss: 0.0099\n",
      "Epoch 4: val_loss improved from 0.01063 to 0.00821, saving model to anomaly_detection_results\\visa\\pcb2\\pcb2_visa_best_model.keras\n",
      "\u001b[1m18/18\u001b[0m \u001b[32m━━━━━━━━━━━━━━━━━━━━\u001b[0m\u001b[37m\u001b[0m \u001b[1m3s\u001b[0m 147ms/step - loss: 0.0099 - val_loss: 0.0082\n",
      "Epoch 5/20\n",
      "\u001b[1m18/18\u001b[0m \u001b[32m━━━━━━━━━━━━━━━━━━━━\u001b[0m\u001b[37m\u001b[0m \u001b[1m0s\u001b[0m 130ms/step - loss: 0.0081\n",
      "Epoch 5: val_loss improved from 0.00821 to 0.00766, saving model to anomaly_detection_results\\visa\\pcb2\\pcb2_visa_best_model.keras\n",
      "\u001b[1m18/18\u001b[0m \u001b[32m━━━━━━━━━━━━━━━━━━━━\u001b[0m\u001b[37m\u001b[0m \u001b[1m3s\u001b[0m 149ms/step - loss: 0.0081 - val_loss: 0.0077\n",
      "Epoch 6/20\n",
      "\u001b[1m18/18\u001b[0m \u001b[32m━━━━━━━━━━━━━━━━━━━━\u001b[0m\u001b[37m\u001b[0m \u001b[1m0s\u001b[0m 124ms/step - loss: 0.0076\n",
      "Epoch 6: val_loss improved from 0.00766 to 0.00728, saving model to anomaly_detection_results\\visa\\pcb2\\pcb2_visa_best_model.keras\n",
      "\u001b[1m18/18\u001b[0m \u001b[32m━━━━━━━━━━━━━━━━━━━━\u001b[0m\u001b[37m\u001b[0m \u001b[1m3s\u001b[0m 142ms/step - loss: 0.0076 - val_loss: 0.0073\n",
      "Epoch 7/20\n",
      "\u001b[1m18/18\u001b[0m \u001b[32m━━━━━━━━━━━━━━━━━━━━\u001b[0m\u001b[37m\u001b[0m \u001b[1m0s\u001b[0m 126ms/step - loss: 0.0072\n",
      "Epoch 7: val_loss improved from 0.00728 to 0.00697, saving model to anomaly_detection_results\\visa\\pcb2\\pcb2_visa_best_model.keras\n",
      "\u001b[1m18/18\u001b[0m \u001b[32m━━━━━━━━━━━━━━━━━━━━\u001b[0m\u001b[37m\u001b[0m \u001b[1m3s\u001b[0m 145ms/step - loss: 0.0072 - val_loss: 0.0070\n",
      "Epoch 8/20\n",
      "\u001b[1m18/18\u001b[0m \u001b[32m━━━━━━━━━━━━━━━━━━━━\u001b[0m\u001b[37m\u001b[0m \u001b[1m0s\u001b[0m 124ms/step - loss: 0.0069\n",
      "Epoch 8: val_loss improved from 0.00697 to 0.00668, saving model to anomaly_detection_results\\visa\\pcb2\\pcb2_visa_best_model.keras\n",
      "\u001b[1m18/18\u001b[0m \u001b[32m━━━━━━━━━━━━━━━━━━━━\u001b[0m\u001b[37m\u001b[0m \u001b[1m3s\u001b[0m 144ms/step - loss: 0.0069 - val_loss: 0.0067\n",
      "Epoch 9/20\n",
      "\u001b[1m18/18\u001b[0m \u001b[32m━━━━━━━━━━━━━━━━━━━━\u001b[0m\u001b[37m\u001b[0m \u001b[1m0s\u001b[0m 131ms/step - loss: 0.0066\n",
      "Epoch 9: val_loss improved from 0.00668 to 0.00641, saving model to anomaly_detection_results\\visa\\pcb2\\pcb2_visa_best_model.keras\n",
      "\u001b[1m18/18\u001b[0m \u001b[32m━━━━━━━━━━━━━━━━━━━━\u001b[0m\u001b[37m\u001b[0m \u001b[1m3s\u001b[0m 151ms/step - loss: 0.0066 - val_loss: 0.0064\n",
      "Epoch 10/20\n",
      "\u001b[1m18/18\u001b[0m \u001b[32m━━━━━━━━━━━━━━━━━━━━\u001b[0m\u001b[37m\u001b[0m \u001b[1m0s\u001b[0m 133ms/step - loss: 0.0064\n",
      "Epoch 10: val_loss improved from 0.00641 to 0.00613, saving model to anomaly_detection_results\\visa\\pcb2\\pcb2_visa_best_model.keras\n",
      "\u001b[1m18/18\u001b[0m \u001b[32m━━━━━━━━━━━━━━━━━━━━\u001b[0m\u001b[37m\u001b[0m \u001b[1m3s\u001b[0m 152ms/step - loss: 0.0064 - val_loss: 0.0061\n",
      "Epoch 11/20\n",
      "\u001b[1m18/18\u001b[0m \u001b[32m━━━━━━━━━━━━━━━━━━━━\u001b[0m\u001b[37m\u001b[0m \u001b[1m0s\u001b[0m 128ms/step - loss: 0.0061\n",
      "Epoch 11: val_loss improved from 0.00613 to 0.00592, saving model to anomaly_detection_results\\visa\\pcb2\\pcb2_visa_best_model.keras\n",
      "\u001b[1m18/18\u001b[0m \u001b[32m━━━━━━━━━━━━━━━━━━━━\u001b[0m\u001b[37m\u001b[0m \u001b[1m3s\u001b[0m 149ms/step - loss: 0.0061 - val_loss: 0.0059\n",
      "Epoch 12/20\n",
      "\u001b[1m18/18\u001b[0m \u001b[32m━━━━━━━━━━━━━━━━━━━━\u001b[0m\u001b[37m\u001b[0m \u001b[1m0s\u001b[0m 127ms/step - loss: 0.0059\n",
      "Epoch 12: val_loss improved from 0.00592 to 0.00576, saving model to anomaly_detection_results\\visa\\pcb2\\pcb2_visa_best_model.keras\n",
      "\u001b[1m18/18\u001b[0m \u001b[32m━━━━━━━━━━━━━━━━━━━━\u001b[0m\u001b[37m\u001b[0m \u001b[1m3s\u001b[0m 145ms/step - loss: 0.0059 - val_loss: 0.0058\n",
      "Epoch 13/20\n",
      "\u001b[1m18/18\u001b[0m \u001b[32m━━━━━━━━━━━━━━━━━━━━\u001b[0m\u001b[37m\u001b[0m \u001b[1m0s\u001b[0m 133ms/step - loss: 0.0057\n",
      "Epoch 13: val_loss improved from 0.00576 to 0.00560, saving model to anomaly_detection_results\\visa\\pcb2\\pcb2_visa_best_model.keras\n",
      "\u001b[1m18/18\u001b[0m \u001b[32m━━━━━━━━━━━━━━━━━━━━\u001b[0m\u001b[37m\u001b[0m \u001b[1m3s\u001b[0m 151ms/step - loss: 0.0057 - val_loss: 0.0056\n",
      "Epoch 14/20\n",
      "\u001b[1m18/18\u001b[0m \u001b[32m━━━━━━━━━━━━━━━━━━━━\u001b[0m\u001b[37m\u001b[0m \u001b[1m0s\u001b[0m 130ms/step - loss: 0.0056\n",
      "Epoch 14: val_loss improved from 0.00560 to 0.00547, saving model to anomaly_detection_results\\visa\\pcb2\\pcb2_visa_best_model.keras\n",
      "\u001b[1m18/18\u001b[0m \u001b[32m━━━━━━━━━━━━━━━━━━━━\u001b[0m\u001b[37m\u001b[0m \u001b[1m3s\u001b[0m 149ms/step - loss: 0.0056 - val_loss: 0.0055\n",
      "Epoch 15/20\n",
      "\u001b[1m18/18\u001b[0m \u001b[32m━━━━━━━━━━━━━━━━━━━━\u001b[0m\u001b[37m\u001b[0m \u001b[1m0s\u001b[0m 135ms/step - loss: 0.0054\n",
      "Epoch 15: val_loss improved from 0.00547 to 0.00536, saving model to anomaly_detection_results\\visa\\pcb2\\pcb2_visa_best_model.keras\n",
      "\u001b[1m18/18\u001b[0m \u001b[32m━━━━━━━━━━━━━━━━━━━━\u001b[0m\u001b[37m\u001b[0m \u001b[1m3s\u001b[0m 155ms/step - loss: 0.0054 - val_loss: 0.0054\n",
      "Epoch 16/20\n",
      "\u001b[1m18/18\u001b[0m \u001b[32m━━━━━━━━━━━━━━━━━━━━\u001b[0m\u001b[37m\u001b[0m \u001b[1m0s\u001b[0m 135ms/step - loss: 0.0053\n",
      "Epoch 16: val_loss improved from 0.00536 to 0.00525, saving model to anomaly_detection_results\\visa\\pcb2\\pcb2_visa_best_model.keras\n",
      "\u001b[1m18/18\u001b[0m \u001b[32m━━━━━━━━━━━━━━━━━━━━\u001b[0m\u001b[37m\u001b[0m \u001b[1m3s\u001b[0m 156ms/step - loss: 0.0053 - val_loss: 0.0052\n",
      "Epoch 17/20\n",
      "\u001b[1m18/18\u001b[0m \u001b[32m━━━━━━━━━━━━━━━━━━━━\u001b[0m\u001b[37m\u001b[0m \u001b[1m0s\u001b[0m 141ms/step - loss: 0.0053\n",
      "Epoch 17: val_loss did not improve from 0.00525\n",
      "\u001b[1m18/18\u001b[0m \u001b[32m━━━━━━━━━━━━━━━━━━━━\u001b[0m\u001b[37m\u001b[0m \u001b[1m3s\u001b[0m 160ms/step - loss: 0.0053 - val_loss: 0.0053\n",
      "Epoch 18/20\n",
      "\u001b[1m18/18\u001b[0m \u001b[32m━━━━━━━━━━━━━━━━━━━━\u001b[0m\u001b[37m\u001b[0m \u001b[1m0s\u001b[0m 128ms/step - loss: 0.0052\n",
      "Epoch 18: val_loss improved from 0.00525 to 0.00506, saving model to anomaly_detection_results\\visa\\pcb2\\pcb2_visa_best_model.keras\n",
      "\u001b[1m18/18\u001b[0m \u001b[32m━━━━━━━━━━━━━━━━━━━━\u001b[0m\u001b[37m\u001b[0m \u001b[1m3s\u001b[0m 146ms/step - loss: 0.0052 - val_loss: 0.0051\n",
      "Epoch 19/20\n",
      "\u001b[1m18/18\u001b[0m \u001b[32m━━━━━━━━━━━━━━━━━━━━\u001b[0m\u001b[37m\u001b[0m \u001b[1m0s\u001b[0m 126ms/step - loss: 0.0051\n",
      "Epoch 19: val_loss improved from 0.00506 to 0.00498, saving model to anomaly_detection_results\\visa\\pcb2\\pcb2_visa_best_model.keras\n",
      "\u001b[1m18/18\u001b[0m \u001b[32m━━━━━━━━━━━━━━━━━━━━\u001b[0m\u001b[37m\u001b[0m \u001b[1m3s\u001b[0m 145ms/step - loss: 0.0051 - val_loss: 0.0050\n",
      "Epoch 20/20\n",
      "\u001b[1m18/18\u001b[0m \u001b[32m━━━━━━━━━━━━━━━━━━━━\u001b[0m\u001b[37m\u001b[0m \u001b[1m0s\u001b[0m 128ms/step - loss: 0.0050\n",
      "Epoch 20: val_loss improved from 0.00498 to 0.00491, saving model to anomaly_detection_results\\visa\\pcb2\\pcb2_visa_best_model.keras\n",
      "\u001b[1m18/18\u001b[0m \u001b[32m━━━━━━━━━━━━━━━━━━━━\u001b[0m\u001b[37m\u001b[0m \u001b[1m3s\u001b[0m 147ms/step - loss: 0.0050 - val_loss: 0.0049\n",
      "Eğitim tamamlandı. Süre: 54.98 saniye\n",
      "En iyi model yüklendi: anomaly_detection_results\\visa\\pcb2\\pcb2_visa_best_model.keras\n",
      "Eğitim geçmişi grafiği kaydedildi: anomaly_detection_results\\visa\\pcb2\\pcb2_visa_training_history.png\n",
      "Rekonstrüksiyon başlatılıyor...\n",
      "\u001b[1m13/13\u001b[0m \u001b[32m━━━━━━━━━━━━━━━━━━━━\u001b[0m\u001b[37m\u001b[0m \u001b[1m1s\u001b[0m 63ms/step\n",
      "Anomali eşik değeri (95. yüzdelik): 0.005413\n",
      "Doğruluk (Accuracy): 0.7250\n",
      "Hassasiyet (Precision): 0.2500\n",
      "Duyarlılık (Recall): 0.0500\n",
      "F1 Skoru: 0.0833\n",
      "ROC AUC: 0.5164\n",
      "\n",
      "pcb2 (visa) için analiz sonuçları görselleştiriliyor...\n",
      "Rekonstrüksiyon sonuçları kaydedildi: anomaly_detection_results\\visa\\pcb2\\pcb2_visa_reconstruction_results.png\n",
      "Normal örnekler MSE - Min: 0.004084, Max: 0.005937, Ortalama: 0.004927\n",
      "Anomali örnekler MSE - Min: 0.004274, Max: 0.005564, Ortalama: 0.004945\n",
      "MSE karşılaştırma histogramı kaydedildi: anomaly_detection_results\\visa\\pcb2\\pcb2_visa_mse_comparison_histogram.png\n",
      "ROC eğrisi kaydedildi: anomaly_detection_results\\visa\\pcb2\\pcb2_visa_roc_curve.png\n",
      "Karışıklık matrisi kaydedildi: anomaly_detection_results\\visa\\pcb2\\pcb2_visa_confusion_matrix.png\n",
      "anomaly kusur tipi detaylı analizi kaydedildi: anomaly_detection_results\\visa\\pcb2\\pcb2_visa_anomaly_detailed_analysis.png\n",
      "Kusur tipi metrikleri kaydedildi: anomaly_detection_results\\visa\\pcb2\\pcb2_visa_defect_type_metrics.png\n",
      "Kusur tipine göre MSE dağılımı kaydedildi: anomaly_detection_results\\visa\\pcb2\\pcb2_visa_defect_type_mse_distribution.png\n",
      "Sonuçlar başarıyla kaydedildi: anomaly_detection_results\\visa\\pcb2\n",
      "VisA: pcb2 kategorisi başarıyla işlendi.\n",
      "\n",
      "==================================================\n",
      "İşleniyor: pcb3 (VISA veri seti)\n",
      "==================================================\n",
      "VisA kategori dizini: C:\\Users\\Tansu\\OneDrive\\Masaüstü\\visa\\pcb3\n",
      "VisA görüntü dizini: C:\\Users\\Tansu\\OneDrive\\Masaüstü\\visa\\pcb3\\data\\images\n",
      "VisA normal görüntü dizini: C:\\Users\\Tansu\\OneDrive\\Masaüstü\\visa\\pcb3\\data\\images\\normal\n",
      "VisA anomali görüntü dizini: C:\\Users\\Tansu\\OneDrive\\Masaüstü\\visa\\pcb3\\data\\images\\anomaly\n"
     ]
    },
    {
     "name": "stderr",
     "output_type": "stream",
     "text": [
      "pcb3 (VisA): Normal görüntüleri yükleme: 100%|██████████| 1006/1006 [00:22<00:00, 44.83it/s]\n",
      "pcb3 (VisA): Anomali görüntüleri yükleme: 100%|██████████| 100/100 [00:02<00:00, 44.90it/s]"
     ]
    },
    {
     "name": "stdout",
     "output_type": "stream",
     "text": [
      "VisA Eğitim veriseti: (705, 128, 128) - Min: 1, Max: 255\n",
      "VisA Test veriseti: (401, 128, 128) - Min: 0, Max: 255\n",
      "VisA Test etiketleri: (401,)\n",
      "VisA Anomali sayısı: 100\n",
      "VisA Normal test örneği sayısı: 301\n",
      "\n",
      "pcb3 (visa) için görselleştirmeler oluşturuluyor...\n",
      "UYARI: 'C:\\Users\\Tansu\\OneDrive\\Masaüstü\\visa\\pcb3\\test\\good' dizini bulunamadı. Normal örnekler için test dizini kullanılıyor.\n",
      "UYARI: 'pcb3' için kusur tipi bulunamadı.\n",
      "UYARI: 'C:\\Users\\Tansu\\OneDrive\\Masaüstü\\visa\\pcb3\\test' dizini bulunamadı.\n"
     ]
    },
    {
     "name": "stderr",
     "output_type": "stream",
     "text": [
      "\n"
     ]
    },
    {
     "data": {
      "text/html": [
       "<pre style=\"white-space:pre;overflow-x:auto;line-height:normal;font-family:Menlo,'DejaVu Sans Mono',consolas,'Courier New',monospace\"><span style=\"font-weight: bold\">Model: \"functional_20\"</span>\n",
       "</pre>\n"
      ],
      "text/plain": [
       "\u001b[1mModel: \"functional_20\"\u001b[0m\n"
      ]
     },
     "metadata": {},
     "output_type": "display_data"
    },
    {
     "data": {
      "text/html": [
       "<pre style=\"white-space:pre;overflow-x:auto;line-height:normal;font-family:Menlo,'DejaVu Sans Mono',consolas,'Courier New',monospace\">┏━━━━━━━━━━━━━━━━━━━━━━━━━━━━━━━━━┳━━━━━━━━━━━━━━━━━━━━━━━━┳━━━━━━━━━━━━━━━┓\n",
       "┃<span style=\"font-weight: bold\"> Layer (type)                    </span>┃<span style=\"font-weight: bold\"> Output Shape           </span>┃<span style=\"font-weight: bold\">       Param # </span>┃\n",
       "┡━━━━━━━━━━━━━━━━━━━━━━━━━━━━━━━━━╇━━━━━━━━━━━━━━━━━━━━━━━━╇━━━━━━━━━━━━━━━┩\n",
       "│ input_layer (<span style=\"color: #0087ff; text-decoration-color: #0087ff\">InputLayer</span>)        │ (<span style=\"color: #00d7ff; text-decoration-color: #00d7ff\">None</span>, <span style=\"color: #00af00; text-decoration-color: #00af00\">128</span>, <span style=\"color: #00af00; text-decoration-color: #00af00\">128</span>, <span style=\"color: #00af00; text-decoration-color: #00af00\">1</span>)    │             <span style=\"color: #00af00; text-decoration-color: #00af00\">0</span> │\n",
       "├─────────────────────────────────┼────────────────────────┼───────────────┤\n",
       "│ conv2d_100 (<span style=\"color: #0087ff; text-decoration-color: #0087ff\">Conv2D</span>)             │ (<span style=\"color: #00d7ff; text-decoration-color: #00d7ff\">None</span>, <span style=\"color: #00af00; text-decoration-color: #00af00\">128</span>, <span style=\"color: #00af00; text-decoration-color: #00af00\">128</span>, <span style=\"color: #00af00; text-decoration-color: #00af00\">32</span>)   │           <span style=\"color: #00af00; text-decoration-color: #00af00\">320</span> │\n",
       "├─────────────────────────────────┼────────────────────────┼───────────────┤\n",
       "│ max_pooling2d_40 (<span style=\"color: #0087ff; text-decoration-color: #0087ff\">MaxPooling2D</span>) │ (<span style=\"color: #00d7ff; text-decoration-color: #00d7ff\">None</span>, <span style=\"color: #00af00; text-decoration-color: #00af00\">64</span>, <span style=\"color: #00af00; text-decoration-color: #00af00\">64</span>, <span style=\"color: #00af00; text-decoration-color: #00af00\">32</span>)     │             <span style=\"color: #00af00; text-decoration-color: #00af00\">0</span> │\n",
       "├─────────────────────────────────┼────────────────────────┼───────────────┤\n",
       "│ conv2d_101 (<span style=\"color: #0087ff; text-decoration-color: #0087ff\">Conv2D</span>)             │ (<span style=\"color: #00d7ff; text-decoration-color: #00d7ff\">None</span>, <span style=\"color: #00af00; text-decoration-color: #00af00\">64</span>, <span style=\"color: #00af00; text-decoration-color: #00af00\">64</span>, <span style=\"color: #00af00; text-decoration-color: #00af00\">16</span>)     │         <span style=\"color: #00af00; text-decoration-color: #00af00\">4,624</span> │\n",
       "├─────────────────────────────────┼────────────────────────┼───────────────┤\n",
       "│ max_pooling2d_41 (<span style=\"color: #0087ff; text-decoration-color: #0087ff\">MaxPooling2D</span>) │ (<span style=\"color: #00d7ff; text-decoration-color: #00d7ff\">None</span>, <span style=\"color: #00af00; text-decoration-color: #00af00\">32</span>, <span style=\"color: #00af00; text-decoration-color: #00af00\">32</span>, <span style=\"color: #00af00; text-decoration-color: #00af00\">16</span>)     │             <span style=\"color: #00af00; text-decoration-color: #00af00\">0</span> │\n",
       "├─────────────────────────────────┼────────────────────────┼───────────────┤\n",
       "│ conv2d_102 (<span style=\"color: #0087ff; text-decoration-color: #0087ff\">Conv2D</span>)             │ (<span style=\"color: #00d7ff; text-decoration-color: #00d7ff\">None</span>, <span style=\"color: #00af00; text-decoration-color: #00af00\">32</span>, <span style=\"color: #00af00; text-decoration-color: #00af00\">32</span>, <span style=\"color: #00af00; text-decoration-color: #00af00\">16</span>)     │         <span style=\"color: #00af00; text-decoration-color: #00af00\">2,320</span> │\n",
       "├─────────────────────────────────┼────────────────────────┼───────────────┤\n",
       "│ up_sampling2d_40 (<span style=\"color: #0087ff; text-decoration-color: #0087ff\">UpSampling2D</span>) │ (<span style=\"color: #00d7ff; text-decoration-color: #00d7ff\">None</span>, <span style=\"color: #00af00; text-decoration-color: #00af00\">64</span>, <span style=\"color: #00af00; text-decoration-color: #00af00\">64</span>, <span style=\"color: #00af00; text-decoration-color: #00af00\">16</span>)     │             <span style=\"color: #00af00; text-decoration-color: #00af00\">0</span> │\n",
       "├─────────────────────────────────┼────────────────────────┼───────────────┤\n",
       "│ conv2d_103 (<span style=\"color: #0087ff; text-decoration-color: #0087ff\">Conv2D</span>)             │ (<span style=\"color: #00d7ff; text-decoration-color: #00d7ff\">None</span>, <span style=\"color: #00af00; text-decoration-color: #00af00\">64</span>, <span style=\"color: #00af00; text-decoration-color: #00af00\">64</span>, <span style=\"color: #00af00; text-decoration-color: #00af00\">32</span>)     │         <span style=\"color: #00af00; text-decoration-color: #00af00\">4,640</span> │\n",
       "├─────────────────────────────────┼────────────────────────┼───────────────┤\n",
       "│ up_sampling2d_41 (<span style=\"color: #0087ff; text-decoration-color: #0087ff\">UpSampling2D</span>) │ (<span style=\"color: #00d7ff; text-decoration-color: #00d7ff\">None</span>, <span style=\"color: #00af00; text-decoration-color: #00af00\">128</span>, <span style=\"color: #00af00; text-decoration-color: #00af00\">128</span>, <span style=\"color: #00af00; text-decoration-color: #00af00\">32</span>)   │             <span style=\"color: #00af00; text-decoration-color: #00af00\">0</span> │\n",
       "├─────────────────────────────────┼────────────────────────┼───────────────┤\n",
       "│ conv2d_104 (<span style=\"color: #0087ff; text-decoration-color: #0087ff\">Conv2D</span>)             │ (<span style=\"color: #00d7ff; text-decoration-color: #00d7ff\">None</span>, <span style=\"color: #00af00; text-decoration-color: #00af00\">128</span>, <span style=\"color: #00af00; text-decoration-color: #00af00\">128</span>, <span style=\"color: #00af00; text-decoration-color: #00af00\">1</span>)    │           <span style=\"color: #00af00; text-decoration-color: #00af00\">289</span> │\n",
       "└─────────────────────────────────┴────────────────────────┴───────────────┘\n",
       "</pre>\n"
      ],
      "text/plain": [
       "┏━━━━━━━━━━━━━━━━━━━━━━━━━━━━━━━━━┳━━━━━━━━━━━━━━━━━━━━━━━━┳━━━━━━━━━━━━━━━┓\n",
       "┃\u001b[1m \u001b[0m\u001b[1mLayer (type)                   \u001b[0m\u001b[1m \u001b[0m┃\u001b[1m \u001b[0m\u001b[1mOutput Shape          \u001b[0m\u001b[1m \u001b[0m┃\u001b[1m \u001b[0m\u001b[1m      Param #\u001b[0m\u001b[1m \u001b[0m┃\n",
       "┡━━━━━━━━━━━━━━━━━━━━━━━━━━━━━━━━━╇━━━━━━━━━━━━━━━━━━━━━━━━╇━━━━━━━━━━━━━━━┩\n",
       "│ input_layer (\u001b[38;5;33mInputLayer\u001b[0m)        │ (\u001b[38;5;45mNone\u001b[0m, \u001b[38;5;34m128\u001b[0m, \u001b[38;5;34m128\u001b[0m, \u001b[38;5;34m1\u001b[0m)    │             \u001b[38;5;34m0\u001b[0m │\n",
       "├─────────────────────────────────┼────────────────────────┼───────────────┤\n",
       "│ conv2d_100 (\u001b[38;5;33mConv2D\u001b[0m)             │ (\u001b[38;5;45mNone\u001b[0m, \u001b[38;5;34m128\u001b[0m, \u001b[38;5;34m128\u001b[0m, \u001b[38;5;34m32\u001b[0m)   │           \u001b[38;5;34m320\u001b[0m │\n",
       "├─────────────────────────────────┼────────────────────────┼───────────────┤\n",
       "│ max_pooling2d_40 (\u001b[38;5;33mMaxPooling2D\u001b[0m) │ (\u001b[38;5;45mNone\u001b[0m, \u001b[38;5;34m64\u001b[0m, \u001b[38;5;34m64\u001b[0m, \u001b[38;5;34m32\u001b[0m)     │             \u001b[38;5;34m0\u001b[0m │\n",
       "├─────────────────────────────────┼────────────────────────┼───────────────┤\n",
       "│ conv2d_101 (\u001b[38;5;33mConv2D\u001b[0m)             │ (\u001b[38;5;45mNone\u001b[0m, \u001b[38;5;34m64\u001b[0m, \u001b[38;5;34m64\u001b[0m, \u001b[38;5;34m16\u001b[0m)     │         \u001b[38;5;34m4,624\u001b[0m │\n",
       "├─────────────────────────────────┼────────────────────────┼───────────────┤\n",
       "│ max_pooling2d_41 (\u001b[38;5;33mMaxPooling2D\u001b[0m) │ (\u001b[38;5;45mNone\u001b[0m, \u001b[38;5;34m32\u001b[0m, \u001b[38;5;34m32\u001b[0m, \u001b[38;5;34m16\u001b[0m)     │             \u001b[38;5;34m0\u001b[0m │\n",
       "├─────────────────────────────────┼────────────────────────┼───────────────┤\n",
       "│ conv2d_102 (\u001b[38;5;33mConv2D\u001b[0m)             │ (\u001b[38;5;45mNone\u001b[0m, \u001b[38;5;34m32\u001b[0m, \u001b[38;5;34m32\u001b[0m, \u001b[38;5;34m16\u001b[0m)     │         \u001b[38;5;34m2,320\u001b[0m │\n",
       "├─────────────────────────────────┼────────────────────────┼───────────────┤\n",
       "│ up_sampling2d_40 (\u001b[38;5;33mUpSampling2D\u001b[0m) │ (\u001b[38;5;45mNone\u001b[0m, \u001b[38;5;34m64\u001b[0m, \u001b[38;5;34m64\u001b[0m, \u001b[38;5;34m16\u001b[0m)     │             \u001b[38;5;34m0\u001b[0m │\n",
       "├─────────────────────────────────┼────────────────────────┼───────────────┤\n",
       "│ conv2d_103 (\u001b[38;5;33mConv2D\u001b[0m)             │ (\u001b[38;5;45mNone\u001b[0m, \u001b[38;5;34m64\u001b[0m, \u001b[38;5;34m64\u001b[0m, \u001b[38;5;34m32\u001b[0m)     │         \u001b[38;5;34m4,640\u001b[0m │\n",
       "├─────────────────────────────────┼────────────────────────┼───────────────┤\n",
       "│ up_sampling2d_41 (\u001b[38;5;33mUpSampling2D\u001b[0m) │ (\u001b[38;5;45mNone\u001b[0m, \u001b[38;5;34m128\u001b[0m, \u001b[38;5;34m128\u001b[0m, \u001b[38;5;34m32\u001b[0m)   │             \u001b[38;5;34m0\u001b[0m │\n",
       "├─────────────────────────────────┼────────────────────────┼───────────────┤\n",
       "│ conv2d_104 (\u001b[38;5;33mConv2D\u001b[0m)             │ (\u001b[38;5;45mNone\u001b[0m, \u001b[38;5;34m128\u001b[0m, \u001b[38;5;34m128\u001b[0m, \u001b[38;5;34m1\u001b[0m)    │           \u001b[38;5;34m289\u001b[0m │\n",
       "└─────────────────────────────────┴────────────────────────┴───────────────┘\n"
      ]
     },
     "metadata": {},
     "output_type": "display_data"
    },
    {
     "data": {
      "text/html": [
       "<pre style=\"white-space:pre;overflow-x:auto;line-height:normal;font-family:Menlo,'DejaVu Sans Mono',consolas,'Courier New',monospace\"><span style=\"font-weight: bold\"> Total params: </span><span style=\"color: #00af00; text-decoration-color: #00af00\">12,193</span> (47.63 KB)\n",
       "</pre>\n"
      ],
      "text/plain": [
       "\u001b[1m Total params: \u001b[0m\u001b[38;5;34m12,193\u001b[0m (47.63 KB)\n"
      ]
     },
     "metadata": {},
     "output_type": "display_data"
    },
    {
     "data": {
      "text/html": [
       "<pre style=\"white-space:pre;overflow-x:auto;line-height:normal;font-family:Menlo,'DejaVu Sans Mono',consolas,'Courier New',monospace\"><span style=\"font-weight: bold\"> Trainable params: </span><span style=\"color: #00af00; text-decoration-color: #00af00\">12,193</span> (47.63 KB)\n",
       "</pre>\n"
      ],
      "text/plain": [
       "\u001b[1m Trainable params: \u001b[0m\u001b[38;5;34m12,193\u001b[0m (47.63 KB)\n"
      ]
     },
     "metadata": {},
     "output_type": "display_data"
    },
    {
     "data": {
      "text/html": [
       "<pre style=\"white-space:pre;overflow-x:auto;line-height:normal;font-family:Menlo,'DejaVu Sans Mono',consolas,'Courier New',monospace\"><span style=\"font-weight: bold\"> Non-trainable params: </span><span style=\"color: #00af00; text-decoration-color: #00af00\">0</span> (0.00 B)\n",
       "</pre>\n"
      ],
      "text/plain": [
       "\u001b[1m Non-trainable params: \u001b[0m\u001b[38;5;34m0\u001b[0m (0.00 B)\n"
      ]
     },
     "metadata": {},
     "output_type": "display_data"
    },
    {
     "name": "stdout",
     "output_type": "stream",
     "text": [
      "Epoch 1/20\n",
      "\u001b[1m18/18\u001b[0m \u001b[32m━━━━━━━━━━━━━━━━━━━━\u001b[0m\u001b[37m\u001b[0m \u001b[1m0s\u001b[0m 131ms/step - loss: 0.0257\n",
      "Epoch 1: val_loss improved from inf to 0.01697, saving model to anomaly_detection_results\\visa\\pcb3\\pcb3_visa_best_model.keras\n",
      "\u001b[1m18/18\u001b[0m \u001b[32m━━━━━━━━━━━━━━━━━━━━\u001b[0m\u001b[37m\u001b[0m \u001b[1m4s\u001b[0m 167ms/step - loss: 0.0254 - val_loss: 0.0170\n",
      "Epoch 2/20\n",
      "\u001b[1m18/18\u001b[0m \u001b[32m━━━━━━━━━━━━━━━━━━━━\u001b[0m\u001b[37m\u001b[0m \u001b[1m0s\u001b[0m 127ms/step - loss: 0.0163\n",
      "Epoch 2: val_loss improved from 0.01697 to 0.01422, saving model to anomaly_detection_results\\visa\\pcb3\\pcb3_visa_best_model.keras\n",
      "\u001b[1m18/18\u001b[0m \u001b[32m━━━━━━━━━━━━━━━━━━━━\u001b[0m\u001b[37m\u001b[0m \u001b[1m3s\u001b[0m 148ms/step - loss: 0.0163 - val_loss: 0.0142\n",
      "Epoch 3/20\n",
      "\u001b[1m18/18\u001b[0m \u001b[32m━━━━━━━━━━━━━━━━━━━━\u001b[0m\u001b[37m\u001b[0m \u001b[1m0s\u001b[0m 130ms/step - loss: 0.0129\n",
      "Epoch 3: val_loss improved from 0.01422 to 0.00862, saving model to anomaly_detection_results\\visa\\pcb3\\pcb3_visa_best_model.keras\n",
      "\u001b[1m18/18\u001b[0m \u001b[32m━━━━━━━━━━━━━━━━━━━━\u001b[0m\u001b[37m\u001b[0m \u001b[1m3s\u001b[0m 149ms/step - loss: 0.0128 - val_loss: 0.0086\n",
      "Epoch 4/20\n",
      "\u001b[1m18/18\u001b[0m \u001b[32m━━━━━━━━━━━━━━━━━━━━\u001b[0m\u001b[37m\u001b[0m \u001b[1m0s\u001b[0m 127ms/step - loss: 0.0078\n",
      "Epoch 4: val_loss improved from 0.00862 to 0.00663, saving model to anomaly_detection_results\\visa\\pcb3\\pcb3_visa_best_model.keras\n",
      "\u001b[1m18/18\u001b[0m \u001b[32m━━━━━━━━━━━━━━━━━━━━\u001b[0m\u001b[37m\u001b[0m \u001b[1m3s\u001b[0m 146ms/step - loss: 0.0078 - val_loss: 0.0066\n",
      "Epoch 5/20\n",
      "\u001b[1m18/18\u001b[0m \u001b[32m━━━━━━━━━━━━━━━━━━━━\u001b[0m\u001b[37m\u001b[0m \u001b[1m0s\u001b[0m 126ms/step - loss: 0.0062\n",
      "Epoch 5: val_loss improved from 0.00663 to 0.00531, saving model to anomaly_detection_results\\visa\\pcb3\\pcb3_visa_best_model.keras\n",
      "\u001b[1m18/18\u001b[0m \u001b[32m━━━━━━━━━━━━━━━━━━━━\u001b[0m\u001b[37m\u001b[0m \u001b[1m3s\u001b[0m 147ms/step - loss: 0.0062 - val_loss: 0.0053\n",
      "Epoch 6/20\n",
      "\u001b[1m18/18\u001b[0m \u001b[32m━━━━━━━━━━━━━━━━━━━━\u001b[0m\u001b[37m\u001b[0m \u001b[1m0s\u001b[0m 126ms/step - loss: 0.0051\n",
      "Epoch 6: val_loss improved from 0.00531 to 0.00473, saving model to anomaly_detection_results\\visa\\pcb3\\pcb3_visa_best_model.keras\n",
      "\u001b[1m18/18\u001b[0m \u001b[32m━━━━━━━━━━━━━━━━━━━━\u001b[0m\u001b[37m\u001b[0m \u001b[1m3s\u001b[0m 145ms/step - loss: 0.0051 - val_loss: 0.0047\n",
      "Epoch 7/20\n",
      "\u001b[1m18/18\u001b[0m \u001b[32m━━━━━━━━━━━━━━━━━━━━\u001b[0m\u001b[37m\u001b[0m \u001b[1m0s\u001b[0m 129ms/step - loss: 0.0046\n",
      "Epoch 7: val_loss improved from 0.00473 to 0.00442, saving model to anomaly_detection_results\\visa\\pcb3\\pcb3_visa_best_model.keras\n",
      "\u001b[1m18/18\u001b[0m \u001b[32m━━━━━━━━━━━━━━━━━━━━\u001b[0m\u001b[37m\u001b[0m \u001b[1m3s\u001b[0m 149ms/step - loss: 0.0046 - val_loss: 0.0044\n",
      "Epoch 8/20\n",
      "\u001b[1m18/18\u001b[0m \u001b[32m━━━━━━━━━━━━━━━━━━━━\u001b[0m\u001b[37m\u001b[0m \u001b[1m0s\u001b[0m 135ms/step - loss: 0.0043\n",
      "Epoch 8: val_loss improved from 0.00442 to 0.00418, saving model to anomaly_detection_results\\visa\\pcb3\\pcb3_visa_best_model.keras\n",
      "\u001b[1m18/18\u001b[0m \u001b[32m━━━━━━━━━━━━━━━━━━━━\u001b[0m\u001b[37m\u001b[0m \u001b[1m3s\u001b[0m 156ms/step - loss: 0.0043 - val_loss: 0.0042\n",
      "Epoch 9/20\n",
      "\u001b[1m18/18\u001b[0m \u001b[32m━━━━━━━━━━━━━━━━━━━━\u001b[0m\u001b[37m\u001b[0m \u001b[1m0s\u001b[0m 132ms/step - loss: 0.0041\n",
      "Epoch 9: val_loss improved from 0.00418 to 0.00402, saving model to anomaly_detection_results\\visa\\pcb3\\pcb3_visa_best_model.keras\n",
      "\u001b[1m18/18\u001b[0m \u001b[32m━━━━━━━━━━━━━━━━━━━━\u001b[0m\u001b[37m\u001b[0m \u001b[1m3s\u001b[0m 151ms/step - loss: 0.0041 - val_loss: 0.0040\n",
      "Epoch 10/20\n",
      "\u001b[1m18/18\u001b[0m \u001b[32m━━━━━━━━━━━━━━━━━━━━\u001b[0m\u001b[37m\u001b[0m \u001b[1m0s\u001b[0m 126ms/step - loss: 0.0040\n",
      "Epoch 10: val_loss improved from 0.00402 to 0.00390, saving model to anomaly_detection_results\\visa\\pcb3\\pcb3_visa_best_model.keras\n",
      "\u001b[1m18/18\u001b[0m \u001b[32m━━━━━━━━━━━━━━━━━━━━\u001b[0m\u001b[37m\u001b[0m \u001b[1m3s\u001b[0m 147ms/step - loss: 0.0040 - val_loss: 0.0039\n",
      "Epoch 11/20\n",
      "\u001b[1m18/18\u001b[0m \u001b[32m━━━━━━━━━━━━━━━━━━━━\u001b[0m\u001b[37m\u001b[0m \u001b[1m0s\u001b[0m 127ms/step - loss: 0.0038\n",
      "Epoch 11: val_loss improved from 0.00390 to 0.00379, saving model to anomaly_detection_results\\visa\\pcb3\\pcb3_visa_best_model.keras\n",
      "\u001b[1m18/18\u001b[0m \u001b[32m━━━━━━━━━━━━━━━━━━━━\u001b[0m\u001b[37m\u001b[0m \u001b[1m3s\u001b[0m 145ms/step - loss: 0.0038 - val_loss: 0.0038\n",
      "Epoch 12/20\n",
      "\u001b[1m18/18\u001b[0m \u001b[32m━━━━━━━━━━━━━━━━━━━━\u001b[0m\u001b[37m\u001b[0m \u001b[1m0s\u001b[0m 126ms/step - loss: 0.0037\n",
      "Epoch 12: val_loss improved from 0.00379 to 0.00372, saving model to anomaly_detection_results\\visa\\pcb3\\pcb3_visa_best_model.keras\n",
      "\u001b[1m18/18\u001b[0m \u001b[32m━━━━━━━━━━━━━━━━━━━━\u001b[0m\u001b[37m\u001b[0m \u001b[1m3s\u001b[0m 145ms/step - loss: 0.0037 - val_loss: 0.0037\n",
      "Epoch 13/20\n",
      "\u001b[1m18/18\u001b[0m \u001b[32m━━━━━━━━━━━━━━━━━━━━\u001b[0m\u001b[37m\u001b[0m \u001b[1m0s\u001b[0m 131ms/step - loss: 0.0037\n",
      "Epoch 13: val_loss improved from 0.00372 to 0.00370, saving model to anomaly_detection_results\\visa\\pcb3\\pcb3_visa_best_model.keras\n",
      "\u001b[1m18/18\u001b[0m \u001b[32m━━━━━━━━━━━━━━━━━━━━\u001b[0m\u001b[37m\u001b[0m \u001b[1m3s\u001b[0m 152ms/step - loss: 0.0037 - val_loss: 0.0037\n",
      "Epoch 14/20\n",
      "\u001b[1m18/18\u001b[0m \u001b[32m━━━━━━━━━━━━━━━━━━━━\u001b[0m\u001b[37m\u001b[0m \u001b[1m0s\u001b[0m 132ms/step - loss: 0.0036\n",
      "Epoch 14: val_loss improved from 0.00370 to 0.00361, saving model to anomaly_detection_results\\visa\\pcb3\\pcb3_visa_best_model.keras\n",
      "\u001b[1m18/18\u001b[0m \u001b[32m━━━━━━━━━━━━━━━━━━━━\u001b[0m\u001b[37m\u001b[0m \u001b[1m3s\u001b[0m 155ms/step - loss: 0.0036 - val_loss: 0.0036\n",
      "Epoch 15/20\n",
      "\u001b[1m18/18\u001b[0m \u001b[32m━━━━━━━━━━━━━━━━━━━━\u001b[0m\u001b[37m\u001b[0m \u001b[1m0s\u001b[0m 134ms/step - loss: 0.0036\n",
      "Epoch 15: val_loss did not improve from 0.00361\n",
      "\u001b[1m18/18\u001b[0m \u001b[32m━━━━━━━━━━━━━━━━━━━━\u001b[0m\u001b[37m\u001b[0m \u001b[1m3s\u001b[0m 151ms/step - loss: 0.0036 - val_loss: 0.0036\n",
      "Epoch 16/20\n",
      "\u001b[1m18/18\u001b[0m \u001b[32m━━━━━━━━━━━━━━━━━━━━\u001b[0m\u001b[37m\u001b[0m \u001b[1m0s\u001b[0m 127ms/step - loss: 0.0036\n",
      "Epoch 16: val_loss improved from 0.00361 to 0.00352, saving model to anomaly_detection_results\\visa\\pcb3\\pcb3_visa_best_model.keras\n",
      "\u001b[1m18/18\u001b[0m \u001b[32m━━━━━━━━━━━━━━━━━━━━\u001b[0m\u001b[37m\u001b[0m \u001b[1m3s\u001b[0m 146ms/step - loss: 0.0036 - val_loss: 0.0035\n",
      "Epoch 17/20\n",
      "\u001b[1m18/18\u001b[0m \u001b[32m━━━━━━━━━━━━━━━━━━━━\u001b[0m\u001b[37m\u001b[0m \u001b[1m0s\u001b[0m 130ms/step - loss: 0.0035\n",
      "Epoch 17: val_loss improved from 0.00352 to 0.00348, saving model to anomaly_detection_results\\visa\\pcb3\\pcb3_visa_best_model.keras\n",
      "\u001b[1m18/18\u001b[0m \u001b[32m━━━━━━━━━━━━━━━━━━━━\u001b[0m\u001b[37m\u001b[0m \u001b[1m3s\u001b[0m 149ms/step - loss: 0.0035 - val_loss: 0.0035\n",
      "Epoch 18/20\n",
      "\u001b[1m18/18\u001b[0m \u001b[32m━━━━━━━━━━━━━━━━━━━━\u001b[0m\u001b[37m\u001b[0m \u001b[1m0s\u001b[0m 130ms/step - loss: 0.0034\n",
      "Epoch 18: val_loss improved from 0.00348 to 0.00346, saving model to anomaly_detection_results\\visa\\pcb3\\pcb3_visa_best_model.keras\n",
      "\u001b[1m18/18\u001b[0m \u001b[32m━━━━━━━━━━━━━━━━━━━━\u001b[0m\u001b[37m\u001b[0m \u001b[1m3s\u001b[0m 149ms/step - loss: 0.0034 - val_loss: 0.0035\n",
      "Epoch 19/20\n",
      "\u001b[1m18/18\u001b[0m \u001b[32m━━━━━━━━━━━━━━━━━━━━\u001b[0m\u001b[37m\u001b[0m \u001b[1m0s\u001b[0m 132ms/step - loss: 0.0034\n",
      "Epoch 19: val_loss improved from 0.00346 to 0.00345, saving model to anomaly_detection_results\\visa\\pcb3\\pcb3_visa_best_model.keras\n",
      "\u001b[1m18/18\u001b[0m \u001b[32m━━━━━━━━━━━━━━━━━━━━\u001b[0m\u001b[37m\u001b[0m \u001b[1m3s\u001b[0m 153ms/step - loss: 0.0034 - val_loss: 0.0034\n",
      "Epoch 20/20\n",
      "\u001b[1m18/18\u001b[0m \u001b[32m━━━━━━━━━━━━━━━━━━━━\u001b[0m\u001b[37m\u001b[0m \u001b[1m0s\u001b[0m 134ms/step - loss: 0.0034\n",
      "Epoch 20: val_loss improved from 0.00345 to 0.00339, saving model to anomaly_detection_results\\visa\\pcb3\\pcb3_visa_best_model.keras\n",
      "\u001b[1m18/18\u001b[0m \u001b[32m━━━━━━━━━━━━━━━━━━━━\u001b[0m\u001b[37m\u001b[0m \u001b[1m3s\u001b[0m 156ms/step - loss: 0.0034 - val_loss: 0.0034\n",
      "Eğitim tamamlandı. Süre: 55.36 saniye\n",
      "En iyi model yüklendi: anomaly_detection_results\\visa\\pcb3\\pcb3_visa_best_model.keras\n",
      "Eğitim geçmişi grafiği kaydedildi: anomaly_detection_results\\visa\\pcb3\\pcb3_visa_training_history.png\n",
      "Rekonstrüksiyon başlatılıyor...\n",
      "\u001b[1m13/13\u001b[0m \u001b[32m━━━━━━━━━━━━━━━━━━━━\u001b[0m\u001b[37m\u001b[0m \u001b[1m1s\u001b[0m 64ms/step\n",
      "Anomali eşik değeri (95. yüzdelik): 0.003677\n",
      "Doğruluk (Accuracy): 0.7406\n",
      "Hassasiyet (Precision): 0.4000\n",
      "Duyarlılık (Recall): 0.0800\n",
      "F1 Skoru: 0.1333\n",
      "ROC AUC: 0.4885\n",
      "\n",
      "pcb3 (visa) için analiz sonuçları görselleştiriliyor...\n",
      "Rekonstrüksiyon sonuçları kaydedildi: anomaly_detection_results\\visa\\pcb3\\pcb3_visa_reconstruction_results.png\n",
      "Normal örnekler MSE - Min: 0.002902, Max: 0.004131, Ortalama: 0.003382\n",
      "Anomali örnekler MSE - Min: 0.002762, Max: 0.003874, Ortalama: 0.003373\n",
      "MSE karşılaştırma histogramı kaydedildi: anomaly_detection_results\\visa\\pcb3\\pcb3_visa_mse_comparison_histogram.png\n",
      "ROC eğrisi kaydedildi: anomaly_detection_results\\visa\\pcb3\\pcb3_visa_roc_curve.png\n",
      "Karışıklık matrisi kaydedildi: anomaly_detection_results\\visa\\pcb3\\pcb3_visa_confusion_matrix.png\n",
      "anomaly kusur tipi detaylı analizi kaydedildi: anomaly_detection_results\\visa\\pcb3\\pcb3_visa_anomaly_detailed_analysis.png\n",
      "Kusur tipi metrikleri kaydedildi: anomaly_detection_results\\visa\\pcb3\\pcb3_visa_defect_type_metrics.png\n",
      "Kusur tipine göre MSE dağılımı kaydedildi: anomaly_detection_results\\visa\\pcb3\\pcb3_visa_defect_type_mse_distribution.png\n",
      "Sonuçlar başarıyla kaydedildi: anomaly_detection_results\\visa\\pcb3\n",
      "VisA: pcb3 kategorisi başarıyla işlendi.\n",
      "\n",
      "==================================================\n",
      "İşleniyor: pipe_fryum (VISA veri seti)\n",
      "==================================================\n",
      "VisA kategori dizini: C:\\Users\\Tansu\\OneDrive\\Masaüstü\\visa\\pipe_fryum\n",
      "VisA görüntü dizini: C:\\Users\\Tansu\\OneDrive\\Masaüstü\\visa\\pipe_fryum\\data\\images\n",
      "VisA normal görüntü dizini: C:\\Users\\Tansu\\OneDrive\\Masaüstü\\visa\\pipe_fryum\\data\\images\\normal\n",
      "VisA anomali görüntü dizini: C:\\Users\\Tansu\\OneDrive\\Masaüstü\\visa\\pipe_fryum\\data\\images\\anomaly\n"
     ]
    },
    {
     "name": "stderr",
     "output_type": "stream",
     "text": [
      "pipe_fryum (VisA): Normal görüntüleri yükleme: 100%|██████████| 500/500 [00:11<00:00, 45.11it/s]\n",
      "pipe_fryum (VisA): Anomali görüntüleri yükleme: 100%|██████████| 100/100 [00:02<00:00, 46.90it/s]"
     ]
    },
    {
     "name": "stdout",
     "output_type": "stream",
     "text": [
      "VisA Eğitim veriseti: (350, 128, 128) - Min: 6, Max: 202\n",
      "VisA Test veriseti: (250, 128, 128) - Min: 6, Max: 230\n",
      "VisA Test etiketleri: (250,)\n",
      "VisA Anomali sayısı: 100\n",
      "VisA Normal test örneği sayısı: 150\n",
      "\n",
      "pipe_fryum (visa) için görselleştirmeler oluşturuluyor...\n",
      "UYARI: 'C:\\Users\\Tansu\\OneDrive\\Masaüstü\\visa\\pipe_fryum\\test\\good' dizini bulunamadı. Normal örnekler için test dizini kullanılıyor.\n",
      "UYARI: 'pipe_fryum' için kusur tipi bulunamadı.\n",
      "UYARI: 'C:\\Users\\Tansu\\OneDrive\\Masaüstü\\visa\\pipe_fryum\\test' dizini bulunamadı.\n"
     ]
    },
    {
     "name": "stderr",
     "output_type": "stream",
     "text": [
      "\n"
     ]
    },
    {
     "data": {
      "text/html": [
       "<pre style=\"white-space:pre;overflow-x:auto;line-height:normal;font-family:Menlo,'DejaVu Sans Mono',consolas,'Courier New',monospace\"><span style=\"font-weight: bold\">Model: \"functional_21\"</span>\n",
       "</pre>\n"
      ],
      "text/plain": [
       "\u001b[1mModel: \"functional_21\"\u001b[0m\n"
      ]
     },
     "metadata": {},
     "output_type": "display_data"
    },
    {
     "data": {
      "text/html": [
       "<pre style=\"white-space:pre;overflow-x:auto;line-height:normal;font-family:Menlo,'DejaVu Sans Mono',consolas,'Courier New',monospace\">┏━━━━━━━━━━━━━━━━━━━━━━━━━━━━━━━━━┳━━━━━━━━━━━━━━━━━━━━━━━━┳━━━━━━━━━━━━━━━┓\n",
       "┃<span style=\"font-weight: bold\"> Layer (type)                    </span>┃<span style=\"font-weight: bold\"> Output Shape           </span>┃<span style=\"font-weight: bold\">       Param # </span>┃\n",
       "┡━━━━━━━━━━━━━━━━━━━━━━━━━━━━━━━━━╇━━━━━━━━━━━━━━━━━━━━━━━━╇━━━━━━━━━━━━━━━┩\n",
       "│ input_layer (<span style=\"color: #0087ff; text-decoration-color: #0087ff\">InputLayer</span>)        │ (<span style=\"color: #00d7ff; text-decoration-color: #00d7ff\">None</span>, <span style=\"color: #00af00; text-decoration-color: #00af00\">128</span>, <span style=\"color: #00af00; text-decoration-color: #00af00\">128</span>, <span style=\"color: #00af00; text-decoration-color: #00af00\">1</span>)    │             <span style=\"color: #00af00; text-decoration-color: #00af00\">0</span> │\n",
       "├─────────────────────────────────┼────────────────────────┼───────────────┤\n",
       "│ conv2d_105 (<span style=\"color: #0087ff; text-decoration-color: #0087ff\">Conv2D</span>)             │ (<span style=\"color: #00d7ff; text-decoration-color: #00d7ff\">None</span>, <span style=\"color: #00af00; text-decoration-color: #00af00\">128</span>, <span style=\"color: #00af00; text-decoration-color: #00af00\">128</span>, <span style=\"color: #00af00; text-decoration-color: #00af00\">32</span>)   │           <span style=\"color: #00af00; text-decoration-color: #00af00\">320</span> │\n",
       "├─────────────────────────────────┼────────────────────────┼───────────────┤\n",
       "│ max_pooling2d_42 (<span style=\"color: #0087ff; text-decoration-color: #0087ff\">MaxPooling2D</span>) │ (<span style=\"color: #00d7ff; text-decoration-color: #00d7ff\">None</span>, <span style=\"color: #00af00; text-decoration-color: #00af00\">64</span>, <span style=\"color: #00af00; text-decoration-color: #00af00\">64</span>, <span style=\"color: #00af00; text-decoration-color: #00af00\">32</span>)     │             <span style=\"color: #00af00; text-decoration-color: #00af00\">0</span> │\n",
       "├─────────────────────────────────┼────────────────────────┼───────────────┤\n",
       "│ conv2d_106 (<span style=\"color: #0087ff; text-decoration-color: #0087ff\">Conv2D</span>)             │ (<span style=\"color: #00d7ff; text-decoration-color: #00d7ff\">None</span>, <span style=\"color: #00af00; text-decoration-color: #00af00\">64</span>, <span style=\"color: #00af00; text-decoration-color: #00af00\">64</span>, <span style=\"color: #00af00; text-decoration-color: #00af00\">16</span>)     │         <span style=\"color: #00af00; text-decoration-color: #00af00\">4,624</span> │\n",
       "├─────────────────────────────────┼────────────────────────┼───────────────┤\n",
       "│ max_pooling2d_43 (<span style=\"color: #0087ff; text-decoration-color: #0087ff\">MaxPooling2D</span>) │ (<span style=\"color: #00d7ff; text-decoration-color: #00d7ff\">None</span>, <span style=\"color: #00af00; text-decoration-color: #00af00\">32</span>, <span style=\"color: #00af00; text-decoration-color: #00af00\">32</span>, <span style=\"color: #00af00; text-decoration-color: #00af00\">16</span>)     │             <span style=\"color: #00af00; text-decoration-color: #00af00\">0</span> │\n",
       "├─────────────────────────────────┼────────────────────────┼───────────────┤\n",
       "│ conv2d_107 (<span style=\"color: #0087ff; text-decoration-color: #0087ff\">Conv2D</span>)             │ (<span style=\"color: #00d7ff; text-decoration-color: #00d7ff\">None</span>, <span style=\"color: #00af00; text-decoration-color: #00af00\">32</span>, <span style=\"color: #00af00; text-decoration-color: #00af00\">32</span>, <span style=\"color: #00af00; text-decoration-color: #00af00\">16</span>)     │         <span style=\"color: #00af00; text-decoration-color: #00af00\">2,320</span> │\n",
       "├─────────────────────────────────┼────────────────────────┼───────────────┤\n",
       "│ up_sampling2d_42 (<span style=\"color: #0087ff; text-decoration-color: #0087ff\">UpSampling2D</span>) │ (<span style=\"color: #00d7ff; text-decoration-color: #00d7ff\">None</span>, <span style=\"color: #00af00; text-decoration-color: #00af00\">64</span>, <span style=\"color: #00af00; text-decoration-color: #00af00\">64</span>, <span style=\"color: #00af00; text-decoration-color: #00af00\">16</span>)     │             <span style=\"color: #00af00; text-decoration-color: #00af00\">0</span> │\n",
       "├─────────────────────────────────┼────────────────────────┼───────────────┤\n",
       "│ conv2d_108 (<span style=\"color: #0087ff; text-decoration-color: #0087ff\">Conv2D</span>)             │ (<span style=\"color: #00d7ff; text-decoration-color: #00d7ff\">None</span>, <span style=\"color: #00af00; text-decoration-color: #00af00\">64</span>, <span style=\"color: #00af00; text-decoration-color: #00af00\">64</span>, <span style=\"color: #00af00; text-decoration-color: #00af00\">32</span>)     │         <span style=\"color: #00af00; text-decoration-color: #00af00\">4,640</span> │\n",
       "├─────────────────────────────────┼────────────────────────┼───────────────┤\n",
       "│ up_sampling2d_43 (<span style=\"color: #0087ff; text-decoration-color: #0087ff\">UpSampling2D</span>) │ (<span style=\"color: #00d7ff; text-decoration-color: #00d7ff\">None</span>, <span style=\"color: #00af00; text-decoration-color: #00af00\">128</span>, <span style=\"color: #00af00; text-decoration-color: #00af00\">128</span>, <span style=\"color: #00af00; text-decoration-color: #00af00\">32</span>)   │             <span style=\"color: #00af00; text-decoration-color: #00af00\">0</span> │\n",
       "├─────────────────────────────────┼────────────────────────┼───────────────┤\n",
       "│ conv2d_109 (<span style=\"color: #0087ff; text-decoration-color: #0087ff\">Conv2D</span>)             │ (<span style=\"color: #00d7ff; text-decoration-color: #00d7ff\">None</span>, <span style=\"color: #00af00; text-decoration-color: #00af00\">128</span>, <span style=\"color: #00af00; text-decoration-color: #00af00\">128</span>, <span style=\"color: #00af00; text-decoration-color: #00af00\">1</span>)    │           <span style=\"color: #00af00; text-decoration-color: #00af00\">289</span> │\n",
       "└─────────────────────────────────┴────────────────────────┴───────────────┘\n",
       "</pre>\n"
      ],
      "text/plain": [
       "┏━━━━━━━━━━━━━━━━━━━━━━━━━━━━━━━━━┳━━━━━━━━━━━━━━━━━━━━━━━━┳━━━━━━━━━━━━━━━┓\n",
       "┃\u001b[1m \u001b[0m\u001b[1mLayer (type)                   \u001b[0m\u001b[1m \u001b[0m┃\u001b[1m \u001b[0m\u001b[1mOutput Shape          \u001b[0m\u001b[1m \u001b[0m┃\u001b[1m \u001b[0m\u001b[1m      Param #\u001b[0m\u001b[1m \u001b[0m┃\n",
       "┡━━━━━━━━━━━━━━━━━━━━━━━━━━━━━━━━━╇━━━━━━━━━━━━━━━━━━━━━━━━╇━━━━━━━━━━━━━━━┩\n",
       "│ input_layer (\u001b[38;5;33mInputLayer\u001b[0m)        │ (\u001b[38;5;45mNone\u001b[0m, \u001b[38;5;34m128\u001b[0m, \u001b[38;5;34m128\u001b[0m, \u001b[38;5;34m1\u001b[0m)    │             \u001b[38;5;34m0\u001b[0m │\n",
       "├─────────────────────────────────┼────────────────────────┼───────────────┤\n",
       "│ conv2d_105 (\u001b[38;5;33mConv2D\u001b[0m)             │ (\u001b[38;5;45mNone\u001b[0m, \u001b[38;5;34m128\u001b[0m, \u001b[38;5;34m128\u001b[0m, \u001b[38;5;34m32\u001b[0m)   │           \u001b[38;5;34m320\u001b[0m │\n",
       "├─────────────────────────────────┼────────────────────────┼───────────────┤\n",
       "│ max_pooling2d_42 (\u001b[38;5;33mMaxPooling2D\u001b[0m) │ (\u001b[38;5;45mNone\u001b[0m, \u001b[38;5;34m64\u001b[0m, \u001b[38;5;34m64\u001b[0m, \u001b[38;5;34m32\u001b[0m)     │             \u001b[38;5;34m0\u001b[0m │\n",
       "├─────────────────────────────────┼────────────────────────┼───────────────┤\n",
       "│ conv2d_106 (\u001b[38;5;33mConv2D\u001b[0m)             │ (\u001b[38;5;45mNone\u001b[0m, \u001b[38;5;34m64\u001b[0m, \u001b[38;5;34m64\u001b[0m, \u001b[38;5;34m16\u001b[0m)     │         \u001b[38;5;34m4,624\u001b[0m │\n",
       "├─────────────────────────────────┼────────────────────────┼───────────────┤\n",
       "│ max_pooling2d_43 (\u001b[38;5;33mMaxPooling2D\u001b[0m) │ (\u001b[38;5;45mNone\u001b[0m, \u001b[38;5;34m32\u001b[0m, \u001b[38;5;34m32\u001b[0m, \u001b[38;5;34m16\u001b[0m)     │             \u001b[38;5;34m0\u001b[0m │\n",
       "├─────────────────────────────────┼────────────────────────┼───────────────┤\n",
       "│ conv2d_107 (\u001b[38;5;33mConv2D\u001b[0m)             │ (\u001b[38;5;45mNone\u001b[0m, \u001b[38;5;34m32\u001b[0m, \u001b[38;5;34m32\u001b[0m, \u001b[38;5;34m16\u001b[0m)     │         \u001b[38;5;34m2,320\u001b[0m │\n",
       "├─────────────────────────────────┼────────────────────────┼───────────────┤\n",
       "│ up_sampling2d_42 (\u001b[38;5;33mUpSampling2D\u001b[0m) │ (\u001b[38;5;45mNone\u001b[0m, \u001b[38;5;34m64\u001b[0m, \u001b[38;5;34m64\u001b[0m, \u001b[38;5;34m16\u001b[0m)     │             \u001b[38;5;34m0\u001b[0m │\n",
       "├─────────────────────────────────┼────────────────────────┼───────────────┤\n",
       "│ conv2d_108 (\u001b[38;5;33mConv2D\u001b[0m)             │ (\u001b[38;5;45mNone\u001b[0m, \u001b[38;5;34m64\u001b[0m, \u001b[38;5;34m64\u001b[0m, \u001b[38;5;34m32\u001b[0m)     │         \u001b[38;5;34m4,640\u001b[0m │\n",
       "├─────────────────────────────────┼────────────────────────┼───────────────┤\n",
       "│ up_sampling2d_43 (\u001b[38;5;33mUpSampling2D\u001b[0m) │ (\u001b[38;5;45mNone\u001b[0m, \u001b[38;5;34m128\u001b[0m, \u001b[38;5;34m128\u001b[0m, \u001b[38;5;34m32\u001b[0m)   │             \u001b[38;5;34m0\u001b[0m │\n",
       "├─────────────────────────────────┼────────────────────────┼───────────────┤\n",
       "│ conv2d_109 (\u001b[38;5;33mConv2D\u001b[0m)             │ (\u001b[38;5;45mNone\u001b[0m, \u001b[38;5;34m128\u001b[0m, \u001b[38;5;34m128\u001b[0m, \u001b[38;5;34m1\u001b[0m)    │           \u001b[38;5;34m289\u001b[0m │\n",
       "└─────────────────────────────────┴────────────────────────┴───────────────┘\n"
      ]
     },
     "metadata": {},
     "output_type": "display_data"
    },
    {
     "data": {
      "text/html": [
       "<pre style=\"white-space:pre;overflow-x:auto;line-height:normal;font-family:Menlo,'DejaVu Sans Mono',consolas,'Courier New',monospace\"><span style=\"font-weight: bold\"> Total params: </span><span style=\"color: #00af00; text-decoration-color: #00af00\">12,193</span> (47.63 KB)\n",
       "</pre>\n"
      ],
      "text/plain": [
       "\u001b[1m Total params: \u001b[0m\u001b[38;5;34m12,193\u001b[0m (47.63 KB)\n"
      ]
     },
     "metadata": {},
     "output_type": "display_data"
    },
    {
     "data": {
      "text/html": [
       "<pre style=\"white-space:pre;overflow-x:auto;line-height:normal;font-family:Menlo,'DejaVu Sans Mono',consolas,'Courier New',monospace\"><span style=\"font-weight: bold\"> Trainable params: </span><span style=\"color: #00af00; text-decoration-color: #00af00\">12,193</span> (47.63 KB)\n",
       "</pre>\n"
      ],
      "text/plain": [
       "\u001b[1m Trainable params: \u001b[0m\u001b[38;5;34m12,193\u001b[0m (47.63 KB)\n"
      ]
     },
     "metadata": {},
     "output_type": "display_data"
    },
    {
     "data": {
      "text/html": [
       "<pre style=\"white-space:pre;overflow-x:auto;line-height:normal;font-family:Menlo,'DejaVu Sans Mono',consolas,'Courier New',monospace\"><span style=\"font-weight: bold\"> Non-trainable params: </span><span style=\"color: #00af00; text-decoration-color: #00af00\">0</span> (0.00 B)\n",
       "</pre>\n"
      ],
      "text/plain": [
       "\u001b[1m Non-trainable params: \u001b[0m\u001b[38;5;34m0\u001b[0m (0.00 B)\n"
      ]
     },
     "metadata": {},
     "output_type": "display_data"
    },
    {
     "name": "stdout",
     "output_type": "stream",
     "text": [
      "Epoch 1/20\n",
      "\u001b[1m9/9\u001b[0m \u001b[32m━━━━━━━━━━━━━━━━━━━━\u001b[0m\u001b[37m\u001b[0m \u001b[1m0s\u001b[0m 123ms/step - loss: 0.1652\n",
      "Epoch 1: val_loss improved from inf to 0.12737, saving model to anomaly_detection_results\\visa\\pipe_fryum\\pipe_fryum_visa_best_model.keras\n",
      "\u001b[1m9/9\u001b[0m \u001b[32m━━━━━━━━━━━━━━━━━━━━\u001b[0m\u001b[37m\u001b[0m \u001b[1m3s\u001b[0m 179ms/step - loss: 0.1644 - val_loss: 0.1274\n",
      "Epoch 2/20\n",
      "\u001b[1m9/9\u001b[0m \u001b[32m━━━━━━━━━━━━━━━━━━━━\u001b[0m\u001b[37m\u001b[0m \u001b[1m0s\u001b[0m 125ms/step - loss: 0.1043\n",
      "Epoch 2: val_loss improved from 0.12737 to 0.03796, saving model to anomaly_detection_results\\visa\\pipe_fryum\\pipe_fryum_visa_best_model.keras\n",
      "\u001b[1m9/9\u001b[0m \u001b[32m━━━━━━━━━━━━━━━━━━━━\u001b[0m\u001b[37m\u001b[0m \u001b[1m1s\u001b[0m 153ms/step - loss: 0.1021 - val_loss: 0.0380\n",
      "Epoch 3/20\n",
      "\u001b[1m9/9\u001b[0m \u001b[32m━━━━━━━━━━━━━━━━━━━━\u001b[0m\u001b[37m\u001b[0m \u001b[1m0s\u001b[0m 127ms/step - loss: 0.0383\n",
      "Epoch 3: val_loss did not improve from 0.03796\n",
      "\u001b[1m9/9\u001b[0m \u001b[32m━━━━━━━━━━━━━━━━━━━━\u001b[0m\u001b[37m\u001b[0m \u001b[1m1s\u001b[0m 149ms/step - loss: 0.0383 - val_loss: 0.0389\n",
      "Epoch 4/20\n",
      "\u001b[1m9/9\u001b[0m \u001b[32m━━━━━━━━━━━━━━━━━━━━\u001b[0m\u001b[37m\u001b[0m \u001b[1m0s\u001b[0m 128ms/step - loss: 0.0390\n",
      "Epoch 4: val_loss did not improve from 0.03796\n",
      "\u001b[1m9/9\u001b[0m \u001b[32m━━━━━━━━━━━━━━━━━━━━\u001b[0m\u001b[37m\u001b[0m \u001b[1m1s\u001b[0m 150ms/step - loss: 0.0390 - val_loss: 0.0390\n",
      "Epoch 5/20\n",
      "\u001b[1m9/9\u001b[0m \u001b[32m━━━━━━━━━━━━━━━━━━━━\u001b[0m\u001b[37m\u001b[0m \u001b[1m0s\u001b[0m 128ms/step - loss: 0.0393\n",
      "Epoch 5: val_loss did not improve from 0.03796\n",
      "\u001b[1m9/9\u001b[0m \u001b[32m━━━━━━━━━━━━━━━━━━━━\u001b[0m\u001b[37m\u001b[0m \u001b[1m1s\u001b[0m 149ms/step - loss: 0.0392 - val_loss: 0.0390\n",
      "Epoch 6/20\n",
      "\u001b[1m9/9\u001b[0m \u001b[32m━━━━━━━━━━━━━━━━━━━━\u001b[0m\u001b[37m\u001b[0m \u001b[1m0s\u001b[0m 134ms/step - loss: 0.0389\n",
      "Epoch 6: val_loss did not improve from 0.03796\n",
      "\u001b[1m9/9\u001b[0m \u001b[32m━━━━━━━━━━━━━━━━━━━━\u001b[0m\u001b[37m\u001b[0m \u001b[1m1s\u001b[0m 155ms/step - loss: 0.0389 - val_loss: 0.0390\n",
      "Epoch 7/20\n",
      "\u001b[1m9/9\u001b[0m \u001b[32m━━━━━━━━━━━━━━━━━━━━\u001b[0m\u001b[37m\u001b[0m \u001b[1m0s\u001b[0m 128ms/step - loss: 0.0392\n",
      "Epoch 7: val_loss did not improve from 0.03796\n",
      "\u001b[1m9/9\u001b[0m \u001b[32m━━━━━━━━━━━━━━━━━━━━\u001b[0m\u001b[37m\u001b[0m \u001b[1m1s\u001b[0m 150ms/step - loss: 0.0392 - val_loss: 0.0390\n",
      "Eğitim tamamlandı. Süre: 10.91 saniye\n",
      "En iyi model yüklendi: anomaly_detection_results\\visa\\pipe_fryum\\pipe_fryum_visa_best_model.keras\n",
      "Eğitim geçmişi grafiği kaydedildi: anomaly_detection_results\\visa\\pipe_fryum\\pipe_fryum_visa_training_history.png\n",
      "Rekonstrüksiyon başlatılıyor...\n",
      "\u001b[1m8/8\u001b[0m \u001b[32m━━━━━━━━━━━━━━━━━━━━\u001b[0m\u001b[37m\u001b[0m \u001b[1m1s\u001b[0m 78ms/step\n",
      "Anomali eşik değeri (95. yüzdelik): 0.046937\n",
      "Doğruluk (Accuracy): 0.6280\n",
      "Hassasiyet (Precision): 0.7692\n",
      "Duyarlılık (Recall): 0.1000\n",
      "F1 Skoru: 0.1770\n",
      "ROC AUC: 0.4062\n",
      "\n",
      "pipe_fryum (visa) için analiz sonuçları görselleştiriliyor...\n",
      "Rekonstrüksiyon sonuçları kaydedildi: anomaly_detection_results\\visa\\pipe_fryum\\pipe_fryum_visa_reconstruction_results.png\n",
      "Normal örnekler MSE - Min: 0.027360, Max: 0.049065, Ortalama: 0.038147\n",
      "Anomali örnekler MSE - Min: 0.027337, Max: 0.087505, Ortalama: 0.038515\n",
      "MSE karşılaştırma histogramı kaydedildi: anomaly_detection_results\\visa\\pipe_fryum\\pipe_fryum_visa_mse_comparison_histogram.png\n",
      "ROC eğrisi kaydedildi: anomaly_detection_results\\visa\\pipe_fryum\\pipe_fryum_visa_roc_curve.png\n",
      "Karışıklık matrisi kaydedildi: anomaly_detection_results\\visa\\pipe_fryum\\pipe_fryum_visa_confusion_matrix.png\n",
      "anomaly kusur tipi detaylı analizi kaydedildi: anomaly_detection_results\\visa\\pipe_fryum\\pipe_fryum_visa_anomaly_detailed_analysis.png\n",
      "Kusur tipi metrikleri kaydedildi: anomaly_detection_results\\visa\\pipe_fryum\\pipe_fryum_visa_defect_type_metrics.png\n",
      "Kusur tipine göre MSE dağılımı kaydedildi: anomaly_detection_results\\visa\\pipe_fryum\\pipe_fryum_visa_defect_type_mse_distribution.png\n",
      "Sonuçlar başarıyla kaydedildi: anomaly_detection_results\\visa\\pipe_fryum\n",
      "VisA: pipe_fryum kategorisi başarıyla işlendi.\n",
      "\n",
      "Tüm kategorilerin karşılaştırmalı analizi yapılıyor...\n",
      "Performans karşılaştırması kaydedildi: anomaly_detection_results\\all_categories_performance_comparison.png\n",
      "Performans karşılaştırması kaydedildi: anomaly_detection_results\\mvtec_performance_comparison.png\n",
      "Performans karşılaştırması kaydedildi: anomaly_detection_results\\visa_performance_comparison.png\n",
      "Tüm sonuçlar CSV dosyasına kaydedildi: anomaly_detection_results\\all_results.csv\n",
      "\n",
      "Tüm işlemler tamamlandı. Sonuçları kontrol ediniz.\n"
     ]
    }
   ],
   "source": [
    "def main():\n",
    "    \"\"\"Ana program fonksiyonu\"\"\"\n",
    "    # Sonuçlar dizini\n",
    "    os.makedirs(RESULTS_DIR, exist_ok=True)\n",
    "    print(f\"Sonuçlar '{RESULTS_DIR}' dizinine kaydedilecek.\")\n",
    "    \n",
    "    # İşlenecek kategorileri belirle\n",
    "    all_results = []\n",
    "    \n",
    "    # MVTec veri seti kategorileri\n",
    "    if USE_MVTEC:\n",
    "        print(\"\\n=== MVTec Veri Seti İşleniyor ===\")\n",
    "        mvtec_out_dir = os.path.join(RESULTS_DIR, \"mvtec\")\n",
    "        os.makedirs(mvtec_out_dir, exist_ok=True)\n",
    "        \n",
    "        for category in MVTEC_CATEGORIES:\n",
    "            try:\n",
    "                results = process_category(category, data_dir=MVTEC_DIR, output_dir=RESULTS_DIR, dataset_type=\"mvtec\")\n",
    "                if results:\n",
    "                    all_results.append(results)\n",
    "                    print(f\"MVTec: {category} kategorisi başarıyla işlendi.\")\n",
    "                else:\n",
    "                    print(f\"MVTec: {category} kategorisi işleme başarısız.\")\n",
    "            except Exception as e:\n",
    "                print(f\"HATA: MVTec {category} kategorisi işlenirken bir hata oluştu: {e}\")\n",
    "    \n",
    "    # VisA veri seti kategorileri\n",
    "    if USE_VISA:\n",
    "        print(\"\\n=== VisA Veri Seti İşleniyor ===\")\n",
    "        visa_out_dir = os.path.join(RESULTS_DIR, \"visa\")\n",
    "        os.makedirs(visa_out_dir, exist_ok=True)\n",
    "        \n",
    "        for category in VISA_CATEGORIES:\n",
    "            try:\n",
    "                results = process_category(category, data_dir=VISA_DIR, output_dir=RESULTS_DIR, dataset_type=\"visa\")\n",
    "                if results:\n",
    "                    all_results.append(results)\n",
    "                    print(f\"VisA: {category} kategorisi başarıyla işlendi.\")\n",
    "                else:\n",
    "                    print(f\"VisA: {category} kategorisi işleme başarısız.\")\n",
    "            except Exception as e:\n",
    "                print(f\"HATA: VisA {category} kategorisi işlenirken bir hata oluştu: {e}\")\n",
    "    \n",
    "    # Tüm kategorilerin performansını karşılaştır\n",
    "    if all_results:\n",
    "        print(\"\\nTüm kategorilerin karşılaştırmalı analizi yapılıyor...\")\n",
    "        try:\n",
    "            # Tüm sonuçları birlikte karşılaştır\n",
    "            visualize_all_categories_comparison(all_results)\n",
    "            \n",
    "            # MVTec ve VisA sonuçlarını ayrı ayrı karşılaştır\n",
    "            mvtec_results = [r for r in all_results if r.get('dataset_type') == 'mvtec']\n",
    "            visa_results = [r for r in all_results if r.get('dataset_type') == 'visa']\n",
    "            \n",
    "            if mvtec_results and len(mvtec_results) > 1:\n",
    "                visualize_all_categories_comparison(\n",
    "                    mvtec_results, \n",
    "                    output_path=os.path.join(RESULTS_DIR, 'mvtec_performance_comparison.png'),\n",
    "                    title='MVTec Kategorileri Performans Karşılaştırması'\n",
    "                )\n",
    "            \n",
    "            if visa_results and len(visa_results) > 1:\n",
    "                visualize_all_categories_comparison(\n",
    "                    visa_results, \n",
    "                    output_path=os.path.join(RESULTS_DIR, 'visa_performance_comparison.png'),\n",
    "                    title='VisA Kategorileri Performans Karşılaştırması'\n",
    "                )\n",
    "            \n",
    "            # Sonuçları bir CSV dosyasına kaydet\n",
    "            import csv\n",
    "            csv_path = os.path.join(RESULTS_DIR, \"all_results.csv\")\n",
    "            with open(csv_path, \"w\", newline='') as csvfile:\n",
    "                fieldnames = ['category', 'dataset_type', 'accuracy', 'precision', 'recall', 'f1', 'roc_auc', \n",
    "                              'normal_count', 'anomaly_count', 'training_time']\n",
    "                writer = csv.DictWriter(csvfile, fieldnames=fieldnames)\n",
    "                \n",
    "                writer.writeheader()\n",
    "                for result in all_results:\n",
    "                    writer.writerow({k: result[k] for k in fieldnames if k in result})\n",
    "            \n",
    "            print(f\"Tüm sonuçlar CSV dosyasına kaydedildi: {csv_path}\")\n",
    "        except Exception as e:\n",
    "            print(f\"UYARI: Karşılaştırmalı analiz sırasında hata oluştu: {e}\")\n",
    "    else:\n",
    "        print(\"UYARI: Hiç sonuç üretilemedi, karşılaştırmalı analiz yapılamadı.\")\n",
    "    \n",
    "    print(\"\\nTüm işlemler tamamlandı. Sonuçları kontrol ediniz.\")\n",
    "\n",
    "\n",
    "if __name__ == \"__main__\":\n",
    "    main()"
   ]
  },
  {
   "cell_type": "code",
   "execution_count": null,
   "id": "bbf951b6-cf81-44b5-8710-f62b6f860713",
   "metadata": {},
   "outputs": [],
   "source": []
  }
 ],
 "metadata": {
  "kernelspec": {
   "display_name": "Python 3 (ipykernel)",
   "language": "python",
   "name": "python3"
  },
  "language_info": {
   "codemirror_mode": {
    "name": "ipython",
    "version": 3
   },
   "file_extension": ".py",
   "mimetype": "text/x-python",
   "name": "python",
   "nbconvert_exporter": "python",
   "pygments_lexer": "ipython3",
   "version": "3.12.7"
  }
 },
 "nbformat": 4,
 "nbformat_minor": 5
}
